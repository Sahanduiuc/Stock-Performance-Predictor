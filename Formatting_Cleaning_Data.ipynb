{
 "cells": [
  {
   "cell_type": "markdown",
   "metadata": {},
   "source": [
    "# Formatting/Cleaning the Data"
   ]
  },
  {
   "cell_type": "markdown",
   "metadata": {},
   "source": [
    "## Importing the Necessary Libraries"
   ]
  },
  {
   "cell_type": "code",
   "execution_count": 516,
   "metadata": {},
   "outputs": [],
   "source": [
    "import pandas as pd\n",
    "pd.set_option('display.max_rows', 200)\n",
    "pd.set_option('display.max_columns', 70)\n",
    "import numpy as np\n",
    "from tqdm import tqdm_notebook as tqdm\n",
    "import _pickle as pickle"
   ]
  },
  {
   "cell_type": "code",
   "execution_count": 508,
   "metadata": {},
   "outputs": [],
   "source": [
    "with open(\"stocks_df.pickle\",'rb') as fp:\n",
    "    stocks_df = pickle.load(fp)"
   ]
  },
  {
   "cell_type": "markdown",
   "metadata": {},
   "source": [
    "## Setting the index as a date for each DataFrame"
   ]
  },
  {
   "cell_type": "code",
   "execution_count": 509,
   "metadata": {},
   "outputs": [],
   "source": [
    "def setting_index(df):\n",
    "    df['Quarter end'] = pd.to_datetime(df['Quarter end'])\n",
    "    df.set_index(\"Quarter end\", inplace=True)\n",
    "    return df"
   ]
  },
  {
   "cell_type": "code",
   "execution_count": 510,
   "metadata": {},
   "outputs": [],
   "source": [
    "for i in stocks_df.keys():\n",
    "    stocks_df[i] = setting_index(stocks_df[i])"
   ]
  },
  {
   "cell_type": "markdown",
   "metadata": {},
   "source": [
    "### Replacing \"None\" values"
   ]
  },
  {
   "cell_type": "code",
   "execution_count": 511,
   "metadata": {},
   "outputs": [
    {
     "data": {
      "application/vnd.jupyter.widget-view+json": {
       "model_id": "b1fb080f83b045b8b667742cc0782c6f",
       "version_major": 2,
       "version_minor": 0
      },
      "text/plain": [
       "HBox(children=(IntProgress(value=0, max=756), HTML(value='')))"
      ]
     },
     "metadata": {},
     "output_type": "display_data"
    }
   ],
   "source": [
    "for i in tqdm(stocks_df.keys()):\n",
    "    stocks_df[i].replace(\"None\", np.nan, inplace=True)"
   ]
  },
  {
   "cell_type": "markdown",
   "metadata": {},
   "source": [
    "## Filtering the Data"
   ]
  },
  {
   "cell_type": "markdown",
   "metadata": {},
   "source": [
    "### Dropping columns only containing NaN values"
   ]
  },
  {
   "cell_type": "code",
   "execution_count": 512,
   "metadata": {},
   "outputs": [
    {
     "data": {
      "application/vnd.jupyter.widget-view+json": {
       "model_id": "62c7262945bd484a9a9dfe439ede6bfd",
       "version_major": 2,
       "version_minor": 0
      },
      "text/plain": [
       "HBox(children=(IntProgress(value=0, max=756), HTML(value='')))"
      ]
     },
     "metadata": {},
     "output_type": "display_data"
    }
   ],
   "source": [
    "for i in tqdm(stocks_df.keys()):\n",
    "    stocks_df[i].dropna(axis=1, how='all', inplace=True)\n"
   ]
  },
  {
   "cell_type": "markdown",
   "metadata": {},
   "source": [
    "### Removing DataFrames from the dictionary with less than 100 rows\n",
    "Also, removed those containing more than 30 NaN values in any of their columns"
   ]
  },
  {
   "cell_type": "code",
   "execution_count": 513,
   "metadata": {},
   "outputs": [
    {
     "name": "stdout",
     "output_type": "stream",
     "text": [
      "Remaining stock DataFrames in the dictionary:  235\n"
     ]
    }
   ],
   "source": [
    "rem = []\n",
    "for i in stocks_df.keys():\n",
    "    if len(stocks_df[i]) < 100:\n",
    "        rem.append(i)\n",
    "        \n",
    "for i in rem:\n",
    "    del stocks_df[i]\n",
    "    \n",
    "print(\"Remaining stock DataFrames in the dictionary: \", len(stocks_df))"
   ]
  },
  {
   "cell_type": "code",
   "execution_count": 514,
   "metadata": {
    "scrolled": false
   },
   "outputs": [
    {
     "data": {
      "application/vnd.jupyter.widget-view+json": {
       "model_id": "0ce7300252464465b28dfd54559bdd7c",
       "version_major": 2,
       "version_minor": 0
      },
      "text/plain": [
       "HBox(children=(IntProgress(value=0, max=235), HTML(value='')))"
      ]
     },
     "metadata": {},
     "output_type": "display_data"
    },
    {
     "name": "stdout",
     "output_type": "stream",
     "text": [
      "Remaining stock DataFrames in the dictionary:  201\n"
     ]
    }
   ],
   "source": [
    "rem = []\n",
    "\n",
    "for i in tqdm(stocks_df.keys()):\n",
    "    # Iterating through the columns to check the total of NaN values\n",
    "    for c in stocks_df[i].columns:\n",
    "        nan = stocks_df[i][c].isna().sum()\n",
    "        if nan > 30 and i not in rem:\n",
    "            rem.append(i)\n",
    "            \n",
    "for i in rem:\n",
    "    del stocks_df[i]\n",
    "\n",
    "print(\"Remaining stock DataFrames in the dictionary: \", len(stocks_df))"
   ]
  },
  {
   "cell_type": "markdown",
   "metadata": {},
   "source": [
    "After filtering out the stocks and dataframes to our specifications, we are left with 201 usable stocks."
   ]
  },
  {
   "cell_type": "markdown",
   "metadata": {},
   "source": [
    "### Converting all values to numerical values"
   ]
  },
  {
   "cell_type": "code",
   "execution_count": 518,
   "metadata": {},
   "outputs": [
    {
     "data": {
      "application/vnd.jupyter.widget-view+json": {
       "model_id": "99ca496145214657ab8d2e33ed4df589",
       "version_major": 2,
       "version_minor": 0
      },
      "text/plain": [
       "HBox(children=(IntProgress(value=0, max=201), HTML(value='')))"
      ]
     },
     "metadata": {},
     "output_type": "display_data"
    }
   ],
   "source": [
    "for i in tqdm(stocks_df.keys()):\n",
    "    cols = stocks_df[i].columns\n",
    "    for c in cols:\n",
    "        stocks_df[i][c] = pd.to_numeric(stocks_df[i][c])"
   ]
  },
  {
   "cell_type": "markdown",
   "metadata": {},
   "source": [
    "### Filling the NaN values with the averages in each of their respective columns"
   ]
  },
  {
   "cell_type": "code",
   "execution_count": 519,
   "metadata": {},
   "outputs": [
    {
     "data": {
      "application/vnd.jupyter.widget-view+json": {
       "model_id": "1141645b95bc46228fe03ddc78401fb3",
       "version_major": 2,
       "version_minor": 0
      },
      "text/plain": [
       "HBox(children=(IntProgress(value=0, max=201), HTML(value='')))"
      ]
     },
     "metadata": {},
     "output_type": "display_data"
    }
   ],
   "source": [
    "for i in tqdm(stocks_df.keys()):\n",
    "    stocks_df[i].fillna(stocks_df[i].mean(), inplace=True)"
   ]
  },
  {
   "cell_type": "markdown",
   "metadata": {},
   "source": [
    "### Dropping columns with a total sum of 0"
   ]
  },
  {
   "cell_type": "code",
   "execution_count": 521,
   "metadata": {},
   "outputs": [
    {
     "data": {
      "application/vnd.jupyter.widget-view+json": {
       "model_id": "622578aa15aa4a64adbb45fe748c69d7",
       "version_major": 2,
       "version_minor": 0
      },
      "text/plain": [
       "HBox(children=(IntProgress(value=0, max=201), HTML(value='')))"
      ]
     },
     "metadata": {},
     "output_type": "display_data"
    }
   ],
   "source": [
    "for i in tqdm(stocks_df.keys()):\n",
    "    cols = stocks_df[i].columns\n",
    "    for c in cols:\n",
    "        if stocks_df[i][c].sum() == 0:\n",
    "            stocks_df[i].drop(c, inplace=True, axis=1)"
   ]
  },
  {
   "cell_type": "markdown",
   "metadata": {},
   "source": [
    "## Creating a new DataFrame with usable data"
   ]
  },
  {
   "cell_type": "markdown",
   "metadata": {},
   "source": [
    "### Function returning whether or not the price will increase in the next quarter"
   ]
  },
  {
   "cell_type": "code",
   "execution_count": 522,
   "metadata": {},
   "outputs": [],
   "source": [
    "def price_increase(df, percent=1.00):\n",
    "    \"\"\"\n",
    "    Returns a boolean determining whether the price will increase in the next quarter\n",
    "    Optional: determining if the price increased by more than a specified percentage\n",
    "    \"\"\"\n",
    "    return (df.Price.shift(1)*percent) > df.Price"
   ]
  },
  {
   "cell_type": "markdown",
   "metadata": {},
   "source": [
    "### Finding the percent improvement from previous quarters to scale the data\n",
    "Also adding another column containing the boolean statement from the price_increase() function."
   ]
  },
  {
   "cell_type": "code",
   "execution_count": 523,
   "metadata": {},
   "outputs": [],
   "source": [
    "def percent_improvement(df, cols):\n",
    "    \"\"\"\n",
    "    Creates a new DataFrame, \n",
    "    then shows the percent change from the previous to the current quarter\n",
    "    \"\"\"\n",
    "    pcnt_df = pd.DataFrame(index=df.index)\n",
    "    \n",
    "    pcnt_df['price_will_increase?'] = price_increase(df)\n",
    "    \n",
    "    for col in cols:\n",
    "        if df[col].dtype != bool:\n",
    "            pcnt_df[col+\" %-increase\"] = (df[col] / df[col].shift(-1)) - 1\n",
    "    \n",
    "    return pcnt_df"
   ]
  },
  {
   "cell_type": "markdown",
   "metadata": {},
   "source": [
    "** Some NaNs may return due to a divide by zero."
   ]
  },
  {
   "cell_type": "code",
   "execution_count": 524,
   "metadata": {},
   "outputs": [
    {
     "data": {
      "application/vnd.jupyter.widget-view+json": {
       "model_id": "3f4f05aae5de46b6bf8ddea509445808",
       "version_major": 2,
       "version_minor": 0
      },
      "text/plain": [
       "HBox(children=(IntProgress(value=0, max=201), HTML(value='')))"
      ]
     },
     "metadata": {},
     "output_type": "display_data"
    }
   ],
   "source": [
    "# Creating a new dictionary to store our new percentage DataFrames\n",
    "pcnt_df = {}\n",
    "\n",
    "for i in tqdm(stocks_df.keys()):\n",
    "    pcnt_df[i] = percent_improvement(stocks_df[i], stocks_df[i].columns)"
   ]
  },
  {
   "cell_type": "markdown",
   "metadata": {},
   "source": [
    "### Excluding the first and last rows\n",
    "This is done because the last row has no data to compare percent improvements to and the first row does not have any data to show if the price will increase in the future."
   ]
  },
  {
   "cell_type": "code",
   "execution_count": 525,
   "metadata": {},
   "outputs": [
    {
     "data": {
      "application/vnd.jupyter.widget-view+json": {
       "model_id": "77ea2aefbf294fdc9c297a4358368bf0",
       "version_major": 2,
       "version_minor": 0
      },
      "text/plain": [
       "HBox(children=(IntProgress(value=0, max=201), HTML(value='')))"
      ]
     },
     "metadata": {},
     "output_type": "display_data"
    }
   ],
   "source": [
    "for i in tqdm(pcnt_df.keys()):\n",
    "    pcnt_df[i] = pcnt_df[i][1:-1]"
   ]
  },
  {
   "cell_type": "code",
   "execution_count": 506,
   "metadata": {},
   "outputs": [],
   "source": [
    "with open(\"percent_df.pickle\", 'wb') as fp:\n",
    "    pickle.dump(pcnt_df, fp)"
   ]
  },
  {
   "cell_type": "code",
   "execution_count": null,
   "metadata": {},
   "outputs": [],
   "source": []
  }
 ],
 "metadata": {
  "kernelspec": {
   "display_name": "Python 3",
   "language": "python",
   "name": "python3"
  },
  "language_info": {
   "codemirror_mode": {
    "name": "ipython",
    "version": 3
   },
   "file_extension": ".py",
   "mimetype": "text/x-python",
   "name": "python",
   "nbconvert_exporter": "python",
   "pygments_lexer": "ipython3",
   "version": "3.7.3"
  }
 },
 "nbformat": 4,
 "nbformat_minor": 2
}
