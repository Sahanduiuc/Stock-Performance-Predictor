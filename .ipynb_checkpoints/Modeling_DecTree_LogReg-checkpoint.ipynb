{
 "cells": [
  {
   "cell_type": "markdown",
   "metadata": {},
   "source": [
    "# Modeling: Decision Tree and Logistic Regression"
   ]
  },
  {
   "cell_type": "markdown",
   "metadata": {},
   "source": [
    "## Importing libraries"
   ]
  },
  {
   "cell_type": "code",
   "execution_count": 73,
   "metadata": {},
   "outputs": [],
   "source": [
    "import pandas as pd\n",
    "import numpy as np\n",
    "from sklearn.model_selection import train_test_split\n",
    "from sklearn.metrics import precision_score, recall_score, accuracy_score, f1_score, roc_curve, auc\n",
    "import matplotlib.pyplot as plt\n",
    "plt.style.use('ggplot')\n",
    "from tqdm import tqdm_notebook as tqdm\n",
    "import _pickle as pickle"
   ]
  },
  {
   "cell_type": "markdown",
   "metadata": {},
   "source": [
    "## Loading in the DataFrame"
   ]
  },
  {
   "cell_type": "code",
   "execution_count": 41,
   "metadata": {},
   "outputs": [],
   "source": [
    "with open(\"final_df.pickle\",'rb') as fp:\n",
    "    final_df = pickle.load(fp)"
   ]
  },
  {
   "cell_type": "markdown",
   "metadata": {},
   "source": [
    "## Preparing the Data"
   ]
  },
  {
   "cell_type": "code",
   "execution_count": 44,
   "metadata": {},
   "outputs": [],
   "source": [
    "# Assigning appropriate variables for modeling\n",
    "X = final_df.drop('price_will_increase?', axis=1)\n",
    "y = final_df['price_will_increase?']"
   ]
  },
  {
   "cell_type": "code",
   "execution_count": 45,
   "metadata": {},
   "outputs": [],
   "source": [
    "# Splitting the data 80/20\n",
    "X_train, X_test, y_train, y_test = train_test_split(X, y, test_size=0.2, random_state=10)"
   ]
  },
  {
   "cell_type": "markdown",
   "metadata": {},
   "source": [
    "### Function to measure each model's success"
   ]
  },
  {
   "cell_type": "code",
   "execution_count": 76,
   "metadata": {},
   "outputs": [],
   "source": [
    "def print_metrics(test, preds):\n",
    "    print(\"Precision Score: {}\".format(precision_score(test, preds)))\n",
    "    print(\"Recall Score: {}\".format(recall_score(test, preds)))\n",
    "    print(\"Accuracy Score: {}\".format(accuracy_score(test, preds)))\n",
    "    print(\"F1 Score: {}\".format(f1_score(test, preds)))"
   ]
  },
  {
   "cell_type": "markdown",
   "metadata": {},
   "source": [
    "## Modeling - Decision Tree"
   ]
  },
  {
   "cell_type": "markdown",
   "metadata": {},
   "source": [
    "### Instantiating and fitting the Decision Tree model"
   ]
  },
  {
   "cell_type": "code",
   "execution_count": 85,
   "metadata": {},
   "outputs": [],
   "source": [
    "from sklearn.tree import DecisionTreeClassifier "
   ]
  },
  {
   "cell_type": "code",
   "execution_count": 86,
   "metadata": {},
   "outputs": [
    {
     "data": {
      "text/plain": [
       "DecisionTreeClassifier(class_weight=None, criterion='gini', max_depth=None,\n",
       "            max_features=None, max_leaf_nodes=None,\n",
       "            min_impurity_decrease=0.0, min_impurity_split=None,\n",
       "            min_samples_leaf=1, min_samples_split=2,\n",
       "            min_weight_fraction_leaf=0.0, presort=False, random_state=10,\n",
       "            splitter='best')"
      ]
     },
     "execution_count": 86,
     "metadata": {},
     "output_type": "execute_result"
    }
   ],
   "source": [
    "classifier = DecisionTreeClassifier(random_state=10)\n",
    "classifier.fit(X_train, y_train)"
   ]
  },
  {
   "cell_type": "markdown",
   "metadata": {},
   "source": [
    "### Results from the Decision Tree model"
   ]
  },
  {
   "cell_type": "code",
   "execution_count": 88,
   "metadata": {},
   "outputs": [
    {
     "name": "stdout",
     "output_type": "stream",
     "text": [
      "Precision Score: 0.5918367346938775\n",
      "Recall Score: 0.5576923076923077\n",
      "Accuracy Score: 0.568561872909699\n",
      "F1 Score: 0.5742574257425743\n"
     ]
    }
   ],
   "source": [
    "# Predictions\n",
    "y_pred = classifier.predict(X_test)\n",
    "\n",
    "print_metrics(y_test, y_pred)"
   ]
  },
  {
   "cell_type": "code",
   "execution_count": 89,
   "metadata": {},
   "outputs": [
    {
     "name": "stdout",
     "output_type": "stream",
     "text": [
      "AUC: 0.5691\n"
     ]
    }
   ],
   "source": [
    "# Area under the curve\n",
    "false_positive_rate, true_positive_rate, thresholds = roc_curve(y_test, y_pred)\n",
    "roc_auc = auc(false_positive_rate, true_positive_rate)\n",
    "print(\"AUC:\", round(roc_auc, 4))"
   ]
  },
  {
   "cell_type": "code",
   "execution_count": 90,
   "metadata": {},
   "outputs": [
    {
     "name": "stdout",
     "output_type": "stream",
     "text": [
      "Confusion Matrix \n",
      "-----------------\n"
     ]
    },
    {
     "data": {
      "text/html": [
       "<div>\n",
       "<style scoped>\n",
       "    .dataframe tbody tr th:only-of-type {\n",
       "        vertical-align: middle;\n",
       "    }\n",
       "\n",
       "    .dataframe tbody tr th {\n",
       "        vertical-align: top;\n",
       "    }\n",
       "\n",
       "    .dataframe thead th {\n",
       "        text-align: right;\n",
       "    }\n",
       "</style>\n",
       "<table border=\"1\" class=\"dataframe\">\n",
       "  <thead>\n",
       "    <tr style=\"text-align: right;\">\n",
       "      <th>Predicted</th>\n",
       "      <th>False</th>\n",
       "      <th>True</th>\n",
       "      <th>All</th>\n",
       "    </tr>\n",
       "    <tr>\n",
       "      <th>Actual</th>\n",
       "      <th></th>\n",
       "      <th></th>\n",
       "      <th></th>\n",
       "    </tr>\n",
       "  </thead>\n",
       "  <tbody>\n",
       "    <tr>\n",
       "      <th>False</th>\n",
       "      <td>166</td>\n",
       "      <td>120</td>\n",
       "      <td>286</td>\n",
       "    </tr>\n",
       "    <tr>\n",
       "      <th>True</th>\n",
       "      <td>138</td>\n",
       "      <td>174</td>\n",
       "      <td>312</td>\n",
       "    </tr>\n",
       "    <tr>\n",
       "      <th>All</th>\n",
       "      <td>304</td>\n",
       "      <td>294</td>\n",
       "      <td>598</td>\n",
       "    </tr>\n",
       "  </tbody>\n",
       "</table>\n",
       "</div>"
      ],
      "text/plain": [
       "Predicted  False  True  All\n",
       "Actual                     \n",
       "False        166   120  286\n",
       "True         138   174  312\n",
       "All          304   294  598"
      ]
     },
     "execution_count": 90,
     "metadata": {},
     "output_type": "execute_result"
    }
   ],
   "source": [
    "# Confusion Matrix\n",
    "print(\"Confusion Matrix \\n-----------------\")\n",
    "pd.crosstab(y_test, y_pred, rownames=['Actual'], colnames=['Predicted'], margins=True)"
   ]
  },
  {
   "cell_type": "markdown",
   "metadata": {},
   "source": [
    "### Improving Decision Tree with GridsearchCV"
   ]
  },
  {
   "cell_type": "code",
   "execution_count": 91,
   "metadata": {},
   "outputs": [],
   "source": [
    "from sklearn.model_selection import GridSearchCV, cross_val_score"
   ]
  },
  {
   "cell_type": "code",
   "execution_count": 92,
   "metadata": {},
   "outputs": [
    {
     "name": "stdout",
     "output_type": "stream",
     "text": [
      "Mean Cross Validation Score: 54.18703654322184\n"
     ]
    }
   ],
   "source": [
    "# Using Cross Validation\n",
    "dt_clf = DecisionTreeClassifier()\n",
    "dt_cv_score = cross_val_score(dt_clf, X, y, cv=3)\n",
    "mean_dt_cv_score = np.mean(dt_cv_score)\n",
    "\n",
    "print(\"Mean Cross Validation Score:\", mean_dt_cv_score*100)"
   ]
  },
  {
   "cell_type": "code",
   "execution_count": 93,
   "metadata": {},
   "outputs": [],
   "source": [
    "dt_param_grid = {'criterion': ['gini', 'entropy'],\n",
    "                 'max_depth': [None, 2, 3, 4, 5, 6],\n",
    "                 'min_samples_split': [2, 5, 10],\n",
    "                 'min_samples_leaf': [1,2,3,4,5,6]}"
   ]
  },
  {
   "cell_type": "markdown",
   "metadata": {},
   "source": [
    "#### Using GridSearchCV\n",
    "Finding the best parameters for the DecisionTree Model."
   ]
  },
  {
   "cell_type": "code",
   "execution_count": 94,
   "metadata": {
    "scrolled": true
   },
   "outputs": [
    {
     "name": "stdout",
     "output_type": "stream",
     "text": [
      "Fitting 3 folds for each of 216 candidates, totalling 648 fits\n",
      "[CV] criterion=gini, max_depth=None, min_samples_leaf=1, min_samples_split=2 \n",
      "[CV]  criterion=gini, max_depth=None, min_samples_leaf=1, min_samples_split=2, score=0.5532128514056225, total=   0.1s\n",
      "[CV] criterion=gini, max_depth=None, min_samples_leaf=1, min_samples_split=2 \n",
      "[CV]  criterion=gini, max_depth=None, min_samples_leaf=1, min_samples_split=2, score=0.5431726907630522, total=   0.1s\n",
      "[CV] criterion=gini, max_depth=None, min_samples_leaf=1, min_samples_split=2 \n"
     ]
    },
    {
     "name": "stderr",
     "output_type": "stream",
     "text": [
      "[Parallel(n_jobs=1)]: Using backend SequentialBackend with 1 concurrent workers.\n",
      "[Parallel(n_jobs=1)]: Done   1 out of   1 | elapsed:    0.1s remaining:    0.0s\n",
      "[Parallel(n_jobs=1)]: Done   2 out of   2 | elapsed:    0.2s remaining:    0.0s\n"
     ]
    },
    {
     "name": "stdout",
     "output_type": "stream",
     "text": [
      "[CV]  criterion=gini, max_depth=None, min_samples_leaf=1, min_samples_split=2, score=0.5513078470824949, total=   0.1s\n",
      "[CV] criterion=gini, max_depth=None, min_samples_leaf=1, min_samples_split=5 \n",
      "[CV]  criterion=gini, max_depth=None, min_samples_leaf=1, min_samples_split=5, score=0.5331325301204819, total=   0.1s\n",
      "[CV] criterion=gini, max_depth=None, min_samples_leaf=1, min_samples_split=5 \n",
      "[CV]  criterion=gini, max_depth=None, min_samples_leaf=1, min_samples_split=5, score=0.5321285140562249, total=   0.1s\n",
      "[CV] criterion=gini, max_depth=None, min_samples_leaf=1, min_samples_split=5 \n"
     ]
    },
    {
     "name": "stderr",
     "output_type": "stream",
     "text": [
      "[Parallel(n_jobs=1)]: Done   3 out of   3 | elapsed:    0.2s remaining:    0.0s\n",
      "[Parallel(n_jobs=1)]: Done   4 out of   4 | elapsed:    0.3s remaining:    0.0s\n"
     ]
    },
    {
     "name": "stdout",
     "output_type": "stream",
     "text": [
      "[CV]  criterion=gini, max_depth=None, min_samples_leaf=1, min_samples_split=5, score=0.5523138832997988, total=   0.1s\n",
      "[CV] criterion=gini, max_depth=None, min_samples_leaf=1, min_samples_split=10 \n",
      "[CV]  criterion=gini, max_depth=None, min_samples_leaf=1, min_samples_split=10, score=0.5441767068273092, total=   0.1s\n",
      "[CV] criterion=gini, max_depth=None, min_samples_leaf=1, min_samples_split=10 \n",
      "[CV]  criterion=gini, max_depth=None, min_samples_leaf=1, min_samples_split=10, score=0.5301204819277109, total=   0.1s\n",
      "[CV] criterion=gini, max_depth=None, min_samples_leaf=1, min_samples_split=10 \n",
      "[CV]  criterion=gini, max_depth=None, min_samples_leaf=1, min_samples_split=10, score=0.5422535211267606, total=   0.1s\n",
      "[CV] criterion=gini, max_depth=None, min_samples_leaf=2, min_samples_split=2 \n",
      "[CV]  criterion=gini, max_depth=None, min_samples_leaf=2, min_samples_split=2, score=0.5461847389558233, total=   0.1s\n",
      "[CV] criterion=gini, max_depth=None, min_samples_leaf=2, min_samples_split=2 \n",
      "[CV]  criterion=gini, max_depth=None, min_samples_leaf=2, min_samples_split=2, score=0.5371485943775101, total=   0.1s\n",
      "[CV] criterion=gini, max_depth=None, min_samples_leaf=2, min_samples_split=2 \n",
      "[CV]  criterion=gini, max_depth=None, min_samples_leaf=2, min_samples_split=2, score=0.5533199195171026, total=   0.1s\n",
      "[CV] criterion=gini, max_depth=None, min_samples_leaf=2, min_samples_split=5 \n",
      "[CV]  criterion=gini, max_depth=None, min_samples_leaf=2, min_samples_split=5, score=0.5491967871485943, total=   0.1s\n",
      "[CV] criterion=gini, max_depth=None, min_samples_leaf=2, min_samples_split=5 \n",
      "[CV]  criterion=gini, max_depth=None, min_samples_leaf=2, min_samples_split=5, score=0.5200803212851406, total=   0.1s\n",
      "[CV] criterion=gini, max_depth=None, min_samples_leaf=2, min_samples_split=5 \n",
      "[CV]  criterion=gini, max_depth=None, min_samples_leaf=2, min_samples_split=5, score=0.5482897384305835, total=   0.1s\n",
      "[CV] criterion=gini, max_depth=None, min_samples_leaf=2, min_samples_split=10 \n",
      "[CV]  criterion=gini, max_depth=None, min_samples_leaf=2, min_samples_split=10, score=0.5562248995983936, total=   0.1s\n",
      "[CV] criterion=gini, max_depth=None, min_samples_leaf=2, min_samples_split=10 \n",
      "[CV]  criterion=gini, max_depth=None, min_samples_leaf=2, min_samples_split=10, score=0.5301204819277109, total=   0.1s\n",
      "[CV] criterion=gini, max_depth=None, min_samples_leaf=2, min_samples_split=10 \n",
      "[CV]  criterion=gini, max_depth=None, min_samples_leaf=2, min_samples_split=10, score=0.5563380281690141, total=   0.1s\n",
      "[CV] criterion=gini, max_depth=None, min_samples_leaf=3, min_samples_split=2 \n",
      "[CV]  criterion=gini, max_depth=None, min_samples_leaf=3, min_samples_split=2, score=0.5532128514056225, total=   0.1s\n",
      "[CV] criterion=gini, max_depth=None, min_samples_leaf=3, min_samples_split=2 \n",
      "[CV]  criterion=gini, max_depth=None, min_samples_leaf=3, min_samples_split=2, score=0.5160642570281124, total=   0.1s\n",
      "[CV] criterion=gini, max_depth=None, min_samples_leaf=3, min_samples_split=2 \n",
      "[CV]  criterion=gini, max_depth=None, min_samples_leaf=3, min_samples_split=2, score=0.5663983903420523, total=   0.1s\n",
      "[CV] criterion=gini, max_depth=None, min_samples_leaf=3, min_samples_split=5 \n",
      "[CV]  criterion=gini, max_depth=None, min_samples_leaf=3, min_samples_split=5, score=0.5542168674698795, total=   0.1s\n",
      "[CV] criterion=gini, max_depth=None, min_samples_leaf=3, min_samples_split=5 \n",
      "[CV]  criterion=gini, max_depth=None, min_samples_leaf=3, min_samples_split=5, score=0.5120481927710844, total=   0.1s\n",
      "[CV] criterion=gini, max_depth=None, min_samples_leaf=3, min_samples_split=5 \n",
      "[CV]  criterion=gini, max_depth=None, min_samples_leaf=3, min_samples_split=5, score=0.5633802816901409, total=   0.1s\n",
      "[CV] criterion=gini, max_depth=None, min_samples_leaf=3, min_samples_split=10 \n",
      "[CV]  criterion=gini, max_depth=None, min_samples_leaf=3, min_samples_split=10, score=0.5562248995983936, total=   0.1s\n",
      "[CV] criterion=gini, max_depth=None, min_samples_leaf=3, min_samples_split=10 \n",
      "[CV]  criterion=gini, max_depth=None, min_samples_leaf=3, min_samples_split=10, score=0.5240963855421686, total=   0.1s\n",
      "[CV] criterion=gini, max_depth=None, min_samples_leaf=3, min_samples_split=10 \n",
      "[CV]  criterion=gini, max_depth=None, min_samples_leaf=3, min_samples_split=10, score=0.5613682092555332, total=   0.1s\n",
      "[CV] criterion=gini, max_depth=None, min_samples_leaf=4, min_samples_split=2 \n",
      "[CV]  criterion=gini, max_depth=None, min_samples_leaf=4, min_samples_split=2, score=0.5441767068273092, total=   0.1s\n",
      "[CV] criterion=gini, max_depth=None, min_samples_leaf=4, min_samples_split=2 \n",
      "[CV]  criterion=gini, max_depth=None, min_samples_leaf=4, min_samples_split=2, score=0.535140562248996, total=   0.1s\n",
      "[CV] criterion=gini, max_depth=None, min_samples_leaf=4, min_samples_split=2 \n",
      "[CV]  criterion=gini, max_depth=None, min_samples_leaf=4, min_samples_split=2, score=0.5503018108651911, total=   0.1s\n",
      "[CV] criterion=gini, max_depth=None, min_samples_leaf=4, min_samples_split=5 \n",
      "[CV]  criterion=gini, max_depth=None, min_samples_leaf=4, min_samples_split=5, score=0.5481927710843374, total=   0.1s\n",
      "[CV] criterion=gini, max_depth=None, min_samples_leaf=4, min_samples_split=5 \n",
      "[CV]  criterion=gini, max_depth=None, min_samples_leaf=4, min_samples_split=5, score=0.5291164658634538, total=   0.1s\n",
      "[CV] criterion=gini, max_depth=None, min_samples_leaf=4, min_samples_split=5 \n",
      "[CV]  criterion=gini, max_depth=None, min_samples_leaf=4, min_samples_split=5, score=0.5643863179074446, total=   0.1s\n",
      "[CV] criterion=gini, max_depth=None, min_samples_leaf=4, min_samples_split=10 \n",
      "[CV]  criterion=gini, max_depth=None, min_samples_leaf=4, min_samples_split=10, score=0.5512048192771084, total=   0.1s\n",
      "[CV] criterion=gini, max_depth=None, min_samples_leaf=4, min_samples_split=10 \n",
      "[CV]  criterion=gini, max_depth=None, min_samples_leaf=4, min_samples_split=10, score=0.5311244979919679, total=   0.1s\n",
      "[CV] criterion=gini, max_depth=None, min_samples_leaf=4, min_samples_split=10 \n",
      "[CV]  criterion=gini, max_depth=None, min_samples_leaf=4, min_samples_split=10, score=0.5553319919517102, total=   0.1s\n",
      "[CV] criterion=gini, max_depth=None, min_samples_leaf=5, min_samples_split=2 \n",
      "[CV]  criterion=gini, max_depth=None, min_samples_leaf=5, min_samples_split=2, score=0.5391566265060241, total=   0.1s\n",
      "[CV] criterion=gini, max_depth=None, min_samples_leaf=5, min_samples_split=2 \n",
      "[CV]  criterion=gini, max_depth=None, min_samples_leaf=5, min_samples_split=2, score=0.5230923694779116, total=   0.1s\n",
      "[CV] criterion=gini, max_depth=None, min_samples_leaf=5, min_samples_split=2 \n",
      "[CV]  criterion=gini, max_depth=None, min_samples_leaf=5, min_samples_split=2, score=0.5321931589537223, total=   0.1s\n",
      "[CV] criterion=gini, max_depth=None, min_samples_leaf=5, min_samples_split=5 \n",
      "[CV]  criterion=gini, max_depth=None, min_samples_leaf=5, min_samples_split=5, score=0.5271084337349398, total=   0.1s\n",
      "[CV] criterion=gini, max_depth=None, min_samples_leaf=5, min_samples_split=5 \n",
      "[CV]  criterion=gini, max_depth=None, min_samples_leaf=5, min_samples_split=5, score=0.5180722891566265, total=   0.1s\n",
      "[CV] criterion=gini, max_depth=None, min_samples_leaf=5, min_samples_split=5 \n",
      "[CV]  criterion=gini, max_depth=None, min_samples_leaf=5, min_samples_split=5, score=0.5352112676056338, total=   0.1s\n",
      "[CV] criterion=gini, max_depth=None, min_samples_leaf=5, min_samples_split=10 \n",
      "[CV]  criterion=gini, max_depth=None, min_samples_leaf=5, min_samples_split=10, score=0.5251004016064257, total=   0.1s\n",
      "[CV] criterion=gini, max_depth=None, min_samples_leaf=5, min_samples_split=10 \n",
      "[CV]  criterion=gini, max_depth=None, min_samples_leaf=5, min_samples_split=10, score=0.5261044176706827, total=   0.1s\n",
      "[CV] criterion=gini, max_depth=None, min_samples_leaf=5, min_samples_split=10 \n",
      "[CV]  criterion=gini, max_depth=None, min_samples_leaf=5, min_samples_split=10, score=0.5372233400402414, total=   0.1s\n",
      "[CV] criterion=gini, max_depth=None, min_samples_leaf=6, min_samples_split=2 \n",
      "[CV]  criterion=gini, max_depth=None, min_samples_leaf=6, min_samples_split=2, score=0.536144578313253, total=   0.1s\n",
      "[CV] criterion=gini, max_depth=None, min_samples_leaf=6, min_samples_split=2 \n",
      "[CV]  criterion=gini, max_depth=None, min_samples_leaf=6, min_samples_split=2, score=0.5230923694779116, total=   0.1s\n",
      "[CV] criterion=gini, max_depth=None, min_samples_leaf=6, min_samples_split=2 \n",
      "[CV]  criterion=gini, max_depth=None, min_samples_leaf=6, min_samples_split=2, score=0.5553319919517102, total=   0.1s\n",
      "[CV] criterion=gini, max_depth=None, min_samples_leaf=6, min_samples_split=5 \n"
     ]
    },
    {
     "name": "stdout",
     "output_type": "stream",
     "text": [
      "[CV]  criterion=gini, max_depth=None, min_samples_leaf=6, min_samples_split=5, score=0.5401606425702812, total=   0.1s\n",
      "[CV] criterion=gini, max_depth=None, min_samples_leaf=6, min_samples_split=5 \n",
      "[CV]  criterion=gini, max_depth=None, min_samples_leaf=6, min_samples_split=5, score=0.5381526104417671, total=   0.1s\n",
      "[CV] criterion=gini, max_depth=None, min_samples_leaf=6, min_samples_split=5 \n",
      "[CV]  criterion=gini, max_depth=None, min_samples_leaf=6, min_samples_split=5, score=0.5583501006036218, total=   0.1s\n",
      "[CV] criterion=gini, max_depth=None, min_samples_leaf=6, min_samples_split=10 \n",
      "[CV]  criterion=gini, max_depth=None, min_samples_leaf=6, min_samples_split=10, score=0.5411646586345381, total=   0.1s\n",
      "[CV] criterion=gini, max_depth=None, min_samples_leaf=6, min_samples_split=10 \n",
      "[CV]  criterion=gini, max_depth=None, min_samples_leaf=6, min_samples_split=10, score=0.5200803212851406, total=   0.1s\n",
      "[CV] criterion=gini, max_depth=None, min_samples_leaf=6, min_samples_split=10 \n",
      "[CV]  criterion=gini, max_depth=None, min_samples_leaf=6, min_samples_split=10, score=0.5593561368209256, total=   0.1s\n",
      "[CV] criterion=gini, max_depth=2, min_samples_leaf=1, min_samples_split=2 \n",
      "[CV]  criterion=gini, max_depth=2, min_samples_leaf=1, min_samples_split=2, score=0.5943775100401606, total=   0.0s\n",
      "[CV] criterion=gini, max_depth=2, min_samples_leaf=1, min_samples_split=2 \n",
      "[CV]  criterion=gini, max_depth=2, min_samples_leaf=1, min_samples_split=2, score=0.572289156626506, total=   0.0s\n",
      "[CV] criterion=gini, max_depth=2, min_samples_leaf=1, min_samples_split=2 \n",
      "[CV]  criterion=gini, max_depth=2, min_samples_leaf=1, min_samples_split=2, score=0.5734406438631791, total=   0.0s\n",
      "[CV] criterion=gini, max_depth=2, min_samples_leaf=1, min_samples_split=5 \n",
      "[CV]  criterion=gini, max_depth=2, min_samples_leaf=1, min_samples_split=5, score=0.5943775100401606, total=   0.0s\n",
      "[CV] criterion=gini, max_depth=2, min_samples_leaf=1, min_samples_split=5 \n",
      "[CV]  criterion=gini, max_depth=2, min_samples_leaf=1, min_samples_split=5, score=0.572289156626506, total=   0.0s\n",
      "[CV] criterion=gini, max_depth=2, min_samples_leaf=1, min_samples_split=5 \n",
      "[CV]  criterion=gini, max_depth=2, min_samples_leaf=1, min_samples_split=5, score=0.5734406438631791, total=   0.0s\n",
      "[CV] criterion=gini, max_depth=2, min_samples_leaf=1, min_samples_split=10 \n",
      "[CV]  criterion=gini, max_depth=2, min_samples_leaf=1, min_samples_split=10, score=0.5943775100401606, total=   0.0s\n",
      "[CV] criterion=gini, max_depth=2, min_samples_leaf=1, min_samples_split=10 \n",
      "[CV]  criterion=gini, max_depth=2, min_samples_leaf=1, min_samples_split=10, score=0.572289156626506, total=   0.0s\n",
      "[CV] criterion=gini, max_depth=2, min_samples_leaf=1, min_samples_split=10 \n",
      "[CV]  criterion=gini, max_depth=2, min_samples_leaf=1, min_samples_split=10, score=0.5734406438631791, total=   0.0s\n",
      "[CV] criterion=gini, max_depth=2, min_samples_leaf=2, min_samples_split=2 \n",
      "[CV]  criterion=gini, max_depth=2, min_samples_leaf=2, min_samples_split=2, score=0.5943775100401606, total=   0.0s\n",
      "[CV] criterion=gini, max_depth=2, min_samples_leaf=2, min_samples_split=2 \n",
      "[CV]  criterion=gini, max_depth=2, min_samples_leaf=2, min_samples_split=2, score=0.572289156626506, total=   0.0s\n",
      "[CV] criterion=gini, max_depth=2, min_samples_leaf=2, min_samples_split=2 \n",
      "[CV]  criterion=gini, max_depth=2, min_samples_leaf=2, min_samples_split=2, score=0.5734406438631791, total=   0.0s\n",
      "[CV] criterion=gini, max_depth=2, min_samples_leaf=2, min_samples_split=5 \n",
      "[CV]  criterion=gini, max_depth=2, min_samples_leaf=2, min_samples_split=5, score=0.5943775100401606, total=   0.0s\n",
      "[CV] criterion=gini, max_depth=2, min_samples_leaf=2, min_samples_split=5 \n",
      "[CV]  criterion=gini, max_depth=2, min_samples_leaf=2, min_samples_split=5, score=0.572289156626506, total=   0.0s\n",
      "[CV] criterion=gini, max_depth=2, min_samples_leaf=2, min_samples_split=5 \n",
      "[CV]  criterion=gini, max_depth=2, min_samples_leaf=2, min_samples_split=5, score=0.5734406438631791, total=   0.0s\n",
      "[CV] criterion=gini, max_depth=2, min_samples_leaf=2, min_samples_split=10 \n",
      "[CV]  criterion=gini, max_depth=2, min_samples_leaf=2, min_samples_split=10, score=0.5943775100401606, total=   0.0s\n",
      "[CV] criterion=gini, max_depth=2, min_samples_leaf=2, min_samples_split=10 \n",
      "[CV]  criterion=gini, max_depth=2, min_samples_leaf=2, min_samples_split=10, score=0.572289156626506, total=   0.0s\n",
      "[CV] criterion=gini, max_depth=2, min_samples_leaf=2, min_samples_split=10 \n",
      "[CV]  criterion=gini, max_depth=2, min_samples_leaf=2, min_samples_split=10, score=0.5734406438631791, total=   0.0s\n",
      "[CV] criterion=gini, max_depth=2, min_samples_leaf=3, min_samples_split=2 \n",
      "[CV]  criterion=gini, max_depth=2, min_samples_leaf=3, min_samples_split=2, score=0.5943775100401606, total=   0.0s\n",
      "[CV] criterion=gini, max_depth=2, min_samples_leaf=3, min_samples_split=2 \n",
      "[CV]  criterion=gini, max_depth=2, min_samples_leaf=3, min_samples_split=2, score=0.572289156626506, total=   0.0s\n",
      "[CV] criterion=gini, max_depth=2, min_samples_leaf=3, min_samples_split=2 \n",
      "[CV]  criterion=gini, max_depth=2, min_samples_leaf=3, min_samples_split=2, score=0.5734406438631791, total=   0.0s\n",
      "[CV] criterion=gini, max_depth=2, min_samples_leaf=3, min_samples_split=5 \n",
      "[CV]  criterion=gini, max_depth=2, min_samples_leaf=3, min_samples_split=5, score=0.5943775100401606, total=   0.0s\n",
      "[CV] criterion=gini, max_depth=2, min_samples_leaf=3, min_samples_split=5 \n",
      "[CV]  criterion=gini, max_depth=2, min_samples_leaf=3, min_samples_split=5, score=0.572289156626506, total=   0.0s\n",
      "[CV] criterion=gini, max_depth=2, min_samples_leaf=3, min_samples_split=5 \n",
      "[CV]  criterion=gini, max_depth=2, min_samples_leaf=3, min_samples_split=5, score=0.5734406438631791, total=   0.0s\n",
      "[CV] criterion=gini, max_depth=2, min_samples_leaf=3, min_samples_split=10 \n",
      "[CV]  criterion=gini, max_depth=2, min_samples_leaf=3, min_samples_split=10, score=0.5943775100401606, total=   0.0s\n",
      "[CV] criterion=gini, max_depth=2, min_samples_leaf=3, min_samples_split=10 \n",
      "[CV]  criterion=gini, max_depth=2, min_samples_leaf=3, min_samples_split=10, score=0.572289156626506, total=   0.0s\n",
      "[CV] criterion=gini, max_depth=2, min_samples_leaf=3, min_samples_split=10 \n",
      "[CV]  criterion=gini, max_depth=2, min_samples_leaf=3, min_samples_split=10, score=0.5734406438631791, total=   0.0s\n",
      "[CV] criterion=gini, max_depth=2, min_samples_leaf=4, min_samples_split=2 \n",
      "[CV]  criterion=gini, max_depth=2, min_samples_leaf=4, min_samples_split=2, score=0.5943775100401606, total=   0.0s\n",
      "[CV] criterion=gini, max_depth=2, min_samples_leaf=4, min_samples_split=2 \n",
      "[CV]  criterion=gini, max_depth=2, min_samples_leaf=4, min_samples_split=2, score=0.572289156626506, total=   0.0s\n",
      "[CV] criterion=gini, max_depth=2, min_samples_leaf=4, min_samples_split=2 \n",
      "[CV]  criterion=gini, max_depth=2, min_samples_leaf=4, min_samples_split=2, score=0.5734406438631791, total=   0.0s\n",
      "[CV] criterion=gini, max_depth=2, min_samples_leaf=4, min_samples_split=5 \n",
      "[CV]  criterion=gini, max_depth=2, min_samples_leaf=4, min_samples_split=5, score=0.5943775100401606, total=   0.0s\n",
      "[CV] criterion=gini, max_depth=2, min_samples_leaf=4, min_samples_split=5 \n",
      "[CV]  criterion=gini, max_depth=2, min_samples_leaf=4, min_samples_split=5, score=0.572289156626506, total=   0.0s\n",
      "[CV] criterion=gini, max_depth=2, min_samples_leaf=4, min_samples_split=5 \n",
      "[CV]  criterion=gini, max_depth=2, min_samples_leaf=4, min_samples_split=5, score=0.5734406438631791, total=   0.0s\n",
      "[CV] criterion=gini, max_depth=2, min_samples_leaf=4, min_samples_split=10 \n",
      "[CV]  criterion=gini, max_depth=2, min_samples_leaf=4, min_samples_split=10, score=0.5943775100401606, total=   0.0s\n",
      "[CV] criterion=gini, max_depth=2, min_samples_leaf=4, min_samples_split=10 \n",
      "[CV]  criterion=gini, max_depth=2, min_samples_leaf=4, min_samples_split=10, score=0.572289156626506, total=   0.0s\n",
      "[CV] criterion=gini, max_depth=2, min_samples_leaf=4, min_samples_split=10 \n",
      "[CV]  criterion=gini, max_depth=2, min_samples_leaf=4, min_samples_split=10, score=0.5734406438631791, total=   0.0s\n",
      "[CV] criterion=gini, max_depth=2, min_samples_leaf=5, min_samples_split=2 \n",
      "[CV]  criterion=gini, max_depth=2, min_samples_leaf=5, min_samples_split=2, score=0.5943775100401606, total=   0.0s\n",
      "[CV] criterion=gini, max_depth=2, min_samples_leaf=5, min_samples_split=2 \n"
     ]
    },
    {
     "name": "stdout",
     "output_type": "stream",
     "text": [
      "[CV]  criterion=gini, max_depth=2, min_samples_leaf=5, min_samples_split=2, score=0.572289156626506, total=   0.0s\n",
      "[CV] criterion=gini, max_depth=2, min_samples_leaf=5, min_samples_split=2 \n",
      "[CV]  criterion=gini, max_depth=2, min_samples_leaf=5, min_samples_split=2, score=0.5734406438631791, total=   0.0s\n",
      "[CV] criterion=gini, max_depth=2, min_samples_leaf=5, min_samples_split=5 \n",
      "[CV]  criterion=gini, max_depth=2, min_samples_leaf=5, min_samples_split=5, score=0.5943775100401606, total=   0.0s\n",
      "[CV] criterion=gini, max_depth=2, min_samples_leaf=5, min_samples_split=5 \n",
      "[CV]  criterion=gini, max_depth=2, min_samples_leaf=5, min_samples_split=5, score=0.572289156626506, total=   0.0s\n",
      "[CV] criterion=gini, max_depth=2, min_samples_leaf=5, min_samples_split=5 \n",
      "[CV]  criterion=gini, max_depth=2, min_samples_leaf=5, min_samples_split=5, score=0.5734406438631791, total=   0.0s\n",
      "[CV] criterion=gini, max_depth=2, min_samples_leaf=5, min_samples_split=10 \n",
      "[CV]  criterion=gini, max_depth=2, min_samples_leaf=5, min_samples_split=10, score=0.5943775100401606, total=   0.0s\n",
      "[CV] criterion=gini, max_depth=2, min_samples_leaf=5, min_samples_split=10 \n",
      "[CV]  criterion=gini, max_depth=2, min_samples_leaf=5, min_samples_split=10, score=0.572289156626506, total=   0.0s\n",
      "[CV] criterion=gini, max_depth=2, min_samples_leaf=5, min_samples_split=10 \n",
      "[CV]  criterion=gini, max_depth=2, min_samples_leaf=5, min_samples_split=10, score=0.5734406438631791, total=   0.0s\n",
      "[CV] criterion=gini, max_depth=2, min_samples_leaf=6, min_samples_split=2 \n",
      "[CV]  criterion=gini, max_depth=2, min_samples_leaf=6, min_samples_split=2, score=0.5943775100401606, total=   0.0s\n",
      "[CV] criterion=gini, max_depth=2, min_samples_leaf=6, min_samples_split=2 \n",
      "[CV]  criterion=gini, max_depth=2, min_samples_leaf=6, min_samples_split=2, score=0.572289156626506, total=   0.0s\n",
      "[CV] criterion=gini, max_depth=2, min_samples_leaf=6, min_samples_split=2 \n",
      "[CV]  criterion=gini, max_depth=2, min_samples_leaf=6, min_samples_split=2, score=0.5734406438631791, total=   0.0s\n",
      "[CV] criterion=gini, max_depth=2, min_samples_leaf=6, min_samples_split=5 \n",
      "[CV]  criterion=gini, max_depth=2, min_samples_leaf=6, min_samples_split=5, score=0.5943775100401606, total=   0.0s\n",
      "[CV] criterion=gini, max_depth=2, min_samples_leaf=6, min_samples_split=5 \n",
      "[CV]  criterion=gini, max_depth=2, min_samples_leaf=6, min_samples_split=5, score=0.572289156626506, total=   0.0s\n",
      "[CV] criterion=gini, max_depth=2, min_samples_leaf=6, min_samples_split=5 \n",
      "[CV]  criterion=gini, max_depth=2, min_samples_leaf=6, min_samples_split=5, score=0.5734406438631791, total=   0.0s\n",
      "[CV] criterion=gini, max_depth=2, min_samples_leaf=6, min_samples_split=10 \n",
      "[CV]  criterion=gini, max_depth=2, min_samples_leaf=6, min_samples_split=10, score=0.5943775100401606, total=   0.0s\n",
      "[CV] criterion=gini, max_depth=2, min_samples_leaf=6, min_samples_split=10 \n",
      "[CV]  criterion=gini, max_depth=2, min_samples_leaf=6, min_samples_split=10, score=0.572289156626506, total=   0.0s\n",
      "[CV] criterion=gini, max_depth=2, min_samples_leaf=6, min_samples_split=10 \n",
      "[CV]  criterion=gini, max_depth=2, min_samples_leaf=6, min_samples_split=10, score=0.5734406438631791, total=   0.0s\n",
      "[CV] criterion=gini, max_depth=3, min_samples_leaf=1, min_samples_split=2 \n",
      "[CV]  criterion=gini, max_depth=3, min_samples_leaf=1, min_samples_split=2, score=0.5863453815261044, total=   0.0s\n",
      "[CV] criterion=gini, max_depth=3, min_samples_leaf=1, min_samples_split=2 \n",
      "[CV]  criterion=gini, max_depth=3, min_samples_leaf=1, min_samples_split=2, score=0.5813253012048193, total=   0.0s\n",
      "[CV] criterion=gini, max_depth=3, min_samples_leaf=1, min_samples_split=2 \n",
      "[CV]  criterion=gini, max_depth=3, min_samples_leaf=1, min_samples_split=2, score=0.5865191146881288, total=   0.0s\n",
      "[CV] criterion=gini, max_depth=3, min_samples_leaf=1, min_samples_split=5 \n",
      "[CV]  criterion=gini, max_depth=3, min_samples_leaf=1, min_samples_split=5, score=0.5863453815261044, total=   0.0s\n",
      "[CV] criterion=gini, max_depth=3, min_samples_leaf=1, min_samples_split=5 \n",
      "[CV]  criterion=gini, max_depth=3, min_samples_leaf=1, min_samples_split=5, score=0.5823293172690763, total=   0.0s\n",
      "[CV] criterion=gini, max_depth=3, min_samples_leaf=1, min_samples_split=5 \n",
      "[CV]  criterion=gini, max_depth=3, min_samples_leaf=1, min_samples_split=5, score=0.5865191146881288, total=   0.0s\n",
      "[CV] criterion=gini, max_depth=3, min_samples_leaf=1, min_samples_split=10 \n",
      "[CV]  criterion=gini, max_depth=3, min_samples_leaf=1, min_samples_split=10, score=0.5863453815261044, total=   0.0s\n",
      "[CV] criterion=gini, max_depth=3, min_samples_leaf=1, min_samples_split=10 \n",
      "[CV]  criterion=gini, max_depth=3, min_samples_leaf=1, min_samples_split=10, score=0.5813253012048193, total=   0.0s\n",
      "[CV] criterion=gini, max_depth=3, min_samples_leaf=1, min_samples_split=10 \n",
      "[CV]  criterion=gini, max_depth=3, min_samples_leaf=1, min_samples_split=10, score=0.5865191146881288, total=   0.0s\n",
      "[CV] criterion=gini, max_depth=3, min_samples_leaf=2, min_samples_split=2 \n",
      "[CV]  criterion=gini, max_depth=3, min_samples_leaf=2, min_samples_split=2, score=0.5863453815261044, total=   0.0s\n",
      "[CV] criterion=gini, max_depth=3, min_samples_leaf=2, min_samples_split=2 \n",
      "[CV]  criterion=gini, max_depth=3, min_samples_leaf=2, min_samples_split=2, score=0.5813253012048193, total=   0.0s\n",
      "[CV] criterion=gini, max_depth=3, min_samples_leaf=2, min_samples_split=2 \n",
      "[CV]  criterion=gini, max_depth=3, min_samples_leaf=2, min_samples_split=2, score=0.5865191146881288, total=   0.0s\n",
      "[CV] criterion=gini, max_depth=3, min_samples_leaf=2, min_samples_split=5 \n",
      "[CV]  criterion=gini, max_depth=3, min_samples_leaf=2, min_samples_split=5, score=0.5863453815261044, total=   0.0s\n",
      "[CV] criterion=gini, max_depth=3, min_samples_leaf=2, min_samples_split=5 \n",
      "[CV]  criterion=gini, max_depth=3, min_samples_leaf=2, min_samples_split=5, score=0.5813253012048193, total=   0.0s\n",
      "[CV] criterion=gini, max_depth=3, min_samples_leaf=2, min_samples_split=5 \n",
      "[CV]  criterion=gini, max_depth=3, min_samples_leaf=2, min_samples_split=5, score=0.5865191146881288, total=   0.0s\n",
      "[CV] criterion=gini, max_depth=3, min_samples_leaf=2, min_samples_split=10 \n",
      "[CV]  criterion=gini, max_depth=3, min_samples_leaf=2, min_samples_split=10, score=0.5863453815261044, total=   0.0s\n",
      "[CV] criterion=gini, max_depth=3, min_samples_leaf=2, min_samples_split=10 \n",
      "[CV]  criterion=gini, max_depth=3, min_samples_leaf=2, min_samples_split=10, score=0.5823293172690763, total=   0.0s\n",
      "[CV] criterion=gini, max_depth=3, min_samples_leaf=2, min_samples_split=10 \n",
      "[CV]  criterion=gini, max_depth=3, min_samples_leaf=2, min_samples_split=10, score=0.5865191146881288, total=   0.0s\n",
      "[CV] criterion=gini, max_depth=3, min_samples_leaf=3, min_samples_split=2 \n",
      "[CV]  criterion=gini, max_depth=3, min_samples_leaf=3, min_samples_split=2, score=0.5863453815261044, total=   0.0s\n",
      "[CV] criterion=gini, max_depth=3, min_samples_leaf=3, min_samples_split=2 \n",
      "[CV]  criterion=gini, max_depth=3, min_samples_leaf=3, min_samples_split=2, score=0.5823293172690763, total=   0.0s\n",
      "[CV] criterion=gini, max_depth=3, min_samples_leaf=3, min_samples_split=2 \n",
      "[CV]  criterion=gini, max_depth=3, min_samples_leaf=3, min_samples_split=2, score=0.5865191146881288, total=   0.0s\n",
      "[CV] criterion=gini, max_depth=3, min_samples_leaf=3, min_samples_split=5 \n",
      "[CV]  criterion=gini, max_depth=3, min_samples_leaf=3, min_samples_split=5, score=0.5863453815261044, total=   0.0s\n",
      "[CV] criterion=gini, max_depth=3, min_samples_leaf=3, min_samples_split=5 \n",
      "[CV]  criterion=gini, max_depth=3, min_samples_leaf=3, min_samples_split=5, score=0.5823293172690763, total=   0.0s\n",
      "[CV] criterion=gini, max_depth=3, min_samples_leaf=3, min_samples_split=5 \n",
      "[CV]  criterion=gini, max_depth=3, min_samples_leaf=3, min_samples_split=5, score=0.5865191146881288, total=   0.0s\n",
      "[CV] criterion=gini, max_depth=3, min_samples_leaf=3, min_samples_split=10 \n",
      "[CV]  criterion=gini, max_depth=3, min_samples_leaf=3, min_samples_split=10, score=0.5863453815261044, total=   0.0s\n",
      "[CV] criterion=gini, max_depth=3, min_samples_leaf=3, min_samples_split=10 \n",
      "[CV]  criterion=gini, max_depth=3, min_samples_leaf=3, min_samples_split=10, score=0.5823293172690763, total=   0.0s\n",
      "[CV] criterion=gini, max_depth=3, min_samples_leaf=3, min_samples_split=10 \n",
      "[CV]  criterion=gini, max_depth=3, min_samples_leaf=3, min_samples_split=10, score=0.5865191146881288, total=   0.0s\n",
      "[CV] criterion=gini, max_depth=3, min_samples_leaf=4, min_samples_split=2 \n",
      "[CV]  criterion=gini, max_depth=3, min_samples_leaf=4, min_samples_split=2, score=0.5863453815261044, total=   0.0s\n",
      "[CV] criterion=gini, max_depth=3, min_samples_leaf=4, min_samples_split=2 \n",
      "[CV]  criterion=gini, max_depth=3, min_samples_leaf=4, min_samples_split=2, score=0.5823293172690763, total=   0.0s\n",
      "[CV] criterion=gini, max_depth=3, min_samples_leaf=4, min_samples_split=2 \n",
      "[CV]  criterion=gini, max_depth=3, min_samples_leaf=4, min_samples_split=2, score=0.5865191146881288, total=   0.0s\n",
      "[CV] criterion=gini, max_depth=3, min_samples_leaf=4, min_samples_split=5 \n",
      "[CV]  criterion=gini, max_depth=3, min_samples_leaf=4, min_samples_split=5, score=0.5863453815261044, total=   0.0s\n",
      "[CV] criterion=gini, max_depth=3, min_samples_leaf=4, min_samples_split=5 \n",
      "[CV]  criterion=gini, max_depth=3, min_samples_leaf=4, min_samples_split=5, score=0.5823293172690763, total=   0.0s\n",
      "[CV] criterion=gini, max_depth=3, min_samples_leaf=4, min_samples_split=5 \n",
      "[CV]  criterion=gini, max_depth=3, min_samples_leaf=4, min_samples_split=5, score=0.5865191146881288, total=   0.0s\n",
      "[CV] criterion=gini, max_depth=3, min_samples_leaf=4, min_samples_split=10 \n"
     ]
    },
    {
     "name": "stdout",
     "output_type": "stream",
     "text": [
      "[CV]  criterion=gini, max_depth=3, min_samples_leaf=4, min_samples_split=10, score=0.5863453815261044, total=   0.0s\n",
      "[CV] criterion=gini, max_depth=3, min_samples_leaf=4, min_samples_split=10 \n",
      "[CV]  criterion=gini, max_depth=3, min_samples_leaf=4, min_samples_split=10, score=0.5823293172690763, total=   0.0s\n",
      "[CV] criterion=gini, max_depth=3, min_samples_leaf=4, min_samples_split=10 \n",
      "[CV]  criterion=gini, max_depth=3, min_samples_leaf=4, min_samples_split=10, score=0.5865191146881288, total=   0.0s\n",
      "[CV] criterion=gini, max_depth=3, min_samples_leaf=5, min_samples_split=2 \n",
      "[CV]  criterion=gini, max_depth=3, min_samples_leaf=5, min_samples_split=2, score=0.5863453815261044, total=   0.0s\n",
      "[CV] criterion=gini, max_depth=3, min_samples_leaf=5, min_samples_split=2 \n",
      "[CV]  criterion=gini, max_depth=3, min_samples_leaf=5, min_samples_split=2, score=0.5813253012048193, total=   0.0s\n",
      "[CV] criterion=gini, max_depth=3, min_samples_leaf=5, min_samples_split=2 \n",
      "[CV]  criterion=gini, max_depth=3, min_samples_leaf=5, min_samples_split=2, score=0.5865191146881288, total=   0.0s\n",
      "[CV] criterion=gini, max_depth=3, min_samples_leaf=5, min_samples_split=5 \n",
      "[CV]  criterion=gini, max_depth=3, min_samples_leaf=5, min_samples_split=5, score=0.5863453815261044, total=   0.0s\n",
      "[CV] criterion=gini, max_depth=3, min_samples_leaf=5, min_samples_split=5 \n",
      "[CV]  criterion=gini, max_depth=3, min_samples_leaf=5, min_samples_split=5, score=0.5813253012048193, total=   0.0s\n",
      "[CV] criterion=gini, max_depth=3, min_samples_leaf=5, min_samples_split=5 \n",
      "[CV]  criterion=gini, max_depth=3, min_samples_leaf=5, min_samples_split=5, score=0.5865191146881288, total=   0.0s\n",
      "[CV] criterion=gini, max_depth=3, min_samples_leaf=5, min_samples_split=10 \n",
      "[CV]  criterion=gini, max_depth=3, min_samples_leaf=5, min_samples_split=10, score=0.5863453815261044, total=   0.0s\n",
      "[CV] criterion=gini, max_depth=3, min_samples_leaf=5, min_samples_split=10 \n",
      "[CV]  criterion=gini, max_depth=3, min_samples_leaf=5, min_samples_split=10, score=0.5823293172690763, total=   0.0s\n",
      "[CV] criterion=gini, max_depth=3, min_samples_leaf=5, min_samples_split=10 \n",
      "[CV]  criterion=gini, max_depth=3, min_samples_leaf=5, min_samples_split=10, score=0.5865191146881288, total=   0.0s\n",
      "[CV] criterion=gini, max_depth=3, min_samples_leaf=6, min_samples_split=2 \n",
      "[CV]  criterion=gini, max_depth=3, min_samples_leaf=6, min_samples_split=2, score=0.5863453815261044, total=   0.0s\n",
      "[CV] criterion=gini, max_depth=3, min_samples_leaf=6, min_samples_split=2 \n",
      "[CV]  criterion=gini, max_depth=3, min_samples_leaf=6, min_samples_split=2, score=0.5813253012048193, total=   0.0s\n",
      "[CV] criterion=gini, max_depth=3, min_samples_leaf=6, min_samples_split=2 \n",
      "[CV]  criterion=gini, max_depth=3, min_samples_leaf=6, min_samples_split=2, score=0.5865191146881288, total=   0.0s\n",
      "[CV] criterion=gini, max_depth=3, min_samples_leaf=6, min_samples_split=5 \n",
      "[CV]  criterion=gini, max_depth=3, min_samples_leaf=6, min_samples_split=5, score=0.5863453815261044, total=   0.0s\n",
      "[CV] criterion=gini, max_depth=3, min_samples_leaf=6, min_samples_split=5 \n",
      "[CV]  criterion=gini, max_depth=3, min_samples_leaf=6, min_samples_split=5, score=0.5823293172690763, total=   0.0s\n",
      "[CV] criterion=gini, max_depth=3, min_samples_leaf=6, min_samples_split=5 \n",
      "[CV]  criterion=gini, max_depth=3, min_samples_leaf=6, min_samples_split=5, score=0.5865191146881288, total=   0.0s\n",
      "[CV] criterion=gini, max_depth=3, min_samples_leaf=6, min_samples_split=10 \n",
      "[CV]  criterion=gini, max_depth=3, min_samples_leaf=6, min_samples_split=10, score=0.5863453815261044, total=   0.0s\n",
      "[CV] criterion=gini, max_depth=3, min_samples_leaf=6, min_samples_split=10 \n",
      "[CV]  criterion=gini, max_depth=3, min_samples_leaf=6, min_samples_split=10, score=0.5823293172690763, total=   0.0s\n",
      "[CV] criterion=gini, max_depth=3, min_samples_leaf=6, min_samples_split=10 \n",
      "[CV]  criterion=gini, max_depth=3, min_samples_leaf=6, min_samples_split=10, score=0.5865191146881288, total=   0.0s\n",
      "[CV] criterion=gini, max_depth=4, min_samples_leaf=1, min_samples_split=2 \n",
      "[CV]  criterion=gini, max_depth=4, min_samples_leaf=1, min_samples_split=2, score=0.5853413654618473, total=   0.0s\n",
      "[CV] criterion=gini, max_depth=4, min_samples_leaf=1, min_samples_split=2 \n",
      "[CV]  criterion=gini, max_depth=4, min_samples_leaf=1, min_samples_split=2, score=0.5742971887550201, total=   0.0s\n",
      "[CV] criterion=gini, max_depth=4, min_samples_leaf=1, min_samples_split=2 \n",
      "[CV]  criterion=gini, max_depth=4, min_samples_leaf=1, min_samples_split=2, score=0.5835010060362174, total=   0.0s\n",
      "[CV] criterion=gini, max_depth=4, min_samples_leaf=1, min_samples_split=5 \n",
      "[CV]  criterion=gini, max_depth=4, min_samples_leaf=1, min_samples_split=5, score=0.5853413654618473, total=   0.0s\n",
      "[CV] criterion=gini, max_depth=4, min_samples_leaf=1, min_samples_split=5 \n",
      "[CV]  criterion=gini, max_depth=4, min_samples_leaf=1, min_samples_split=5, score=0.5732931726907631, total=   0.0s\n",
      "[CV] criterion=gini, max_depth=4, min_samples_leaf=1, min_samples_split=5 \n",
      "[CV]  criterion=gini, max_depth=4, min_samples_leaf=1, min_samples_split=5, score=0.5835010060362174, total=   0.0s\n",
      "[CV] criterion=gini, max_depth=4, min_samples_leaf=1, min_samples_split=10 \n",
      "[CV]  criterion=gini, max_depth=4, min_samples_leaf=1, min_samples_split=10, score=0.5863453815261044, total=   0.0s\n",
      "[CV] criterion=gini, max_depth=4, min_samples_leaf=1, min_samples_split=10 \n",
      "[CV]  criterion=gini, max_depth=4, min_samples_leaf=1, min_samples_split=10, score=0.5742971887550201, total=   0.0s\n",
      "[CV] criterion=gini, max_depth=4, min_samples_leaf=1, min_samples_split=10 \n",
      "[CV]  criterion=gini, max_depth=4, min_samples_leaf=1, min_samples_split=10, score=0.5855130784708249, total=   0.0s\n",
      "[CV] criterion=gini, max_depth=4, min_samples_leaf=2, min_samples_split=2 \n",
      "[CV]  criterion=gini, max_depth=4, min_samples_leaf=2, min_samples_split=2, score=0.5853413654618473, total=   0.0s\n",
      "[CV] criterion=gini, max_depth=4, min_samples_leaf=2, min_samples_split=2 \n",
      "[CV]  criterion=gini, max_depth=4, min_samples_leaf=2, min_samples_split=2, score=0.5732931726907631, total=   0.0s\n",
      "[CV] criterion=gini, max_depth=4, min_samples_leaf=2, min_samples_split=2 \n",
      "[CV]  criterion=gini, max_depth=4, min_samples_leaf=2, min_samples_split=2, score=0.5835010060362174, total=   0.0s\n",
      "[CV] criterion=gini, max_depth=4, min_samples_leaf=2, min_samples_split=5 \n",
      "[CV]  criterion=gini, max_depth=4, min_samples_leaf=2, min_samples_split=5, score=0.5853413654618473, total=   0.0s\n",
      "[CV] criterion=gini, max_depth=4, min_samples_leaf=2, min_samples_split=5 \n",
      "[CV]  criterion=gini, max_depth=4, min_samples_leaf=2, min_samples_split=5, score=0.5742971887550201, total=   0.0s\n",
      "[CV] criterion=gini, max_depth=4, min_samples_leaf=2, min_samples_split=5 \n",
      "[CV]  criterion=gini, max_depth=4, min_samples_leaf=2, min_samples_split=5, score=0.5835010060362174, total=   0.0s\n",
      "[CV] criterion=gini, max_depth=4, min_samples_leaf=2, min_samples_split=10 \n",
      "[CV]  criterion=gini, max_depth=4, min_samples_leaf=2, min_samples_split=10, score=0.5863453815261044, total=   0.0s\n",
      "[CV] criterion=gini, max_depth=4, min_samples_leaf=2, min_samples_split=10 \n",
      "[CV]  criterion=gini, max_depth=4, min_samples_leaf=2, min_samples_split=10, score=0.5742971887550201, total=   0.0s\n",
      "[CV] criterion=gini, max_depth=4, min_samples_leaf=2, min_samples_split=10 \n",
      "[CV]  criterion=gini, max_depth=4, min_samples_leaf=2, min_samples_split=10, score=0.5835010060362174, total=   0.0s\n",
      "[CV] criterion=gini, max_depth=4, min_samples_leaf=3, min_samples_split=2 \n",
      "[CV]  criterion=gini, max_depth=4, min_samples_leaf=3, min_samples_split=2, score=0.5863453815261044, total=   0.0s\n",
      "[CV] criterion=gini, max_depth=4, min_samples_leaf=3, min_samples_split=2 \n",
      "[CV]  criterion=gini, max_depth=4, min_samples_leaf=3, min_samples_split=2, score=0.5732931726907631, total=   0.0s\n",
      "[CV] criterion=gini, max_depth=4, min_samples_leaf=3, min_samples_split=2 \n",
      "[CV]  criterion=gini, max_depth=4, min_samples_leaf=3, min_samples_split=2, score=0.5835010060362174, total=   0.0s\n",
      "[CV] criterion=gini, max_depth=4, min_samples_leaf=3, min_samples_split=5 \n",
      "[CV]  criterion=gini, max_depth=4, min_samples_leaf=3, min_samples_split=5, score=0.5873493975903614, total=   0.0s\n",
      "[CV] criterion=gini, max_depth=4, min_samples_leaf=3, min_samples_split=5 \n",
      "[CV]  criterion=gini, max_depth=4, min_samples_leaf=3, min_samples_split=5, score=0.5742971887550201, total=   0.0s\n",
      "[CV] criterion=gini, max_depth=4, min_samples_leaf=3, min_samples_split=5 \n",
      "[CV]  criterion=gini, max_depth=4, min_samples_leaf=3, min_samples_split=5, score=0.5855130784708249, total=   0.0s\n",
      "[CV] criterion=gini, max_depth=4, min_samples_leaf=3, min_samples_split=10 \n",
      "[CV]  criterion=gini, max_depth=4, min_samples_leaf=3, min_samples_split=10, score=0.5863453815261044, total=   0.0s\n",
      "[CV] criterion=gini, max_depth=4, min_samples_leaf=3, min_samples_split=10 \n",
      "[CV]  criterion=gini, max_depth=4, min_samples_leaf=3, min_samples_split=10, score=0.5773092369477911, total=   0.0s\n",
      "[CV] criterion=gini, max_depth=4, min_samples_leaf=3, min_samples_split=10 \n",
      "[CV]  criterion=gini, max_depth=4, min_samples_leaf=3, min_samples_split=10, score=0.5835010060362174, total=   0.0s\n",
      "[CV] criterion=gini, max_depth=4, min_samples_leaf=4, min_samples_split=2 \n"
     ]
    },
    {
     "name": "stdout",
     "output_type": "stream",
     "text": [
      "[CV]  criterion=gini, max_depth=4, min_samples_leaf=4, min_samples_split=2, score=0.5863453815261044, total=   0.0s\n",
      "[CV] criterion=gini, max_depth=4, min_samples_leaf=4, min_samples_split=2 \n",
      "[CV]  criterion=gini, max_depth=4, min_samples_leaf=4, min_samples_split=2, score=0.570281124497992, total=   0.0s\n",
      "[CV] criterion=gini, max_depth=4, min_samples_leaf=4, min_samples_split=2 \n",
      "[CV]  criterion=gini, max_depth=4, min_samples_leaf=4, min_samples_split=2, score=0.5824949698189135, total=   0.0s\n",
      "[CV] criterion=gini, max_depth=4, min_samples_leaf=4, min_samples_split=5 \n",
      "[CV]  criterion=gini, max_depth=4, min_samples_leaf=4, min_samples_split=5, score=0.5863453815261044, total=   0.0s\n",
      "[CV] criterion=gini, max_depth=4, min_samples_leaf=4, min_samples_split=5 \n",
      "[CV]  criterion=gini, max_depth=4, min_samples_leaf=4, min_samples_split=5, score=0.570281124497992, total=   0.0s\n",
      "[CV] criterion=gini, max_depth=4, min_samples_leaf=4, min_samples_split=5 \n",
      "[CV]  criterion=gini, max_depth=4, min_samples_leaf=4, min_samples_split=5, score=0.5865191146881288, total=   0.0s\n",
      "[CV] criterion=gini, max_depth=4, min_samples_leaf=4, min_samples_split=10 \n",
      "[CV]  criterion=gini, max_depth=4, min_samples_leaf=4, min_samples_split=10, score=0.5863453815261044, total=   0.0s\n",
      "[CV] criterion=gini, max_depth=4, min_samples_leaf=4, min_samples_split=10 \n",
      "[CV]  criterion=gini, max_depth=4, min_samples_leaf=4, min_samples_split=10, score=0.570281124497992, total=   0.0s\n",
      "[CV] criterion=gini, max_depth=4, min_samples_leaf=4, min_samples_split=10 \n",
      "[CV]  criterion=gini, max_depth=4, min_samples_leaf=4, min_samples_split=10, score=0.5855130784708249, total=   0.0s\n",
      "[CV] criterion=gini, max_depth=4, min_samples_leaf=5, min_samples_split=2 \n",
      "[CV]  criterion=gini, max_depth=4, min_samples_leaf=5, min_samples_split=2, score=0.5863453815261044, total=   0.0s\n",
      "[CV] criterion=gini, max_depth=4, min_samples_leaf=5, min_samples_split=2 \n",
      "[CV]  criterion=gini, max_depth=4, min_samples_leaf=5, min_samples_split=2, score=0.570281124497992, total=   0.0s\n",
      "[CV] criterion=gini, max_depth=4, min_samples_leaf=5, min_samples_split=2 \n",
      "[CV]  criterion=gini, max_depth=4, min_samples_leaf=5, min_samples_split=2, score=0.5855130784708249, total=   0.0s\n",
      "[CV] criterion=gini, max_depth=4, min_samples_leaf=5, min_samples_split=5 \n",
      "[CV]  criterion=gini, max_depth=4, min_samples_leaf=5, min_samples_split=5, score=0.5863453815261044, total=   0.0s\n",
      "[CV] criterion=gini, max_depth=4, min_samples_leaf=5, min_samples_split=5 \n",
      "[CV]  criterion=gini, max_depth=4, min_samples_leaf=5, min_samples_split=5, score=0.570281124497992, total=   0.0s\n",
      "[CV] criterion=gini, max_depth=4, min_samples_leaf=5, min_samples_split=5 \n",
      "[CV]  criterion=gini, max_depth=4, min_samples_leaf=5, min_samples_split=5, score=0.5824949698189135, total=   0.0s\n",
      "[CV] criterion=gini, max_depth=4, min_samples_leaf=5, min_samples_split=10 \n",
      "[CV]  criterion=gini, max_depth=4, min_samples_leaf=5, min_samples_split=10, score=0.5863453815261044, total=   0.0s\n",
      "[CV] criterion=gini, max_depth=4, min_samples_leaf=5, min_samples_split=10 \n",
      "[CV]  criterion=gini, max_depth=4, min_samples_leaf=5, min_samples_split=10, score=0.570281124497992, total=   0.0s\n",
      "[CV] criterion=gini, max_depth=4, min_samples_leaf=5, min_samples_split=10 \n",
      "[CV]  criterion=gini, max_depth=4, min_samples_leaf=5, min_samples_split=10, score=0.5824949698189135, total=   0.0s\n",
      "[CV] criterion=gini, max_depth=4, min_samples_leaf=6, min_samples_split=2 \n",
      "[CV]  criterion=gini, max_depth=4, min_samples_leaf=6, min_samples_split=2, score=0.5873493975903614, total=   0.0s\n",
      "[CV] criterion=gini, max_depth=4, min_samples_leaf=6, min_samples_split=2 \n",
      "[CV]  criterion=gini, max_depth=4, min_samples_leaf=6, min_samples_split=2, score=0.5753012048192772, total=   0.0s\n",
      "[CV] criterion=gini, max_depth=4, min_samples_leaf=6, min_samples_split=2 \n",
      "[CV]  criterion=gini, max_depth=4, min_samples_leaf=6, min_samples_split=2, score=0.5865191146881288, total=   0.0s\n",
      "[CV] criterion=gini, max_depth=4, min_samples_leaf=6, min_samples_split=5 \n",
      "[CV]  criterion=gini, max_depth=4, min_samples_leaf=6, min_samples_split=5, score=0.5873493975903614, total=   0.0s\n",
      "[CV] criterion=gini, max_depth=4, min_samples_leaf=6, min_samples_split=5 \n",
      "[CV]  criterion=gini, max_depth=4, min_samples_leaf=6, min_samples_split=5, score=0.5732931726907631, total=   0.0s\n",
      "[CV] criterion=gini, max_depth=4, min_samples_leaf=6, min_samples_split=5 \n",
      "[CV]  criterion=gini, max_depth=4, min_samples_leaf=6, min_samples_split=5, score=0.5855130784708249, total=   0.0s\n",
      "[CV] criterion=gini, max_depth=4, min_samples_leaf=6, min_samples_split=10 \n",
      "[CV]  criterion=gini, max_depth=4, min_samples_leaf=6, min_samples_split=10, score=0.5873493975903614, total=   0.0s\n",
      "[CV] criterion=gini, max_depth=4, min_samples_leaf=6, min_samples_split=10 \n",
      "[CV]  criterion=gini, max_depth=4, min_samples_leaf=6, min_samples_split=10, score=0.5753012048192772, total=   0.0s\n",
      "[CV] criterion=gini, max_depth=4, min_samples_leaf=6, min_samples_split=10 \n",
      "[CV]  criterion=gini, max_depth=4, min_samples_leaf=6, min_samples_split=10, score=0.5835010060362174, total=   0.0s\n",
      "[CV] criterion=gini, max_depth=5, min_samples_leaf=1, min_samples_split=2 \n",
      "[CV]  criterion=gini, max_depth=5, min_samples_leaf=1, min_samples_split=2, score=0.5823293172690763, total=   0.0s\n",
      "[CV] criterion=gini, max_depth=5, min_samples_leaf=1, min_samples_split=2 \n",
      "[CV]  criterion=gini, max_depth=5, min_samples_leaf=1, min_samples_split=2, score=0.5773092369477911, total=   0.0s\n",
      "[CV] criterion=gini, max_depth=5, min_samples_leaf=1, min_samples_split=2 \n",
      "[CV]  criterion=gini, max_depth=5, min_samples_leaf=1, min_samples_split=2, score=0.5804828973843058, total=   0.0s\n",
      "[CV] criterion=gini, max_depth=5, min_samples_leaf=1, min_samples_split=5 \n",
      "[CV]  criterion=gini, max_depth=5, min_samples_leaf=1, min_samples_split=5, score=0.5833333333333334, total=   0.0s\n",
      "[CV] criterion=gini, max_depth=5, min_samples_leaf=1, min_samples_split=5 \n",
      "[CV]  criterion=gini, max_depth=5, min_samples_leaf=1, min_samples_split=5, score=0.5732931726907631, total=   0.0s\n",
      "[CV] criterion=gini, max_depth=5, min_samples_leaf=1, min_samples_split=5 \n",
      "[CV]  criterion=gini, max_depth=5, min_samples_leaf=1, min_samples_split=5, score=0.5804828973843058, total=   0.0s\n",
      "[CV] criterion=gini, max_depth=5, min_samples_leaf=1, min_samples_split=10 \n",
      "[CV]  criterion=gini, max_depth=5, min_samples_leaf=1, min_samples_split=10, score=0.5843373493975904, total=   0.0s\n",
      "[CV] criterion=gini, max_depth=5, min_samples_leaf=1, min_samples_split=10 \n",
      "[CV]  criterion=gini, max_depth=5, min_samples_leaf=1, min_samples_split=10, score=0.5753012048192772, total=   0.0s\n",
      "[CV] criterion=gini, max_depth=5, min_samples_leaf=1, min_samples_split=10 \n",
      "[CV]  criterion=gini, max_depth=5, min_samples_leaf=1, min_samples_split=10, score=0.5784708249496981, total=   0.0s\n",
      "[CV] criterion=gini, max_depth=5, min_samples_leaf=2, min_samples_split=2 \n",
      "[CV]  criterion=gini, max_depth=5, min_samples_leaf=2, min_samples_split=2, score=0.5823293172690763, total=   0.0s\n",
      "[CV] criterion=gini, max_depth=5, min_samples_leaf=2, min_samples_split=2 \n",
      "[CV]  criterion=gini, max_depth=5, min_samples_leaf=2, min_samples_split=2, score=0.5732931726907631, total=   0.0s\n",
      "[CV] criterion=gini, max_depth=5, min_samples_leaf=2, min_samples_split=2 \n",
      "[CV]  criterion=gini, max_depth=5, min_samples_leaf=2, min_samples_split=2, score=0.5784708249496981, total=   0.0s\n",
      "[CV] criterion=gini, max_depth=5, min_samples_leaf=2, min_samples_split=5 \n",
      "[CV]  criterion=gini, max_depth=5, min_samples_leaf=2, min_samples_split=5, score=0.5823293172690763, total=   0.0s\n",
      "[CV] criterion=gini, max_depth=5, min_samples_leaf=2, min_samples_split=5 \n",
      "[CV]  criterion=gini, max_depth=5, min_samples_leaf=2, min_samples_split=5, score=0.571285140562249, total=   0.0s\n",
      "[CV] criterion=gini, max_depth=5, min_samples_leaf=2, min_samples_split=5 \n",
      "[CV]  criterion=gini, max_depth=5, min_samples_leaf=2, min_samples_split=5, score=0.579476861167002, total=   0.0s\n",
      "[CV] criterion=gini, max_depth=5, min_samples_leaf=2, min_samples_split=10 \n",
      "[CV]  criterion=gini, max_depth=5, min_samples_leaf=2, min_samples_split=10, score=0.5843373493975904, total=   0.0s\n",
      "[CV] criterion=gini, max_depth=5, min_samples_leaf=2, min_samples_split=10 \n",
      "[CV]  criterion=gini, max_depth=5, min_samples_leaf=2, min_samples_split=10, score=0.571285140562249, total=   0.0s\n",
      "[CV] criterion=gini, max_depth=5, min_samples_leaf=2, min_samples_split=10 \n",
      "[CV]  criterion=gini, max_depth=5, min_samples_leaf=2, min_samples_split=10, score=0.5784708249496981, total=   0.0s\n",
      "[CV] criterion=gini, max_depth=5, min_samples_leaf=3, min_samples_split=2 \n",
      "[CV]  criterion=gini, max_depth=5, min_samples_leaf=3, min_samples_split=2, score=0.5853413654618473, total=   0.0s\n",
      "[CV] criterion=gini, max_depth=5, min_samples_leaf=3, min_samples_split=2 \n",
      "[CV]  criterion=gini, max_depth=5, min_samples_leaf=3, min_samples_split=2, score=0.5732931726907631, total=   0.0s\n",
      "[CV] criterion=gini, max_depth=5, min_samples_leaf=3, min_samples_split=2 \n",
      "[CV]  criterion=gini, max_depth=5, min_samples_leaf=3, min_samples_split=2, score=0.5804828973843058, total=   0.0s\n",
      "[CV] criterion=gini, max_depth=5, min_samples_leaf=3, min_samples_split=5 \n"
     ]
    },
    {
     "name": "stdout",
     "output_type": "stream",
     "text": [
      "[CV]  criterion=gini, max_depth=5, min_samples_leaf=3, min_samples_split=5, score=0.5863453815261044, total=   0.0s\n",
      "[CV] criterion=gini, max_depth=5, min_samples_leaf=3, min_samples_split=5 \n",
      "[CV]  criterion=gini, max_depth=5, min_samples_leaf=3, min_samples_split=5, score=0.5763052208835341, total=   0.0s\n",
      "[CV] criterion=gini, max_depth=5, min_samples_leaf=3, min_samples_split=5 \n",
      "[CV]  criterion=gini, max_depth=5, min_samples_leaf=3, min_samples_split=5, score=0.5784708249496981, total=   0.0s\n",
      "[CV] criterion=gini, max_depth=5, min_samples_leaf=3, min_samples_split=10 \n",
      "[CV]  criterion=gini, max_depth=5, min_samples_leaf=3, min_samples_split=10, score=0.5843373493975904, total=   0.0s\n",
      "[CV] criterion=gini, max_depth=5, min_samples_leaf=3, min_samples_split=10 \n",
      "[CV]  criterion=gini, max_depth=5, min_samples_leaf=3, min_samples_split=10, score=0.5763052208835341, total=   0.0s\n",
      "[CV] criterion=gini, max_depth=5, min_samples_leaf=3, min_samples_split=10 \n",
      "[CV]  criterion=gini, max_depth=5, min_samples_leaf=3, min_samples_split=10, score=0.5804828973843058, total=   0.0s\n",
      "[CV] criterion=gini, max_depth=5, min_samples_leaf=4, min_samples_split=2 \n",
      "[CV]  criterion=gini, max_depth=5, min_samples_leaf=4, min_samples_split=2, score=0.5823293172690763, total=   0.0s\n",
      "[CV] criterion=gini, max_depth=5, min_samples_leaf=4, min_samples_split=2 \n",
      "[CV]  criterion=gini, max_depth=5, min_samples_leaf=4, min_samples_split=2, score=0.5692771084337349, total=   0.0s\n",
      "[CV] criterion=gini, max_depth=5, min_samples_leaf=4, min_samples_split=2 \n",
      "[CV]  criterion=gini, max_depth=5, min_samples_leaf=4, min_samples_split=2, score=0.5804828973843058, total=   0.0s\n",
      "[CV] criterion=gini, max_depth=5, min_samples_leaf=4, min_samples_split=5 \n",
      "[CV]  criterion=gini, max_depth=5, min_samples_leaf=4, min_samples_split=5, score=0.5813253012048193, total=   0.0s\n",
      "[CV] criterion=gini, max_depth=5, min_samples_leaf=4, min_samples_split=5 \n",
      "[CV]  criterion=gini, max_depth=5, min_samples_leaf=4, min_samples_split=5, score=0.5692771084337349, total=   0.0s\n",
      "[CV] criterion=gini, max_depth=5, min_samples_leaf=4, min_samples_split=5 \n",
      "[CV]  criterion=gini, max_depth=5, min_samples_leaf=4, min_samples_split=5, score=0.5804828973843058, total=   0.0s\n",
      "[CV] criterion=gini, max_depth=5, min_samples_leaf=4, min_samples_split=10 \n",
      "[CV]  criterion=gini, max_depth=5, min_samples_leaf=4, min_samples_split=10, score=0.5813253012048193, total=   0.0s\n",
      "[CV] criterion=gini, max_depth=5, min_samples_leaf=4, min_samples_split=10 \n",
      "[CV]  criterion=gini, max_depth=5, min_samples_leaf=4, min_samples_split=10, score=0.5692771084337349, total=   0.0s\n",
      "[CV] criterion=gini, max_depth=5, min_samples_leaf=4, min_samples_split=10 \n",
      "[CV]  criterion=gini, max_depth=5, min_samples_leaf=4, min_samples_split=10, score=0.5774647887323944, total=   0.0s\n",
      "[CV] criterion=gini, max_depth=5, min_samples_leaf=5, min_samples_split=2 \n",
      "[CV]  criterion=gini, max_depth=5, min_samples_leaf=5, min_samples_split=2, score=0.5843373493975904, total=   0.0s\n",
      "[CV] criterion=gini, max_depth=5, min_samples_leaf=5, min_samples_split=2 \n",
      "[CV]  criterion=gini, max_depth=5, min_samples_leaf=5, min_samples_split=2, score=0.5682730923694779, total=   0.0s\n",
      "[CV] criterion=gini, max_depth=5, min_samples_leaf=5, min_samples_split=2 \n",
      "[CV]  criterion=gini, max_depth=5, min_samples_leaf=5, min_samples_split=2, score=0.5814889336016097, total=   0.0s\n",
      "[CV] criterion=gini, max_depth=5, min_samples_leaf=5, min_samples_split=5 \n",
      "[CV]  criterion=gini, max_depth=5, min_samples_leaf=5, min_samples_split=5, score=0.5823293172690763, total=   0.0s\n",
      "[CV] criterion=gini, max_depth=5, min_samples_leaf=5, min_samples_split=5 \n",
      "[CV]  criterion=gini, max_depth=5, min_samples_leaf=5, min_samples_split=5, score=0.571285140562249, total=   0.0s\n",
      "[CV] criterion=gini, max_depth=5, min_samples_leaf=5, min_samples_split=5 \n",
      "[CV]  criterion=gini, max_depth=5, min_samples_leaf=5, min_samples_split=5, score=0.5814889336016097, total=   0.1s\n",
      "[CV] criterion=gini, max_depth=5, min_samples_leaf=5, min_samples_split=10 \n",
      "[CV]  criterion=gini, max_depth=5, min_samples_leaf=5, min_samples_split=10, score=0.5843373493975904, total=   0.0s\n",
      "[CV] criterion=gini, max_depth=5, min_samples_leaf=5, min_samples_split=10 \n",
      "[CV]  criterion=gini, max_depth=5, min_samples_leaf=5, min_samples_split=10, score=0.571285140562249, total=   0.0s\n",
      "[CV] criterion=gini, max_depth=5, min_samples_leaf=5, min_samples_split=10 \n",
      "[CV]  criterion=gini, max_depth=5, min_samples_leaf=5, min_samples_split=10, score=0.5774647887323944, total=   0.0s\n",
      "[CV] criterion=gini, max_depth=5, min_samples_leaf=6, min_samples_split=2 \n",
      "[CV]  criterion=gini, max_depth=5, min_samples_leaf=6, min_samples_split=2, score=0.5833333333333334, total=   0.0s\n",
      "[CV] criterion=gini, max_depth=5, min_samples_leaf=6, min_samples_split=2 \n",
      "[CV]  criterion=gini, max_depth=5, min_samples_leaf=6, min_samples_split=2, score=0.5692771084337349, total=   0.0s\n",
      "[CV] criterion=gini, max_depth=5, min_samples_leaf=6, min_samples_split=2 \n",
      "[CV]  criterion=gini, max_depth=5, min_samples_leaf=6, min_samples_split=2, score=0.5824949698189135, total=   0.0s\n",
      "[CV] criterion=gini, max_depth=5, min_samples_leaf=6, min_samples_split=5 \n",
      "[CV]  criterion=gini, max_depth=5, min_samples_leaf=6, min_samples_split=5, score=0.5823293172690763, total=   0.0s\n",
      "[CV] criterion=gini, max_depth=5, min_samples_leaf=6, min_samples_split=5 \n",
      "[CV]  criterion=gini, max_depth=5, min_samples_leaf=6, min_samples_split=5, score=0.570281124497992, total=   0.0s\n",
      "[CV] criterion=gini, max_depth=5, min_samples_leaf=6, min_samples_split=5 \n",
      "[CV]  criterion=gini, max_depth=5, min_samples_leaf=6, min_samples_split=5, score=0.5835010060362174, total=   0.0s\n",
      "[CV] criterion=gini, max_depth=5, min_samples_leaf=6, min_samples_split=10 \n",
      "[CV]  criterion=gini, max_depth=5, min_samples_leaf=6, min_samples_split=10, score=0.5843373493975904, total=   0.0s\n",
      "[CV] criterion=gini, max_depth=5, min_samples_leaf=6, min_samples_split=10 \n",
      "[CV]  criterion=gini, max_depth=5, min_samples_leaf=6, min_samples_split=10, score=0.5763052208835341, total=   0.0s\n",
      "[CV] criterion=gini, max_depth=5, min_samples_leaf=6, min_samples_split=10 \n",
      "[CV]  criterion=gini, max_depth=5, min_samples_leaf=6, min_samples_split=10, score=0.5814889336016097, total=   0.0s\n",
      "[CV] criterion=gini, max_depth=6, min_samples_leaf=1, min_samples_split=2 \n",
      "[CV]  criterion=gini, max_depth=6, min_samples_leaf=1, min_samples_split=2, score=0.570281124497992, total=   0.0s\n",
      "[CV] criterion=gini, max_depth=6, min_samples_leaf=1, min_samples_split=2 \n",
      "[CV]  criterion=gini, max_depth=6, min_samples_leaf=1, min_samples_split=2, score=0.5632530120481928, total=   0.0s\n",
      "[CV] criterion=gini, max_depth=6, min_samples_leaf=1, min_samples_split=2 \n",
      "[CV]  criterion=gini, max_depth=6, min_samples_leaf=1, min_samples_split=2, score=0.5694164989939637, total=   0.0s\n",
      "[CV] criterion=gini, max_depth=6, min_samples_leaf=1, min_samples_split=5 \n",
      "[CV]  criterion=gini, max_depth=6, min_samples_leaf=1, min_samples_split=5, score=0.5692771084337349, total=   0.1s\n",
      "[CV] criterion=gini, max_depth=6, min_samples_leaf=1, min_samples_split=5 \n",
      "[CV]  criterion=gini, max_depth=6, min_samples_leaf=1, min_samples_split=5, score=0.5682730923694779, total=   0.1s\n",
      "[CV] criterion=gini, max_depth=6, min_samples_leaf=1, min_samples_split=5 \n",
      "[CV]  criterion=gini, max_depth=6, min_samples_leaf=1, min_samples_split=5, score=0.5734406438631791, total=   0.1s\n",
      "[CV] criterion=gini, max_depth=6, min_samples_leaf=1, min_samples_split=10 \n",
      "[CV]  criterion=gini, max_depth=6, min_samples_leaf=1, min_samples_split=10, score=0.5692771084337349, total=   0.0s\n",
      "[CV] criterion=gini, max_depth=6, min_samples_leaf=1, min_samples_split=10 \n",
      "[CV]  criterion=gini, max_depth=6, min_samples_leaf=1, min_samples_split=10, score=0.5592369477911646, total=   0.0s\n",
      "[CV] criterion=gini, max_depth=6, min_samples_leaf=1, min_samples_split=10 \n",
      "[CV]  criterion=gini, max_depth=6, min_samples_leaf=1, min_samples_split=10, score=0.56841046277666, total=   0.0s\n",
      "[CV] criterion=gini, max_depth=6, min_samples_leaf=2, min_samples_split=2 \n",
      "[CV]  criterion=gini, max_depth=6, min_samples_leaf=2, min_samples_split=2, score=0.570281124497992, total=   0.0s\n",
      "[CV] criterion=gini, max_depth=6, min_samples_leaf=2, min_samples_split=2 \n"
     ]
    },
    {
     "name": "stdout",
     "output_type": "stream",
     "text": [
      "[CV]  criterion=gini, max_depth=6, min_samples_leaf=2, min_samples_split=2, score=0.5642570281124498, total=   0.0s\n",
      "[CV] criterion=gini, max_depth=6, min_samples_leaf=2, min_samples_split=2 \n",
      "[CV]  criterion=gini, max_depth=6, min_samples_leaf=2, min_samples_split=2, score=0.5694164989939637, total=   0.0s\n",
      "[CV] criterion=gini, max_depth=6, min_samples_leaf=2, min_samples_split=5 \n",
      "[CV]  criterion=gini, max_depth=6, min_samples_leaf=2, min_samples_split=5, score=0.570281124497992, total=   0.0s\n",
      "[CV] criterion=gini, max_depth=6, min_samples_leaf=2, min_samples_split=5 \n",
      "[CV]  criterion=gini, max_depth=6, min_samples_leaf=2, min_samples_split=5, score=0.5672690763052208, total=   0.0s\n",
      "[CV] criterion=gini, max_depth=6, min_samples_leaf=2, min_samples_split=5 \n",
      "[CV]  criterion=gini, max_depth=6, min_samples_leaf=2, min_samples_split=5, score=0.5724346076458753, total=   0.0s\n",
      "[CV] criterion=gini, max_depth=6, min_samples_leaf=2, min_samples_split=10 \n",
      "[CV]  criterion=gini, max_depth=6, min_samples_leaf=2, min_samples_split=10, score=0.570281124497992, total=   0.1s\n",
      "[CV] criterion=gini, max_depth=6, min_samples_leaf=2, min_samples_split=10 \n",
      "[CV]  criterion=gini, max_depth=6, min_samples_leaf=2, min_samples_split=10, score=0.5672690763052208, total=   0.1s\n",
      "[CV] criterion=gini, max_depth=6, min_samples_leaf=2, min_samples_split=10 \n",
      "[CV]  criterion=gini, max_depth=6, min_samples_leaf=2, min_samples_split=10, score=0.5694164989939637, total=   0.1s\n",
      "[CV] criterion=gini, max_depth=6, min_samples_leaf=3, min_samples_split=2 \n",
      "[CV]  criterion=gini, max_depth=6, min_samples_leaf=3, min_samples_split=2, score=0.5732931726907631, total=   0.0s\n",
      "[CV] criterion=gini, max_depth=6, min_samples_leaf=3, min_samples_split=2 \n",
      "[CV]  criterion=gini, max_depth=6, min_samples_leaf=3, min_samples_split=2, score=0.5642570281124498, total=   0.1s\n",
      "[CV] criterion=gini, max_depth=6, min_samples_leaf=3, min_samples_split=2 \n",
      "[CV]  criterion=gini, max_depth=6, min_samples_leaf=3, min_samples_split=2, score=0.56841046277666, total=   0.0s\n",
      "[CV] criterion=gini, max_depth=6, min_samples_leaf=3, min_samples_split=5 \n",
      "[CV]  criterion=gini, max_depth=6, min_samples_leaf=3, min_samples_split=5, score=0.571285140562249, total=   0.0s\n",
      "[CV] criterion=gini, max_depth=6, min_samples_leaf=3, min_samples_split=5 \n",
      "[CV]  criterion=gini, max_depth=6, min_samples_leaf=3, min_samples_split=5, score=0.5642570281124498, total=   0.0s\n",
      "[CV] criterion=gini, max_depth=6, min_samples_leaf=3, min_samples_split=5 \n",
      "[CV]  criterion=gini, max_depth=6, min_samples_leaf=3, min_samples_split=5, score=0.5674044265593562, total=   0.0s\n",
      "[CV] criterion=gini, max_depth=6, min_samples_leaf=3, min_samples_split=10 \n",
      "[CV]  criterion=gini, max_depth=6, min_samples_leaf=3, min_samples_split=10, score=0.571285140562249, total=   0.0s\n",
      "[CV] criterion=gini, max_depth=6, min_samples_leaf=3, min_samples_split=10 \n",
      "[CV]  criterion=gini, max_depth=6, min_samples_leaf=3, min_samples_split=10, score=0.5632530120481928, total=   0.0s\n",
      "[CV] criterion=gini, max_depth=6, min_samples_leaf=3, min_samples_split=10 \n",
      "[CV]  criterion=gini, max_depth=6, min_samples_leaf=3, min_samples_split=10, score=0.5704225352112676, total=   0.0s\n",
      "[CV] criterion=gini, max_depth=6, min_samples_leaf=4, min_samples_split=2 \n",
      "[CV]  criterion=gini, max_depth=6, min_samples_leaf=4, min_samples_split=2, score=0.5692771084337349, total=   0.0s\n",
      "[CV] criterion=gini, max_depth=6, min_samples_leaf=4, min_samples_split=2 \n",
      "[CV]  criterion=gini, max_depth=6, min_samples_leaf=4, min_samples_split=2, score=0.5622489959839357, total=   0.0s\n",
      "[CV] criterion=gini, max_depth=6, min_samples_leaf=4, min_samples_split=2 \n",
      "[CV]  criterion=gini, max_depth=6, min_samples_leaf=4, min_samples_split=2, score=0.5714285714285714, total=   0.0s\n",
      "[CV] criterion=gini, max_depth=6, min_samples_leaf=4, min_samples_split=5 \n",
      "[CV]  criterion=gini, max_depth=6, min_samples_leaf=4, min_samples_split=5, score=0.570281124497992, total=   0.0s\n",
      "[CV] criterion=gini, max_depth=6, min_samples_leaf=4, min_samples_split=5 \n",
      "[CV]  criterion=gini, max_depth=6, min_samples_leaf=4, min_samples_split=5, score=0.5632530120481928, total=   0.0s\n",
      "[CV] criterion=gini, max_depth=6, min_samples_leaf=4, min_samples_split=5 \n",
      "[CV]  criterion=gini, max_depth=6, min_samples_leaf=4, min_samples_split=5, score=0.5704225352112676, total=   0.0s\n",
      "[CV] criterion=gini, max_depth=6, min_samples_leaf=4, min_samples_split=10 \n",
      "[CV]  criterion=gini, max_depth=6, min_samples_leaf=4, min_samples_split=10, score=0.570281124497992, total=   0.0s\n",
      "[CV] criterion=gini, max_depth=6, min_samples_leaf=4, min_samples_split=10 \n",
      "[CV]  criterion=gini, max_depth=6, min_samples_leaf=4, min_samples_split=10, score=0.5612449799196787, total=   0.0s\n",
      "[CV] criterion=gini, max_depth=6, min_samples_leaf=4, min_samples_split=10 \n",
      "[CV]  criterion=gini, max_depth=6, min_samples_leaf=4, min_samples_split=10, score=0.5724346076458753, total=   0.0s\n",
      "[CV] criterion=gini, max_depth=6, min_samples_leaf=5, min_samples_split=2 \n",
      "[CV]  criterion=gini, max_depth=6, min_samples_leaf=5, min_samples_split=2, score=0.5662650602409639, total=   0.0s\n",
      "[CV] criterion=gini, max_depth=6, min_samples_leaf=5, min_samples_split=2 \n",
      "[CV]  criterion=gini, max_depth=6, min_samples_leaf=5, min_samples_split=2, score=0.5572289156626506, total=   0.0s\n",
      "[CV] criterion=gini, max_depth=6, min_samples_leaf=5, min_samples_split=2 \n",
      "[CV]  criterion=gini, max_depth=6, min_samples_leaf=5, min_samples_split=2, score=0.5653923541247485, total=   0.0s\n",
      "[CV] criterion=gini, max_depth=6, min_samples_leaf=5, min_samples_split=5 \n",
      "[CV]  criterion=gini, max_depth=6, min_samples_leaf=5, min_samples_split=5, score=0.570281124497992, total=   0.0s\n",
      "[CV] criterion=gini, max_depth=6, min_samples_leaf=5, min_samples_split=5 \n",
      "[CV]  criterion=gini, max_depth=6, min_samples_leaf=5, min_samples_split=5, score=0.5542168674698795, total=   0.0s\n",
      "[CV] criterion=gini, max_depth=6, min_samples_leaf=5, min_samples_split=5 \n",
      "[CV]  criterion=gini, max_depth=6, min_samples_leaf=5, min_samples_split=5, score=0.5704225352112676, total=   0.0s\n",
      "[CV] criterion=gini, max_depth=6, min_samples_leaf=5, min_samples_split=10 \n",
      "[CV]  criterion=gini, max_depth=6, min_samples_leaf=5, min_samples_split=10, score=0.571285140562249, total=   0.0s\n",
      "[CV] criterion=gini, max_depth=6, min_samples_leaf=5, min_samples_split=10 \n",
      "[CV]  criterion=gini, max_depth=6, min_samples_leaf=5, min_samples_split=10, score=0.5582329317269076, total=   0.0s\n",
      "[CV] criterion=gini, max_depth=6, min_samples_leaf=5, min_samples_split=10 \n",
      "[CV]  criterion=gini, max_depth=6, min_samples_leaf=5, min_samples_split=10, score=0.5663983903420523, total=   0.0s\n",
      "[CV] criterion=gini, max_depth=6, min_samples_leaf=6, min_samples_split=2 \n",
      "[CV]  criterion=gini, max_depth=6, min_samples_leaf=6, min_samples_split=2, score=0.571285140562249, total=   0.0s\n",
      "[CV] criterion=gini, max_depth=6, min_samples_leaf=6, min_samples_split=2 \n",
      "[CV]  criterion=gini, max_depth=6, min_samples_leaf=6, min_samples_split=2, score=0.5562248995983936, total=   0.0s\n",
      "[CV] criterion=gini, max_depth=6, min_samples_leaf=6, min_samples_split=2 \n",
      "[CV]  criterion=gini, max_depth=6, min_samples_leaf=6, min_samples_split=2, score=0.5633802816901409, total=   0.0s\n",
      "[CV] criterion=gini, max_depth=6, min_samples_leaf=6, min_samples_split=5 \n",
      "[CV]  criterion=gini, max_depth=6, min_samples_leaf=6, min_samples_split=5, score=0.5672690763052208, total=   0.0s\n",
      "[CV] criterion=gini, max_depth=6, min_samples_leaf=6, min_samples_split=5 \n",
      "[CV]  criterion=gini, max_depth=6, min_samples_leaf=6, min_samples_split=5, score=0.5572289156626506, total=   0.0s\n",
      "[CV] criterion=gini, max_depth=6, min_samples_leaf=6, min_samples_split=5 \n",
      "[CV]  criterion=gini, max_depth=6, min_samples_leaf=6, min_samples_split=5, score=0.562374245472837, total=   0.0s\n",
      "[CV] criterion=gini, max_depth=6, min_samples_leaf=6, min_samples_split=10 \n",
      "[CV]  criterion=gini, max_depth=6, min_samples_leaf=6, min_samples_split=10, score=0.571285140562249, total=   0.0s\n",
      "[CV] criterion=gini, max_depth=6, min_samples_leaf=6, min_samples_split=10 \n",
      "[CV]  criterion=gini, max_depth=6, min_samples_leaf=6, min_samples_split=10, score=0.5572289156626506, total=   0.0s\n",
      "[CV] criterion=gini, max_depth=6, min_samples_leaf=6, min_samples_split=10 \n",
      "[CV]  criterion=gini, max_depth=6, min_samples_leaf=6, min_samples_split=10, score=0.5633802816901409, total=   0.0s\n",
      "[CV] criterion=entropy, max_depth=None, min_samples_leaf=1, min_samples_split=2 \n",
      "[CV]  criterion=entropy, max_depth=None, min_samples_leaf=1, min_samples_split=2, score=0.5612449799196787, total=   0.1s\n",
      "[CV] criterion=entropy, max_depth=None, min_samples_leaf=1, min_samples_split=2 \n"
     ]
    },
    {
     "name": "stdout",
     "output_type": "stream",
     "text": [
      "[CV]  criterion=entropy, max_depth=None, min_samples_leaf=1, min_samples_split=2, score=0.5391566265060241, total=   0.1s\n",
      "[CV] criterion=entropy, max_depth=None, min_samples_leaf=1, min_samples_split=2 \n",
      "[CV]  criterion=entropy, max_depth=None, min_samples_leaf=1, min_samples_split=2, score=0.5643863179074446, total=   0.1s\n",
      "[CV] criterion=entropy, max_depth=None, min_samples_leaf=1, min_samples_split=5 \n",
      "[CV]  criterion=entropy, max_depth=None, min_samples_leaf=1, min_samples_split=5, score=0.5642570281124498, total=   0.1s\n",
      "[CV] criterion=entropy, max_depth=None, min_samples_leaf=1, min_samples_split=5 \n",
      "[CV]  criterion=entropy, max_depth=None, min_samples_leaf=1, min_samples_split=5, score=0.5491967871485943, total=   0.1s\n",
      "[CV] criterion=entropy, max_depth=None, min_samples_leaf=1, min_samples_split=5 \n",
      "[CV]  criterion=entropy, max_depth=None, min_samples_leaf=1, min_samples_split=5, score=0.5422535211267606, total=   0.1s\n",
      "[CV] criterion=entropy, max_depth=None, min_samples_leaf=1, min_samples_split=10 \n",
      "[CV]  criterion=entropy, max_depth=None, min_samples_leaf=1, min_samples_split=10, score=0.5672690763052208, total=   0.1s\n",
      "[CV] criterion=entropy, max_depth=None, min_samples_leaf=1, min_samples_split=10 \n",
      "[CV]  criterion=entropy, max_depth=None, min_samples_leaf=1, min_samples_split=10, score=0.5481927710843374, total=   0.1s\n",
      "[CV] criterion=entropy, max_depth=None, min_samples_leaf=1, min_samples_split=10 \n",
      "[CV]  criterion=entropy, max_depth=None, min_samples_leaf=1, min_samples_split=10, score=0.5533199195171026, total=   0.1s\n",
      "[CV] criterion=entropy, max_depth=None, min_samples_leaf=2, min_samples_split=2 \n",
      "[CV]  criterion=entropy, max_depth=None, min_samples_leaf=2, min_samples_split=2, score=0.5692771084337349, total=   0.1s\n",
      "[CV] criterion=entropy, max_depth=None, min_samples_leaf=2, min_samples_split=2 \n",
      "[CV]  criterion=entropy, max_depth=None, min_samples_leaf=2, min_samples_split=2, score=0.5481927710843374, total=   0.1s\n",
      "[CV] criterion=entropy, max_depth=None, min_samples_leaf=2, min_samples_split=2 \n",
      "[CV]  criterion=entropy, max_depth=None, min_samples_leaf=2, min_samples_split=2, score=0.5482897384305835, total=   0.1s\n",
      "[CV] criterion=entropy, max_depth=None, min_samples_leaf=2, min_samples_split=5 \n",
      "[CV]  criterion=entropy, max_depth=None, min_samples_leaf=2, min_samples_split=5, score=0.5672690763052208, total=   0.1s\n",
      "[CV] criterion=entropy, max_depth=None, min_samples_leaf=2, min_samples_split=5 \n",
      "[CV]  criterion=entropy, max_depth=None, min_samples_leaf=2, min_samples_split=5, score=0.5572289156626506, total=   0.1s\n",
      "[CV] criterion=entropy, max_depth=None, min_samples_leaf=2, min_samples_split=5 \n",
      "[CV]  criterion=entropy, max_depth=None, min_samples_leaf=2, min_samples_split=5, score=0.5533199195171026, total=   0.1s\n",
      "[CV] criterion=entropy, max_depth=None, min_samples_leaf=2, min_samples_split=10 \n",
      "[CV]  criterion=entropy, max_depth=None, min_samples_leaf=2, min_samples_split=10, score=0.5642570281124498, total=   0.1s\n",
      "[CV] criterion=entropy, max_depth=None, min_samples_leaf=2, min_samples_split=10 \n",
      "[CV]  criterion=entropy, max_depth=None, min_samples_leaf=2, min_samples_split=10, score=0.5371485943775101, total=   0.1s\n",
      "[CV] criterion=entropy, max_depth=None, min_samples_leaf=2, min_samples_split=10 \n",
      "[CV]  criterion=entropy, max_depth=None, min_samples_leaf=2, min_samples_split=10, score=0.5472837022132797, total=   0.1s\n",
      "[CV] criterion=entropy, max_depth=None, min_samples_leaf=3, min_samples_split=2 \n",
      "[CV]  criterion=entropy, max_depth=None, min_samples_leaf=3, min_samples_split=2, score=0.571285140562249, total=   0.1s\n",
      "[CV] criterion=entropy, max_depth=None, min_samples_leaf=3, min_samples_split=2 \n",
      "[CV]  criterion=entropy, max_depth=None, min_samples_leaf=3, min_samples_split=2, score=0.5542168674698795, total=   0.1s\n",
      "[CV] criterion=entropy, max_depth=None, min_samples_leaf=3, min_samples_split=2 \n",
      "[CV]  criterion=entropy, max_depth=None, min_samples_leaf=3, min_samples_split=2, score=0.545271629778672, total=   0.1s\n",
      "[CV] criterion=entropy, max_depth=None, min_samples_leaf=3, min_samples_split=5 \n",
      "[CV]  criterion=entropy, max_depth=None, min_samples_leaf=3, min_samples_split=5, score=0.5853413654618473, total=   0.1s\n",
      "[CV] criterion=entropy, max_depth=None, min_samples_leaf=3, min_samples_split=5 \n",
      "[CV]  criterion=entropy, max_depth=None, min_samples_leaf=3, min_samples_split=5, score=0.5421686746987951, total=   0.1s\n",
      "[CV] criterion=entropy, max_depth=None, min_samples_leaf=3, min_samples_split=5 \n",
      "[CV]  criterion=entropy, max_depth=None, min_samples_leaf=3, min_samples_split=5, score=0.5362173038229376, total=   0.1s\n",
      "[CV] criterion=entropy, max_depth=None, min_samples_leaf=3, min_samples_split=10 \n",
      "[CV]  criterion=entropy, max_depth=None, min_samples_leaf=3, min_samples_split=10, score=0.5582329317269076, total=   0.1s\n",
      "[CV] criterion=entropy, max_depth=None, min_samples_leaf=3, min_samples_split=10 \n",
      "[CV]  criterion=entropy, max_depth=None, min_samples_leaf=3, min_samples_split=10, score=0.5491967871485943, total=   0.1s\n",
      "[CV] criterion=entropy, max_depth=None, min_samples_leaf=3, min_samples_split=10 \n",
      "[CV]  criterion=entropy, max_depth=None, min_samples_leaf=3, min_samples_split=10, score=0.5543259557344065, total=   0.1s\n",
      "[CV] criterion=entropy, max_depth=None, min_samples_leaf=4, min_samples_split=2 \n",
      "[CV]  criterion=entropy, max_depth=None, min_samples_leaf=4, min_samples_split=2, score=0.5582329317269076, total=   0.1s\n",
      "[CV] criterion=entropy, max_depth=None, min_samples_leaf=4, min_samples_split=2 \n",
      "[CV]  criterion=entropy, max_depth=None, min_samples_leaf=4, min_samples_split=2, score=0.5532128514056225, total=   0.1s\n",
      "[CV] criterion=entropy, max_depth=None, min_samples_leaf=4, min_samples_split=2 \n",
      "[CV]  criterion=entropy, max_depth=None, min_samples_leaf=4, min_samples_split=2, score=0.5432595573440644, total=   0.1s\n",
      "[CV] criterion=entropy, max_depth=None, min_samples_leaf=4, min_samples_split=5 \n",
      "[CV]  criterion=entropy, max_depth=None, min_samples_leaf=4, min_samples_split=5, score=0.5502008032128514, total=   0.1s\n",
      "[CV] criterion=entropy, max_depth=None, min_samples_leaf=4, min_samples_split=5 \n",
      "[CV]  criterion=entropy, max_depth=None, min_samples_leaf=4, min_samples_split=5, score=0.5441767068273092, total=   0.1s\n",
      "[CV] criterion=entropy, max_depth=None, min_samples_leaf=4, min_samples_split=5 \n",
      "[CV]  criterion=entropy, max_depth=None, min_samples_leaf=4, min_samples_split=5, score=0.5432595573440644, total=   0.1s\n",
      "[CV] criterion=entropy, max_depth=None, min_samples_leaf=4, min_samples_split=10 \n",
      "[CV]  criterion=entropy, max_depth=None, min_samples_leaf=4, min_samples_split=10, score=0.5662650602409639, total=   0.1s\n",
      "[CV] criterion=entropy, max_depth=None, min_samples_leaf=4, min_samples_split=10 \n",
      "[CV]  criterion=entropy, max_depth=None, min_samples_leaf=4, min_samples_split=10, score=0.5381526104417671, total=   0.1s\n",
      "[CV] criterion=entropy, max_depth=None, min_samples_leaf=4, min_samples_split=10 \n",
      "[CV]  criterion=entropy, max_depth=None, min_samples_leaf=4, min_samples_split=10, score=0.5553319919517102, total=   0.1s\n",
      "[CV] criterion=entropy, max_depth=None, min_samples_leaf=5, min_samples_split=2 \n",
      "[CV]  criterion=entropy, max_depth=None, min_samples_leaf=5, min_samples_split=2, score=0.5602409638554217, total=   0.1s\n",
      "[CV] criterion=entropy, max_depth=None, min_samples_leaf=5, min_samples_split=2 \n",
      "[CV]  criterion=entropy, max_depth=None, min_samples_leaf=5, min_samples_split=2, score=0.5471887550200804, total=   0.1s\n",
      "[CV] criterion=entropy, max_depth=None, min_samples_leaf=5, min_samples_split=2 \n",
      "[CV]  criterion=entropy, max_depth=None, min_samples_leaf=5, min_samples_split=2, score=0.5553319919517102, total=   0.1s\n",
      "[CV] criterion=entropy, max_depth=None, min_samples_leaf=5, min_samples_split=5 \n",
      "[CV]  criterion=entropy, max_depth=None, min_samples_leaf=5, min_samples_split=5, score=0.571285140562249, total=   0.1s\n",
      "[CV] criterion=entropy, max_depth=None, min_samples_leaf=5, min_samples_split=5 \n",
      "[CV]  criterion=entropy, max_depth=None, min_samples_leaf=5, min_samples_split=5, score=0.5481927710843374, total=   0.1s\n",
      "[CV] criterion=entropy, max_depth=None, min_samples_leaf=5, min_samples_split=5 \n",
      "[CV]  criterion=entropy, max_depth=None, min_samples_leaf=5, min_samples_split=5, score=0.5533199195171026, total=   0.1s\n",
      "[CV] criterion=entropy, max_depth=None, min_samples_leaf=5, min_samples_split=10 \n",
      "[CV]  criterion=entropy, max_depth=None, min_samples_leaf=5, min_samples_split=10, score=0.5662650602409639, total=   0.1s\n",
      "[CV] criterion=entropy, max_depth=None, min_samples_leaf=5, min_samples_split=10 \n"
     ]
    },
    {
     "name": "stdout",
     "output_type": "stream",
     "text": [
      "[CV]  criterion=entropy, max_depth=None, min_samples_leaf=5, min_samples_split=10, score=0.5542168674698795, total=   0.1s\n",
      "[CV] criterion=entropy, max_depth=None, min_samples_leaf=5, min_samples_split=10 \n",
      "[CV]  criterion=entropy, max_depth=None, min_samples_leaf=5, min_samples_split=10, score=0.5573440643863179, total=   0.1s\n",
      "[CV] criterion=entropy, max_depth=None, min_samples_leaf=6, min_samples_split=2 \n",
      "[CV]  criterion=entropy, max_depth=None, min_samples_leaf=6, min_samples_split=2, score=0.5562248995983936, total=   0.1s\n",
      "[CV] criterion=entropy, max_depth=None, min_samples_leaf=6, min_samples_split=2 \n",
      "[CV]  criterion=entropy, max_depth=None, min_samples_leaf=6, min_samples_split=2, score=0.5672690763052208, total=   0.1s\n",
      "[CV] criterion=entropy, max_depth=None, min_samples_leaf=6, min_samples_split=2 \n",
      "[CV]  criterion=entropy, max_depth=None, min_samples_leaf=6, min_samples_split=2, score=0.5563380281690141, total=   0.1s\n",
      "[CV] criterion=entropy, max_depth=None, min_samples_leaf=6, min_samples_split=5 \n",
      "[CV]  criterion=entropy, max_depth=None, min_samples_leaf=6, min_samples_split=5, score=0.5481927710843374, total=   0.1s\n",
      "[CV] criterion=entropy, max_depth=None, min_samples_leaf=6, min_samples_split=5 \n",
      "[CV]  criterion=entropy, max_depth=None, min_samples_leaf=6, min_samples_split=5, score=0.5562248995983936, total=   0.1s\n",
      "[CV] criterion=entropy, max_depth=None, min_samples_leaf=6, min_samples_split=5 \n",
      "[CV]  criterion=entropy, max_depth=None, min_samples_leaf=6, min_samples_split=5, score=0.5523138832997988, total=   0.1s\n",
      "[CV] criterion=entropy, max_depth=None, min_samples_leaf=6, min_samples_split=10 \n",
      "[CV]  criterion=entropy, max_depth=None, min_samples_leaf=6, min_samples_split=10, score=0.5652610441767069, total=   0.1s\n",
      "[CV] criterion=entropy, max_depth=None, min_samples_leaf=6, min_samples_split=10 \n",
      "[CV]  criterion=entropy, max_depth=None, min_samples_leaf=6, min_samples_split=10, score=0.5602409638554217, total=   0.1s\n",
      "[CV] criterion=entropy, max_depth=None, min_samples_leaf=6, min_samples_split=10 \n",
      "[CV]  criterion=entropy, max_depth=None, min_samples_leaf=6, min_samples_split=10, score=0.5593561368209256, total=   0.1s\n",
      "[CV] criterion=entropy, max_depth=2, min_samples_leaf=1, min_samples_split=2 \n",
      "[CV]  criterion=entropy, max_depth=2, min_samples_leaf=1, min_samples_split=2, score=0.5943775100401606, total=   0.0s\n",
      "[CV] criterion=entropy, max_depth=2, min_samples_leaf=1, min_samples_split=2 \n",
      "[CV]  criterion=entropy, max_depth=2, min_samples_leaf=1, min_samples_split=2, score=0.572289156626506, total=   0.0s\n",
      "[CV] criterion=entropy, max_depth=2, min_samples_leaf=1, min_samples_split=2 \n",
      "[CV]  criterion=entropy, max_depth=2, min_samples_leaf=1, min_samples_split=2, score=0.5734406438631791, total=   0.0s\n",
      "[CV] criterion=entropy, max_depth=2, min_samples_leaf=1, min_samples_split=5 \n",
      "[CV]  criterion=entropy, max_depth=2, min_samples_leaf=1, min_samples_split=5, score=0.5943775100401606, total=   0.0s\n",
      "[CV] criterion=entropy, max_depth=2, min_samples_leaf=1, min_samples_split=5 \n",
      "[CV]  criterion=entropy, max_depth=2, min_samples_leaf=1, min_samples_split=5, score=0.572289156626506, total=   0.0s\n",
      "[CV] criterion=entropy, max_depth=2, min_samples_leaf=1, min_samples_split=5 \n",
      "[CV]  criterion=entropy, max_depth=2, min_samples_leaf=1, min_samples_split=5, score=0.5734406438631791, total=   0.0s\n",
      "[CV] criterion=entropy, max_depth=2, min_samples_leaf=1, min_samples_split=10 \n",
      "[CV]  criterion=entropy, max_depth=2, min_samples_leaf=1, min_samples_split=10, score=0.5943775100401606, total=   0.0s\n",
      "[CV] criterion=entropy, max_depth=2, min_samples_leaf=1, min_samples_split=10 \n",
      "[CV]  criterion=entropy, max_depth=2, min_samples_leaf=1, min_samples_split=10, score=0.572289156626506, total=   0.0s\n",
      "[CV] criterion=entropy, max_depth=2, min_samples_leaf=1, min_samples_split=10 \n",
      "[CV]  criterion=entropy, max_depth=2, min_samples_leaf=1, min_samples_split=10, score=0.5734406438631791, total=   0.0s\n",
      "[CV] criterion=entropy, max_depth=2, min_samples_leaf=2, min_samples_split=2 \n",
      "[CV]  criterion=entropy, max_depth=2, min_samples_leaf=2, min_samples_split=2, score=0.5943775100401606, total=   0.0s\n",
      "[CV] criterion=entropy, max_depth=2, min_samples_leaf=2, min_samples_split=2 \n",
      "[CV]  criterion=entropy, max_depth=2, min_samples_leaf=2, min_samples_split=2, score=0.572289156626506, total=   0.0s\n",
      "[CV] criterion=entropy, max_depth=2, min_samples_leaf=2, min_samples_split=2 \n",
      "[CV]  criterion=entropy, max_depth=2, min_samples_leaf=2, min_samples_split=2, score=0.5734406438631791, total=   0.0s\n",
      "[CV] criterion=entropy, max_depth=2, min_samples_leaf=2, min_samples_split=5 \n",
      "[CV]  criterion=entropy, max_depth=2, min_samples_leaf=2, min_samples_split=5, score=0.5943775100401606, total=   0.0s\n",
      "[CV] criterion=entropy, max_depth=2, min_samples_leaf=2, min_samples_split=5 \n",
      "[CV]  criterion=entropy, max_depth=2, min_samples_leaf=2, min_samples_split=5, score=0.572289156626506, total=   0.0s\n",
      "[CV] criterion=entropy, max_depth=2, min_samples_leaf=2, min_samples_split=5 \n",
      "[CV]  criterion=entropy, max_depth=2, min_samples_leaf=2, min_samples_split=5, score=0.5734406438631791, total=   0.0s\n",
      "[CV] criterion=entropy, max_depth=2, min_samples_leaf=2, min_samples_split=10 \n",
      "[CV]  criterion=entropy, max_depth=2, min_samples_leaf=2, min_samples_split=10, score=0.5943775100401606, total=   0.0s\n",
      "[CV] criterion=entropy, max_depth=2, min_samples_leaf=2, min_samples_split=10 \n",
      "[CV]  criterion=entropy, max_depth=2, min_samples_leaf=2, min_samples_split=10, score=0.572289156626506, total=   0.0s\n",
      "[CV] criterion=entropy, max_depth=2, min_samples_leaf=2, min_samples_split=10 \n",
      "[CV]  criterion=entropy, max_depth=2, min_samples_leaf=2, min_samples_split=10, score=0.5734406438631791, total=   0.0s\n",
      "[CV] criterion=entropy, max_depth=2, min_samples_leaf=3, min_samples_split=2 \n",
      "[CV]  criterion=entropy, max_depth=2, min_samples_leaf=3, min_samples_split=2, score=0.5943775100401606, total=   0.0s\n",
      "[CV] criterion=entropy, max_depth=2, min_samples_leaf=3, min_samples_split=2 \n",
      "[CV]  criterion=entropy, max_depth=2, min_samples_leaf=3, min_samples_split=2, score=0.572289156626506, total=   0.0s\n",
      "[CV] criterion=entropy, max_depth=2, min_samples_leaf=3, min_samples_split=2 \n",
      "[CV]  criterion=entropy, max_depth=2, min_samples_leaf=3, min_samples_split=2, score=0.5734406438631791, total=   0.0s\n",
      "[CV] criterion=entropy, max_depth=2, min_samples_leaf=3, min_samples_split=5 \n",
      "[CV]  criterion=entropy, max_depth=2, min_samples_leaf=3, min_samples_split=5, score=0.5943775100401606, total=   0.0s\n",
      "[CV] criterion=entropy, max_depth=2, min_samples_leaf=3, min_samples_split=5 \n",
      "[CV]  criterion=entropy, max_depth=2, min_samples_leaf=3, min_samples_split=5, score=0.572289156626506, total=   0.0s\n",
      "[CV] criterion=entropy, max_depth=2, min_samples_leaf=3, min_samples_split=5 \n",
      "[CV]  criterion=entropy, max_depth=2, min_samples_leaf=3, min_samples_split=5, score=0.5734406438631791, total=   0.0s\n",
      "[CV] criterion=entropy, max_depth=2, min_samples_leaf=3, min_samples_split=10 \n",
      "[CV]  criterion=entropy, max_depth=2, min_samples_leaf=3, min_samples_split=10, score=0.5943775100401606, total=   0.0s\n",
      "[CV] criterion=entropy, max_depth=2, min_samples_leaf=3, min_samples_split=10 \n",
      "[CV]  criterion=entropy, max_depth=2, min_samples_leaf=3, min_samples_split=10, score=0.572289156626506, total=   0.0s\n",
      "[CV] criterion=entropy, max_depth=2, min_samples_leaf=3, min_samples_split=10 \n",
      "[CV]  criterion=entropy, max_depth=2, min_samples_leaf=3, min_samples_split=10, score=0.5734406438631791, total=   0.0s\n",
      "[CV] criterion=entropy, max_depth=2, min_samples_leaf=4, min_samples_split=2 \n",
      "[CV]  criterion=entropy, max_depth=2, min_samples_leaf=4, min_samples_split=2, score=0.5943775100401606, total=   0.0s\n",
      "[CV] criterion=entropy, max_depth=2, min_samples_leaf=4, min_samples_split=2 \n",
      "[CV]  criterion=entropy, max_depth=2, min_samples_leaf=4, min_samples_split=2, score=0.572289156626506, total=   0.0s\n",
      "[CV] criterion=entropy, max_depth=2, min_samples_leaf=4, min_samples_split=2 \n",
      "[CV]  criterion=entropy, max_depth=2, min_samples_leaf=4, min_samples_split=2, score=0.5734406438631791, total=   0.0s\n",
      "[CV] criterion=entropy, max_depth=2, min_samples_leaf=4, min_samples_split=5 \n",
      "[CV]  criterion=entropy, max_depth=2, min_samples_leaf=4, min_samples_split=5, score=0.5943775100401606, total=   0.0s\n",
      "[CV] criterion=entropy, max_depth=2, min_samples_leaf=4, min_samples_split=5 \n",
      "[CV]  criterion=entropy, max_depth=2, min_samples_leaf=4, min_samples_split=5, score=0.572289156626506, total=   0.0s\n",
      "[CV] criterion=entropy, max_depth=2, min_samples_leaf=4, min_samples_split=5 \n",
      "[CV]  criterion=entropy, max_depth=2, min_samples_leaf=4, min_samples_split=5, score=0.5734406438631791, total=   0.0s\n",
      "[CV] criterion=entropy, max_depth=2, min_samples_leaf=4, min_samples_split=10 \n"
     ]
    },
    {
     "name": "stdout",
     "output_type": "stream",
     "text": [
      "[CV]  criterion=entropy, max_depth=2, min_samples_leaf=4, min_samples_split=10, score=0.5943775100401606, total=   0.0s\n",
      "[CV] criterion=entropy, max_depth=2, min_samples_leaf=4, min_samples_split=10 \n",
      "[CV]  criterion=entropy, max_depth=2, min_samples_leaf=4, min_samples_split=10, score=0.572289156626506, total=   0.0s\n",
      "[CV] criterion=entropy, max_depth=2, min_samples_leaf=4, min_samples_split=10 \n",
      "[CV]  criterion=entropy, max_depth=2, min_samples_leaf=4, min_samples_split=10, score=0.5734406438631791, total=   0.0s\n",
      "[CV] criterion=entropy, max_depth=2, min_samples_leaf=5, min_samples_split=2 \n",
      "[CV]  criterion=entropy, max_depth=2, min_samples_leaf=5, min_samples_split=2, score=0.5943775100401606, total=   0.0s\n",
      "[CV] criterion=entropy, max_depth=2, min_samples_leaf=5, min_samples_split=2 \n",
      "[CV]  criterion=entropy, max_depth=2, min_samples_leaf=5, min_samples_split=2, score=0.572289156626506, total=   0.0s\n",
      "[CV] criterion=entropy, max_depth=2, min_samples_leaf=5, min_samples_split=2 \n",
      "[CV]  criterion=entropy, max_depth=2, min_samples_leaf=5, min_samples_split=2, score=0.5734406438631791, total=   0.0s\n",
      "[CV] criterion=entropy, max_depth=2, min_samples_leaf=5, min_samples_split=5 \n",
      "[CV]  criterion=entropy, max_depth=2, min_samples_leaf=5, min_samples_split=5, score=0.5943775100401606, total=   0.0s\n",
      "[CV] criterion=entropy, max_depth=2, min_samples_leaf=5, min_samples_split=5 \n",
      "[CV]  criterion=entropy, max_depth=2, min_samples_leaf=5, min_samples_split=5, score=0.572289156626506, total=   0.0s\n",
      "[CV] criterion=entropy, max_depth=2, min_samples_leaf=5, min_samples_split=5 \n",
      "[CV]  criterion=entropy, max_depth=2, min_samples_leaf=5, min_samples_split=5, score=0.5734406438631791, total=   0.0s\n",
      "[CV] criterion=entropy, max_depth=2, min_samples_leaf=5, min_samples_split=10 \n",
      "[CV]  criterion=entropy, max_depth=2, min_samples_leaf=5, min_samples_split=10, score=0.5943775100401606, total=   0.0s\n",
      "[CV] criterion=entropy, max_depth=2, min_samples_leaf=5, min_samples_split=10 \n",
      "[CV]  criterion=entropy, max_depth=2, min_samples_leaf=5, min_samples_split=10, score=0.572289156626506, total=   0.0s\n",
      "[CV] criterion=entropy, max_depth=2, min_samples_leaf=5, min_samples_split=10 \n",
      "[CV]  criterion=entropy, max_depth=2, min_samples_leaf=5, min_samples_split=10, score=0.5734406438631791, total=   0.0s\n",
      "[CV] criterion=entropy, max_depth=2, min_samples_leaf=6, min_samples_split=2 \n",
      "[CV]  criterion=entropy, max_depth=2, min_samples_leaf=6, min_samples_split=2, score=0.5943775100401606, total=   0.0s\n",
      "[CV] criterion=entropy, max_depth=2, min_samples_leaf=6, min_samples_split=2 \n",
      "[CV]  criterion=entropy, max_depth=2, min_samples_leaf=6, min_samples_split=2, score=0.572289156626506, total=   0.0s\n",
      "[CV] criterion=entropy, max_depth=2, min_samples_leaf=6, min_samples_split=2 \n",
      "[CV]  criterion=entropy, max_depth=2, min_samples_leaf=6, min_samples_split=2, score=0.5734406438631791, total=   0.0s\n",
      "[CV] criterion=entropy, max_depth=2, min_samples_leaf=6, min_samples_split=5 \n",
      "[CV]  criterion=entropy, max_depth=2, min_samples_leaf=6, min_samples_split=5, score=0.5943775100401606, total=   0.0s\n",
      "[CV] criterion=entropy, max_depth=2, min_samples_leaf=6, min_samples_split=5 \n",
      "[CV]  criterion=entropy, max_depth=2, min_samples_leaf=6, min_samples_split=5, score=0.572289156626506, total=   0.0s\n",
      "[CV] criterion=entropy, max_depth=2, min_samples_leaf=6, min_samples_split=5 \n",
      "[CV]  criterion=entropy, max_depth=2, min_samples_leaf=6, min_samples_split=5, score=0.5734406438631791, total=   0.0s\n",
      "[CV] criterion=entropy, max_depth=2, min_samples_leaf=6, min_samples_split=10 \n",
      "[CV]  criterion=entropy, max_depth=2, min_samples_leaf=6, min_samples_split=10, score=0.5943775100401606, total=   0.0s\n",
      "[CV] criterion=entropy, max_depth=2, min_samples_leaf=6, min_samples_split=10 \n",
      "[CV]  criterion=entropy, max_depth=2, min_samples_leaf=6, min_samples_split=10, score=0.572289156626506, total=   0.0s\n",
      "[CV] criterion=entropy, max_depth=2, min_samples_leaf=6, min_samples_split=10 \n",
      "[CV]  criterion=entropy, max_depth=2, min_samples_leaf=6, min_samples_split=10, score=0.5734406438631791, total=   0.0s\n",
      "[CV] criterion=entropy, max_depth=3, min_samples_leaf=1, min_samples_split=2 \n",
      "[CV]  criterion=entropy, max_depth=3, min_samples_leaf=1, min_samples_split=2, score=0.5883534136546185, total=   0.0s\n",
      "[CV] criterion=entropy, max_depth=3, min_samples_leaf=1, min_samples_split=2 \n",
      "[CV]  criterion=entropy, max_depth=3, min_samples_leaf=1, min_samples_split=2, score=0.5813253012048193, total=   0.0s\n",
      "[CV] criterion=entropy, max_depth=3, min_samples_leaf=1, min_samples_split=2 \n",
      "[CV]  criterion=entropy, max_depth=3, min_samples_leaf=1, min_samples_split=2, score=0.5835010060362174, total=   0.0s\n",
      "[CV] criterion=entropy, max_depth=3, min_samples_leaf=1, min_samples_split=5 \n",
      "[CV]  criterion=entropy, max_depth=3, min_samples_leaf=1, min_samples_split=5, score=0.5883534136546185, total=   0.0s\n",
      "[CV] criterion=entropy, max_depth=3, min_samples_leaf=1, min_samples_split=5 \n",
      "[CV]  criterion=entropy, max_depth=3, min_samples_leaf=1, min_samples_split=5, score=0.5813253012048193, total=   0.0s\n",
      "[CV] criterion=entropy, max_depth=3, min_samples_leaf=1, min_samples_split=5 \n",
      "[CV]  criterion=entropy, max_depth=3, min_samples_leaf=1, min_samples_split=5, score=0.5835010060362174, total=   0.0s\n",
      "[CV] criterion=entropy, max_depth=3, min_samples_leaf=1, min_samples_split=10 \n",
      "[CV]  criterion=entropy, max_depth=3, min_samples_leaf=1, min_samples_split=10, score=0.5883534136546185, total=   0.0s\n",
      "[CV] criterion=entropy, max_depth=3, min_samples_leaf=1, min_samples_split=10 \n",
      "[CV]  criterion=entropy, max_depth=3, min_samples_leaf=1, min_samples_split=10, score=0.5813253012048193, total=   0.0s\n",
      "[CV] criterion=entropy, max_depth=3, min_samples_leaf=1, min_samples_split=10 \n",
      "[CV]  criterion=entropy, max_depth=3, min_samples_leaf=1, min_samples_split=10, score=0.5835010060362174, total=   0.0s\n",
      "[CV] criterion=entropy, max_depth=3, min_samples_leaf=2, min_samples_split=2 \n",
      "[CV]  criterion=entropy, max_depth=3, min_samples_leaf=2, min_samples_split=2, score=0.5883534136546185, total=   0.0s\n",
      "[CV] criterion=entropy, max_depth=3, min_samples_leaf=2, min_samples_split=2 \n",
      "[CV]  criterion=entropy, max_depth=3, min_samples_leaf=2, min_samples_split=2, score=0.5813253012048193, total=   0.0s\n",
      "[CV] criterion=entropy, max_depth=3, min_samples_leaf=2, min_samples_split=2 \n",
      "[CV]  criterion=entropy, max_depth=3, min_samples_leaf=2, min_samples_split=2, score=0.5835010060362174, total=   0.0s\n",
      "[CV] criterion=entropy, max_depth=3, min_samples_leaf=2, min_samples_split=5 \n",
      "[CV]  criterion=entropy, max_depth=3, min_samples_leaf=2, min_samples_split=5, score=0.5883534136546185, total=   0.0s\n",
      "[CV] criterion=entropy, max_depth=3, min_samples_leaf=2, min_samples_split=5 \n",
      "[CV]  criterion=entropy, max_depth=3, min_samples_leaf=2, min_samples_split=5, score=0.5813253012048193, total=   0.0s\n",
      "[CV] criterion=entropy, max_depth=3, min_samples_leaf=2, min_samples_split=5 \n",
      "[CV]  criterion=entropy, max_depth=3, min_samples_leaf=2, min_samples_split=5, score=0.5835010060362174, total=   0.0s\n",
      "[CV] criterion=entropy, max_depth=3, min_samples_leaf=2, min_samples_split=10 \n",
      "[CV]  criterion=entropy, max_depth=3, min_samples_leaf=2, min_samples_split=10, score=0.5883534136546185, total=   0.0s\n",
      "[CV] criterion=entropy, max_depth=3, min_samples_leaf=2, min_samples_split=10 \n",
      "[CV]  criterion=entropy, max_depth=3, min_samples_leaf=2, min_samples_split=10, score=0.5813253012048193, total=   0.0s\n",
      "[CV] criterion=entropy, max_depth=3, min_samples_leaf=2, min_samples_split=10 \n",
      "[CV]  criterion=entropy, max_depth=3, min_samples_leaf=2, min_samples_split=10, score=0.5835010060362174, total=   0.0s\n",
      "[CV] criterion=entropy, max_depth=3, min_samples_leaf=3, min_samples_split=2 \n",
      "[CV]  criterion=entropy, max_depth=3, min_samples_leaf=3, min_samples_split=2, score=0.5883534136546185, total=   0.0s\n",
      "[CV] criterion=entropy, max_depth=3, min_samples_leaf=3, min_samples_split=2 \n",
      "[CV]  criterion=entropy, max_depth=3, min_samples_leaf=3, min_samples_split=2, score=0.5813253012048193, total=   0.0s\n",
      "[CV] criterion=entropy, max_depth=3, min_samples_leaf=3, min_samples_split=2 \n",
      "[CV]  criterion=entropy, max_depth=3, min_samples_leaf=3, min_samples_split=2, score=0.5835010060362174, total=   0.0s\n",
      "[CV] criterion=entropy, max_depth=3, min_samples_leaf=3, min_samples_split=5 \n",
      "[CV]  criterion=entropy, max_depth=3, min_samples_leaf=3, min_samples_split=5, score=0.5883534136546185, total=   0.0s\n",
      "[CV] criterion=entropy, max_depth=3, min_samples_leaf=3, min_samples_split=5 \n",
      "[CV]  criterion=entropy, max_depth=3, min_samples_leaf=3, min_samples_split=5, score=0.5813253012048193, total=   0.0s\n",
      "[CV] criterion=entropy, max_depth=3, min_samples_leaf=3, min_samples_split=5 \n",
      "[CV]  criterion=entropy, max_depth=3, min_samples_leaf=3, min_samples_split=5, score=0.5835010060362174, total=   0.0s\n",
      "[CV] criterion=entropy, max_depth=3, min_samples_leaf=3, min_samples_split=10 \n",
      "[CV]  criterion=entropy, max_depth=3, min_samples_leaf=3, min_samples_split=10, score=0.5883534136546185, total=   0.0s\n",
      "[CV] criterion=entropy, max_depth=3, min_samples_leaf=3, min_samples_split=10 \n"
     ]
    },
    {
     "name": "stdout",
     "output_type": "stream",
     "text": [
      "[CV]  criterion=entropy, max_depth=3, min_samples_leaf=3, min_samples_split=10, score=0.5813253012048193, total=   0.0s\n",
      "[CV] criterion=entropy, max_depth=3, min_samples_leaf=3, min_samples_split=10 \n",
      "[CV]  criterion=entropy, max_depth=3, min_samples_leaf=3, min_samples_split=10, score=0.5835010060362174, total=   0.0s\n",
      "[CV] criterion=entropy, max_depth=3, min_samples_leaf=4, min_samples_split=2 \n",
      "[CV]  criterion=entropy, max_depth=3, min_samples_leaf=4, min_samples_split=2, score=0.5883534136546185, total=   0.0s\n",
      "[CV] criterion=entropy, max_depth=3, min_samples_leaf=4, min_samples_split=2 \n",
      "[CV]  criterion=entropy, max_depth=3, min_samples_leaf=4, min_samples_split=2, score=0.5813253012048193, total=   0.0s\n",
      "[CV] criterion=entropy, max_depth=3, min_samples_leaf=4, min_samples_split=2 \n",
      "[CV]  criterion=entropy, max_depth=3, min_samples_leaf=4, min_samples_split=2, score=0.5835010060362174, total=   0.0s\n",
      "[CV] criterion=entropy, max_depth=3, min_samples_leaf=4, min_samples_split=5 \n",
      "[CV]  criterion=entropy, max_depth=3, min_samples_leaf=4, min_samples_split=5, score=0.5883534136546185, total=   0.0s\n",
      "[CV] criterion=entropy, max_depth=3, min_samples_leaf=4, min_samples_split=5 \n",
      "[CV]  criterion=entropy, max_depth=3, min_samples_leaf=4, min_samples_split=5, score=0.5813253012048193, total=   0.0s\n",
      "[CV] criterion=entropy, max_depth=3, min_samples_leaf=4, min_samples_split=5 \n",
      "[CV]  criterion=entropy, max_depth=3, min_samples_leaf=4, min_samples_split=5, score=0.5835010060362174, total=   0.0s\n",
      "[CV] criterion=entropy, max_depth=3, min_samples_leaf=4, min_samples_split=10 \n",
      "[CV]  criterion=entropy, max_depth=3, min_samples_leaf=4, min_samples_split=10, score=0.5883534136546185, total=   0.0s\n",
      "[CV] criterion=entropy, max_depth=3, min_samples_leaf=4, min_samples_split=10 \n",
      "[CV]  criterion=entropy, max_depth=3, min_samples_leaf=4, min_samples_split=10, score=0.5813253012048193, total=   0.0s\n",
      "[CV] criterion=entropy, max_depth=3, min_samples_leaf=4, min_samples_split=10 \n",
      "[CV]  criterion=entropy, max_depth=3, min_samples_leaf=4, min_samples_split=10, score=0.5835010060362174, total=   0.0s\n",
      "[CV] criterion=entropy, max_depth=3, min_samples_leaf=5, min_samples_split=2 \n",
      "[CV]  criterion=entropy, max_depth=3, min_samples_leaf=5, min_samples_split=2, score=0.5883534136546185, total=   0.0s\n",
      "[CV] criterion=entropy, max_depth=3, min_samples_leaf=5, min_samples_split=2 \n",
      "[CV]  criterion=entropy, max_depth=3, min_samples_leaf=5, min_samples_split=2, score=0.5813253012048193, total=   0.0s\n",
      "[CV] criterion=entropy, max_depth=3, min_samples_leaf=5, min_samples_split=2 \n",
      "[CV]  criterion=entropy, max_depth=3, min_samples_leaf=5, min_samples_split=2, score=0.5835010060362174, total=   0.0s\n",
      "[CV] criterion=entropy, max_depth=3, min_samples_leaf=5, min_samples_split=5 \n",
      "[CV]  criterion=entropy, max_depth=3, min_samples_leaf=5, min_samples_split=5, score=0.5883534136546185, total=   0.0s\n",
      "[CV] criterion=entropy, max_depth=3, min_samples_leaf=5, min_samples_split=5 \n",
      "[CV]  criterion=entropy, max_depth=3, min_samples_leaf=5, min_samples_split=5, score=0.5813253012048193, total=   0.0s\n",
      "[CV] criterion=entropy, max_depth=3, min_samples_leaf=5, min_samples_split=5 \n",
      "[CV]  criterion=entropy, max_depth=3, min_samples_leaf=5, min_samples_split=5, score=0.5835010060362174, total=   0.0s\n",
      "[CV] criterion=entropy, max_depth=3, min_samples_leaf=5, min_samples_split=10 \n",
      "[CV]  criterion=entropy, max_depth=3, min_samples_leaf=5, min_samples_split=10, score=0.5883534136546185, total=   0.0s\n",
      "[CV] criterion=entropy, max_depth=3, min_samples_leaf=5, min_samples_split=10 \n",
      "[CV]  criterion=entropy, max_depth=3, min_samples_leaf=5, min_samples_split=10, score=0.5813253012048193, total=   0.0s\n",
      "[CV] criterion=entropy, max_depth=3, min_samples_leaf=5, min_samples_split=10 \n",
      "[CV]  criterion=entropy, max_depth=3, min_samples_leaf=5, min_samples_split=10, score=0.5835010060362174, total=   0.0s\n",
      "[CV] criterion=entropy, max_depth=3, min_samples_leaf=6, min_samples_split=2 \n",
      "[CV]  criterion=entropy, max_depth=3, min_samples_leaf=6, min_samples_split=2, score=0.5883534136546185, total=   0.0s\n",
      "[CV] criterion=entropy, max_depth=3, min_samples_leaf=6, min_samples_split=2 \n",
      "[CV]  criterion=entropy, max_depth=3, min_samples_leaf=6, min_samples_split=2, score=0.5813253012048193, total=   0.0s\n",
      "[CV] criterion=entropy, max_depth=3, min_samples_leaf=6, min_samples_split=2 \n",
      "[CV]  criterion=entropy, max_depth=3, min_samples_leaf=6, min_samples_split=2, score=0.5835010060362174, total=   0.0s\n",
      "[CV] criterion=entropy, max_depth=3, min_samples_leaf=6, min_samples_split=5 \n",
      "[CV]  criterion=entropy, max_depth=3, min_samples_leaf=6, min_samples_split=5, score=0.5883534136546185, total=   0.0s\n",
      "[CV] criterion=entropy, max_depth=3, min_samples_leaf=6, min_samples_split=5 \n",
      "[CV]  criterion=entropy, max_depth=3, min_samples_leaf=6, min_samples_split=5, score=0.5813253012048193, total=   0.0s\n",
      "[CV] criterion=entropy, max_depth=3, min_samples_leaf=6, min_samples_split=5 \n",
      "[CV]  criterion=entropy, max_depth=3, min_samples_leaf=6, min_samples_split=5, score=0.5835010060362174, total=   0.0s\n",
      "[CV] criterion=entropy, max_depth=3, min_samples_leaf=6, min_samples_split=10 \n",
      "[CV]  criterion=entropy, max_depth=3, min_samples_leaf=6, min_samples_split=10, score=0.5883534136546185, total=   0.0s\n",
      "[CV] criterion=entropy, max_depth=3, min_samples_leaf=6, min_samples_split=10 \n",
      "[CV]  criterion=entropy, max_depth=3, min_samples_leaf=6, min_samples_split=10, score=0.5813253012048193, total=   0.0s\n",
      "[CV] criterion=entropy, max_depth=3, min_samples_leaf=6, min_samples_split=10 \n",
      "[CV]  criterion=entropy, max_depth=3, min_samples_leaf=6, min_samples_split=10, score=0.5835010060362174, total=   0.0s\n",
      "[CV] criterion=entropy, max_depth=4, min_samples_leaf=1, min_samples_split=2 \n",
      "[CV]  criterion=entropy, max_depth=4, min_samples_leaf=1, min_samples_split=2, score=0.5883534136546185, total=   0.0s\n",
      "[CV] criterion=entropy, max_depth=4, min_samples_leaf=1, min_samples_split=2 \n",
      "[CV]  criterion=entropy, max_depth=4, min_samples_leaf=1, min_samples_split=2, score=0.5833333333333334, total=   0.0s\n",
      "[CV] criterion=entropy, max_depth=4, min_samples_leaf=1, min_samples_split=2 \n",
      "[CV]  criterion=entropy, max_depth=4, min_samples_leaf=1, min_samples_split=2, score=0.5885311871227364, total=   0.0s\n",
      "[CV] criterion=entropy, max_depth=4, min_samples_leaf=1, min_samples_split=5 \n",
      "[CV]  criterion=entropy, max_depth=4, min_samples_leaf=1, min_samples_split=5, score=0.5883534136546185, total=   0.0s\n",
      "[CV] criterion=entropy, max_depth=4, min_samples_leaf=1, min_samples_split=5 \n",
      "[CV]  criterion=entropy, max_depth=4, min_samples_leaf=1, min_samples_split=5, score=0.5833333333333334, total=   0.0s\n",
      "[CV] criterion=entropy, max_depth=4, min_samples_leaf=1, min_samples_split=5 \n",
      "[CV]  criterion=entropy, max_depth=4, min_samples_leaf=1, min_samples_split=5, score=0.5885311871227364, total=   0.0s\n",
      "[CV] criterion=entropy, max_depth=4, min_samples_leaf=1, min_samples_split=10 \n",
      "[CV]  criterion=entropy, max_depth=4, min_samples_leaf=1, min_samples_split=10, score=0.5883534136546185, total=   0.0s\n",
      "[CV] criterion=entropy, max_depth=4, min_samples_leaf=1, min_samples_split=10 \n",
      "[CV]  criterion=entropy, max_depth=4, min_samples_leaf=1, min_samples_split=10, score=0.5833333333333334, total=   0.0s\n",
      "[CV] criterion=entropy, max_depth=4, min_samples_leaf=1, min_samples_split=10 \n",
      "[CV]  criterion=entropy, max_depth=4, min_samples_leaf=1, min_samples_split=10, score=0.5885311871227364, total=   0.0s\n",
      "[CV] criterion=entropy, max_depth=4, min_samples_leaf=2, min_samples_split=2 \n",
      "[CV]  criterion=entropy, max_depth=4, min_samples_leaf=2, min_samples_split=2, score=0.5883534136546185, total=   0.0s\n",
      "[CV] criterion=entropy, max_depth=4, min_samples_leaf=2, min_samples_split=2 \n",
      "[CV]  criterion=entropy, max_depth=4, min_samples_leaf=2, min_samples_split=2, score=0.5813253012048193, total=   0.0s\n",
      "[CV] criterion=entropy, max_depth=4, min_samples_leaf=2, min_samples_split=2 \n",
      "[CV]  criterion=entropy, max_depth=4, min_samples_leaf=2, min_samples_split=2, score=0.5885311871227364, total=   0.0s\n",
      "[CV] criterion=entropy, max_depth=4, min_samples_leaf=2, min_samples_split=5 \n",
      "[CV]  criterion=entropy, max_depth=4, min_samples_leaf=2, min_samples_split=5, score=0.5883534136546185, total=   0.0s\n",
      "[CV] criterion=entropy, max_depth=4, min_samples_leaf=2, min_samples_split=5 \n",
      "[CV]  criterion=entropy, max_depth=4, min_samples_leaf=2, min_samples_split=5, score=0.5813253012048193, total=   0.0s\n",
      "[CV] criterion=entropy, max_depth=4, min_samples_leaf=2, min_samples_split=5 \n",
      "[CV]  criterion=entropy, max_depth=4, min_samples_leaf=2, min_samples_split=5, score=0.5885311871227364, total=   0.0s\n",
      "[CV] criterion=entropy, max_depth=4, min_samples_leaf=2, min_samples_split=10 \n",
      "[CV]  criterion=entropy, max_depth=4, min_samples_leaf=2, min_samples_split=10, score=0.5883534136546185, total=   0.0s\n",
      "[CV] criterion=entropy, max_depth=4, min_samples_leaf=2, min_samples_split=10 \n",
      "[CV]  criterion=entropy, max_depth=4, min_samples_leaf=2, min_samples_split=10, score=0.5813253012048193, total=   0.0s\n",
      "[CV] criterion=entropy, max_depth=4, min_samples_leaf=2, min_samples_split=10 \n"
     ]
    },
    {
     "name": "stdout",
     "output_type": "stream",
     "text": [
      "[CV]  criterion=entropy, max_depth=4, min_samples_leaf=2, min_samples_split=10, score=0.5885311871227364, total=   0.0s\n",
      "[CV] criterion=entropy, max_depth=4, min_samples_leaf=3, min_samples_split=2 \n",
      "[CV]  criterion=entropy, max_depth=4, min_samples_leaf=3, min_samples_split=2, score=0.5883534136546185, total=   0.0s\n",
      "[CV] criterion=entropy, max_depth=4, min_samples_leaf=3, min_samples_split=2 \n",
      "[CV]  criterion=entropy, max_depth=4, min_samples_leaf=3, min_samples_split=2, score=0.5813253012048193, total=   0.0s\n",
      "[CV] criterion=entropy, max_depth=4, min_samples_leaf=3, min_samples_split=2 \n",
      "[CV]  criterion=entropy, max_depth=4, min_samples_leaf=3, min_samples_split=2, score=0.5885311871227364, total=   0.0s\n",
      "[CV] criterion=entropy, max_depth=4, min_samples_leaf=3, min_samples_split=5 \n",
      "[CV]  criterion=entropy, max_depth=4, min_samples_leaf=3, min_samples_split=5, score=0.5883534136546185, total=   0.0s\n",
      "[CV] criterion=entropy, max_depth=4, min_samples_leaf=3, min_samples_split=5 \n",
      "[CV]  criterion=entropy, max_depth=4, min_samples_leaf=3, min_samples_split=5, score=0.5813253012048193, total=   0.0s\n",
      "[CV] criterion=entropy, max_depth=4, min_samples_leaf=3, min_samples_split=5 \n",
      "[CV]  criterion=entropy, max_depth=4, min_samples_leaf=3, min_samples_split=5, score=0.5885311871227364, total=   0.0s\n",
      "[CV] criterion=entropy, max_depth=4, min_samples_leaf=3, min_samples_split=10 \n",
      "[CV]  criterion=entropy, max_depth=4, min_samples_leaf=3, min_samples_split=10, score=0.5883534136546185, total=   0.0s\n",
      "[CV] criterion=entropy, max_depth=4, min_samples_leaf=3, min_samples_split=10 \n",
      "[CV]  criterion=entropy, max_depth=4, min_samples_leaf=3, min_samples_split=10, score=0.5813253012048193, total=   0.0s\n",
      "[CV] criterion=entropy, max_depth=4, min_samples_leaf=3, min_samples_split=10 \n",
      "[CV]  criterion=entropy, max_depth=4, min_samples_leaf=3, min_samples_split=10, score=0.5885311871227364, total=   0.0s\n",
      "[CV] criterion=entropy, max_depth=4, min_samples_leaf=4, min_samples_split=2 \n",
      "[CV]  criterion=entropy, max_depth=4, min_samples_leaf=4, min_samples_split=2, score=0.5883534136546185, total=   0.0s\n",
      "[CV] criterion=entropy, max_depth=4, min_samples_leaf=4, min_samples_split=2 \n",
      "[CV]  criterion=entropy, max_depth=4, min_samples_leaf=4, min_samples_split=2, score=0.5813253012048193, total=   0.0s\n",
      "[CV] criterion=entropy, max_depth=4, min_samples_leaf=4, min_samples_split=2 \n",
      "[CV]  criterion=entropy, max_depth=4, min_samples_leaf=4, min_samples_split=2, score=0.5885311871227364, total=   0.0s\n",
      "[CV] criterion=entropy, max_depth=4, min_samples_leaf=4, min_samples_split=5 \n",
      "[CV]  criterion=entropy, max_depth=4, min_samples_leaf=4, min_samples_split=5, score=0.5883534136546185, total=   0.0s\n",
      "[CV] criterion=entropy, max_depth=4, min_samples_leaf=4, min_samples_split=5 \n",
      "[CV]  criterion=entropy, max_depth=4, min_samples_leaf=4, min_samples_split=5, score=0.5813253012048193, total=   0.0s\n",
      "[CV] criterion=entropy, max_depth=4, min_samples_leaf=4, min_samples_split=5 \n",
      "[CV]  criterion=entropy, max_depth=4, min_samples_leaf=4, min_samples_split=5, score=0.5885311871227364, total=   0.0s\n",
      "[CV] criterion=entropy, max_depth=4, min_samples_leaf=4, min_samples_split=10 \n",
      "[CV]  criterion=entropy, max_depth=4, min_samples_leaf=4, min_samples_split=10, score=0.5883534136546185, total=   0.0s\n",
      "[CV] criterion=entropy, max_depth=4, min_samples_leaf=4, min_samples_split=10 \n",
      "[CV]  criterion=entropy, max_depth=4, min_samples_leaf=4, min_samples_split=10, score=0.5813253012048193, total=   0.0s\n",
      "[CV] criterion=entropy, max_depth=4, min_samples_leaf=4, min_samples_split=10 \n",
      "[CV]  criterion=entropy, max_depth=4, min_samples_leaf=4, min_samples_split=10, score=0.5885311871227364, total=   0.0s\n",
      "[CV] criterion=entropy, max_depth=4, min_samples_leaf=5, min_samples_split=2 \n",
      "[CV]  criterion=entropy, max_depth=4, min_samples_leaf=5, min_samples_split=2, score=0.5883534136546185, total=   0.0s\n",
      "[CV] criterion=entropy, max_depth=4, min_samples_leaf=5, min_samples_split=2 \n",
      "[CV]  criterion=entropy, max_depth=4, min_samples_leaf=5, min_samples_split=2, score=0.5813253012048193, total=   0.0s\n",
      "[CV] criterion=entropy, max_depth=4, min_samples_leaf=5, min_samples_split=2 \n",
      "[CV]  criterion=entropy, max_depth=4, min_samples_leaf=5, min_samples_split=2, score=0.5885311871227364, total=   0.0s\n",
      "[CV] criterion=entropy, max_depth=4, min_samples_leaf=5, min_samples_split=5 \n",
      "[CV]  criterion=entropy, max_depth=4, min_samples_leaf=5, min_samples_split=5, score=0.5883534136546185, total=   0.0s\n",
      "[CV] criterion=entropy, max_depth=4, min_samples_leaf=5, min_samples_split=5 \n",
      "[CV]  criterion=entropy, max_depth=4, min_samples_leaf=5, min_samples_split=5, score=0.5813253012048193, total=   0.0s\n",
      "[CV] criterion=entropy, max_depth=4, min_samples_leaf=5, min_samples_split=5 \n",
      "[CV]  criterion=entropy, max_depth=4, min_samples_leaf=5, min_samples_split=5, score=0.5885311871227364, total=   0.0s\n",
      "[CV] criterion=entropy, max_depth=4, min_samples_leaf=5, min_samples_split=10 \n",
      "[CV]  criterion=entropy, max_depth=4, min_samples_leaf=5, min_samples_split=10, score=0.5883534136546185, total=   0.0s\n",
      "[CV] criterion=entropy, max_depth=4, min_samples_leaf=5, min_samples_split=10 \n",
      "[CV]  criterion=entropy, max_depth=4, min_samples_leaf=5, min_samples_split=10, score=0.5813253012048193, total=   0.0s\n",
      "[CV] criterion=entropy, max_depth=4, min_samples_leaf=5, min_samples_split=10 \n",
      "[CV]  criterion=entropy, max_depth=4, min_samples_leaf=5, min_samples_split=10, score=0.5885311871227364, total=   0.0s\n",
      "[CV] criterion=entropy, max_depth=4, min_samples_leaf=6, min_samples_split=2 \n",
      "[CV]  criterion=entropy, max_depth=4, min_samples_leaf=6, min_samples_split=2, score=0.5893574297188755, total=   0.0s\n",
      "[CV] criterion=entropy, max_depth=4, min_samples_leaf=6, min_samples_split=2 \n",
      "[CV]  criterion=entropy, max_depth=4, min_samples_leaf=6, min_samples_split=2, score=0.5813253012048193, total=   0.0s\n",
      "[CV] criterion=entropy, max_depth=4, min_samples_leaf=6, min_samples_split=2 \n",
      "[CV]  criterion=entropy, max_depth=4, min_samples_leaf=6, min_samples_split=2, score=0.5885311871227364, total=   0.0s\n",
      "[CV] criterion=entropy, max_depth=4, min_samples_leaf=6, min_samples_split=5 \n",
      "[CV]  criterion=entropy, max_depth=4, min_samples_leaf=6, min_samples_split=5, score=0.5893574297188755, total=   0.0s\n",
      "[CV] criterion=entropy, max_depth=4, min_samples_leaf=6, min_samples_split=5 \n",
      "[CV]  criterion=entropy, max_depth=4, min_samples_leaf=6, min_samples_split=5, score=0.5813253012048193, total=   0.0s\n",
      "[CV] criterion=entropy, max_depth=4, min_samples_leaf=6, min_samples_split=5 \n",
      "[CV]  criterion=entropy, max_depth=4, min_samples_leaf=6, min_samples_split=5, score=0.5885311871227364, total=   0.0s\n",
      "[CV] criterion=entropy, max_depth=4, min_samples_leaf=6, min_samples_split=10 \n",
      "[CV]  criterion=entropy, max_depth=4, min_samples_leaf=6, min_samples_split=10, score=0.5893574297188755, total=   0.0s\n",
      "[CV] criterion=entropy, max_depth=4, min_samples_leaf=6, min_samples_split=10 \n",
      "[CV]  criterion=entropy, max_depth=4, min_samples_leaf=6, min_samples_split=10, score=0.5813253012048193, total=   0.0s\n",
      "[CV] criterion=entropy, max_depth=4, min_samples_leaf=6, min_samples_split=10 \n",
      "[CV]  criterion=entropy, max_depth=4, min_samples_leaf=6, min_samples_split=10, score=0.5885311871227364, total=   0.0s\n",
      "[CV] criterion=entropy, max_depth=5, min_samples_leaf=1, min_samples_split=2 \n",
      "[CV]  criterion=entropy, max_depth=5, min_samples_leaf=1, min_samples_split=2, score=0.5863453815261044, total=   0.0s\n",
      "[CV] criterion=entropy, max_depth=5, min_samples_leaf=1, min_samples_split=2 \n",
      "[CV]  criterion=entropy, max_depth=5, min_samples_leaf=1, min_samples_split=2, score=0.5893574297188755, total=   0.0s\n",
      "[CV] criterion=entropy, max_depth=5, min_samples_leaf=1, min_samples_split=2 \n",
      "[CV]  criterion=entropy, max_depth=5, min_samples_leaf=1, min_samples_split=2, score=0.5744466800804829, total=   0.0s\n",
      "[CV] criterion=entropy, max_depth=5, min_samples_leaf=1, min_samples_split=5 \n",
      "[CV]  criterion=entropy, max_depth=5, min_samples_leaf=1, min_samples_split=5, score=0.5853413654618473, total=   0.0s\n",
      "[CV] criterion=entropy, max_depth=5, min_samples_leaf=1, min_samples_split=5 \n",
      "[CV]  criterion=entropy, max_depth=5, min_samples_leaf=1, min_samples_split=5, score=0.5883534136546185, total=   0.0s\n",
      "[CV] criterion=entropy, max_depth=5, min_samples_leaf=1, min_samples_split=5 \n"
     ]
    },
    {
     "name": "stdout",
     "output_type": "stream",
     "text": [
      "[CV]  criterion=entropy, max_depth=5, min_samples_leaf=1, min_samples_split=5, score=0.5744466800804829, total=   0.0s\n",
      "[CV] criterion=entropy, max_depth=5, min_samples_leaf=1, min_samples_split=10 \n",
      "[CV]  criterion=entropy, max_depth=5, min_samples_leaf=1, min_samples_split=10, score=0.5853413654618473, total=   0.0s\n",
      "[CV] criterion=entropy, max_depth=5, min_samples_leaf=1, min_samples_split=10 \n",
      "[CV]  criterion=entropy, max_depth=5, min_samples_leaf=1, min_samples_split=10, score=0.5893574297188755, total=   0.0s\n",
      "[CV] criterion=entropy, max_depth=5, min_samples_leaf=1, min_samples_split=10 \n",
      "[CV]  criterion=entropy, max_depth=5, min_samples_leaf=1, min_samples_split=10, score=0.5744466800804829, total=   0.0s\n",
      "[CV] criterion=entropy, max_depth=5, min_samples_leaf=2, min_samples_split=2 \n",
      "[CV]  criterion=entropy, max_depth=5, min_samples_leaf=2, min_samples_split=2, score=0.5883534136546185, total=   0.0s\n",
      "[CV] criterion=entropy, max_depth=5, min_samples_leaf=2, min_samples_split=2 \n",
      "[CV]  criterion=entropy, max_depth=5, min_samples_leaf=2, min_samples_split=2, score=0.5863453815261044, total=   0.0s\n",
      "[CV] criterion=entropy, max_depth=5, min_samples_leaf=2, min_samples_split=2 \n",
      "[CV]  criterion=entropy, max_depth=5, min_samples_leaf=2, min_samples_split=2, score=0.5754527162977867, total=   0.0s\n",
      "[CV] criterion=entropy, max_depth=5, min_samples_leaf=2, min_samples_split=5 \n",
      "[CV]  criterion=entropy, max_depth=5, min_samples_leaf=2, min_samples_split=5, score=0.5843373493975904, total=   0.0s\n",
      "[CV] criterion=entropy, max_depth=5, min_samples_leaf=2, min_samples_split=5 \n",
      "[CV]  criterion=entropy, max_depth=5, min_samples_leaf=2, min_samples_split=5, score=0.5863453815261044, total=   0.0s\n",
      "[CV] criterion=entropy, max_depth=5, min_samples_leaf=2, min_samples_split=5 \n",
      "[CV]  criterion=entropy, max_depth=5, min_samples_leaf=2, min_samples_split=5, score=0.5754527162977867, total=   0.0s\n",
      "[CV] criterion=entropy, max_depth=5, min_samples_leaf=2, min_samples_split=10 \n",
      "[CV]  criterion=entropy, max_depth=5, min_samples_leaf=2, min_samples_split=10, score=0.5853413654618473, total=   0.0s\n",
      "[CV] criterion=entropy, max_depth=5, min_samples_leaf=2, min_samples_split=10 \n",
      "[CV]  criterion=entropy, max_depth=5, min_samples_leaf=2, min_samples_split=10, score=0.5863453815261044, total=   0.0s\n",
      "[CV] criterion=entropy, max_depth=5, min_samples_leaf=2, min_samples_split=10 \n",
      "[CV]  criterion=entropy, max_depth=5, min_samples_leaf=2, min_samples_split=10, score=0.5754527162977867, total=   0.0s\n",
      "[CV] criterion=entropy, max_depth=5, min_samples_leaf=3, min_samples_split=2 \n",
      "[CV]  criterion=entropy, max_depth=5, min_samples_leaf=3, min_samples_split=2, score=0.5863453815261044, total=   0.0s\n",
      "[CV] criterion=entropy, max_depth=5, min_samples_leaf=3, min_samples_split=2 \n",
      "[CV]  criterion=entropy, max_depth=5, min_samples_leaf=3, min_samples_split=2, score=0.5863453815261044, total=   0.0s\n",
      "[CV] criterion=entropy, max_depth=5, min_samples_leaf=3, min_samples_split=2 \n",
      "[CV]  criterion=entropy, max_depth=5, min_samples_leaf=3, min_samples_split=2, score=0.5754527162977867, total=   0.0s\n",
      "[CV] criterion=entropy, max_depth=5, min_samples_leaf=3, min_samples_split=5 \n",
      "[CV]  criterion=entropy, max_depth=5, min_samples_leaf=3, min_samples_split=5, score=0.5853413654618473, total=   0.0s\n",
      "[CV] criterion=entropy, max_depth=5, min_samples_leaf=3, min_samples_split=5 \n",
      "[CV]  criterion=entropy, max_depth=5, min_samples_leaf=3, min_samples_split=5, score=0.5863453815261044, total=   0.0s\n",
      "[CV] criterion=entropy, max_depth=5, min_samples_leaf=3, min_samples_split=5 \n",
      "[CV]  criterion=entropy, max_depth=5, min_samples_leaf=3, min_samples_split=5, score=0.5754527162977867, total=   0.0s\n",
      "[CV] criterion=entropy, max_depth=5, min_samples_leaf=3, min_samples_split=10 \n",
      "[CV]  criterion=entropy, max_depth=5, min_samples_leaf=3, min_samples_split=10, score=0.5873493975903614, total=   0.0s\n",
      "[CV] criterion=entropy, max_depth=5, min_samples_leaf=3, min_samples_split=10 \n",
      "[CV]  criterion=entropy, max_depth=5, min_samples_leaf=3, min_samples_split=10, score=0.5863453815261044, total=   0.0s\n",
      "[CV] criterion=entropy, max_depth=5, min_samples_leaf=3, min_samples_split=10 \n",
      "[CV]  criterion=entropy, max_depth=5, min_samples_leaf=3, min_samples_split=10, score=0.5754527162977867, total=   0.0s\n",
      "[CV] criterion=entropy, max_depth=5, min_samples_leaf=4, min_samples_split=2 \n",
      "[CV]  criterion=entropy, max_depth=5, min_samples_leaf=4, min_samples_split=2, score=0.5853413654618473, total=   0.0s\n",
      "[CV] criterion=entropy, max_depth=5, min_samples_leaf=4, min_samples_split=2 \n",
      "[CV]  criterion=entropy, max_depth=5, min_samples_leaf=4, min_samples_split=2, score=0.5863453815261044, total=   0.0s\n",
      "[CV] criterion=entropy, max_depth=5, min_samples_leaf=4, min_samples_split=2 \n",
      "[CV]  criterion=entropy, max_depth=5, min_samples_leaf=4, min_samples_split=2, score=0.5754527162977867, total=   0.0s\n",
      "[CV] criterion=entropy, max_depth=5, min_samples_leaf=4, min_samples_split=5 \n",
      "[CV]  criterion=entropy, max_depth=5, min_samples_leaf=4, min_samples_split=5, score=0.5873493975903614, total=   0.0s\n",
      "[CV] criterion=entropy, max_depth=5, min_samples_leaf=4, min_samples_split=5 \n",
      "[CV]  criterion=entropy, max_depth=5, min_samples_leaf=4, min_samples_split=5, score=0.5863453815261044, total=   0.0s\n",
      "[CV] criterion=entropy, max_depth=5, min_samples_leaf=4, min_samples_split=5 \n",
      "[CV]  criterion=entropy, max_depth=5, min_samples_leaf=4, min_samples_split=5, score=0.5754527162977867, total=   0.0s\n",
      "[CV] criterion=entropy, max_depth=5, min_samples_leaf=4, min_samples_split=10 \n",
      "[CV]  criterion=entropy, max_depth=5, min_samples_leaf=4, min_samples_split=10, score=0.5883534136546185, total=   0.0s\n",
      "[CV] criterion=entropy, max_depth=5, min_samples_leaf=4, min_samples_split=10 \n",
      "[CV]  criterion=entropy, max_depth=5, min_samples_leaf=4, min_samples_split=10, score=0.5863453815261044, total=   0.0s\n",
      "[CV] criterion=entropy, max_depth=5, min_samples_leaf=4, min_samples_split=10 \n",
      "[CV]  criterion=entropy, max_depth=5, min_samples_leaf=4, min_samples_split=10, score=0.5754527162977867, total=   0.0s\n",
      "[CV] criterion=entropy, max_depth=5, min_samples_leaf=5, min_samples_split=2 \n",
      "[CV]  criterion=entropy, max_depth=5, min_samples_leaf=5, min_samples_split=2, score=0.5773092369477911, total=   0.0s\n",
      "[CV] criterion=entropy, max_depth=5, min_samples_leaf=5, min_samples_split=2 \n",
      "[CV]  criterion=entropy, max_depth=5, min_samples_leaf=5, min_samples_split=2, score=0.5863453815261044, total=   0.0s\n",
      "[CV] criterion=entropy, max_depth=5, min_samples_leaf=5, min_samples_split=2 \n",
      "[CV]  criterion=entropy, max_depth=5, min_samples_leaf=5, min_samples_split=2, score=0.5754527162977867, total=   0.0s\n",
      "[CV] criterion=entropy, max_depth=5, min_samples_leaf=5, min_samples_split=5 \n",
      "[CV]  criterion=entropy, max_depth=5, min_samples_leaf=5, min_samples_split=5, score=0.5773092369477911, total=   0.0s\n",
      "[CV] criterion=entropy, max_depth=5, min_samples_leaf=5, min_samples_split=5 \n",
      "[CV]  criterion=entropy, max_depth=5, min_samples_leaf=5, min_samples_split=5, score=0.5863453815261044, total=   0.0s\n",
      "[CV] criterion=entropy, max_depth=5, min_samples_leaf=5, min_samples_split=5 \n",
      "[CV]  criterion=entropy, max_depth=5, min_samples_leaf=5, min_samples_split=5, score=0.5754527162977867, total=   0.0s\n",
      "[CV] criterion=entropy, max_depth=5, min_samples_leaf=5, min_samples_split=10 \n",
      "[CV]  criterion=entropy, max_depth=5, min_samples_leaf=5, min_samples_split=10, score=0.5773092369477911, total=   0.0s\n",
      "[CV] criterion=entropy, max_depth=5, min_samples_leaf=5, min_samples_split=10 \n",
      "[CV]  criterion=entropy, max_depth=5, min_samples_leaf=5, min_samples_split=10, score=0.5863453815261044, total=   0.0s\n",
      "[CV] criterion=entropy, max_depth=5, min_samples_leaf=5, min_samples_split=10 \n",
      "[CV]  criterion=entropy, max_depth=5, min_samples_leaf=5, min_samples_split=10, score=0.5754527162977867, total=   0.0s\n",
      "[CV] criterion=entropy, max_depth=5, min_samples_leaf=6, min_samples_split=2 \n",
      "[CV]  criterion=entropy, max_depth=5, min_samples_leaf=6, min_samples_split=2, score=0.5783132530120482, total=   0.0s\n",
      "[CV] criterion=entropy, max_depth=5, min_samples_leaf=6, min_samples_split=2 \n",
      "[CV]  criterion=entropy, max_depth=5, min_samples_leaf=6, min_samples_split=2, score=0.5893574297188755, total=   0.0s\n",
      "[CV] criterion=entropy, max_depth=5, min_samples_leaf=6, min_samples_split=2 \n",
      "[CV]  criterion=entropy, max_depth=5, min_samples_leaf=6, min_samples_split=2, score=0.5824949698189135, total=   0.0s\n",
      "[CV] criterion=entropy, max_depth=5, min_samples_leaf=6, min_samples_split=5 \n",
      "[CV]  criterion=entropy, max_depth=5, min_samples_leaf=6, min_samples_split=5, score=0.5783132530120482, total=   0.0s\n",
      "[CV] criterion=entropy, max_depth=5, min_samples_leaf=6, min_samples_split=5 \n",
      "[CV]  criterion=entropy, max_depth=5, min_samples_leaf=6, min_samples_split=5, score=0.5823293172690763, total=   0.0s\n",
      "[CV] criterion=entropy, max_depth=5, min_samples_leaf=6, min_samples_split=5 \n"
     ]
    },
    {
     "name": "stdout",
     "output_type": "stream",
     "text": [
      "[CV]  criterion=entropy, max_depth=5, min_samples_leaf=6, min_samples_split=5, score=0.5824949698189135, total=   0.0s\n",
      "[CV] criterion=entropy, max_depth=5, min_samples_leaf=6, min_samples_split=10 \n",
      "[CV]  criterion=entropy, max_depth=5, min_samples_leaf=6, min_samples_split=10, score=0.5783132530120482, total=   0.0s\n",
      "[CV] criterion=entropy, max_depth=5, min_samples_leaf=6, min_samples_split=10 \n",
      "[CV]  criterion=entropy, max_depth=5, min_samples_leaf=6, min_samples_split=10, score=0.5893574297188755, total=   0.0s\n",
      "[CV] criterion=entropy, max_depth=5, min_samples_leaf=6, min_samples_split=10 \n",
      "[CV]  criterion=entropy, max_depth=5, min_samples_leaf=6, min_samples_split=10, score=0.5824949698189135, total=   0.0s\n",
      "[CV] criterion=entropy, max_depth=6, min_samples_leaf=1, min_samples_split=2 \n",
      "[CV]  criterion=entropy, max_depth=6, min_samples_leaf=1, min_samples_split=2, score=0.5763052208835341, total=   0.1s\n",
      "[CV] criterion=entropy, max_depth=6, min_samples_leaf=1, min_samples_split=2 \n",
      "[CV]  criterion=entropy, max_depth=6, min_samples_leaf=1, min_samples_split=2, score=0.5833333333333334, total=   0.1s\n",
      "[CV] criterion=entropy, max_depth=6, min_samples_leaf=1, min_samples_split=2 \n",
      "[CV]  criterion=entropy, max_depth=6, min_samples_leaf=1, min_samples_split=2, score=0.5643863179074446, total=   0.1s\n",
      "[CV] criterion=entropy, max_depth=6, min_samples_leaf=1, min_samples_split=5 \n",
      "[CV]  criterion=entropy, max_depth=6, min_samples_leaf=1, min_samples_split=5, score=0.5742971887550201, total=   0.1s\n",
      "[CV] criterion=entropy, max_depth=6, min_samples_leaf=1, min_samples_split=5 \n",
      "[CV]  criterion=entropy, max_depth=6, min_samples_leaf=1, min_samples_split=5, score=0.5843373493975904, total=   0.0s\n",
      "[CV] criterion=entropy, max_depth=6, min_samples_leaf=1, min_samples_split=5 \n",
      "[CV]  criterion=entropy, max_depth=6, min_samples_leaf=1, min_samples_split=5, score=0.5663983903420523, total=   0.1s\n",
      "[CV] criterion=entropy, max_depth=6, min_samples_leaf=1, min_samples_split=10 \n",
      "[CV]  criterion=entropy, max_depth=6, min_samples_leaf=1, min_samples_split=10, score=0.5753012048192772, total=   0.1s\n",
      "[CV] criterion=entropy, max_depth=6, min_samples_leaf=1, min_samples_split=10 \n",
      "[CV]  criterion=entropy, max_depth=6, min_samples_leaf=1, min_samples_split=10, score=0.5863453815261044, total=   0.1s\n",
      "[CV] criterion=entropy, max_depth=6, min_samples_leaf=1, min_samples_split=10 \n",
      "[CV]  criterion=entropy, max_depth=6, min_samples_leaf=1, min_samples_split=10, score=0.5653923541247485, total=   0.1s\n",
      "[CV] criterion=entropy, max_depth=6, min_samples_leaf=2, min_samples_split=2 \n",
      "[CV]  criterion=entropy, max_depth=6, min_samples_leaf=2, min_samples_split=2, score=0.5783132530120482, total=   0.1s\n",
      "[CV] criterion=entropy, max_depth=6, min_samples_leaf=2, min_samples_split=2 \n",
      "[CV]  criterion=entropy, max_depth=6, min_samples_leaf=2, min_samples_split=2, score=0.5813253012048193, total=   0.1s\n",
      "[CV] criterion=entropy, max_depth=6, min_samples_leaf=2, min_samples_split=2 \n",
      "[CV]  criterion=entropy, max_depth=6, min_samples_leaf=2, min_samples_split=2, score=0.5663983903420523, total=   0.1s\n",
      "[CV] criterion=entropy, max_depth=6, min_samples_leaf=2, min_samples_split=5 \n",
      "[CV]  criterion=entropy, max_depth=6, min_samples_leaf=2, min_samples_split=5, score=0.5773092369477911, total=   0.0s\n",
      "[CV] criterion=entropy, max_depth=6, min_samples_leaf=2, min_samples_split=5 \n",
      "[CV]  criterion=entropy, max_depth=6, min_samples_leaf=2, min_samples_split=5, score=0.5823293172690763, total=   0.1s\n",
      "[CV] criterion=entropy, max_depth=6, min_samples_leaf=2, min_samples_split=5 \n",
      "[CV]  criterion=entropy, max_depth=6, min_samples_leaf=2, min_samples_split=5, score=0.5633802816901409, total=   0.1s\n",
      "[CV] criterion=entropy, max_depth=6, min_samples_leaf=2, min_samples_split=10 \n",
      "[CV]  criterion=entropy, max_depth=6, min_samples_leaf=2, min_samples_split=10, score=0.5773092369477911, total=   0.1s\n",
      "[CV] criterion=entropy, max_depth=6, min_samples_leaf=2, min_samples_split=10 \n",
      "[CV]  criterion=entropy, max_depth=6, min_samples_leaf=2, min_samples_split=10, score=0.5823293172690763, total=   0.1s\n",
      "[CV] criterion=entropy, max_depth=6, min_samples_leaf=2, min_samples_split=10 \n",
      "[CV]  criterion=entropy, max_depth=6, min_samples_leaf=2, min_samples_split=10, score=0.5674044265593562, total=   0.1s\n",
      "[CV] criterion=entropy, max_depth=6, min_samples_leaf=3, min_samples_split=2 \n",
      "[CV]  criterion=entropy, max_depth=6, min_samples_leaf=3, min_samples_split=2, score=0.5763052208835341, total=   0.1s\n",
      "[CV] criterion=entropy, max_depth=6, min_samples_leaf=3, min_samples_split=2 \n",
      "[CV]  criterion=entropy, max_depth=6, min_samples_leaf=3, min_samples_split=2, score=0.5813253012048193, total=   0.1s\n",
      "[CV] criterion=entropy, max_depth=6, min_samples_leaf=3, min_samples_split=2 \n",
      "[CV]  criterion=entropy, max_depth=6, min_samples_leaf=3, min_samples_split=2, score=0.5613682092555332, total=   0.1s\n",
      "[CV] criterion=entropy, max_depth=6, min_samples_leaf=3, min_samples_split=5 \n",
      "[CV]  criterion=entropy, max_depth=6, min_samples_leaf=3, min_samples_split=5, score=0.5763052208835341, total=   0.1s\n",
      "[CV] criterion=entropy, max_depth=6, min_samples_leaf=3, min_samples_split=5 \n",
      "[CV]  criterion=entropy, max_depth=6, min_samples_leaf=3, min_samples_split=5, score=0.5833333333333334, total=   0.1s\n",
      "[CV] criterion=entropy, max_depth=6, min_samples_leaf=3, min_samples_split=5 \n",
      "[CV]  criterion=entropy, max_depth=6, min_samples_leaf=3, min_samples_split=5, score=0.5653923541247485, total=   0.1s\n",
      "[CV] criterion=entropy, max_depth=6, min_samples_leaf=3, min_samples_split=10 \n",
      "[CV]  criterion=entropy, max_depth=6, min_samples_leaf=3, min_samples_split=10, score=0.5763052208835341, total=   0.1s\n",
      "[CV] criterion=entropy, max_depth=6, min_samples_leaf=3, min_samples_split=10 \n",
      "[CV]  criterion=entropy, max_depth=6, min_samples_leaf=3, min_samples_split=10, score=0.5813253012048193, total=   0.1s\n",
      "[CV] criterion=entropy, max_depth=6, min_samples_leaf=3, min_samples_split=10 \n",
      "[CV]  criterion=entropy, max_depth=6, min_samples_leaf=3, min_samples_split=10, score=0.5724346076458753, total=   0.1s\n",
      "[CV] criterion=entropy, max_depth=6, min_samples_leaf=4, min_samples_split=2 \n",
      "[CV]  criterion=entropy, max_depth=6, min_samples_leaf=4, min_samples_split=2, score=0.5753012048192772, total=   0.0s\n",
      "[CV] criterion=entropy, max_depth=6, min_samples_leaf=4, min_samples_split=2 \n",
      "[CV]  criterion=entropy, max_depth=6, min_samples_leaf=4, min_samples_split=2, score=0.5803212851405622, total=   0.1s\n",
      "[CV] criterion=entropy, max_depth=6, min_samples_leaf=4, min_samples_split=2 \n",
      "[CV]  criterion=entropy, max_depth=6, min_samples_leaf=4, min_samples_split=2, score=0.5714285714285714, total=   0.1s\n",
      "[CV] criterion=entropy, max_depth=6, min_samples_leaf=4, min_samples_split=5 \n",
      "[CV]  criterion=entropy, max_depth=6, min_samples_leaf=4, min_samples_split=5, score=0.571285140562249, total=   0.1s\n",
      "[CV] criterion=entropy, max_depth=6, min_samples_leaf=4, min_samples_split=5 \n",
      "[CV]  criterion=entropy, max_depth=6, min_samples_leaf=4, min_samples_split=5, score=0.5803212851405622, total=   0.1s\n",
      "[CV] criterion=entropy, max_depth=6, min_samples_leaf=4, min_samples_split=5 \n",
      "[CV]  criterion=entropy, max_depth=6, min_samples_leaf=4, min_samples_split=5, score=0.5653923541247485, total=   0.1s\n",
      "[CV] criterion=entropy, max_depth=6, min_samples_leaf=4, min_samples_split=10 \n",
      "[CV]  criterion=entropy, max_depth=6, min_samples_leaf=4, min_samples_split=10, score=0.5732931726907631, total=   0.1s\n",
      "[CV] criterion=entropy, max_depth=6, min_samples_leaf=4, min_samples_split=10 \n",
      "[CV]  criterion=entropy, max_depth=6, min_samples_leaf=4, min_samples_split=10, score=0.5803212851405622, total=   0.1s\n",
      "[CV] criterion=entropy, max_depth=6, min_samples_leaf=4, min_samples_split=10 \n",
      "[CV]  criterion=entropy, max_depth=6, min_samples_leaf=4, min_samples_split=10, score=0.5734406438631791, total=   0.0s\n",
      "[CV] criterion=entropy, max_depth=6, min_samples_leaf=5, min_samples_split=2 \n",
      "[CV]  criterion=entropy, max_depth=6, min_samples_leaf=5, min_samples_split=2, score=0.571285140562249, total=   0.1s\n",
      "[CV] criterion=entropy, max_depth=6, min_samples_leaf=5, min_samples_split=2 \n",
      "[CV]  criterion=entropy, max_depth=6, min_samples_leaf=5, min_samples_split=2, score=0.5813253012048193, total=   0.1s\n",
      "[CV] criterion=entropy, max_depth=6, min_samples_leaf=5, min_samples_split=2 \n",
      "[CV]  criterion=entropy, max_depth=6, min_samples_leaf=5, min_samples_split=2, score=0.5754527162977867, total=   0.1s\n",
      "[CV] criterion=entropy, max_depth=6, min_samples_leaf=5, min_samples_split=5 \n",
      "[CV]  criterion=entropy, max_depth=6, min_samples_leaf=5, min_samples_split=5, score=0.570281124497992, total=   0.0s\n",
      "[CV] criterion=entropy, max_depth=6, min_samples_leaf=5, min_samples_split=5 \n",
      "[CV]  criterion=entropy, max_depth=6, min_samples_leaf=5, min_samples_split=5, score=0.5813253012048193, total=   0.1s\n",
      "[CV] criterion=entropy, max_depth=6, min_samples_leaf=5, min_samples_split=5 \n"
     ]
    },
    {
     "name": "stdout",
     "output_type": "stream",
     "text": [
      "[CV]  criterion=entropy, max_depth=6, min_samples_leaf=5, min_samples_split=5, score=0.5744466800804829, total=   0.0s\n",
      "[CV] criterion=entropy, max_depth=6, min_samples_leaf=5, min_samples_split=10 \n",
      "[CV]  criterion=entropy, max_depth=6, min_samples_leaf=5, min_samples_split=10, score=0.5753012048192772, total=   0.1s\n",
      "[CV] criterion=entropy, max_depth=6, min_samples_leaf=5, min_samples_split=10 \n",
      "[CV]  criterion=entropy, max_depth=6, min_samples_leaf=5, min_samples_split=10, score=0.5813253012048193, total=   0.1s\n",
      "[CV] criterion=entropy, max_depth=6, min_samples_leaf=5, min_samples_split=10 \n",
      "[CV]  criterion=entropy, max_depth=6, min_samples_leaf=5, min_samples_split=10, score=0.5744466800804829, total=   0.0s\n",
      "[CV] criterion=entropy, max_depth=6, min_samples_leaf=6, min_samples_split=2 \n",
      "[CV]  criterion=entropy, max_depth=6, min_samples_leaf=6, min_samples_split=2, score=0.570281124497992, total=   0.1s\n",
      "[CV] criterion=entropy, max_depth=6, min_samples_leaf=6, min_samples_split=2 \n",
      "[CV]  criterion=entropy, max_depth=6, min_samples_leaf=6, min_samples_split=2, score=0.5773092369477911, total=   0.1s\n",
      "[CV] criterion=entropy, max_depth=6, min_samples_leaf=6, min_samples_split=2 \n",
      "[CV]  criterion=entropy, max_depth=6, min_samples_leaf=6, min_samples_split=2, score=0.5744466800804829, total=   0.0s\n",
      "[CV] criterion=entropy, max_depth=6, min_samples_leaf=6, min_samples_split=5 \n",
      "[CV]  criterion=entropy, max_depth=6, min_samples_leaf=6, min_samples_split=5, score=0.570281124497992, total=   0.0s\n",
      "[CV] criterion=entropy, max_depth=6, min_samples_leaf=6, min_samples_split=5 \n",
      "[CV]  criterion=entropy, max_depth=6, min_samples_leaf=6, min_samples_split=5, score=0.5773092369477911, total=   0.1s\n",
      "[CV] criterion=entropy, max_depth=6, min_samples_leaf=6, min_samples_split=5 \n",
      "[CV]  criterion=entropy, max_depth=6, min_samples_leaf=6, min_samples_split=5, score=0.5744466800804829, total=   0.1s\n",
      "[CV] criterion=entropy, max_depth=6, min_samples_leaf=6, min_samples_split=10 \n",
      "[CV]  criterion=entropy, max_depth=6, min_samples_leaf=6, min_samples_split=10, score=0.570281124497992, total=   0.0s\n",
      "[CV] criterion=entropy, max_depth=6, min_samples_leaf=6, min_samples_split=10 \n",
      "[CV]  criterion=entropy, max_depth=6, min_samples_leaf=6, min_samples_split=10, score=0.5843373493975904, total=   0.1s\n",
      "[CV] criterion=entropy, max_depth=6, min_samples_leaf=6, min_samples_split=10 \n",
      "[CV]  criterion=entropy, max_depth=6, min_samples_leaf=6, min_samples_split=10, score=0.5744466800804829, total=   0.1s\n"
     ]
    },
    {
     "name": "stderr",
     "output_type": "stream",
     "text": [
      "[Parallel(n_jobs=1)]: Done 648 out of 648 | elapsed:   28.0s finished\n"
     ]
    },
    {
     "data": {
      "text/plain": [
       "GridSearchCV(cv=3, error_score='raise-deprecating',\n",
       "       estimator=DecisionTreeClassifier(class_weight=None, criterion='gini', max_depth=None,\n",
       "            max_features=None, max_leaf_nodes=None,\n",
       "            min_impurity_decrease=0.0, min_impurity_split=None,\n",
       "            min_samples_leaf=1, min_samples_split=2,\n",
       "            min_weight_fraction_leaf=0.0, presort=False, random_state=None,\n",
       "            splitter='best'),\n",
       "       fit_params=None, iid='warn', n_jobs=None,\n",
       "       param_grid={'criterion': ['gini', 'entropy'], 'max_depth': [None, 2, 3, 4, 5, 6], 'min_samples_split': [2, 5, 10], 'min_samples_leaf': [1, 2, 3, 4, 5, 6]},\n",
       "       pre_dispatch='2*n_jobs', refit=True, return_train_score=True,\n",
       "       scoring=None, verbose=5)"
      ]
     },
     "execution_count": 94,
     "metadata": {},
     "output_type": "execute_result"
    }
   ],
   "source": [
    "dt_grid_search = GridSearchCV(dt_clf, dt_param_grid, cv=3, return_train_score=True, verbose=5)\n",
    "dt_grid_search.fit(X, y)"
   ]
  },
  {
   "cell_type": "code",
   "execution_count": 95,
   "metadata": {},
   "outputs": [
    {
     "name": "stdout",
     "output_type": "stream",
     "text": [
      "Mean Training Score: 69.09648761620089\n",
      "Mean Testing Score: 62.12324179504354\n",
      "Best Parameter Found:\n"
     ]
    },
    {
     "data": {
      "text/plain": [
       "{'criterion': 'entropy',\n",
       " 'max_depth': 4,\n",
       " 'min_samples_leaf': 1,\n",
       " 'min_samples_split': 2}"
      ]
     },
     "execution_count": 95,
     "metadata": {},
     "output_type": "execute_result"
    }
   ],
   "source": [
    "dt_gs_training_score = np.mean(dt_grid_search.cv_results_['mean_train_score'])\n",
    "dt_gs_testing_score = dt_grid_search.score(X, y)\n",
    "\n",
    "print(\"Mean Training Score:\", dt_gs_training_score*100)\n",
    "print(\"Mean Testing Score:\", dt_gs_testing_score*100)\n",
    "print(\"Best Parameter Found:\")\n",
    "dt_grid_search.best_params_"
   ]
  },
  {
   "cell_type": "markdown",
   "metadata": {},
   "source": [
    "### Running the Decision Tree model with the best parameters according to GridSearchCV"
   ]
  },
  {
   "cell_type": "code",
   "execution_count": 96,
   "metadata": {},
   "outputs": [
    {
     "data": {
      "text/plain": [
       "DecisionTreeClassifier(class_weight=None, criterion='entropy', max_depth=4,\n",
       "            max_features=None, max_leaf_nodes=None,\n",
       "            min_impurity_decrease=0.0, min_impurity_split=None,\n",
       "            min_samples_leaf=1, min_samples_split=2,\n",
       "            min_weight_fraction_leaf=0.0, presort=False, random_state=None,\n",
       "            splitter='best')"
      ]
     },
     "execution_count": 96,
     "metadata": {},
     "output_type": "execute_result"
    }
   ],
   "source": [
    "classifier_gs = DecisionTreeClassifier(criterion='entropy', max_depth=4, min_samples_leaf=1, min_samples_split=2)\n",
    "classifier_gs.fit(X_train, y_train)"
   ]
  },
  {
   "cell_type": "markdown",
   "metadata": {},
   "source": [
    "### Results from the GridSearch Parameters for Decision Tree"
   ]
  },
  {
   "cell_type": "code",
   "execution_count": 98,
   "metadata": {},
   "outputs": [
    {
     "name": "stdout",
     "output_type": "stream",
     "text": [
      "Precision Score: 0.6115702479338843\n",
      "Recall Score: 0.7115384615384616\n",
      "Accuracy Score: 0.6137123745819398\n",
      "F1 Score: 0.6577777777777778\n"
     ]
    }
   ],
   "source": [
    "# Predictions with GridSearch Params\n",
    "y_pred_gs = classifier_gs.predict(X_test)\n",
    "\n",
    "print_metrics(y_test, y_pred_gs)"
   ]
  },
  {
   "cell_type": "code",
   "execution_count": 99,
   "metadata": {},
   "outputs": [
    {
     "name": "stdout",
     "output_type": "stream",
     "text": [
      "AUC: 0.6093\n"
     ]
    }
   ],
   "source": [
    "# Area under the Curve with GS Params\n",
    "false_positive_rate_gs, true_positive_rate_gs, thresholds = roc_curve(y_test, y_pred_gs)\n",
    "roc_auc_gs = auc(false_positive_rate_gs, true_positive_rate_gs)\n",
    "print(\"AUC:\", round(roc_auc_gs, 4))"
   ]
  },
  {
   "cell_type": "code",
   "execution_count": 100,
   "metadata": {
    "scrolled": true
   },
   "outputs": [
    {
     "name": "stdout",
     "output_type": "stream",
     "text": [
      "Confusion Matrix \n",
      "-----------------\n"
     ]
    },
    {
     "data": {
      "text/html": [
       "<div>\n",
       "<style scoped>\n",
       "    .dataframe tbody tr th:only-of-type {\n",
       "        vertical-align: middle;\n",
       "    }\n",
       "\n",
       "    .dataframe tbody tr th {\n",
       "        vertical-align: top;\n",
       "    }\n",
       "\n",
       "    .dataframe thead th {\n",
       "        text-align: right;\n",
       "    }\n",
       "</style>\n",
       "<table border=\"1\" class=\"dataframe\">\n",
       "  <thead>\n",
       "    <tr style=\"text-align: right;\">\n",
       "      <th>Predicted</th>\n",
       "      <th>False</th>\n",
       "      <th>True</th>\n",
       "      <th>All</th>\n",
       "    </tr>\n",
       "    <tr>\n",
       "      <th>Actual</th>\n",
       "      <th></th>\n",
       "      <th></th>\n",
       "      <th></th>\n",
       "    </tr>\n",
       "  </thead>\n",
       "  <tbody>\n",
       "    <tr>\n",
       "      <th>False</th>\n",
       "      <td>145</td>\n",
       "      <td>141</td>\n",
       "      <td>286</td>\n",
       "    </tr>\n",
       "    <tr>\n",
       "      <th>True</th>\n",
       "      <td>90</td>\n",
       "      <td>222</td>\n",
       "      <td>312</td>\n",
       "    </tr>\n",
       "    <tr>\n",
       "      <th>All</th>\n",
       "      <td>235</td>\n",
       "      <td>363</td>\n",
       "      <td>598</td>\n",
       "    </tr>\n",
       "  </tbody>\n",
       "</table>\n",
       "</div>"
      ],
      "text/plain": [
       "Predicted  False  True  All\n",
       "Actual                     \n",
       "False        145   141  286\n",
       "True          90   222  312\n",
       "All          235   363  598"
      ]
     },
     "execution_count": 100,
     "metadata": {},
     "output_type": "execute_result"
    }
   ],
   "source": [
    "# Confusion Matrix from Gridsearch Params\n",
    "print(\"Confusion Matrix \\n-----------------\")\n",
    "pd.crosstab(y_test, y_pred_gs, rownames=['Actual'], colnames=['Predicted'], margins=True)"
   ]
  },
  {
   "cell_type": "markdown",
   "metadata": {},
   "source": [
    "#### Gridsearch improved the Accuracy of the model to 61.37%.  Also improved AUC by around 5%."
   ]
  },
  {
   "cell_type": "markdown",
   "metadata": {},
   "source": [
    "## Modeling - Logistic Regression"
   ]
  },
  {
   "cell_type": "code",
   "execution_count": 101,
   "metadata": {},
   "outputs": [],
   "source": [
    "from sklearn.linear_model import LogisticRegression"
   ]
  },
  {
   "cell_type": "markdown",
   "metadata": {},
   "source": [
    "### Fitting and Training Logistic Regression"
   ]
  },
  {
   "cell_type": "code",
   "execution_count": 102,
   "metadata": {},
   "outputs": [
    {
     "name": "stderr",
     "output_type": "stream",
     "text": [
      "/anaconda3/lib/python3.7/site-packages/sklearn/linear_model/logistic.py:433: FutureWarning: Default solver will be changed to 'lbfgs' in 0.22. Specify a solver to silence this warning.\n",
      "  FutureWarning)\n",
      "/anaconda3/lib/python3.7/site-packages/sklearn/svm/base.py:931: ConvergenceWarning: Liblinear failed to converge, increase the number of iterations.\n",
      "  \"the number of iterations.\", ConvergenceWarning)\n"
     ]
    },
    {
     "data": {
      "text/plain": [
       "LogisticRegression(C=1e+16, class_weight=None, dual=False,\n",
       "          fit_intercept=False, intercept_scaling=1, max_iter=100,\n",
       "          multi_class='warn', n_jobs=None, penalty='l2', random_state=None,\n",
       "          solver='warn', tol=0.0001, verbose=0, warm_start=False)"
      ]
     },
     "execution_count": 102,
     "metadata": {},
     "output_type": "execute_result"
    }
   ],
   "source": [
    "logreg = LogisticRegression(fit_intercept=False, C=1e16)\n",
    "logreg.fit(X_train, y_train)"
   ]
  },
  {
   "cell_type": "markdown",
   "metadata": {},
   "source": [
    "### Measuring the results from Logistic Regression"
   ]
  },
  {
   "cell_type": "code",
   "execution_count": 105,
   "metadata": {},
   "outputs": [
    {
     "name": "stdout",
     "output_type": "stream",
     "text": [
      "Precision Score: 0.5710526315789474\n",
      "Recall Score: 0.6955128205128205\n",
      "Accuracy Score: 0.568561872909699\n",
      "F1 Score: 0.6271676300578034\n"
     ]
    }
   ],
   "source": [
    "# Predictions from LR\n",
    "y_pred = logreg.predict(X_test)\n",
    "\n",
    "print_metrics(y_test, y_pred)"
   ]
  },
  {
   "cell_type": "code",
   "execution_count": 106,
   "metadata": {},
   "outputs": [
    {
     "name": "stdout",
     "output_type": "stream",
     "text": [
      "AUC: 0.5628\n"
     ]
    }
   ],
   "source": [
    "log_fpr, log_tpr, thresholds = roc_curve(y_test, y_pred)\n",
    "roc_auc = auc(log_fpr, log_tpr)\n",
    "print(\"AUC:\", round(roc_auc, 4))"
   ]
  },
  {
   "cell_type": "markdown",
   "metadata": {},
   "source": [
    "### Plotting the ROC Curve"
   ]
  },
  {
   "cell_type": "code",
   "execution_count": 107,
   "metadata": {},
   "outputs": [
    {
     "name": "stdout",
     "output_type": "stream",
     "text": [
      "Test AUC: 0.6019925587233279\n",
      "Train AUC: 0.634327557214583\n"
     ]
    },
    {
     "data": {
      "image/png": "[encoded data removed]",
      "text/plain": [
       "<Figure size 1152x576 with 1 Axes>"
      ]
     },
     "metadata": {},
     "output_type": "display_data"
    }
   ],
   "source": [
    "y_test_score  = logreg.decision_function(X_test)\n",
    "y_train_score = logreg.decision_function(X_train)\n",
    "\n",
    "# True and False Positive Rates for the Test and Train sets\n",
    "test_fpr, test_tpr, test_thresholds = roc_curve(y_test, y_test_score)\n",
    "train_fpr, train_tpr, train_thresholds = roc_curve(y_train, y_train_score)\n",
    "\n",
    "print(\"Test AUC:\", auc(test_fpr, test_tpr))\n",
    "print(\"Train AUC:\", auc(train_fpr, train_tpr))\n",
    "\n",
    "# Plotting\n",
    "plt.figure(figsize=(16,8))\n",
    "lw = 2\n",
    "plt.plot(test_fpr, test_tpr, color='darkorange',\n",
    "         lw=lw, label='Test ROC curve')\n",
    "plt.plot(train_fpr, train_tpr, color='blue',\n",
    "         lw=lw, label='train ROC curve')\n",
    "plt.plot([0, 1], [0, 1], color='navy', lw=lw, linestyle='--')\n",
    "plt.xlim([0.0, 1.0])\n",
    "plt.ylim([0.0, 1.05])\n",
    "plt.yticks([i/20.0 for i in range(21)])\n",
    "plt.xticks([i/20.0 for i in range(21)])\n",
    "plt.xlabel('False Positive Rate')\n",
    "plt.ylabel('True Positive Rate')\n",
    "plt.title('Receiver operating characteristic (ROC) Curve')\n",
    "plt.legend(loc=\"lower right\")\n",
    "plt.show()"
   ]
  },
  {
   "cell_type": "markdown",
   "metadata": {},
   "source": [
    "### Improving Logistic Regression with GridSearchCV"
   ]
  },
  {
   "cell_type": "code",
   "execution_count": 108,
   "metadata": {},
   "outputs": [
    {
     "name": "stderr",
     "output_type": "stream",
     "text": [
      "/anaconda3/lib/python3.7/site-packages/sklearn/linear_model/logistic.py:433: FutureWarning: Default solver will be changed to 'lbfgs' in 0.22. Specify a solver to silence this warning.\n",
      "  FutureWarning)\n",
      "/anaconda3/lib/python3.7/site-packages/sklearn/svm/base.py:931: ConvergenceWarning: Liblinear failed to converge, increase the number of iterations.\n",
      "  \"the number of iterations.\", ConvergenceWarning)\n",
      "/anaconda3/lib/python3.7/site-packages/sklearn/linear_model/logistic.py:433: FutureWarning: Default solver will be changed to 'lbfgs' in 0.22. Specify a solver to silence this warning.\n",
      "  FutureWarning)\n",
      "/anaconda3/lib/python3.7/site-packages/sklearn/svm/base.py:931: ConvergenceWarning: Liblinear failed to converge, increase the number of iterations.\n",
      "  \"the number of iterations.\", ConvergenceWarning)\n",
      "/anaconda3/lib/python3.7/site-packages/sklearn/linear_model/logistic.py:433: FutureWarning: Default solver will be changed to 'lbfgs' in 0.22. Specify a solver to silence this warning.\n",
      "  FutureWarning)\n"
     ]
    },
    {
     "name": "stdout",
     "output_type": "stream",
     "text": [
      "Mean Cross Validation Score: 57.26743324740949\n"
     ]
    },
    {
     "name": "stderr",
     "output_type": "stream",
     "text": [
      "/anaconda3/lib/python3.7/site-packages/sklearn/svm/base.py:931: ConvergenceWarning: Liblinear failed to converge, increase the number of iterations.\n",
      "  \"the number of iterations.\", ConvergenceWarning)\n"
     ]
    }
   ],
   "source": [
    "# Using Cross Validation\n",
    "log_clf = LogisticRegression()\n",
    "log_cv_score = cross_val_score(log_clf, X, y, cv=3)\n",
    "mean_log_cv_score = np.mean(log_cv_score)\n",
    "\n",
    "print(\"Mean Cross Validation Score:\", mean_log_cv_score*100)"
   ]
  },
  {
   "cell_type": "code",
   "execution_count": 109,
   "metadata": {},
   "outputs": [],
   "source": [
    "log_param_grid = {'C': [1.5**n for n in range(0, 20, 2)],\n",
    "                  'fit_intercept': [True, False],\n",
    "                  'intercept_scaling': [1, 5, 10, 25, 50, 100],\n",
    "                  'solver': ['liblinear', 'saga']}"
   ]
  },
  {
   "cell_type": "code",
   "execution_count": 110,
   "metadata": {
    "scrolled": true
   },
   "outputs": [
    {
     "name": "stdout",
     "output_type": "stream",
     "text": [
      "Fitting 3 folds for each of 240 candidates, totalling 720 fits\n",
      "[CV] C=1.0, fit_intercept=True, intercept_scaling=1, solver=liblinear \n",
      "[CV]  C=1.0, fit_intercept=True, intercept_scaling=1, solver=liblinear, score=0.5873493975903614, total=   0.2s\n",
      "[CV] C=1.0, fit_intercept=True, intercept_scaling=1, solver=liblinear \n"
     ]
    },
    {
     "name": "stderr",
     "output_type": "stream",
     "text": [
      "[Parallel(n_jobs=1)]: Using backend SequentialBackend with 1 concurrent workers.\n",
      "/anaconda3/lib/python3.7/site-packages/sklearn/svm/base.py:931: ConvergenceWarning: Liblinear failed to converge, increase the number of iterations.\n",
      "  \"the number of iterations.\", ConvergenceWarning)\n",
      "[Parallel(n_jobs=1)]: Done   1 out of   1 | elapsed:    0.2s remaining:    0.0s\n",
      "/anaconda3/lib/python3.7/site-packages/sklearn/svm/base.py:931: ConvergenceWarning: Liblinear failed to converge, increase the number of iterations.\n",
      "  \"the number of iterations.\", ConvergenceWarning)\n",
      "[Parallel(n_jobs=1)]: Done   2 out of   2 | elapsed:    0.5s remaining:    0.0s\n"
     ]
    },
    {
     "name": "stdout",
     "output_type": "stream",
     "text": [
      "[CV]  C=1.0, fit_intercept=True, intercept_scaling=1, solver=liblinear, score=0.5552208835341366, total=   0.3s\n",
      "[CV] C=1.0, fit_intercept=True, intercept_scaling=1, solver=liblinear \n"
     ]
    },
    {
     "name": "stderr",
     "output_type": "stream",
     "text": [
      "/anaconda3/lib/python3.7/site-packages/sklearn/svm/base.py:931: ConvergenceWarning: Liblinear failed to converge, increase the number of iterations.\n",
      "  \"the number of iterations.\", ConvergenceWarning)\n",
      "/anaconda3/lib/python3.7/site-packages/sklearn/linear_model/sag.py:334: ConvergenceWarning: The max_iter was reached which means the coef_ did not converge\n",
      "  \"the coef_ did not converge\", ConvergenceWarning)\n"
     ]
    },
    {
     "name": "stdout",
     "output_type": "stream",
     "text": [
      "[CV]  C=1.0, fit_intercept=True, intercept_scaling=1, solver=liblinear, score=0.5754527162977867, total=   0.5s\n",
      "[CV] C=1.0, fit_intercept=True, intercept_scaling=1, solver=saga .....\n",
      "[CV]  C=1.0, fit_intercept=True, intercept_scaling=1, solver=saga, score=0.5180722891566265, total=   0.1s\n",
      "[CV] C=1.0, fit_intercept=True, intercept_scaling=1, solver=saga .....\n"
     ]
    },
    {
     "name": "stderr",
     "output_type": "stream",
     "text": [
      "/anaconda3/lib/python3.7/site-packages/sklearn/linear_model/sag.py:334: ConvergenceWarning: The max_iter was reached which means the coef_ did not converge\n",
      "  \"the coef_ did not converge\", ConvergenceWarning)\n",
      "/anaconda3/lib/python3.7/site-packages/sklearn/linear_model/sag.py:334: ConvergenceWarning: The max_iter was reached which means the coef_ did not converge\n",
      "  \"the coef_ did not converge\", ConvergenceWarning)\n"
     ]
    },
    {
     "name": "stdout",
     "output_type": "stream",
     "text": [
      "[CV]  C=1.0, fit_intercept=True, intercept_scaling=1, solver=saga, score=0.5210843373493976, total=   0.1s\n",
      "[CV] C=1.0, fit_intercept=True, intercept_scaling=1, solver=saga .....\n",
      "[CV]  C=1.0, fit_intercept=True, intercept_scaling=1, solver=saga, score=0.5020120724346077, total=   0.1s\n",
      "[CV] C=1.0, fit_intercept=True, intercept_scaling=5, solver=liblinear \n"
     ]
    },
    {
     "name": "stderr",
     "output_type": "stream",
     "text": [
      "/anaconda3/lib/python3.7/site-packages/sklearn/svm/base.py:931: ConvergenceWarning: Liblinear failed to converge, increase the number of iterations.\n",
      "  \"the number of iterations.\", ConvergenceWarning)\n"
     ]
    },
    {
     "name": "stdout",
     "output_type": "stream",
     "text": [
      "[CV]  C=1.0, fit_intercept=True, intercept_scaling=5, solver=liblinear, score=0.5903614457831325, total=   0.2s\n",
      "[CV] C=1.0, fit_intercept=True, intercept_scaling=5, solver=liblinear \n"
     ]
    },
    {
     "name": "stderr",
     "output_type": "stream",
     "text": [
      "/anaconda3/lib/python3.7/site-packages/sklearn/svm/base.py:931: ConvergenceWarning: Liblinear failed to converge, increase the number of iterations.\n",
      "  \"the number of iterations.\", ConvergenceWarning)\n"
     ]
    },
    {
     "name": "stdout",
     "output_type": "stream",
     "text": [
      "[CV]  C=1.0, fit_intercept=True, intercept_scaling=5, solver=liblinear, score=0.5622489959839357, total=   0.4s\n",
      "[CV] C=1.0, fit_intercept=True, intercept_scaling=5, solver=liblinear \n"
     ]
    },
    {
     "name": "stderr",
     "output_type": "stream",
     "text": [
      "/anaconda3/lib/python3.7/site-packages/sklearn/svm/base.py:931: ConvergenceWarning: Liblinear failed to converge, increase the number of iterations.\n",
      "  \"the number of iterations.\", ConvergenceWarning)\n",
      "/anaconda3/lib/python3.7/site-packages/sklearn/linear_model/sag.py:334: ConvergenceWarning: The max_iter was reached which means the coef_ did not converge\n",
      "  \"the coef_ did not converge\", ConvergenceWarning)\n"
     ]
    },
    {
     "name": "stdout",
     "output_type": "stream",
     "text": [
      "[CV]  C=1.0, fit_intercept=True, intercept_scaling=5, solver=liblinear, score=0.5764587525150905, total=   0.4s\n",
      "[CV] C=1.0, fit_intercept=True, intercept_scaling=5, solver=saga .....\n",
      "[CV]  C=1.0, fit_intercept=True, intercept_scaling=5, solver=saga, score=0.5180722891566265, total=   0.1s\n",
      "[CV] C=1.0, fit_intercept=True, intercept_scaling=5, solver=saga .....\n"
     ]
    },
    {
     "name": "stderr",
     "output_type": "stream",
     "text": [
      "/anaconda3/lib/python3.7/site-packages/sklearn/linear_model/sag.py:334: ConvergenceWarning: The max_iter was reached which means the coef_ did not converge\n",
      "  \"the coef_ did not converge\", ConvergenceWarning)\n",
      "/anaconda3/lib/python3.7/site-packages/sklearn/linear_model/sag.py:334: ConvergenceWarning: The max_iter was reached which means the coef_ did not converge\n",
      "  \"the coef_ did not converge\", ConvergenceWarning)\n"
     ]
    },
    {
     "name": "stdout",
     "output_type": "stream",
     "text": [
      "[CV]  C=1.0, fit_intercept=True, intercept_scaling=5, solver=saga, score=0.5190763052208835, total=   0.1s\n",
      "[CV] C=1.0, fit_intercept=True, intercept_scaling=5, solver=saga .....\n",
      "[CV]  C=1.0, fit_intercept=True, intercept_scaling=5, solver=saga, score=0.5020120724346077, total=   0.1s\n",
      "[CV] C=1.0, fit_intercept=True, intercept_scaling=10, solver=liblinear \n"
     ]
    },
    {
     "name": "stderr",
     "output_type": "stream",
     "text": [
      "/anaconda3/lib/python3.7/site-packages/sklearn/svm/base.py:931: ConvergenceWarning: Liblinear failed to converge, increase the number of iterations.\n",
      "  \"the number of iterations.\", ConvergenceWarning)\n"
     ]
    },
    {
     "name": "stdout",
     "output_type": "stream",
     "text": [
      "[CV]  C=1.0, fit_intercept=True, intercept_scaling=10, solver=liblinear, score=0.5863453815261044, total=   0.2s\n",
      "[CV] C=1.0, fit_intercept=True, intercept_scaling=10, solver=liblinear \n"
     ]
    },
    {
     "name": "stderr",
     "output_type": "stream",
     "text": [
      "/anaconda3/lib/python3.7/site-packages/sklearn/svm/base.py:931: ConvergenceWarning: Liblinear failed to converge, increase the number of iterations.\n",
      "  \"the number of iterations.\", ConvergenceWarning)\n"
     ]
    },
    {
     "name": "stdout",
     "output_type": "stream",
     "text": [
      "[CV]  C=1.0, fit_intercept=True, intercept_scaling=10, solver=liblinear, score=0.5572289156626506, total=   0.3s\n",
      "[CV] C=1.0, fit_intercept=True, intercept_scaling=10, solver=liblinear \n"
     ]
    },
    {
     "name": "stderr",
     "output_type": "stream",
     "text": [
      "/anaconda3/lib/python3.7/site-packages/sklearn/svm/base.py:931: ConvergenceWarning: Liblinear failed to converge, increase the number of iterations.\n",
      "  \"the number of iterations.\", ConvergenceWarning)\n",
      "/anaconda3/lib/python3.7/site-packages/sklearn/linear_model/sag.py:334: ConvergenceWarning: The max_iter was reached which means the coef_ did not converge\n",
      "  \"the coef_ did not converge\", ConvergenceWarning)\n"
     ]
    },
    {
     "name": "stdout",
     "output_type": "stream",
     "text": [
      "[CV]  C=1.0, fit_intercept=True, intercept_scaling=10, solver=liblinear, score=0.5694164989939637, total=   0.4s\n",
      "[CV] C=1.0, fit_intercept=True, intercept_scaling=10, solver=saga ....\n",
      "[CV]  C=1.0, fit_intercept=True, intercept_scaling=10, solver=saga, score=0.5170682730923695, total=   0.2s\n",
      "[CV] C=1.0, fit_intercept=True, intercept_scaling=10, solver=saga ....\n"
     ]
    },
    {
     "name": "stderr",
     "output_type": "stream",
     "text": [
      "/anaconda3/lib/python3.7/site-packages/sklearn/linear_model/sag.py:334: ConvergenceWarning: The max_iter was reached which means the coef_ did not converge\n",
      "  \"the coef_ did not converge\", ConvergenceWarning)\n",
      "/anaconda3/lib/python3.7/site-packages/sklearn/linear_model/sag.py:334: ConvergenceWarning: The max_iter was reached which means the coef_ did not converge\n",
      "  \"the coef_ did not converge\", ConvergenceWarning)\n"
     ]
    },
    {
     "name": "stdout",
     "output_type": "stream",
     "text": [
      "[CV]  C=1.0, fit_intercept=True, intercept_scaling=10, solver=saga, score=0.5200803212851406, total=   0.2s\n",
      "[CV] C=1.0, fit_intercept=True, intercept_scaling=10, solver=saga ....\n",
      "[CV]  C=1.0, fit_intercept=True, intercept_scaling=10, solver=saga, score=0.5, total=   0.1s\n",
      "[CV] C=1.0, fit_intercept=True, intercept_scaling=25, solver=liblinear \n",
      "[CV]  C=1.0, fit_intercept=True, intercept_scaling=25, solver=liblinear, score=0.6004016064257028, total=   0.4s\n",
      "[CV] C=1.0, fit_intercept=True, intercept_scaling=25, solver=liblinear \n"
     ]
    },
    {
     "name": "stderr",
     "output_type": "stream",
     "text": [
      "/anaconda3/lib/python3.7/site-packages/sklearn/svm/base.py:931: ConvergenceWarning: Liblinear failed to converge, increase the number of iterations.\n",
      "  \"the number of iterations.\", ConvergenceWarning)\n"
     ]
    },
    {
     "name": "stdout",
     "output_type": "stream",
     "text": [
      "[CV]  C=1.0, fit_intercept=True, intercept_scaling=25, solver=liblinear, score=0.5753012048192772, total=   0.7s\n",
      "[CV] C=1.0, fit_intercept=True, intercept_scaling=25, solver=liblinear \n"
     ]
    },
    {
     "name": "stderr",
     "output_type": "stream",
     "text": [
      "/anaconda3/lib/python3.7/site-packages/sklearn/svm/base.py:931: ConvergenceWarning: Liblinear failed to converge, increase the number of iterations.\n",
      "  \"the number of iterations.\", ConvergenceWarning)\n",
      "/anaconda3/lib/python3.7/site-packages/sklearn/linear_model/sag.py:334: ConvergenceWarning: The max_iter was reached which means the coef_ did not converge\n",
      "  \"the coef_ did not converge\", ConvergenceWarning)\n"
     ]
    },
    {
     "name": "stdout",
     "output_type": "stream",
     "text": [
      "[CV]  C=1.0, fit_intercept=True, intercept_scaling=25, solver=liblinear, score=0.562374245472837, total=   0.4s\n",
      "[CV] C=1.0, fit_intercept=True, intercept_scaling=25, solver=saga ....\n",
      "[CV]  C=1.0, fit_intercept=True, intercept_scaling=25, solver=saga, score=0.5180722891566265, total=   0.1s\n",
      "[CV] C=1.0, fit_intercept=True, intercept_scaling=25, solver=saga ....\n"
     ]
    },
    {
     "name": "stderr",
     "output_type": "stream",
     "text": [
      "/anaconda3/lib/python3.7/site-packages/sklearn/linear_model/sag.py:334: ConvergenceWarning: The max_iter was reached which means the coef_ did not converge\n",
      "  \"the coef_ did not converge\", ConvergenceWarning)\n",
      "/anaconda3/lib/python3.7/site-packages/sklearn/linear_model/sag.py:334: ConvergenceWarning: The max_iter was reached which means the coef_ did not converge\n",
      "  \"the coef_ did not converge\", ConvergenceWarning)\n"
     ]
    },
    {
     "name": "stdout",
     "output_type": "stream",
     "text": [
      "[CV]  C=1.0, fit_intercept=True, intercept_scaling=25, solver=saga, score=0.5200803212851406, total=   0.1s\n",
      "[CV] C=1.0, fit_intercept=True, intercept_scaling=25, solver=saga ....\n",
      "[CV]  C=1.0, fit_intercept=True, intercept_scaling=25, solver=saga, score=0.5020120724346077, total=   0.1s\n",
      "[CV] C=1.0, fit_intercept=True, intercept_scaling=50, solver=liblinear \n",
      "[CV]  C=1.0, fit_intercept=True, intercept_scaling=50, solver=liblinear, score=0.6004016064257028, total=   0.5s\n",
      "[CV] C=1.0, fit_intercept=True, intercept_scaling=50, solver=liblinear \n"
     ]
    },
    {
     "name": "stderr",
     "output_type": "stream",
     "text": [
      "/anaconda3/lib/python3.7/site-packages/sklearn/svm/base.py:931: ConvergenceWarning: Liblinear failed to converge, increase the number of iterations.\n",
      "  \"the number of iterations.\", ConvergenceWarning)\n"
     ]
    },
    {
     "name": "stdout",
     "output_type": "stream",
     "text": [
      "[CV]  C=1.0, fit_intercept=True, intercept_scaling=50, solver=liblinear, score=0.5662650602409639, total=   0.4s\n",
      "[CV] C=1.0, fit_intercept=True, intercept_scaling=50, solver=liblinear \n"
     ]
    },
    {
     "name": "stderr",
     "output_type": "stream",
     "text": [
      "/anaconda3/lib/python3.7/site-packages/sklearn/svm/base.py:931: ConvergenceWarning: Liblinear failed to converge, increase the number of iterations.\n",
      "  \"the number of iterations.\", ConvergenceWarning)\n",
      "/anaconda3/lib/python3.7/site-packages/sklearn/linear_model/sag.py:334: ConvergenceWarning: The max_iter was reached which means the coef_ did not converge\n",
      "  \"the coef_ did not converge\", ConvergenceWarning)\n"
     ]
    },
    {
     "name": "stdout",
     "output_type": "stream",
     "text": [
      "[CV]  C=1.0, fit_intercept=True, intercept_scaling=50, solver=liblinear, score=0.5774647887323944, total=   0.4s\n",
      "[CV] C=1.0, fit_intercept=True, intercept_scaling=50, solver=saga ....\n",
      "[CV]  C=1.0, fit_intercept=True, intercept_scaling=50, solver=saga, score=0.5190763052208835, total=   0.1s\n",
      "[CV] C=1.0, fit_intercept=True, intercept_scaling=50, solver=saga ....\n"
     ]
    },
    {
     "name": "stderr",
     "output_type": "stream",
     "text": [
      "/anaconda3/lib/python3.7/site-packages/sklearn/linear_model/sag.py:334: ConvergenceWarning: The max_iter was reached which means the coef_ did not converge\n",
      "  \"the coef_ did not converge\", ConvergenceWarning)\n",
      "/anaconda3/lib/python3.7/site-packages/sklearn/linear_model/sag.py:334: ConvergenceWarning: The max_iter was reached which means the coef_ did not converge\n",
      "  \"the coef_ did not converge\", ConvergenceWarning)\n"
     ]
    },
    {
     "name": "stdout",
     "output_type": "stream",
     "text": [
      "[CV]  C=1.0, fit_intercept=True, intercept_scaling=50, solver=saga, score=0.5190763052208835, total=   0.1s\n",
      "[CV] C=1.0, fit_intercept=True, intercept_scaling=50, solver=saga ....\n",
      "[CV]  C=1.0, fit_intercept=True, intercept_scaling=50, solver=saga, score=0.5020120724346077, total=   0.1s\n",
      "[CV] C=1.0, fit_intercept=True, intercept_scaling=100, solver=liblinear \n"
     ]
    },
    {
     "name": "stderr",
     "output_type": "stream",
     "text": [
      "/anaconda3/lib/python3.7/site-packages/sklearn/svm/base.py:931: ConvergenceWarning: Liblinear failed to converge, increase the number of iterations.\n",
      "  \"the number of iterations.\", ConvergenceWarning)\n"
     ]
    },
    {
     "name": "stdout",
     "output_type": "stream",
     "text": [
      "[CV]  C=1.0, fit_intercept=True, intercept_scaling=100, solver=liblinear, score=0.5873493975903614, total=   0.2s\n",
      "[CV] C=1.0, fit_intercept=True, intercept_scaling=100, solver=liblinear \n"
     ]
    },
    {
     "name": "stderr",
     "output_type": "stream",
     "text": [
      "/anaconda3/lib/python3.7/site-packages/sklearn/svm/base.py:931: ConvergenceWarning: Liblinear failed to converge, increase the number of iterations.\n",
      "  \"the number of iterations.\", ConvergenceWarning)\n"
     ]
    },
    {
     "name": "stdout",
     "output_type": "stream",
     "text": [
      "[CV]  C=1.0, fit_intercept=True, intercept_scaling=100, solver=liblinear, score=0.571285140562249, total=   0.5s\n",
      "[CV] C=1.0, fit_intercept=True, intercept_scaling=100, solver=liblinear \n"
     ]
    },
    {
     "name": "stderr",
     "output_type": "stream",
     "text": [
      "/anaconda3/lib/python3.7/site-packages/sklearn/svm/base.py:931: ConvergenceWarning: Liblinear failed to converge, increase the number of iterations.\n",
      "  \"the number of iterations.\", ConvergenceWarning)\n",
      "/anaconda3/lib/python3.7/site-packages/sklearn/linear_model/sag.py:334: ConvergenceWarning: The max_iter was reached which means the coef_ did not converge\n",
      "  \"the coef_ did not converge\", ConvergenceWarning)\n"
     ]
    },
    {
     "name": "stdout",
     "output_type": "stream",
     "text": [
      "[CV]  C=1.0, fit_intercept=True, intercept_scaling=100, solver=liblinear, score=0.579476861167002, total=   0.5s\n",
      "[CV] C=1.0, fit_intercept=True, intercept_scaling=100, solver=saga ...\n",
      "[CV]  C=1.0, fit_intercept=True, intercept_scaling=100, solver=saga, score=0.5180722891566265, total=   0.1s\n",
      "[CV] C=1.0, fit_intercept=True, intercept_scaling=100, solver=saga ...\n"
     ]
    },
    {
     "name": "stderr",
     "output_type": "stream",
     "text": [
      "/anaconda3/lib/python3.7/site-packages/sklearn/linear_model/sag.py:334: ConvergenceWarning: The max_iter was reached which means the coef_ did not converge\n",
      "  \"the coef_ did not converge\", ConvergenceWarning)\n",
      "/anaconda3/lib/python3.7/site-packages/sklearn/linear_model/sag.py:334: ConvergenceWarning: The max_iter was reached which means the coef_ did not converge\n",
      "  \"the coef_ did not converge\", ConvergenceWarning)\n"
     ]
    },
    {
     "name": "stdout",
     "output_type": "stream",
     "text": [
      "[CV]  C=1.0, fit_intercept=True, intercept_scaling=100, solver=saga, score=0.5210843373493976, total=   0.1s\n",
      "[CV] C=1.0, fit_intercept=True, intercept_scaling=100, solver=saga ...\n",
      "[CV]  C=1.0, fit_intercept=True, intercept_scaling=100, solver=saga, score=0.5030181086519114, total=   0.1s\n",
      "[CV] C=1.0, fit_intercept=False, intercept_scaling=1, solver=liblinear \n",
      "[CV]  C=1.0, fit_intercept=False, intercept_scaling=1, solver=liblinear, score=0.5823293172690763, total=   0.3s\n",
      "[CV] C=1.0, fit_intercept=False, intercept_scaling=1, solver=liblinear \n"
     ]
    },
    {
     "name": "stderr",
     "output_type": "stream",
     "text": [
      "/anaconda3/lib/python3.7/site-packages/sklearn/svm/base.py:931: ConvergenceWarning: Liblinear failed to converge, increase the number of iterations.\n",
      "  \"the number of iterations.\", ConvergenceWarning)\n"
     ]
    },
    {
     "name": "stdout",
     "output_type": "stream",
     "text": [
      "[CV]  C=1.0, fit_intercept=False, intercept_scaling=1, solver=liblinear, score=0.5572289156626506, total=   0.3s\n",
      "[CV] C=1.0, fit_intercept=False, intercept_scaling=1, solver=liblinear \n"
     ]
    },
    {
     "name": "stderr",
     "output_type": "stream",
     "text": [
      "/anaconda3/lib/python3.7/site-packages/sklearn/svm/base.py:931: ConvergenceWarning: Liblinear failed to converge, increase the number of iterations.\n",
      "  \"the number of iterations.\", ConvergenceWarning)\n",
      "/anaconda3/lib/python3.7/site-packages/sklearn/linear_model/sag.py:334: ConvergenceWarning: The max_iter was reached which means the coef_ did not converge\n",
      "  \"the coef_ did not converge\", ConvergenceWarning)\n"
     ]
    },
    {
     "name": "stdout",
     "output_type": "stream",
     "text": [
      "[CV]  C=1.0, fit_intercept=False, intercept_scaling=1, solver=liblinear, score=0.5714285714285714, total=   0.4s\n",
      "[CV] C=1.0, fit_intercept=False, intercept_scaling=1, solver=saga ....\n",
      "[CV]  C=1.0, fit_intercept=False, intercept_scaling=1, solver=saga, score=0.5190763052208835, total=   0.1s\n",
      "[CV] C=1.0, fit_intercept=False, intercept_scaling=1, solver=saga ....\n"
     ]
    },
    {
     "name": "stderr",
     "output_type": "stream",
     "text": [
      "/anaconda3/lib/python3.7/site-packages/sklearn/linear_model/sag.py:334: ConvergenceWarning: The max_iter was reached which means the coef_ did not converge\n",
      "  \"the coef_ did not converge\", ConvergenceWarning)\n",
      "/anaconda3/lib/python3.7/site-packages/sklearn/linear_model/sag.py:334: ConvergenceWarning: The max_iter was reached which means the coef_ did not converge\n",
      "  \"the coef_ did not converge\", ConvergenceWarning)\n"
     ]
    },
    {
     "name": "stdout",
     "output_type": "stream",
     "text": [
      "[CV]  C=1.0, fit_intercept=False, intercept_scaling=1, solver=saga, score=0.5230923694779116, total=   0.1s\n",
      "[CV] C=1.0, fit_intercept=False, intercept_scaling=1, solver=saga ....\n",
      "[CV]  C=1.0, fit_intercept=False, intercept_scaling=1, solver=saga, score=0.5020120724346077, total=   0.1s\n",
      "[CV] C=1.0, fit_intercept=False, intercept_scaling=5, solver=liblinear \n",
      "[CV]  C=1.0, fit_intercept=False, intercept_scaling=5, solver=liblinear, score=0.5823293172690763, total=   0.3s\n",
      "[CV] C=1.0, fit_intercept=False, intercept_scaling=5, solver=liblinear \n"
     ]
    },
    {
     "name": "stderr",
     "output_type": "stream",
     "text": [
      "/anaconda3/lib/python3.7/site-packages/sklearn/svm/base.py:931: ConvergenceWarning: Liblinear failed to converge, increase the number of iterations.\n",
      "  \"the number of iterations.\", ConvergenceWarning)\n"
     ]
    },
    {
     "name": "stdout",
     "output_type": "stream",
     "text": [
      "[CV]  C=1.0, fit_intercept=False, intercept_scaling=5, solver=liblinear, score=0.5572289156626506, total=   0.3s\n",
      "[CV] C=1.0, fit_intercept=False, intercept_scaling=5, solver=liblinear \n"
     ]
    },
    {
     "name": "stderr",
     "output_type": "stream",
     "text": [
      "/anaconda3/lib/python3.7/site-packages/sklearn/svm/base.py:931: ConvergenceWarning: Liblinear failed to converge, increase the number of iterations.\n",
      "  \"the number of iterations.\", ConvergenceWarning)\n",
      "/anaconda3/lib/python3.7/site-packages/sklearn/linear_model/sag.py:334: ConvergenceWarning: The max_iter was reached which means the coef_ did not converge\n",
      "  \"the coef_ did not converge\", ConvergenceWarning)\n"
     ]
    },
    {
     "name": "stdout",
     "output_type": "stream",
     "text": [
      "[CV]  C=1.0, fit_intercept=False, intercept_scaling=5, solver=liblinear, score=0.5714285714285714, total=   0.4s\n",
      "[CV] C=1.0, fit_intercept=False, intercept_scaling=5, solver=saga ....\n",
      "[CV]  C=1.0, fit_intercept=False, intercept_scaling=5, solver=saga, score=0.5180722891566265, total=   0.1s\n",
      "[CV] C=1.0, fit_intercept=False, intercept_scaling=5, solver=saga ....\n"
     ]
    },
    {
     "name": "stderr",
     "output_type": "stream",
     "text": [
      "/anaconda3/lib/python3.7/site-packages/sklearn/linear_model/sag.py:334: ConvergenceWarning: The max_iter was reached which means the coef_ did not converge\n",
      "  \"the coef_ did not converge\", ConvergenceWarning)\n",
      "/anaconda3/lib/python3.7/site-packages/sklearn/linear_model/sag.py:334: ConvergenceWarning: The max_iter was reached which means the coef_ did not converge\n",
      "  \"the coef_ did not converge\", ConvergenceWarning)\n"
     ]
    },
    {
     "name": "stdout",
     "output_type": "stream",
     "text": [
      "[CV]  C=1.0, fit_intercept=False, intercept_scaling=5, solver=saga, score=0.5210843373493976, total=   0.2s\n",
      "[CV] C=1.0, fit_intercept=False, intercept_scaling=5, solver=saga ....\n",
      "[CV]  C=1.0, fit_intercept=False, intercept_scaling=5, solver=saga, score=0.49899396378269617, total=   0.2s\n",
      "[CV] C=1.0, fit_intercept=False, intercept_scaling=10, solver=liblinear \n",
      "[CV]  C=1.0, fit_intercept=False, intercept_scaling=10, solver=liblinear, score=0.5823293172690763, total=   0.4s\n",
      "[CV] C=1.0, fit_intercept=False, intercept_scaling=10, solver=liblinear \n"
     ]
    },
    {
     "name": "stderr",
     "output_type": "stream",
     "text": [
      "/anaconda3/lib/python3.7/site-packages/sklearn/svm/base.py:931: ConvergenceWarning: Liblinear failed to converge, increase the number of iterations.\n",
      "  \"the number of iterations.\", ConvergenceWarning)\n"
     ]
    },
    {
     "name": "stdout",
     "output_type": "stream",
     "text": [
      "[CV]  C=1.0, fit_intercept=False, intercept_scaling=10, solver=liblinear, score=0.5572289156626506, total=   0.4s\n",
      "[CV] C=1.0, fit_intercept=False, intercept_scaling=10, solver=liblinear \n"
     ]
    },
    {
     "name": "stderr",
     "output_type": "stream",
     "text": [
      "/anaconda3/lib/python3.7/site-packages/sklearn/svm/base.py:931: ConvergenceWarning: Liblinear failed to converge, increase the number of iterations.\n",
      "  \"the number of iterations.\", ConvergenceWarning)\n"
     ]
    },
    {
     "name": "stdout",
     "output_type": "stream",
     "text": [
      "[CV]  C=1.0, fit_intercept=False, intercept_scaling=10, solver=liblinear, score=0.5714285714285714, total=   0.5s\n",
      "[CV] C=1.0, fit_intercept=False, intercept_scaling=10, solver=saga ...\n"
     ]
    },
    {
     "name": "stderr",
     "output_type": "stream",
     "text": [
      "/anaconda3/lib/python3.7/site-packages/sklearn/linear_model/sag.py:334: ConvergenceWarning: The max_iter was reached which means the coef_ did not converge\n",
      "  \"the coef_ did not converge\", ConvergenceWarning)\n",
      "/anaconda3/lib/python3.7/site-packages/sklearn/linear_model/sag.py:334: ConvergenceWarning: The max_iter was reached which means the coef_ did not converge\n",
      "  \"the coef_ did not converge\", ConvergenceWarning)\n"
     ]
    },
    {
     "name": "stdout",
     "output_type": "stream",
     "text": [
      "[CV]  C=1.0, fit_intercept=False, intercept_scaling=10, solver=saga, score=0.5180722891566265, total=   0.2s\n",
      "[CV] C=1.0, fit_intercept=False, intercept_scaling=10, solver=saga ...\n",
      "[CV]  C=1.0, fit_intercept=False, intercept_scaling=10, solver=saga, score=0.5200803212851406, total=   0.1s\n",
      "[CV] C=1.0, fit_intercept=False, intercept_scaling=10, solver=saga ...\n"
     ]
    },
    {
     "name": "stderr",
     "output_type": "stream",
     "text": [
      "/anaconda3/lib/python3.7/site-packages/sklearn/linear_model/sag.py:334: ConvergenceWarning: The max_iter was reached which means the coef_ did not converge\n",
      "  \"the coef_ did not converge\", ConvergenceWarning)\n"
     ]
    },
    {
     "name": "stdout",
     "output_type": "stream",
     "text": [
      "[CV]  C=1.0, fit_intercept=False, intercept_scaling=10, solver=saga, score=0.5020120724346077, total=   0.1s\n",
      "[CV] C=1.0, fit_intercept=False, intercept_scaling=25, solver=liblinear \n",
      "[CV]  C=1.0, fit_intercept=False, intercept_scaling=25, solver=liblinear, score=0.5823293172690763, total=   0.4s\n",
      "[CV] C=1.0, fit_intercept=False, intercept_scaling=25, solver=liblinear \n"
     ]
    },
    {
     "name": "stderr",
     "output_type": "stream",
     "text": [
      "/anaconda3/lib/python3.7/site-packages/sklearn/svm/base.py:931: ConvergenceWarning: Liblinear failed to converge, increase the number of iterations.\n",
      "  \"the number of iterations.\", ConvergenceWarning)\n"
     ]
    },
    {
     "name": "stdout",
     "output_type": "stream",
     "text": [
      "[CV]  C=1.0, fit_intercept=False, intercept_scaling=25, solver=liblinear, score=0.5572289156626506, total=   0.3s\n",
      "[CV] C=1.0, fit_intercept=False, intercept_scaling=25, solver=liblinear \n"
     ]
    },
    {
     "name": "stderr",
     "output_type": "stream",
     "text": [
      "/anaconda3/lib/python3.7/site-packages/sklearn/svm/base.py:931: ConvergenceWarning: Liblinear failed to converge, increase the number of iterations.\n",
      "  \"the number of iterations.\", ConvergenceWarning)\n",
      "/anaconda3/lib/python3.7/site-packages/sklearn/linear_model/sag.py:334: ConvergenceWarning: The max_iter was reached which means the coef_ did not converge\n",
      "  \"the coef_ did not converge\", ConvergenceWarning)\n"
     ]
    },
    {
     "name": "stdout",
     "output_type": "stream",
     "text": [
      "[CV]  C=1.0, fit_intercept=False, intercept_scaling=25, solver=liblinear, score=0.5714285714285714, total=   0.5s\n",
      "[CV] C=1.0, fit_intercept=False, intercept_scaling=25, solver=saga ...\n",
      "[CV]  C=1.0, fit_intercept=False, intercept_scaling=25, solver=saga, score=0.5190763052208835, total=   0.1s\n",
      "[CV] C=1.0, fit_intercept=False, intercept_scaling=25, solver=saga ...\n"
     ]
    },
    {
     "name": "stderr",
     "output_type": "stream",
     "text": [
      "/anaconda3/lib/python3.7/site-packages/sklearn/linear_model/sag.py:334: ConvergenceWarning: The max_iter was reached which means the coef_ did not converge\n",
      "  \"the coef_ did not converge\", ConvergenceWarning)\n"
     ]
    },
    {
     "name": "stdout",
     "output_type": "stream",
     "text": [
      "[CV]  C=1.0, fit_intercept=False, intercept_scaling=25, solver=saga, score=0.5200803212851406, total=   0.1s\n",
      "[CV] C=1.0, fit_intercept=False, intercept_scaling=25, solver=saga ...\n"
     ]
    },
    {
     "name": "stderr",
     "output_type": "stream",
     "text": [
      "/anaconda3/lib/python3.7/site-packages/sklearn/linear_model/sag.py:334: ConvergenceWarning: The max_iter was reached which means the coef_ did not converge\n",
      "  \"the coef_ did not converge\", ConvergenceWarning)\n"
     ]
    },
    {
     "name": "stdout",
     "output_type": "stream",
     "text": [
      "[CV]  C=1.0, fit_intercept=False, intercept_scaling=25, solver=saga, score=0.5020120724346077, total=   0.2s\n",
      "[CV] C=1.0, fit_intercept=False, intercept_scaling=50, solver=liblinear \n",
      "[CV]  C=1.0, fit_intercept=False, intercept_scaling=50, solver=liblinear, score=0.5823293172690763, total=   0.4s\n",
      "[CV] C=1.0, fit_intercept=False, intercept_scaling=50, solver=liblinear \n"
     ]
    },
    {
     "name": "stderr",
     "output_type": "stream",
     "text": [
      "/anaconda3/lib/python3.7/site-packages/sklearn/svm/base.py:931: ConvergenceWarning: Liblinear failed to converge, increase the number of iterations.\n",
      "  \"the number of iterations.\", ConvergenceWarning)\n"
     ]
    },
    {
     "name": "stdout",
     "output_type": "stream",
     "text": [
      "[CV]  C=1.0, fit_intercept=False, intercept_scaling=50, solver=liblinear, score=0.5572289156626506, total=   0.3s\n",
      "[CV] C=1.0, fit_intercept=False, intercept_scaling=50, solver=liblinear \n"
     ]
    },
    {
     "name": "stderr",
     "output_type": "stream",
     "text": [
      "/anaconda3/lib/python3.7/site-packages/sklearn/svm/base.py:931: ConvergenceWarning: Liblinear failed to converge, increase the number of iterations.\n",
      "  \"the number of iterations.\", ConvergenceWarning)\n",
      "/anaconda3/lib/python3.7/site-packages/sklearn/linear_model/sag.py:334: ConvergenceWarning: The max_iter was reached which means the coef_ did not converge\n",
      "  \"the coef_ did not converge\", ConvergenceWarning)\n"
     ]
    },
    {
     "name": "stdout",
     "output_type": "stream",
     "text": [
      "[CV]  C=1.0, fit_intercept=False, intercept_scaling=50, solver=liblinear, score=0.5714285714285714, total=   0.5s\n",
      "[CV] C=1.0, fit_intercept=False, intercept_scaling=50, solver=saga ...\n",
      "[CV]  C=1.0, fit_intercept=False, intercept_scaling=50, solver=saga, score=0.5200803212851406, total=   0.1s\n",
      "[CV] C=1.0, fit_intercept=False, intercept_scaling=50, solver=saga ...\n"
     ]
    },
    {
     "name": "stderr",
     "output_type": "stream",
     "text": [
      "/anaconda3/lib/python3.7/site-packages/sklearn/linear_model/sag.py:334: ConvergenceWarning: The max_iter was reached which means the coef_ did not converge\n",
      "  \"the coef_ did not converge\", ConvergenceWarning)\n",
      "/anaconda3/lib/python3.7/site-packages/sklearn/linear_model/sag.py:334: ConvergenceWarning: The max_iter was reached which means the coef_ did not converge\n",
      "  \"the coef_ did not converge\", ConvergenceWarning)\n"
     ]
    },
    {
     "name": "stdout",
     "output_type": "stream",
     "text": [
      "[CV]  C=1.0, fit_intercept=False, intercept_scaling=50, solver=saga, score=0.5180722891566265, total=   0.1s\n",
      "[CV] C=1.0, fit_intercept=False, intercept_scaling=50, solver=saga ...\n",
      "[CV]  C=1.0, fit_intercept=False, intercept_scaling=50, solver=saga, score=0.5010060362173038, total=   0.1s\n",
      "[CV] C=1.0, fit_intercept=False, intercept_scaling=100, solver=liblinear \n",
      "[CV]  C=1.0, fit_intercept=False, intercept_scaling=100, solver=liblinear, score=0.5823293172690763, total=   0.3s\n",
      "[CV] C=1.0, fit_intercept=False, intercept_scaling=100, solver=liblinear \n"
     ]
    },
    {
     "name": "stderr",
     "output_type": "stream",
     "text": [
      "/anaconda3/lib/python3.7/site-packages/sklearn/svm/base.py:931: ConvergenceWarning: Liblinear failed to converge, increase the number of iterations.\n",
      "  \"the number of iterations.\", ConvergenceWarning)\n"
     ]
    },
    {
     "name": "stdout",
     "output_type": "stream",
     "text": [
      "[CV]  C=1.0, fit_intercept=False, intercept_scaling=100, solver=liblinear, score=0.5572289156626506, total=   0.3s\n",
      "[CV] C=1.0, fit_intercept=False, intercept_scaling=100, solver=liblinear \n"
     ]
    },
    {
     "name": "stderr",
     "output_type": "stream",
     "text": [
      "/anaconda3/lib/python3.7/site-packages/sklearn/svm/base.py:931: ConvergenceWarning: Liblinear failed to converge, increase the number of iterations.\n",
      "  \"the number of iterations.\", ConvergenceWarning)\n",
      "/anaconda3/lib/python3.7/site-packages/sklearn/linear_model/sag.py:334: ConvergenceWarning: The max_iter was reached which means the coef_ did not converge\n",
      "  \"the coef_ did not converge\", ConvergenceWarning)\n"
     ]
    },
    {
     "name": "stdout",
     "output_type": "stream",
     "text": [
      "[CV]  C=1.0, fit_intercept=False, intercept_scaling=100, solver=liblinear, score=0.5714285714285714, total=   0.4s\n",
      "[CV] C=1.0, fit_intercept=False, intercept_scaling=100, solver=saga ..\n",
      "[CV]  C=1.0, fit_intercept=False, intercept_scaling=100, solver=saga, score=0.5180722891566265, total=   0.1s\n",
      "[CV] C=1.0, fit_intercept=False, intercept_scaling=100, solver=saga ..\n"
     ]
    },
    {
     "name": "stderr",
     "output_type": "stream",
     "text": [
      "/anaconda3/lib/python3.7/site-packages/sklearn/linear_model/sag.py:334: ConvergenceWarning: The max_iter was reached which means the coef_ did not converge\n",
      "  \"the coef_ did not converge\", ConvergenceWarning)\n",
      "/anaconda3/lib/python3.7/site-packages/sklearn/linear_model/sag.py:334: ConvergenceWarning: The max_iter was reached which means the coef_ did not converge\n",
      "  \"the coef_ did not converge\", ConvergenceWarning)\n"
     ]
    },
    {
     "name": "stdout",
     "output_type": "stream",
     "text": [
      "[CV]  C=1.0, fit_intercept=False, intercept_scaling=100, solver=saga, score=0.5210843373493976, total=   0.1s\n",
      "[CV] C=1.0, fit_intercept=False, intercept_scaling=100, solver=saga ..\n",
      "[CV]  C=1.0, fit_intercept=False, intercept_scaling=100, solver=saga, score=0.5010060362173038, total=   0.1s\n",
      "[CV] C=2.25, fit_intercept=True, intercept_scaling=1, solver=liblinear \n"
     ]
    },
    {
     "name": "stderr",
     "output_type": "stream",
     "text": [
      "/anaconda3/lib/python3.7/site-packages/sklearn/svm/base.py:931: ConvergenceWarning: Liblinear failed to converge, increase the number of iterations.\n",
      "  \"the number of iterations.\", ConvergenceWarning)\n"
     ]
    },
    {
     "name": "stdout",
     "output_type": "stream",
     "text": [
      "[CV]  C=2.25, fit_intercept=True, intercept_scaling=1, solver=liblinear, score=0.5893574297188755, total=   0.2s\n",
      "[CV] C=2.25, fit_intercept=True, intercept_scaling=1, solver=liblinear \n"
     ]
    },
    {
     "name": "stderr",
     "output_type": "stream",
     "text": [
      "/anaconda3/lib/python3.7/site-packages/sklearn/svm/base.py:931: ConvergenceWarning: Liblinear failed to converge, increase the number of iterations.\n",
      "  \"the number of iterations.\", ConvergenceWarning)\n"
     ]
    },
    {
     "name": "stdout",
     "output_type": "stream",
     "text": [
      "[CV]  C=2.25, fit_intercept=True, intercept_scaling=1, solver=liblinear, score=0.5592369477911646, total=   0.3s\n",
      "[CV] C=2.25, fit_intercept=True, intercept_scaling=1, solver=liblinear \n"
     ]
    },
    {
     "name": "stderr",
     "output_type": "stream",
     "text": [
      "/anaconda3/lib/python3.7/site-packages/sklearn/svm/base.py:931: ConvergenceWarning: Liblinear failed to converge, increase the number of iterations.\n",
      "  \"the number of iterations.\", ConvergenceWarning)\n",
      "/anaconda3/lib/python3.7/site-packages/sklearn/linear_model/sag.py:334: ConvergenceWarning: The max_iter was reached which means the coef_ did not converge\n",
      "  \"the coef_ did not converge\", ConvergenceWarning)\n"
     ]
    },
    {
     "name": "stdout",
     "output_type": "stream",
     "text": [
      "[CV]  C=2.25, fit_intercept=True, intercept_scaling=1, solver=liblinear, score=0.5764587525150905, total=   0.5s\n",
      "[CV] C=2.25, fit_intercept=True, intercept_scaling=1, solver=saga ....\n",
      "[CV]  C=2.25, fit_intercept=True, intercept_scaling=1, solver=saga, score=0.5190763052208835, total=   0.1s\n",
      "[CV] C=2.25, fit_intercept=True, intercept_scaling=1, solver=saga ....\n"
     ]
    },
    {
     "name": "stderr",
     "output_type": "stream",
     "text": [
      "/anaconda3/lib/python3.7/site-packages/sklearn/linear_model/sag.py:334: ConvergenceWarning: The max_iter was reached which means the coef_ did not converge\n",
      "  \"the coef_ did not converge\", ConvergenceWarning)\n",
      "/anaconda3/lib/python3.7/site-packages/sklearn/linear_model/sag.py:334: ConvergenceWarning: The max_iter was reached which means the coef_ did not converge\n",
      "  \"the coef_ did not converge\", ConvergenceWarning)\n"
     ]
    },
    {
     "name": "stdout",
     "output_type": "stream",
     "text": [
      "[CV]  C=2.25, fit_intercept=True, intercept_scaling=1, solver=saga, score=0.5200803212851406, total=   0.2s\n",
      "[CV] C=2.25, fit_intercept=True, intercept_scaling=1, solver=saga ....\n",
      "[CV]  C=2.25, fit_intercept=True, intercept_scaling=1, solver=saga, score=0.5020120724346077, total=   0.2s\n",
      "[CV] C=2.25, fit_intercept=True, intercept_scaling=5, solver=liblinear \n"
     ]
    },
    {
     "name": "stderr",
     "output_type": "stream",
     "text": [
      "/anaconda3/lib/python3.7/site-packages/sklearn/svm/base.py:931: ConvergenceWarning: Liblinear failed to converge, increase the number of iterations.\n",
      "  \"the number of iterations.\", ConvergenceWarning)\n"
     ]
    },
    {
     "name": "stdout",
     "output_type": "stream",
     "text": [
      "[CV]  C=2.25, fit_intercept=True, intercept_scaling=5, solver=liblinear, score=0.6004016064257028, total=   0.4s\n",
      "[CV] C=2.25, fit_intercept=True, intercept_scaling=5, solver=liblinear \n"
     ]
    },
    {
     "name": "stderr",
     "output_type": "stream",
     "text": [
      "/anaconda3/lib/python3.7/site-packages/sklearn/svm/base.py:931: ConvergenceWarning: Liblinear failed to converge, increase the number of iterations.\n",
      "  \"the number of iterations.\", ConvergenceWarning)\n"
     ]
    },
    {
     "name": "stdout",
     "output_type": "stream",
     "text": [
      "[CV]  C=2.25, fit_intercept=True, intercept_scaling=5, solver=liblinear, score=0.570281124497992, total=   0.5s\n",
      "[CV] C=2.25, fit_intercept=True, intercept_scaling=5, solver=liblinear \n"
     ]
    },
    {
     "name": "stderr",
     "output_type": "stream",
     "text": [
      "/anaconda3/lib/python3.7/site-packages/sklearn/svm/base.py:931: ConvergenceWarning: Liblinear failed to converge, increase the number of iterations.\n",
      "  \"the number of iterations.\", ConvergenceWarning)\n",
      "/anaconda3/lib/python3.7/site-packages/sklearn/linear_model/sag.py:334: ConvergenceWarning: The max_iter was reached which means the coef_ did not converge\n",
      "  \"the coef_ did not converge\", ConvergenceWarning)\n"
     ]
    },
    {
     "name": "stdout",
     "output_type": "stream",
     "text": [
      "[CV]  C=2.25, fit_intercept=True, intercept_scaling=5, solver=liblinear, score=0.5553319919517102, total=   0.3s\n",
      "[CV] C=2.25, fit_intercept=True, intercept_scaling=5, solver=saga ....\n",
      "[CV]  C=2.25, fit_intercept=True, intercept_scaling=5, solver=saga, score=0.5170682730923695, total=   0.1s\n",
      "[CV] C=2.25, fit_intercept=True, intercept_scaling=5, solver=saga ....\n"
     ]
    },
    {
     "name": "stderr",
     "output_type": "stream",
     "text": [
      "/anaconda3/lib/python3.7/site-packages/sklearn/linear_model/sag.py:334: ConvergenceWarning: The max_iter was reached which means the coef_ did not converge\n",
      "  \"the coef_ did not converge\", ConvergenceWarning)\n",
      "/anaconda3/lib/python3.7/site-packages/sklearn/linear_model/sag.py:334: ConvergenceWarning: The max_iter was reached which means the coef_ did not converge\n",
      "  \"the coef_ did not converge\", ConvergenceWarning)\n"
     ]
    },
    {
     "name": "stdout",
     "output_type": "stream",
     "text": [
      "[CV]  C=2.25, fit_intercept=True, intercept_scaling=5, solver=saga, score=0.5200803212851406, total=   0.2s\n",
      "[CV] C=2.25, fit_intercept=True, intercept_scaling=5, solver=saga ....\n",
      "[CV]  C=2.25, fit_intercept=True, intercept_scaling=5, solver=saga, score=0.5020120724346077, total=   0.1s\n",
      "[CV] C=2.25, fit_intercept=True, intercept_scaling=10, solver=liblinear \n"
     ]
    },
    {
     "name": "stderr",
     "output_type": "stream",
     "text": [
      "/anaconda3/lib/python3.7/site-packages/sklearn/svm/base.py:931: ConvergenceWarning: Liblinear failed to converge, increase the number of iterations.\n",
      "  \"the number of iterations.\", ConvergenceWarning)\n"
     ]
    },
    {
     "name": "stdout",
     "output_type": "stream",
     "text": [
      "[CV]  C=2.25, fit_intercept=True, intercept_scaling=10, solver=liblinear, score=0.5833333333333334, total=   0.2s\n",
      "[CV] C=2.25, fit_intercept=True, intercept_scaling=10, solver=liblinear \n"
     ]
    },
    {
     "name": "stderr",
     "output_type": "stream",
     "text": [
      "/anaconda3/lib/python3.7/site-packages/sklearn/svm/base.py:931: ConvergenceWarning: Liblinear failed to converge, increase the number of iterations.\n",
      "  \"the number of iterations.\", ConvergenceWarning)\n"
     ]
    },
    {
     "name": "stdout",
     "output_type": "stream",
     "text": [
      "[CV]  C=2.25, fit_intercept=True, intercept_scaling=10, solver=liblinear, score=0.5572289156626506, total=   0.3s\n",
      "[CV] C=2.25, fit_intercept=True, intercept_scaling=10, solver=liblinear \n"
     ]
    },
    {
     "name": "stderr",
     "output_type": "stream",
     "text": [
      "/anaconda3/lib/python3.7/site-packages/sklearn/svm/base.py:931: ConvergenceWarning: Liblinear failed to converge, increase the number of iterations.\n",
      "  \"the number of iterations.\", ConvergenceWarning)\n",
      "/anaconda3/lib/python3.7/site-packages/sklearn/linear_model/sag.py:334: ConvergenceWarning: The max_iter was reached which means the coef_ did not converge\n",
      "  \"the coef_ did not converge\", ConvergenceWarning)\n"
     ]
    },
    {
     "name": "stdout",
     "output_type": "stream",
     "text": [
      "[CV]  C=2.25, fit_intercept=True, intercept_scaling=10, solver=liblinear, score=0.5674044265593562, total=   0.4s\n",
      "[CV] C=2.25, fit_intercept=True, intercept_scaling=10, solver=saga ...\n",
      "[CV]  C=2.25, fit_intercept=True, intercept_scaling=10, solver=saga, score=0.5180722891566265, total=   0.1s\n",
      "[CV] C=2.25, fit_intercept=True, intercept_scaling=10, solver=saga ...\n"
     ]
    },
    {
     "name": "stderr",
     "output_type": "stream",
     "text": [
      "/anaconda3/lib/python3.7/site-packages/sklearn/linear_model/sag.py:334: ConvergenceWarning: The max_iter was reached which means the coef_ did not converge\n",
      "  \"the coef_ did not converge\", ConvergenceWarning)\n",
      "/anaconda3/lib/python3.7/site-packages/sklearn/linear_model/sag.py:334: ConvergenceWarning: The max_iter was reached which means the coef_ did not converge\n",
      "  \"the coef_ did not converge\", ConvergenceWarning)\n"
     ]
    },
    {
     "name": "stdout",
     "output_type": "stream",
     "text": [
      "[CV]  C=2.25, fit_intercept=True, intercept_scaling=10, solver=saga, score=0.5180722891566265, total=   0.1s\n",
      "[CV] C=2.25, fit_intercept=True, intercept_scaling=10, solver=saga ...\n",
      "[CV]  C=2.25, fit_intercept=True, intercept_scaling=10, solver=saga, score=0.5020120724346077, total=   0.1s\n",
      "[CV] C=2.25, fit_intercept=True, intercept_scaling=25, solver=liblinear \n"
     ]
    },
    {
     "name": "stderr",
     "output_type": "stream",
     "text": [
      "/anaconda3/lib/python3.7/site-packages/sklearn/svm/base.py:931: ConvergenceWarning: Liblinear failed to converge, increase the number of iterations.\n",
      "  \"the number of iterations.\", ConvergenceWarning)\n"
     ]
    },
    {
     "name": "stdout",
     "output_type": "stream",
     "text": [
      "[CV]  C=2.25, fit_intercept=True, intercept_scaling=25, solver=liblinear, score=0.5913654618473896, total=   0.2s\n",
      "[CV] C=2.25, fit_intercept=True, intercept_scaling=25, solver=liblinear \n"
     ]
    },
    {
     "name": "stderr",
     "output_type": "stream",
     "text": [
      "/anaconda3/lib/python3.7/site-packages/sklearn/svm/base.py:931: ConvergenceWarning: Liblinear failed to converge, increase the number of iterations.\n",
      "  \"the number of iterations.\", ConvergenceWarning)\n"
     ]
    },
    {
     "name": "stdout",
     "output_type": "stream",
     "text": [
      "[CV]  C=2.25, fit_intercept=True, intercept_scaling=25, solver=liblinear, score=0.5692771084337349, total=   0.8s\n",
      "[CV] C=2.25, fit_intercept=True, intercept_scaling=25, solver=liblinear \n"
     ]
    },
    {
     "name": "stderr",
     "output_type": "stream",
     "text": [
      "/anaconda3/lib/python3.7/site-packages/sklearn/svm/base.py:931: ConvergenceWarning: Liblinear failed to converge, increase the number of iterations.\n",
      "  \"the number of iterations.\", ConvergenceWarning)\n",
      "/anaconda3/lib/python3.7/site-packages/sklearn/linear_model/sag.py:334: ConvergenceWarning: The max_iter was reached which means the coef_ did not converge\n",
      "  \"the coef_ did not converge\", ConvergenceWarning)\n"
     ]
    },
    {
     "name": "stdout",
     "output_type": "stream",
     "text": [
      "[CV]  C=2.25, fit_intercept=True, intercept_scaling=25, solver=liblinear, score=0.5694164989939637, total=   0.4s\n",
      "[CV] C=2.25, fit_intercept=True, intercept_scaling=25, solver=saga ...\n",
      "[CV]  C=2.25, fit_intercept=True, intercept_scaling=25, solver=saga, score=0.5170682730923695, total=   0.1s\n",
      "[CV] C=2.25, fit_intercept=True, intercept_scaling=25, solver=saga ...\n"
     ]
    },
    {
     "name": "stderr",
     "output_type": "stream",
     "text": [
      "/anaconda3/lib/python3.7/site-packages/sklearn/linear_model/sag.py:334: ConvergenceWarning: The max_iter was reached which means the coef_ did not converge\n",
      "  \"the coef_ did not converge\", ConvergenceWarning)\n"
     ]
    },
    {
     "name": "stdout",
     "output_type": "stream",
     "text": [
      "[CV]  C=2.25, fit_intercept=True, intercept_scaling=25, solver=saga, score=0.5220883534136547, total=   0.2s\n",
      "[CV] C=2.25, fit_intercept=True, intercept_scaling=25, solver=saga ...\n"
     ]
    },
    {
     "name": "stderr",
     "output_type": "stream",
     "text": [
      "/anaconda3/lib/python3.7/site-packages/sklearn/linear_model/sag.py:334: ConvergenceWarning: The max_iter was reached which means the coef_ did not converge\n",
      "  \"the coef_ did not converge\", ConvergenceWarning)\n"
     ]
    },
    {
     "name": "stdout",
     "output_type": "stream",
     "text": [
      "[CV]  C=2.25, fit_intercept=True, intercept_scaling=25, solver=saga, score=0.5020120724346077, total=   0.2s\n",
      "[CV] C=2.25, fit_intercept=True, intercept_scaling=50, solver=liblinear \n",
      "[CV]  C=2.25, fit_intercept=True, intercept_scaling=50, solver=liblinear, score=0.6014056224899599, total=   0.5s\n",
      "[CV] C=2.25, fit_intercept=True, intercept_scaling=50, solver=liblinear \n"
     ]
    },
    {
     "name": "stderr",
     "output_type": "stream",
     "text": [
      "/anaconda3/lib/python3.7/site-packages/sklearn/svm/base.py:931: ConvergenceWarning: Liblinear failed to converge, increase the number of iterations.\n",
      "  \"the number of iterations.\", ConvergenceWarning)\n"
     ]
    },
    {
     "name": "stdout",
     "output_type": "stream",
     "text": [
      "[CV]  C=2.25, fit_intercept=True, intercept_scaling=50, solver=liblinear, score=0.5632530120481928, total=   0.5s\n",
      "[CV] C=2.25, fit_intercept=True, intercept_scaling=50, solver=liblinear \n"
     ]
    },
    {
     "name": "stderr",
     "output_type": "stream",
     "text": [
      "/anaconda3/lib/python3.7/site-packages/sklearn/svm/base.py:931: ConvergenceWarning: Liblinear failed to converge, increase the number of iterations.\n",
      "  \"the number of iterations.\", ConvergenceWarning)\n",
      "/anaconda3/lib/python3.7/site-packages/sklearn/linear_model/sag.py:334: ConvergenceWarning: The max_iter was reached which means the coef_ did not converge\n",
      "  \"the coef_ did not converge\", ConvergenceWarning)\n"
     ]
    },
    {
     "name": "stdout",
     "output_type": "stream",
     "text": [
      "[CV]  C=2.25, fit_intercept=True, intercept_scaling=50, solver=liblinear, score=0.5653923541247485, total=   0.3s\n",
      "[CV] C=2.25, fit_intercept=True, intercept_scaling=50, solver=saga ...\n",
      "[CV]  C=2.25, fit_intercept=True, intercept_scaling=50, solver=saga, score=0.5180722891566265, total=   0.2s\n",
      "[CV] C=2.25, fit_intercept=True, intercept_scaling=50, solver=saga ...\n"
     ]
    },
    {
     "name": "stderr",
     "output_type": "stream",
     "text": [
      "/anaconda3/lib/python3.7/site-packages/sklearn/linear_model/sag.py:334: ConvergenceWarning: The max_iter was reached which means the coef_ did not converge\n",
      "  \"the coef_ did not converge\", ConvergenceWarning)\n",
      "/anaconda3/lib/python3.7/site-packages/sklearn/linear_model/sag.py:334: ConvergenceWarning: The max_iter was reached which means the coef_ did not converge\n",
      "  \"the coef_ did not converge\", ConvergenceWarning)\n"
     ]
    },
    {
     "name": "stdout",
     "output_type": "stream",
     "text": [
      "[CV]  C=2.25, fit_intercept=True, intercept_scaling=50, solver=saga, score=0.5200803212851406, total=   0.1s\n",
      "[CV] C=2.25, fit_intercept=True, intercept_scaling=50, solver=saga ...\n",
      "[CV]  C=2.25, fit_intercept=True, intercept_scaling=50, solver=saga, score=0.5020120724346077, total=   0.1s\n",
      "[CV] C=2.25, fit_intercept=True, intercept_scaling=100, solver=liblinear \n"
     ]
    },
    {
     "name": "stderr",
     "output_type": "stream",
     "text": [
      "/anaconda3/lib/python3.7/site-packages/sklearn/svm/base.py:931: ConvergenceWarning: Liblinear failed to converge, increase the number of iterations.\n",
      "  \"the number of iterations.\", ConvergenceWarning)\n"
     ]
    },
    {
     "name": "stdout",
     "output_type": "stream",
     "text": [
      "[CV]  C=2.25, fit_intercept=True, intercept_scaling=100, solver=liblinear, score=0.5963855421686747, total=   0.2s\n",
      "[CV] C=2.25, fit_intercept=True, intercept_scaling=100, solver=liblinear \n"
     ]
    },
    {
     "name": "stderr",
     "output_type": "stream",
     "text": [
      "/anaconda3/lib/python3.7/site-packages/sklearn/svm/base.py:931: ConvergenceWarning: Liblinear failed to converge, increase the number of iterations.\n",
      "  \"the number of iterations.\", ConvergenceWarning)\n"
     ]
    },
    {
     "name": "stdout",
     "output_type": "stream",
     "text": [
      "[CV]  C=2.25, fit_intercept=True, intercept_scaling=100, solver=liblinear, score=0.5652610441767069, total=   0.5s\n",
      "[CV] C=2.25, fit_intercept=True, intercept_scaling=100, solver=liblinear \n"
     ]
    },
    {
     "name": "stderr",
     "output_type": "stream",
     "text": [
      "/anaconda3/lib/python3.7/site-packages/sklearn/svm/base.py:931: ConvergenceWarning: Liblinear failed to converge, increase the number of iterations.\n",
      "  \"the number of iterations.\", ConvergenceWarning)\n",
      "/anaconda3/lib/python3.7/site-packages/sklearn/linear_model/sag.py:334: ConvergenceWarning: The max_iter was reached which means the coef_ did not converge\n",
      "  \"the coef_ did not converge\", ConvergenceWarning)\n"
     ]
    },
    {
     "name": "stdout",
     "output_type": "stream",
     "text": [
      "[CV]  C=2.25, fit_intercept=True, intercept_scaling=100, solver=liblinear, score=0.5774647887323944, total=   0.5s\n",
      "[CV] C=2.25, fit_intercept=True, intercept_scaling=100, solver=saga ..\n",
      "[CV]  C=2.25, fit_intercept=True, intercept_scaling=100, solver=saga, score=0.5180722891566265, total=   0.1s\n",
      "[CV] C=2.25, fit_intercept=True, intercept_scaling=100, solver=saga ..\n"
     ]
    },
    {
     "name": "stderr",
     "output_type": "stream",
     "text": [
      "/anaconda3/lib/python3.7/site-packages/sklearn/linear_model/sag.py:334: ConvergenceWarning: The max_iter was reached which means the coef_ did not converge\n",
      "  \"the coef_ did not converge\", ConvergenceWarning)\n",
      "/anaconda3/lib/python3.7/site-packages/sklearn/linear_model/sag.py:334: ConvergenceWarning: The max_iter was reached which means the coef_ did not converge\n",
      "  \"the coef_ did not converge\", ConvergenceWarning)\n"
     ]
    },
    {
     "name": "stdout",
     "output_type": "stream",
     "text": [
      "[CV]  C=2.25, fit_intercept=True, intercept_scaling=100, solver=saga, score=0.5180722891566265, total=   0.1s\n",
      "[CV] C=2.25, fit_intercept=True, intercept_scaling=100, solver=saga ..\n",
      "[CV]  C=2.25, fit_intercept=True, intercept_scaling=100, solver=saga, score=0.5020120724346077, total=   0.1s\n",
      "[CV] C=2.25, fit_intercept=False, intercept_scaling=1, solver=liblinear \n"
     ]
    },
    {
     "name": "stderr",
     "output_type": "stream",
     "text": [
      "/anaconda3/lib/python3.7/site-packages/sklearn/svm/base.py:931: ConvergenceWarning: Liblinear failed to converge, increase the number of iterations.\n",
      "  \"the number of iterations.\", ConvergenceWarning)\n"
     ]
    },
    {
     "name": "stdout",
     "output_type": "stream",
     "text": [
      "[CV]  C=2.25, fit_intercept=False, intercept_scaling=1, solver=liblinear, score=0.5823293172690763, total=   0.3s\n",
      "[CV] C=2.25, fit_intercept=False, intercept_scaling=1, solver=liblinear \n"
     ]
    },
    {
     "name": "stderr",
     "output_type": "stream",
     "text": [
      "/anaconda3/lib/python3.7/site-packages/sklearn/svm/base.py:931: ConvergenceWarning: Liblinear failed to converge, increase the number of iterations.\n",
      "  \"the number of iterations.\", ConvergenceWarning)\n"
     ]
    },
    {
     "name": "stdout",
     "output_type": "stream",
     "text": [
      "[CV]  C=2.25, fit_intercept=False, intercept_scaling=1, solver=liblinear, score=0.5662650602409639, total=   0.4s\n",
      "[CV] C=2.25, fit_intercept=False, intercept_scaling=1, solver=liblinear \n"
     ]
    },
    {
     "name": "stderr",
     "output_type": "stream",
     "text": [
      "/anaconda3/lib/python3.7/site-packages/sklearn/svm/base.py:931: ConvergenceWarning: Liblinear failed to converge, increase the number of iterations.\n",
      "  \"the number of iterations.\", ConvergenceWarning)\n",
      "/anaconda3/lib/python3.7/site-packages/sklearn/linear_model/sag.py:334: ConvergenceWarning: The max_iter was reached which means the coef_ did not converge\n",
      "  \"the coef_ did not converge\", ConvergenceWarning)\n"
     ]
    },
    {
     "name": "stdout",
     "output_type": "stream",
     "text": [
      "[CV]  C=2.25, fit_intercept=False, intercept_scaling=1, solver=liblinear, score=0.579476861167002, total=   0.5s\n",
      "[CV] C=2.25, fit_intercept=False, intercept_scaling=1, solver=saga ...\n",
      "[CV]  C=2.25, fit_intercept=False, intercept_scaling=1, solver=saga, score=0.5180722891566265, total=   0.1s\n",
      "[CV] C=2.25, fit_intercept=False, intercept_scaling=1, solver=saga ...\n"
     ]
    },
    {
     "name": "stderr",
     "output_type": "stream",
     "text": [
      "/anaconda3/lib/python3.7/site-packages/sklearn/linear_model/sag.py:334: ConvergenceWarning: The max_iter was reached which means the coef_ did not converge\n",
      "  \"the coef_ did not converge\", ConvergenceWarning)\n",
      "/anaconda3/lib/python3.7/site-packages/sklearn/linear_model/sag.py:334: ConvergenceWarning: The max_iter was reached which means the coef_ did not converge\n",
      "  \"the coef_ did not converge\", ConvergenceWarning)\n"
     ]
    },
    {
     "name": "stdout",
     "output_type": "stream",
     "text": [
      "[CV]  C=2.25, fit_intercept=False, intercept_scaling=1, solver=saga, score=0.5210843373493976, total=   0.1s\n",
      "[CV] C=2.25, fit_intercept=False, intercept_scaling=1, solver=saga ...\n",
      "[CV]  C=2.25, fit_intercept=False, intercept_scaling=1, solver=saga, score=0.5030181086519114, total=   0.1s\n",
      "[CV] C=2.25, fit_intercept=False, intercept_scaling=5, solver=liblinear \n"
     ]
    },
    {
     "name": "stderr",
     "output_type": "stream",
     "text": [
      "/anaconda3/lib/python3.7/site-packages/sklearn/svm/base.py:931: ConvergenceWarning: Liblinear failed to converge, increase the number of iterations.\n",
      "  \"the number of iterations.\", ConvergenceWarning)\n"
     ]
    },
    {
     "name": "stdout",
     "output_type": "stream",
     "text": [
      "[CV]  C=2.25, fit_intercept=False, intercept_scaling=5, solver=liblinear, score=0.5823293172690763, total=   0.4s\n",
      "[CV] C=2.25, fit_intercept=False, intercept_scaling=5, solver=liblinear \n"
     ]
    },
    {
     "name": "stderr",
     "output_type": "stream",
     "text": [
      "/anaconda3/lib/python3.7/site-packages/sklearn/svm/base.py:931: ConvergenceWarning: Liblinear failed to converge, increase the number of iterations.\n",
      "  \"the number of iterations.\", ConvergenceWarning)\n"
     ]
    },
    {
     "name": "stdout",
     "output_type": "stream",
     "text": [
      "[CV]  C=2.25, fit_intercept=False, intercept_scaling=5, solver=liblinear, score=0.5662650602409639, total=   0.5s\n",
      "[CV] C=2.25, fit_intercept=False, intercept_scaling=5, solver=liblinear \n"
     ]
    },
    {
     "name": "stderr",
     "output_type": "stream",
     "text": [
      "/anaconda3/lib/python3.7/site-packages/sklearn/svm/base.py:931: ConvergenceWarning: Liblinear failed to converge, increase the number of iterations.\n",
      "  \"the number of iterations.\", ConvergenceWarning)\n",
      "/anaconda3/lib/python3.7/site-packages/sklearn/linear_model/sag.py:334: ConvergenceWarning: The max_iter was reached which means the coef_ did not converge\n",
      "  \"the coef_ did not converge\", ConvergenceWarning)\n"
     ]
    },
    {
     "name": "stdout",
     "output_type": "stream",
     "text": [
      "[CV]  C=2.25, fit_intercept=False, intercept_scaling=5, solver=liblinear, score=0.579476861167002, total=   0.5s\n",
      "[CV] C=2.25, fit_intercept=False, intercept_scaling=5, solver=saga ...\n",
      "[CV]  C=2.25, fit_intercept=False, intercept_scaling=5, solver=saga, score=0.5190763052208835, total=   0.1s\n",
      "[CV] C=2.25, fit_intercept=False, intercept_scaling=5, solver=saga ...\n"
     ]
    },
    {
     "name": "stderr",
     "output_type": "stream",
     "text": [
      "/anaconda3/lib/python3.7/site-packages/sklearn/linear_model/sag.py:334: ConvergenceWarning: The max_iter was reached which means the coef_ did not converge\n",
      "  \"the coef_ did not converge\", ConvergenceWarning)\n",
      "/anaconda3/lib/python3.7/site-packages/sklearn/linear_model/sag.py:334: ConvergenceWarning: The max_iter was reached which means the coef_ did not converge\n",
      "  \"the coef_ did not converge\", ConvergenceWarning)\n"
     ]
    },
    {
     "name": "stdout",
     "output_type": "stream",
     "text": [
      "[CV]  C=2.25, fit_intercept=False, intercept_scaling=5, solver=saga, score=0.5210843373493976, total=   0.1s\n",
      "[CV] C=2.25, fit_intercept=False, intercept_scaling=5, solver=saga ...\n",
      "[CV]  C=2.25, fit_intercept=False, intercept_scaling=5, solver=saga, score=0.5020120724346077, total=   0.1s\n",
      "[CV] C=2.25, fit_intercept=False, intercept_scaling=10, solver=liblinear \n"
     ]
    },
    {
     "name": "stderr",
     "output_type": "stream",
     "text": [
      "/anaconda3/lib/python3.7/site-packages/sklearn/svm/base.py:931: ConvergenceWarning: Liblinear failed to converge, increase the number of iterations.\n",
      "  \"the number of iterations.\", ConvergenceWarning)\n"
     ]
    },
    {
     "name": "stdout",
     "output_type": "stream",
     "text": [
      "[CV]  C=2.25, fit_intercept=False, intercept_scaling=10, solver=liblinear, score=0.5823293172690763, total=   0.3s\n",
      "[CV] C=2.25, fit_intercept=False, intercept_scaling=10, solver=liblinear \n"
     ]
    },
    {
     "name": "stderr",
     "output_type": "stream",
     "text": [
      "/anaconda3/lib/python3.7/site-packages/sklearn/svm/base.py:931: ConvergenceWarning: Liblinear failed to converge, increase the number of iterations.\n",
      "  \"the number of iterations.\", ConvergenceWarning)\n"
     ]
    },
    {
     "name": "stdout",
     "output_type": "stream",
     "text": [
      "[CV]  C=2.25, fit_intercept=False, intercept_scaling=10, solver=liblinear, score=0.5662650602409639, total=   0.5s\n",
      "[CV] C=2.25, fit_intercept=False, intercept_scaling=10, solver=liblinear \n"
     ]
    },
    {
     "name": "stderr",
     "output_type": "stream",
     "text": [
      "/anaconda3/lib/python3.7/site-packages/sklearn/svm/base.py:931: ConvergenceWarning: Liblinear failed to converge, increase the number of iterations.\n",
      "  \"the number of iterations.\", ConvergenceWarning)\n",
      "/anaconda3/lib/python3.7/site-packages/sklearn/linear_model/sag.py:334: ConvergenceWarning: The max_iter was reached which means the coef_ did not converge\n",
      "  \"the coef_ did not converge\", ConvergenceWarning)\n"
     ]
    },
    {
     "name": "stdout",
     "output_type": "stream",
     "text": [
      "[CV]  C=2.25, fit_intercept=False, intercept_scaling=10, solver=liblinear, score=0.579476861167002, total=   0.5s\n",
      "[CV] C=2.25, fit_intercept=False, intercept_scaling=10, solver=saga ..\n",
      "[CV]  C=2.25, fit_intercept=False, intercept_scaling=10, solver=saga, score=0.5170682730923695, total=   0.1s\n",
      "[CV] C=2.25, fit_intercept=False, intercept_scaling=10, solver=saga ..\n"
     ]
    },
    {
     "name": "stderr",
     "output_type": "stream",
     "text": [
      "/anaconda3/lib/python3.7/site-packages/sklearn/linear_model/sag.py:334: ConvergenceWarning: The max_iter was reached which means the coef_ did not converge\n",
      "  \"the coef_ did not converge\", ConvergenceWarning)\n",
      "/anaconda3/lib/python3.7/site-packages/sklearn/linear_model/sag.py:334: ConvergenceWarning: The max_iter was reached which means the coef_ did not converge\n",
      "  \"the coef_ did not converge\", ConvergenceWarning)\n"
     ]
    },
    {
     "name": "stdout",
     "output_type": "stream",
     "text": [
      "[CV]  C=2.25, fit_intercept=False, intercept_scaling=10, solver=saga, score=0.5220883534136547, total=   0.1s\n",
      "[CV] C=2.25, fit_intercept=False, intercept_scaling=10, solver=saga ..\n",
      "[CV]  C=2.25, fit_intercept=False, intercept_scaling=10, solver=saga, score=0.5010060362173038, total=   0.2s\n",
      "[CV] C=2.25, fit_intercept=False, intercept_scaling=25, solver=liblinear \n"
     ]
    },
    {
     "name": "stderr",
     "output_type": "stream",
     "text": [
      "/anaconda3/lib/python3.7/site-packages/sklearn/svm/base.py:931: ConvergenceWarning: Liblinear failed to converge, increase the number of iterations.\n",
      "  \"the number of iterations.\", ConvergenceWarning)\n"
     ]
    },
    {
     "name": "stdout",
     "output_type": "stream",
     "text": [
      "[CV]  C=2.25, fit_intercept=False, intercept_scaling=25, solver=liblinear, score=0.5823293172690763, total=   0.3s\n",
      "[CV] C=2.25, fit_intercept=False, intercept_scaling=25, solver=liblinear \n"
     ]
    },
    {
     "name": "stderr",
     "output_type": "stream",
     "text": [
      "/anaconda3/lib/python3.7/site-packages/sklearn/svm/base.py:931: ConvergenceWarning: Liblinear failed to converge, increase the number of iterations.\n",
      "  \"the number of iterations.\", ConvergenceWarning)\n"
     ]
    },
    {
     "name": "stdout",
     "output_type": "stream",
     "text": [
      "[CV]  C=2.25, fit_intercept=False, intercept_scaling=25, solver=liblinear, score=0.5662650602409639, total=   0.4s\n",
      "[CV] C=2.25, fit_intercept=False, intercept_scaling=25, solver=liblinear \n"
     ]
    },
    {
     "name": "stderr",
     "output_type": "stream",
     "text": [
      "/anaconda3/lib/python3.7/site-packages/sklearn/svm/base.py:931: ConvergenceWarning: Liblinear failed to converge, increase the number of iterations.\n",
      "  \"the number of iterations.\", ConvergenceWarning)\n",
      "/anaconda3/lib/python3.7/site-packages/sklearn/linear_model/sag.py:334: ConvergenceWarning: The max_iter was reached which means the coef_ did not converge\n",
      "  \"the coef_ did not converge\", ConvergenceWarning)\n"
     ]
    },
    {
     "name": "stdout",
     "output_type": "stream",
     "text": [
      "[CV]  C=2.25, fit_intercept=False, intercept_scaling=25, solver=liblinear, score=0.579476861167002, total=   0.5s\n",
      "[CV] C=2.25, fit_intercept=False, intercept_scaling=25, solver=saga ..\n",
      "[CV]  C=2.25, fit_intercept=False, intercept_scaling=25, solver=saga, score=0.5180722891566265, total=   0.1s\n",
      "[CV] C=2.25, fit_intercept=False, intercept_scaling=25, solver=saga ..\n"
     ]
    },
    {
     "name": "stderr",
     "output_type": "stream",
     "text": [
      "/anaconda3/lib/python3.7/site-packages/sklearn/linear_model/sag.py:334: ConvergenceWarning: The max_iter was reached which means the coef_ did not converge\n",
      "  \"the coef_ did not converge\", ConvergenceWarning)\n",
      "/anaconda3/lib/python3.7/site-packages/sklearn/linear_model/sag.py:334: ConvergenceWarning: The max_iter was reached which means the coef_ did not converge\n",
      "  \"the coef_ did not converge\", ConvergenceWarning)\n"
     ]
    },
    {
     "name": "stdout",
     "output_type": "stream",
     "text": [
      "[CV]  C=2.25, fit_intercept=False, intercept_scaling=25, solver=saga, score=0.5200803212851406, total=   0.1s\n",
      "[CV] C=2.25, fit_intercept=False, intercept_scaling=25, solver=saga ..\n",
      "[CV]  C=2.25, fit_intercept=False, intercept_scaling=25, solver=saga, score=0.5020120724346077, total=   0.1s\n",
      "[CV] C=2.25, fit_intercept=False, intercept_scaling=50, solver=liblinear \n"
     ]
    },
    {
     "name": "stderr",
     "output_type": "stream",
     "text": [
      "/anaconda3/lib/python3.7/site-packages/sklearn/svm/base.py:931: ConvergenceWarning: Liblinear failed to converge, increase the number of iterations.\n",
      "  \"the number of iterations.\", ConvergenceWarning)\n"
     ]
    },
    {
     "name": "stdout",
     "output_type": "stream",
     "text": [
      "[CV]  C=2.25, fit_intercept=False, intercept_scaling=50, solver=liblinear, score=0.5823293172690763, total=   0.3s\n",
      "[CV] C=2.25, fit_intercept=False, intercept_scaling=50, solver=liblinear \n"
     ]
    },
    {
     "name": "stderr",
     "output_type": "stream",
     "text": [
      "/anaconda3/lib/python3.7/site-packages/sklearn/svm/base.py:931: ConvergenceWarning: Liblinear failed to converge, increase the number of iterations.\n",
      "  \"the number of iterations.\", ConvergenceWarning)\n"
     ]
    },
    {
     "name": "stdout",
     "output_type": "stream",
     "text": [
      "[CV]  C=2.25, fit_intercept=False, intercept_scaling=50, solver=liblinear, score=0.5662650602409639, total=   0.5s\n",
      "[CV] C=2.25, fit_intercept=False, intercept_scaling=50, solver=liblinear \n"
     ]
    },
    {
     "name": "stderr",
     "output_type": "stream",
     "text": [
      "/anaconda3/lib/python3.7/site-packages/sklearn/svm/base.py:931: ConvergenceWarning: Liblinear failed to converge, increase the number of iterations.\n",
      "  \"the number of iterations.\", ConvergenceWarning)\n",
      "/anaconda3/lib/python3.7/site-packages/sklearn/linear_model/sag.py:334: ConvergenceWarning: The max_iter was reached which means the coef_ did not converge\n",
      "  \"the coef_ did not converge\", ConvergenceWarning)\n"
     ]
    },
    {
     "name": "stdout",
     "output_type": "stream",
     "text": [
      "[CV]  C=2.25, fit_intercept=False, intercept_scaling=50, solver=liblinear, score=0.579476861167002, total=   0.5s\n",
      "[CV] C=2.25, fit_intercept=False, intercept_scaling=50, solver=saga ..\n",
      "[CV]  C=2.25, fit_intercept=False, intercept_scaling=50, solver=saga, score=0.5180722891566265, total=   0.1s\n",
      "[CV] C=2.25, fit_intercept=False, intercept_scaling=50, solver=saga ..\n"
     ]
    },
    {
     "name": "stderr",
     "output_type": "stream",
     "text": [
      "/anaconda3/lib/python3.7/site-packages/sklearn/linear_model/sag.py:334: ConvergenceWarning: The max_iter was reached which means the coef_ did not converge\n",
      "  \"the coef_ did not converge\", ConvergenceWarning)\n",
      "/anaconda3/lib/python3.7/site-packages/sklearn/linear_model/sag.py:334: ConvergenceWarning: The max_iter was reached which means the coef_ did not converge\n",
      "  \"the coef_ did not converge\", ConvergenceWarning)\n"
     ]
    },
    {
     "name": "stdout",
     "output_type": "stream",
     "text": [
      "[CV]  C=2.25, fit_intercept=False, intercept_scaling=50, solver=saga, score=0.5210843373493976, total=   0.1s\n",
      "[CV] C=2.25, fit_intercept=False, intercept_scaling=50, solver=saga ..\n",
      "[CV]  C=2.25, fit_intercept=False, intercept_scaling=50, solver=saga, score=0.5010060362173038, total=   0.1s\n",
      "[CV] C=2.25, fit_intercept=False, intercept_scaling=100, solver=liblinear \n"
     ]
    },
    {
     "name": "stderr",
     "output_type": "stream",
     "text": [
      "/anaconda3/lib/python3.7/site-packages/sklearn/svm/base.py:931: ConvergenceWarning: Liblinear failed to converge, increase the number of iterations.\n",
      "  \"the number of iterations.\", ConvergenceWarning)\n"
     ]
    },
    {
     "name": "stdout",
     "output_type": "stream",
     "text": [
      "[CV]  C=2.25, fit_intercept=False, intercept_scaling=100, solver=liblinear, score=0.5823293172690763, total=   0.3s\n",
      "[CV] C=2.25, fit_intercept=False, intercept_scaling=100, solver=liblinear \n"
     ]
    },
    {
     "name": "stderr",
     "output_type": "stream",
     "text": [
      "/anaconda3/lib/python3.7/site-packages/sklearn/svm/base.py:931: ConvergenceWarning: Liblinear failed to converge, increase the number of iterations.\n",
      "  \"the number of iterations.\", ConvergenceWarning)\n"
     ]
    },
    {
     "name": "stdout",
     "output_type": "stream",
     "text": [
      "[CV]  C=2.25, fit_intercept=False, intercept_scaling=100, solver=liblinear, score=0.5662650602409639, total=   0.4s\n",
      "[CV] C=2.25, fit_intercept=False, intercept_scaling=100, solver=liblinear \n"
     ]
    },
    {
     "name": "stderr",
     "output_type": "stream",
     "text": [
      "/anaconda3/lib/python3.7/site-packages/sklearn/svm/base.py:931: ConvergenceWarning: Liblinear failed to converge, increase the number of iterations.\n",
      "  \"the number of iterations.\", ConvergenceWarning)\n",
      "/anaconda3/lib/python3.7/site-packages/sklearn/linear_model/sag.py:334: ConvergenceWarning: The max_iter was reached which means the coef_ did not converge\n",
      "  \"the coef_ did not converge\", ConvergenceWarning)\n"
     ]
    },
    {
     "name": "stdout",
     "output_type": "stream",
     "text": [
      "[CV]  C=2.25, fit_intercept=False, intercept_scaling=100, solver=liblinear, score=0.579476861167002, total=   0.5s\n",
      "[CV] C=2.25, fit_intercept=False, intercept_scaling=100, solver=saga .\n",
      "[CV]  C=2.25, fit_intercept=False, intercept_scaling=100, solver=saga, score=0.5180722891566265, total=   0.1s\n",
      "[CV] C=2.25, fit_intercept=False, intercept_scaling=100, solver=saga .\n"
     ]
    },
    {
     "name": "stderr",
     "output_type": "stream",
     "text": [
      "/anaconda3/lib/python3.7/site-packages/sklearn/linear_model/sag.py:334: ConvergenceWarning: The max_iter was reached which means the coef_ did not converge\n",
      "  \"the coef_ did not converge\", ConvergenceWarning)\n",
      "/anaconda3/lib/python3.7/site-packages/sklearn/linear_model/sag.py:334: ConvergenceWarning: The max_iter was reached which means the coef_ did not converge\n",
      "  \"the coef_ did not converge\", ConvergenceWarning)\n"
     ]
    },
    {
     "name": "stdout",
     "output_type": "stream",
     "text": [
      "[CV]  C=2.25, fit_intercept=False, intercept_scaling=100, solver=saga, score=0.5180722891566265, total=   0.1s\n",
      "[CV] C=2.25, fit_intercept=False, intercept_scaling=100, solver=saga .\n",
      "[CV]  C=2.25, fit_intercept=False, intercept_scaling=100, solver=saga, score=0.5010060362173038, total=   0.1s\n",
      "[CV] C=5.0625, fit_intercept=True, intercept_scaling=1, solver=liblinear \n"
     ]
    },
    {
     "name": "stderr",
     "output_type": "stream",
     "text": [
      "/anaconda3/lib/python3.7/site-packages/sklearn/svm/base.py:931: ConvergenceWarning: Liblinear failed to converge, increase the number of iterations.\n",
      "  \"the number of iterations.\", ConvergenceWarning)\n"
     ]
    },
    {
     "name": "stdout",
     "output_type": "stream",
     "text": [
      "[CV]  C=5.0625, fit_intercept=True, intercept_scaling=1, solver=liblinear, score=0.5843373493975904, total=   0.2s\n",
      "[CV] C=5.0625, fit_intercept=True, intercept_scaling=1, solver=liblinear \n"
     ]
    },
    {
     "name": "stderr",
     "output_type": "stream",
     "text": [
      "/anaconda3/lib/python3.7/site-packages/sklearn/svm/base.py:931: ConvergenceWarning: Liblinear failed to converge, increase the number of iterations.\n",
      "  \"the number of iterations.\", ConvergenceWarning)\n"
     ]
    },
    {
     "name": "stdout",
     "output_type": "stream",
     "text": [
      "[CV]  C=5.0625, fit_intercept=True, intercept_scaling=1, solver=liblinear, score=0.5662650602409639, total=   0.4s\n",
      "[CV] C=5.0625, fit_intercept=True, intercept_scaling=1, solver=liblinear \n"
     ]
    },
    {
     "name": "stderr",
     "output_type": "stream",
     "text": [
      "/anaconda3/lib/python3.7/site-packages/sklearn/svm/base.py:931: ConvergenceWarning: Liblinear failed to converge, increase the number of iterations.\n",
      "  \"the number of iterations.\", ConvergenceWarning)\n",
      "/anaconda3/lib/python3.7/site-packages/sklearn/linear_model/sag.py:334: ConvergenceWarning: The max_iter was reached which means the coef_ did not converge\n",
      "  \"the coef_ did not converge\", ConvergenceWarning)\n"
     ]
    },
    {
     "name": "stdout",
     "output_type": "stream",
     "text": [
      "[CV]  C=5.0625, fit_intercept=True, intercept_scaling=1, solver=liblinear, score=0.5804828973843058, total=   0.5s\n",
      "[CV] C=5.0625, fit_intercept=True, intercept_scaling=1, solver=saga ..\n",
      "[CV]  C=5.0625, fit_intercept=True, intercept_scaling=1, solver=saga, score=0.5180722891566265, total=   0.1s\n",
      "[CV] C=5.0625, fit_intercept=True, intercept_scaling=1, solver=saga ..\n"
     ]
    },
    {
     "name": "stderr",
     "output_type": "stream",
     "text": [
      "/anaconda3/lib/python3.7/site-packages/sklearn/linear_model/sag.py:334: ConvergenceWarning: The max_iter was reached which means the coef_ did not converge\n",
      "  \"the coef_ did not converge\", ConvergenceWarning)\n",
      "/anaconda3/lib/python3.7/site-packages/sklearn/linear_model/sag.py:334: ConvergenceWarning: The max_iter was reached which means the coef_ did not converge\n",
      "  \"the coef_ did not converge\", ConvergenceWarning)\n"
     ]
    },
    {
     "name": "stdout",
     "output_type": "stream",
     "text": [
      "[CV]  C=5.0625, fit_intercept=True, intercept_scaling=1, solver=saga, score=0.5190763052208835, total=   0.1s\n",
      "[CV] C=5.0625, fit_intercept=True, intercept_scaling=1, solver=saga ..\n",
      "[CV]  C=5.0625, fit_intercept=True, intercept_scaling=1, solver=saga, score=0.5010060362173038, total=   0.1s\n",
      "[CV] C=5.0625, fit_intercept=True, intercept_scaling=5, solver=liblinear \n"
     ]
    },
    {
     "name": "stderr",
     "output_type": "stream",
     "text": [
      "/anaconda3/lib/python3.7/site-packages/sklearn/svm/base.py:931: ConvergenceWarning: Liblinear failed to converge, increase the number of iterations.\n",
      "  \"the number of iterations.\", ConvergenceWarning)\n"
     ]
    },
    {
     "name": "stdout",
     "output_type": "stream",
     "text": [
      "[CV]  C=5.0625, fit_intercept=True, intercept_scaling=5, solver=liblinear, score=0.5833333333333334, total=   0.2s\n",
      "[CV] C=5.0625, fit_intercept=True, intercept_scaling=5, solver=liblinear \n"
     ]
    },
    {
     "name": "stderr",
     "output_type": "stream",
     "text": [
      "/anaconda3/lib/python3.7/site-packages/sklearn/svm/base.py:931: ConvergenceWarning: Liblinear failed to converge, increase the number of iterations.\n",
      "  \"the number of iterations.\", ConvergenceWarning)\n"
     ]
    },
    {
     "name": "stdout",
     "output_type": "stream",
     "text": [
      "[CV]  C=5.0625, fit_intercept=True, intercept_scaling=5, solver=liblinear, score=0.5692771084337349, total=   0.4s\n",
      "[CV] C=5.0625, fit_intercept=True, intercept_scaling=5, solver=liblinear \n"
     ]
    },
    {
     "name": "stderr",
     "output_type": "stream",
     "text": [
      "/anaconda3/lib/python3.7/site-packages/sklearn/svm/base.py:931: ConvergenceWarning: Liblinear failed to converge, increase the number of iterations.\n",
      "  \"the number of iterations.\", ConvergenceWarning)\n",
      "/anaconda3/lib/python3.7/site-packages/sklearn/linear_model/sag.py:334: ConvergenceWarning: The max_iter was reached which means the coef_ did not converge\n",
      "  \"the coef_ did not converge\", ConvergenceWarning)\n"
     ]
    },
    {
     "name": "stdout",
     "output_type": "stream",
     "text": [
      "[CV]  C=5.0625, fit_intercept=True, intercept_scaling=5, solver=liblinear, score=0.5533199195171026, total=   0.4s\n",
      "[CV] C=5.0625, fit_intercept=True, intercept_scaling=5, solver=saga ..\n",
      "[CV]  C=5.0625, fit_intercept=True, intercept_scaling=5, solver=saga, score=0.5160642570281124, total=   0.1s\n",
      "[CV] C=5.0625, fit_intercept=True, intercept_scaling=5, solver=saga ..\n"
     ]
    },
    {
     "name": "stderr",
     "output_type": "stream",
     "text": [
      "/anaconda3/lib/python3.7/site-packages/sklearn/linear_model/sag.py:334: ConvergenceWarning: The max_iter was reached which means the coef_ did not converge\n",
      "  \"the coef_ did not converge\", ConvergenceWarning)\n",
      "/anaconda3/lib/python3.7/site-packages/sklearn/linear_model/sag.py:334: ConvergenceWarning: The max_iter was reached which means the coef_ did not converge\n",
      "  \"the coef_ did not converge\", ConvergenceWarning)\n"
     ]
    },
    {
     "name": "stdout",
     "output_type": "stream",
     "text": [
      "[CV]  C=5.0625, fit_intercept=True, intercept_scaling=5, solver=saga, score=0.5200803212851406, total=   0.1s\n",
      "[CV] C=5.0625, fit_intercept=True, intercept_scaling=5, solver=saga ..\n",
      "[CV]  C=5.0625, fit_intercept=True, intercept_scaling=5, solver=saga, score=0.5010060362173038, total=   0.1s\n",
      "[CV] C=5.0625, fit_intercept=True, intercept_scaling=10, solver=liblinear \n"
     ]
    },
    {
     "name": "stderr",
     "output_type": "stream",
     "text": [
      "/anaconda3/lib/python3.7/site-packages/sklearn/svm/base.py:931: ConvergenceWarning: Liblinear failed to converge, increase the number of iterations.\n",
      "  \"the number of iterations.\", ConvergenceWarning)\n"
     ]
    },
    {
     "name": "stdout",
     "output_type": "stream",
     "text": [
      "[CV]  C=5.0625, fit_intercept=True, intercept_scaling=10, solver=liblinear, score=0.5843373493975904, total=   0.2s\n",
      "[CV] C=5.0625, fit_intercept=True, intercept_scaling=10, solver=liblinear \n"
     ]
    },
    {
     "name": "stderr",
     "output_type": "stream",
     "text": [
      "/anaconda3/lib/python3.7/site-packages/sklearn/svm/base.py:931: ConvergenceWarning: Liblinear failed to converge, increase the number of iterations.\n",
      "  \"the number of iterations.\", ConvergenceWarning)\n"
     ]
    },
    {
     "name": "stdout",
     "output_type": "stream",
     "text": [
      "[CV]  C=5.0625, fit_intercept=True, intercept_scaling=10, solver=liblinear, score=0.5692771084337349, total=   0.4s\n",
      "[CV] C=5.0625, fit_intercept=True, intercept_scaling=10, solver=liblinear \n"
     ]
    },
    {
     "name": "stderr",
     "output_type": "stream",
     "text": [
      "/anaconda3/lib/python3.7/site-packages/sklearn/svm/base.py:931: ConvergenceWarning: Liblinear failed to converge, increase the number of iterations.\n",
      "  \"the number of iterations.\", ConvergenceWarning)\n",
      "/anaconda3/lib/python3.7/site-packages/sklearn/linear_model/sag.py:334: ConvergenceWarning: The max_iter was reached which means the coef_ did not converge\n",
      "  \"the coef_ did not converge\", ConvergenceWarning)\n"
     ]
    },
    {
     "name": "stdout",
     "output_type": "stream",
     "text": [
      "[CV]  C=5.0625, fit_intercept=True, intercept_scaling=10, solver=liblinear, score=0.5744466800804829, total=   0.6s\n",
      "[CV] C=5.0625, fit_intercept=True, intercept_scaling=10, solver=saga .\n",
      "[CV]  C=5.0625, fit_intercept=True, intercept_scaling=10, solver=saga, score=0.5180722891566265, total=   0.1s\n",
      "[CV] C=5.0625, fit_intercept=True, intercept_scaling=10, solver=saga .\n"
     ]
    },
    {
     "name": "stderr",
     "output_type": "stream",
     "text": [
      "/anaconda3/lib/python3.7/site-packages/sklearn/linear_model/sag.py:334: ConvergenceWarning: The max_iter was reached which means the coef_ did not converge\n",
      "  \"the coef_ did not converge\", ConvergenceWarning)\n",
      "/anaconda3/lib/python3.7/site-packages/sklearn/linear_model/sag.py:334: ConvergenceWarning: The max_iter was reached which means the coef_ did not converge\n",
      "  \"the coef_ did not converge\", ConvergenceWarning)\n"
     ]
    },
    {
     "name": "stdout",
     "output_type": "stream",
     "text": [
      "[CV]  C=5.0625, fit_intercept=True, intercept_scaling=10, solver=saga, score=0.5210843373493976, total=   0.1s\n",
      "[CV] C=5.0625, fit_intercept=True, intercept_scaling=10, solver=saga .\n",
      "[CV]  C=5.0625, fit_intercept=True, intercept_scaling=10, solver=saga, score=0.5020120724346077, total=   0.1s\n",
      "[CV] C=5.0625, fit_intercept=True, intercept_scaling=25, solver=liblinear \n",
      "[CV]  C=5.0625, fit_intercept=True, intercept_scaling=25, solver=liblinear, score=0.6024096385542169, total=   0.4s\n",
      "[CV] C=5.0625, fit_intercept=True, intercept_scaling=25, solver=liblinear \n"
     ]
    },
    {
     "name": "stderr",
     "output_type": "stream",
     "text": [
      "/anaconda3/lib/python3.7/site-packages/sklearn/svm/base.py:931: ConvergenceWarning: Liblinear failed to converge, increase the number of iterations.\n",
      "  \"the number of iterations.\", ConvergenceWarning)\n"
     ]
    },
    {
     "name": "stdout",
     "output_type": "stream",
     "text": [
      "[CV]  C=5.0625, fit_intercept=True, intercept_scaling=25, solver=liblinear, score=0.5662650602409639, total=   0.3s\n",
      "[CV] C=5.0625, fit_intercept=True, intercept_scaling=25, solver=liblinear \n"
     ]
    },
    {
     "name": "stderr",
     "output_type": "stream",
     "text": [
      "/anaconda3/lib/python3.7/site-packages/sklearn/svm/base.py:931: ConvergenceWarning: Liblinear failed to converge, increase the number of iterations.\n",
      "  \"the number of iterations.\", ConvergenceWarning)\n",
      "/anaconda3/lib/python3.7/site-packages/sklearn/linear_model/sag.py:334: ConvergenceWarning: The max_iter was reached which means the coef_ did not converge\n",
      "  \"the coef_ did not converge\", ConvergenceWarning)\n"
     ]
    },
    {
     "name": "stdout",
     "output_type": "stream",
     "text": [
      "[CV]  C=5.0625, fit_intercept=True, intercept_scaling=25, solver=liblinear, score=0.5674044265593562, total=   0.4s\n",
      "[CV] C=5.0625, fit_intercept=True, intercept_scaling=25, solver=saga .\n",
      "[CV]  C=5.0625, fit_intercept=True, intercept_scaling=25, solver=saga, score=0.5190763052208835, total=   0.1s\n",
      "[CV] C=5.0625, fit_intercept=True, intercept_scaling=25, solver=saga .\n"
     ]
    },
    {
     "name": "stderr",
     "output_type": "stream",
     "text": [
      "/anaconda3/lib/python3.7/site-packages/sklearn/linear_model/sag.py:334: ConvergenceWarning: The max_iter was reached which means the coef_ did not converge\n",
      "  \"the coef_ did not converge\", ConvergenceWarning)\n",
      "/anaconda3/lib/python3.7/site-packages/sklearn/linear_model/sag.py:334: ConvergenceWarning: The max_iter was reached which means the coef_ did not converge\n",
      "  \"the coef_ did not converge\", ConvergenceWarning)\n"
     ]
    },
    {
     "name": "stdout",
     "output_type": "stream",
     "text": [
      "[CV]  C=5.0625, fit_intercept=True, intercept_scaling=25, solver=saga, score=0.5200803212851406, total=   0.1s\n",
      "[CV] C=5.0625, fit_intercept=True, intercept_scaling=25, solver=saga .\n",
      "[CV]  C=5.0625, fit_intercept=True, intercept_scaling=25, solver=saga, score=0.5020120724346077, total=   0.1s\n",
      "[CV] C=5.0625, fit_intercept=True, intercept_scaling=50, solver=liblinear \n"
     ]
    },
    {
     "name": "stderr",
     "output_type": "stream",
     "text": [
      "/anaconda3/lib/python3.7/site-packages/sklearn/svm/base.py:931: ConvergenceWarning: Liblinear failed to converge, increase the number of iterations.\n",
      "  \"the number of iterations.\", ConvergenceWarning)\n"
     ]
    },
    {
     "name": "stdout",
     "output_type": "stream",
     "text": [
      "[CV]  C=5.0625, fit_intercept=True, intercept_scaling=50, solver=liblinear, score=0.5903614457831325, total=   0.2s\n",
      "[CV] C=5.0625, fit_intercept=True, intercept_scaling=50, solver=liblinear \n"
     ]
    },
    {
     "name": "stderr",
     "output_type": "stream",
     "text": [
      "/anaconda3/lib/python3.7/site-packages/sklearn/svm/base.py:931: ConvergenceWarning: Liblinear failed to converge, increase the number of iterations.\n",
      "  \"the number of iterations.\", ConvergenceWarning)\n"
     ]
    },
    {
     "name": "stdout",
     "output_type": "stream",
     "text": [
      "[CV]  C=5.0625, fit_intercept=True, intercept_scaling=50, solver=liblinear, score=0.5612449799196787, total=   0.4s\n",
      "[CV] C=5.0625, fit_intercept=True, intercept_scaling=50, solver=liblinear \n"
     ]
    },
    {
     "name": "stderr",
     "output_type": "stream",
     "text": [
      "/anaconda3/lib/python3.7/site-packages/sklearn/svm/base.py:931: ConvergenceWarning: Liblinear failed to converge, increase the number of iterations.\n",
      "  \"the number of iterations.\", ConvergenceWarning)\n",
      "/anaconda3/lib/python3.7/site-packages/sklearn/linear_model/sag.py:334: ConvergenceWarning: The max_iter was reached which means the coef_ did not converge\n",
      "  \"the coef_ did not converge\", ConvergenceWarning)\n"
     ]
    },
    {
     "name": "stdout",
     "output_type": "stream",
     "text": [
      "[CV]  C=5.0625, fit_intercept=True, intercept_scaling=50, solver=liblinear, score=0.5724346076458753, total=   0.4s\n",
      "[CV] C=5.0625, fit_intercept=True, intercept_scaling=50, solver=saga .\n",
      "[CV]  C=5.0625, fit_intercept=True, intercept_scaling=50, solver=saga, score=0.5170682730923695, total=   0.1s\n",
      "[CV] C=5.0625, fit_intercept=True, intercept_scaling=50, solver=saga .\n"
     ]
    },
    {
     "name": "stderr",
     "output_type": "stream",
     "text": [
      "/anaconda3/lib/python3.7/site-packages/sklearn/linear_model/sag.py:334: ConvergenceWarning: The max_iter was reached which means the coef_ did not converge\n",
      "  \"the coef_ did not converge\", ConvergenceWarning)\n",
      "/anaconda3/lib/python3.7/site-packages/sklearn/linear_model/sag.py:334: ConvergenceWarning: The max_iter was reached which means the coef_ did not converge\n",
      "  \"the coef_ did not converge\", ConvergenceWarning)\n"
     ]
    },
    {
     "name": "stdout",
     "output_type": "stream",
     "text": [
      "[CV]  C=5.0625, fit_intercept=True, intercept_scaling=50, solver=saga, score=0.5190763052208835, total=   0.1s\n",
      "[CV] C=5.0625, fit_intercept=True, intercept_scaling=50, solver=saga .\n",
      "[CV]  C=5.0625, fit_intercept=True, intercept_scaling=50, solver=saga, score=0.5020120724346077, total=   0.1s\n",
      "[CV] C=5.0625, fit_intercept=True, intercept_scaling=100, solver=liblinear \n",
      "[CV]  C=5.0625, fit_intercept=True, intercept_scaling=100, solver=liblinear, score=0.6004016064257028, total=   0.4s\n",
      "[CV] C=5.0625, fit_intercept=True, intercept_scaling=100, solver=liblinear \n"
     ]
    },
    {
     "name": "stderr",
     "output_type": "stream",
     "text": [
      "/anaconda3/lib/python3.7/site-packages/sklearn/svm/base.py:931: ConvergenceWarning: Liblinear failed to converge, increase the number of iterations.\n",
      "  \"the number of iterations.\", ConvergenceWarning)\n"
     ]
    },
    {
     "name": "stdout",
     "output_type": "stream",
     "text": [
      "[CV]  C=5.0625, fit_intercept=True, intercept_scaling=100, solver=liblinear, score=0.5592369477911646, total=   0.4s\n",
      "[CV] C=5.0625, fit_intercept=True, intercept_scaling=100, solver=liblinear \n"
     ]
    },
    {
     "name": "stderr",
     "output_type": "stream",
     "text": [
      "/anaconda3/lib/python3.7/site-packages/sklearn/svm/base.py:931: ConvergenceWarning: Liblinear failed to converge, increase the number of iterations.\n",
      "  \"the number of iterations.\", ConvergenceWarning)\n",
      "/anaconda3/lib/python3.7/site-packages/sklearn/linear_model/sag.py:334: ConvergenceWarning: The max_iter was reached which means the coef_ did not converge\n",
      "  \"the coef_ did not converge\", ConvergenceWarning)\n"
     ]
    },
    {
     "name": "stdout",
     "output_type": "stream",
     "text": [
      "[CV]  C=5.0625, fit_intercept=True, intercept_scaling=100, solver=liblinear, score=0.5674044265593562, total=   0.4s\n",
      "[CV] C=5.0625, fit_intercept=True, intercept_scaling=100, solver=saga \n",
      "[CV]  C=5.0625, fit_intercept=True, intercept_scaling=100, solver=saga, score=0.5180722891566265, total=   0.1s\n",
      "[CV] C=5.0625, fit_intercept=True, intercept_scaling=100, solver=saga \n"
     ]
    },
    {
     "name": "stderr",
     "output_type": "stream",
     "text": [
      "/anaconda3/lib/python3.7/site-packages/sklearn/linear_model/sag.py:334: ConvergenceWarning: The max_iter was reached which means the coef_ did not converge\n",
      "  \"the coef_ did not converge\", ConvergenceWarning)\n",
      "/anaconda3/lib/python3.7/site-packages/sklearn/linear_model/sag.py:334: ConvergenceWarning: The max_iter was reached which means the coef_ did not converge\n",
      "  \"the coef_ did not converge\", ConvergenceWarning)\n"
     ]
    },
    {
     "name": "stdout",
     "output_type": "stream",
     "text": [
      "[CV]  C=5.0625, fit_intercept=True, intercept_scaling=100, solver=saga, score=0.5220883534136547, total=   0.1s\n",
      "[CV] C=5.0625, fit_intercept=True, intercept_scaling=100, solver=saga \n",
      "[CV]  C=5.0625, fit_intercept=True, intercept_scaling=100, solver=saga, score=0.5030181086519114, total=   0.1s\n",
      "[CV] C=5.0625, fit_intercept=False, intercept_scaling=1, solver=liblinear \n"
     ]
    },
    {
     "name": "stderr",
     "output_type": "stream",
     "text": [
      "/anaconda3/lib/python3.7/site-packages/sklearn/svm/base.py:931: ConvergenceWarning: Liblinear failed to converge, increase the number of iterations.\n",
      "  \"the number of iterations.\", ConvergenceWarning)\n"
     ]
    },
    {
     "name": "stdout",
     "output_type": "stream",
     "text": [
      "[CV]  C=5.0625, fit_intercept=False, intercept_scaling=1, solver=liblinear, score=0.5843373493975904, total=   0.2s\n",
      "[CV] C=5.0625, fit_intercept=False, intercept_scaling=1, solver=liblinear \n"
     ]
    },
    {
     "name": "stderr",
     "output_type": "stream",
     "text": [
      "/anaconda3/lib/python3.7/site-packages/sklearn/svm/base.py:931: ConvergenceWarning: Liblinear failed to converge, increase the number of iterations.\n",
      "  \"the number of iterations.\", ConvergenceWarning)\n"
     ]
    },
    {
     "name": "stdout",
     "output_type": "stream",
     "text": [
      "[CV]  C=5.0625, fit_intercept=False, intercept_scaling=1, solver=liblinear, score=0.5622489959839357, total=   0.3s\n",
      "[CV] C=5.0625, fit_intercept=False, intercept_scaling=1, solver=liblinear \n"
     ]
    },
    {
     "name": "stderr",
     "output_type": "stream",
     "text": [
      "/anaconda3/lib/python3.7/site-packages/sklearn/svm/base.py:931: ConvergenceWarning: Liblinear failed to converge, increase the number of iterations.\n",
      "  \"the number of iterations.\", ConvergenceWarning)\n",
      "/anaconda3/lib/python3.7/site-packages/sklearn/linear_model/sag.py:334: ConvergenceWarning: The max_iter was reached which means the coef_ did not converge\n",
      "  \"the coef_ did not converge\", ConvergenceWarning)\n"
     ]
    },
    {
     "name": "stdout",
     "output_type": "stream",
     "text": [
      "[CV]  C=5.0625, fit_intercept=False, intercept_scaling=1, solver=liblinear, score=0.5734406438631791, total=   0.5s\n",
      "[CV] C=5.0625, fit_intercept=False, intercept_scaling=1, solver=saga .\n",
      "[CV]  C=5.0625, fit_intercept=False, intercept_scaling=1, solver=saga, score=0.5180722891566265, total=   0.1s\n",
      "[CV] C=5.0625, fit_intercept=False, intercept_scaling=1, solver=saga .\n"
     ]
    },
    {
     "name": "stderr",
     "output_type": "stream",
     "text": [
      "/anaconda3/lib/python3.7/site-packages/sklearn/linear_model/sag.py:334: ConvergenceWarning: The max_iter was reached which means the coef_ did not converge\n",
      "  \"the coef_ did not converge\", ConvergenceWarning)\n",
      "/anaconda3/lib/python3.7/site-packages/sklearn/linear_model/sag.py:334: ConvergenceWarning: The max_iter was reached which means the coef_ did not converge\n",
      "  \"the coef_ did not converge\", ConvergenceWarning)\n"
     ]
    },
    {
     "name": "stdout",
     "output_type": "stream",
     "text": [
      "[CV]  C=5.0625, fit_intercept=False, intercept_scaling=1, solver=saga, score=0.5180722891566265, total=   0.1s\n",
      "[CV] C=5.0625, fit_intercept=False, intercept_scaling=1, solver=saga .\n",
      "[CV]  C=5.0625, fit_intercept=False, intercept_scaling=1, solver=saga, score=0.5010060362173038, total=   0.1s\n",
      "[CV] C=5.0625, fit_intercept=False, intercept_scaling=5, solver=liblinear \n"
     ]
    },
    {
     "name": "stderr",
     "output_type": "stream",
     "text": [
      "/anaconda3/lib/python3.7/site-packages/sklearn/svm/base.py:931: ConvergenceWarning: Liblinear failed to converge, increase the number of iterations.\n",
      "  \"the number of iterations.\", ConvergenceWarning)\n"
     ]
    },
    {
     "name": "stdout",
     "output_type": "stream",
     "text": [
      "[CV]  C=5.0625, fit_intercept=False, intercept_scaling=5, solver=liblinear, score=0.5843373493975904, total=   0.3s\n",
      "[CV] C=5.0625, fit_intercept=False, intercept_scaling=5, solver=liblinear \n"
     ]
    },
    {
     "name": "stderr",
     "output_type": "stream",
     "text": [
      "/anaconda3/lib/python3.7/site-packages/sklearn/svm/base.py:931: ConvergenceWarning: Liblinear failed to converge, increase the number of iterations.\n",
      "  \"the number of iterations.\", ConvergenceWarning)\n"
     ]
    },
    {
     "name": "stdout",
     "output_type": "stream",
     "text": [
      "[CV]  C=5.0625, fit_intercept=False, intercept_scaling=5, solver=liblinear, score=0.5622489959839357, total=   0.4s\n",
      "[CV] C=5.0625, fit_intercept=False, intercept_scaling=5, solver=liblinear \n"
     ]
    },
    {
     "name": "stderr",
     "output_type": "stream",
     "text": [
      "/anaconda3/lib/python3.7/site-packages/sklearn/svm/base.py:931: ConvergenceWarning: Liblinear failed to converge, increase the number of iterations.\n",
      "  \"the number of iterations.\", ConvergenceWarning)\n",
      "/anaconda3/lib/python3.7/site-packages/sklearn/linear_model/sag.py:334: ConvergenceWarning: The max_iter was reached which means the coef_ did not converge\n",
      "  \"the coef_ did not converge\", ConvergenceWarning)\n"
     ]
    },
    {
     "name": "stdout",
     "output_type": "stream",
     "text": [
      "[CV]  C=5.0625, fit_intercept=False, intercept_scaling=5, solver=liblinear, score=0.5734406438631791, total=   0.7s\n",
      "[CV] C=5.0625, fit_intercept=False, intercept_scaling=5, solver=saga .\n",
      "[CV]  C=5.0625, fit_intercept=False, intercept_scaling=5, solver=saga, score=0.5180722891566265, total=   0.1s\n",
      "[CV] C=5.0625, fit_intercept=False, intercept_scaling=5, solver=saga .\n"
     ]
    },
    {
     "name": "stderr",
     "output_type": "stream",
     "text": [
      "/anaconda3/lib/python3.7/site-packages/sklearn/linear_model/sag.py:334: ConvergenceWarning: The max_iter was reached which means the coef_ did not converge\n",
      "  \"the coef_ did not converge\", ConvergenceWarning)\n",
      "/anaconda3/lib/python3.7/site-packages/sklearn/linear_model/sag.py:334: ConvergenceWarning: The max_iter was reached which means the coef_ did not converge\n",
      "  \"the coef_ did not converge\", ConvergenceWarning)\n"
     ]
    },
    {
     "name": "stdout",
     "output_type": "stream",
     "text": [
      "[CV]  C=5.0625, fit_intercept=False, intercept_scaling=5, solver=saga, score=0.5210843373493976, total=   0.2s\n",
      "[CV] C=5.0625, fit_intercept=False, intercept_scaling=5, solver=saga .\n",
      "[CV]  C=5.0625, fit_intercept=False, intercept_scaling=5, solver=saga, score=0.5, total=   0.2s\n",
      "[CV] C=5.0625, fit_intercept=False, intercept_scaling=10, solver=liblinear \n"
     ]
    },
    {
     "name": "stderr",
     "output_type": "stream",
     "text": [
      "/anaconda3/lib/python3.7/site-packages/sklearn/svm/base.py:931: ConvergenceWarning: Liblinear failed to converge, increase the number of iterations.\n",
      "  \"the number of iterations.\", ConvergenceWarning)\n"
     ]
    },
    {
     "name": "stdout",
     "output_type": "stream",
     "text": [
      "[CV]  C=5.0625, fit_intercept=False, intercept_scaling=10, solver=liblinear, score=0.5843373493975904, total=   0.2s\n",
      "[CV] C=5.0625, fit_intercept=False, intercept_scaling=10, solver=liblinear \n"
     ]
    },
    {
     "name": "stderr",
     "output_type": "stream",
     "text": [
      "/anaconda3/lib/python3.7/site-packages/sklearn/svm/base.py:931: ConvergenceWarning: Liblinear failed to converge, increase the number of iterations.\n",
      "  \"the number of iterations.\", ConvergenceWarning)\n"
     ]
    },
    {
     "name": "stdout",
     "output_type": "stream",
     "text": [
      "[CV]  C=5.0625, fit_intercept=False, intercept_scaling=10, solver=liblinear, score=0.5622489959839357, total=   0.5s\n",
      "[CV] C=5.0625, fit_intercept=False, intercept_scaling=10, solver=liblinear \n"
     ]
    },
    {
     "name": "stderr",
     "output_type": "stream",
     "text": [
      "/anaconda3/lib/python3.7/site-packages/sklearn/svm/base.py:931: ConvergenceWarning: Liblinear failed to converge, increase the number of iterations.\n",
      "  \"the number of iterations.\", ConvergenceWarning)\n",
      "/anaconda3/lib/python3.7/site-packages/sklearn/linear_model/sag.py:334: ConvergenceWarning: The max_iter was reached which means the coef_ did not converge\n",
      "  \"the coef_ did not converge\", ConvergenceWarning)\n"
     ]
    },
    {
     "name": "stdout",
     "output_type": "stream",
     "text": [
      "[CV]  C=5.0625, fit_intercept=False, intercept_scaling=10, solver=liblinear, score=0.5734406438631791, total=   0.7s\n",
      "[CV] C=5.0625, fit_intercept=False, intercept_scaling=10, solver=saga \n",
      "[CV]  C=5.0625, fit_intercept=False, intercept_scaling=10, solver=saga, score=0.5190763052208835, total=   0.2s\n",
      "[CV] C=5.0625, fit_intercept=False, intercept_scaling=10, solver=saga \n"
     ]
    },
    {
     "name": "stderr",
     "output_type": "stream",
     "text": [
      "/anaconda3/lib/python3.7/site-packages/sklearn/linear_model/sag.py:334: ConvergenceWarning: The max_iter was reached which means the coef_ did not converge\n",
      "  \"the coef_ did not converge\", ConvergenceWarning)\n",
      "/anaconda3/lib/python3.7/site-packages/sklearn/linear_model/sag.py:334: ConvergenceWarning: The max_iter was reached which means the coef_ did not converge\n",
      "  \"the coef_ did not converge\", ConvergenceWarning)\n"
     ]
    },
    {
     "name": "stdout",
     "output_type": "stream",
     "text": [
      "[CV]  C=5.0625, fit_intercept=False, intercept_scaling=10, solver=saga, score=0.5200803212851406, total=   0.2s\n",
      "[CV] C=5.0625, fit_intercept=False, intercept_scaling=10, solver=saga \n",
      "[CV]  C=5.0625, fit_intercept=False, intercept_scaling=10, solver=saga, score=0.5010060362173038, total=   0.2s\n",
      "[CV] C=5.0625, fit_intercept=False, intercept_scaling=25, solver=liblinear \n"
     ]
    },
    {
     "name": "stderr",
     "output_type": "stream",
     "text": [
      "/anaconda3/lib/python3.7/site-packages/sklearn/svm/base.py:931: ConvergenceWarning: Liblinear failed to converge, increase the number of iterations.\n",
      "  \"the number of iterations.\", ConvergenceWarning)\n"
     ]
    },
    {
     "name": "stdout",
     "output_type": "stream",
     "text": [
      "[CV]  C=5.0625, fit_intercept=False, intercept_scaling=25, solver=liblinear, score=0.5843373493975904, total=   0.2s\n",
      "[CV] C=5.0625, fit_intercept=False, intercept_scaling=25, solver=liblinear \n"
     ]
    },
    {
     "name": "stderr",
     "output_type": "stream",
     "text": [
      "/anaconda3/lib/python3.7/site-packages/sklearn/svm/base.py:931: ConvergenceWarning: Liblinear failed to converge, increase the number of iterations.\n",
      "  \"the number of iterations.\", ConvergenceWarning)\n"
     ]
    },
    {
     "name": "stdout",
     "output_type": "stream",
     "text": [
      "[CV]  C=5.0625, fit_intercept=False, intercept_scaling=25, solver=liblinear, score=0.5622489959839357, total=   0.3s\n",
      "[CV] C=5.0625, fit_intercept=False, intercept_scaling=25, solver=liblinear \n"
     ]
    },
    {
     "name": "stderr",
     "output_type": "stream",
     "text": [
      "/anaconda3/lib/python3.7/site-packages/sklearn/svm/base.py:931: ConvergenceWarning: Liblinear failed to converge, increase the number of iterations.\n",
      "  \"the number of iterations.\", ConvergenceWarning)\n",
      "/anaconda3/lib/python3.7/site-packages/sklearn/linear_model/sag.py:334: ConvergenceWarning: The max_iter was reached which means the coef_ did not converge\n",
      "  \"the coef_ did not converge\", ConvergenceWarning)\n"
     ]
    },
    {
     "name": "stdout",
     "output_type": "stream",
     "text": [
      "[CV]  C=5.0625, fit_intercept=False, intercept_scaling=25, solver=liblinear, score=0.5734406438631791, total=   0.5s\n",
      "[CV] C=5.0625, fit_intercept=False, intercept_scaling=25, solver=saga \n",
      "[CV]  C=5.0625, fit_intercept=False, intercept_scaling=25, solver=saga, score=0.5170682730923695, total=   0.1s\n",
      "[CV] C=5.0625, fit_intercept=False, intercept_scaling=25, solver=saga \n"
     ]
    },
    {
     "name": "stderr",
     "output_type": "stream",
     "text": [
      "/anaconda3/lib/python3.7/site-packages/sklearn/linear_model/sag.py:334: ConvergenceWarning: The max_iter was reached which means the coef_ did not converge\n",
      "  \"the coef_ did not converge\", ConvergenceWarning)\n",
      "/anaconda3/lib/python3.7/site-packages/sklearn/linear_model/sag.py:334: ConvergenceWarning: The max_iter was reached which means the coef_ did not converge\n",
      "  \"the coef_ did not converge\", ConvergenceWarning)\n"
     ]
    },
    {
     "name": "stdout",
     "output_type": "stream",
     "text": [
      "[CV]  C=5.0625, fit_intercept=False, intercept_scaling=25, solver=saga, score=0.5220883534136547, total=   0.1s\n",
      "[CV] C=5.0625, fit_intercept=False, intercept_scaling=25, solver=saga \n",
      "[CV]  C=5.0625, fit_intercept=False, intercept_scaling=25, solver=saga, score=0.5010060362173038, total=   0.1s\n",
      "[CV] C=5.0625, fit_intercept=False, intercept_scaling=50, solver=liblinear \n"
     ]
    },
    {
     "name": "stderr",
     "output_type": "stream",
     "text": [
      "/anaconda3/lib/python3.7/site-packages/sklearn/svm/base.py:931: ConvergenceWarning: Liblinear failed to converge, increase the number of iterations.\n",
      "  \"the number of iterations.\", ConvergenceWarning)\n"
     ]
    },
    {
     "name": "stdout",
     "output_type": "stream",
     "text": [
      "[CV]  C=5.0625, fit_intercept=False, intercept_scaling=50, solver=liblinear, score=0.5843373493975904, total=   0.2s\n",
      "[CV] C=5.0625, fit_intercept=False, intercept_scaling=50, solver=liblinear \n"
     ]
    },
    {
     "name": "stderr",
     "output_type": "stream",
     "text": [
      "/anaconda3/lib/python3.7/site-packages/sklearn/svm/base.py:931: ConvergenceWarning: Liblinear failed to converge, increase the number of iterations.\n",
      "  \"the number of iterations.\", ConvergenceWarning)\n"
     ]
    },
    {
     "name": "stdout",
     "output_type": "stream",
     "text": [
      "[CV]  C=5.0625, fit_intercept=False, intercept_scaling=50, solver=liblinear, score=0.5622489959839357, total=   0.4s\n",
      "[CV] C=5.0625, fit_intercept=False, intercept_scaling=50, solver=liblinear \n"
     ]
    },
    {
     "name": "stderr",
     "output_type": "stream",
     "text": [
      "/anaconda3/lib/python3.7/site-packages/sklearn/svm/base.py:931: ConvergenceWarning: Liblinear failed to converge, increase the number of iterations.\n",
      "  \"the number of iterations.\", ConvergenceWarning)\n",
      "/anaconda3/lib/python3.7/site-packages/sklearn/linear_model/sag.py:334: ConvergenceWarning: The max_iter was reached which means the coef_ did not converge\n",
      "  \"the coef_ did not converge\", ConvergenceWarning)\n"
     ]
    },
    {
     "name": "stdout",
     "output_type": "stream",
     "text": [
      "[CV]  C=5.0625, fit_intercept=False, intercept_scaling=50, solver=liblinear, score=0.5734406438631791, total=   0.5s\n",
      "[CV] C=5.0625, fit_intercept=False, intercept_scaling=50, solver=saga \n",
      "[CV]  C=5.0625, fit_intercept=False, intercept_scaling=50, solver=saga, score=0.5190763052208835, total=   0.2s\n",
      "[CV] C=5.0625, fit_intercept=False, intercept_scaling=50, solver=saga \n"
     ]
    },
    {
     "name": "stderr",
     "output_type": "stream",
     "text": [
      "/anaconda3/lib/python3.7/site-packages/sklearn/linear_model/sag.py:334: ConvergenceWarning: The max_iter was reached which means the coef_ did not converge\n",
      "  \"the coef_ did not converge\", ConvergenceWarning)\n",
      "/anaconda3/lib/python3.7/site-packages/sklearn/linear_model/sag.py:334: ConvergenceWarning: The max_iter was reached which means the coef_ did not converge\n",
      "  \"the coef_ did not converge\", ConvergenceWarning)\n"
     ]
    },
    {
     "name": "stdout",
     "output_type": "stream",
     "text": [
      "[CV]  C=5.0625, fit_intercept=False, intercept_scaling=50, solver=saga, score=0.5220883534136547, total=   0.2s\n",
      "[CV] C=5.0625, fit_intercept=False, intercept_scaling=50, solver=saga \n",
      "[CV]  C=5.0625, fit_intercept=False, intercept_scaling=50, solver=saga, score=0.5010060362173038, total=   0.1s\n",
      "[CV] C=5.0625, fit_intercept=False, intercept_scaling=100, solver=liblinear \n"
     ]
    },
    {
     "name": "stderr",
     "output_type": "stream",
     "text": [
      "/anaconda3/lib/python3.7/site-packages/sklearn/svm/base.py:931: ConvergenceWarning: Liblinear failed to converge, increase the number of iterations.\n",
      "  \"the number of iterations.\", ConvergenceWarning)\n"
     ]
    },
    {
     "name": "stdout",
     "output_type": "stream",
     "text": [
      "[CV]  C=5.0625, fit_intercept=False, intercept_scaling=100, solver=liblinear, score=0.5843373493975904, total=   0.3s\n",
      "[CV] C=5.0625, fit_intercept=False, intercept_scaling=100, solver=liblinear \n"
     ]
    },
    {
     "name": "stderr",
     "output_type": "stream",
     "text": [
      "/anaconda3/lib/python3.7/site-packages/sklearn/svm/base.py:931: ConvergenceWarning: Liblinear failed to converge, increase the number of iterations.\n",
      "  \"the number of iterations.\", ConvergenceWarning)\n"
     ]
    },
    {
     "name": "stdout",
     "output_type": "stream",
     "text": [
      "[CV]  C=5.0625, fit_intercept=False, intercept_scaling=100, solver=liblinear, score=0.5622489959839357, total=   0.5s\n",
      "[CV] C=5.0625, fit_intercept=False, intercept_scaling=100, solver=liblinear \n"
     ]
    },
    {
     "name": "stderr",
     "output_type": "stream",
     "text": [
      "/anaconda3/lib/python3.7/site-packages/sklearn/svm/base.py:931: ConvergenceWarning: Liblinear failed to converge, increase the number of iterations.\n",
      "  \"the number of iterations.\", ConvergenceWarning)\n",
      "/anaconda3/lib/python3.7/site-packages/sklearn/linear_model/sag.py:334: ConvergenceWarning: The max_iter was reached which means the coef_ did not converge\n",
      "  \"the coef_ did not converge\", ConvergenceWarning)\n"
     ]
    },
    {
     "name": "stdout",
     "output_type": "stream",
     "text": [
      "[CV]  C=5.0625, fit_intercept=False, intercept_scaling=100, solver=liblinear, score=0.5734406438631791, total=   0.6s\n",
      "[CV] C=5.0625, fit_intercept=False, intercept_scaling=100, solver=saga \n",
      "[CV]  C=5.0625, fit_intercept=False, intercept_scaling=100, solver=saga, score=0.5170682730923695, total=   0.1s\n",
      "[CV] C=5.0625, fit_intercept=False, intercept_scaling=100, solver=saga \n"
     ]
    },
    {
     "name": "stderr",
     "output_type": "stream",
     "text": [
      "/anaconda3/lib/python3.7/site-packages/sklearn/linear_model/sag.py:334: ConvergenceWarning: The max_iter was reached which means the coef_ did not converge\n",
      "  \"the coef_ did not converge\", ConvergenceWarning)\n",
      "/anaconda3/lib/python3.7/site-packages/sklearn/linear_model/sag.py:334: ConvergenceWarning: The max_iter was reached which means the coef_ did not converge\n",
      "  \"the coef_ did not converge\", ConvergenceWarning)\n"
     ]
    },
    {
     "name": "stdout",
     "output_type": "stream",
     "text": [
      "[CV]  C=5.0625, fit_intercept=False, intercept_scaling=100, solver=saga, score=0.5210843373493976, total=   0.1s\n",
      "[CV] C=5.0625, fit_intercept=False, intercept_scaling=100, solver=saga \n",
      "[CV]  C=5.0625, fit_intercept=False, intercept_scaling=100, solver=saga, score=0.5010060362173038, total=   0.1s\n",
      "[CV] C=11.390625, fit_intercept=True, intercept_scaling=1, solver=liblinear \n"
     ]
    },
    {
     "name": "stderr",
     "output_type": "stream",
     "text": [
      "/anaconda3/lib/python3.7/site-packages/sklearn/svm/base.py:931: ConvergenceWarning: Liblinear failed to converge, increase the number of iterations.\n",
      "  \"the number of iterations.\", ConvergenceWarning)\n"
     ]
    },
    {
     "name": "stdout",
     "output_type": "stream",
     "text": [
      "[CV]  C=11.390625, fit_intercept=True, intercept_scaling=1, solver=liblinear, score=0.5853413654618473, total=   0.2s\n",
      "[CV] C=11.390625, fit_intercept=True, intercept_scaling=1, solver=liblinear \n"
     ]
    },
    {
     "name": "stderr",
     "output_type": "stream",
     "text": [
      "/anaconda3/lib/python3.7/site-packages/sklearn/svm/base.py:931: ConvergenceWarning: Liblinear failed to converge, increase the number of iterations.\n",
      "  \"the number of iterations.\", ConvergenceWarning)\n"
     ]
    },
    {
     "name": "stdout",
     "output_type": "stream",
     "text": [
      "[CV]  C=11.390625, fit_intercept=True, intercept_scaling=1, solver=liblinear, score=0.5622489959839357, total=   0.5s\n",
      "[CV] C=11.390625, fit_intercept=True, intercept_scaling=1, solver=liblinear \n"
     ]
    },
    {
     "name": "stderr",
     "output_type": "stream",
     "text": [
      "/anaconda3/lib/python3.7/site-packages/sklearn/svm/base.py:931: ConvergenceWarning: Liblinear failed to converge, increase the number of iterations.\n",
      "  \"the number of iterations.\", ConvergenceWarning)\n",
      "/anaconda3/lib/python3.7/site-packages/sklearn/linear_model/sag.py:334: ConvergenceWarning: The max_iter was reached which means the coef_ did not converge\n",
      "  \"the coef_ did not converge\", ConvergenceWarning)\n"
     ]
    },
    {
     "name": "stdout",
     "output_type": "stream",
     "text": [
      "[CV]  C=11.390625, fit_intercept=True, intercept_scaling=1, solver=liblinear, score=0.5704225352112676, total=   0.5s\n",
      "[CV] C=11.390625, fit_intercept=True, intercept_scaling=1, solver=saga \n",
      "[CV]  C=11.390625, fit_intercept=True, intercept_scaling=1, solver=saga, score=0.5180722891566265, total=   0.1s\n",
      "[CV] C=11.390625, fit_intercept=True, intercept_scaling=1, solver=saga \n"
     ]
    },
    {
     "name": "stderr",
     "output_type": "stream",
     "text": [
      "/anaconda3/lib/python3.7/site-packages/sklearn/linear_model/sag.py:334: ConvergenceWarning: The max_iter was reached which means the coef_ did not converge\n",
      "  \"the coef_ did not converge\", ConvergenceWarning)\n",
      "/anaconda3/lib/python3.7/site-packages/sklearn/linear_model/sag.py:334: ConvergenceWarning: The max_iter was reached which means the coef_ did not converge\n",
      "  \"the coef_ did not converge\", ConvergenceWarning)\n"
     ]
    },
    {
     "name": "stdout",
     "output_type": "stream",
     "text": [
      "[CV]  C=11.390625, fit_intercept=True, intercept_scaling=1, solver=saga, score=0.5210843373493976, total=   0.1s\n",
      "[CV] C=11.390625, fit_intercept=True, intercept_scaling=1, solver=saga \n",
      "[CV]  C=11.390625, fit_intercept=True, intercept_scaling=1, solver=saga, score=0.5010060362173038, total=   0.1s\n",
      "[CV] C=11.390625, fit_intercept=True, intercept_scaling=5, solver=liblinear \n"
     ]
    },
    {
     "name": "stderr",
     "output_type": "stream",
     "text": [
      "/anaconda3/lib/python3.7/site-packages/sklearn/svm/base.py:931: ConvergenceWarning: Liblinear failed to converge, increase the number of iterations.\n",
      "  \"the number of iterations.\", ConvergenceWarning)\n"
     ]
    },
    {
     "name": "stdout",
     "output_type": "stream",
     "text": [
      "[CV]  C=11.390625, fit_intercept=True, intercept_scaling=5, solver=liblinear, score=0.5843373493975904, total=   0.2s\n",
      "[CV] C=11.390625, fit_intercept=True, intercept_scaling=5, solver=liblinear \n"
     ]
    },
    {
     "name": "stderr",
     "output_type": "stream",
     "text": [
      "/anaconda3/lib/python3.7/site-packages/sklearn/svm/base.py:931: ConvergenceWarning: Liblinear failed to converge, increase the number of iterations.\n",
      "  \"the number of iterations.\", ConvergenceWarning)\n"
     ]
    },
    {
     "name": "stdout",
     "output_type": "stream",
     "text": [
      "[CV]  C=11.390625, fit_intercept=True, intercept_scaling=5, solver=liblinear, score=0.5622489959839357, total=   0.4s\n",
      "[CV] C=11.390625, fit_intercept=True, intercept_scaling=5, solver=liblinear \n"
     ]
    },
    {
     "name": "stderr",
     "output_type": "stream",
     "text": [
      "/anaconda3/lib/python3.7/site-packages/sklearn/svm/base.py:931: ConvergenceWarning: Liblinear failed to converge, increase the number of iterations.\n",
      "  \"the number of iterations.\", ConvergenceWarning)\n",
      "/anaconda3/lib/python3.7/site-packages/sklearn/linear_model/sag.py:334: ConvergenceWarning: The max_iter was reached which means the coef_ did not converge\n",
      "  \"the coef_ did not converge\", ConvergenceWarning)\n"
     ]
    },
    {
     "name": "stdout",
     "output_type": "stream",
     "text": [
      "[CV]  C=11.390625, fit_intercept=True, intercept_scaling=5, solver=liblinear, score=0.56841046277666, total=   0.4s\n",
      "[CV] C=11.390625, fit_intercept=True, intercept_scaling=5, solver=saga \n",
      "[CV]  C=11.390625, fit_intercept=True, intercept_scaling=5, solver=saga, score=0.5170682730923695, total=   0.1s\n",
      "[CV] C=11.390625, fit_intercept=True, intercept_scaling=5, solver=saga \n"
     ]
    },
    {
     "name": "stderr",
     "output_type": "stream",
     "text": [
      "/anaconda3/lib/python3.7/site-packages/sklearn/linear_model/sag.py:334: ConvergenceWarning: The max_iter was reached which means the coef_ did not converge\n",
      "  \"the coef_ did not converge\", ConvergenceWarning)\n",
      "/anaconda3/lib/python3.7/site-packages/sklearn/linear_model/sag.py:334: ConvergenceWarning: The max_iter was reached which means the coef_ did not converge\n",
      "  \"the coef_ did not converge\", ConvergenceWarning)\n"
     ]
    },
    {
     "name": "stdout",
     "output_type": "stream",
     "text": [
      "[CV]  C=11.390625, fit_intercept=True, intercept_scaling=5, solver=saga, score=0.5210843373493976, total=   0.1s\n",
      "[CV] C=11.390625, fit_intercept=True, intercept_scaling=5, solver=saga \n",
      "[CV]  C=11.390625, fit_intercept=True, intercept_scaling=5, solver=saga, score=0.5020120724346077, total=   0.1s\n",
      "[CV] C=11.390625, fit_intercept=True, intercept_scaling=10, solver=liblinear \n"
     ]
    },
    {
     "name": "stderr",
     "output_type": "stream",
     "text": [
      "/anaconda3/lib/python3.7/site-packages/sklearn/svm/base.py:931: ConvergenceWarning: Liblinear failed to converge, increase the number of iterations.\n",
      "  \"the number of iterations.\", ConvergenceWarning)\n"
     ]
    },
    {
     "name": "stdout",
     "output_type": "stream",
     "text": [
      "[CV]  C=11.390625, fit_intercept=True, intercept_scaling=10, solver=liblinear, score=0.5973895582329317, total=   0.2s\n",
      "[CV] C=11.390625, fit_intercept=True, intercept_scaling=10, solver=liblinear \n"
     ]
    },
    {
     "name": "stderr",
     "output_type": "stream",
     "text": [
      "/anaconda3/lib/python3.7/site-packages/sklearn/svm/base.py:931: ConvergenceWarning: Liblinear failed to converge, increase the number of iterations.\n",
      "  \"the number of iterations.\", ConvergenceWarning)\n"
     ]
    },
    {
     "name": "stdout",
     "output_type": "stream",
     "text": [
      "[CV]  C=11.390625, fit_intercept=True, intercept_scaling=10, solver=liblinear, score=0.5632530120481928, total=   0.4s\n",
      "[CV] C=11.390625, fit_intercept=True, intercept_scaling=10, solver=liblinear \n"
     ]
    },
    {
     "name": "stderr",
     "output_type": "stream",
     "text": [
      "/anaconda3/lib/python3.7/site-packages/sklearn/svm/base.py:931: ConvergenceWarning: Liblinear failed to converge, increase the number of iterations.\n",
      "  \"the number of iterations.\", ConvergenceWarning)\n",
      "/anaconda3/lib/python3.7/site-packages/sklearn/linear_model/sag.py:334: ConvergenceWarning: The max_iter was reached which means the coef_ did not converge\n",
      "  \"the coef_ did not converge\", ConvergenceWarning)\n"
     ]
    },
    {
     "name": "stdout",
     "output_type": "stream",
     "text": [
      "[CV]  C=11.390625, fit_intercept=True, intercept_scaling=10, solver=liblinear, score=0.5663983903420523, total=   0.3s\n",
      "[CV] C=11.390625, fit_intercept=True, intercept_scaling=10, solver=saga \n",
      "[CV]  C=11.390625, fit_intercept=True, intercept_scaling=10, solver=saga, score=0.5180722891566265, total=   0.1s\n",
      "[CV] C=11.390625, fit_intercept=True, intercept_scaling=10, solver=saga \n"
     ]
    },
    {
     "name": "stderr",
     "output_type": "stream",
     "text": [
      "/anaconda3/lib/python3.7/site-packages/sklearn/linear_model/sag.py:334: ConvergenceWarning: The max_iter was reached which means the coef_ did not converge\n",
      "  \"the coef_ did not converge\", ConvergenceWarning)\n",
      "/anaconda3/lib/python3.7/site-packages/sklearn/linear_model/sag.py:334: ConvergenceWarning: The max_iter was reached which means the coef_ did not converge\n",
      "  \"the coef_ did not converge\", ConvergenceWarning)\n"
     ]
    },
    {
     "name": "stdout",
     "output_type": "stream",
     "text": [
      "[CV]  C=11.390625, fit_intercept=True, intercept_scaling=10, solver=saga, score=0.5220883534136547, total=   0.1s\n",
      "[CV] C=11.390625, fit_intercept=True, intercept_scaling=10, solver=saga \n",
      "[CV]  C=11.390625, fit_intercept=True, intercept_scaling=10, solver=saga, score=0.5020120724346077, total=   0.1s\n",
      "[CV] C=11.390625, fit_intercept=True, intercept_scaling=25, solver=liblinear \n"
     ]
    },
    {
     "name": "stderr",
     "output_type": "stream",
     "text": [
      "/anaconda3/lib/python3.7/site-packages/sklearn/svm/base.py:931: ConvergenceWarning: Liblinear failed to converge, increase the number of iterations.\n",
      "  \"the number of iterations.\", ConvergenceWarning)\n"
     ]
    },
    {
     "name": "stdout",
     "output_type": "stream",
     "text": [
      "[CV]  C=11.390625, fit_intercept=True, intercept_scaling=25, solver=liblinear, score=0.5963855421686747, total=   0.2s\n",
      "[CV] C=11.390625, fit_intercept=True, intercept_scaling=25, solver=liblinear \n"
     ]
    },
    {
     "name": "stderr",
     "output_type": "stream",
     "text": [
      "/anaconda3/lib/python3.7/site-packages/sklearn/svm/base.py:931: ConvergenceWarning: Liblinear failed to converge, increase the number of iterations.\n",
      "  \"the number of iterations.\", ConvergenceWarning)\n"
     ]
    },
    {
     "name": "stdout",
     "output_type": "stream",
     "text": [
      "[CV]  C=11.390625, fit_intercept=True, intercept_scaling=25, solver=liblinear, score=0.5532128514056225, total=   0.3s\n",
      "[CV] C=11.390625, fit_intercept=True, intercept_scaling=25, solver=liblinear \n"
     ]
    },
    {
     "name": "stderr",
     "output_type": "stream",
     "text": [
      "/anaconda3/lib/python3.7/site-packages/sklearn/svm/base.py:931: ConvergenceWarning: Liblinear failed to converge, increase the number of iterations.\n",
      "  \"the number of iterations.\", ConvergenceWarning)\n",
      "/anaconda3/lib/python3.7/site-packages/sklearn/linear_model/sag.py:334: ConvergenceWarning: The max_iter was reached which means the coef_ did not converge\n",
      "  \"the coef_ did not converge\", ConvergenceWarning)\n"
     ]
    },
    {
     "name": "stdout",
     "output_type": "stream",
     "text": [
      "[CV]  C=11.390625, fit_intercept=True, intercept_scaling=25, solver=liblinear, score=0.5593561368209256, total=   0.3s\n",
      "[CV] C=11.390625, fit_intercept=True, intercept_scaling=25, solver=saga \n",
      "[CV]  C=11.390625, fit_intercept=True, intercept_scaling=25, solver=saga, score=0.5170682730923695, total=   0.1s\n",
      "[CV] C=11.390625, fit_intercept=True, intercept_scaling=25, solver=saga \n"
     ]
    },
    {
     "name": "stderr",
     "output_type": "stream",
     "text": [
      "/anaconda3/lib/python3.7/site-packages/sklearn/linear_model/sag.py:334: ConvergenceWarning: The max_iter was reached which means the coef_ did not converge\n",
      "  \"the coef_ did not converge\", ConvergenceWarning)\n",
      "/anaconda3/lib/python3.7/site-packages/sklearn/linear_model/sag.py:334: ConvergenceWarning: The max_iter was reached which means the coef_ did not converge\n",
      "  \"the coef_ did not converge\", ConvergenceWarning)\n"
     ]
    },
    {
     "name": "stdout",
     "output_type": "stream",
     "text": [
      "[CV]  C=11.390625, fit_intercept=True, intercept_scaling=25, solver=saga, score=0.5200803212851406, total=   0.1s\n",
      "[CV] C=11.390625, fit_intercept=True, intercept_scaling=25, solver=saga \n",
      "[CV]  C=11.390625, fit_intercept=True, intercept_scaling=25, solver=saga, score=0.5010060362173038, total=   0.1s\n",
      "[CV] C=11.390625, fit_intercept=True, intercept_scaling=50, solver=liblinear \n"
     ]
    },
    {
     "name": "stderr",
     "output_type": "stream",
     "text": [
      "/anaconda3/lib/python3.7/site-packages/sklearn/svm/base.py:931: ConvergenceWarning: Liblinear failed to converge, increase the number of iterations.\n",
      "  \"the number of iterations.\", ConvergenceWarning)\n"
     ]
    },
    {
     "name": "stdout",
     "output_type": "stream",
     "text": [
      "[CV]  C=11.390625, fit_intercept=True, intercept_scaling=50, solver=liblinear, score=0.5903614457831325, total=   0.2s\n",
      "[CV] C=11.390625, fit_intercept=True, intercept_scaling=50, solver=liblinear \n"
     ]
    },
    {
     "name": "stderr",
     "output_type": "stream",
     "text": [
      "/anaconda3/lib/python3.7/site-packages/sklearn/svm/base.py:931: ConvergenceWarning: Liblinear failed to converge, increase the number of iterations.\n",
      "  \"the number of iterations.\", ConvergenceWarning)\n"
     ]
    },
    {
     "name": "stdout",
     "output_type": "stream",
     "text": [
      "[CV]  C=11.390625, fit_intercept=True, intercept_scaling=50, solver=liblinear, score=0.5582329317269076, total=   0.4s\n",
      "[CV] C=11.390625, fit_intercept=True, intercept_scaling=50, solver=liblinear \n"
     ]
    },
    {
     "name": "stderr",
     "output_type": "stream",
     "text": [
      "/anaconda3/lib/python3.7/site-packages/sklearn/svm/base.py:931: ConvergenceWarning: Liblinear failed to converge, increase the number of iterations.\n",
      "  \"the number of iterations.\", ConvergenceWarning)\n",
      "/anaconda3/lib/python3.7/site-packages/sklearn/linear_model/sag.py:334: ConvergenceWarning: The max_iter was reached which means the coef_ did not converge\n",
      "  \"the coef_ did not converge\", ConvergenceWarning)\n"
     ]
    },
    {
     "name": "stdout",
     "output_type": "stream",
     "text": [
      "[CV]  C=11.390625, fit_intercept=True, intercept_scaling=50, solver=liblinear, score=0.5593561368209256, total=   0.3s\n",
      "[CV] C=11.390625, fit_intercept=True, intercept_scaling=50, solver=saga \n",
      "[CV]  C=11.390625, fit_intercept=True, intercept_scaling=50, solver=saga, score=0.5180722891566265, total=   0.1s\n",
      "[CV] C=11.390625, fit_intercept=True, intercept_scaling=50, solver=saga \n"
     ]
    },
    {
     "name": "stderr",
     "output_type": "stream",
     "text": [
      "/anaconda3/lib/python3.7/site-packages/sklearn/linear_model/sag.py:334: ConvergenceWarning: The max_iter was reached which means the coef_ did not converge\n",
      "  \"the coef_ did not converge\", ConvergenceWarning)\n",
      "/anaconda3/lib/python3.7/site-packages/sklearn/linear_model/sag.py:334: ConvergenceWarning: The max_iter was reached which means the coef_ did not converge\n",
      "  \"the coef_ did not converge\", ConvergenceWarning)\n"
     ]
    },
    {
     "name": "stdout",
     "output_type": "stream",
     "text": [
      "[CV]  C=11.390625, fit_intercept=True, intercept_scaling=50, solver=saga, score=0.5220883534136547, total=   0.1s\n",
      "[CV] C=11.390625, fit_intercept=True, intercept_scaling=50, solver=saga \n",
      "[CV]  C=11.390625, fit_intercept=True, intercept_scaling=50, solver=saga, score=0.5020120724346077, total=   0.1s\n",
      "[CV] C=11.390625, fit_intercept=True, intercept_scaling=100, solver=liblinear \n",
      "[CV]  C=11.390625, fit_intercept=True, intercept_scaling=100, solver=liblinear, score=0.6024096385542169, total=   0.3s\n",
      "[CV] C=11.390625, fit_intercept=True, intercept_scaling=100, solver=liblinear \n"
     ]
    },
    {
     "name": "stderr",
     "output_type": "stream",
     "text": [
      "/anaconda3/lib/python3.7/site-packages/sklearn/svm/base.py:931: ConvergenceWarning: Liblinear failed to converge, increase the number of iterations.\n",
      "  \"the number of iterations.\", ConvergenceWarning)\n"
     ]
    },
    {
     "name": "stdout",
     "output_type": "stream",
     "text": [
      "[CV]  C=11.390625, fit_intercept=True, intercept_scaling=100, solver=liblinear, score=0.5532128514056225, total=   0.3s\n",
      "[CV] C=11.390625, fit_intercept=True, intercept_scaling=100, solver=liblinear \n"
     ]
    },
    {
     "name": "stderr",
     "output_type": "stream",
     "text": [
      "/anaconda3/lib/python3.7/site-packages/sklearn/svm/base.py:931: ConvergenceWarning: Liblinear failed to converge, increase the number of iterations.\n",
      "  \"the number of iterations.\", ConvergenceWarning)\n",
      "/anaconda3/lib/python3.7/site-packages/sklearn/linear_model/sag.py:334: ConvergenceWarning: The max_iter was reached which means the coef_ did not converge\n",
      "  \"the coef_ did not converge\", ConvergenceWarning)\n"
     ]
    },
    {
     "name": "stdout",
     "output_type": "stream",
     "text": [
      "[CV]  C=11.390625, fit_intercept=True, intercept_scaling=100, solver=liblinear, score=0.5694164989939637, total=   0.5s\n",
      "[CV] C=11.390625, fit_intercept=True, intercept_scaling=100, solver=saga \n",
      "[CV]  C=11.390625, fit_intercept=True, intercept_scaling=100, solver=saga, score=0.5170682730923695, total=   0.1s\n",
      "[CV] C=11.390625, fit_intercept=True, intercept_scaling=100, solver=saga \n"
     ]
    },
    {
     "name": "stderr",
     "output_type": "stream",
     "text": [
      "/anaconda3/lib/python3.7/site-packages/sklearn/linear_model/sag.py:334: ConvergenceWarning: The max_iter was reached which means the coef_ did not converge\n",
      "  \"the coef_ did not converge\", ConvergenceWarning)\n",
      "/anaconda3/lib/python3.7/site-packages/sklearn/linear_model/sag.py:334: ConvergenceWarning: The max_iter was reached which means the coef_ did not converge\n",
      "  \"the coef_ did not converge\", ConvergenceWarning)\n"
     ]
    },
    {
     "name": "stdout",
     "output_type": "stream",
     "text": [
      "[CV]  C=11.390625, fit_intercept=True, intercept_scaling=100, solver=saga, score=0.5200803212851406, total=   0.1s\n",
      "[CV] C=11.390625, fit_intercept=True, intercept_scaling=100, solver=saga \n",
      "[CV]  C=11.390625, fit_intercept=True, intercept_scaling=100, solver=saga, score=0.5, total=   0.1s\n",
      "[CV] C=11.390625, fit_intercept=False, intercept_scaling=1, solver=liblinear \n"
     ]
    },
    {
     "name": "stderr",
     "output_type": "stream",
     "text": [
      "/anaconda3/lib/python3.7/site-packages/sklearn/svm/base.py:931: ConvergenceWarning: Liblinear failed to converge, increase the number of iterations.\n",
      "  \"the number of iterations.\", ConvergenceWarning)\n"
     ]
    },
    {
     "name": "stdout",
     "output_type": "stream",
     "text": [
      "[CV]  C=11.390625, fit_intercept=False, intercept_scaling=1, solver=liblinear, score=0.5843373493975904, total=   0.2s\n",
      "[CV] C=11.390625, fit_intercept=False, intercept_scaling=1, solver=liblinear \n"
     ]
    },
    {
     "name": "stderr",
     "output_type": "stream",
     "text": [
      "/anaconda3/lib/python3.7/site-packages/sklearn/svm/base.py:931: ConvergenceWarning: Liblinear failed to converge, increase the number of iterations.\n",
      "  \"the number of iterations.\", ConvergenceWarning)\n"
     ]
    },
    {
     "name": "stdout",
     "output_type": "stream",
     "text": [
      "[CV]  C=11.390625, fit_intercept=False, intercept_scaling=1, solver=liblinear, score=0.5602409638554217, total=   0.4s\n",
      "[CV] C=11.390625, fit_intercept=False, intercept_scaling=1, solver=liblinear \n"
     ]
    },
    {
     "name": "stderr",
     "output_type": "stream",
     "text": [
      "/anaconda3/lib/python3.7/site-packages/sklearn/svm/base.py:931: ConvergenceWarning: Liblinear failed to converge, increase the number of iterations.\n",
      "  \"the number of iterations.\", ConvergenceWarning)\n",
      "/anaconda3/lib/python3.7/site-packages/sklearn/linear_model/sag.py:334: ConvergenceWarning: The max_iter was reached which means the coef_ did not converge\n",
      "  \"the coef_ did not converge\", ConvergenceWarning)\n"
     ]
    },
    {
     "name": "stdout",
     "output_type": "stream",
     "text": [
      "[CV]  C=11.390625, fit_intercept=False, intercept_scaling=1, solver=liblinear, score=0.5754527162977867, total=   0.5s\n",
      "[CV] C=11.390625, fit_intercept=False, intercept_scaling=1, solver=saga \n",
      "[CV]  C=11.390625, fit_intercept=False, intercept_scaling=1, solver=saga, score=0.5180722891566265, total=   0.1s\n",
      "[CV] C=11.390625, fit_intercept=False, intercept_scaling=1, solver=saga \n"
     ]
    },
    {
     "name": "stderr",
     "output_type": "stream",
     "text": [
      "/anaconda3/lib/python3.7/site-packages/sklearn/linear_model/sag.py:334: ConvergenceWarning: The max_iter was reached which means the coef_ did not converge\n",
      "  \"the coef_ did not converge\", ConvergenceWarning)\n",
      "/anaconda3/lib/python3.7/site-packages/sklearn/linear_model/sag.py:334: ConvergenceWarning: The max_iter was reached which means the coef_ did not converge\n",
      "  \"the coef_ did not converge\", ConvergenceWarning)\n"
     ]
    },
    {
     "name": "stdout",
     "output_type": "stream",
     "text": [
      "[CV]  C=11.390625, fit_intercept=False, intercept_scaling=1, solver=saga, score=0.5210843373493976, total=   0.1s\n",
      "[CV] C=11.390625, fit_intercept=False, intercept_scaling=1, solver=saga \n",
      "[CV]  C=11.390625, fit_intercept=False, intercept_scaling=1, solver=saga, score=0.5010060362173038, total=   0.1s\n",
      "[CV] C=11.390625, fit_intercept=False, intercept_scaling=5, solver=liblinear \n"
     ]
    },
    {
     "name": "stderr",
     "output_type": "stream",
     "text": [
      "/anaconda3/lib/python3.7/site-packages/sklearn/svm/base.py:931: ConvergenceWarning: Liblinear failed to converge, increase the number of iterations.\n",
      "  \"the number of iterations.\", ConvergenceWarning)\n"
     ]
    },
    {
     "name": "stdout",
     "output_type": "stream",
     "text": [
      "[CV]  C=11.390625, fit_intercept=False, intercept_scaling=5, solver=liblinear, score=0.5843373493975904, total=   0.2s\n",
      "[CV] C=11.390625, fit_intercept=False, intercept_scaling=5, solver=liblinear \n"
     ]
    },
    {
     "name": "stderr",
     "output_type": "stream",
     "text": [
      "/anaconda3/lib/python3.7/site-packages/sklearn/svm/base.py:931: ConvergenceWarning: Liblinear failed to converge, increase the number of iterations.\n",
      "  \"the number of iterations.\", ConvergenceWarning)\n"
     ]
    },
    {
     "name": "stdout",
     "output_type": "stream",
     "text": [
      "[CV]  C=11.390625, fit_intercept=False, intercept_scaling=5, solver=liblinear, score=0.5602409638554217, total=   0.4s\n",
      "[CV] C=11.390625, fit_intercept=False, intercept_scaling=5, solver=liblinear \n"
     ]
    },
    {
     "name": "stderr",
     "output_type": "stream",
     "text": [
      "/anaconda3/lib/python3.7/site-packages/sklearn/svm/base.py:931: ConvergenceWarning: Liblinear failed to converge, increase the number of iterations.\n",
      "  \"the number of iterations.\", ConvergenceWarning)\n",
      "/anaconda3/lib/python3.7/site-packages/sklearn/linear_model/sag.py:334: ConvergenceWarning: The max_iter was reached which means the coef_ did not converge\n",
      "  \"the coef_ did not converge\", ConvergenceWarning)\n"
     ]
    },
    {
     "name": "stdout",
     "output_type": "stream",
     "text": [
      "[CV]  C=11.390625, fit_intercept=False, intercept_scaling=5, solver=liblinear, score=0.5754527162977867, total=   0.4s\n",
      "[CV] C=11.390625, fit_intercept=False, intercept_scaling=5, solver=saga \n",
      "[CV]  C=11.390625, fit_intercept=False, intercept_scaling=5, solver=saga, score=0.5200803212851406, total=   0.1s\n",
      "[CV] C=11.390625, fit_intercept=False, intercept_scaling=5, solver=saga \n"
     ]
    },
    {
     "name": "stderr",
     "output_type": "stream",
     "text": [
      "/anaconda3/lib/python3.7/site-packages/sklearn/linear_model/sag.py:334: ConvergenceWarning: The max_iter was reached which means the coef_ did not converge\n",
      "  \"the coef_ did not converge\", ConvergenceWarning)\n",
      "/anaconda3/lib/python3.7/site-packages/sklearn/linear_model/sag.py:334: ConvergenceWarning: The max_iter was reached which means the coef_ did not converge\n",
      "  \"the coef_ did not converge\", ConvergenceWarning)\n"
     ]
    },
    {
     "name": "stdout",
     "output_type": "stream",
     "text": [
      "[CV]  C=11.390625, fit_intercept=False, intercept_scaling=5, solver=saga, score=0.5200803212851406, total=   0.1s\n",
      "[CV] C=11.390625, fit_intercept=False, intercept_scaling=5, solver=saga \n",
      "[CV]  C=11.390625, fit_intercept=False, intercept_scaling=5, solver=saga, score=0.5020120724346077, total=   0.1s\n",
      "[CV] C=11.390625, fit_intercept=False, intercept_scaling=10, solver=liblinear \n"
     ]
    },
    {
     "name": "stderr",
     "output_type": "stream",
     "text": [
      "/anaconda3/lib/python3.7/site-packages/sklearn/svm/base.py:931: ConvergenceWarning: Liblinear failed to converge, increase the number of iterations.\n",
      "  \"the number of iterations.\", ConvergenceWarning)\n"
     ]
    },
    {
     "name": "stdout",
     "output_type": "stream",
     "text": [
      "[CV]  C=11.390625, fit_intercept=False, intercept_scaling=10, solver=liblinear, score=0.5843373493975904, total=   0.2s\n",
      "[CV] C=11.390625, fit_intercept=False, intercept_scaling=10, solver=liblinear \n"
     ]
    },
    {
     "name": "stderr",
     "output_type": "stream",
     "text": [
      "/anaconda3/lib/python3.7/site-packages/sklearn/svm/base.py:931: ConvergenceWarning: Liblinear failed to converge, increase the number of iterations.\n",
      "  \"the number of iterations.\", ConvergenceWarning)\n"
     ]
    },
    {
     "name": "stdout",
     "output_type": "stream",
     "text": [
      "[CV]  C=11.390625, fit_intercept=False, intercept_scaling=10, solver=liblinear, score=0.5602409638554217, total=   0.4s\n",
      "[CV] C=11.390625, fit_intercept=False, intercept_scaling=10, solver=liblinear \n"
     ]
    },
    {
     "name": "stderr",
     "output_type": "stream",
     "text": [
      "/anaconda3/lib/python3.7/site-packages/sklearn/svm/base.py:931: ConvergenceWarning: Liblinear failed to converge, increase the number of iterations.\n",
      "  \"the number of iterations.\", ConvergenceWarning)\n",
      "/anaconda3/lib/python3.7/site-packages/sklearn/linear_model/sag.py:334: ConvergenceWarning: The max_iter was reached which means the coef_ did not converge\n",
      "  \"the coef_ did not converge\", ConvergenceWarning)\n"
     ]
    },
    {
     "name": "stdout",
     "output_type": "stream",
     "text": [
      "[CV]  C=11.390625, fit_intercept=False, intercept_scaling=10, solver=liblinear, score=0.5754527162977867, total=   0.4s\n",
      "[CV] C=11.390625, fit_intercept=False, intercept_scaling=10, solver=saga \n",
      "[CV]  C=11.390625, fit_intercept=False, intercept_scaling=10, solver=saga, score=0.5180722891566265, total=   0.1s\n",
      "[CV] C=11.390625, fit_intercept=False, intercept_scaling=10, solver=saga \n"
     ]
    },
    {
     "name": "stderr",
     "output_type": "stream",
     "text": [
      "/anaconda3/lib/python3.7/site-packages/sklearn/linear_model/sag.py:334: ConvergenceWarning: The max_iter was reached which means the coef_ did not converge\n",
      "  \"the coef_ did not converge\", ConvergenceWarning)\n",
      "/anaconda3/lib/python3.7/site-packages/sklearn/linear_model/sag.py:334: ConvergenceWarning: The max_iter was reached which means the coef_ did not converge\n",
      "  \"the coef_ did not converge\", ConvergenceWarning)\n"
     ]
    },
    {
     "name": "stdout",
     "output_type": "stream",
     "text": [
      "[CV]  C=11.390625, fit_intercept=False, intercept_scaling=10, solver=saga, score=0.5230923694779116, total=   0.1s\n",
      "[CV] C=11.390625, fit_intercept=False, intercept_scaling=10, solver=saga \n",
      "[CV]  C=11.390625, fit_intercept=False, intercept_scaling=10, solver=saga, score=0.5020120724346077, total=   0.1s\n",
      "[CV] C=11.390625, fit_intercept=False, intercept_scaling=25, solver=liblinear \n"
     ]
    },
    {
     "name": "stderr",
     "output_type": "stream",
     "text": [
      "/anaconda3/lib/python3.7/site-packages/sklearn/svm/base.py:931: ConvergenceWarning: Liblinear failed to converge, increase the number of iterations.\n",
      "  \"the number of iterations.\", ConvergenceWarning)\n"
     ]
    },
    {
     "name": "stdout",
     "output_type": "stream",
     "text": [
      "[CV]  C=11.390625, fit_intercept=False, intercept_scaling=25, solver=liblinear, score=0.5843373493975904, total=   0.2s\n",
      "[CV] C=11.390625, fit_intercept=False, intercept_scaling=25, solver=liblinear \n"
     ]
    },
    {
     "name": "stderr",
     "output_type": "stream",
     "text": [
      "/anaconda3/lib/python3.7/site-packages/sklearn/svm/base.py:931: ConvergenceWarning: Liblinear failed to converge, increase the number of iterations.\n",
      "  \"the number of iterations.\", ConvergenceWarning)\n"
     ]
    },
    {
     "name": "stdout",
     "output_type": "stream",
     "text": [
      "[CV]  C=11.390625, fit_intercept=False, intercept_scaling=25, solver=liblinear, score=0.5602409638554217, total=   0.4s\n",
      "[CV] C=11.390625, fit_intercept=False, intercept_scaling=25, solver=liblinear \n"
     ]
    },
    {
     "name": "stderr",
     "output_type": "stream",
     "text": [
      "/anaconda3/lib/python3.7/site-packages/sklearn/svm/base.py:931: ConvergenceWarning: Liblinear failed to converge, increase the number of iterations.\n",
      "  \"the number of iterations.\", ConvergenceWarning)\n",
      "/anaconda3/lib/python3.7/site-packages/sklearn/linear_model/sag.py:334: ConvergenceWarning: The max_iter was reached which means the coef_ did not converge\n",
      "  \"the coef_ did not converge\", ConvergenceWarning)\n"
     ]
    },
    {
     "name": "stdout",
     "output_type": "stream",
     "text": [
      "[CV]  C=11.390625, fit_intercept=False, intercept_scaling=25, solver=liblinear, score=0.5754527162977867, total=   0.5s\n",
      "[CV] C=11.390625, fit_intercept=False, intercept_scaling=25, solver=saga \n",
      "[CV]  C=11.390625, fit_intercept=False, intercept_scaling=25, solver=saga, score=0.5180722891566265, total=   0.1s\n",
      "[CV] C=11.390625, fit_intercept=False, intercept_scaling=25, solver=saga \n"
     ]
    },
    {
     "name": "stderr",
     "output_type": "stream",
     "text": [
      "/anaconda3/lib/python3.7/site-packages/sklearn/linear_model/sag.py:334: ConvergenceWarning: The max_iter was reached which means the coef_ did not converge\n",
      "  \"the coef_ did not converge\", ConvergenceWarning)\n",
      "/anaconda3/lib/python3.7/site-packages/sklearn/linear_model/sag.py:334: ConvergenceWarning: The max_iter was reached which means the coef_ did not converge\n",
      "  \"the coef_ did not converge\", ConvergenceWarning)\n"
     ]
    },
    {
     "name": "stdout",
     "output_type": "stream",
     "text": [
      "[CV]  C=11.390625, fit_intercept=False, intercept_scaling=25, solver=saga, score=0.5200803212851406, total=   0.1s\n",
      "[CV] C=11.390625, fit_intercept=False, intercept_scaling=25, solver=saga \n",
      "[CV]  C=11.390625, fit_intercept=False, intercept_scaling=25, solver=saga, score=0.5010060362173038, total=   0.1s\n",
      "[CV] C=11.390625, fit_intercept=False, intercept_scaling=50, solver=liblinear \n"
     ]
    },
    {
     "name": "stderr",
     "output_type": "stream",
     "text": [
      "/anaconda3/lib/python3.7/site-packages/sklearn/svm/base.py:931: ConvergenceWarning: Liblinear failed to converge, increase the number of iterations.\n",
      "  \"the number of iterations.\", ConvergenceWarning)\n"
     ]
    },
    {
     "name": "stdout",
     "output_type": "stream",
     "text": [
      "[CV]  C=11.390625, fit_intercept=False, intercept_scaling=50, solver=liblinear, score=0.5843373493975904, total=   0.2s\n",
      "[CV] C=11.390625, fit_intercept=False, intercept_scaling=50, solver=liblinear \n"
     ]
    },
    {
     "name": "stderr",
     "output_type": "stream",
     "text": [
      "/anaconda3/lib/python3.7/site-packages/sklearn/svm/base.py:931: ConvergenceWarning: Liblinear failed to converge, increase the number of iterations.\n",
      "  \"the number of iterations.\", ConvergenceWarning)\n"
     ]
    },
    {
     "name": "stdout",
     "output_type": "stream",
     "text": [
      "[CV]  C=11.390625, fit_intercept=False, intercept_scaling=50, solver=liblinear, score=0.5602409638554217, total=   0.4s\n",
      "[CV] C=11.390625, fit_intercept=False, intercept_scaling=50, solver=liblinear \n"
     ]
    },
    {
     "name": "stderr",
     "output_type": "stream",
     "text": [
      "/anaconda3/lib/python3.7/site-packages/sklearn/svm/base.py:931: ConvergenceWarning: Liblinear failed to converge, increase the number of iterations.\n",
      "  \"the number of iterations.\", ConvergenceWarning)\n",
      "/anaconda3/lib/python3.7/site-packages/sklearn/linear_model/sag.py:334: ConvergenceWarning: The max_iter was reached which means the coef_ did not converge\n",
      "  \"the coef_ did not converge\", ConvergenceWarning)\n"
     ]
    },
    {
     "name": "stdout",
     "output_type": "stream",
     "text": [
      "[CV]  C=11.390625, fit_intercept=False, intercept_scaling=50, solver=liblinear, score=0.5754527162977867, total=   0.4s\n",
      "[CV] C=11.390625, fit_intercept=False, intercept_scaling=50, solver=saga \n",
      "[CV]  C=11.390625, fit_intercept=False, intercept_scaling=50, solver=saga, score=0.5170682730923695, total=   0.1s\n",
      "[CV] C=11.390625, fit_intercept=False, intercept_scaling=50, solver=saga \n"
     ]
    },
    {
     "name": "stderr",
     "output_type": "stream",
     "text": [
      "/anaconda3/lib/python3.7/site-packages/sklearn/linear_model/sag.py:334: ConvergenceWarning: The max_iter was reached which means the coef_ did not converge\n",
      "  \"the coef_ did not converge\", ConvergenceWarning)\n",
      "/anaconda3/lib/python3.7/site-packages/sklearn/linear_model/sag.py:334: ConvergenceWarning: The max_iter was reached which means the coef_ did not converge\n",
      "  \"the coef_ did not converge\", ConvergenceWarning)\n"
     ]
    },
    {
     "name": "stdout",
     "output_type": "stream",
     "text": [
      "[CV]  C=11.390625, fit_intercept=False, intercept_scaling=50, solver=saga, score=0.5200803212851406, total=   0.1s\n",
      "[CV] C=11.390625, fit_intercept=False, intercept_scaling=50, solver=saga \n",
      "[CV]  C=11.390625, fit_intercept=False, intercept_scaling=50, solver=saga, score=0.5020120724346077, total=   0.1s\n",
      "[CV] C=11.390625, fit_intercept=False, intercept_scaling=100, solver=liblinear \n"
     ]
    },
    {
     "name": "stderr",
     "output_type": "stream",
     "text": [
      "/anaconda3/lib/python3.7/site-packages/sklearn/svm/base.py:931: ConvergenceWarning: Liblinear failed to converge, increase the number of iterations.\n",
      "  \"the number of iterations.\", ConvergenceWarning)\n"
     ]
    },
    {
     "name": "stdout",
     "output_type": "stream",
     "text": [
      "[CV]  C=11.390625, fit_intercept=False, intercept_scaling=100, solver=liblinear, score=0.5843373493975904, total=   0.2s\n",
      "[CV] C=11.390625, fit_intercept=False, intercept_scaling=100, solver=liblinear \n"
     ]
    },
    {
     "name": "stderr",
     "output_type": "stream",
     "text": [
      "/anaconda3/lib/python3.7/site-packages/sklearn/svm/base.py:931: ConvergenceWarning: Liblinear failed to converge, increase the number of iterations.\n",
      "  \"the number of iterations.\", ConvergenceWarning)\n"
     ]
    },
    {
     "name": "stdout",
     "output_type": "stream",
     "text": [
      "[CV]  C=11.390625, fit_intercept=False, intercept_scaling=100, solver=liblinear, score=0.5602409638554217, total=   0.4s\n",
      "[CV] C=11.390625, fit_intercept=False, intercept_scaling=100, solver=liblinear \n"
     ]
    },
    {
     "name": "stderr",
     "output_type": "stream",
     "text": [
      "/anaconda3/lib/python3.7/site-packages/sklearn/svm/base.py:931: ConvergenceWarning: Liblinear failed to converge, increase the number of iterations.\n",
      "  \"the number of iterations.\", ConvergenceWarning)\n",
      "/anaconda3/lib/python3.7/site-packages/sklearn/linear_model/sag.py:334: ConvergenceWarning: The max_iter was reached which means the coef_ did not converge\n",
      "  \"the coef_ did not converge\", ConvergenceWarning)\n"
     ]
    },
    {
     "name": "stdout",
     "output_type": "stream",
     "text": [
      "[CV]  C=11.390625, fit_intercept=False, intercept_scaling=100, solver=liblinear, score=0.5754527162977867, total=   0.4s\n",
      "[CV] C=11.390625, fit_intercept=False, intercept_scaling=100, solver=saga \n",
      "[CV]  C=11.390625, fit_intercept=False, intercept_scaling=100, solver=saga, score=0.5180722891566265, total=   0.1s\n",
      "[CV] C=11.390625, fit_intercept=False, intercept_scaling=100, solver=saga \n"
     ]
    },
    {
     "name": "stderr",
     "output_type": "stream",
     "text": [
      "/anaconda3/lib/python3.7/site-packages/sklearn/linear_model/sag.py:334: ConvergenceWarning: The max_iter was reached which means the coef_ did not converge\n",
      "  \"the coef_ did not converge\", ConvergenceWarning)\n",
      "/anaconda3/lib/python3.7/site-packages/sklearn/linear_model/sag.py:334: ConvergenceWarning: The max_iter was reached which means the coef_ did not converge\n",
      "  \"the coef_ did not converge\", ConvergenceWarning)\n"
     ]
    },
    {
     "name": "stdout",
     "output_type": "stream",
     "text": [
      "[CV]  C=11.390625, fit_intercept=False, intercept_scaling=100, solver=saga, score=0.5210843373493976, total=   0.2s\n",
      "[CV] C=11.390625, fit_intercept=False, intercept_scaling=100, solver=saga \n",
      "[CV]  C=11.390625, fit_intercept=False, intercept_scaling=100, solver=saga, score=0.5020120724346077, total=   0.1s\n",
      "[CV] C=25.62890625, fit_intercept=True, intercept_scaling=1, solver=liblinear \n"
     ]
    },
    {
     "name": "stderr",
     "output_type": "stream",
     "text": [
      "/anaconda3/lib/python3.7/site-packages/sklearn/svm/base.py:931: ConvergenceWarning: Liblinear failed to converge, increase the number of iterations.\n",
      "  \"the number of iterations.\", ConvergenceWarning)\n"
     ]
    },
    {
     "name": "stdout",
     "output_type": "stream",
     "text": [
      "[CV]  C=25.62890625, fit_intercept=True, intercept_scaling=1, solver=liblinear, score=0.5853413654618473, total=   0.2s\n",
      "[CV] C=25.62890625, fit_intercept=True, intercept_scaling=1, solver=liblinear \n"
     ]
    },
    {
     "name": "stderr",
     "output_type": "stream",
     "text": [
      "/anaconda3/lib/python3.7/site-packages/sklearn/svm/base.py:931: ConvergenceWarning: Liblinear failed to converge, increase the number of iterations.\n",
      "  \"the number of iterations.\", ConvergenceWarning)\n"
     ]
    },
    {
     "name": "stdout",
     "output_type": "stream",
     "text": [
      "[CV]  C=25.62890625, fit_intercept=True, intercept_scaling=1, solver=liblinear, score=0.5612449799196787, total=   0.3s\n",
      "[CV] C=25.62890625, fit_intercept=True, intercept_scaling=1, solver=liblinear \n"
     ]
    },
    {
     "name": "stderr",
     "output_type": "stream",
     "text": [
      "/anaconda3/lib/python3.7/site-packages/sklearn/svm/base.py:931: ConvergenceWarning: Liblinear failed to converge, increase the number of iterations.\n",
      "  \"the number of iterations.\", ConvergenceWarning)\n",
      "/anaconda3/lib/python3.7/site-packages/sklearn/linear_model/sag.py:334: ConvergenceWarning: The max_iter was reached which means the coef_ did not converge\n",
      "  \"the coef_ did not converge\", ConvergenceWarning)\n"
     ]
    },
    {
     "name": "stdout",
     "output_type": "stream",
     "text": [
      "[CV]  C=25.62890625, fit_intercept=True, intercept_scaling=1, solver=liblinear, score=0.5764587525150905, total=   0.6s\n",
      "[CV] C=25.62890625, fit_intercept=True, intercept_scaling=1, solver=saga \n",
      "[CV]  C=25.62890625, fit_intercept=True, intercept_scaling=1, solver=saga, score=0.5180722891566265, total=   0.1s\n",
      "[CV] C=25.62890625, fit_intercept=True, intercept_scaling=1, solver=saga \n"
     ]
    },
    {
     "name": "stderr",
     "output_type": "stream",
     "text": [
      "/anaconda3/lib/python3.7/site-packages/sklearn/linear_model/sag.py:334: ConvergenceWarning: The max_iter was reached which means the coef_ did not converge\n",
      "  \"the coef_ did not converge\", ConvergenceWarning)\n",
      "/anaconda3/lib/python3.7/site-packages/sklearn/linear_model/sag.py:334: ConvergenceWarning: The max_iter was reached which means the coef_ did not converge\n",
      "  \"the coef_ did not converge\", ConvergenceWarning)\n"
     ]
    },
    {
     "name": "stdout",
     "output_type": "stream",
     "text": [
      "[CV]  C=25.62890625, fit_intercept=True, intercept_scaling=1, solver=saga, score=0.5200803212851406, total=   0.1s\n",
      "[CV] C=25.62890625, fit_intercept=True, intercept_scaling=1, solver=saga \n",
      "[CV]  C=25.62890625, fit_intercept=True, intercept_scaling=1, solver=saga, score=0.5020120724346077, total=   0.1s\n",
      "[CV] C=25.62890625, fit_intercept=True, intercept_scaling=5, solver=liblinear \n"
     ]
    },
    {
     "name": "stderr",
     "output_type": "stream",
     "text": [
      "/anaconda3/lib/python3.7/site-packages/sklearn/svm/base.py:931: ConvergenceWarning: Liblinear failed to converge, increase the number of iterations.\n",
      "  \"the number of iterations.\", ConvergenceWarning)\n"
     ]
    },
    {
     "name": "stdout",
     "output_type": "stream",
     "text": [
      "[CV]  C=25.62890625, fit_intercept=True, intercept_scaling=5, solver=liblinear, score=0.5863453815261044, total=   0.2s\n",
      "[CV] C=25.62890625, fit_intercept=True, intercept_scaling=5, solver=liblinear \n"
     ]
    },
    {
     "name": "stderr",
     "output_type": "stream",
     "text": [
      "/anaconda3/lib/python3.7/site-packages/sklearn/svm/base.py:931: ConvergenceWarning: Liblinear failed to converge, increase the number of iterations.\n",
      "  \"the number of iterations.\", ConvergenceWarning)\n"
     ]
    },
    {
     "name": "stdout",
     "output_type": "stream",
     "text": [
      "[CV]  C=25.62890625, fit_intercept=True, intercept_scaling=5, solver=liblinear, score=0.5522088353413654, total=   0.3s\n",
      "[CV] C=25.62890625, fit_intercept=True, intercept_scaling=5, solver=liblinear \n"
     ]
    },
    {
     "name": "stderr",
     "output_type": "stream",
     "text": [
      "/anaconda3/lib/python3.7/site-packages/sklearn/svm/base.py:931: ConvergenceWarning: Liblinear failed to converge, increase the number of iterations.\n",
      "  \"the number of iterations.\", ConvergenceWarning)\n",
      "/anaconda3/lib/python3.7/site-packages/sklearn/linear_model/sag.py:334: ConvergenceWarning: The max_iter was reached which means the coef_ did not converge\n",
      "  \"the coef_ did not converge\", ConvergenceWarning)\n"
     ]
    },
    {
     "name": "stdout",
     "output_type": "stream",
     "text": [
      "[CV]  C=25.62890625, fit_intercept=True, intercept_scaling=5, solver=liblinear, score=0.5744466800804829, total=   0.6s\n",
      "[CV] C=25.62890625, fit_intercept=True, intercept_scaling=5, solver=saga \n",
      "[CV]  C=25.62890625, fit_intercept=True, intercept_scaling=5, solver=saga, score=0.5180722891566265, total=   0.1s\n",
      "[CV] C=25.62890625, fit_intercept=True, intercept_scaling=5, solver=saga \n"
     ]
    },
    {
     "name": "stderr",
     "output_type": "stream",
     "text": [
      "/anaconda3/lib/python3.7/site-packages/sklearn/linear_model/sag.py:334: ConvergenceWarning: The max_iter was reached which means the coef_ did not converge\n",
      "  \"the coef_ did not converge\", ConvergenceWarning)\n",
      "/anaconda3/lib/python3.7/site-packages/sklearn/linear_model/sag.py:334: ConvergenceWarning: The max_iter was reached which means the coef_ did not converge\n",
      "  \"the coef_ did not converge\", ConvergenceWarning)\n"
     ]
    },
    {
     "name": "stdout",
     "output_type": "stream",
     "text": [
      "[CV]  C=25.62890625, fit_intercept=True, intercept_scaling=5, solver=saga, score=0.5210843373493976, total=   0.1s\n",
      "[CV] C=25.62890625, fit_intercept=True, intercept_scaling=5, solver=saga \n",
      "[CV]  C=25.62890625, fit_intercept=True, intercept_scaling=5, solver=saga, score=0.5030181086519114, total=   0.1s\n",
      "[CV] C=25.62890625, fit_intercept=True, intercept_scaling=10, solver=liblinear \n"
     ]
    },
    {
     "name": "stderr",
     "output_type": "stream",
     "text": [
      "/anaconda3/lib/python3.7/site-packages/sklearn/svm/base.py:931: ConvergenceWarning: Liblinear failed to converge, increase the number of iterations.\n",
      "  \"the number of iterations.\", ConvergenceWarning)\n"
     ]
    },
    {
     "name": "stdout",
     "output_type": "stream",
     "text": [
      "[CV]  C=25.62890625, fit_intercept=True, intercept_scaling=10, solver=liblinear, score=0.5973895582329317, total=   0.2s\n",
      "[CV] C=25.62890625, fit_intercept=True, intercept_scaling=10, solver=liblinear \n"
     ]
    },
    {
     "name": "stderr",
     "output_type": "stream",
     "text": [
      "/anaconda3/lib/python3.7/site-packages/sklearn/svm/base.py:931: ConvergenceWarning: Liblinear failed to converge, increase the number of iterations.\n",
      "  \"the number of iterations.\", ConvergenceWarning)\n"
     ]
    },
    {
     "name": "stdout",
     "output_type": "stream",
     "text": [
      "[CV]  C=25.62890625, fit_intercept=True, intercept_scaling=10, solver=liblinear, score=0.5592369477911646, total=   0.5s\n",
      "[CV] C=25.62890625, fit_intercept=True, intercept_scaling=10, solver=liblinear \n"
     ]
    },
    {
     "name": "stderr",
     "output_type": "stream",
     "text": [
      "/anaconda3/lib/python3.7/site-packages/sklearn/svm/base.py:931: ConvergenceWarning: Liblinear failed to converge, increase the number of iterations.\n",
      "  \"the number of iterations.\", ConvergenceWarning)\n",
      "/anaconda3/lib/python3.7/site-packages/sklearn/linear_model/sag.py:334: ConvergenceWarning: The max_iter was reached which means the coef_ did not converge\n",
      "  \"the coef_ did not converge\", ConvergenceWarning)\n"
     ]
    },
    {
     "name": "stdout",
     "output_type": "stream",
     "text": [
      "[CV]  C=25.62890625, fit_intercept=True, intercept_scaling=10, solver=liblinear, score=0.5804828973843058, total=   0.6s\n",
      "[CV] C=25.62890625, fit_intercept=True, intercept_scaling=10, solver=saga \n",
      "[CV]  C=25.62890625, fit_intercept=True, intercept_scaling=10, solver=saga, score=0.5180722891566265, total=   0.1s\n",
      "[CV] C=25.62890625, fit_intercept=True, intercept_scaling=10, solver=saga \n"
     ]
    },
    {
     "name": "stderr",
     "output_type": "stream",
     "text": [
      "/anaconda3/lib/python3.7/site-packages/sklearn/linear_model/sag.py:334: ConvergenceWarning: The max_iter was reached which means the coef_ did not converge\n",
      "  \"the coef_ did not converge\", ConvergenceWarning)\n",
      "/anaconda3/lib/python3.7/site-packages/sklearn/linear_model/sag.py:334: ConvergenceWarning: The max_iter was reached which means the coef_ did not converge\n",
      "  \"the coef_ did not converge\", ConvergenceWarning)\n"
     ]
    },
    {
     "name": "stdout",
     "output_type": "stream",
     "text": [
      "[CV]  C=25.62890625, fit_intercept=True, intercept_scaling=10, solver=saga, score=0.5220883534136547, total=   0.1s\n",
      "[CV] C=25.62890625, fit_intercept=True, intercept_scaling=10, solver=saga \n",
      "[CV]  C=25.62890625, fit_intercept=True, intercept_scaling=10, solver=saga, score=0.5010060362173038, total=   0.2s\n",
      "[CV] C=25.62890625, fit_intercept=True, intercept_scaling=25, solver=liblinear \n"
     ]
    },
    {
     "name": "stderr",
     "output_type": "stream",
     "text": [
      "/anaconda3/lib/python3.7/site-packages/sklearn/svm/base.py:931: ConvergenceWarning: Liblinear failed to converge, increase the number of iterations.\n",
      "  \"the number of iterations.\", ConvergenceWarning)\n"
     ]
    },
    {
     "name": "stdout",
     "output_type": "stream",
     "text": [
      "[CV]  C=25.62890625, fit_intercept=True, intercept_scaling=25, solver=liblinear, score=0.5973895582329317, total=   0.3s\n",
      "[CV] C=25.62890625, fit_intercept=True, intercept_scaling=25, solver=liblinear \n"
     ]
    },
    {
     "name": "stderr",
     "output_type": "stream",
     "text": [
      "/anaconda3/lib/python3.7/site-packages/sklearn/svm/base.py:931: ConvergenceWarning: Liblinear failed to converge, increase the number of iterations.\n",
      "  \"the number of iterations.\", ConvergenceWarning)\n"
     ]
    },
    {
     "name": "stdout",
     "output_type": "stream",
     "text": [
      "[CV]  C=25.62890625, fit_intercept=True, intercept_scaling=25, solver=liblinear, score=0.5672690763052208, total=   0.5s\n",
      "[CV] C=25.62890625, fit_intercept=True, intercept_scaling=25, solver=liblinear \n"
     ]
    },
    {
     "name": "stderr",
     "output_type": "stream",
     "text": [
      "/anaconda3/lib/python3.7/site-packages/sklearn/svm/base.py:931: ConvergenceWarning: Liblinear failed to converge, increase the number of iterations.\n",
      "  \"the number of iterations.\", ConvergenceWarning)\n",
      "/anaconda3/lib/python3.7/site-packages/sklearn/linear_model/sag.py:334: ConvergenceWarning: The max_iter was reached which means the coef_ did not converge\n",
      "  \"the coef_ did not converge\", ConvergenceWarning)\n"
     ]
    },
    {
     "name": "stdout",
     "output_type": "stream",
     "text": [
      "[CV]  C=25.62890625, fit_intercept=True, intercept_scaling=25, solver=liblinear, score=0.5754527162977867, total=   0.4s\n",
      "[CV] C=25.62890625, fit_intercept=True, intercept_scaling=25, solver=saga \n",
      "[CV]  C=25.62890625, fit_intercept=True, intercept_scaling=25, solver=saga, score=0.5170682730923695, total=   0.2s\n",
      "[CV] C=25.62890625, fit_intercept=True, intercept_scaling=25, solver=saga \n"
     ]
    },
    {
     "name": "stderr",
     "output_type": "stream",
     "text": [
      "/anaconda3/lib/python3.7/site-packages/sklearn/linear_model/sag.py:334: ConvergenceWarning: The max_iter was reached which means the coef_ did not converge\n",
      "  \"the coef_ did not converge\", ConvergenceWarning)\n",
      "/anaconda3/lib/python3.7/site-packages/sklearn/linear_model/sag.py:334: ConvergenceWarning: The max_iter was reached which means the coef_ did not converge\n",
      "  \"the coef_ did not converge\", ConvergenceWarning)\n"
     ]
    },
    {
     "name": "stdout",
     "output_type": "stream",
     "text": [
      "[CV]  C=25.62890625, fit_intercept=True, intercept_scaling=25, solver=saga, score=0.5200803212851406, total=   0.1s\n",
      "[CV] C=25.62890625, fit_intercept=True, intercept_scaling=25, solver=saga \n",
      "[CV]  C=25.62890625, fit_intercept=True, intercept_scaling=25, solver=saga, score=0.5020120724346077, total=   0.1s\n",
      "[CV] C=25.62890625, fit_intercept=True, intercept_scaling=50, solver=liblinear \n"
     ]
    },
    {
     "name": "stderr",
     "output_type": "stream",
     "text": [
      "/anaconda3/lib/python3.7/site-packages/sklearn/svm/base.py:931: ConvergenceWarning: Liblinear failed to converge, increase the number of iterations.\n",
      "  \"the number of iterations.\", ConvergenceWarning)\n"
     ]
    },
    {
     "name": "stdout",
     "output_type": "stream",
     "text": [
      "[CV]  C=25.62890625, fit_intercept=True, intercept_scaling=50, solver=liblinear, score=0.5953815261044176, total=   0.3s\n",
      "[CV] C=25.62890625, fit_intercept=True, intercept_scaling=50, solver=liblinear \n"
     ]
    },
    {
     "name": "stderr",
     "output_type": "stream",
     "text": [
      "/anaconda3/lib/python3.7/site-packages/sklearn/svm/base.py:931: ConvergenceWarning: Liblinear failed to converge, increase the number of iterations.\n",
      "  \"the number of iterations.\", ConvergenceWarning)\n"
     ]
    },
    {
     "name": "stdout",
     "output_type": "stream",
     "text": [
      "[CV]  C=25.62890625, fit_intercept=True, intercept_scaling=50, solver=liblinear, score=0.5592369477911646, total=   0.4s\n",
      "[CV] C=25.62890625, fit_intercept=True, intercept_scaling=50, solver=liblinear \n"
     ]
    },
    {
     "name": "stderr",
     "output_type": "stream",
     "text": [
      "/anaconda3/lib/python3.7/site-packages/sklearn/svm/base.py:931: ConvergenceWarning: Liblinear failed to converge, increase the number of iterations.\n",
      "  \"the number of iterations.\", ConvergenceWarning)\n",
      "/anaconda3/lib/python3.7/site-packages/sklearn/linear_model/sag.py:334: ConvergenceWarning: The max_iter was reached which means the coef_ did not converge\n",
      "  \"the coef_ did not converge\", ConvergenceWarning)\n"
     ]
    },
    {
     "name": "stdout",
     "output_type": "stream",
     "text": [
      "[CV]  C=25.62890625, fit_intercept=True, intercept_scaling=50, solver=liblinear, score=0.5533199195171026, total=   0.3s\n",
      "[CV] C=25.62890625, fit_intercept=True, intercept_scaling=50, solver=saga \n",
      "[CV]  C=25.62890625, fit_intercept=True, intercept_scaling=50, solver=saga, score=0.5170682730923695, total=   0.1s\n",
      "[CV] C=25.62890625, fit_intercept=True, intercept_scaling=50, solver=saga \n"
     ]
    },
    {
     "name": "stderr",
     "output_type": "stream",
     "text": [
      "/anaconda3/lib/python3.7/site-packages/sklearn/linear_model/sag.py:334: ConvergenceWarning: The max_iter was reached which means the coef_ did not converge\n",
      "  \"the coef_ did not converge\", ConvergenceWarning)\n",
      "/anaconda3/lib/python3.7/site-packages/sklearn/linear_model/sag.py:334: ConvergenceWarning: The max_iter was reached which means the coef_ did not converge\n",
      "  \"the coef_ did not converge\", ConvergenceWarning)\n"
     ]
    },
    {
     "name": "stdout",
     "output_type": "stream",
     "text": [
      "[CV]  C=25.62890625, fit_intercept=True, intercept_scaling=50, solver=saga, score=0.5220883534136547, total=   0.1s\n",
      "[CV] C=25.62890625, fit_intercept=True, intercept_scaling=50, solver=saga \n",
      "[CV]  C=25.62890625, fit_intercept=True, intercept_scaling=50, solver=saga, score=0.5020120724346077, total=   0.1s\n",
      "[CV] C=25.62890625, fit_intercept=True, intercept_scaling=100, solver=liblinear \n"
     ]
    },
    {
     "name": "stderr",
     "output_type": "stream",
     "text": [
      "/anaconda3/lib/python3.7/site-packages/sklearn/svm/base.py:931: ConvergenceWarning: Liblinear failed to converge, increase the number of iterations.\n",
      "  \"the number of iterations.\", ConvergenceWarning)\n"
     ]
    },
    {
     "name": "stdout",
     "output_type": "stream",
     "text": [
      "[CV]  C=25.62890625, fit_intercept=True, intercept_scaling=100, solver=liblinear, score=0.5883534136546185, total=   0.2s\n",
      "[CV] C=25.62890625, fit_intercept=True, intercept_scaling=100, solver=liblinear \n"
     ]
    },
    {
     "name": "stderr",
     "output_type": "stream",
     "text": [
      "/anaconda3/lib/python3.7/site-packages/sklearn/svm/base.py:931: ConvergenceWarning: Liblinear failed to converge, increase the number of iterations.\n",
      "  \"the number of iterations.\", ConvergenceWarning)\n"
     ]
    },
    {
     "name": "stdout",
     "output_type": "stream",
     "text": [
      "[CV]  C=25.62890625, fit_intercept=True, intercept_scaling=100, solver=liblinear, score=0.5582329317269076, total=   0.3s\n",
      "[CV] C=25.62890625, fit_intercept=True, intercept_scaling=100, solver=liblinear \n"
     ]
    },
    {
     "name": "stderr",
     "output_type": "stream",
     "text": [
      "/anaconda3/lib/python3.7/site-packages/sklearn/svm/base.py:931: ConvergenceWarning: Liblinear failed to converge, increase the number of iterations.\n",
      "  \"the number of iterations.\", ConvergenceWarning)\n",
      "/anaconda3/lib/python3.7/site-packages/sklearn/linear_model/sag.py:334: ConvergenceWarning: The max_iter was reached which means the coef_ did not converge\n",
      "  \"the coef_ did not converge\", ConvergenceWarning)\n"
     ]
    },
    {
     "name": "stdout",
     "output_type": "stream",
     "text": [
      "[CV]  C=25.62890625, fit_intercept=True, intercept_scaling=100, solver=liblinear, score=0.5663983903420523, total=   0.4s\n",
      "[CV] C=25.62890625, fit_intercept=True, intercept_scaling=100, solver=saga \n",
      "[CV]  C=25.62890625, fit_intercept=True, intercept_scaling=100, solver=saga, score=0.5190763052208835, total=   0.1s\n",
      "[CV] C=25.62890625, fit_intercept=True, intercept_scaling=100, solver=saga \n"
     ]
    },
    {
     "name": "stderr",
     "output_type": "stream",
     "text": [
      "/anaconda3/lib/python3.7/site-packages/sklearn/linear_model/sag.py:334: ConvergenceWarning: The max_iter was reached which means the coef_ did not converge\n",
      "  \"the coef_ did not converge\", ConvergenceWarning)\n",
      "/anaconda3/lib/python3.7/site-packages/sklearn/linear_model/sag.py:334: ConvergenceWarning: The max_iter was reached which means the coef_ did not converge\n",
      "  \"the coef_ did not converge\", ConvergenceWarning)\n"
     ]
    },
    {
     "name": "stdout",
     "output_type": "stream",
     "text": [
      "[CV]  C=25.62890625, fit_intercept=True, intercept_scaling=100, solver=saga, score=0.5200803212851406, total=   0.1s\n",
      "[CV] C=25.62890625, fit_intercept=True, intercept_scaling=100, solver=saga \n",
      "[CV]  C=25.62890625, fit_intercept=True, intercept_scaling=100, solver=saga, score=0.5020120724346077, total=   0.1s\n",
      "[CV] C=25.62890625, fit_intercept=False, intercept_scaling=1, solver=liblinear \n"
     ]
    },
    {
     "name": "stderr",
     "output_type": "stream",
     "text": [
      "/anaconda3/lib/python3.7/site-packages/sklearn/svm/base.py:931: ConvergenceWarning: Liblinear failed to converge, increase the number of iterations.\n",
      "  \"the number of iterations.\", ConvergenceWarning)\n"
     ]
    },
    {
     "name": "stdout",
     "output_type": "stream",
     "text": [
      "[CV]  C=25.62890625, fit_intercept=False, intercept_scaling=1, solver=liblinear, score=0.5893574297188755, total=   0.3s\n",
      "[CV] C=25.62890625, fit_intercept=False, intercept_scaling=1, solver=liblinear \n"
     ]
    },
    {
     "name": "stderr",
     "output_type": "stream",
     "text": [
      "/anaconda3/lib/python3.7/site-packages/sklearn/svm/base.py:931: ConvergenceWarning: Liblinear failed to converge, increase the number of iterations.\n",
      "  \"the number of iterations.\", ConvergenceWarning)\n"
     ]
    },
    {
     "name": "stdout",
     "output_type": "stream",
     "text": [
      "[CV]  C=25.62890625, fit_intercept=False, intercept_scaling=1, solver=liblinear, score=0.5612449799196787, total=   0.3s\n",
      "[CV] C=25.62890625, fit_intercept=False, intercept_scaling=1, solver=liblinear \n"
     ]
    },
    {
     "name": "stderr",
     "output_type": "stream",
     "text": [
      "/anaconda3/lib/python3.7/site-packages/sklearn/svm/base.py:931: ConvergenceWarning: Liblinear failed to converge, increase the number of iterations.\n",
      "  \"the number of iterations.\", ConvergenceWarning)\n",
      "/anaconda3/lib/python3.7/site-packages/sklearn/linear_model/sag.py:334: ConvergenceWarning: The max_iter was reached which means the coef_ did not converge\n",
      "  \"the coef_ did not converge\", ConvergenceWarning)\n"
     ]
    },
    {
     "name": "stdout",
     "output_type": "stream",
     "text": [
      "[CV]  C=25.62890625, fit_intercept=False, intercept_scaling=1, solver=liblinear, score=0.5784708249496981, total=   0.4s\n",
      "[CV] C=25.62890625, fit_intercept=False, intercept_scaling=1, solver=saga \n",
      "[CV]  C=25.62890625, fit_intercept=False, intercept_scaling=1, solver=saga, score=0.5180722891566265, total=   0.1s\n",
      "[CV] C=25.62890625, fit_intercept=False, intercept_scaling=1, solver=saga \n"
     ]
    },
    {
     "name": "stderr",
     "output_type": "stream",
     "text": [
      "/anaconda3/lib/python3.7/site-packages/sklearn/linear_model/sag.py:334: ConvergenceWarning: The max_iter was reached which means the coef_ did not converge\n",
      "  \"the coef_ did not converge\", ConvergenceWarning)\n",
      "/anaconda3/lib/python3.7/site-packages/sklearn/linear_model/sag.py:334: ConvergenceWarning: The max_iter was reached which means the coef_ did not converge\n",
      "  \"the coef_ did not converge\", ConvergenceWarning)\n"
     ]
    },
    {
     "name": "stdout",
     "output_type": "stream",
     "text": [
      "[CV]  C=25.62890625, fit_intercept=False, intercept_scaling=1, solver=saga, score=0.5210843373493976, total=   0.1s\n",
      "[CV] C=25.62890625, fit_intercept=False, intercept_scaling=1, solver=saga \n",
      "[CV]  C=25.62890625, fit_intercept=False, intercept_scaling=1, solver=saga, score=0.5010060362173038, total=   0.1s\n",
      "[CV] C=25.62890625, fit_intercept=False, intercept_scaling=5, solver=liblinear \n"
     ]
    },
    {
     "name": "stderr",
     "output_type": "stream",
     "text": [
      "/anaconda3/lib/python3.7/site-packages/sklearn/svm/base.py:931: ConvergenceWarning: Liblinear failed to converge, increase the number of iterations.\n",
      "  \"the number of iterations.\", ConvergenceWarning)\n"
     ]
    },
    {
     "name": "stdout",
     "output_type": "stream",
     "text": [
      "[CV]  C=25.62890625, fit_intercept=False, intercept_scaling=5, solver=liblinear, score=0.5893574297188755, total=   0.3s\n",
      "[CV] C=25.62890625, fit_intercept=False, intercept_scaling=5, solver=liblinear \n"
     ]
    },
    {
     "name": "stderr",
     "output_type": "stream",
     "text": [
      "/anaconda3/lib/python3.7/site-packages/sklearn/svm/base.py:931: ConvergenceWarning: Liblinear failed to converge, increase the number of iterations.\n",
      "  \"the number of iterations.\", ConvergenceWarning)\n"
     ]
    },
    {
     "name": "stdout",
     "output_type": "stream",
     "text": [
      "[CV]  C=25.62890625, fit_intercept=False, intercept_scaling=5, solver=liblinear, score=0.5612449799196787, total=   0.3s\n",
      "[CV] C=25.62890625, fit_intercept=False, intercept_scaling=5, solver=liblinear \n"
     ]
    },
    {
     "name": "stderr",
     "output_type": "stream",
     "text": [
      "/anaconda3/lib/python3.7/site-packages/sklearn/svm/base.py:931: ConvergenceWarning: Liblinear failed to converge, increase the number of iterations.\n",
      "  \"the number of iterations.\", ConvergenceWarning)\n",
      "/anaconda3/lib/python3.7/site-packages/sklearn/linear_model/sag.py:334: ConvergenceWarning: The max_iter was reached which means the coef_ did not converge\n",
      "  \"the coef_ did not converge\", ConvergenceWarning)\n"
     ]
    },
    {
     "name": "stdout",
     "output_type": "stream",
     "text": [
      "[CV]  C=25.62890625, fit_intercept=False, intercept_scaling=5, solver=liblinear, score=0.5784708249496981, total=   0.4s\n",
      "[CV] C=25.62890625, fit_intercept=False, intercept_scaling=5, solver=saga \n",
      "[CV]  C=25.62890625, fit_intercept=False, intercept_scaling=5, solver=saga, score=0.5170682730923695, total=   0.1s\n",
      "[CV] C=25.62890625, fit_intercept=False, intercept_scaling=5, solver=saga \n"
     ]
    },
    {
     "name": "stderr",
     "output_type": "stream",
     "text": [
      "/anaconda3/lib/python3.7/site-packages/sklearn/linear_model/sag.py:334: ConvergenceWarning: The max_iter was reached which means the coef_ did not converge\n",
      "  \"the coef_ did not converge\", ConvergenceWarning)\n",
      "/anaconda3/lib/python3.7/site-packages/sklearn/linear_model/sag.py:334: ConvergenceWarning: The max_iter was reached which means the coef_ did not converge\n",
      "  \"the coef_ did not converge\", ConvergenceWarning)\n"
     ]
    },
    {
     "name": "stdout",
     "output_type": "stream",
     "text": [
      "[CV]  C=25.62890625, fit_intercept=False, intercept_scaling=5, solver=saga, score=0.5190763052208835, total=   0.1s\n",
      "[CV] C=25.62890625, fit_intercept=False, intercept_scaling=5, solver=saga \n",
      "[CV]  C=25.62890625, fit_intercept=False, intercept_scaling=5, solver=saga, score=0.5010060362173038, total=   0.1s\n",
      "[CV] C=25.62890625, fit_intercept=False, intercept_scaling=10, solver=liblinear \n"
     ]
    },
    {
     "name": "stderr",
     "output_type": "stream",
     "text": [
      "/anaconda3/lib/python3.7/site-packages/sklearn/svm/base.py:931: ConvergenceWarning: Liblinear failed to converge, increase the number of iterations.\n",
      "  \"the number of iterations.\", ConvergenceWarning)\n"
     ]
    },
    {
     "name": "stdout",
     "output_type": "stream",
     "text": [
      "[CV]  C=25.62890625, fit_intercept=False, intercept_scaling=10, solver=liblinear, score=0.5893574297188755, total=   0.3s\n",
      "[CV] C=25.62890625, fit_intercept=False, intercept_scaling=10, solver=liblinear \n"
     ]
    },
    {
     "name": "stderr",
     "output_type": "stream",
     "text": [
      "/anaconda3/lib/python3.7/site-packages/sklearn/svm/base.py:931: ConvergenceWarning: Liblinear failed to converge, increase the number of iterations.\n",
      "  \"the number of iterations.\", ConvergenceWarning)\n"
     ]
    },
    {
     "name": "stdout",
     "output_type": "stream",
     "text": [
      "[CV]  C=25.62890625, fit_intercept=False, intercept_scaling=10, solver=liblinear, score=0.5612449799196787, total=   0.3s\n",
      "[CV] C=25.62890625, fit_intercept=False, intercept_scaling=10, solver=liblinear \n"
     ]
    },
    {
     "name": "stderr",
     "output_type": "stream",
     "text": [
      "/anaconda3/lib/python3.7/site-packages/sklearn/svm/base.py:931: ConvergenceWarning: Liblinear failed to converge, increase the number of iterations.\n",
      "  \"the number of iterations.\", ConvergenceWarning)\n",
      "/anaconda3/lib/python3.7/site-packages/sklearn/linear_model/sag.py:334: ConvergenceWarning: The max_iter was reached which means the coef_ did not converge\n",
      "  \"the coef_ did not converge\", ConvergenceWarning)\n"
     ]
    },
    {
     "name": "stdout",
     "output_type": "stream",
     "text": [
      "[CV]  C=25.62890625, fit_intercept=False, intercept_scaling=10, solver=liblinear, score=0.5784708249496981, total=   0.4s\n",
      "[CV] C=25.62890625, fit_intercept=False, intercept_scaling=10, solver=saga \n",
      "[CV]  C=25.62890625, fit_intercept=False, intercept_scaling=10, solver=saga, score=0.5180722891566265, total=   0.1s\n",
      "[CV] C=25.62890625, fit_intercept=False, intercept_scaling=10, solver=saga \n"
     ]
    },
    {
     "name": "stderr",
     "output_type": "stream",
     "text": [
      "/anaconda3/lib/python3.7/site-packages/sklearn/linear_model/sag.py:334: ConvergenceWarning: The max_iter was reached which means the coef_ did not converge\n",
      "  \"the coef_ did not converge\", ConvergenceWarning)\n",
      "/anaconda3/lib/python3.7/site-packages/sklearn/linear_model/sag.py:334: ConvergenceWarning: The max_iter was reached which means the coef_ did not converge\n",
      "  \"the coef_ did not converge\", ConvergenceWarning)\n"
     ]
    },
    {
     "name": "stdout",
     "output_type": "stream",
     "text": [
      "[CV]  C=25.62890625, fit_intercept=False, intercept_scaling=10, solver=saga, score=0.5220883534136547, total=   0.1s\n",
      "[CV] C=25.62890625, fit_intercept=False, intercept_scaling=10, solver=saga \n",
      "[CV]  C=25.62890625, fit_intercept=False, intercept_scaling=10, solver=saga, score=0.5010060362173038, total=   0.1s\n",
      "[CV] C=25.62890625, fit_intercept=False, intercept_scaling=25, solver=liblinear \n"
     ]
    },
    {
     "name": "stderr",
     "output_type": "stream",
     "text": [
      "/anaconda3/lib/python3.7/site-packages/sklearn/svm/base.py:931: ConvergenceWarning: Liblinear failed to converge, increase the number of iterations.\n",
      "  \"the number of iterations.\", ConvergenceWarning)\n"
     ]
    },
    {
     "name": "stdout",
     "output_type": "stream",
     "text": [
      "[CV]  C=25.62890625, fit_intercept=False, intercept_scaling=25, solver=liblinear, score=0.5893574297188755, total=   0.3s\n",
      "[CV] C=25.62890625, fit_intercept=False, intercept_scaling=25, solver=liblinear \n"
     ]
    },
    {
     "name": "stderr",
     "output_type": "stream",
     "text": [
      "/anaconda3/lib/python3.7/site-packages/sklearn/svm/base.py:931: ConvergenceWarning: Liblinear failed to converge, increase the number of iterations.\n",
      "  \"the number of iterations.\", ConvergenceWarning)\n"
     ]
    },
    {
     "name": "stdout",
     "output_type": "stream",
     "text": [
      "[CV]  C=25.62890625, fit_intercept=False, intercept_scaling=25, solver=liblinear, score=0.5612449799196787, total=   0.3s\n",
      "[CV] C=25.62890625, fit_intercept=False, intercept_scaling=25, solver=liblinear \n"
     ]
    },
    {
     "name": "stderr",
     "output_type": "stream",
     "text": [
      "/anaconda3/lib/python3.7/site-packages/sklearn/svm/base.py:931: ConvergenceWarning: Liblinear failed to converge, increase the number of iterations.\n",
      "  \"the number of iterations.\", ConvergenceWarning)\n",
      "/anaconda3/lib/python3.7/site-packages/sklearn/linear_model/sag.py:334: ConvergenceWarning: The max_iter was reached which means the coef_ did not converge\n",
      "  \"the coef_ did not converge\", ConvergenceWarning)\n"
     ]
    },
    {
     "name": "stdout",
     "output_type": "stream",
     "text": [
      "[CV]  C=25.62890625, fit_intercept=False, intercept_scaling=25, solver=liblinear, score=0.5784708249496981, total=   0.4s\n",
      "[CV] C=25.62890625, fit_intercept=False, intercept_scaling=25, solver=saga \n",
      "[CV]  C=25.62890625, fit_intercept=False, intercept_scaling=25, solver=saga, score=0.5190763052208835, total=   0.1s\n",
      "[CV] C=25.62890625, fit_intercept=False, intercept_scaling=25, solver=saga \n"
     ]
    },
    {
     "name": "stderr",
     "output_type": "stream",
     "text": [
      "/anaconda3/lib/python3.7/site-packages/sklearn/linear_model/sag.py:334: ConvergenceWarning: The max_iter was reached which means the coef_ did not converge\n",
      "  \"the coef_ did not converge\", ConvergenceWarning)\n",
      "/anaconda3/lib/python3.7/site-packages/sklearn/linear_model/sag.py:334: ConvergenceWarning: The max_iter was reached which means the coef_ did not converge\n",
      "  \"the coef_ did not converge\", ConvergenceWarning)\n"
     ]
    },
    {
     "name": "stdout",
     "output_type": "stream",
     "text": [
      "[CV]  C=25.62890625, fit_intercept=False, intercept_scaling=25, solver=saga, score=0.5190763052208835, total=   0.1s\n",
      "[CV] C=25.62890625, fit_intercept=False, intercept_scaling=25, solver=saga \n",
      "[CV]  C=25.62890625, fit_intercept=False, intercept_scaling=25, solver=saga, score=0.5020120724346077, total=   0.1s\n",
      "[CV] C=25.62890625, fit_intercept=False, intercept_scaling=50, solver=liblinear \n"
     ]
    },
    {
     "name": "stderr",
     "output_type": "stream",
     "text": [
      "/anaconda3/lib/python3.7/site-packages/sklearn/svm/base.py:931: ConvergenceWarning: Liblinear failed to converge, increase the number of iterations.\n",
      "  \"the number of iterations.\", ConvergenceWarning)\n"
     ]
    },
    {
     "name": "stdout",
     "output_type": "stream",
     "text": [
      "[CV]  C=25.62890625, fit_intercept=False, intercept_scaling=50, solver=liblinear, score=0.5893574297188755, total=   0.3s\n",
      "[CV] C=25.62890625, fit_intercept=False, intercept_scaling=50, solver=liblinear \n"
     ]
    },
    {
     "name": "stderr",
     "output_type": "stream",
     "text": [
      "/anaconda3/lib/python3.7/site-packages/sklearn/svm/base.py:931: ConvergenceWarning: Liblinear failed to converge, increase the number of iterations.\n",
      "  \"the number of iterations.\", ConvergenceWarning)\n"
     ]
    },
    {
     "name": "stdout",
     "output_type": "stream",
     "text": [
      "[CV]  C=25.62890625, fit_intercept=False, intercept_scaling=50, solver=liblinear, score=0.5612449799196787, total=   0.3s\n",
      "[CV] C=25.62890625, fit_intercept=False, intercept_scaling=50, solver=liblinear \n"
     ]
    },
    {
     "name": "stderr",
     "output_type": "stream",
     "text": [
      "/anaconda3/lib/python3.7/site-packages/sklearn/svm/base.py:931: ConvergenceWarning: Liblinear failed to converge, increase the number of iterations.\n",
      "  \"the number of iterations.\", ConvergenceWarning)\n",
      "/anaconda3/lib/python3.7/site-packages/sklearn/linear_model/sag.py:334: ConvergenceWarning: The max_iter was reached which means the coef_ did not converge\n",
      "  \"the coef_ did not converge\", ConvergenceWarning)\n"
     ]
    },
    {
     "name": "stdout",
     "output_type": "stream",
     "text": [
      "[CV]  C=25.62890625, fit_intercept=False, intercept_scaling=50, solver=liblinear, score=0.5784708249496981, total=   0.4s\n",
      "[CV] C=25.62890625, fit_intercept=False, intercept_scaling=50, solver=saga \n",
      "[CV]  C=25.62890625, fit_intercept=False, intercept_scaling=50, solver=saga, score=0.5180722891566265, total=   0.1s\n",
      "[CV] C=25.62890625, fit_intercept=False, intercept_scaling=50, solver=saga \n"
     ]
    },
    {
     "name": "stderr",
     "output_type": "stream",
     "text": [
      "/anaconda3/lib/python3.7/site-packages/sklearn/linear_model/sag.py:334: ConvergenceWarning: The max_iter was reached which means the coef_ did not converge\n",
      "  \"the coef_ did not converge\", ConvergenceWarning)\n",
      "/anaconda3/lib/python3.7/site-packages/sklearn/linear_model/sag.py:334: ConvergenceWarning: The max_iter was reached which means the coef_ did not converge\n",
      "  \"the coef_ did not converge\", ConvergenceWarning)\n"
     ]
    },
    {
     "name": "stdout",
     "output_type": "stream",
     "text": [
      "[CV]  C=25.62890625, fit_intercept=False, intercept_scaling=50, solver=saga, score=0.5220883534136547, total=   0.1s\n",
      "[CV] C=25.62890625, fit_intercept=False, intercept_scaling=50, solver=saga \n",
      "[CV]  C=25.62890625, fit_intercept=False, intercept_scaling=50, solver=saga, score=0.5020120724346077, total=   0.1s\n",
      "[CV] C=25.62890625, fit_intercept=False, intercept_scaling=100, solver=liblinear \n"
     ]
    },
    {
     "name": "stderr",
     "output_type": "stream",
     "text": [
      "/anaconda3/lib/python3.7/site-packages/sklearn/svm/base.py:931: ConvergenceWarning: Liblinear failed to converge, increase the number of iterations.\n",
      "  \"the number of iterations.\", ConvergenceWarning)\n"
     ]
    },
    {
     "name": "stdout",
     "output_type": "stream",
     "text": [
      "[CV]  C=25.62890625, fit_intercept=False, intercept_scaling=100, solver=liblinear, score=0.5893574297188755, total=   0.3s\n",
      "[CV] C=25.62890625, fit_intercept=False, intercept_scaling=100, solver=liblinear \n"
     ]
    },
    {
     "name": "stderr",
     "output_type": "stream",
     "text": [
      "/anaconda3/lib/python3.7/site-packages/sklearn/svm/base.py:931: ConvergenceWarning: Liblinear failed to converge, increase the number of iterations.\n",
      "  \"the number of iterations.\", ConvergenceWarning)\n"
     ]
    },
    {
     "name": "stdout",
     "output_type": "stream",
     "text": [
      "[CV]  C=25.62890625, fit_intercept=False, intercept_scaling=100, solver=liblinear, score=0.5612449799196787, total=   0.3s\n",
      "[CV] C=25.62890625, fit_intercept=False, intercept_scaling=100, solver=liblinear \n"
     ]
    },
    {
     "name": "stderr",
     "output_type": "stream",
     "text": [
      "/anaconda3/lib/python3.7/site-packages/sklearn/svm/base.py:931: ConvergenceWarning: Liblinear failed to converge, increase the number of iterations.\n",
      "  \"the number of iterations.\", ConvergenceWarning)\n",
      "/anaconda3/lib/python3.7/site-packages/sklearn/linear_model/sag.py:334: ConvergenceWarning: The max_iter was reached which means the coef_ did not converge\n",
      "  \"the coef_ did not converge\", ConvergenceWarning)\n"
     ]
    },
    {
     "name": "stdout",
     "output_type": "stream",
     "text": [
      "[CV]  C=25.62890625, fit_intercept=False, intercept_scaling=100, solver=liblinear, score=0.5784708249496981, total=   0.4s\n",
      "[CV] C=25.62890625, fit_intercept=False, intercept_scaling=100, solver=saga \n",
      "[CV]  C=25.62890625, fit_intercept=False, intercept_scaling=100, solver=saga, score=0.5170682730923695, total=   0.1s\n",
      "[CV] C=25.62890625, fit_intercept=False, intercept_scaling=100, solver=saga \n"
     ]
    },
    {
     "name": "stderr",
     "output_type": "stream",
     "text": [
      "/anaconda3/lib/python3.7/site-packages/sklearn/linear_model/sag.py:334: ConvergenceWarning: The max_iter was reached which means the coef_ did not converge\n",
      "  \"the coef_ did not converge\", ConvergenceWarning)\n",
      "/anaconda3/lib/python3.7/site-packages/sklearn/linear_model/sag.py:334: ConvergenceWarning: The max_iter was reached which means the coef_ did not converge\n",
      "  \"the coef_ did not converge\", ConvergenceWarning)\n"
     ]
    },
    {
     "name": "stdout",
     "output_type": "stream",
     "text": [
      "[CV]  C=25.62890625, fit_intercept=False, intercept_scaling=100, solver=saga, score=0.5200803212851406, total=   0.1s\n",
      "[CV] C=25.62890625, fit_intercept=False, intercept_scaling=100, solver=saga \n",
      "[CV]  C=25.62890625, fit_intercept=False, intercept_scaling=100, solver=saga, score=0.5010060362173038, total=   0.1s\n",
      "[CV] C=57.6650390625, fit_intercept=True, intercept_scaling=1, solver=liblinear \n"
     ]
    },
    {
     "name": "stderr",
     "output_type": "stream",
     "text": [
      "/anaconda3/lib/python3.7/site-packages/sklearn/svm/base.py:931: ConvergenceWarning: Liblinear failed to converge, increase the number of iterations.\n",
      "  \"the number of iterations.\", ConvergenceWarning)\n"
     ]
    },
    {
     "name": "stdout",
     "output_type": "stream",
     "text": [
      "[CV]  C=57.6650390625, fit_intercept=True, intercept_scaling=1, solver=liblinear, score=0.5873493975903614, total=   0.2s\n",
      "[CV] C=57.6650390625, fit_intercept=True, intercept_scaling=1, solver=liblinear \n"
     ]
    },
    {
     "name": "stderr",
     "output_type": "stream",
     "text": [
      "/anaconda3/lib/python3.7/site-packages/sklearn/svm/base.py:931: ConvergenceWarning: Liblinear failed to converge, increase the number of iterations.\n",
      "  \"the number of iterations.\", ConvergenceWarning)\n"
     ]
    },
    {
     "name": "stdout",
     "output_type": "stream",
     "text": [
      "[CV]  C=57.6650390625, fit_intercept=True, intercept_scaling=1, solver=liblinear, score=0.5642570281124498, total=   0.4s\n",
      "[CV] C=57.6650390625, fit_intercept=True, intercept_scaling=1, solver=liblinear \n",
      "[CV]  C=57.6650390625, fit_intercept=True, intercept_scaling=1, solver=liblinear, score=0.5734406438631791, total=   0.5s\n",
      "[CV] C=57.6650390625, fit_intercept=True, intercept_scaling=1, solver=saga \n",
      "[CV]  C=57.6650390625, fit_intercept=True, intercept_scaling=1, solver=saga, score=0.5180722891566265, total=   0.1s\n",
      "[CV] C=57.6650390625, fit_intercept=True, intercept_scaling=1, solver=saga \n"
     ]
    },
    {
     "name": "stderr",
     "output_type": "stream",
     "text": [
      "/anaconda3/lib/python3.7/site-packages/sklearn/linear_model/sag.py:334: ConvergenceWarning: The max_iter was reached which means the coef_ did not converge\n",
      "  \"the coef_ did not converge\", ConvergenceWarning)\n",
      "/anaconda3/lib/python3.7/site-packages/sklearn/linear_model/sag.py:334: ConvergenceWarning: The max_iter was reached which means the coef_ did not converge\n",
      "  \"the coef_ did not converge\", ConvergenceWarning)\n"
     ]
    },
    {
     "name": "stdout",
     "output_type": "stream",
     "text": [
      "[CV]  C=57.6650390625, fit_intercept=True, intercept_scaling=1, solver=saga, score=0.5230923694779116, total=   0.1s\n",
      "[CV] C=57.6650390625, fit_intercept=True, intercept_scaling=1, solver=saga \n",
      "[CV]  C=57.6650390625, fit_intercept=True, intercept_scaling=1, solver=saga, score=0.5010060362173038, total=   0.1s\n",
      "[CV] C=57.6650390625, fit_intercept=True, intercept_scaling=5, solver=liblinear \n"
     ]
    },
    {
     "name": "stderr",
     "output_type": "stream",
     "text": [
      "/anaconda3/lib/python3.7/site-packages/sklearn/linear_model/sag.py:334: ConvergenceWarning: The max_iter was reached which means the coef_ did not converge\n",
      "  \"the coef_ did not converge\", ConvergenceWarning)\n",
      "/anaconda3/lib/python3.7/site-packages/sklearn/svm/base.py:931: ConvergenceWarning: Liblinear failed to converge, increase the number of iterations.\n",
      "  \"the number of iterations.\", ConvergenceWarning)\n"
     ]
    },
    {
     "name": "stdout",
     "output_type": "stream",
     "text": [
      "[CV]  C=57.6650390625, fit_intercept=True, intercept_scaling=5, solver=liblinear, score=0.5943775100401606, total=   0.2s\n",
      "[CV] C=57.6650390625, fit_intercept=True, intercept_scaling=5, solver=liblinear \n"
     ]
    },
    {
     "name": "stderr",
     "output_type": "stream",
     "text": [
      "/anaconda3/lib/python3.7/site-packages/sklearn/svm/base.py:931: ConvergenceWarning: Liblinear failed to converge, increase the number of iterations.\n",
      "  \"the number of iterations.\", ConvergenceWarning)\n"
     ]
    },
    {
     "name": "stdout",
     "output_type": "stream",
     "text": [
      "[CV]  C=57.6650390625, fit_intercept=True, intercept_scaling=5, solver=liblinear, score=0.5592369477911646, total=   0.3s\n",
      "[CV] C=57.6650390625, fit_intercept=True, intercept_scaling=5, solver=liblinear \n"
     ]
    },
    {
     "name": "stderr",
     "output_type": "stream",
     "text": [
      "/anaconda3/lib/python3.7/site-packages/sklearn/svm/base.py:931: ConvergenceWarning: Liblinear failed to converge, increase the number of iterations.\n",
      "  \"the number of iterations.\", ConvergenceWarning)\n",
      "/anaconda3/lib/python3.7/site-packages/sklearn/linear_model/sag.py:334: ConvergenceWarning: The max_iter was reached which means the coef_ did not converge\n",
      "  \"the coef_ did not converge\", ConvergenceWarning)\n"
     ]
    },
    {
     "name": "stdout",
     "output_type": "stream",
     "text": [
      "[CV]  C=57.6650390625, fit_intercept=True, intercept_scaling=5, solver=liblinear, score=0.5754527162977867, total=   0.5s\n",
      "[CV] C=57.6650390625, fit_intercept=True, intercept_scaling=5, solver=saga \n",
      "[CV]  C=57.6650390625, fit_intercept=True, intercept_scaling=5, solver=saga, score=0.5170682730923695, total=   0.1s\n",
      "[CV] C=57.6650390625, fit_intercept=True, intercept_scaling=5, solver=saga \n"
     ]
    },
    {
     "name": "stderr",
     "output_type": "stream",
     "text": [
      "/anaconda3/lib/python3.7/site-packages/sklearn/linear_model/sag.py:334: ConvergenceWarning: The max_iter was reached which means the coef_ did not converge\n",
      "  \"the coef_ did not converge\", ConvergenceWarning)\n",
      "/anaconda3/lib/python3.7/site-packages/sklearn/linear_model/sag.py:334: ConvergenceWarning: The max_iter was reached which means the coef_ did not converge\n",
      "  \"the coef_ did not converge\", ConvergenceWarning)\n"
     ]
    },
    {
     "name": "stdout",
     "output_type": "stream",
     "text": [
      "[CV]  C=57.6650390625, fit_intercept=True, intercept_scaling=5, solver=saga, score=0.5210843373493976, total=   0.1s\n",
      "[CV] C=57.6650390625, fit_intercept=True, intercept_scaling=5, solver=saga \n",
      "[CV]  C=57.6650390625, fit_intercept=True, intercept_scaling=5, solver=saga, score=0.5020120724346077, total=   0.1s\n",
      "[CV] C=57.6650390625, fit_intercept=True, intercept_scaling=10, solver=liblinear \n"
     ]
    },
    {
     "name": "stderr",
     "output_type": "stream",
     "text": [
      "/anaconda3/lib/python3.7/site-packages/sklearn/svm/base.py:931: ConvergenceWarning: Liblinear failed to converge, increase the number of iterations.\n",
      "  \"the number of iterations.\", ConvergenceWarning)\n"
     ]
    },
    {
     "name": "stdout",
     "output_type": "stream",
     "text": [
      "[CV]  C=57.6650390625, fit_intercept=True, intercept_scaling=10, solver=liblinear, score=0.5973895582329317, total=   0.3s\n",
      "[CV] C=57.6650390625, fit_intercept=True, intercept_scaling=10, solver=liblinear \n"
     ]
    },
    {
     "name": "stderr",
     "output_type": "stream",
     "text": [
      "/anaconda3/lib/python3.7/site-packages/sklearn/svm/base.py:931: ConvergenceWarning: Liblinear failed to converge, increase the number of iterations.\n",
      "  \"the number of iterations.\", ConvergenceWarning)\n"
     ]
    },
    {
     "name": "stdout",
     "output_type": "stream",
     "text": [
      "[CV]  C=57.6650390625, fit_intercept=True, intercept_scaling=10, solver=liblinear, score=0.5642570281124498, total=   0.3s\n",
      "[CV] C=57.6650390625, fit_intercept=True, intercept_scaling=10, solver=liblinear \n"
     ]
    },
    {
     "name": "stderr",
     "output_type": "stream",
     "text": [
      "/anaconda3/lib/python3.7/site-packages/sklearn/svm/base.py:931: ConvergenceWarning: Liblinear failed to converge, increase the number of iterations.\n",
      "  \"the number of iterations.\", ConvergenceWarning)\n",
      "/anaconda3/lib/python3.7/site-packages/sklearn/linear_model/sag.py:334: ConvergenceWarning: The max_iter was reached which means the coef_ did not converge\n",
      "  \"the coef_ did not converge\", ConvergenceWarning)\n"
     ]
    },
    {
     "name": "stdout",
     "output_type": "stream",
     "text": [
      "[CV]  C=57.6650390625, fit_intercept=True, intercept_scaling=10, solver=liblinear, score=0.5704225352112676, total=   0.4s\n",
      "[CV] C=57.6650390625, fit_intercept=True, intercept_scaling=10, solver=saga \n",
      "[CV]  C=57.6650390625, fit_intercept=True, intercept_scaling=10, solver=saga, score=0.5190763052208835, total=   0.1s\n",
      "[CV] C=57.6650390625, fit_intercept=True, intercept_scaling=10, solver=saga \n"
     ]
    },
    {
     "name": "stderr",
     "output_type": "stream",
     "text": [
      "/anaconda3/lib/python3.7/site-packages/sklearn/linear_model/sag.py:334: ConvergenceWarning: The max_iter was reached which means the coef_ did not converge\n",
      "  \"the coef_ did not converge\", ConvergenceWarning)\n",
      "/anaconda3/lib/python3.7/site-packages/sklearn/linear_model/sag.py:334: ConvergenceWarning: The max_iter was reached which means the coef_ did not converge\n",
      "  \"the coef_ did not converge\", ConvergenceWarning)\n"
     ]
    },
    {
     "name": "stdout",
     "output_type": "stream",
     "text": [
      "[CV]  C=57.6650390625, fit_intercept=True, intercept_scaling=10, solver=saga, score=0.5220883534136547, total=   0.1s\n",
      "[CV] C=57.6650390625, fit_intercept=True, intercept_scaling=10, solver=saga \n",
      "[CV]  C=57.6650390625, fit_intercept=True, intercept_scaling=10, solver=saga, score=0.5010060362173038, total=   0.1s\n",
      "[CV] C=57.6650390625, fit_intercept=True, intercept_scaling=25, solver=liblinear \n"
     ]
    },
    {
     "name": "stderr",
     "output_type": "stream",
     "text": [
      "/anaconda3/lib/python3.7/site-packages/sklearn/svm/base.py:931: ConvergenceWarning: Liblinear failed to converge, increase the number of iterations.\n",
      "  \"the number of iterations.\", ConvergenceWarning)\n"
     ]
    },
    {
     "name": "stdout",
     "output_type": "stream",
     "text": [
      "[CV]  C=57.6650390625, fit_intercept=True, intercept_scaling=25, solver=liblinear, score=0.5883534136546185, total=   0.3s\n",
      "[CV] C=57.6650390625, fit_intercept=True, intercept_scaling=25, solver=liblinear \n"
     ]
    },
    {
     "name": "stderr",
     "output_type": "stream",
     "text": [
      "/anaconda3/lib/python3.7/site-packages/sklearn/svm/base.py:931: ConvergenceWarning: Liblinear failed to converge, increase the number of iterations.\n",
      "  \"the number of iterations.\", ConvergenceWarning)\n"
     ]
    },
    {
     "name": "stdout",
     "output_type": "stream",
     "text": [
      "[CV]  C=57.6650390625, fit_intercept=True, intercept_scaling=25, solver=liblinear, score=0.5652610441767069, total=   0.4s\n",
      "[CV] C=57.6650390625, fit_intercept=True, intercept_scaling=25, solver=liblinear \n"
     ]
    },
    {
     "name": "stderr",
     "output_type": "stream",
     "text": [
      "/anaconda3/lib/python3.7/site-packages/sklearn/svm/base.py:931: ConvergenceWarning: Liblinear failed to converge, increase the number of iterations.\n",
      "  \"the number of iterations.\", ConvergenceWarning)\n",
      "/anaconda3/lib/python3.7/site-packages/sklearn/linear_model/sag.py:334: ConvergenceWarning: The max_iter was reached which means the coef_ did not converge\n",
      "  \"the coef_ did not converge\", ConvergenceWarning)\n"
     ]
    },
    {
     "name": "stdout",
     "output_type": "stream",
     "text": [
      "[CV]  C=57.6650390625, fit_intercept=True, intercept_scaling=25, solver=liblinear, score=0.5704225352112676, total=   0.4s\n",
      "[CV] C=57.6650390625, fit_intercept=True, intercept_scaling=25, solver=saga \n",
      "[CV]  C=57.6650390625, fit_intercept=True, intercept_scaling=25, solver=saga, score=0.5180722891566265, total=   0.1s\n",
      "[CV] C=57.6650390625, fit_intercept=True, intercept_scaling=25, solver=saga \n"
     ]
    },
    {
     "name": "stderr",
     "output_type": "stream",
     "text": [
      "/anaconda3/lib/python3.7/site-packages/sklearn/linear_model/sag.py:334: ConvergenceWarning: The max_iter was reached which means the coef_ did not converge\n",
      "  \"the coef_ did not converge\", ConvergenceWarning)\n",
      "/anaconda3/lib/python3.7/site-packages/sklearn/linear_model/sag.py:334: ConvergenceWarning: The max_iter was reached which means the coef_ did not converge\n",
      "  \"the coef_ did not converge\", ConvergenceWarning)\n"
     ]
    },
    {
     "name": "stdout",
     "output_type": "stream",
     "text": [
      "[CV]  C=57.6650390625, fit_intercept=True, intercept_scaling=25, solver=saga, score=0.5200803212851406, total=   0.1s\n",
      "[CV] C=57.6650390625, fit_intercept=True, intercept_scaling=25, solver=saga \n",
      "[CV]  C=57.6650390625, fit_intercept=True, intercept_scaling=25, solver=saga, score=0.5030181086519114, total=   0.1s\n",
      "[CV] C=57.6650390625, fit_intercept=True, intercept_scaling=50, solver=liblinear \n"
     ]
    },
    {
     "name": "stderr",
     "output_type": "stream",
     "text": [
      "/anaconda3/lib/python3.7/site-packages/sklearn/svm/base.py:931: ConvergenceWarning: Liblinear failed to converge, increase the number of iterations.\n",
      "  \"the number of iterations.\", ConvergenceWarning)\n"
     ]
    },
    {
     "name": "stdout",
     "output_type": "stream",
     "text": [
      "[CV]  C=57.6650390625, fit_intercept=True, intercept_scaling=50, solver=liblinear, score=0.5953815261044176, total=   0.2s\n",
      "[CV] C=57.6650390625, fit_intercept=True, intercept_scaling=50, solver=liblinear \n"
     ]
    },
    {
     "name": "stderr",
     "output_type": "stream",
     "text": [
      "/anaconda3/lib/python3.7/site-packages/sklearn/svm/base.py:931: ConvergenceWarning: Liblinear failed to converge, increase the number of iterations.\n",
      "  \"the number of iterations.\", ConvergenceWarning)\n"
     ]
    },
    {
     "name": "stdout",
     "output_type": "stream",
     "text": [
      "[CV]  C=57.6650390625, fit_intercept=True, intercept_scaling=50, solver=liblinear, score=0.570281124497992, total=   0.6s\n",
      "[CV] C=57.6650390625, fit_intercept=True, intercept_scaling=50, solver=liblinear \n"
     ]
    },
    {
     "name": "stderr",
     "output_type": "stream",
     "text": [
      "/anaconda3/lib/python3.7/site-packages/sklearn/svm/base.py:931: ConvergenceWarning: Liblinear failed to converge, increase the number of iterations.\n",
      "  \"the number of iterations.\", ConvergenceWarning)\n",
      "/anaconda3/lib/python3.7/site-packages/sklearn/linear_model/sag.py:334: ConvergenceWarning: The max_iter was reached which means the coef_ did not converge\n",
      "  \"the coef_ did not converge\", ConvergenceWarning)\n"
     ]
    },
    {
     "name": "stdout",
     "output_type": "stream",
     "text": [
      "[CV]  C=57.6650390625, fit_intercept=True, intercept_scaling=50, solver=liblinear, score=0.56841046277666, total=   0.5s\n",
      "[CV] C=57.6650390625, fit_intercept=True, intercept_scaling=50, solver=saga \n",
      "[CV]  C=57.6650390625, fit_intercept=True, intercept_scaling=50, solver=saga, score=0.5180722891566265, total=   0.1s\n",
      "[CV] C=57.6650390625, fit_intercept=True, intercept_scaling=50, solver=saga \n"
     ]
    },
    {
     "name": "stderr",
     "output_type": "stream",
     "text": [
      "/anaconda3/lib/python3.7/site-packages/sklearn/linear_model/sag.py:334: ConvergenceWarning: The max_iter was reached which means the coef_ did not converge\n",
      "  \"the coef_ did not converge\", ConvergenceWarning)\n",
      "/anaconda3/lib/python3.7/site-packages/sklearn/linear_model/sag.py:334: ConvergenceWarning: The max_iter was reached which means the coef_ did not converge\n",
      "  \"the coef_ did not converge\", ConvergenceWarning)\n"
     ]
    },
    {
     "name": "stdout",
     "output_type": "stream",
     "text": [
      "[CV]  C=57.6650390625, fit_intercept=True, intercept_scaling=50, solver=saga, score=0.5200803212851406, total=   0.1s\n",
      "[CV] C=57.6650390625, fit_intercept=True, intercept_scaling=50, solver=saga \n",
      "[CV]  C=57.6650390625, fit_intercept=True, intercept_scaling=50, solver=saga, score=0.5010060362173038, total=   0.1s\n",
      "[CV] C=57.6650390625, fit_intercept=True, intercept_scaling=100, solver=liblinear \n",
      "[CV]  C=57.6650390625, fit_intercept=True, intercept_scaling=100, solver=liblinear, score=0.6014056224899599, total=   0.4s\n",
      "[CV] C=57.6650390625, fit_intercept=True, intercept_scaling=100, solver=liblinear \n"
     ]
    },
    {
     "name": "stderr",
     "output_type": "stream",
     "text": [
      "/anaconda3/lib/python3.7/site-packages/sklearn/svm/base.py:931: ConvergenceWarning: Liblinear failed to converge, increase the number of iterations.\n",
      "  \"the number of iterations.\", ConvergenceWarning)\n"
     ]
    },
    {
     "name": "stdout",
     "output_type": "stream",
     "text": [
      "[CV]  C=57.6650390625, fit_intercept=True, intercept_scaling=100, solver=liblinear, score=0.5622489959839357, total=   0.4s\n",
      "[CV] C=57.6650390625, fit_intercept=True, intercept_scaling=100, solver=liblinear \n"
     ]
    },
    {
     "name": "stderr",
     "output_type": "stream",
     "text": [
      "/anaconda3/lib/python3.7/site-packages/sklearn/svm/base.py:931: ConvergenceWarning: Liblinear failed to converge, increase the number of iterations.\n",
      "  \"the number of iterations.\", ConvergenceWarning)\n",
      "/anaconda3/lib/python3.7/site-packages/sklearn/linear_model/sag.py:334: ConvergenceWarning: The max_iter was reached which means the coef_ did not converge\n",
      "  \"the coef_ did not converge\", ConvergenceWarning)\n"
     ]
    },
    {
     "name": "stdout",
     "output_type": "stream",
     "text": [
      "[CV]  C=57.6650390625, fit_intercept=True, intercept_scaling=100, solver=liblinear, score=0.5704225352112676, total=   0.4s\n",
      "[CV] C=57.6650390625, fit_intercept=True, intercept_scaling=100, solver=saga \n",
      "[CV]  C=57.6650390625, fit_intercept=True, intercept_scaling=100, solver=saga, score=0.5180722891566265, total=   0.1s\n",
      "[CV] C=57.6650390625, fit_intercept=True, intercept_scaling=100, solver=saga \n"
     ]
    },
    {
     "name": "stderr",
     "output_type": "stream",
     "text": [
      "/anaconda3/lib/python3.7/site-packages/sklearn/linear_model/sag.py:334: ConvergenceWarning: The max_iter was reached which means the coef_ did not converge\n",
      "  \"the coef_ did not converge\", ConvergenceWarning)\n",
      "/anaconda3/lib/python3.7/site-packages/sklearn/linear_model/sag.py:334: ConvergenceWarning: The max_iter was reached which means the coef_ did not converge\n",
      "  \"the coef_ did not converge\", ConvergenceWarning)\n"
     ]
    },
    {
     "name": "stdout",
     "output_type": "stream",
     "text": [
      "[CV]  C=57.6650390625, fit_intercept=True, intercept_scaling=100, solver=saga, score=0.5200803212851406, total=   0.1s\n",
      "[CV] C=57.6650390625, fit_intercept=True, intercept_scaling=100, solver=saga \n",
      "[CV]  C=57.6650390625, fit_intercept=True, intercept_scaling=100, solver=saga, score=0.5, total=   0.1s\n",
      "[CV] C=57.6650390625, fit_intercept=False, intercept_scaling=1, solver=liblinear \n"
     ]
    },
    {
     "name": "stderr",
     "output_type": "stream",
     "text": [
      "/anaconda3/lib/python3.7/site-packages/sklearn/svm/base.py:931: ConvergenceWarning: Liblinear failed to converge, increase the number of iterations.\n",
      "  \"the number of iterations.\", ConvergenceWarning)\n"
     ]
    },
    {
     "name": "stdout",
     "output_type": "stream",
     "text": [
      "[CV]  C=57.6650390625, fit_intercept=False, intercept_scaling=1, solver=liblinear, score=0.5893574297188755, total=   0.2s\n",
      "[CV] C=57.6650390625, fit_intercept=False, intercept_scaling=1, solver=liblinear \n"
     ]
    },
    {
     "name": "stderr",
     "output_type": "stream",
     "text": [
      "/anaconda3/lib/python3.7/site-packages/sklearn/svm/base.py:931: ConvergenceWarning: Liblinear failed to converge, increase the number of iterations.\n",
      "  \"the number of iterations.\", ConvergenceWarning)\n"
     ]
    },
    {
     "name": "stdout",
     "output_type": "stream",
     "text": [
      "[CV]  C=57.6650390625, fit_intercept=False, intercept_scaling=1, solver=liblinear, score=0.5552208835341366, total=   0.3s\n",
      "[CV] C=57.6650390625, fit_intercept=False, intercept_scaling=1, solver=liblinear \n"
     ]
    },
    {
     "name": "stderr",
     "output_type": "stream",
     "text": [
      "/anaconda3/lib/python3.7/site-packages/sklearn/svm/base.py:931: ConvergenceWarning: Liblinear failed to converge, increase the number of iterations.\n",
      "  \"the number of iterations.\", ConvergenceWarning)\n",
      "/anaconda3/lib/python3.7/site-packages/sklearn/linear_model/sag.py:334: ConvergenceWarning: The max_iter was reached which means the coef_ did not converge\n",
      "  \"the coef_ did not converge\", ConvergenceWarning)\n"
     ]
    },
    {
     "name": "stdout",
     "output_type": "stream",
     "text": [
      "[CV]  C=57.6650390625, fit_intercept=False, intercept_scaling=1, solver=liblinear, score=0.5663983903420523, total=   0.3s\n",
      "[CV] C=57.6650390625, fit_intercept=False, intercept_scaling=1, solver=saga \n",
      "[CV]  C=57.6650390625, fit_intercept=False, intercept_scaling=1, solver=saga, score=0.5180722891566265, total=   0.1s\n",
      "[CV] C=57.6650390625, fit_intercept=False, intercept_scaling=1, solver=saga \n"
     ]
    },
    {
     "name": "stderr",
     "output_type": "stream",
     "text": [
      "/anaconda3/lib/python3.7/site-packages/sklearn/linear_model/sag.py:334: ConvergenceWarning: The max_iter was reached which means the coef_ did not converge\n",
      "  \"the coef_ did not converge\", ConvergenceWarning)\n",
      "/anaconda3/lib/python3.7/site-packages/sklearn/linear_model/sag.py:334: ConvergenceWarning: The max_iter was reached which means the coef_ did not converge\n",
      "  \"the coef_ did not converge\", ConvergenceWarning)\n"
     ]
    },
    {
     "name": "stdout",
     "output_type": "stream",
     "text": [
      "[CV]  C=57.6650390625, fit_intercept=False, intercept_scaling=1, solver=saga, score=0.5210843373493976, total=   0.1s\n",
      "[CV] C=57.6650390625, fit_intercept=False, intercept_scaling=1, solver=saga \n",
      "[CV]  C=57.6650390625, fit_intercept=False, intercept_scaling=1, solver=saga, score=0.5020120724346077, total=   0.1s\n",
      "[CV] C=57.6650390625, fit_intercept=False, intercept_scaling=5, solver=liblinear \n"
     ]
    },
    {
     "name": "stderr",
     "output_type": "stream",
     "text": [
      "/anaconda3/lib/python3.7/site-packages/sklearn/svm/base.py:931: ConvergenceWarning: Liblinear failed to converge, increase the number of iterations.\n",
      "  \"the number of iterations.\", ConvergenceWarning)\n"
     ]
    },
    {
     "name": "stdout",
     "output_type": "stream",
     "text": [
      "[CV]  C=57.6650390625, fit_intercept=False, intercept_scaling=5, solver=liblinear, score=0.5893574297188755, total=   0.2s\n",
      "[CV] C=57.6650390625, fit_intercept=False, intercept_scaling=5, solver=liblinear \n"
     ]
    },
    {
     "name": "stderr",
     "output_type": "stream",
     "text": [
      "/anaconda3/lib/python3.7/site-packages/sklearn/svm/base.py:931: ConvergenceWarning: Liblinear failed to converge, increase the number of iterations.\n",
      "  \"the number of iterations.\", ConvergenceWarning)\n"
     ]
    },
    {
     "name": "stdout",
     "output_type": "stream",
     "text": [
      "[CV]  C=57.6650390625, fit_intercept=False, intercept_scaling=5, solver=liblinear, score=0.5552208835341366, total=   0.3s\n",
      "[CV] C=57.6650390625, fit_intercept=False, intercept_scaling=5, solver=liblinear \n"
     ]
    },
    {
     "name": "stderr",
     "output_type": "stream",
     "text": [
      "/anaconda3/lib/python3.7/site-packages/sklearn/svm/base.py:931: ConvergenceWarning: Liblinear failed to converge, increase the number of iterations.\n",
      "  \"the number of iterations.\", ConvergenceWarning)\n",
      "/anaconda3/lib/python3.7/site-packages/sklearn/linear_model/sag.py:334: ConvergenceWarning: The max_iter was reached which means the coef_ did not converge\n",
      "  \"the coef_ did not converge\", ConvergenceWarning)\n"
     ]
    },
    {
     "name": "stdout",
     "output_type": "stream",
     "text": [
      "[CV]  C=57.6650390625, fit_intercept=False, intercept_scaling=5, solver=liblinear, score=0.5663983903420523, total=   0.3s\n",
      "[CV] C=57.6650390625, fit_intercept=False, intercept_scaling=5, solver=saga \n",
      "[CV]  C=57.6650390625, fit_intercept=False, intercept_scaling=5, solver=saga, score=0.5180722891566265, total=   0.1s\n",
      "[CV] C=57.6650390625, fit_intercept=False, intercept_scaling=5, solver=saga \n"
     ]
    },
    {
     "name": "stderr",
     "output_type": "stream",
     "text": [
      "/anaconda3/lib/python3.7/site-packages/sklearn/linear_model/sag.py:334: ConvergenceWarning: The max_iter was reached which means the coef_ did not converge\n",
      "  \"the coef_ did not converge\", ConvergenceWarning)\n",
      "/anaconda3/lib/python3.7/site-packages/sklearn/linear_model/sag.py:334: ConvergenceWarning: The max_iter was reached which means the coef_ did not converge\n",
      "  \"the coef_ did not converge\", ConvergenceWarning)\n"
     ]
    },
    {
     "name": "stdout",
     "output_type": "stream",
     "text": [
      "[CV]  C=57.6650390625, fit_intercept=False, intercept_scaling=5, solver=saga, score=0.5200803212851406, total=   0.1s\n",
      "[CV] C=57.6650390625, fit_intercept=False, intercept_scaling=5, solver=saga \n",
      "[CV]  C=57.6650390625, fit_intercept=False, intercept_scaling=5, solver=saga, score=0.5010060362173038, total=   0.1s\n",
      "[CV] C=57.6650390625, fit_intercept=False, intercept_scaling=10, solver=liblinear \n"
     ]
    },
    {
     "name": "stderr",
     "output_type": "stream",
     "text": [
      "/anaconda3/lib/python3.7/site-packages/sklearn/svm/base.py:931: ConvergenceWarning: Liblinear failed to converge, increase the number of iterations.\n",
      "  \"the number of iterations.\", ConvergenceWarning)\n"
     ]
    },
    {
     "name": "stdout",
     "output_type": "stream",
     "text": [
      "[CV]  C=57.6650390625, fit_intercept=False, intercept_scaling=10, solver=liblinear, score=0.5893574297188755, total=   0.2s\n",
      "[CV] C=57.6650390625, fit_intercept=False, intercept_scaling=10, solver=liblinear \n"
     ]
    },
    {
     "name": "stderr",
     "output_type": "stream",
     "text": [
      "/anaconda3/lib/python3.7/site-packages/sklearn/svm/base.py:931: ConvergenceWarning: Liblinear failed to converge, increase the number of iterations.\n",
      "  \"the number of iterations.\", ConvergenceWarning)\n"
     ]
    },
    {
     "name": "stdout",
     "output_type": "stream",
     "text": [
      "[CV]  C=57.6650390625, fit_intercept=False, intercept_scaling=10, solver=liblinear, score=0.5552208835341366, total=   0.3s\n",
      "[CV] C=57.6650390625, fit_intercept=False, intercept_scaling=10, solver=liblinear \n"
     ]
    },
    {
     "name": "stderr",
     "output_type": "stream",
     "text": [
      "/anaconda3/lib/python3.7/site-packages/sklearn/svm/base.py:931: ConvergenceWarning: Liblinear failed to converge, increase the number of iterations.\n",
      "  \"the number of iterations.\", ConvergenceWarning)\n",
      "/anaconda3/lib/python3.7/site-packages/sklearn/linear_model/sag.py:334: ConvergenceWarning: The max_iter was reached which means the coef_ did not converge\n",
      "  \"the coef_ did not converge\", ConvergenceWarning)\n"
     ]
    },
    {
     "name": "stdout",
     "output_type": "stream",
     "text": [
      "[CV]  C=57.6650390625, fit_intercept=False, intercept_scaling=10, solver=liblinear, score=0.5663983903420523, total=   0.3s\n",
      "[CV] C=57.6650390625, fit_intercept=False, intercept_scaling=10, solver=saga \n",
      "[CV]  C=57.6650390625, fit_intercept=False, intercept_scaling=10, solver=saga, score=0.5180722891566265, total=   0.1s\n",
      "[CV] C=57.6650390625, fit_intercept=False, intercept_scaling=10, solver=saga \n"
     ]
    },
    {
     "name": "stderr",
     "output_type": "stream",
     "text": [
      "/anaconda3/lib/python3.7/site-packages/sklearn/linear_model/sag.py:334: ConvergenceWarning: The max_iter was reached which means the coef_ did not converge\n",
      "  \"the coef_ did not converge\", ConvergenceWarning)\n",
      "/anaconda3/lib/python3.7/site-packages/sklearn/linear_model/sag.py:334: ConvergenceWarning: The max_iter was reached which means the coef_ did not converge\n",
      "  \"the coef_ did not converge\", ConvergenceWarning)\n"
     ]
    },
    {
     "name": "stdout",
     "output_type": "stream",
     "text": [
      "[CV]  C=57.6650390625, fit_intercept=False, intercept_scaling=10, solver=saga, score=0.5200803212851406, total=   0.1s\n",
      "[CV] C=57.6650390625, fit_intercept=False, intercept_scaling=10, solver=saga \n",
      "[CV]  C=57.6650390625, fit_intercept=False, intercept_scaling=10, solver=saga, score=0.5010060362173038, total=   0.1s\n",
      "[CV] C=57.6650390625, fit_intercept=False, intercept_scaling=25, solver=liblinear \n"
     ]
    },
    {
     "name": "stderr",
     "output_type": "stream",
     "text": [
      "/anaconda3/lib/python3.7/site-packages/sklearn/svm/base.py:931: ConvergenceWarning: Liblinear failed to converge, increase the number of iterations.\n",
      "  \"the number of iterations.\", ConvergenceWarning)\n"
     ]
    },
    {
     "name": "stdout",
     "output_type": "stream",
     "text": [
      "[CV]  C=57.6650390625, fit_intercept=False, intercept_scaling=25, solver=liblinear, score=0.5893574297188755, total=   0.2s\n",
      "[CV] C=57.6650390625, fit_intercept=False, intercept_scaling=25, solver=liblinear \n"
     ]
    },
    {
     "name": "stderr",
     "output_type": "stream",
     "text": [
      "/anaconda3/lib/python3.7/site-packages/sklearn/svm/base.py:931: ConvergenceWarning: Liblinear failed to converge, increase the number of iterations.\n",
      "  \"the number of iterations.\", ConvergenceWarning)\n"
     ]
    },
    {
     "name": "stdout",
     "output_type": "stream",
     "text": [
      "[CV]  C=57.6650390625, fit_intercept=False, intercept_scaling=25, solver=liblinear, score=0.5552208835341366, total=   0.3s\n",
      "[CV] C=57.6650390625, fit_intercept=False, intercept_scaling=25, solver=liblinear \n"
     ]
    },
    {
     "name": "stderr",
     "output_type": "stream",
     "text": [
      "/anaconda3/lib/python3.7/site-packages/sklearn/svm/base.py:931: ConvergenceWarning: Liblinear failed to converge, increase the number of iterations.\n",
      "  \"the number of iterations.\", ConvergenceWarning)\n",
      "/anaconda3/lib/python3.7/site-packages/sklearn/linear_model/sag.py:334: ConvergenceWarning: The max_iter was reached which means the coef_ did not converge\n",
      "  \"the coef_ did not converge\", ConvergenceWarning)\n"
     ]
    },
    {
     "name": "stdout",
     "output_type": "stream",
     "text": [
      "[CV]  C=57.6650390625, fit_intercept=False, intercept_scaling=25, solver=liblinear, score=0.5663983903420523, total=   0.3s\n",
      "[CV] C=57.6650390625, fit_intercept=False, intercept_scaling=25, solver=saga \n",
      "[CV]  C=57.6650390625, fit_intercept=False, intercept_scaling=25, solver=saga, score=0.5170682730923695, total=   0.1s\n",
      "[CV] C=57.6650390625, fit_intercept=False, intercept_scaling=25, solver=saga \n"
     ]
    },
    {
     "name": "stderr",
     "output_type": "stream",
     "text": [
      "/anaconda3/lib/python3.7/site-packages/sklearn/linear_model/sag.py:334: ConvergenceWarning: The max_iter was reached which means the coef_ did not converge\n",
      "  \"the coef_ did not converge\", ConvergenceWarning)\n",
      "/anaconda3/lib/python3.7/site-packages/sklearn/linear_model/sag.py:334: ConvergenceWarning: The max_iter was reached which means the coef_ did not converge\n",
      "  \"the coef_ did not converge\", ConvergenceWarning)\n"
     ]
    },
    {
     "name": "stdout",
     "output_type": "stream",
     "text": [
      "[CV]  C=57.6650390625, fit_intercept=False, intercept_scaling=25, solver=saga, score=0.5220883534136547, total=   0.1s\n",
      "[CV] C=57.6650390625, fit_intercept=False, intercept_scaling=25, solver=saga \n",
      "[CV]  C=57.6650390625, fit_intercept=False, intercept_scaling=25, solver=saga, score=0.5020120724346077, total=   0.1s\n",
      "[CV] C=57.6650390625, fit_intercept=False, intercept_scaling=50, solver=liblinear \n"
     ]
    },
    {
     "name": "stderr",
     "output_type": "stream",
     "text": [
      "/anaconda3/lib/python3.7/site-packages/sklearn/svm/base.py:931: ConvergenceWarning: Liblinear failed to converge, increase the number of iterations.\n",
      "  \"the number of iterations.\", ConvergenceWarning)\n"
     ]
    },
    {
     "name": "stdout",
     "output_type": "stream",
     "text": [
      "[CV]  C=57.6650390625, fit_intercept=False, intercept_scaling=50, solver=liblinear, score=0.5893574297188755, total=   0.2s\n",
      "[CV] C=57.6650390625, fit_intercept=False, intercept_scaling=50, solver=liblinear \n"
     ]
    },
    {
     "name": "stderr",
     "output_type": "stream",
     "text": [
      "/anaconda3/lib/python3.7/site-packages/sklearn/svm/base.py:931: ConvergenceWarning: Liblinear failed to converge, increase the number of iterations.\n",
      "  \"the number of iterations.\", ConvergenceWarning)\n"
     ]
    },
    {
     "name": "stdout",
     "output_type": "stream",
     "text": [
      "[CV]  C=57.6650390625, fit_intercept=False, intercept_scaling=50, solver=liblinear, score=0.5552208835341366, total=   0.3s\n",
      "[CV] C=57.6650390625, fit_intercept=False, intercept_scaling=50, solver=liblinear \n"
     ]
    },
    {
     "name": "stderr",
     "output_type": "stream",
     "text": [
      "/anaconda3/lib/python3.7/site-packages/sklearn/svm/base.py:931: ConvergenceWarning: Liblinear failed to converge, increase the number of iterations.\n",
      "  \"the number of iterations.\", ConvergenceWarning)\n",
      "/anaconda3/lib/python3.7/site-packages/sklearn/linear_model/sag.py:334: ConvergenceWarning: The max_iter was reached which means the coef_ did not converge\n",
      "  \"the coef_ did not converge\", ConvergenceWarning)\n"
     ]
    },
    {
     "name": "stdout",
     "output_type": "stream",
     "text": [
      "[CV]  C=57.6650390625, fit_intercept=False, intercept_scaling=50, solver=liblinear, score=0.5663983903420523, total=   0.3s\n",
      "[CV] C=57.6650390625, fit_intercept=False, intercept_scaling=50, solver=saga \n",
      "[CV]  C=57.6650390625, fit_intercept=False, intercept_scaling=50, solver=saga, score=0.5180722891566265, total=   0.1s\n",
      "[CV] C=57.6650390625, fit_intercept=False, intercept_scaling=50, solver=saga \n"
     ]
    },
    {
     "name": "stderr",
     "output_type": "stream",
     "text": [
      "/anaconda3/lib/python3.7/site-packages/sklearn/linear_model/sag.py:334: ConvergenceWarning: The max_iter was reached which means the coef_ did not converge\n",
      "  \"the coef_ did not converge\", ConvergenceWarning)\n",
      "/anaconda3/lib/python3.7/site-packages/sklearn/linear_model/sag.py:334: ConvergenceWarning: The max_iter was reached which means the coef_ did not converge\n",
      "  \"the coef_ did not converge\", ConvergenceWarning)\n"
     ]
    },
    {
     "name": "stdout",
     "output_type": "stream",
     "text": [
      "[CV]  C=57.6650390625, fit_intercept=False, intercept_scaling=50, solver=saga, score=0.5210843373493976, total=   0.1s\n",
      "[CV] C=57.6650390625, fit_intercept=False, intercept_scaling=50, solver=saga \n",
      "[CV]  C=57.6650390625, fit_intercept=False, intercept_scaling=50, solver=saga, score=0.5020120724346077, total=   0.1s\n",
      "[CV] C=57.6650390625, fit_intercept=False, intercept_scaling=100, solver=liblinear \n"
     ]
    },
    {
     "name": "stderr",
     "output_type": "stream",
     "text": [
      "/anaconda3/lib/python3.7/site-packages/sklearn/svm/base.py:931: ConvergenceWarning: Liblinear failed to converge, increase the number of iterations.\n",
      "  \"the number of iterations.\", ConvergenceWarning)\n"
     ]
    },
    {
     "name": "stdout",
     "output_type": "stream",
     "text": [
      "[CV]  C=57.6650390625, fit_intercept=False, intercept_scaling=100, solver=liblinear, score=0.5893574297188755, total=   0.2s\n",
      "[CV] C=57.6650390625, fit_intercept=False, intercept_scaling=100, solver=liblinear \n"
     ]
    },
    {
     "name": "stderr",
     "output_type": "stream",
     "text": [
      "/anaconda3/lib/python3.7/site-packages/sklearn/svm/base.py:931: ConvergenceWarning: Liblinear failed to converge, increase the number of iterations.\n",
      "  \"the number of iterations.\", ConvergenceWarning)\n"
     ]
    },
    {
     "name": "stdout",
     "output_type": "stream",
     "text": [
      "[CV]  C=57.6650390625, fit_intercept=False, intercept_scaling=100, solver=liblinear, score=0.5552208835341366, total=   0.3s\n",
      "[CV] C=57.6650390625, fit_intercept=False, intercept_scaling=100, solver=liblinear \n"
     ]
    },
    {
     "name": "stderr",
     "output_type": "stream",
     "text": [
      "/anaconda3/lib/python3.7/site-packages/sklearn/svm/base.py:931: ConvergenceWarning: Liblinear failed to converge, increase the number of iterations.\n",
      "  \"the number of iterations.\", ConvergenceWarning)\n",
      "/anaconda3/lib/python3.7/site-packages/sklearn/linear_model/sag.py:334: ConvergenceWarning: The max_iter was reached which means the coef_ did not converge\n",
      "  \"the coef_ did not converge\", ConvergenceWarning)\n"
     ]
    },
    {
     "name": "stdout",
     "output_type": "stream",
     "text": [
      "[CV]  C=57.6650390625, fit_intercept=False, intercept_scaling=100, solver=liblinear, score=0.5663983903420523, total=   0.3s\n",
      "[CV] C=57.6650390625, fit_intercept=False, intercept_scaling=100, solver=saga \n",
      "[CV]  C=57.6650390625, fit_intercept=False, intercept_scaling=100, solver=saga, score=0.5190763052208835, total=   0.1s\n",
      "[CV] C=57.6650390625, fit_intercept=False, intercept_scaling=100, solver=saga \n"
     ]
    },
    {
     "name": "stderr",
     "output_type": "stream",
     "text": [
      "/anaconda3/lib/python3.7/site-packages/sklearn/linear_model/sag.py:334: ConvergenceWarning: The max_iter was reached which means the coef_ did not converge\n",
      "  \"the coef_ did not converge\", ConvergenceWarning)\n",
      "/anaconda3/lib/python3.7/site-packages/sklearn/linear_model/sag.py:334: ConvergenceWarning: The max_iter was reached which means the coef_ did not converge\n",
      "  \"the coef_ did not converge\", ConvergenceWarning)\n"
     ]
    },
    {
     "name": "stdout",
     "output_type": "stream",
     "text": [
      "[CV]  C=57.6650390625, fit_intercept=False, intercept_scaling=100, solver=saga, score=0.5220883534136547, total=   0.1s\n",
      "[CV] C=57.6650390625, fit_intercept=False, intercept_scaling=100, solver=saga \n",
      "[CV]  C=57.6650390625, fit_intercept=False, intercept_scaling=100, solver=saga, score=0.5020120724346077, total=   0.1s\n",
      "[CV] C=129.746337890625, fit_intercept=True, intercept_scaling=1, solver=liblinear \n"
     ]
    },
    {
     "name": "stderr",
     "output_type": "stream",
     "text": [
      "/anaconda3/lib/python3.7/site-packages/sklearn/svm/base.py:931: ConvergenceWarning: Liblinear failed to converge, increase the number of iterations.\n",
      "  \"the number of iterations.\", ConvergenceWarning)\n"
     ]
    },
    {
     "name": "stdout",
     "output_type": "stream",
     "text": [
      "[CV]  C=129.746337890625, fit_intercept=True, intercept_scaling=1, solver=liblinear, score=0.5993975903614458, total=   0.4s\n",
      "[CV] C=129.746337890625, fit_intercept=True, intercept_scaling=1, solver=liblinear \n"
     ]
    },
    {
     "name": "stderr",
     "output_type": "stream",
     "text": [
      "/anaconda3/lib/python3.7/site-packages/sklearn/svm/base.py:931: ConvergenceWarning: Liblinear failed to converge, increase the number of iterations.\n",
      "  \"the number of iterations.\", ConvergenceWarning)\n"
     ]
    },
    {
     "name": "stdout",
     "output_type": "stream",
     "text": [
      "[CV]  C=129.746337890625, fit_intercept=True, intercept_scaling=1, solver=liblinear, score=0.5632530120481928, total=   0.4s\n",
      "[CV] C=129.746337890625, fit_intercept=True, intercept_scaling=1, solver=liblinear \n"
     ]
    },
    {
     "name": "stderr",
     "output_type": "stream",
     "text": [
      "/anaconda3/lib/python3.7/site-packages/sklearn/svm/base.py:931: ConvergenceWarning: Liblinear failed to converge, increase the number of iterations.\n",
      "  \"the number of iterations.\", ConvergenceWarning)\n",
      "/anaconda3/lib/python3.7/site-packages/sklearn/linear_model/sag.py:334: ConvergenceWarning: The max_iter was reached which means the coef_ did not converge\n",
      "  \"the coef_ did not converge\", ConvergenceWarning)\n"
     ]
    },
    {
     "name": "stdout",
     "output_type": "stream",
     "text": [
      "[CV]  C=129.746337890625, fit_intercept=True, intercept_scaling=1, solver=liblinear, score=0.5744466800804829, total=   0.6s\n",
      "[CV] C=129.746337890625, fit_intercept=True, intercept_scaling=1, solver=saga \n",
      "[CV]  C=129.746337890625, fit_intercept=True, intercept_scaling=1, solver=saga, score=0.5190763052208835, total=   0.1s\n",
      "[CV] C=129.746337890625, fit_intercept=True, intercept_scaling=1, solver=saga \n"
     ]
    },
    {
     "name": "stderr",
     "output_type": "stream",
     "text": [
      "/anaconda3/lib/python3.7/site-packages/sklearn/linear_model/sag.py:334: ConvergenceWarning: The max_iter was reached which means the coef_ did not converge\n",
      "  \"the coef_ did not converge\", ConvergenceWarning)\n",
      "/anaconda3/lib/python3.7/site-packages/sklearn/linear_model/sag.py:334: ConvergenceWarning: The max_iter was reached which means the coef_ did not converge\n",
      "  \"the coef_ did not converge\", ConvergenceWarning)\n"
     ]
    },
    {
     "name": "stdout",
     "output_type": "stream",
     "text": [
      "[CV]  C=129.746337890625, fit_intercept=True, intercept_scaling=1, solver=saga, score=0.5200803212851406, total=   0.1s\n",
      "[CV] C=129.746337890625, fit_intercept=True, intercept_scaling=1, solver=saga \n",
      "[CV]  C=129.746337890625, fit_intercept=True, intercept_scaling=1, solver=saga, score=0.5010060362173038, total=   0.1s\n",
      "[CV] C=129.746337890625, fit_intercept=True, intercept_scaling=5, solver=liblinear \n"
     ]
    },
    {
     "name": "stderr",
     "output_type": "stream",
     "text": [
      "/anaconda3/lib/python3.7/site-packages/sklearn/svm/base.py:931: ConvergenceWarning: Liblinear failed to converge, increase the number of iterations.\n",
      "  \"the number of iterations.\", ConvergenceWarning)\n"
     ]
    },
    {
     "name": "stdout",
     "output_type": "stream",
     "text": [
      "[CV]  C=129.746337890625, fit_intercept=True, intercept_scaling=5, solver=liblinear, score=0.5953815261044176, total=   0.2s\n",
      "[CV] C=129.746337890625, fit_intercept=True, intercept_scaling=5, solver=liblinear \n"
     ]
    },
    {
     "name": "stderr",
     "output_type": "stream",
     "text": [
      "/anaconda3/lib/python3.7/site-packages/sklearn/svm/base.py:931: ConvergenceWarning: Liblinear failed to converge, increase the number of iterations.\n",
      "  \"the number of iterations.\", ConvergenceWarning)\n"
     ]
    },
    {
     "name": "stdout",
     "output_type": "stream",
     "text": [
      "[CV]  C=129.746337890625, fit_intercept=True, intercept_scaling=5, solver=liblinear, score=0.5652610441767069, total=   0.4s\n",
      "[CV] C=129.746337890625, fit_intercept=True, intercept_scaling=5, solver=liblinear \n"
     ]
    },
    {
     "name": "stderr",
     "output_type": "stream",
     "text": [
      "/anaconda3/lib/python3.7/site-packages/sklearn/svm/base.py:931: ConvergenceWarning: Liblinear failed to converge, increase the number of iterations.\n",
      "  \"the number of iterations.\", ConvergenceWarning)\n",
      "/anaconda3/lib/python3.7/site-packages/sklearn/linear_model/sag.py:334: ConvergenceWarning: The max_iter was reached which means the coef_ did not converge\n",
      "  \"the coef_ did not converge\", ConvergenceWarning)\n"
     ]
    },
    {
     "name": "stdout",
     "output_type": "stream",
     "text": [
      "[CV]  C=129.746337890625, fit_intercept=True, intercept_scaling=5, solver=liblinear, score=0.56841046277666, total=   0.3s\n",
      "[CV] C=129.746337890625, fit_intercept=True, intercept_scaling=5, solver=saga \n",
      "[CV]  C=129.746337890625, fit_intercept=True, intercept_scaling=5, solver=saga, score=0.5190763052208835, total=   0.1s\n",
      "[CV] C=129.746337890625, fit_intercept=True, intercept_scaling=5, solver=saga \n"
     ]
    },
    {
     "name": "stderr",
     "output_type": "stream",
     "text": [
      "/anaconda3/lib/python3.7/site-packages/sklearn/linear_model/sag.py:334: ConvergenceWarning: The max_iter was reached which means the coef_ did not converge\n",
      "  \"the coef_ did not converge\", ConvergenceWarning)\n",
      "/anaconda3/lib/python3.7/site-packages/sklearn/linear_model/sag.py:334: ConvergenceWarning: The max_iter was reached which means the coef_ did not converge\n",
      "  \"the coef_ did not converge\", ConvergenceWarning)\n"
     ]
    },
    {
     "name": "stdout",
     "output_type": "stream",
     "text": [
      "[CV]  C=129.746337890625, fit_intercept=True, intercept_scaling=5, solver=saga, score=0.5180722891566265, total=   0.1s\n",
      "[CV] C=129.746337890625, fit_intercept=True, intercept_scaling=5, solver=saga \n",
      "[CV]  C=129.746337890625, fit_intercept=True, intercept_scaling=5, solver=saga, score=0.5010060362173038, total=   0.1s\n",
      "[CV] C=129.746337890625, fit_intercept=True, intercept_scaling=10, solver=liblinear \n"
     ]
    },
    {
     "name": "stderr",
     "output_type": "stream",
     "text": [
      "/anaconda3/lib/python3.7/site-packages/sklearn/svm/base.py:931: ConvergenceWarning: Liblinear failed to converge, increase the number of iterations.\n",
      "  \"the number of iterations.\", ConvergenceWarning)\n"
     ]
    },
    {
     "name": "stdout",
     "output_type": "stream",
     "text": [
      "[CV]  C=129.746337890625, fit_intercept=True, intercept_scaling=10, solver=liblinear, score=0.5843373493975904, total=   0.3s\n",
      "[CV] C=129.746337890625, fit_intercept=True, intercept_scaling=10, solver=liblinear \n"
     ]
    },
    {
     "name": "stderr",
     "output_type": "stream",
     "text": [
      "/anaconda3/lib/python3.7/site-packages/sklearn/svm/base.py:931: ConvergenceWarning: Liblinear failed to converge, increase the number of iterations.\n",
      "  \"the number of iterations.\", ConvergenceWarning)\n"
     ]
    },
    {
     "name": "stdout",
     "output_type": "stream",
     "text": [
      "[CV]  C=129.746337890625, fit_intercept=True, intercept_scaling=10, solver=liblinear, score=0.5642570281124498, total=   0.7s\n",
      "[CV] C=129.746337890625, fit_intercept=True, intercept_scaling=10, solver=liblinear \n"
     ]
    },
    {
     "name": "stderr",
     "output_type": "stream",
     "text": [
      "/anaconda3/lib/python3.7/site-packages/sklearn/svm/base.py:931: ConvergenceWarning: Liblinear failed to converge, increase the number of iterations.\n",
      "  \"the number of iterations.\", ConvergenceWarning)\n",
      "/anaconda3/lib/python3.7/site-packages/sklearn/linear_model/sag.py:334: ConvergenceWarning: The max_iter was reached which means the coef_ did not converge\n",
      "  \"the coef_ did not converge\", ConvergenceWarning)\n"
     ]
    },
    {
     "name": "stdout",
     "output_type": "stream",
     "text": [
      "[CV]  C=129.746337890625, fit_intercept=True, intercept_scaling=10, solver=liblinear, score=0.5593561368209256, total=   0.3s\n",
      "[CV] C=129.746337890625, fit_intercept=True, intercept_scaling=10, solver=saga \n",
      "[CV]  C=129.746337890625, fit_intercept=True, intercept_scaling=10, solver=saga, score=0.5170682730923695, total=   0.2s\n",
      "[CV] C=129.746337890625, fit_intercept=True, intercept_scaling=10, solver=saga \n"
     ]
    },
    {
     "name": "stderr",
     "output_type": "stream",
     "text": [
      "/anaconda3/lib/python3.7/site-packages/sklearn/linear_model/sag.py:334: ConvergenceWarning: The max_iter was reached which means the coef_ did not converge\n",
      "  \"the coef_ did not converge\", ConvergenceWarning)\n",
      "/anaconda3/lib/python3.7/site-packages/sklearn/linear_model/sag.py:334: ConvergenceWarning: The max_iter was reached which means the coef_ did not converge\n",
      "  \"the coef_ did not converge\", ConvergenceWarning)\n"
     ]
    },
    {
     "name": "stdout",
     "output_type": "stream",
     "text": [
      "[CV]  C=129.746337890625, fit_intercept=True, intercept_scaling=10, solver=saga, score=0.5200803212851406, total=   0.2s\n",
      "[CV] C=129.746337890625, fit_intercept=True, intercept_scaling=10, solver=saga \n",
      "[CV]  C=129.746337890625, fit_intercept=True, intercept_scaling=10, solver=saga, score=0.5, total=   0.2s\n",
      "[CV] C=129.746337890625, fit_intercept=True, intercept_scaling=25, solver=liblinear \n"
     ]
    },
    {
     "name": "stderr",
     "output_type": "stream",
     "text": [
      "/anaconda3/lib/python3.7/site-packages/sklearn/svm/base.py:931: ConvergenceWarning: Liblinear failed to converge, increase the number of iterations.\n",
      "  \"the number of iterations.\", ConvergenceWarning)\n"
     ]
    },
    {
     "name": "stdout",
     "output_type": "stream",
     "text": [
      "[CV]  C=129.746337890625, fit_intercept=True, intercept_scaling=25, solver=liblinear, score=0.5903614457831325, total=   0.3s\n",
      "[CV] C=129.746337890625, fit_intercept=True, intercept_scaling=25, solver=liblinear \n"
     ]
    },
    {
     "name": "stderr",
     "output_type": "stream",
     "text": [
      "/anaconda3/lib/python3.7/site-packages/sklearn/svm/base.py:931: ConvergenceWarning: Liblinear failed to converge, increase the number of iterations.\n",
      "  \"the number of iterations.\", ConvergenceWarning)\n"
     ]
    },
    {
     "name": "stdout",
     "output_type": "stream",
     "text": [
      "[CV]  C=129.746337890625, fit_intercept=True, intercept_scaling=25, solver=liblinear, score=0.5582329317269076, total=   0.4s\n",
      "[CV] C=129.746337890625, fit_intercept=True, intercept_scaling=25, solver=liblinear \n"
     ]
    },
    {
     "name": "stderr",
     "output_type": "stream",
     "text": [
      "/anaconda3/lib/python3.7/site-packages/sklearn/svm/base.py:931: ConvergenceWarning: Liblinear failed to converge, increase the number of iterations.\n",
      "  \"the number of iterations.\", ConvergenceWarning)\n",
      "/anaconda3/lib/python3.7/site-packages/sklearn/linear_model/sag.py:334: ConvergenceWarning: The max_iter was reached which means the coef_ did not converge\n",
      "  \"the coef_ did not converge\", ConvergenceWarning)\n"
     ]
    },
    {
     "name": "stdout",
     "output_type": "stream",
     "text": [
      "[CV]  C=129.746337890625, fit_intercept=True, intercept_scaling=25, solver=liblinear, score=0.5674044265593562, total=   0.4s\n",
      "[CV] C=129.746337890625, fit_intercept=True, intercept_scaling=25, solver=saga \n",
      "[CV]  C=129.746337890625, fit_intercept=True, intercept_scaling=25, solver=saga, score=0.5190763052208835, total=   0.2s\n",
      "[CV] C=129.746337890625, fit_intercept=True, intercept_scaling=25, solver=saga \n"
     ]
    },
    {
     "name": "stderr",
     "output_type": "stream",
     "text": [
      "/anaconda3/lib/python3.7/site-packages/sklearn/linear_model/sag.py:334: ConvergenceWarning: The max_iter was reached which means the coef_ did not converge\n",
      "  \"the coef_ did not converge\", ConvergenceWarning)\n",
      "/anaconda3/lib/python3.7/site-packages/sklearn/linear_model/sag.py:334: ConvergenceWarning: The max_iter was reached which means the coef_ did not converge\n",
      "  \"the coef_ did not converge\", ConvergenceWarning)\n"
     ]
    },
    {
     "name": "stdout",
     "output_type": "stream",
     "text": [
      "[CV]  C=129.746337890625, fit_intercept=True, intercept_scaling=25, solver=saga, score=0.5220883534136547, total=   0.2s\n",
      "[CV] C=129.746337890625, fit_intercept=True, intercept_scaling=25, solver=saga \n",
      "[CV]  C=129.746337890625, fit_intercept=True, intercept_scaling=25, solver=saga, score=0.5010060362173038, total=   0.2s\n",
      "[CV] C=129.746337890625, fit_intercept=True, intercept_scaling=50, solver=liblinear \n",
      "[CV]  C=129.746337890625, fit_intercept=True, intercept_scaling=50, solver=liblinear, score=0.6004016064257028, total=   0.6s\n",
      "[CV] C=129.746337890625, fit_intercept=True, intercept_scaling=50, solver=liblinear \n",
      "[CV]  C=129.746337890625, fit_intercept=True, intercept_scaling=50, solver=liblinear, score=0.5773092369477911, total=   0.5s\n",
      "[CV] C=129.746337890625, fit_intercept=True, intercept_scaling=50, solver=liblinear \n"
     ]
    },
    {
     "name": "stderr",
     "output_type": "stream",
     "text": [
      "/anaconda3/lib/python3.7/site-packages/sklearn/svm/base.py:931: ConvergenceWarning: Liblinear failed to converge, increase the number of iterations.\n",
      "  \"the number of iterations.\", ConvergenceWarning)\n",
      "/anaconda3/lib/python3.7/site-packages/sklearn/linear_model/sag.py:334: ConvergenceWarning: The max_iter was reached which means the coef_ did not converge\n",
      "  \"the coef_ did not converge\", ConvergenceWarning)\n"
     ]
    },
    {
     "name": "stdout",
     "output_type": "stream",
     "text": [
      "[CV]  C=129.746337890625, fit_intercept=True, intercept_scaling=50, solver=liblinear, score=0.562374245472837, total=   0.3s\n",
      "[CV] C=129.746337890625, fit_intercept=True, intercept_scaling=50, solver=saga \n",
      "[CV]  C=129.746337890625, fit_intercept=True, intercept_scaling=50, solver=saga, score=0.5170682730923695, total=   0.1s\n",
      "[CV] C=129.746337890625, fit_intercept=True, intercept_scaling=50, solver=saga \n"
     ]
    },
    {
     "name": "stderr",
     "output_type": "stream",
     "text": [
      "/anaconda3/lib/python3.7/site-packages/sklearn/linear_model/sag.py:334: ConvergenceWarning: The max_iter was reached which means the coef_ did not converge\n",
      "  \"the coef_ did not converge\", ConvergenceWarning)\n",
      "/anaconda3/lib/python3.7/site-packages/sklearn/linear_model/sag.py:334: ConvergenceWarning: The max_iter was reached which means the coef_ did not converge\n",
      "  \"the coef_ did not converge\", ConvergenceWarning)\n"
     ]
    },
    {
     "name": "stdout",
     "output_type": "stream",
     "text": [
      "[CV]  C=129.746337890625, fit_intercept=True, intercept_scaling=50, solver=saga, score=0.5200803212851406, total=   0.1s\n",
      "[CV] C=129.746337890625, fit_intercept=True, intercept_scaling=50, solver=saga \n",
      "[CV]  C=129.746337890625, fit_intercept=True, intercept_scaling=50, solver=saga, score=0.5030181086519114, total=   0.1s\n",
      "[CV] C=129.746337890625, fit_intercept=True, intercept_scaling=100, solver=liblinear \n"
     ]
    },
    {
     "name": "stderr",
     "output_type": "stream",
     "text": [
      "/anaconda3/lib/python3.7/site-packages/sklearn/svm/base.py:931: ConvergenceWarning: Liblinear failed to converge, increase the number of iterations.\n",
      "  \"the number of iterations.\", ConvergenceWarning)\n"
     ]
    },
    {
     "name": "stdout",
     "output_type": "stream",
     "text": [
      "[CV]  C=129.746337890625, fit_intercept=True, intercept_scaling=100, solver=liblinear, score=0.5883534136546185, total=   0.2s\n",
      "[CV] C=129.746337890625, fit_intercept=True, intercept_scaling=100, solver=liblinear \n"
     ]
    },
    {
     "name": "stderr",
     "output_type": "stream",
     "text": [
      "/anaconda3/lib/python3.7/site-packages/sklearn/svm/base.py:931: ConvergenceWarning: Liblinear failed to converge, increase the number of iterations.\n",
      "  \"the number of iterations.\", ConvergenceWarning)\n"
     ]
    },
    {
     "name": "stdout",
     "output_type": "stream",
     "text": [
      "[CV]  C=129.746337890625, fit_intercept=True, intercept_scaling=100, solver=liblinear, score=0.5592369477911646, total=   0.3s\n",
      "[CV] C=129.746337890625, fit_intercept=True, intercept_scaling=100, solver=liblinear \n"
     ]
    },
    {
     "name": "stderr",
     "output_type": "stream",
     "text": [
      "/anaconda3/lib/python3.7/site-packages/sklearn/svm/base.py:931: ConvergenceWarning: Liblinear failed to converge, increase the number of iterations.\n",
      "  \"the number of iterations.\", ConvergenceWarning)\n",
      "/anaconda3/lib/python3.7/site-packages/sklearn/linear_model/sag.py:334: ConvergenceWarning: The max_iter was reached which means the coef_ did not converge\n",
      "  \"the coef_ did not converge\", ConvergenceWarning)\n"
     ]
    },
    {
     "name": "stdout",
     "output_type": "stream",
     "text": [
      "[CV]  C=129.746337890625, fit_intercept=True, intercept_scaling=100, solver=liblinear, score=0.5734406438631791, total=   0.6s\n",
      "[CV] C=129.746337890625, fit_intercept=True, intercept_scaling=100, solver=saga \n",
      "[CV]  C=129.746337890625, fit_intercept=True, intercept_scaling=100, solver=saga, score=0.5170682730923695, total=   0.1s\n",
      "[CV] C=129.746337890625, fit_intercept=True, intercept_scaling=100, solver=saga \n"
     ]
    },
    {
     "name": "stderr",
     "output_type": "stream",
     "text": [
      "/anaconda3/lib/python3.7/site-packages/sklearn/linear_model/sag.py:334: ConvergenceWarning: The max_iter was reached which means the coef_ did not converge\n",
      "  \"the coef_ did not converge\", ConvergenceWarning)\n"
     ]
    },
    {
     "name": "stdout",
     "output_type": "stream",
     "text": [
      "[CV]  C=129.746337890625, fit_intercept=True, intercept_scaling=100, solver=saga, score=0.5190763052208835, total=   0.2s\n",
      "[CV] C=129.746337890625, fit_intercept=True, intercept_scaling=100, solver=saga \n"
     ]
    },
    {
     "name": "stderr",
     "output_type": "stream",
     "text": [
      "/anaconda3/lib/python3.7/site-packages/sklearn/linear_model/sag.py:334: ConvergenceWarning: The max_iter was reached which means the coef_ did not converge\n",
      "  \"the coef_ did not converge\", ConvergenceWarning)\n"
     ]
    },
    {
     "name": "stdout",
     "output_type": "stream",
     "text": [
      "[CV]  C=129.746337890625, fit_intercept=True, intercept_scaling=100, solver=saga, score=0.5020120724346077, total=   0.3s\n",
      "[CV] C=129.746337890625, fit_intercept=False, intercept_scaling=1, solver=liblinear \n"
     ]
    },
    {
     "name": "stderr",
     "output_type": "stream",
     "text": [
      "/anaconda3/lib/python3.7/site-packages/sklearn/svm/base.py:931: ConvergenceWarning: Liblinear failed to converge, increase the number of iterations.\n",
      "  \"the number of iterations.\", ConvergenceWarning)\n"
     ]
    },
    {
     "name": "stdout",
     "output_type": "stream",
     "text": [
      "[CV]  C=129.746337890625, fit_intercept=False, intercept_scaling=1, solver=liblinear, score=0.5823293172690763, total=   0.3s\n",
      "[CV] C=129.746337890625, fit_intercept=False, intercept_scaling=1, solver=liblinear \n"
     ]
    },
    {
     "name": "stderr",
     "output_type": "stream",
     "text": [
      "/anaconda3/lib/python3.7/site-packages/sklearn/svm/base.py:931: ConvergenceWarning: Liblinear failed to converge, increase the number of iterations.\n",
      "  \"the number of iterations.\", ConvergenceWarning)\n"
     ]
    },
    {
     "name": "stdout",
     "output_type": "stream",
     "text": [
      "[CV]  C=129.746337890625, fit_intercept=False, intercept_scaling=1, solver=liblinear, score=0.5682730923694779, total=   0.5s\n",
      "[CV] C=129.746337890625, fit_intercept=False, intercept_scaling=1, solver=liblinear \n"
     ]
    },
    {
     "name": "stderr",
     "output_type": "stream",
     "text": [
      "/anaconda3/lib/python3.7/site-packages/sklearn/svm/base.py:931: ConvergenceWarning: Liblinear failed to converge, increase the number of iterations.\n",
      "  \"the number of iterations.\", ConvergenceWarning)\n",
      "/anaconda3/lib/python3.7/site-packages/sklearn/linear_model/sag.py:334: ConvergenceWarning: The max_iter was reached which means the coef_ did not converge\n",
      "  \"the coef_ did not converge\", ConvergenceWarning)\n"
     ]
    },
    {
     "name": "stdout",
     "output_type": "stream",
     "text": [
      "[CV]  C=129.746337890625, fit_intercept=False, intercept_scaling=1, solver=liblinear, score=0.5744466800804829, total=   0.4s\n",
      "[CV] C=129.746337890625, fit_intercept=False, intercept_scaling=1, solver=saga \n",
      "[CV]  C=129.746337890625, fit_intercept=False, intercept_scaling=1, solver=saga, score=0.5190763052208835, total=   0.2s\n",
      "[CV] C=129.746337890625, fit_intercept=False, intercept_scaling=1, solver=saga \n"
     ]
    },
    {
     "name": "stderr",
     "output_type": "stream",
     "text": [
      "/anaconda3/lib/python3.7/site-packages/sklearn/linear_model/sag.py:334: ConvergenceWarning: The max_iter was reached which means the coef_ did not converge\n",
      "  \"the coef_ did not converge\", ConvergenceWarning)\n",
      "/anaconda3/lib/python3.7/site-packages/sklearn/linear_model/sag.py:334: ConvergenceWarning: The max_iter was reached which means the coef_ did not converge\n",
      "  \"the coef_ did not converge\", ConvergenceWarning)\n"
     ]
    },
    {
     "name": "stdout",
     "output_type": "stream",
     "text": [
      "[CV]  C=129.746337890625, fit_intercept=False, intercept_scaling=1, solver=saga, score=0.5200803212851406, total=   0.2s\n",
      "[CV] C=129.746337890625, fit_intercept=False, intercept_scaling=1, solver=saga \n",
      "[CV]  C=129.746337890625, fit_intercept=False, intercept_scaling=1, solver=saga, score=0.5010060362173038, total=   0.1s\n",
      "[CV] C=129.746337890625, fit_intercept=False, intercept_scaling=5, solver=liblinear \n"
     ]
    },
    {
     "name": "stderr",
     "output_type": "stream",
     "text": [
      "/anaconda3/lib/python3.7/site-packages/sklearn/svm/base.py:931: ConvergenceWarning: Liblinear failed to converge, increase the number of iterations.\n",
      "  \"the number of iterations.\", ConvergenceWarning)\n"
     ]
    },
    {
     "name": "stdout",
     "output_type": "stream",
     "text": [
      "[CV]  C=129.746337890625, fit_intercept=False, intercept_scaling=5, solver=liblinear, score=0.5823293172690763, total=   0.2s\n",
      "[CV] C=129.746337890625, fit_intercept=False, intercept_scaling=5, solver=liblinear \n"
     ]
    },
    {
     "name": "stderr",
     "output_type": "stream",
     "text": [
      "/anaconda3/lib/python3.7/site-packages/sklearn/svm/base.py:931: ConvergenceWarning: Liblinear failed to converge, increase the number of iterations.\n",
      "  \"the number of iterations.\", ConvergenceWarning)\n"
     ]
    },
    {
     "name": "stdout",
     "output_type": "stream",
     "text": [
      "[CV]  C=129.746337890625, fit_intercept=False, intercept_scaling=5, solver=liblinear, score=0.5682730923694779, total=   0.4s\n",
      "[CV] C=129.746337890625, fit_intercept=False, intercept_scaling=5, solver=liblinear \n"
     ]
    },
    {
     "name": "stderr",
     "output_type": "stream",
     "text": [
      "/anaconda3/lib/python3.7/site-packages/sklearn/svm/base.py:931: ConvergenceWarning: Liblinear failed to converge, increase the number of iterations.\n",
      "  \"the number of iterations.\", ConvergenceWarning)\n",
      "/anaconda3/lib/python3.7/site-packages/sklearn/linear_model/sag.py:334: ConvergenceWarning: The max_iter was reached which means the coef_ did not converge\n",
      "  \"the coef_ did not converge\", ConvergenceWarning)\n"
     ]
    },
    {
     "name": "stdout",
     "output_type": "stream",
     "text": [
      "[CV]  C=129.746337890625, fit_intercept=False, intercept_scaling=5, solver=liblinear, score=0.5744466800804829, total=   0.4s\n",
      "[CV] C=129.746337890625, fit_intercept=False, intercept_scaling=5, solver=saga \n",
      "[CV]  C=129.746337890625, fit_intercept=False, intercept_scaling=5, solver=saga, score=0.5190763052208835, total=   0.1s\n",
      "[CV] C=129.746337890625, fit_intercept=False, intercept_scaling=5, solver=saga \n"
     ]
    },
    {
     "name": "stderr",
     "output_type": "stream",
     "text": [
      "/anaconda3/lib/python3.7/site-packages/sklearn/linear_model/sag.py:334: ConvergenceWarning: The max_iter was reached which means the coef_ did not converge\n",
      "  \"the coef_ did not converge\", ConvergenceWarning)\n",
      "/anaconda3/lib/python3.7/site-packages/sklearn/linear_model/sag.py:334: ConvergenceWarning: The max_iter was reached which means the coef_ did not converge\n",
      "  \"the coef_ did not converge\", ConvergenceWarning)\n"
     ]
    },
    {
     "name": "stdout",
     "output_type": "stream",
     "text": [
      "[CV]  C=129.746337890625, fit_intercept=False, intercept_scaling=5, solver=saga, score=0.5190763052208835, total=   0.1s\n",
      "[CV] C=129.746337890625, fit_intercept=False, intercept_scaling=5, solver=saga \n",
      "[CV]  C=129.746337890625, fit_intercept=False, intercept_scaling=5, solver=saga, score=0.5020120724346077, total=   0.1s\n",
      "[CV] C=129.746337890625, fit_intercept=False, intercept_scaling=10, solver=liblinear \n"
     ]
    },
    {
     "name": "stderr",
     "output_type": "stream",
     "text": [
      "/anaconda3/lib/python3.7/site-packages/sklearn/svm/base.py:931: ConvergenceWarning: Liblinear failed to converge, increase the number of iterations.\n",
      "  \"the number of iterations.\", ConvergenceWarning)\n"
     ]
    },
    {
     "name": "stdout",
     "output_type": "stream",
     "text": [
      "[CV]  C=129.746337890625, fit_intercept=False, intercept_scaling=10, solver=liblinear, score=0.5823293172690763, total=   0.2s\n",
      "[CV] C=129.746337890625, fit_intercept=False, intercept_scaling=10, solver=liblinear \n"
     ]
    },
    {
     "name": "stderr",
     "output_type": "stream",
     "text": [
      "/anaconda3/lib/python3.7/site-packages/sklearn/svm/base.py:931: ConvergenceWarning: Liblinear failed to converge, increase the number of iterations.\n",
      "  \"the number of iterations.\", ConvergenceWarning)\n"
     ]
    },
    {
     "name": "stdout",
     "output_type": "stream",
     "text": [
      "[CV]  C=129.746337890625, fit_intercept=False, intercept_scaling=10, solver=liblinear, score=0.5682730923694779, total=   0.4s\n",
      "[CV] C=129.746337890625, fit_intercept=False, intercept_scaling=10, solver=liblinear \n"
     ]
    },
    {
     "name": "stderr",
     "output_type": "stream",
     "text": [
      "/anaconda3/lib/python3.7/site-packages/sklearn/svm/base.py:931: ConvergenceWarning: Liblinear failed to converge, increase the number of iterations.\n",
      "  \"the number of iterations.\", ConvergenceWarning)\n",
      "/anaconda3/lib/python3.7/site-packages/sklearn/linear_model/sag.py:334: ConvergenceWarning: The max_iter was reached which means the coef_ did not converge\n",
      "  \"the coef_ did not converge\", ConvergenceWarning)\n"
     ]
    },
    {
     "name": "stdout",
     "output_type": "stream",
     "text": [
      "[CV]  C=129.746337890625, fit_intercept=False, intercept_scaling=10, solver=liblinear, score=0.5744466800804829, total=   0.4s\n",
      "[CV] C=129.746337890625, fit_intercept=False, intercept_scaling=10, solver=saga \n",
      "[CV]  C=129.746337890625, fit_intercept=False, intercept_scaling=10, solver=saga, score=0.5180722891566265, total=   0.1s\n",
      "[CV] C=129.746337890625, fit_intercept=False, intercept_scaling=10, solver=saga \n"
     ]
    },
    {
     "name": "stderr",
     "output_type": "stream",
     "text": [
      "/anaconda3/lib/python3.7/site-packages/sklearn/linear_model/sag.py:334: ConvergenceWarning: The max_iter was reached which means the coef_ did not converge\n",
      "  \"the coef_ did not converge\", ConvergenceWarning)\n",
      "/anaconda3/lib/python3.7/site-packages/sklearn/linear_model/sag.py:334: ConvergenceWarning: The max_iter was reached which means the coef_ did not converge\n",
      "  \"the coef_ did not converge\", ConvergenceWarning)\n"
     ]
    },
    {
     "name": "stdout",
     "output_type": "stream",
     "text": [
      "[CV]  C=129.746337890625, fit_intercept=False, intercept_scaling=10, solver=saga, score=0.5200803212851406, total=   0.1s\n",
      "[CV] C=129.746337890625, fit_intercept=False, intercept_scaling=10, solver=saga \n",
      "[CV]  C=129.746337890625, fit_intercept=False, intercept_scaling=10, solver=saga, score=0.5020120724346077, total=   0.1s\n",
      "[CV] C=129.746337890625, fit_intercept=False, intercept_scaling=25, solver=liblinear \n"
     ]
    },
    {
     "name": "stderr",
     "output_type": "stream",
     "text": [
      "/anaconda3/lib/python3.7/site-packages/sklearn/svm/base.py:931: ConvergenceWarning: Liblinear failed to converge, increase the number of iterations.\n",
      "  \"the number of iterations.\", ConvergenceWarning)\n"
     ]
    },
    {
     "name": "stdout",
     "output_type": "stream",
     "text": [
      "[CV]  C=129.746337890625, fit_intercept=False, intercept_scaling=25, solver=liblinear, score=0.5823293172690763, total=   0.2s\n",
      "[CV] C=129.746337890625, fit_intercept=False, intercept_scaling=25, solver=liblinear \n"
     ]
    },
    {
     "name": "stderr",
     "output_type": "stream",
     "text": [
      "/anaconda3/lib/python3.7/site-packages/sklearn/svm/base.py:931: ConvergenceWarning: Liblinear failed to converge, increase the number of iterations.\n",
      "  \"the number of iterations.\", ConvergenceWarning)\n"
     ]
    },
    {
     "name": "stdout",
     "output_type": "stream",
     "text": [
      "[CV]  C=129.746337890625, fit_intercept=False, intercept_scaling=25, solver=liblinear, score=0.5682730923694779, total=   0.3s\n",
      "[CV] C=129.746337890625, fit_intercept=False, intercept_scaling=25, solver=liblinear \n"
     ]
    },
    {
     "name": "stderr",
     "output_type": "stream",
     "text": [
      "/anaconda3/lib/python3.7/site-packages/sklearn/svm/base.py:931: ConvergenceWarning: Liblinear failed to converge, increase the number of iterations.\n",
      "  \"the number of iterations.\", ConvergenceWarning)\n",
      "/anaconda3/lib/python3.7/site-packages/sklearn/linear_model/sag.py:334: ConvergenceWarning: The max_iter was reached which means the coef_ did not converge\n",
      "  \"the coef_ did not converge\", ConvergenceWarning)\n"
     ]
    },
    {
     "name": "stdout",
     "output_type": "stream",
     "text": [
      "[CV]  C=129.746337890625, fit_intercept=False, intercept_scaling=25, solver=liblinear, score=0.5744466800804829, total=   0.5s\n",
      "[CV] C=129.746337890625, fit_intercept=False, intercept_scaling=25, solver=saga \n",
      "[CV]  C=129.746337890625, fit_intercept=False, intercept_scaling=25, solver=saga, score=0.5170682730923695, total=   0.2s\n",
      "[CV] C=129.746337890625, fit_intercept=False, intercept_scaling=25, solver=saga \n"
     ]
    },
    {
     "name": "stderr",
     "output_type": "stream",
     "text": [
      "/anaconda3/lib/python3.7/site-packages/sklearn/linear_model/sag.py:334: ConvergenceWarning: The max_iter was reached which means the coef_ did not converge\n",
      "  \"the coef_ did not converge\", ConvergenceWarning)\n",
      "/anaconda3/lib/python3.7/site-packages/sklearn/linear_model/sag.py:334: ConvergenceWarning: The max_iter was reached which means the coef_ did not converge\n",
      "  \"the coef_ did not converge\", ConvergenceWarning)\n"
     ]
    },
    {
     "name": "stdout",
     "output_type": "stream",
     "text": [
      "[CV]  C=129.746337890625, fit_intercept=False, intercept_scaling=25, solver=saga, score=0.5220883534136547, total=   0.2s\n",
      "[CV] C=129.746337890625, fit_intercept=False, intercept_scaling=25, solver=saga \n",
      "[CV]  C=129.746337890625, fit_intercept=False, intercept_scaling=25, solver=saga, score=0.5010060362173038, total=   0.2s\n",
      "[CV] C=129.746337890625, fit_intercept=False, intercept_scaling=50, solver=liblinear \n"
     ]
    },
    {
     "name": "stderr",
     "output_type": "stream",
     "text": [
      "/anaconda3/lib/python3.7/site-packages/sklearn/svm/base.py:931: ConvergenceWarning: Liblinear failed to converge, increase the number of iterations.\n",
      "  \"the number of iterations.\", ConvergenceWarning)\n"
     ]
    },
    {
     "name": "stdout",
     "output_type": "stream",
     "text": [
      "[CV]  C=129.746337890625, fit_intercept=False, intercept_scaling=50, solver=liblinear, score=0.5823293172690763, total=   0.2s\n",
      "[CV] C=129.746337890625, fit_intercept=False, intercept_scaling=50, solver=liblinear \n"
     ]
    },
    {
     "name": "stderr",
     "output_type": "stream",
     "text": [
      "/anaconda3/lib/python3.7/site-packages/sklearn/svm/base.py:931: ConvergenceWarning: Liblinear failed to converge, increase the number of iterations.\n",
      "  \"the number of iterations.\", ConvergenceWarning)\n"
     ]
    },
    {
     "name": "stdout",
     "output_type": "stream",
     "text": [
      "[CV]  C=129.746337890625, fit_intercept=False, intercept_scaling=50, solver=liblinear, score=0.5682730923694779, total=   0.5s\n",
      "[CV] C=129.746337890625, fit_intercept=False, intercept_scaling=50, solver=liblinear \n"
     ]
    },
    {
     "name": "stderr",
     "output_type": "stream",
     "text": [
      "/anaconda3/lib/python3.7/site-packages/sklearn/svm/base.py:931: ConvergenceWarning: Liblinear failed to converge, increase the number of iterations.\n",
      "  \"the number of iterations.\", ConvergenceWarning)\n",
      "/anaconda3/lib/python3.7/site-packages/sklearn/linear_model/sag.py:334: ConvergenceWarning: The max_iter was reached which means the coef_ did not converge\n",
      "  \"the coef_ did not converge\", ConvergenceWarning)\n"
     ]
    },
    {
     "name": "stdout",
     "output_type": "stream",
     "text": [
      "[CV]  C=129.746337890625, fit_intercept=False, intercept_scaling=50, solver=liblinear, score=0.5744466800804829, total=   0.5s\n",
      "[CV] C=129.746337890625, fit_intercept=False, intercept_scaling=50, solver=saga \n",
      "[CV]  C=129.746337890625, fit_intercept=False, intercept_scaling=50, solver=saga, score=0.5180722891566265, total=   0.1s\n",
      "[CV] C=129.746337890625, fit_intercept=False, intercept_scaling=50, solver=saga \n"
     ]
    },
    {
     "name": "stderr",
     "output_type": "stream",
     "text": [
      "/anaconda3/lib/python3.7/site-packages/sklearn/linear_model/sag.py:334: ConvergenceWarning: The max_iter was reached which means the coef_ did not converge\n",
      "  \"the coef_ did not converge\", ConvergenceWarning)\n",
      "/anaconda3/lib/python3.7/site-packages/sklearn/linear_model/sag.py:334: ConvergenceWarning: The max_iter was reached which means the coef_ did not converge\n",
      "  \"the coef_ did not converge\", ConvergenceWarning)\n"
     ]
    },
    {
     "name": "stdout",
     "output_type": "stream",
     "text": [
      "[CV]  C=129.746337890625, fit_intercept=False, intercept_scaling=50, solver=saga, score=0.5210843373493976, total=   0.1s\n",
      "[CV] C=129.746337890625, fit_intercept=False, intercept_scaling=50, solver=saga \n",
      "[CV]  C=129.746337890625, fit_intercept=False, intercept_scaling=50, solver=saga, score=0.5020120724346077, total=   0.1s\n",
      "[CV] C=129.746337890625, fit_intercept=False, intercept_scaling=100, solver=liblinear \n"
     ]
    },
    {
     "name": "stderr",
     "output_type": "stream",
     "text": [
      "/anaconda3/lib/python3.7/site-packages/sklearn/svm/base.py:931: ConvergenceWarning: Liblinear failed to converge, increase the number of iterations.\n",
      "  \"the number of iterations.\", ConvergenceWarning)\n"
     ]
    },
    {
     "name": "stdout",
     "output_type": "stream",
     "text": [
      "[CV]  C=129.746337890625, fit_intercept=False, intercept_scaling=100, solver=liblinear, score=0.5823293172690763, total=   0.2s\n",
      "[CV] C=129.746337890625, fit_intercept=False, intercept_scaling=100, solver=liblinear \n"
     ]
    },
    {
     "name": "stderr",
     "output_type": "stream",
     "text": [
      "/anaconda3/lib/python3.7/site-packages/sklearn/svm/base.py:931: ConvergenceWarning: Liblinear failed to converge, increase the number of iterations.\n",
      "  \"the number of iterations.\", ConvergenceWarning)\n"
     ]
    },
    {
     "name": "stdout",
     "output_type": "stream",
     "text": [
      "[CV]  C=129.746337890625, fit_intercept=False, intercept_scaling=100, solver=liblinear, score=0.5682730923694779, total=   0.4s\n",
      "[CV] C=129.746337890625, fit_intercept=False, intercept_scaling=100, solver=liblinear \n"
     ]
    },
    {
     "name": "stderr",
     "output_type": "stream",
     "text": [
      "/anaconda3/lib/python3.7/site-packages/sklearn/svm/base.py:931: ConvergenceWarning: Liblinear failed to converge, increase the number of iterations.\n",
      "  \"the number of iterations.\", ConvergenceWarning)\n",
      "/anaconda3/lib/python3.7/site-packages/sklearn/linear_model/sag.py:334: ConvergenceWarning: The max_iter was reached which means the coef_ did not converge\n",
      "  \"the coef_ did not converge\", ConvergenceWarning)\n"
     ]
    },
    {
     "name": "stdout",
     "output_type": "stream",
     "text": [
      "[CV]  C=129.746337890625, fit_intercept=False, intercept_scaling=100, solver=liblinear, score=0.5744466800804829, total=   0.5s\n",
      "[CV] C=129.746337890625, fit_intercept=False, intercept_scaling=100, solver=saga \n",
      "[CV]  C=129.746337890625, fit_intercept=False, intercept_scaling=100, solver=saga, score=0.5180722891566265, total=   0.2s\n",
      "[CV] C=129.746337890625, fit_intercept=False, intercept_scaling=100, solver=saga \n"
     ]
    },
    {
     "name": "stderr",
     "output_type": "stream",
     "text": [
      "/anaconda3/lib/python3.7/site-packages/sklearn/linear_model/sag.py:334: ConvergenceWarning: The max_iter was reached which means the coef_ did not converge\n",
      "  \"the coef_ did not converge\", ConvergenceWarning)\n",
      "/anaconda3/lib/python3.7/site-packages/sklearn/linear_model/sag.py:334: ConvergenceWarning: The max_iter was reached which means the coef_ did not converge\n",
      "  \"the coef_ did not converge\", ConvergenceWarning)\n"
     ]
    },
    {
     "name": "stdout",
     "output_type": "stream",
     "text": [
      "[CV]  C=129.746337890625, fit_intercept=False, intercept_scaling=100, solver=saga, score=0.5190763052208835, total=   0.2s\n",
      "[CV] C=129.746337890625, fit_intercept=False, intercept_scaling=100, solver=saga \n",
      "[CV]  C=129.746337890625, fit_intercept=False, intercept_scaling=100, solver=saga, score=0.5010060362173038, total=   0.1s\n",
      "[CV] C=291.92926025390625, fit_intercept=True, intercept_scaling=1, solver=liblinear \n"
     ]
    },
    {
     "name": "stderr",
     "output_type": "stream",
     "text": [
      "/anaconda3/lib/python3.7/site-packages/sklearn/svm/base.py:931: ConvergenceWarning: Liblinear failed to converge, increase the number of iterations.\n",
      "  \"the number of iterations.\", ConvergenceWarning)\n"
     ]
    },
    {
     "name": "stdout",
     "output_type": "stream",
     "text": [
      "[CV]  C=291.92926025390625, fit_intercept=True, intercept_scaling=1, solver=liblinear, score=0.5913654618473896, total=   0.4s\n",
      "[CV] C=291.92926025390625, fit_intercept=True, intercept_scaling=1, solver=liblinear \n"
     ]
    },
    {
     "name": "stderr",
     "output_type": "stream",
     "text": [
      "/anaconda3/lib/python3.7/site-packages/sklearn/svm/base.py:931: ConvergenceWarning: Liblinear failed to converge, increase the number of iterations.\n",
      "  \"the number of iterations.\", ConvergenceWarning)\n"
     ]
    },
    {
     "name": "stdout",
     "output_type": "stream",
     "text": [
      "[CV]  C=291.92926025390625, fit_intercept=True, intercept_scaling=1, solver=liblinear, score=0.5662650602409639, total=   0.5s\n",
      "[CV] C=291.92926025390625, fit_intercept=True, intercept_scaling=1, solver=liblinear \n"
     ]
    },
    {
     "name": "stderr",
     "output_type": "stream",
     "text": [
      "/anaconda3/lib/python3.7/site-packages/sklearn/svm/base.py:931: ConvergenceWarning: Liblinear failed to converge, increase the number of iterations.\n",
      "  \"the number of iterations.\", ConvergenceWarning)\n",
      "/anaconda3/lib/python3.7/site-packages/sklearn/linear_model/sag.py:334: ConvergenceWarning: The max_iter was reached which means the coef_ did not converge\n",
      "  \"the coef_ did not converge\", ConvergenceWarning)\n"
     ]
    },
    {
     "name": "stdout",
     "output_type": "stream",
     "text": [
      "[CV]  C=291.92926025390625, fit_intercept=True, intercept_scaling=1, solver=liblinear, score=0.5734406438631791, total=   0.5s\n",
      "[CV] C=291.92926025390625, fit_intercept=True, intercept_scaling=1, solver=saga \n",
      "[CV]  C=291.92926025390625, fit_intercept=True, intercept_scaling=1, solver=saga, score=0.5170682730923695, total=   0.1s\n",
      "[CV] C=291.92926025390625, fit_intercept=True, intercept_scaling=1, solver=saga \n"
     ]
    },
    {
     "name": "stderr",
     "output_type": "stream",
     "text": [
      "/anaconda3/lib/python3.7/site-packages/sklearn/linear_model/sag.py:334: ConvergenceWarning: The max_iter was reached which means the coef_ did not converge\n",
      "  \"the coef_ did not converge\", ConvergenceWarning)\n",
      "/anaconda3/lib/python3.7/site-packages/sklearn/linear_model/sag.py:334: ConvergenceWarning: The max_iter was reached which means the coef_ did not converge\n",
      "  \"the coef_ did not converge\", ConvergenceWarning)\n"
     ]
    },
    {
     "name": "stdout",
     "output_type": "stream",
     "text": [
      "[CV]  C=291.92926025390625, fit_intercept=True, intercept_scaling=1, solver=saga, score=0.5190763052208835, total=   0.2s\n",
      "[CV] C=291.92926025390625, fit_intercept=True, intercept_scaling=1, solver=saga \n",
      "[CV]  C=291.92926025390625, fit_intercept=True, intercept_scaling=1, solver=saga, score=0.5020120724346077, total=   0.2s\n",
      "[CV] C=291.92926025390625, fit_intercept=True, intercept_scaling=5, solver=liblinear \n"
     ]
    },
    {
     "name": "stderr",
     "output_type": "stream",
     "text": [
      "/anaconda3/lib/python3.7/site-packages/sklearn/svm/base.py:931: ConvergenceWarning: Liblinear failed to converge, increase the number of iterations.\n",
      "  \"the number of iterations.\", ConvergenceWarning)\n"
     ]
    },
    {
     "name": "stdout",
     "output_type": "stream",
     "text": [
      "[CV]  C=291.92926025390625, fit_intercept=True, intercept_scaling=5, solver=liblinear, score=0.5843373493975904, total=   0.2s\n",
      "[CV] C=291.92926025390625, fit_intercept=True, intercept_scaling=5, solver=liblinear \n"
     ]
    },
    {
     "name": "stderr",
     "output_type": "stream",
     "text": [
      "/anaconda3/lib/python3.7/site-packages/sklearn/svm/base.py:931: ConvergenceWarning: Liblinear failed to converge, increase the number of iterations.\n",
      "  \"the number of iterations.\", ConvergenceWarning)\n"
     ]
    },
    {
     "name": "stdout",
     "output_type": "stream",
     "text": [
      "[CV]  C=291.92926025390625, fit_intercept=True, intercept_scaling=5, solver=liblinear, score=0.5532128514056225, total=   0.4s\n",
      "[CV] C=291.92926025390625, fit_intercept=True, intercept_scaling=5, solver=liblinear \n"
     ]
    },
    {
     "name": "stderr",
     "output_type": "stream",
     "text": [
      "/anaconda3/lib/python3.7/site-packages/sklearn/svm/base.py:931: ConvergenceWarning: Liblinear failed to converge, increase the number of iterations.\n",
      "  \"the number of iterations.\", ConvergenceWarning)\n",
      "/anaconda3/lib/python3.7/site-packages/sklearn/linear_model/sag.py:334: ConvergenceWarning: The max_iter was reached which means the coef_ did not converge\n",
      "  \"the coef_ did not converge\", ConvergenceWarning)\n"
     ]
    },
    {
     "name": "stdout",
     "output_type": "stream",
     "text": [
      "[CV]  C=291.92926025390625, fit_intercept=True, intercept_scaling=5, solver=liblinear, score=0.5714285714285714, total=   0.6s\n",
      "[CV] C=291.92926025390625, fit_intercept=True, intercept_scaling=5, solver=saga \n",
      "[CV]  C=291.92926025390625, fit_intercept=True, intercept_scaling=5, solver=saga, score=0.5180722891566265, total=   0.2s\n",
      "[CV] C=291.92926025390625, fit_intercept=True, intercept_scaling=5, solver=saga \n"
     ]
    },
    {
     "name": "stderr",
     "output_type": "stream",
     "text": [
      "/anaconda3/lib/python3.7/site-packages/sklearn/linear_model/sag.py:334: ConvergenceWarning: The max_iter was reached which means the coef_ did not converge\n",
      "  \"the coef_ did not converge\", ConvergenceWarning)\n",
      "/anaconda3/lib/python3.7/site-packages/sklearn/linear_model/sag.py:334: ConvergenceWarning: The max_iter was reached which means the coef_ did not converge\n",
      "  \"the coef_ did not converge\", ConvergenceWarning)\n"
     ]
    },
    {
     "name": "stdout",
     "output_type": "stream",
     "text": [
      "[CV]  C=291.92926025390625, fit_intercept=True, intercept_scaling=5, solver=saga, score=0.5210843373493976, total=   0.2s\n",
      "[CV] C=291.92926025390625, fit_intercept=True, intercept_scaling=5, solver=saga \n",
      "[CV]  C=291.92926025390625, fit_intercept=True, intercept_scaling=5, solver=saga, score=0.5020120724346077, total=   0.1s\n",
      "[CV] C=291.92926025390625, fit_intercept=True, intercept_scaling=10, solver=liblinear \n"
     ]
    },
    {
     "name": "stderr",
     "output_type": "stream",
     "text": [
      "/anaconda3/lib/python3.7/site-packages/sklearn/svm/base.py:931: ConvergenceWarning: Liblinear failed to converge, increase the number of iterations.\n",
      "  \"the number of iterations.\", ConvergenceWarning)\n"
     ]
    },
    {
     "name": "stdout",
     "output_type": "stream",
     "text": [
      "[CV]  C=291.92926025390625, fit_intercept=True, intercept_scaling=10, solver=liblinear, score=0.5863453815261044, total=   0.2s\n",
      "[CV] C=291.92926025390625, fit_intercept=True, intercept_scaling=10, solver=liblinear \n"
     ]
    },
    {
     "name": "stderr",
     "output_type": "stream",
     "text": [
      "/anaconda3/lib/python3.7/site-packages/sklearn/svm/base.py:931: ConvergenceWarning: Liblinear failed to converge, increase the number of iterations.\n",
      "  \"the number of iterations.\", ConvergenceWarning)\n"
     ]
    },
    {
     "name": "stdout",
     "output_type": "stream",
     "text": [
      "[CV]  C=291.92926025390625, fit_intercept=True, intercept_scaling=10, solver=liblinear, score=0.5622489959839357, total=   0.4s\n",
      "[CV] C=291.92926025390625, fit_intercept=True, intercept_scaling=10, solver=liblinear \n"
     ]
    },
    {
     "name": "stderr",
     "output_type": "stream",
     "text": [
      "/anaconda3/lib/python3.7/site-packages/sklearn/svm/base.py:931: ConvergenceWarning: Liblinear failed to converge, increase the number of iterations.\n",
      "  \"the number of iterations.\", ConvergenceWarning)\n",
      "/anaconda3/lib/python3.7/site-packages/sklearn/linear_model/sag.py:334: ConvergenceWarning: The max_iter was reached which means the coef_ did not converge\n",
      "  \"the coef_ did not converge\", ConvergenceWarning)\n"
     ]
    },
    {
     "name": "stdout",
     "output_type": "stream",
     "text": [
      "[CV]  C=291.92926025390625, fit_intercept=True, intercept_scaling=10, solver=liblinear, score=0.5764587525150905, total=   0.5s\n",
      "[CV] C=291.92926025390625, fit_intercept=True, intercept_scaling=10, solver=saga \n",
      "[CV]  C=291.92926025390625, fit_intercept=True, intercept_scaling=10, solver=saga, score=0.5170682730923695, total=   0.1s\n",
      "[CV] C=291.92926025390625, fit_intercept=True, intercept_scaling=10, solver=saga \n"
     ]
    },
    {
     "name": "stderr",
     "output_type": "stream",
     "text": [
      "/anaconda3/lib/python3.7/site-packages/sklearn/linear_model/sag.py:334: ConvergenceWarning: The max_iter was reached which means the coef_ did not converge\n",
      "  \"the coef_ did not converge\", ConvergenceWarning)\n",
      "/anaconda3/lib/python3.7/site-packages/sklearn/linear_model/sag.py:334: ConvergenceWarning: The max_iter was reached which means the coef_ did not converge\n",
      "  \"the coef_ did not converge\", ConvergenceWarning)\n"
     ]
    },
    {
     "name": "stdout",
     "output_type": "stream",
     "text": [
      "[CV]  C=291.92926025390625, fit_intercept=True, intercept_scaling=10, solver=saga, score=0.5180722891566265, total=   0.1s\n",
      "[CV] C=291.92926025390625, fit_intercept=True, intercept_scaling=10, solver=saga \n",
      "[CV]  C=291.92926025390625, fit_intercept=True, intercept_scaling=10, solver=saga, score=0.5020120724346077, total=   0.1s\n",
      "[CV] C=291.92926025390625, fit_intercept=True, intercept_scaling=25, solver=liblinear \n"
     ]
    },
    {
     "name": "stderr",
     "output_type": "stream",
     "text": [
      "/anaconda3/lib/python3.7/site-packages/sklearn/svm/base.py:931: ConvergenceWarning: Liblinear failed to converge, increase the number of iterations.\n",
      "  \"the number of iterations.\", ConvergenceWarning)\n"
     ]
    },
    {
     "name": "stdout",
     "output_type": "stream",
     "text": [
      "[CV]  C=291.92926025390625, fit_intercept=True, intercept_scaling=25, solver=liblinear, score=0.5863453815261044, total=   0.2s\n",
      "[CV] C=291.92926025390625, fit_intercept=True, intercept_scaling=25, solver=liblinear \n"
     ]
    },
    {
     "name": "stderr",
     "output_type": "stream",
     "text": [
      "/anaconda3/lib/python3.7/site-packages/sklearn/svm/base.py:931: ConvergenceWarning: Liblinear failed to converge, increase the number of iterations.\n",
      "  \"the number of iterations.\", ConvergenceWarning)\n"
     ]
    },
    {
     "name": "stdout",
     "output_type": "stream",
     "text": [
      "[CV]  C=291.92926025390625, fit_intercept=True, intercept_scaling=25, solver=liblinear, score=0.5612449799196787, total=   0.4s\n",
      "[CV] C=291.92926025390625, fit_intercept=True, intercept_scaling=25, solver=liblinear \n"
     ]
    },
    {
     "name": "stderr",
     "output_type": "stream",
     "text": [
      "/anaconda3/lib/python3.7/site-packages/sklearn/svm/base.py:931: ConvergenceWarning: Liblinear failed to converge, increase the number of iterations.\n",
      "  \"the number of iterations.\", ConvergenceWarning)\n",
      "/anaconda3/lib/python3.7/site-packages/sklearn/linear_model/sag.py:334: ConvergenceWarning: The max_iter was reached which means the coef_ did not converge\n",
      "  \"the coef_ did not converge\", ConvergenceWarning)\n"
     ]
    },
    {
     "name": "stdout",
     "output_type": "stream",
     "text": [
      "[CV]  C=291.92926025390625, fit_intercept=True, intercept_scaling=25, solver=liblinear, score=0.5714285714285714, total=   0.3s\n",
      "[CV] C=291.92926025390625, fit_intercept=True, intercept_scaling=25, solver=saga \n",
      "[CV]  C=291.92926025390625, fit_intercept=True, intercept_scaling=25, solver=saga, score=0.5180722891566265, total=   0.1s\n",
      "[CV] C=291.92926025390625, fit_intercept=True, intercept_scaling=25, solver=saga \n"
     ]
    },
    {
     "name": "stderr",
     "output_type": "stream",
     "text": [
      "/anaconda3/lib/python3.7/site-packages/sklearn/linear_model/sag.py:334: ConvergenceWarning: The max_iter was reached which means the coef_ did not converge\n",
      "  \"the coef_ did not converge\", ConvergenceWarning)\n",
      "/anaconda3/lib/python3.7/site-packages/sklearn/linear_model/sag.py:334: ConvergenceWarning: The max_iter was reached which means the coef_ did not converge\n",
      "  \"the coef_ did not converge\", ConvergenceWarning)\n"
     ]
    },
    {
     "name": "stdout",
     "output_type": "stream",
     "text": [
      "[CV]  C=291.92926025390625, fit_intercept=True, intercept_scaling=25, solver=saga, score=0.5200803212851406, total=   0.1s\n",
      "[CV] C=291.92926025390625, fit_intercept=True, intercept_scaling=25, solver=saga \n",
      "[CV]  C=291.92926025390625, fit_intercept=True, intercept_scaling=25, solver=saga, score=0.5010060362173038, total=   0.1s\n",
      "[CV] C=291.92926025390625, fit_intercept=True, intercept_scaling=50, solver=liblinear \n"
     ]
    },
    {
     "name": "stderr",
     "output_type": "stream",
     "text": [
      "/anaconda3/lib/python3.7/site-packages/sklearn/svm/base.py:931: ConvergenceWarning: Liblinear failed to converge, increase the number of iterations.\n",
      "  \"the number of iterations.\", ConvergenceWarning)\n"
     ]
    },
    {
     "name": "stdout",
     "output_type": "stream",
     "text": [
      "[CV]  C=291.92926025390625, fit_intercept=True, intercept_scaling=50, solver=liblinear, score=0.5913654618473896, total=   0.2s\n",
      "[CV] C=291.92926025390625, fit_intercept=True, intercept_scaling=50, solver=liblinear \n"
     ]
    },
    {
     "name": "stderr",
     "output_type": "stream",
     "text": [
      "/anaconda3/lib/python3.7/site-packages/sklearn/svm/base.py:931: ConvergenceWarning: Liblinear failed to converge, increase the number of iterations.\n",
      "  \"the number of iterations.\", ConvergenceWarning)\n"
     ]
    },
    {
     "name": "stdout",
     "output_type": "stream",
     "text": [
      "[CV]  C=291.92926025390625, fit_intercept=True, intercept_scaling=50, solver=liblinear, score=0.5582329317269076, total=   0.4s\n",
      "[CV] C=291.92926025390625, fit_intercept=True, intercept_scaling=50, solver=liblinear \n"
     ]
    },
    {
     "name": "stderr",
     "output_type": "stream",
     "text": [
      "/anaconda3/lib/python3.7/site-packages/sklearn/svm/base.py:931: ConvergenceWarning: Liblinear failed to converge, increase the number of iterations.\n",
      "  \"the number of iterations.\", ConvergenceWarning)\n",
      "/anaconda3/lib/python3.7/site-packages/sklearn/linear_model/sag.py:334: ConvergenceWarning: The max_iter was reached which means the coef_ did not converge\n",
      "  \"the coef_ did not converge\", ConvergenceWarning)\n"
     ]
    },
    {
     "name": "stdout",
     "output_type": "stream",
     "text": [
      "[CV]  C=291.92926025390625, fit_intercept=True, intercept_scaling=50, solver=liblinear, score=0.5714285714285714, total=   0.3s\n",
      "[CV] C=291.92926025390625, fit_intercept=True, intercept_scaling=50, solver=saga \n",
      "[CV]  C=291.92926025390625, fit_intercept=True, intercept_scaling=50, solver=saga, score=0.5180722891566265, total=   0.1s\n",
      "[CV] C=291.92926025390625, fit_intercept=True, intercept_scaling=50, solver=saga \n"
     ]
    },
    {
     "name": "stderr",
     "output_type": "stream",
     "text": [
      "/anaconda3/lib/python3.7/site-packages/sklearn/linear_model/sag.py:334: ConvergenceWarning: The max_iter was reached which means the coef_ did not converge\n",
      "  \"the coef_ did not converge\", ConvergenceWarning)\n",
      "/anaconda3/lib/python3.7/site-packages/sklearn/linear_model/sag.py:334: ConvergenceWarning: The max_iter was reached which means the coef_ did not converge\n",
      "  \"the coef_ did not converge\", ConvergenceWarning)\n"
     ]
    },
    {
     "name": "stdout",
     "output_type": "stream",
     "text": [
      "[CV]  C=291.92926025390625, fit_intercept=True, intercept_scaling=50, solver=saga, score=0.5190763052208835, total=   0.1s\n",
      "[CV] C=291.92926025390625, fit_intercept=True, intercept_scaling=50, solver=saga \n",
      "[CV]  C=291.92926025390625, fit_intercept=True, intercept_scaling=50, solver=saga, score=0.5020120724346077, total=   0.1s\n",
      "[CV] C=291.92926025390625, fit_intercept=True, intercept_scaling=100, solver=liblinear \n"
     ]
    },
    {
     "name": "stderr",
     "output_type": "stream",
     "text": [
      "/anaconda3/lib/python3.7/site-packages/sklearn/svm/base.py:931: ConvergenceWarning: Liblinear failed to converge, increase the number of iterations.\n",
      "  \"the number of iterations.\", ConvergenceWarning)\n"
     ]
    },
    {
     "name": "stdout",
     "output_type": "stream",
     "text": [
      "[CV]  C=291.92926025390625, fit_intercept=True, intercept_scaling=100, solver=liblinear, score=0.5883534136546185, total=   0.2s\n",
      "[CV] C=291.92926025390625, fit_intercept=True, intercept_scaling=100, solver=liblinear \n"
     ]
    },
    {
     "name": "stderr",
     "output_type": "stream",
     "text": [
      "/anaconda3/lib/python3.7/site-packages/sklearn/svm/base.py:931: ConvergenceWarning: Liblinear failed to converge, increase the number of iterations.\n",
      "  \"the number of iterations.\", ConvergenceWarning)\n"
     ]
    },
    {
     "name": "stdout",
     "output_type": "stream",
     "text": [
      "[CV]  C=291.92926025390625, fit_intercept=True, intercept_scaling=100, solver=liblinear, score=0.5562248995983936, total=   0.4s\n",
      "[CV] C=291.92926025390625, fit_intercept=True, intercept_scaling=100, solver=liblinear \n"
     ]
    },
    {
     "name": "stderr",
     "output_type": "stream",
     "text": [
      "/anaconda3/lib/python3.7/site-packages/sklearn/svm/base.py:931: ConvergenceWarning: Liblinear failed to converge, increase the number of iterations.\n",
      "  \"the number of iterations.\", ConvergenceWarning)\n",
      "/anaconda3/lib/python3.7/site-packages/sklearn/linear_model/sag.py:334: ConvergenceWarning: The max_iter was reached which means the coef_ did not converge\n",
      "  \"the coef_ did not converge\", ConvergenceWarning)\n"
     ]
    },
    {
     "name": "stdout",
     "output_type": "stream",
     "text": [
      "[CV]  C=291.92926025390625, fit_intercept=True, intercept_scaling=100, solver=liblinear, score=0.5694164989939637, total=   0.4s\n",
      "[CV] C=291.92926025390625, fit_intercept=True, intercept_scaling=100, solver=saga \n",
      "[CV]  C=291.92926025390625, fit_intercept=True, intercept_scaling=100, solver=saga, score=0.5190763052208835, total=   0.1s\n",
      "[CV] C=291.92926025390625, fit_intercept=True, intercept_scaling=100, solver=saga \n"
     ]
    },
    {
     "name": "stderr",
     "output_type": "stream",
     "text": [
      "/anaconda3/lib/python3.7/site-packages/sklearn/linear_model/sag.py:334: ConvergenceWarning: The max_iter was reached which means the coef_ did not converge\n",
      "  \"the coef_ did not converge\", ConvergenceWarning)\n",
      "/anaconda3/lib/python3.7/site-packages/sklearn/linear_model/sag.py:334: ConvergenceWarning: The max_iter was reached which means the coef_ did not converge\n",
      "  \"the coef_ did not converge\", ConvergenceWarning)\n"
     ]
    },
    {
     "name": "stdout",
     "output_type": "stream",
     "text": [
      "[CV]  C=291.92926025390625, fit_intercept=True, intercept_scaling=100, solver=saga, score=0.5200803212851406, total=   0.1s\n",
      "[CV] C=291.92926025390625, fit_intercept=True, intercept_scaling=100, solver=saga \n",
      "[CV]  C=291.92926025390625, fit_intercept=True, intercept_scaling=100, solver=saga, score=0.5020120724346077, total=   0.1s\n",
      "[CV] C=291.92926025390625, fit_intercept=False, intercept_scaling=1, solver=liblinear \n"
     ]
    },
    {
     "name": "stderr",
     "output_type": "stream",
     "text": [
      "/anaconda3/lib/python3.7/site-packages/sklearn/svm/base.py:931: ConvergenceWarning: Liblinear failed to converge, increase the number of iterations.\n",
      "  \"the number of iterations.\", ConvergenceWarning)\n"
     ]
    },
    {
     "name": "stdout",
     "output_type": "stream",
     "text": [
      "[CV]  C=291.92926025390625, fit_intercept=False, intercept_scaling=1, solver=liblinear, score=0.5873493975903614, total=   0.2s\n",
      "[CV] C=291.92926025390625, fit_intercept=False, intercept_scaling=1, solver=liblinear \n"
     ]
    },
    {
     "name": "stderr",
     "output_type": "stream",
     "text": [
      "/anaconda3/lib/python3.7/site-packages/sklearn/svm/base.py:931: ConvergenceWarning: Liblinear failed to converge, increase the number of iterations.\n",
      "  \"the number of iterations.\", ConvergenceWarning)\n"
     ]
    },
    {
     "name": "stdout",
     "output_type": "stream",
     "text": [
      "[CV]  C=291.92926025390625, fit_intercept=False, intercept_scaling=1, solver=liblinear, score=0.5622489959839357, total=   0.6s\n",
      "[CV] C=291.92926025390625, fit_intercept=False, intercept_scaling=1, solver=liblinear \n"
     ]
    },
    {
     "name": "stderr",
     "output_type": "stream",
     "text": [
      "/anaconda3/lib/python3.7/site-packages/sklearn/svm/base.py:931: ConvergenceWarning: Liblinear failed to converge, increase the number of iterations.\n",
      "  \"the number of iterations.\", ConvergenceWarning)\n",
      "/anaconda3/lib/python3.7/site-packages/sklearn/linear_model/sag.py:334: ConvergenceWarning: The max_iter was reached which means the coef_ did not converge\n",
      "  \"the coef_ did not converge\", ConvergenceWarning)\n"
     ]
    },
    {
     "name": "stdout",
     "output_type": "stream",
     "text": [
      "[CV]  C=291.92926025390625, fit_intercept=False, intercept_scaling=1, solver=liblinear, score=0.5754527162977867, total=   0.6s\n",
      "[CV] C=291.92926025390625, fit_intercept=False, intercept_scaling=1, solver=saga \n",
      "[CV]  C=291.92926025390625, fit_intercept=False, intercept_scaling=1, solver=saga, score=0.5170682730923695, total=   0.1s\n",
      "[CV] C=291.92926025390625, fit_intercept=False, intercept_scaling=1, solver=saga \n"
     ]
    },
    {
     "name": "stderr",
     "output_type": "stream",
     "text": [
      "/anaconda3/lib/python3.7/site-packages/sklearn/linear_model/sag.py:334: ConvergenceWarning: The max_iter was reached which means the coef_ did not converge\n",
      "  \"the coef_ did not converge\", ConvergenceWarning)\n",
      "/anaconda3/lib/python3.7/site-packages/sklearn/linear_model/sag.py:334: ConvergenceWarning: The max_iter was reached which means the coef_ did not converge\n",
      "  \"the coef_ did not converge\", ConvergenceWarning)\n"
     ]
    },
    {
     "name": "stdout",
     "output_type": "stream",
     "text": [
      "[CV]  C=291.92926025390625, fit_intercept=False, intercept_scaling=1, solver=saga, score=0.5200803212851406, total=   0.2s\n",
      "[CV] C=291.92926025390625, fit_intercept=False, intercept_scaling=1, solver=saga \n",
      "[CV]  C=291.92926025390625, fit_intercept=False, intercept_scaling=1, solver=saga, score=0.5010060362173038, total=   0.1s\n",
      "[CV] C=291.92926025390625, fit_intercept=False, intercept_scaling=5, solver=liblinear \n"
     ]
    },
    {
     "name": "stderr",
     "output_type": "stream",
     "text": [
      "/anaconda3/lib/python3.7/site-packages/sklearn/svm/base.py:931: ConvergenceWarning: Liblinear failed to converge, increase the number of iterations.\n",
      "  \"the number of iterations.\", ConvergenceWarning)\n"
     ]
    },
    {
     "name": "stdout",
     "output_type": "stream",
     "text": [
      "[CV]  C=291.92926025390625, fit_intercept=False, intercept_scaling=5, solver=liblinear, score=0.5873493975903614, total=   0.2s\n",
      "[CV] C=291.92926025390625, fit_intercept=False, intercept_scaling=5, solver=liblinear \n"
     ]
    },
    {
     "name": "stderr",
     "output_type": "stream",
     "text": [
      "/anaconda3/lib/python3.7/site-packages/sklearn/svm/base.py:931: ConvergenceWarning: Liblinear failed to converge, increase the number of iterations.\n",
      "  \"the number of iterations.\", ConvergenceWarning)\n"
     ]
    },
    {
     "name": "stdout",
     "output_type": "stream",
     "text": [
      "[CV]  C=291.92926025390625, fit_intercept=False, intercept_scaling=5, solver=liblinear, score=0.5622489959839357, total=   0.6s\n",
      "[CV] C=291.92926025390625, fit_intercept=False, intercept_scaling=5, solver=liblinear \n"
     ]
    },
    {
     "name": "stderr",
     "output_type": "stream",
     "text": [
      "/anaconda3/lib/python3.7/site-packages/sklearn/svm/base.py:931: ConvergenceWarning: Liblinear failed to converge, increase the number of iterations.\n",
      "  \"the number of iterations.\", ConvergenceWarning)\n",
      "/anaconda3/lib/python3.7/site-packages/sklearn/linear_model/sag.py:334: ConvergenceWarning: The max_iter was reached which means the coef_ did not converge\n",
      "  \"the coef_ did not converge\", ConvergenceWarning)\n"
     ]
    },
    {
     "name": "stdout",
     "output_type": "stream",
     "text": [
      "[CV]  C=291.92926025390625, fit_intercept=False, intercept_scaling=5, solver=liblinear, score=0.5754527162977867, total=   0.5s\n",
      "[CV] C=291.92926025390625, fit_intercept=False, intercept_scaling=5, solver=saga \n",
      "[CV]  C=291.92926025390625, fit_intercept=False, intercept_scaling=5, solver=saga, score=0.5180722891566265, total=   0.1s\n",
      "[CV] C=291.92926025390625, fit_intercept=False, intercept_scaling=5, solver=saga \n"
     ]
    },
    {
     "name": "stderr",
     "output_type": "stream",
     "text": [
      "/anaconda3/lib/python3.7/site-packages/sklearn/linear_model/sag.py:334: ConvergenceWarning: The max_iter was reached which means the coef_ did not converge\n",
      "  \"the coef_ did not converge\", ConvergenceWarning)\n",
      "/anaconda3/lib/python3.7/site-packages/sklearn/linear_model/sag.py:334: ConvergenceWarning: The max_iter was reached which means the coef_ did not converge\n",
      "  \"the coef_ did not converge\", ConvergenceWarning)\n"
     ]
    },
    {
     "name": "stdout",
     "output_type": "stream",
     "text": [
      "[CV]  C=291.92926025390625, fit_intercept=False, intercept_scaling=5, solver=saga, score=0.5220883534136547, total=   0.2s\n",
      "[CV] C=291.92926025390625, fit_intercept=False, intercept_scaling=5, solver=saga \n",
      "[CV]  C=291.92926025390625, fit_intercept=False, intercept_scaling=5, solver=saga, score=0.5020120724346077, total=   0.1s\n",
      "[CV] C=291.92926025390625, fit_intercept=False, intercept_scaling=10, solver=liblinear \n"
     ]
    },
    {
     "name": "stderr",
     "output_type": "stream",
     "text": [
      "/anaconda3/lib/python3.7/site-packages/sklearn/svm/base.py:931: ConvergenceWarning: Liblinear failed to converge, increase the number of iterations.\n",
      "  \"the number of iterations.\", ConvergenceWarning)\n"
     ]
    },
    {
     "name": "stdout",
     "output_type": "stream",
     "text": [
      "[CV]  C=291.92926025390625, fit_intercept=False, intercept_scaling=10, solver=liblinear, score=0.5873493975903614, total=   0.2s\n",
      "[CV] C=291.92926025390625, fit_intercept=False, intercept_scaling=10, solver=liblinear \n"
     ]
    },
    {
     "name": "stderr",
     "output_type": "stream",
     "text": [
      "/anaconda3/lib/python3.7/site-packages/sklearn/svm/base.py:931: ConvergenceWarning: Liblinear failed to converge, increase the number of iterations.\n",
      "  \"the number of iterations.\", ConvergenceWarning)\n"
     ]
    },
    {
     "name": "stdout",
     "output_type": "stream",
     "text": [
      "[CV]  C=291.92926025390625, fit_intercept=False, intercept_scaling=10, solver=liblinear, score=0.5622489959839357, total=   0.5s\n",
      "[CV] C=291.92926025390625, fit_intercept=False, intercept_scaling=10, solver=liblinear \n"
     ]
    },
    {
     "name": "stderr",
     "output_type": "stream",
     "text": [
      "/anaconda3/lib/python3.7/site-packages/sklearn/svm/base.py:931: ConvergenceWarning: Liblinear failed to converge, increase the number of iterations.\n",
      "  \"the number of iterations.\", ConvergenceWarning)\n",
      "/anaconda3/lib/python3.7/site-packages/sklearn/linear_model/sag.py:334: ConvergenceWarning: The max_iter was reached which means the coef_ did not converge\n",
      "  \"the coef_ did not converge\", ConvergenceWarning)\n"
     ]
    },
    {
     "name": "stdout",
     "output_type": "stream",
     "text": [
      "[CV]  C=291.92926025390625, fit_intercept=False, intercept_scaling=10, solver=liblinear, score=0.5754527162977867, total=   0.5s\n",
      "[CV] C=291.92926025390625, fit_intercept=False, intercept_scaling=10, solver=saga \n",
      "[CV]  C=291.92926025390625, fit_intercept=False, intercept_scaling=10, solver=saga, score=0.5170682730923695, total=   0.1s\n",
      "[CV] C=291.92926025390625, fit_intercept=False, intercept_scaling=10, solver=saga \n"
     ]
    },
    {
     "name": "stderr",
     "output_type": "stream",
     "text": [
      "/anaconda3/lib/python3.7/site-packages/sklearn/linear_model/sag.py:334: ConvergenceWarning: The max_iter was reached which means the coef_ did not converge\n",
      "  \"the coef_ did not converge\", ConvergenceWarning)\n",
      "/anaconda3/lib/python3.7/site-packages/sklearn/linear_model/sag.py:334: ConvergenceWarning: The max_iter was reached which means the coef_ did not converge\n",
      "  \"the coef_ did not converge\", ConvergenceWarning)\n"
     ]
    },
    {
     "name": "stdout",
     "output_type": "stream",
     "text": [
      "[CV]  C=291.92926025390625, fit_intercept=False, intercept_scaling=10, solver=saga, score=0.5210843373493976, total=   0.2s\n",
      "[CV] C=291.92926025390625, fit_intercept=False, intercept_scaling=10, solver=saga \n",
      "[CV]  C=291.92926025390625, fit_intercept=False, intercept_scaling=10, solver=saga, score=0.5020120724346077, total=   0.2s\n",
      "[CV] C=291.92926025390625, fit_intercept=False, intercept_scaling=25, solver=liblinear \n"
     ]
    },
    {
     "name": "stderr",
     "output_type": "stream",
     "text": [
      "/anaconda3/lib/python3.7/site-packages/sklearn/svm/base.py:931: ConvergenceWarning: Liblinear failed to converge, increase the number of iterations.\n",
      "  \"the number of iterations.\", ConvergenceWarning)\n"
     ]
    },
    {
     "name": "stdout",
     "output_type": "stream",
     "text": [
      "[CV]  C=291.92926025390625, fit_intercept=False, intercept_scaling=25, solver=liblinear, score=0.5873493975903614, total=   0.2s\n",
      "[CV] C=291.92926025390625, fit_intercept=False, intercept_scaling=25, solver=liblinear \n"
     ]
    },
    {
     "name": "stderr",
     "output_type": "stream",
     "text": [
      "/anaconda3/lib/python3.7/site-packages/sklearn/svm/base.py:931: ConvergenceWarning: Liblinear failed to converge, increase the number of iterations.\n",
      "  \"the number of iterations.\", ConvergenceWarning)\n"
     ]
    },
    {
     "name": "stdout",
     "output_type": "stream",
     "text": [
      "[CV]  C=291.92926025390625, fit_intercept=False, intercept_scaling=25, solver=liblinear, score=0.5622489959839357, total=   0.6s\n",
      "[CV] C=291.92926025390625, fit_intercept=False, intercept_scaling=25, solver=liblinear \n"
     ]
    },
    {
     "name": "stderr",
     "output_type": "stream",
     "text": [
      "/anaconda3/lib/python3.7/site-packages/sklearn/svm/base.py:931: ConvergenceWarning: Liblinear failed to converge, increase the number of iterations.\n",
      "  \"the number of iterations.\", ConvergenceWarning)\n",
      "/anaconda3/lib/python3.7/site-packages/sklearn/linear_model/sag.py:334: ConvergenceWarning: The max_iter was reached which means the coef_ did not converge\n",
      "  \"the coef_ did not converge\", ConvergenceWarning)\n"
     ]
    },
    {
     "name": "stdout",
     "output_type": "stream",
     "text": [
      "[CV]  C=291.92926025390625, fit_intercept=False, intercept_scaling=25, solver=liblinear, score=0.5754527162977867, total=   0.5s\n",
      "[CV] C=291.92926025390625, fit_intercept=False, intercept_scaling=25, solver=saga \n",
      "[CV]  C=291.92926025390625, fit_intercept=False, intercept_scaling=25, solver=saga, score=0.5180722891566265, total=   0.1s\n",
      "[CV] C=291.92926025390625, fit_intercept=False, intercept_scaling=25, solver=saga \n"
     ]
    },
    {
     "name": "stderr",
     "output_type": "stream",
     "text": [
      "/anaconda3/lib/python3.7/site-packages/sklearn/linear_model/sag.py:334: ConvergenceWarning: The max_iter was reached which means the coef_ did not converge\n",
      "  \"the coef_ did not converge\", ConvergenceWarning)\n",
      "/anaconda3/lib/python3.7/site-packages/sklearn/linear_model/sag.py:334: ConvergenceWarning: The max_iter was reached which means the coef_ did not converge\n",
      "  \"the coef_ did not converge\", ConvergenceWarning)\n"
     ]
    },
    {
     "name": "stdout",
     "output_type": "stream",
     "text": [
      "[CV]  C=291.92926025390625, fit_intercept=False, intercept_scaling=25, solver=saga, score=0.5190763052208835, total=   0.2s\n",
      "[CV] C=291.92926025390625, fit_intercept=False, intercept_scaling=25, solver=saga \n",
      "[CV]  C=291.92926025390625, fit_intercept=False, intercept_scaling=25, solver=saga, score=0.5010060362173038, total=   0.1s\n",
      "[CV] C=291.92926025390625, fit_intercept=False, intercept_scaling=50, solver=liblinear \n"
     ]
    },
    {
     "name": "stderr",
     "output_type": "stream",
     "text": [
      "/anaconda3/lib/python3.7/site-packages/sklearn/svm/base.py:931: ConvergenceWarning: Liblinear failed to converge, increase the number of iterations.\n",
      "  \"the number of iterations.\", ConvergenceWarning)\n"
     ]
    },
    {
     "name": "stdout",
     "output_type": "stream",
     "text": [
      "[CV]  C=291.92926025390625, fit_intercept=False, intercept_scaling=50, solver=liblinear, score=0.5873493975903614, total=   0.2s\n",
      "[CV] C=291.92926025390625, fit_intercept=False, intercept_scaling=50, solver=liblinear \n"
     ]
    },
    {
     "name": "stderr",
     "output_type": "stream",
     "text": [
      "/anaconda3/lib/python3.7/site-packages/sklearn/svm/base.py:931: ConvergenceWarning: Liblinear failed to converge, increase the number of iterations.\n",
      "  \"the number of iterations.\", ConvergenceWarning)\n"
     ]
    },
    {
     "name": "stdout",
     "output_type": "stream",
     "text": [
      "[CV]  C=291.92926025390625, fit_intercept=False, intercept_scaling=50, solver=liblinear, score=0.5622489959839357, total=   0.6s\n",
      "[CV] C=291.92926025390625, fit_intercept=False, intercept_scaling=50, solver=liblinear \n"
     ]
    },
    {
     "name": "stderr",
     "output_type": "stream",
     "text": [
      "/anaconda3/lib/python3.7/site-packages/sklearn/svm/base.py:931: ConvergenceWarning: Liblinear failed to converge, increase the number of iterations.\n",
      "  \"the number of iterations.\", ConvergenceWarning)\n",
      "/anaconda3/lib/python3.7/site-packages/sklearn/linear_model/sag.py:334: ConvergenceWarning: The max_iter was reached which means the coef_ did not converge\n",
      "  \"the coef_ did not converge\", ConvergenceWarning)\n"
     ]
    },
    {
     "name": "stdout",
     "output_type": "stream",
     "text": [
      "[CV]  C=291.92926025390625, fit_intercept=False, intercept_scaling=50, solver=liblinear, score=0.5754527162977867, total=   0.5s\n",
      "[CV] C=291.92926025390625, fit_intercept=False, intercept_scaling=50, solver=saga \n",
      "[CV]  C=291.92926025390625, fit_intercept=False, intercept_scaling=50, solver=saga, score=0.5180722891566265, total=   0.2s\n",
      "[CV] C=291.92926025390625, fit_intercept=False, intercept_scaling=50, solver=saga \n"
     ]
    },
    {
     "name": "stderr",
     "output_type": "stream",
     "text": [
      "/anaconda3/lib/python3.7/site-packages/sklearn/linear_model/sag.py:334: ConvergenceWarning: The max_iter was reached which means the coef_ did not converge\n",
      "  \"the coef_ did not converge\", ConvergenceWarning)\n",
      "/anaconda3/lib/python3.7/site-packages/sklearn/linear_model/sag.py:334: ConvergenceWarning: The max_iter was reached which means the coef_ did not converge\n",
      "  \"the coef_ did not converge\", ConvergenceWarning)\n"
     ]
    },
    {
     "name": "stdout",
     "output_type": "stream",
     "text": [
      "[CV]  C=291.92926025390625, fit_intercept=False, intercept_scaling=50, solver=saga, score=0.5210843373493976, total=   0.1s\n",
      "[CV] C=291.92926025390625, fit_intercept=False, intercept_scaling=50, solver=saga \n",
      "[CV]  C=291.92926025390625, fit_intercept=False, intercept_scaling=50, solver=saga, score=0.5020120724346077, total=   0.2s\n",
      "[CV] C=291.92926025390625, fit_intercept=False, intercept_scaling=100, solver=liblinear \n"
     ]
    },
    {
     "name": "stderr",
     "output_type": "stream",
     "text": [
      "/anaconda3/lib/python3.7/site-packages/sklearn/svm/base.py:931: ConvergenceWarning: Liblinear failed to converge, increase the number of iterations.\n",
      "  \"the number of iterations.\", ConvergenceWarning)\n"
     ]
    },
    {
     "name": "stdout",
     "output_type": "stream",
     "text": [
      "[CV]  C=291.92926025390625, fit_intercept=False, intercept_scaling=100, solver=liblinear, score=0.5873493975903614, total=   0.2s\n",
      "[CV] C=291.92926025390625, fit_intercept=False, intercept_scaling=100, solver=liblinear \n"
     ]
    },
    {
     "name": "stderr",
     "output_type": "stream",
     "text": [
      "/anaconda3/lib/python3.7/site-packages/sklearn/svm/base.py:931: ConvergenceWarning: Liblinear failed to converge, increase the number of iterations.\n",
      "  \"the number of iterations.\", ConvergenceWarning)\n"
     ]
    },
    {
     "name": "stdout",
     "output_type": "stream",
     "text": [
      "[CV]  C=291.92926025390625, fit_intercept=False, intercept_scaling=100, solver=liblinear, score=0.5622489959839357, total=   0.5s\n",
      "[CV] C=291.92926025390625, fit_intercept=False, intercept_scaling=100, solver=liblinear \n"
     ]
    },
    {
     "name": "stderr",
     "output_type": "stream",
     "text": [
      "/anaconda3/lib/python3.7/site-packages/sklearn/svm/base.py:931: ConvergenceWarning: Liblinear failed to converge, increase the number of iterations.\n",
      "  \"the number of iterations.\", ConvergenceWarning)\n",
      "/anaconda3/lib/python3.7/site-packages/sklearn/linear_model/sag.py:334: ConvergenceWarning: The max_iter was reached which means the coef_ did not converge\n",
      "  \"the coef_ did not converge\", ConvergenceWarning)\n"
     ]
    },
    {
     "name": "stdout",
     "output_type": "stream",
     "text": [
      "[CV]  C=291.92926025390625, fit_intercept=False, intercept_scaling=100, solver=liblinear, score=0.5754527162977867, total=   0.4s\n",
      "[CV] C=291.92926025390625, fit_intercept=False, intercept_scaling=100, solver=saga \n",
      "[CV]  C=291.92926025390625, fit_intercept=False, intercept_scaling=100, solver=saga, score=0.5160642570281124, total=   0.1s\n",
      "[CV] C=291.92926025390625, fit_intercept=False, intercept_scaling=100, solver=saga \n"
     ]
    },
    {
     "name": "stderr",
     "output_type": "stream",
     "text": [
      "/anaconda3/lib/python3.7/site-packages/sklearn/linear_model/sag.py:334: ConvergenceWarning: The max_iter was reached which means the coef_ did not converge\n",
      "  \"the coef_ did not converge\", ConvergenceWarning)\n",
      "/anaconda3/lib/python3.7/site-packages/sklearn/linear_model/sag.py:334: ConvergenceWarning: The max_iter was reached which means the coef_ did not converge\n",
      "  \"the coef_ did not converge\", ConvergenceWarning)\n"
     ]
    },
    {
     "name": "stdout",
     "output_type": "stream",
     "text": [
      "[CV]  C=291.92926025390625, fit_intercept=False, intercept_scaling=100, solver=saga, score=0.5220883534136547, total=   0.1s\n",
      "[CV] C=291.92926025390625, fit_intercept=False, intercept_scaling=100, solver=saga \n",
      "[CV]  C=291.92926025390625, fit_intercept=False, intercept_scaling=100, solver=saga, score=0.5020120724346077, total=   0.1s\n",
      "[CV] C=656.8408355712891, fit_intercept=True, intercept_scaling=1, solver=liblinear \n"
     ]
    },
    {
     "name": "stderr",
     "output_type": "stream",
     "text": [
      "/anaconda3/lib/python3.7/site-packages/sklearn/svm/base.py:931: ConvergenceWarning: Liblinear failed to converge, increase the number of iterations.\n",
      "  \"the number of iterations.\", ConvergenceWarning)\n"
     ]
    },
    {
     "name": "stdout",
     "output_type": "stream",
     "text": [
      "[CV]  C=656.8408355712891, fit_intercept=True, intercept_scaling=1, solver=liblinear, score=0.5953815261044176, total=   0.2s\n",
      "[CV] C=656.8408355712891, fit_intercept=True, intercept_scaling=1, solver=liblinear \n"
     ]
    },
    {
     "name": "stderr",
     "output_type": "stream",
     "text": [
      "/anaconda3/lib/python3.7/site-packages/sklearn/svm/base.py:931: ConvergenceWarning: Liblinear failed to converge, increase the number of iterations.\n",
      "  \"the number of iterations.\", ConvergenceWarning)\n"
     ]
    },
    {
     "name": "stdout",
     "output_type": "stream",
     "text": [
      "[CV]  C=656.8408355712891, fit_intercept=True, intercept_scaling=1, solver=liblinear, score=0.5642570281124498, total=   0.2s\n",
      "[CV] C=656.8408355712891, fit_intercept=True, intercept_scaling=1, solver=liblinear \n"
     ]
    },
    {
     "name": "stderr",
     "output_type": "stream",
     "text": [
      "/anaconda3/lib/python3.7/site-packages/sklearn/svm/base.py:931: ConvergenceWarning: Liblinear failed to converge, increase the number of iterations.\n",
      "  \"the number of iterations.\", ConvergenceWarning)\n",
      "/anaconda3/lib/python3.7/site-packages/sklearn/linear_model/sag.py:334: ConvergenceWarning: The max_iter was reached which means the coef_ did not converge\n",
      "  \"the coef_ did not converge\", ConvergenceWarning)\n"
     ]
    },
    {
     "name": "stdout",
     "output_type": "stream",
     "text": [
      "[CV]  C=656.8408355712891, fit_intercept=True, intercept_scaling=1, solver=liblinear, score=0.5643863179074446, total=   0.3s\n",
      "[CV] C=656.8408355712891, fit_intercept=True, intercept_scaling=1, solver=saga \n",
      "[CV]  C=656.8408355712891, fit_intercept=True, intercept_scaling=1, solver=saga, score=0.5190763052208835, total=   0.1s\n",
      "[CV] C=656.8408355712891, fit_intercept=True, intercept_scaling=1, solver=saga \n"
     ]
    },
    {
     "name": "stderr",
     "output_type": "stream",
     "text": [
      "/anaconda3/lib/python3.7/site-packages/sklearn/linear_model/sag.py:334: ConvergenceWarning: The max_iter was reached which means the coef_ did not converge\n",
      "  \"the coef_ did not converge\", ConvergenceWarning)\n",
      "/anaconda3/lib/python3.7/site-packages/sklearn/linear_model/sag.py:334: ConvergenceWarning: The max_iter was reached which means the coef_ did not converge\n",
      "  \"the coef_ did not converge\", ConvergenceWarning)\n"
     ]
    },
    {
     "name": "stdout",
     "output_type": "stream",
     "text": [
      "[CV]  C=656.8408355712891, fit_intercept=True, intercept_scaling=1, solver=saga, score=0.5210843373493976, total=   0.1s\n",
      "[CV] C=656.8408355712891, fit_intercept=True, intercept_scaling=1, solver=saga \n",
      "[CV]  C=656.8408355712891, fit_intercept=True, intercept_scaling=1, solver=saga, score=0.5020120724346077, total=   0.1s\n",
      "[CV] C=656.8408355712891, fit_intercept=True, intercept_scaling=5, solver=liblinear \n"
     ]
    },
    {
     "name": "stderr",
     "output_type": "stream",
     "text": [
      "/anaconda3/lib/python3.7/site-packages/sklearn/svm/base.py:931: ConvergenceWarning: Liblinear failed to converge, increase the number of iterations.\n",
      "  \"the number of iterations.\", ConvergenceWarning)\n"
     ]
    },
    {
     "name": "stdout",
     "output_type": "stream",
     "text": [
      "[CV]  C=656.8408355712891, fit_intercept=True, intercept_scaling=5, solver=liblinear, score=0.5843373493975904, total=   0.2s\n",
      "[CV] C=656.8408355712891, fit_intercept=True, intercept_scaling=5, solver=liblinear \n"
     ]
    },
    {
     "name": "stderr",
     "output_type": "stream",
     "text": [
      "/anaconda3/lib/python3.7/site-packages/sklearn/svm/base.py:931: ConvergenceWarning: Liblinear failed to converge, increase the number of iterations.\n",
      "  \"the number of iterations.\", ConvergenceWarning)\n"
     ]
    },
    {
     "name": "stdout",
     "output_type": "stream",
     "text": [
      "[CV]  C=656.8408355712891, fit_intercept=True, intercept_scaling=5, solver=liblinear, score=0.5592369477911646, total=   0.4s\n",
      "[CV] C=656.8408355712891, fit_intercept=True, intercept_scaling=5, solver=liblinear \n"
     ]
    },
    {
     "name": "stderr",
     "output_type": "stream",
     "text": [
      "/anaconda3/lib/python3.7/site-packages/sklearn/svm/base.py:931: ConvergenceWarning: Liblinear failed to converge, increase the number of iterations.\n",
      "  \"the number of iterations.\", ConvergenceWarning)\n",
      "/anaconda3/lib/python3.7/site-packages/sklearn/linear_model/sag.py:334: ConvergenceWarning: The max_iter was reached which means the coef_ did not converge\n",
      "  \"the coef_ did not converge\", ConvergenceWarning)\n"
     ]
    },
    {
     "name": "stdout",
     "output_type": "stream",
     "text": [
      "[CV]  C=656.8408355712891, fit_intercept=True, intercept_scaling=5, solver=liblinear, score=0.5663983903420523, total=   0.3s\n",
      "[CV] C=656.8408355712891, fit_intercept=True, intercept_scaling=5, solver=saga \n",
      "[CV]  C=656.8408355712891, fit_intercept=True, intercept_scaling=5, solver=saga, score=0.5190763052208835, total=   0.1s\n",
      "[CV] C=656.8408355712891, fit_intercept=True, intercept_scaling=5, solver=saga \n"
     ]
    },
    {
     "name": "stderr",
     "output_type": "stream",
     "text": [
      "/anaconda3/lib/python3.7/site-packages/sklearn/linear_model/sag.py:334: ConvergenceWarning: The max_iter was reached which means the coef_ did not converge\n",
      "  \"the coef_ did not converge\", ConvergenceWarning)\n",
      "/anaconda3/lib/python3.7/site-packages/sklearn/linear_model/sag.py:334: ConvergenceWarning: The max_iter was reached which means the coef_ did not converge\n",
      "  \"the coef_ did not converge\", ConvergenceWarning)\n"
     ]
    },
    {
     "name": "stdout",
     "output_type": "stream",
     "text": [
      "[CV]  C=656.8408355712891, fit_intercept=True, intercept_scaling=5, solver=saga, score=0.5220883534136547, total=   0.2s\n",
      "[CV] C=656.8408355712891, fit_intercept=True, intercept_scaling=5, solver=saga \n",
      "[CV]  C=656.8408355712891, fit_intercept=True, intercept_scaling=5, solver=saga, score=0.5020120724346077, total=   0.1s\n",
      "[CV] C=656.8408355712891, fit_intercept=True, intercept_scaling=10, solver=liblinear \n"
     ]
    },
    {
     "name": "stderr",
     "output_type": "stream",
     "text": [
      "/anaconda3/lib/python3.7/site-packages/sklearn/svm/base.py:931: ConvergenceWarning: Liblinear failed to converge, increase the number of iterations.\n",
      "  \"the number of iterations.\", ConvergenceWarning)\n"
     ]
    },
    {
     "name": "stdout",
     "output_type": "stream",
     "text": [
      "[CV]  C=656.8408355712891, fit_intercept=True, intercept_scaling=10, solver=liblinear, score=0.5883534136546185, total=   0.2s\n",
      "[CV] C=656.8408355712891, fit_intercept=True, intercept_scaling=10, solver=liblinear \n"
     ]
    },
    {
     "name": "stderr",
     "output_type": "stream",
     "text": [
      "/anaconda3/lib/python3.7/site-packages/sklearn/svm/base.py:931: ConvergenceWarning: Liblinear failed to converge, increase the number of iterations.\n",
      "  \"the number of iterations.\", ConvergenceWarning)\n"
     ]
    },
    {
     "name": "stdout",
     "output_type": "stream",
     "text": [
      "[CV]  C=656.8408355712891, fit_intercept=True, intercept_scaling=10, solver=liblinear, score=0.5642570281124498, total=   0.4s\n",
      "[CV] C=656.8408355712891, fit_intercept=True, intercept_scaling=10, solver=liblinear \n"
     ]
    },
    {
     "name": "stderr",
     "output_type": "stream",
     "text": [
      "/anaconda3/lib/python3.7/site-packages/sklearn/svm/base.py:931: ConvergenceWarning: Liblinear failed to converge, increase the number of iterations.\n",
      "  \"the number of iterations.\", ConvergenceWarning)\n",
      "/anaconda3/lib/python3.7/site-packages/sklearn/linear_model/sag.py:334: ConvergenceWarning: The max_iter was reached which means the coef_ did not converge\n",
      "  \"the coef_ did not converge\", ConvergenceWarning)\n"
     ]
    },
    {
     "name": "stdout",
     "output_type": "stream",
     "text": [
      "[CV]  C=656.8408355712891, fit_intercept=True, intercept_scaling=10, solver=liblinear, score=0.5764587525150905, total=   0.4s\n",
      "[CV] C=656.8408355712891, fit_intercept=True, intercept_scaling=10, solver=saga \n",
      "[CV]  C=656.8408355712891, fit_intercept=True, intercept_scaling=10, solver=saga, score=0.5180722891566265, total=   0.1s\n",
      "[CV] C=656.8408355712891, fit_intercept=True, intercept_scaling=10, solver=saga \n"
     ]
    },
    {
     "name": "stderr",
     "output_type": "stream",
     "text": [
      "/anaconda3/lib/python3.7/site-packages/sklearn/linear_model/sag.py:334: ConvergenceWarning: The max_iter was reached which means the coef_ did not converge\n",
      "  \"the coef_ did not converge\", ConvergenceWarning)\n",
      "/anaconda3/lib/python3.7/site-packages/sklearn/linear_model/sag.py:334: ConvergenceWarning: The max_iter was reached which means the coef_ did not converge\n",
      "  \"the coef_ did not converge\", ConvergenceWarning)\n"
     ]
    },
    {
     "name": "stdout",
     "output_type": "stream",
     "text": [
      "[CV]  C=656.8408355712891, fit_intercept=True, intercept_scaling=10, solver=saga, score=0.5200803212851406, total=   0.1s\n",
      "[CV] C=656.8408355712891, fit_intercept=True, intercept_scaling=10, solver=saga \n",
      "[CV]  C=656.8408355712891, fit_intercept=True, intercept_scaling=10, solver=saga, score=0.5020120724346077, total=   0.1s\n",
      "[CV] C=656.8408355712891, fit_intercept=True, intercept_scaling=25, solver=liblinear \n"
     ]
    },
    {
     "name": "stderr",
     "output_type": "stream",
     "text": [
      "/anaconda3/lib/python3.7/site-packages/sklearn/svm/base.py:931: ConvergenceWarning: Liblinear failed to converge, increase the number of iterations.\n",
      "  \"the number of iterations.\", ConvergenceWarning)\n"
     ]
    },
    {
     "name": "stdout",
     "output_type": "stream",
     "text": [
      "[CV]  C=656.8408355712891, fit_intercept=True, intercept_scaling=25, solver=liblinear, score=0.5863453815261044, total=   0.2s\n",
      "[CV] C=656.8408355712891, fit_intercept=True, intercept_scaling=25, solver=liblinear \n"
     ]
    },
    {
     "name": "stderr",
     "output_type": "stream",
     "text": [
      "/anaconda3/lib/python3.7/site-packages/sklearn/svm/base.py:931: ConvergenceWarning: Liblinear failed to converge, increase the number of iterations.\n",
      "  \"the number of iterations.\", ConvergenceWarning)\n"
     ]
    },
    {
     "name": "stdout",
     "output_type": "stream",
     "text": [
      "[CV]  C=656.8408355712891, fit_intercept=True, intercept_scaling=25, solver=liblinear, score=0.5592369477911646, total=   0.4s\n",
      "[CV] C=656.8408355712891, fit_intercept=True, intercept_scaling=25, solver=liblinear \n"
     ]
    },
    {
     "name": "stderr",
     "output_type": "stream",
     "text": [
      "/anaconda3/lib/python3.7/site-packages/sklearn/svm/base.py:931: ConvergenceWarning: Liblinear failed to converge, increase the number of iterations.\n",
      "  \"the number of iterations.\", ConvergenceWarning)\n",
      "/anaconda3/lib/python3.7/site-packages/sklearn/linear_model/sag.py:334: ConvergenceWarning: The max_iter was reached which means the coef_ did not converge\n",
      "  \"the coef_ did not converge\", ConvergenceWarning)\n"
     ]
    },
    {
     "name": "stdout",
     "output_type": "stream",
     "text": [
      "[CV]  C=656.8408355712891, fit_intercept=True, intercept_scaling=25, solver=liblinear, score=0.5573440643863179, total=   0.2s\n",
      "[CV] C=656.8408355712891, fit_intercept=True, intercept_scaling=25, solver=saga \n",
      "[CV]  C=656.8408355712891, fit_intercept=True, intercept_scaling=25, solver=saga, score=0.5180722891566265, total=   0.1s\n",
      "[CV] C=656.8408355712891, fit_intercept=True, intercept_scaling=25, solver=saga \n"
     ]
    },
    {
     "name": "stderr",
     "output_type": "stream",
     "text": [
      "/anaconda3/lib/python3.7/site-packages/sklearn/linear_model/sag.py:334: ConvergenceWarning: The max_iter was reached which means the coef_ did not converge\n",
      "  \"the coef_ did not converge\", ConvergenceWarning)\n",
      "/anaconda3/lib/python3.7/site-packages/sklearn/linear_model/sag.py:334: ConvergenceWarning: The max_iter was reached which means the coef_ did not converge\n",
      "  \"the coef_ did not converge\", ConvergenceWarning)\n"
     ]
    },
    {
     "name": "stdout",
     "output_type": "stream",
     "text": [
      "[CV]  C=656.8408355712891, fit_intercept=True, intercept_scaling=25, solver=saga, score=0.5210843373493976, total=   0.1s\n",
      "[CV] C=656.8408355712891, fit_intercept=True, intercept_scaling=25, solver=saga \n",
      "[CV]  C=656.8408355712891, fit_intercept=True, intercept_scaling=25, solver=saga, score=0.5, total=   0.1s\n",
      "[CV] C=656.8408355712891, fit_intercept=True, intercept_scaling=50, solver=liblinear \n"
     ]
    },
    {
     "name": "stderr",
     "output_type": "stream",
     "text": [
      "/anaconda3/lib/python3.7/site-packages/sklearn/svm/base.py:931: ConvergenceWarning: Liblinear failed to converge, increase the number of iterations.\n",
      "  \"the number of iterations.\", ConvergenceWarning)\n"
     ]
    },
    {
     "name": "stdout",
     "output_type": "stream",
     "text": [
      "[CV]  C=656.8408355712891, fit_intercept=True, intercept_scaling=50, solver=liblinear, score=0.5943775100401606, total=   0.2s\n",
      "[CV] C=656.8408355712891, fit_intercept=True, intercept_scaling=50, solver=liblinear \n"
     ]
    },
    {
     "name": "stderr",
     "output_type": "stream",
     "text": [
      "/anaconda3/lib/python3.7/site-packages/sklearn/svm/base.py:931: ConvergenceWarning: Liblinear failed to converge, increase the number of iterations.\n",
      "  \"the number of iterations.\", ConvergenceWarning)\n"
     ]
    },
    {
     "name": "stdout",
     "output_type": "stream",
     "text": [
      "[CV]  C=656.8408355712891, fit_intercept=True, intercept_scaling=50, solver=liblinear, score=0.5662650602409639, total=   0.5s\n",
      "[CV] C=656.8408355712891, fit_intercept=True, intercept_scaling=50, solver=liblinear \n"
     ]
    },
    {
     "name": "stderr",
     "output_type": "stream",
     "text": [
      "/anaconda3/lib/python3.7/site-packages/sklearn/svm/base.py:931: ConvergenceWarning: Liblinear failed to converge, increase the number of iterations.\n",
      "  \"the number of iterations.\", ConvergenceWarning)\n",
      "/anaconda3/lib/python3.7/site-packages/sklearn/linear_model/sag.py:334: ConvergenceWarning: The max_iter was reached which means the coef_ did not converge\n",
      "  \"the coef_ did not converge\", ConvergenceWarning)\n"
     ]
    },
    {
     "name": "stdout",
     "output_type": "stream",
     "text": [
      "[CV]  C=656.8408355712891, fit_intercept=True, intercept_scaling=50, solver=liblinear, score=0.5603621730382293, total=   0.4s\n",
      "[CV] C=656.8408355712891, fit_intercept=True, intercept_scaling=50, solver=saga \n",
      "[CV]  C=656.8408355712891, fit_intercept=True, intercept_scaling=50, solver=saga, score=0.5190763052208835, total=   0.1s\n",
      "[CV] C=656.8408355712891, fit_intercept=True, intercept_scaling=50, solver=saga \n"
     ]
    },
    {
     "name": "stderr",
     "output_type": "stream",
     "text": [
      "/anaconda3/lib/python3.7/site-packages/sklearn/linear_model/sag.py:334: ConvergenceWarning: The max_iter was reached which means the coef_ did not converge\n",
      "  \"the coef_ did not converge\", ConvergenceWarning)\n",
      "/anaconda3/lib/python3.7/site-packages/sklearn/linear_model/sag.py:334: ConvergenceWarning: The max_iter was reached which means the coef_ did not converge\n",
      "  \"the coef_ did not converge\", ConvergenceWarning)\n"
     ]
    },
    {
     "name": "stdout",
     "output_type": "stream",
     "text": [
      "[CV]  C=656.8408355712891, fit_intercept=True, intercept_scaling=50, solver=saga, score=0.5190763052208835, total=   0.1s\n",
      "[CV] C=656.8408355712891, fit_intercept=True, intercept_scaling=50, solver=saga \n",
      "[CV]  C=656.8408355712891, fit_intercept=True, intercept_scaling=50, solver=saga, score=0.5010060362173038, total=   0.1s\n",
      "[CV] C=656.8408355712891, fit_intercept=True, intercept_scaling=100, solver=liblinear \n"
     ]
    },
    {
     "name": "stderr",
     "output_type": "stream",
     "text": [
      "/anaconda3/lib/python3.7/site-packages/sklearn/svm/base.py:931: ConvergenceWarning: Liblinear failed to converge, increase the number of iterations.\n",
      "  \"the number of iterations.\", ConvergenceWarning)\n"
     ]
    },
    {
     "name": "stdout",
     "output_type": "stream",
     "text": [
      "[CV]  C=656.8408355712891, fit_intercept=True, intercept_scaling=100, solver=liblinear, score=0.5893574297188755, total=   0.2s\n",
      "[CV] C=656.8408355712891, fit_intercept=True, intercept_scaling=100, solver=liblinear \n"
     ]
    },
    {
     "name": "stderr",
     "output_type": "stream",
     "text": [
      "/anaconda3/lib/python3.7/site-packages/sklearn/svm/base.py:931: ConvergenceWarning: Liblinear failed to converge, increase the number of iterations.\n",
      "  \"the number of iterations.\", ConvergenceWarning)\n"
     ]
    },
    {
     "name": "stdout",
     "output_type": "stream",
     "text": [
      "[CV]  C=656.8408355712891, fit_intercept=True, intercept_scaling=100, solver=liblinear, score=0.5582329317269076, total=   0.3s\n",
      "[CV] C=656.8408355712891, fit_intercept=True, intercept_scaling=100, solver=liblinear \n"
     ]
    },
    {
     "name": "stderr",
     "output_type": "stream",
     "text": [
      "/anaconda3/lib/python3.7/site-packages/sklearn/svm/base.py:931: ConvergenceWarning: Liblinear failed to converge, increase the number of iterations.\n",
      "  \"the number of iterations.\", ConvergenceWarning)\n",
      "/anaconda3/lib/python3.7/site-packages/sklearn/linear_model/sag.py:334: ConvergenceWarning: The max_iter was reached which means the coef_ did not converge\n",
      "  \"the coef_ did not converge\", ConvergenceWarning)\n"
     ]
    },
    {
     "name": "stdout",
     "output_type": "stream",
     "text": [
      "[CV]  C=656.8408355712891, fit_intercept=True, intercept_scaling=100, solver=liblinear, score=0.5754527162977867, total=   0.5s\n",
      "[CV] C=656.8408355712891, fit_intercept=True, intercept_scaling=100, solver=saga \n",
      "[CV]  C=656.8408355712891, fit_intercept=True, intercept_scaling=100, solver=saga, score=0.5190763052208835, total=   0.1s\n",
      "[CV] C=656.8408355712891, fit_intercept=True, intercept_scaling=100, solver=saga \n"
     ]
    },
    {
     "name": "stderr",
     "output_type": "stream",
     "text": [
      "/anaconda3/lib/python3.7/site-packages/sklearn/linear_model/sag.py:334: ConvergenceWarning: The max_iter was reached which means the coef_ did not converge\n",
      "  \"the coef_ did not converge\", ConvergenceWarning)\n",
      "/anaconda3/lib/python3.7/site-packages/sklearn/linear_model/sag.py:334: ConvergenceWarning: The max_iter was reached which means the coef_ did not converge\n",
      "  \"the coef_ did not converge\", ConvergenceWarning)\n"
     ]
    },
    {
     "name": "stdout",
     "output_type": "stream",
     "text": [
      "[CV]  C=656.8408355712891, fit_intercept=True, intercept_scaling=100, solver=saga, score=0.5190763052208835, total=   0.1s\n",
      "[CV] C=656.8408355712891, fit_intercept=True, intercept_scaling=100, solver=saga \n",
      "[CV]  C=656.8408355712891, fit_intercept=True, intercept_scaling=100, solver=saga, score=0.5010060362173038, total=   0.1s\n",
      "[CV] C=656.8408355712891, fit_intercept=False, intercept_scaling=1, solver=liblinear \n"
     ]
    },
    {
     "name": "stderr",
     "output_type": "stream",
     "text": [
      "/anaconda3/lib/python3.7/site-packages/sklearn/svm/base.py:931: ConvergenceWarning: Liblinear failed to converge, increase the number of iterations.\n",
      "  \"the number of iterations.\", ConvergenceWarning)\n"
     ]
    },
    {
     "name": "stdout",
     "output_type": "stream",
     "text": [
      "[CV]  C=656.8408355712891, fit_intercept=False, intercept_scaling=1, solver=liblinear, score=0.5843373493975904, total=   0.3s\n",
      "[CV] C=656.8408355712891, fit_intercept=False, intercept_scaling=1, solver=liblinear \n"
     ]
    },
    {
     "name": "stderr",
     "output_type": "stream",
     "text": [
      "/anaconda3/lib/python3.7/site-packages/sklearn/svm/base.py:931: ConvergenceWarning: Liblinear failed to converge, increase the number of iterations.\n",
      "  \"the number of iterations.\", ConvergenceWarning)\n"
     ]
    },
    {
     "name": "stdout",
     "output_type": "stream",
     "text": [
      "[CV]  C=656.8408355712891, fit_intercept=False, intercept_scaling=1, solver=liblinear, score=0.5652610441767069, total=   0.3s\n",
      "[CV] C=656.8408355712891, fit_intercept=False, intercept_scaling=1, solver=liblinear \n"
     ]
    },
    {
     "name": "stderr",
     "output_type": "stream",
     "text": [
      "/anaconda3/lib/python3.7/site-packages/sklearn/svm/base.py:931: ConvergenceWarning: Liblinear failed to converge, increase the number of iterations.\n",
      "  \"the number of iterations.\", ConvergenceWarning)\n",
      "/anaconda3/lib/python3.7/site-packages/sklearn/linear_model/sag.py:334: ConvergenceWarning: The max_iter was reached which means the coef_ did not converge\n",
      "  \"the coef_ did not converge\", ConvergenceWarning)\n"
     ]
    },
    {
     "name": "stdout",
     "output_type": "stream",
     "text": [
      "[CV]  C=656.8408355712891, fit_intercept=False, intercept_scaling=1, solver=liblinear, score=0.5734406438631791, total=   0.4s\n",
      "[CV] C=656.8408355712891, fit_intercept=False, intercept_scaling=1, solver=saga \n",
      "[CV]  C=656.8408355712891, fit_intercept=False, intercept_scaling=1, solver=saga, score=0.5170682730923695, total=   0.1s\n",
      "[CV] C=656.8408355712891, fit_intercept=False, intercept_scaling=1, solver=saga \n"
     ]
    },
    {
     "name": "stderr",
     "output_type": "stream",
     "text": [
      "/anaconda3/lib/python3.7/site-packages/sklearn/linear_model/sag.py:334: ConvergenceWarning: The max_iter was reached which means the coef_ did not converge\n",
      "  \"the coef_ did not converge\", ConvergenceWarning)\n",
      "/anaconda3/lib/python3.7/site-packages/sklearn/linear_model/sag.py:334: ConvergenceWarning: The max_iter was reached which means the coef_ did not converge\n",
      "  \"the coef_ did not converge\", ConvergenceWarning)\n"
     ]
    },
    {
     "name": "stdout",
     "output_type": "stream",
     "text": [
      "[CV]  C=656.8408355712891, fit_intercept=False, intercept_scaling=1, solver=saga, score=0.5180722891566265, total=   0.1s\n",
      "[CV] C=656.8408355712891, fit_intercept=False, intercept_scaling=1, solver=saga \n",
      "[CV]  C=656.8408355712891, fit_intercept=False, intercept_scaling=1, solver=saga, score=0.5010060362173038, total=   0.1s\n",
      "[CV] C=656.8408355712891, fit_intercept=False, intercept_scaling=5, solver=liblinear \n"
     ]
    },
    {
     "name": "stderr",
     "output_type": "stream",
     "text": [
      "/anaconda3/lib/python3.7/site-packages/sklearn/svm/base.py:931: ConvergenceWarning: Liblinear failed to converge, increase the number of iterations.\n",
      "  \"the number of iterations.\", ConvergenceWarning)\n"
     ]
    },
    {
     "name": "stdout",
     "output_type": "stream",
     "text": [
      "[CV]  C=656.8408355712891, fit_intercept=False, intercept_scaling=5, solver=liblinear, score=0.5843373493975904, total=   0.3s\n",
      "[CV] C=656.8408355712891, fit_intercept=False, intercept_scaling=5, solver=liblinear \n"
     ]
    },
    {
     "name": "stderr",
     "output_type": "stream",
     "text": [
      "/anaconda3/lib/python3.7/site-packages/sklearn/svm/base.py:931: ConvergenceWarning: Liblinear failed to converge, increase the number of iterations.\n",
      "  \"the number of iterations.\", ConvergenceWarning)\n"
     ]
    },
    {
     "name": "stdout",
     "output_type": "stream",
     "text": [
      "[CV]  C=656.8408355712891, fit_intercept=False, intercept_scaling=5, solver=liblinear, score=0.5652610441767069, total=   0.3s\n",
      "[CV] C=656.8408355712891, fit_intercept=False, intercept_scaling=5, solver=liblinear \n"
     ]
    },
    {
     "name": "stderr",
     "output_type": "stream",
     "text": [
      "/anaconda3/lib/python3.7/site-packages/sklearn/svm/base.py:931: ConvergenceWarning: Liblinear failed to converge, increase the number of iterations.\n",
      "  \"the number of iterations.\", ConvergenceWarning)\n",
      "/anaconda3/lib/python3.7/site-packages/sklearn/linear_model/sag.py:334: ConvergenceWarning: The max_iter was reached which means the coef_ did not converge\n",
      "  \"the coef_ did not converge\", ConvergenceWarning)\n"
     ]
    },
    {
     "name": "stdout",
     "output_type": "stream",
     "text": [
      "[CV]  C=656.8408355712891, fit_intercept=False, intercept_scaling=5, solver=liblinear, score=0.5734406438631791, total=   0.5s\n",
      "[CV] C=656.8408355712891, fit_intercept=False, intercept_scaling=5, solver=saga \n",
      "[CV]  C=656.8408355712891, fit_intercept=False, intercept_scaling=5, solver=saga, score=0.5170682730923695, total=   0.1s\n",
      "[CV] C=656.8408355712891, fit_intercept=False, intercept_scaling=5, solver=saga \n"
     ]
    },
    {
     "name": "stderr",
     "output_type": "stream",
     "text": [
      "/anaconda3/lib/python3.7/site-packages/sklearn/linear_model/sag.py:334: ConvergenceWarning: The max_iter was reached which means the coef_ did not converge\n",
      "  \"the coef_ did not converge\", ConvergenceWarning)\n",
      "/anaconda3/lib/python3.7/site-packages/sklearn/linear_model/sag.py:334: ConvergenceWarning: The max_iter was reached which means the coef_ did not converge\n",
      "  \"the coef_ did not converge\", ConvergenceWarning)\n"
     ]
    },
    {
     "name": "stdout",
     "output_type": "stream",
     "text": [
      "[CV]  C=656.8408355712891, fit_intercept=False, intercept_scaling=5, solver=saga, score=0.5210843373493976, total=   0.1s\n",
      "[CV] C=656.8408355712891, fit_intercept=False, intercept_scaling=5, solver=saga \n",
      "[CV]  C=656.8408355712891, fit_intercept=False, intercept_scaling=5, solver=saga, score=0.5020120724346077, total=   0.1s\n",
      "[CV] C=656.8408355712891, fit_intercept=False, intercept_scaling=10, solver=liblinear \n"
     ]
    },
    {
     "name": "stderr",
     "output_type": "stream",
     "text": [
      "/anaconda3/lib/python3.7/site-packages/sklearn/svm/base.py:931: ConvergenceWarning: Liblinear failed to converge, increase the number of iterations.\n",
      "  \"the number of iterations.\", ConvergenceWarning)\n"
     ]
    },
    {
     "name": "stdout",
     "output_type": "stream",
     "text": [
      "[CV]  C=656.8408355712891, fit_intercept=False, intercept_scaling=10, solver=liblinear, score=0.5843373493975904, total=   0.3s\n",
      "[CV] C=656.8408355712891, fit_intercept=False, intercept_scaling=10, solver=liblinear \n"
     ]
    },
    {
     "name": "stderr",
     "output_type": "stream",
     "text": [
      "/anaconda3/lib/python3.7/site-packages/sklearn/svm/base.py:931: ConvergenceWarning: Liblinear failed to converge, increase the number of iterations.\n",
      "  \"the number of iterations.\", ConvergenceWarning)\n"
     ]
    },
    {
     "name": "stdout",
     "output_type": "stream",
     "text": [
      "[CV]  C=656.8408355712891, fit_intercept=False, intercept_scaling=10, solver=liblinear, score=0.5652610441767069, total=   0.3s\n",
      "[CV] C=656.8408355712891, fit_intercept=False, intercept_scaling=10, solver=liblinear \n"
     ]
    },
    {
     "name": "stderr",
     "output_type": "stream",
     "text": [
      "/anaconda3/lib/python3.7/site-packages/sklearn/svm/base.py:931: ConvergenceWarning: Liblinear failed to converge, increase the number of iterations.\n",
      "  \"the number of iterations.\", ConvergenceWarning)\n",
      "/anaconda3/lib/python3.7/site-packages/sklearn/linear_model/sag.py:334: ConvergenceWarning: The max_iter was reached which means the coef_ did not converge\n",
      "  \"the coef_ did not converge\", ConvergenceWarning)\n"
     ]
    },
    {
     "name": "stdout",
     "output_type": "stream",
     "text": [
      "[CV]  C=656.8408355712891, fit_intercept=False, intercept_scaling=10, solver=liblinear, score=0.5734406438631791, total=   0.6s\n",
      "[CV] C=656.8408355712891, fit_intercept=False, intercept_scaling=10, solver=saga \n",
      "[CV]  C=656.8408355712891, fit_intercept=False, intercept_scaling=10, solver=saga, score=0.5190763052208835, total=   0.1s\n",
      "[CV] C=656.8408355712891, fit_intercept=False, intercept_scaling=10, solver=saga \n"
     ]
    },
    {
     "name": "stderr",
     "output_type": "stream",
     "text": [
      "/anaconda3/lib/python3.7/site-packages/sklearn/linear_model/sag.py:334: ConvergenceWarning: The max_iter was reached which means the coef_ did not converge\n",
      "  \"the coef_ did not converge\", ConvergenceWarning)\n",
      "/anaconda3/lib/python3.7/site-packages/sklearn/linear_model/sag.py:334: ConvergenceWarning: The max_iter was reached which means the coef_ did not converge\n",
      "  \"the coef_ did not converge\", ConvergenceWarning)\n"
     ]
    },
    {
     "name": "stdout",
     "output_type": "stream",
     "text": [
      "[CV]  C=656.8408355712891, fit_intercept=False, intercept_scaling=10, solver=saga, score=0.5200803212851406, total=   0.1s\n",
      "[CV] C=656.8408355712891, fit_intercept=False, intercept_scaling=10, solver=saga \n",
      "[CV]  C=656.8408355712891, fit_intercept=False, intercept_scaling=10, solver=saga, score=0.5020120724346077, total=   0.1s\n",
      "[CV] C=656.8408355712891, fit_intercept=False, intercept_scaling=25, solver=liblinear \n"
     ]
    },
    {
     "name": "stderr",
     "output_type": "stream",
     "text": [
      "/anaconda3/lib/python3.7/site-packages/sklearn/svm/base.py:931: ConvergenceWarning: Liblinear failed to converge, increase the number of iterations.\n",
      "  \"the number of iterations.\", ConvergenceWarning)\n"
     ]
    },
    {
     "name": "stdout",
     "output_type": "stream",
     "text": [
      "[CV]  C=656.8408355712891, fit_intercept=False, intercept_scaling=25, solver=liblinear, score=0.5843373493975904, total=   0.3s\n",
      "[CV] C=656.8408355712891, fit_intercept=False, intercept_scaling=25, solver=liblinear \n"
     ]
    },
    {
     "name": "stderr",
     "output_type": "stream",
     "text": [
      "/anaconda3/lib/python3.7/site-packages/sklearn/svm/base.py:931: ConvergenceWarning: Liblinear failed to converge, increase the number of iterations.\n",
      "  \"the number of iterations.\", ConvergenceWarning)\n"
     ]
    },
    {
     "name": "stdout",
     "output_type": "stream",
     "text": [
      "[CV]  C=656.8408355712891, fit_intercept=False, intercept_scaling=25, solver=liblinear, score=0.5652610441767069, total=   0.3s\n",
      "[CV] C=656.8408355712891, fit_intercept=False, intercept_scaling=25, solver=liblinear \n"
     ]
    },
    {
     "name": "stderr",
     "output_type": "stream",
     "text": [
      "/anaconda3/lib/python3.7/site-packages/sklearn/svm/base.py:931: ConvergenceWarning: Liblinear failed to converge, increase the number of iterations.\n",
      "  \"the number of iterations.\", ConvergenceWarning)\n",
      "/anaconda3/lib/python3.7/site-packages/sklearn/linear_model/sag.py:334: ConvergenceWarning: The max_iter was reached which means the coef_ did not converge\n",
      "  \"the coef_ did not converge\", ConvergenceWarning)\n"
     ]
    },
    {
     "name": "stdout",
     "output_type": "stream",
     "text": [
      "[CV]  C=656.8408355712891, fit_intercept=False, intercept_scaling=25, solver=liblinear, score=0.5734406438631791, total=   0.4s\n",
      "[CV] C=656.8408355712891, fit_intercept=False, intercept_scaling=25, solver=saga \n",
      "[CV]  C=656.8408355712891, fit_intercept=False, intercept_scaling=25, solver=saga, score=0.5170682730923695, total=   0.2s\n",
      "[CV] C=656.8408355712891, fit_intercept=False, intercept_scaling=25, solver=saga \n"
     ]
    },
    {
     "name": "stderr",
     "output_type": "stream",
     "text": [
      "/anaconda3/lib/python3.7/site-packages/sklearn/linear_model/sag.py:334: ConvergenceWarning: The max_iter was reached which means the coef_ did not converge\n",
      "  \"the coef_ did not converge\", ConvergenceWarning)\n",
      "/anaconda3/lib/python3.7/site-packages/sklearn/linear_model/sag.py:334: ConvergenceWarning: The max_iter was reached which means the coef_ did not converge\n",
      "  \"the coef_ did not converge\", ConvergenceWarning)\n"
     ]
    },
    {
     "name": "stdout",
     "output_type": "stream",
     "text": [
      "[CV]  C=656.8408355712891, fit_intercept=False, intercept_scaling=25, solver=saga, score=0.5200803212851406, total=   0.2s\n",
      "[CV] C=656.8408355712891, fit_intercept=False, intercept_scaling=25, solver=saga \n",
      "[CV]  C=656.8408355712891, fit_intercept=False, intercept_scaling=25, solver=saga, score=0.5, total=   0.1s\n",
      "[CV] C=656.8408355712891, fit_intercept=False, intercept_scaling=50, solver=liblinear \n"
     ]
    },
    {
     "name": "stderr",
     "output_type": "stream",
     "text": [
      "/anaconda3/lib/python3.7/site-packages/sklearn/svm/base.py:931: ConvergenceWarning: Liblinear failed to converge, increase the number of iterations.\n",
      "  \"the number of iterations.\", ConvergenceWarning)\n"
     ]
    },
    {
     "name": "stdout",
     "output_type": "stream",
     "text": [
      "[CV]  C=656.8408355712891, fit_intercept=False, intercept_scaling=50, solver=liblinear, score=0.5843373493975904, total=   0.2s\n",
      "[CV] C=656.8408355712891, fit_intercept=False, intercept_scaling=50, solver=liblinear \n"
     ]
    },
    {
     "name": "stderr",
     "output_type": "stream",
     "text": [
      "/anaconda3/lib/python3.7/site-packages/sklearn/svm/base.py:931: ConvergenceWarning: Liblinear failed to converge, increase the number of iterations.\n",
      "  \"the number of iterations.\", ConvergenceWarning)\n"
     ]
    },
    {
     "name": "stdout",
     "output_type": "stream",
     "text": [
      "[CV]  C=656.8408355712891, fit_intercept=False, intercept_scaling=50, solver=liblinear, score=0.5652610441767069, total=   0.4s\n",
      "[CV] C=656.8408355712891, fit_intercept=False, intercept_scaling=50, solver=liblinear \n"
     ]
    },
    {
     "name": "stderr",
     "output_type": "stream",
     "text": [
      "/anaconda3/lib/python3.7/site-packages/sklearn/svm/base.py:931: ConvergenceWarning: Liblinear failed to converge, increase the number of iterations.\n",
      "  \"the number of iterations.\", ConvergenceWarning)\n",
      "/anaconda3/lib/python3.7/site-packages/sklearn/linear_model/sag.py:334: ConvergenceWarning: The max_iter was reached which means the coef_ did not converge\n",
      "  \"the coef_ did not converge\", ConvergenceWarning)\n"
     ]
    },
    {
     "name": "stdout",
     "output_type": "stream",
     "text": [
      "[CV]  C=656.8408355712891, fit_intercept=False, intercept_scaling=50, solver=liblinear, score=0.5734406438631791, total=   0.5s\n",
      "[CV] C=656.8408355712891, fit_intercept=False, intercept_scaling=50, solver=saga \n",
      "[CV]  C=656.8408355712891, fit_intercept=False, intercept_scaling=50, solver=saga, score=0.5170682730923695, total=   0.1s\n",
      "[CV] C=656.8408355712891, fit_intercept=False, intercept_scaling=50, solver=saga \n"
     ]
    },
    {
     "name": "stderr",
     "output_type": "stream",
     "text": [
      "/anaconda3/lib/python3.7/site-packages/sklearn/linear_model/sag.py:334: ConvergenceWarning: The max_iter was reached which means the coef_ did not converge\n",
      "  \"the coef_ did not converge\", ConvergenceWarning)\n",
      "/anaconda3/lib/python3.7/site-packages/sklearn/linear_model/sag.py:334: ConvergenceWarning: The max_iter was reached which means the coef_ did not converge\n",
      "  \"the coef_ did not converge\", ConvergenceWarning)\n"
     ]
    },
    {
     "name": "stdout",
     "output_type": "stream",
     "text": [
      "[CV]  C=656.8408355712891, fit_intercept=False, intercept_scaling=50, solver=saga, score=0.5220883534136547, total=   0.1s\n",
      "[CV] C=656.8408355712891, fit_intercept=False, intercept_scaling=50, solver=saga \n",
      "[CV]  C=656.8408355712891, fit_intercept=False, intercept_scaling=50, solver=saga, score=0.5020120724346077, total=   0.1s\n",
      "[CV] C=656.8408355712891, fit_intercept=False, intercept_scaling=100, solver=liblinear \n"
     ]
    },
    {
     "name": "stderr",
     "output_type": "stream",
     "text": [
      "/anaconda3/lib/python3.7/site-packages/sklearn/svm/base.py:931: ConvergenceWarning: Liblinear failed to converge, increase the number of iterations.\n",
      "  \"the number of iterations.\", ConvergenceWarning)\n"
     ]
    },
    {
     "name": "stdout",
     "output_type": "stream",
     "text": [
      "[CV]  C=656.8408355712891, fit_intercept=False, intercept_scaling=100, solver=liblinear, score=0.5843373493975904, total=   0.3s\n",
      "[CV] C=656.8408355712891, fit_intercept=False, intercept_scaling=100, solver=liblinear \n"
     ]
    },
    {
     "name": "stderr",
     "output_type": "stream",
     "text": [
      "/anaconda3/lib/python3.7/site-packages/sklearn/svm/base.py:931: ConvergenceWarning: Liblinear failed to converge, increase the number of iterations.\n",
      "  \"the number of iterations.\", ConvergenceWarning)\n"
     ]
    },
    {
     "name": "stdout",
     "output_type": "stream",
     "text": [
      "[CV]  C=656.8408355712891, fit_intercept=False, intercept_scaling=100, solver=liblinear, score=0.5652610441767069, total=   0.3s\n",
      "[CV] C=656.8408355712891, fit_intercept=False, intercept_scaling=100, solver=liblinear \n"
     ]
    },
    {
     "name": "stderr",
     "output_type": "stream",
     "text": [
      "/anaconda3/lib/python3.7/site-packages/sklearn/svm/base.py:931: ConvergenceWarning: Liblinear failed to converge, increase the number of iterations.\n",
      "  \"the number of iterations.\", ConvergenceWarning)\n",
      "/anaconda3/lib/python3.7/site-packages/sklearn/linear_model/sag.py:334: ConvergenceWarning: The max_iter was reached which means the coef_ did not converge\n",
      "  \"the coef_ did not converge\", ConvergenceWarning)\n"
     ]
    },
    {
     "name": "stdout",
     "output_type": "stream",
     "text": [
      "[CV]  C=656.8408355712891, fit_intercept=False, intercept_scaling=100, solver=liblinear, score=0.5734406438631791, total=   0.4s\n",
      "[CV] C=656.8408355712891, fit_intercept=False, intercept_scaling=100, solver=saga \n",
      "[CV]  C=656.8408355712891, fit_intercept=False, intercept_scaling=100, solver=saga, score=0.5190763052208835, total=   0.1s\n",
      "[CV] C=656.8408355712891, fit_intercept=False, intercept_scaling=100, solver=saga \n"
     ]
    },
    {
     "name": "stderr",
     "output_type": "stream",
     "text": [
      "/anaconda3/lib/python3.7/site-packages/sklearn/linear_model/sag.py:334: ConvergenceWarning: The max_iter was reached which means the coef_ did not converge\n",
      "  \"the coef_ did not converge\", ConvergenceWarning)\n",
      "/anaconda3/lib/python3.7/site-packages/sklearn/linear_model/sag.py:334: ConvergenceWarning: The max_iter was reached which means the coef_ did not converge\n",
      "  \"the coef_ did not converge\", ConvergenceWarning)\n"
     ]
    },
    {
     "name": "stdout",
     "output_type": "stream",
     "text": [
      "[CV]  C=656.8408355712891, fit_intercept=False, intercept_scaling=100, solver=saga, score=0.5220883534136547, total=   0.1s\n",
      "[CV] C=656.8408355712891, fit_intercept=False, intercept_scaling=100, solver=saga \n",
      "[CV]  C=656.8408355712891, fit_intercept=False, intercept_scaling=100, solver=saga, score=0.5020120724346077, total=   0.1s\n",
      "[CV] C=1477.8918800354004, fit_intercept=True, intercept_scaling=1, solver=liblinear \n"
     ]
    },
    {
     "name": "stderr",
     "output_type": "stream",
     "text": [
      "/anaconda3/lib/python3.7/site-packages/sklearn/svm/base.py:931: ConvergenceWarning: Liblinear failed to converge, increase the number of iterations.\n",
      "  \"the number of iterations.\", ConvergenceWarning)\n"
     ]
    },
    {
     "name": "stdout",
     "output_type": "stream",
     "text": [
      "[CV]  C=1477.8918800354004, fit_intercept=True, intercept_scaling=1, solver=liblinear, score=0.5883534136546185, total=   0.3s\n",
      "[CV] C=1477.8918800354004, fit_intercept=True, intercept_scaling=1, solver=liblinear \n"
     ]
    },
    {
     "name": "stderr",
     "output_type": "stream",
     "text": [
      "/anaconda3/lib/python3.7/site-packages/sklearn/svm/base.py:931: ConvergenceWarning: Liblinear failed to converge, increase the number of iterations.\n",
      "  \"the number of iterations.\", ConvergenceWarning)\n"
     ]
    },
    {
     "name": "stdout",
     "output_type": "stream",
     "text": [
      "[CV]  C=1477.8918800354004, fit_intercept=True, intercept_scaling=1, solver=liblinear, score=0.5602409638554217, total=   0.2s\n",
      "[CV] C=1477.8918800354004, fit_intercept=True, intercept_scaling=1, solver=liblinear \n"
     ]
    },
    {
     "name": "stderr",
     "output_type": "stream",
     "text": [
      "/anaconda3/lib/python3.7/site-packages/sklearn/svm/base.py:931: ConvergenceWarning: Liblinear failed to converge, increase the number of iterations.\n",
      "  \"the number of iterations.\", ConvergenceWarning)\n",
      "/anaconda3/lib/python3.7/site-packages/sklearn/linear_model/sag.py:334: ConvergenceWarning: The max_iter was reached which means the coef_ did not converge\n",
      "  \"the coef_ did not converge\", ConvergenceWarning)\n"
     ]
    },
    {
     "name": "stdout",
     "output_type": "stream",
     "text": [
      "[CV]  C=1477.8918800354004, fit_intercept=True, intercept_scaling=1, solver=liblinear, score=0.5704225352112676, total=   0.4s\n",
      "[CV] C=1477.8918800354004, fit_intercept=True, intercept_scaling=1, solver=saga \n",
      "[CV]  C=1477.8918800354004, fit_intercept=True, intercept_scaling=1, solver=saga, score=0.5180722891566265, total=   0.1s\n",
      "[CV] C=1477.8918800354004, fit_intercept=True, intercept_scaling=1, solver=saga \n"
     ]
    },
    {
     "name": "stderr",
     "output_type": "stream",
     "text": [
      "/anaconda3/lib/python3.7/site-packages/sklearn/linear_model/sag.py:334: ConvergenceWarning: The max_iter was reached which means the coef_ did not converge\n",
      "  \"the coef_ did not converge\", ConvergenceWarning)\n",
      "/anaconda3/lib/python3.7/site-packages/sklearn/linear_model/sag.py:334: ConvergenceWarning: The max_iter was reached which means the coef_ did not converge\n",
      "  \"the coef_ did not converge\", ConvergenceWarning)\n"
     ]
    },
    {
     "name": "stdout",
     "output_type": "stream",
     "text": [
      "[CV]  C=1477.8918800354004, fit_intercept=True, intercept_scaling=1, solver=saga, score=0.5200803212851406, total=   0.1s\n",
      "[CV] C=1477.8918800354004, fit_intercept=True, intercept_scaling=1, solver=saga \n",
      "[CV]  C=1477.8918800354004, fit_intercept=True, intercept_scaling=1, solver=saga, score=0.5010060362173038, total=   0.1s\n",
      "[CV] C=1477.8918800354004, fit_intercept=True, intercept_scaling=5, solver=liblinear \n",
      "[CV]  C=1477.8918800354004, fit_intercept=True, intercept_scaling=5, solver=liblinear, score=0.6004016064257028, total=   0.4s\n",
      "[CV] C=1477.8918800354004, fit_intercept=True, intercept_scaling=5, solver=liblinear \n"
     ]
    },
    {
     "name": "stderr",
     "output_type": "stream",
     "text": [
      "/anaconda3/lib/python3.7/site-packages/sklearn/svm/base.py:931: ConvergenceWarning: Liblinear failed to converge, increase the number of iterations.\n",
      "  \"the number of iterations.\", ConvergenceWarning)\n"
     ]
    },
    {
     "name": "stdout",
     "output_type": "stream",
     "text": [
      "[CV]  C=1477.8918800354004, fit_intercept=True, intercept_scaling=5, solver=liblinear, score=0.5592369477911646, total=   0.3s\n",
      "[CV] C=1477.8918800354004, fit_intercept=True, intercept_scaling=5, solver=liblinear \n"
     ]
    },
    {
     "name": "stderr",
     "output_type": "stream",
     "text": [
      "/anaconda3/lib/python3.7/site-packages/sklearn/svm/base.py:931: ConvergenceWarning: Liblinear failed to converge, increase the number of iterations.\n",
      "  \"the number of iterations.\", ConvergenceWarning)\n",
      "/anaconda3/lib/python3.7/site-packages/sklearn/linear_model/sag.py:334: ConvergenceWarning: The max_iter was reached which means the coef_ did not converge\n",
      "  \"the coef_ did not converge\", ConvergenceWarning)\n"
     ]
    },
    {
     "name": "stdout",
     "output_type": "stream",
     "text": [
      "[CV]  C=1477.8918800354004, fit_intercept=True, intercept_scaling=5, solver=liblinear, score=0.5734406438631791, total=   0.4s\n",
      "[CV] C=1477.8918800354004, fit_intercept=True, intercept_scaling=5, solver=saga \n",
      "[CV]  C=1477.8918800354004, fit_intercept=True, intercept_scaling=5, solver=saga, score=0.5190763052208835, total=   0.1s\n",
      "[CV] C=1477.8918800354004, fit_intercept=True, intercept_scaling=5, solver=saga \n"
     ]
    },
    {
     "name": "stderr",
     "output_type": "stream",
     "text": [
      "/anaconda3/lib/python3.7/site-packages/sklearn/linear_model/sag.py:334: ConvergenceWarning: The max_iter was reached which means the coef_ did not converge\n",
      "  \"the coef_ did not converge\", ConvergenceWarning)\n",
      "/anaconda3/lib/python3.7/site-packages/sklearn/linear_model/sag.py:334: ConvergenceWarning: The max_iter was reached which means the coef_ did not converge\n",
      "  \"the coef_ did not converge\", ConvergenceWarning)\n"
     ]
    },
    {
     "name": "stdout",
     "output_type": "stream",
     "text": [
      "[CV]  C=1477.8918800354004, fit_intercept=True, intercept_scaling=5, solver=saga, score=0.5210843373493976, total=   0.1s\n",
      "[CV] C=1477.8918800354004, fit_intercept=True, intercept_scaling=5, solver=saga \n",
      "[CV]  C=1477.8918800354004, fit_intercept=True, intercept_scaling=5, solver=saga, score=0.5, total=   0.1s\n",
      "[CV] C=1477.8918800354004, fit_intercept=True, intercept_scaling=10, solver=liblinear \n"
     ]
    },
    {
     "name": "stderr",
     "output_type": "stream",
     "text": [
      "/anaconda3/lib/python3.7/site-packages/sklearn/svm/base.py:931: ConvergenceWarning: Liblinear failed to converge, increase the number of iterations.\n",
      "  \"the number of iterations.\", ConvergenceWarning)\n"
     ]
    },
    {
     "name": "stdout",
     "output_type": "stream",
     "text": [
      "[CV]  C=1477.8918800354004, fit_intercept=True, intercept_scaling=10, solver=liblinear, score=0.5963855421686747, total=   0.2s\n",
      "[CV] C=1477.8918800354004, fit_intercept=True, intercept_scaling=10, solver=liblinear \n"
     ]
    },
    {
     "name": "stderr",
     "output_type": "stream",
     "text": [
      "/anaconda3/lib/python3.7/site-packages/sklearn/svm/base.py:931: ConvergenceWarning: Liblinear failed to converge, increase the number of iterations.\n",
      "  \"the number of iterations.\", ConvergenceWarning)\n"
     ]
    },
    {
     "name": "stdout",
     "output_type": "stream",
     "text": [
      "[CV]  C=1477.8918800354004, fit_intercept=True, intercept_scaling=10, solver=liblinear, score=0.5582329317269076, total=   0.4s\n",
      "[CV] C=1477.8918800354004, fit_intercept=True, intercept_scaling=10, solver=liblinear \n"
     ]
    },
    {
     "name": "stderr",
     "output_type": "stream",
     "text": [
      "/anaconda3/lib/python3.7/site-packages/sklearn/svm/base.py:931: ConvergenceWarning: Liblinear failed to converge, increase the number of iterations.\n",
      "  \"the number of iterations.\", ConvergenceWarning)\n",
      "/anaconda3/lib/python3.7/site-packages/sklearn/linear_model/sag.py:334: ConvergenceWarning: The max_iter was reached which means the coef_ did not converge\n",
      "  \"the coef_ did not converge\", ConvergenceWarning)\n"
     ]
    },
    {
     "name": "stdout",
     "output_type": "stream",
     "text": [
      "[CV]  C=1477.8918800354004, fit_intercept=True, intercept_scaling=10, solver=liblinear, score=0.5804828973843058, total=   0.3s\n",
      "[CV] C=1477.8918800354004, fit_intercept=True, intercept_scaling=10, solver=saga \n",
      "[CV]  C=1477.8918800354004, fit_intercept=True, intercept_scaling=10, solver=saga, score=0.5180722891566265, total=   0.1s\n",
      "[CV] C=1477.8918800354004, fit_intercept=True, intercept_scaling=10, solver=saga \n"
     ]
    },
    {
     "name": "stderr",
     "output_type": "stream",
     "text": [
      "/anaconda3/lib/python3.7/site-packages/sklearn/linear_model/sag.py:334: ConvergenceWarning: The max_iter was reached which means the coef_ did not converge\n",
      "  \"the coef_ did not converge\", ConvergenceWarning)\n",
      "/anaconda3/lib/python3.7/site-packages/sklearn/linear_model/sag.py:334: ConvergenceWarning: The max_iter was reached which means the coef_ did not converge\n",
      "  \"the coef_ did not converge\", ConvergenceWarning)\n"
     ]
    },
    {
     "name": "stdout",
     "output_type": "stream",
     "text": [
      "[CV]  C=1477.8918800354004, fit_intercept=True, intercept_scaling=10, solver=saga, score=0.5210843373493976, total=   0.1s\n",
      "[CV] C=1477.8918800354004, fit_intercept=True, intercept_scaling=10, solver=saga \n",
      "[CV]  C=1477.8918800354004, fit_intercept=True, intercept_scaling=10, solver=saga, score=0.5010060362173038, total=   0.1s\n",
      "[CV] C=1477.8918800354004, fit_intercept=True, intercept_scaling=25, solver=liblinear \n"
     ]
    },
    {
     "name": "stderr",
     "output_type": "stream",
     "text": [
      "/anaconda3/lib/python3.7/site-packages/sklearn/svm/base.py:931: ConvergenceWarning: Liblinear failed to converge, increase the number of iterations.\n",
      "  \"the number of iterations.\", ConvergenceWarning)\n"
     ]
    },
    {
     "name": "stdout",
     "output_type": "stream",
     "text": [
      "[CV]  C=1477.8918800354004, fit_intercept=True, intercept_scaling=25, solver=liblinear, score=0.5903614457831325, total=   0.2s\n",
      "[CV] C=1477.8918800354004, fit_intercept=True, intercept_scaling=25, solver=liblinear \n"
     ]
    },
    {
     "name": "stderr",
     "output_type": "stream",
     "text": [
      "/anaconda3/lib/python3.7/site-packages/sklearn/svm/base.py:931: ConvergenceWarning: Liblinear failed to converge, increase the number of iterations.\n",
      "  \"the number of iterations.\", ConvergenceWarning)\n"
     ]
    },
    {
     "name": "stdout",
     "output_type": "stream",
     "text": [
      "[CV]  C=1477.8918800354004, fit_intercept=True, intercept_scaling=25, solver=liblinear, score=0.5582329317269076, total=   0.3s\n",
      "[CV] C=1477.8918800354004, fit_intercept=True, intercept_scaling=25, solver=liblinear \n"
     ]
    },
    {
     "name": "stderr",
     "output_type": "stream",
     "text": [
      "/anaconda3/lib/python3.7/site-packages/sklearn/svm/base.py:931: ConvergenceWarning: Liblinear failed to converge, increase the number of iterations.\n",
      "  \"the number of iterations.\", ConvergenceWarning)\n",
      "/anaconda3/lib/python3.7/site-packages/sklearn/linear_model/sag.py:334: ConvergenceWarning: The max_iter was reached which means the coef_ did not converge\n",
      "  \"the coef_ did not converge\", ConvergenceWarning)\n"
     ]
    },
    {
     "name": "stdout",
     "output_type": "stream",
     "text": [
      "[CV]  C=1477.8918800354004, fit_intercept=True, intercept_scaling=25, solver=liblinear, score=0.5593561368209256, total=   0.3s\n",
      "[CV] C=1477.8918800354004, fit_intercept=True, intercept_scaling=25, solver=saga \n",
      "[CV]  C=1477.8918800354004, fit_intercept=True, intercept_scaling=25, solver=saga, score=0.5180722891566265, total=   0.1s\n",
      "[CV] C=1477.8918800354004, fit_intercept=True, intercept_scaling=25, solver=saga \n"
     ]
    },
    {
     "name": "stderr",
     "output_type": "stream",
     "text": [
      "/anaconda3/lib/python3.7/site-packages/sklearn/linear_model/sag.py:334: ConvergenceWarning: The max_iter was reached which means the coef_ did not converge\n",
      "  \"the coef_ did not converge\", ConvergenceWarning)\n",
      "/anaconda3/lib/python3.7/site-packages/sklearn/linear_model/sag.py:334: ConvergenceWarning: The max_iter was reached which means the coef_ did not converge\n",
      "  \"the coef_ did not converge\", ConvergenceWarning)\n"
     ]
    },
    {
     "name": "stdout",
     "output_type": "stream",
     "text": [
      "[CV]  C=1477.8918800354004, fit_intercept=True, intercept_scaling=25, solver=saga, score=0.5190763052208835, total=   0.1s\n",
      "[CV] C=1477.8918800354004, fit_intercept=True, intercept_scaling=25, solver=saga \n",
      "[CV]  C=1477.8918800354004, fit_intercept=True, intercept_scaling=25, solver=saga, score=0.5010060362173038, total=   0.1s\n",
      "[CV] C=1477.8918800354004, fit_intercept=True, intercept_scaling=50, solver=liblinear \n"
     ]
    },
    {
     "name": "stderr",
     "output_type": "stream",
     "text": [
      "/anaconda3/lib/python3.7/site-packages/sklearn/svm/base.py:931: ConvergenceWarning: Liblinear failed to converge, increase the number of iterations.\n",
      "  \"the number of iterations.\", ConvergenceWarning)\n"
     ]
    },
    {
     "name": "stdout",
     "output_type": "stream",
     "text": [
      "[CV]  C=1477.8918800354004, fit_intercept=True, intercept_scaling=50, solver=liblinear, score=0.5903614457831325, total=   0.2s\n",
      "[CV] C=1477.8918800354004, fit_intercept=True, intercept_scaling=50, solver=liblinear \n"
     ]
    },
    {
     "name": "stderr",
     "output_type": "stream",
     "text": [
      "/anaconda3/lib/python3.7/site-packages/sklearn/svm/base.py:931: ConvergenceWarning: Liblinear failed to converge, increase the number of iterations.\n",
      "  \"the number of iterations.\", ConvergenceWarning)\n"
     ]
    },
    {
     "name": "stdout",
     "output_type": "stream",
     "text": [
      "[CV]  C=1477.8918800354004, fit_intercept=True, intercept_scaling=50, solver=liblinear, score=0.5652610441767069, total=   0.5s\n",
      "[CV] C=1477.8918800354004, fit_intercept=True, intercept_scaling=50, solver=liblinear \n"
     ]
    },
    {
     "name": "stderr",
     "output_type": "stream",
     "text": [
      "/anaconda3/lib/python3.7/site-packages/sklearn/svm/base.py:931: ConvergenceWarning: Liblinear failed to converge, increase the number of iterations.\n",
      "  \"the number of iterations.\", ConvergenceWarning)\n",
      "/anaconda3/lib/python3.7/site-packages/sklearn/linear_model/sag.py:334: ConvergenceWarning: The max_iter was reached which means the coef_ did not converge\n",
      "  \"the coef_ did not converge\", ConvergenceWarning)\n"
     ]
    },
    {
     "name": "stdout",
     "output_type": "stream",
     "text": [
      "[CV]  C=1477.8918800354004, fit_intercept=True, intercept_scaling=50, solver=liblinear, score=0.5754527162977867, total=   0.4s\n",
      "[CV] C=1477.8918800354004, fit_intercept=True, intercept_scaling=50, solver=saga \n",
      "[CV]  C=1477.8918800354004, fit_intercept=True, intercept_scaling=50, solver=saga, score=0.5180722891566265, total=   0.1s\n",
      "[CV] C=1477.8918800354004, fit_intercept=True, intercept_scaling=50, solver=saga \n"
     ]
    },
    {
     "name": "stderr",
     "output_type": "stream",
     "text": [
      "/anaconda3/lib/python3.7/site-packages/sklearn/linear_model/sag.py:334: ConvergenceWarning: The max_iter was reached which means the coef_ did not converge\n",
      "  \"the coef_ did not converge\", ConvergenceWarning)\n",
      "/anaconda3/lib/python3.7/site-packages/sklearn/linear_model/sag.py:334: ConvergenceWarning: The max_iter was reached which means the coef_ did not converge\n",
      "  \"the coef_ did not converge\", ConvergenceWarning)\n"
     ]
    },
    {
     "name": "stdout",
     "output_type": "stream",
     "text": [
      "[CV]  C=1477.8918800354004, fit_intercept=True, intercept_scaling=50, solver=saga, score=0.5180722891566265, total=   0.1s\n",
      "[CV] C=1477.8918800354004, fit_intercept=True, intercept_scaling=50, solver=saga \n",
      "[CV]  C=1477.8918800354004, fit_intercept=True, intercept_scaling=50, solver=saga, score=0.5010060362173038, total=   0.1s\n",
      "[CV] C=1477.8918800354004, fit_intercept=True, intercept_scaling=100, solver=liblinear \n"
     ]
    },
    {
     "name": "stderr",
     "output_type": "stream",
     "text": [
      "/anaconda3/lib/python3.7/site-packages/sklearn/svm/base.py:931: ConvergenceWarning: Liblinear failed to converge, increase the number of iterations.\n",
      "  \"the number of iterations.\", ConvergenceWarning)\n"
     ]
    },
    {
     "name": "stdout",
     "output_type": "stream",
     "text": [
      "[CV]  C=1477.8918800354004, fit_intercept=True, intercept_scaling=100, solver=liblinear, score=0.6034136546184738, total=   0.3s\n",
      "[CV] C=1477.8918800354004, fit_intercept=True, intercept_scaling=100, solver=liblinear \n"
     ]
    },
    {
     "name": "stderr",
     "output_type": "stream",
     "text": [
      "/anaconda3/lib/python3.7/site-packages/sklearn/svm/base.py:931: ConvergenceWarning: Liblinear failed to converge, increase the number of iterations.\n",
      "  \"the number of iterations.\", ConvergenceWarning)\n"
     ]
    },
    {
     "name": "stdout",
     "output_type": "stream",
     "text": [
      "[CV]  C=1477.8918800354004, fit_intercept=True, intercept_scaling=100, solver=liblinear, score=0.5552208835341366, total=   0.3s\n",
      "[CV] C=1477.8918800354004, fit_intercept=True, intercept_scaling=100, solver=liblinear \n"
     ]
    },
    {
     "name": "stderr",
     "output_type": "stream",
     "text": [
      "/anaconda3/lib/python3.7/site-packages/sklearn/svm/base.py:931: ConvergenceWarning: Liblinear failed to converge, increase the number of iterations.\n",
      "  \"the number of iterations.\", ConvergenceWarning)\n",
      "/anaconda3/lib/python3.7/site-packages/sklearn/linear_model/sag.py:334: ConvergenceWarning: The max_iter was reached which means the coef_ did not converge\n",
      "  \"the coef_ did not converge\", ConvergenceWarning)\n"
     ]
    },
    {
     "name": "stdout",
     "output_type": "stream",
     "text": [
      "[CV]  C=1477.8918800354004, fit_intercept=True, intercept_scaling=100, solver=liblinear, score=0.5613682092555332, total=   0.4s\n",
      "[CV] C=1477.8918800354004, fit_intercept=True, intercept_scaling=100, solver=saga \n",
      "[CV]  C=1477.8918800354004, fit_intercept=True, intercept_scaling=100, solver=saga, score=0.5180722891566265, total=   0.1s\n",
      "[CV] C=1477.8918800354004, fit_intercept=True, intercept_scaling=100, solver=saga \n"
     ]
    },
    {
     "name": "stderr",
     "output_type": "stream",
     "text": [
      "/anaconda3/lib/python3.7/site-packages/sklearn/linear_model/sag.py:334: ConvergenceWarning: The max_iter was reached which means the coef_ did not converge\n",
      "  \"the coef_ did not converge\", ConvergenceWarning)\n",
      "/anaconda3/lib/python3.7/site-packages/sklearn/linear_model/sag.py:334: ConvergenceWarning: The max_iter was reached which means the coef_ did not converge\n",
      "  \"the coef_ did not converge\", ConvergenceWarning)\n"
     ]
    },
    {
     "name": "stdout",
     "output_type": "stream",
     "text": [
      "[CV]  C=1477.8918800354004, fit_intercept=True, intercept_scaling=100, solver=saga, score=0.5180722891566265, total=   0.1s\n",
      "[CV] C=1477.8918800354004, fit_intercept=True, intercept_scaling=100, solver=saga \n",
      "[CV]  C=1477.8918800354004, fit_intercept=True, intercept_scaling=100, solver=saga, score=0.5020120724346077, total=   0.1s\n",
      "[CV] C=1477.8918800354004, fit_intercept=False, intercept_scaling=1, solver=liblinear \n"
     ]
    },
    {
     "name": "stderr",
     "output_type": "stream",
     "text": [
      "/anaconda3/lib/python3.7/site-packages/sklearn/svm/base.py:931: ConvergenceWarning: Liblinear failed to converge, increase the number of iterations.\n",
      "  \"the number of iterations.\", ConvergenceWarning)\n"
     ]
    },
    {
     "name": "stdout",
     "output_type": "stream",
     "text": [
      "[CV]  C=1477.8918800354004, fit_intercept=False, intercept_scaling=1, solver=liblinear, score=0.5863453815261044, total=   0.2s\n",
      "[CV] C=1477.8918800354004, fit_intercept=False, intercept_scaling=1, solver=liblinear \n"
     ]
    },
    {
     "name": "stderr",
     "output_type": "stream",
     "text": [
      "/anaconda3/lib/python3.7/site-packages/sklearn/svm/base.py:931: ConvergenceWarning: Liblinear failed to converge, increase the number of iterations.\n",
      "  \"the number of iterations.\", ConvergenceWarning)\n"
     ]
    },
    {
     "name": "stdout",
     "output_type": "stream",
     "text": [
      "[CV]  C=1477.8918800354004, fit_intercept=False, intercept_scaling=1, solver=liblinear, score=0.5592369477911646, total=   0.4s\n",
      "[CV] C=1477.8918800354004, fit_intercept=False, intercept_scaling=1, solver=liblinear \n"
     ]
    },
    {
     "name": "stderr",
     "output_type": "stream",
     "text": [
      "/anaconda3/lib/python3.7/site-packages/sklearn/svm/base.py:931: ConvergenceWarning: Liblinear failed to converge, increase the number of iterations.\n",
      "  \"the number of iterations.\", ConvergenceWarning)\n",
      "/anaconda3/lib/python3.7/site-packages/sklearn/linear_model/sag.py:334: ConvergenceWarning: The max_iter was reached which means the coef_ did not converge\n",
      "  \"the coef_ did not converge\", ConvergenceWarning)\n"
     ]
    },
    {
     "name": "stdout",
     "output_type": "stream",
     "text": [
      "[CV]  C=1477.8918800354004, fit_intercept=False, intercept_scaling=1, solver=liblinear, score=0.5774647887323944, total=   0.4s\n",
      "[CV] C=1477.8918800354004, fit_intercept=False, intercept_scaling=1, solver=saga \n",
      "[CV]  C=1477.8918800354004, fit_intercept=False, intercept_scaling=1, solver=saga, score=0.5180722891566265, total=   0.1s\n",
      "[CV] C=1477.8918800354004, fit_intercept=False, intercept_scaling=1, solver=saga \n"
     ]
    },
    {
     "name": "stderr",
     "output_type": "stream",
     "text": [
      "/anaconda3/lib/python3.7/site-packages/sklearn/linear_model/sag.py:334: ConvergenceWarning: The max_iter was reached which means the coef_ did not converge\n",
      "  \"the coef_ did not converge\", ConvergenceWarning)\n",
      "/anaconda3/lib/python3.7/site-packages/sklearn/linear_model/sag.py:334: ConvergenceWarning: The max_iter was reached which means the coef_ did not converge\n",
      "  \"the coef_ did not converge\", ConvergenceWarning)\n"
     ]
    },
    {
     "name": "stdout",
     "output_type": "stream",
     "text": [
      "[CV]  C=1477.8918800354004, fit_intercept=False, intercept_scaling=1, solver=saga, score=0.5200803212851406, total=   0.1s\n",
      "[CV] C=1477.8918800354004, fit_intercept=False, intercept_scaling=1, solver=saga \n",
      "[CV]  C=1477.8918800354004, fit_intercept=False, intercept_scaling=1, solver=saga, score=0.5020120724346077, total=   0.1s\n",
      "[CV] C=1477.8918800354004, fit_intercept=False, intercept_scaling=5, solver=liblinear \n"
     ]
    },
    {
     "name": "stderr",
     "output_type": "stream",
     "text": [
      "/anaconda3/lib/python3.7/site-packages/sklearn/svm/base.py:931: ConvergenceWarning: Liblinear failed to converge, increase the number of iterations.\n",
      "  \"the number of iterations.\", ConvergenceWarning)\n"
     ]
    },
    {
     "name": "stdout",
     "output_type": "stream",
     "text": [
      "[CV]  C=1477.8918800354004, fit_intercept=False, intercept_scaling=5, solver=liblinear, score=0.5863453815261044, total=   0.3s\n",
      "[CV] C=1477.8918800354004, fit_intercept=False, intercept_scaling=5, solver=liblinear \n"
     ]
    },
    {
     "name": "stderr",
     "output_type": "stream",
     "text": [
      "/anaconda3/lib/python3.7/site-packages/sklearn/svm/base.py:931: ConvergenceWarning: Liblinear failed to converge, increase the number of iterations.\n",
      "  \"the number of iterations.\", ConvergenceWarning)\n"
     ]
    },
    {
     "name": "stdout",
     "output_type": "stream",
     "text": [
      "[CV]  C=1477.8918800354004, fit_intercept=False, intercept_scaling=5, solver=liblinear, score=0.5592369477911646, total=   0.4s\n",
      "[CV] C=1477.8918800354004, fit_intercept=False, intercept_scaling=5, solver=liblinear \n"
     ]
    },
    {
     "name": "stderr",
     "output_type": "stream",
     "text": [
      "/anaconda3/lib/python3.7/site-packages/sklearn/svm/base.py:931: ConvergenceWarning: Liblinear failed to converge, increase the number of iterations.\n",
      "  \"the number of iterations.\", ConvergenceWarning)\n",
      "/anaconda3/lib/python3.7/site-packages/sklearn/linear_model/sag.py:334: ConvergenceWarning: The max_iter was reached which means the coef_ did not converge\n",
      "  \"the coef_ did not converge\", ConvergenceWarning)\n"
     ]
    },
    {
     "name": "stdout",
     "output_type": "stream",
     "text": [
      "[CV]  C=1477.8918800354004, fit_intercept=False, intercept_scaling=5, solver=liblinear, score=0.5774647887323944, total=   0.4s\n",
      "[CV] C=1477.8918800354004, fit_intercept=False, intercept_scaling=5, solver=saga \n",
      "[CV]  C=1477.8918800354004, fit_intercept=False, intercept_scaling=5, solver=saga, score=0.5200803212851406, total=   0.1s\n",
      "[CV] C=1477.8918800354004, fit_intercept=False, intercept_scaling=5, solver=saga \n"
     ]
    },
    {
     "name": "stderr",
     "output_type": "stream",
     "text": [
      "/anaconda3/lib/python3.7/site-packages/sklearn/linear_model/sag.py:334: ConvergenceWarning: The max_iter was reached which means the coef_ did not converge\n",
      "  \"the coef_ did not converge\", ConvergenceWarning)\n",
      "/anaconda3/lib/python3.7/site-packages/sklearn/linear_model/sag.py:334: ConvergenceWarning: The max_iter was reached which means the coef_ did not converge\n",
      "  \"the coef_ did not converge\", ConvergenceWarning)\n"
     ]
    },
    {
     "name": "stdout",
     "output_type": "stream",
     "text": [
      "[CV]  C=1477.8918800354004, fit_intercept=False, intercept_scaling=5, solver=saga, score=0.5180722891566265, total=   0.1s\n",
      "[CV] C=1477.8918800354004, fit_intercept=False, intercept_scaling=5, solver=saga \n",
      "[CV]  C=1477.8918800354004, fit_intercept=False, intercept_scaling=5, solver=saga, score=0.5020120724346077, total=   0.1s\n",
      "[CV] C=1477.8918800354004, fit_intercept=False, intercept_scaling=10, solver=liblinear \n"
     ]
    },
    {
     "name": "stderr",
     "output_type": "stream",
     "text": [
      "/anaconda3/lib/python3.7/site-packages/sklearn/svm/base.py:931: ConvergenceWarning: Liblinear failed to converge, increase the number of iterations.\n",
      "  \"the number of iterations.\", ConvergenceWarning)\n"
     ]
    },
    {
     "name": "stdout",
     "output_type": "stream",
     "text": [
      "[CV]  C=1477.8918800354004, fit_intercept=False, intercept_scaling=10, solver=liblinear, score=0.5863453815261044, total=   0.2s\n",
      "[CV] C=1477.8918800354004, fit_intercept=False, intercept_scaling=10, solver=liblinear \n"
     ]
    },
    {
     "name": "stderr",
     "output_type": "stream",
     "text": [
      "/anaconda3/lib/python3.7/site-packages/sklearn/svm/base.py:931: ConvergenceWarning: Liblinear failed to converge, increase the number of iterations.\n",
      "  \"the number of iterations.\", ConvergenceWarning)\n"
     ]
    },
    {
     "name": "stdout",
     "output_type": "stream",
     "text": [
      "[CV]  C=1477.8918800354004, fit_intercept=False, intercept_scaling=10, solver=liblinear, score=0.5592369477911646, total=   0.4s\n",
      "[CV] C=1477.8918800354004, fit_intercept=False, intercept_scaling=10, solver=liblinear \n"
     ]
    },
    {
     "name": "stderr",
     "output_type": "stream",
     "text": [
      "/anaconda3/lib/python3.7/site-packages/sklearn/svm/base.py:931: ConvergenceWarning: Liblinear failed to converge, increase the number of iterations.\n",
      "  \"the number of iterations.\", ConvergenceWarning)\n",
      "/anaconda3/lib/python3.7/site-packages/sklearn/linear_model/sag.py:334: ConvergenceWarning: The max_iter was reached which means the coef_ did not converge\n",
      "  \"the coef_ did not converge\", ConvergenceWarning)\n"
     ]
    },
    {
     "name": "stdout",
     "output_type": "stream",
     "text": [
      "[CV]  C=1477.8918800354004, fit_intercept=False, intercept_scaling=10, solver=liblinear, score=0.5774647887323944, total=   0.4s\n",
      "[CV] C=1477.8918800354004, fit_intercept=False, intercept_scaling=10, solver=saga \n",
      "[CV]  C=1477.8918800354004, fit_intercept=False, intercept_scaling=10, solver=saga, score=0.5180722891566265, total=   0.1s\n",
      "[CV] C=1477.8918800354004, fit_intercept=False, intercept_scaling=10, solver=saga \n"
     ]
    },
    {
     "name": "stderr",
     "output_type": "stream",
     "text": [
      "/anaconda3/lib/python3.7/site-packages/sklearn/linear_model/sag.py:334: ConvergenceWarning: The max_iter was reached which means the coef_ did not converge\n",
      "  \"the coef_ did not converge\", ConvergenceWarning)\n",
      "/anaconda3/lib/python3.7/site-packages/sklearn/linear_model/sag.py:334: ConvergenceWarning: The max_iter was reached which means the coef_ did not converge\n",
      "  \"the coef_ did not converge\", ConvergenceWarning)\n"
     ]
    },
    {
     "name": "stdout",
     "output_type": "stream",
     "text": [
      "[CV]  C=1477.8918800354004, fit_intercept=False, intercept_scaling=10, solver=saga, score=0.5210843373493976, total=   0.1s\n",
      "[CV] C=1477.8918800354004, fit_intercept=False, intercept_scaling=10, solver=saga \n",
      "[CV]  C=1477.8918800354004, fit_intercept=False, intercept_scaling=10, solver=saga, score=0.5, total=   0.1s\n",
      "[CV] C=1477.8918800354004, fit_intercept=False, intercept_scaling=25, solver=liblinear \n"
     ]
    },
    {
     "name": "stderr",
     "output_type": "stream",
     "text": [
      "/anaconda3/lib/python3.7/site-packages/sklearn/svm/base.py:931: ConvergenceWarning: Liblinear failed to converge, increase the number of iterations.\n",
      "  \"the number of iterations.\", ConvergenceWarning)\n"
     ]
    },
    {
     "name": "stdout",
     "output_type": "stream",
     "text": [
      "[CV]  C=1477.8918800354004, fit_intercept=False, intercept_scaling=25, solver=liblinear, score=0.5863453815261044, total=   0.2s\n",
      "[CV] C=1477.8918800354004, fit_intercept=False, intercept_scaling=25, solver=liblinear \n"
     ]
    },
    {
     "name": "stderr",
     "output_type": "stream",
     "text": [
      "/anaconda3/lib/python3.7/site-packages/sklearn/svm/base.py:931: ConvergenceWarning: Liblinear failed to converge, increase the number of iterations.\n",
      "  \"the number of iterations.\", ConvergenceWarning)\n"
     ]
    },
    {
     "name": "stdout",
     "output_type": "stream",
     "text": [
      "[CV]  C=1477.8918800354004, fit_intercept=False, intercept_scaling=25, solver=liblinear, score=0.5592369477911646, total=   0.4s\n",
      "[CV] C=1477.8918800354004, fit_intercept=False, intercept_scaling=25, solver=liblinear \n"
     ]
    },
    {
     "name": "stderr",
     "output_type": "stream",
     "text": [
      "/anaconda3/lib/python3.7/site-packages/sklearn/svm/base.py:931: ConvergenceWarning: Liblinear failed to converge, increase the number of iterations.\n",
      "  \"the number of iterations.\", ConvergenceWarning)\n",
      "/anaconda3/lib/python3.7/site-packages/sklearn/linear_model/sag.py:334: ConvergenceWarning: The max_iter was reached which means the coef_ did not converge\n",
      "  \"the coef_ did not converge\", ConvergenceWarning)\n"
     ]
    },
    {
     "name": "stdout",
     "output_type": "stream",
     "text": [
      "[CV]  C=1477.8918800354004, fit_intercept=False, intercept_scaling=25, solver=liblinear, score=0.5774647887323944, total=   0.3s\n",
      "[CV] C=1477.8918800354004, fit_intercept=False, intercept_scaling=25, solver=saga \n",
      "[CV]  C=1477.8918800354004, fit_intercept=False, intercept_scaling=25, solver=saga, score=0.5180722891566265, total=   0.1s\n",
      "[CV] C=1477.8918800354004, fit_intercept=False, intercept_scaling=25, solver=saga \n"
     ]
    },
    {
     "name": "stderr",
     "output_type": "stream",
     "text": [
      "/anaconda3/lib/python3.7/site-packages/sklearn/linear_model/sag.py:334: ConvergenceWarning: The max_iter was reached which means the coef_ did not converge\n",
      "  \"the coef_ did not converge\", ConvergenceWarning)\n",
      "/anaconda3/lib/python3.7/site-packages/sklearn/linear_model/sag.py:334: ConvergenceWarning: The max_iter was reached which means the coef_ did not converge\n",
      "  \"the coef_ did not converge\", ConvergenceWarning)\n"
     ]
    },
    {
     "name": "stdout",
     "output_type": "stream",
     "text": [
      "[CV]  C=1477.8918800354004, fit_intercept=False, intercept_scaling=25, solver=saga, score=0.5210843373493976, total=   0.1s\n",
      "[CV] C=1477.8918800354004, fit_intercept=False, intercept_scaling=25, solver=saga \n",
      "[CV]  C=1477.8918800354004, fit_intercept=False, intercept_scaling=25, solver=saga, score=0.5010060362173038, total=   0.1s\n",
      "[CV] C=1477.8918800354004, fit_intercept=False, intercept_scaling=50, solver=liblinear \n"
     ]
    },
    {
     "name": "stderr",
     "output_type": "stream",
     "text": [
      "/anaconda3/lib/python3.7/site-packages/sklearn/svm/base.py:931: ConvergenceWarning: Liblinear failed to converge, increase the number of iterations.\n",
      "  \"the number of iterations.\", ConvergenceWarning)\n"
     ]
    },
    {
     "name": "stdout",
     "output_type": "stream",
     "text": [
      "[CV]  C=1477.8918800354004, fit_intercept=False, intercept_scaling=50, solver=liblinear, score=0.5863453815261044, total=   0.2s\n",
      "[CV] C=1477.8918800354004, fit_intercept=False, intercept_scaling=50, solver=liblinear \n"
     ]
    },
    {
     "name": "stderr",
     "output_type": "stream",
     "text": [
      "/anaconda3/lib/python3.7/site-packages/sklearn/svm/base.py:931: ConvergenceWarning: Liblinear failed to converge, increase the number of iterations.\n",
      "  \"the number of iterations.\", ConvergenceWarning)\n"
     ]
    },
    {
     "name": "stdout",
     "output_type": "stream",
     "text": [
      "[CV]  C=1477.8918800354004, fit_intercept=False, intercept_scaling=50, solver=liblinear, score=0.5592369477911646, total=   0.4s\n",
      "[CV] C=1477.8918800354004, fit_intercept=False, intercept_scaling=50, solver=liblinear \n"
     ]
    },
    {
     "name": "stderr",
     "output_type": "stream",
     "text": [
      "/anaconda3/lib/python3.7/site-packages/sklearn/svm/base.py:931: ConvergenceWarning: Liblinear failed to converge, increase the number of iterations.\n",
      "  \"the number of iterations.\", ConvergenceWarning)\n",
      "/anaconda3/lib/python3.7/site-packages/sklearn/linear_model/sag.py:334: ConvergenceWarning: The max_iter was reached which means the coef_ did not converge\n",
      "  \"the coef_ did not converge\", ConvergenceWarning)\n"
     ]
    },
    {
     "name": "stdout",
     "output_type": "stream",
     "text": [
      "[CV]  C=1477.8918800354004, fit_intercept=False, intercept_scaling=50, solver=liblinear, score=0.5774647887323944, total=   0.4s\n",
      "[CV] C=1477.8918800354004, fit_intercept=False, intercept_scaling=50, solver=saga \n",
      "[CV]  C=1477.8918800354004, fit_intercept=False, intercept_scaling=50, solver=saga, score=0.5180722891566265, total=   0.1s\n",
      "[CV] C=1477.8918800354004, fit_intercept=False, intercept_scaling=50, solver=saga \n"
     ]
    },
    {
     "name": "stderr",
     "output_type": "stream",
     "text": [
      "/anaconda3/lib/python3.7/site-packages/sklearn/linear_model/sag.py:334: ConvergenceWarning: The max_iter was reached which means the coef_ did not converge\n",
      "  \"the coef_ did not converge\", ConvergenceWarning)\n",
      "/anaconda3/lib/python3.7/site-packages/sklearn/linear_model/sag.py:334: ConvergenceWarning: The max_iter was reached which means the coef_ did not converge\n",
      "  \"the coef_ did not converge\", ConvergenceWarning)\n"
     ]
    },
    {
     "name": "stdout",
     "output_type": "stream",
     "text": [
      "[CV]  C=1477.8918800354004, fit_intercept=False, intercept_scaling=50, solver=saga, score=0.5190763052208835, total=   0.1s\n",
      "[CV] C=1477.8918800354004, fit_intercept=False, intercept_scaling=50, solver=saga \n",
      "[CV]  C=1477.8918800354004, fit_intercept=False, intercept_scaling=50, solver=saga, score=0.5010060362173038, total=   0.1s\n",
      "[CV] C=1477.8918800354004, fit_intercept=False, intercept_scaling=100, solver=liblinear \n"
     ]
    },
    {
     "name": "stderr",
     "output_type": "stream",
     "text": [
      "/anaconda3/lib/python3.7/site-packages/sklearn/svm/base.py:931: ConvergenceWarning: Liblinear failed to converge, increase the number of iterations.\n",
      "  \"the number of iterations.\", ConvergenceWarning)\n"
     ]
    },
    {
     "name": "stdout",
     "output_type": "stream",
     "text": [
      "[CV]  C=1477.8918800354004, fit_intercept=False, intercept_scaling=100, solver=liblinear, score=0.5863453815261044, total=   0.2s\n",
      "[CV] C=1477.8918800354004, fit_intercept=False, intercept_scaling=100, solver=liblinear \n"
     ]
    },
    {
     "name": "stderr",
     "output_type": "stream",
     "text": [
      "/anaconda3/lib/python3.7/site-packages/sklearn/svm/base.py:931: ConvergenceWarning: Liblinear failed to converge, increase the number of iterations.\n",
      "  \"the number of iterations.\", ConvergenceWarning)\n"
     ]
    },
    {
     "name": "stdout",
     "output_type": "stream",
     "text": [
      "[CV]  C=1477.8918800354004, fit_intercept=False, intercept_scaling=100, solver=liblinear, score=0.5592369477911646, total=   0.4s\n",
      "[CV] C=1477.8918800354004, fit_intercept=False, intercept_scaling=100, solver=liblinear \n"
     ]
    },
    {
     "name": "stderr",
     "output_type": "stream",
     "text": [
      "/anaconda3/lib/python3.7/site-packages/sklearn/svm/base.py:931: ConvergenceWarning: Liblinear failed to converge, increase the number of iterations.\n",
      "  \"the number of iterations.\", ConvergenceWarning)\n",
      "/anaconda3/lib/python3.7/site-packages/sklearn/linear_model/sag.py:334: ConvergenceWarning: The max_iter was reached which means the coef_ did not converge\n",
      "  \"the coef_ did not converge\", ConvergenceWarning)\n"
     ]
    },
    {
     "name": "stdout",
     "output_type": "stream",
     "text": [
      "[CV]  C=1477.8918800354004, fit_intercept=False, intercept_scaling=100, solver=liblinear, score=0.5774647887323944, total=   0.4s\n",
      "[CV] C=1477.8918800354004, fit_intercept=False, intercept_scaling=100, solver=saga \n",
      "[CV]  C=1477.8918800354004, fit_intercept=False, intercept_scaling=100, solver=saga, score=0.5180722891566265, total=   0.1s\n",
      "[CV] C=1477.8918800354004, fit_intercept=False, intercept_scaling=100, solver=saga \n"
     ]
    },
    {
     "name": "stderr",
     "output_type": "stream",
     "text": [
      "/anaconda3/lib/python3.7/site-packages/sklearn/linear_model/sag.py:334: ConvergenceWarning: The max_iter was reached which means the coef_ did not converge\n",
      "  \"the coef_ did not converge\", ConvergenceWarning)\n",
      "/anaconda3/lib/python3.7/site-packages/sklearn/linear_model/sag.py:334: ConvergenceWarning: The max_iter was reached which means the coef_ did not converge\n",
      "  \"the coef_ did not converge\", ConvergenceWarning)\n",
      "[Parallel(n_jobs=1)]: Done 720 out of 720 | elapsed:  2.9min finished\n"
     ]
    },
    {
     "name": "stdout",
     "output_type": "stream",
     "text": [
      "[CV]  C=1477.8918800354004, fit_intercept=False, intercept_scaling=100, solver=saga, score=0.5200803212851406, total=   0.1s\n",
      "[CV] C=1477.8918800354004, fit_intercept=False, intercept_scaling=100, solver=saga \n",
      "[CV]  C=1477.8918800354004, fit_intercept=False, intercept_scaling=100, solver=saga, score=0.5020120724346077, total=   0.1s\n"
     ]
    },
    {
     "name": "stderr",
     "output_type": "stream",
     "text": [
      "/anaconda3/lib/python3.7/site-packages/sklearn/svm/base.py:931: ConvergenceWarning: Liblinear failed to converge, increase the number of iterations.\n",
      "  \"the number of iterations.\", ConvergenceWarning)\n"
     ]
    },
    {
     "data": {
      "text/plain": [
       "GridSearchCV(cv=3, error_score='raise-deprecating',\n",
       "       estimator=LogisticRegression(C=1.0, class_weight=None, dual=False, fit_intercept=True,\n",
       "          intercept_scaling=1, max_iter=100, multi_class='warn',\n",
       "          n_jobs=None, penalty='l2', random_state=None, solver='warn',\n",
       "          tol=0.0001, verbose=0, warm_start=False),\n",
       "       fit_params=None, iid='warn', n_jobs=None,\n",
       "       param_grid={'C': [1.0, 2.25, 5.0625, 11.390625, 25.62890625, 57.6650390625, 129.746337890625, 291.92926025390625, 656.8408355712891, 1477.8918800354004], 'fit_intercept': [True, False], 'intercept_scaling': [1, 5, 10, 25, 50, 100], 'solver': ['liblinear', 'saga']},\n",
       "       pre_dispatch='2*n_jobs', refit=True, return_train_score=True,\n",
       "       scoring=None, verbose=3)"
      ]
     },
     "execution_count": 110,
     "metadata": {},
     "output_type": "execute_result"
    }
   ],
   "source": [
    "log_grid_search = GridSearchCV(log_clf, log_param_grid, cv=3, return_train_score=True, verbose=3)\n",
    "log_grid_search.fit(X, y)"
   ]
  },
  {
   "cell_type": "code",
   "execution_count": 111,
   "metadata": {},
   "outputs": [
    {
     "name": "stdout",
     "output_type": "stream",
     "text": [
      "Mean Training Score: 56.02850766550289\n",
      "Mean Testing Score: 59.81245813797723\n",
      "Best Parameter Found:\n"
     ]
    },
    {
     "data": {
      "text/plain": [
       "{'C': 1.0,\n",
       " 'fit_intercept': True,\n",
       " 'intercept_scaling': 50,\n",
       " 'solver': 'liblinear'}"
      ]
     },
     "execution_count": 111,
     "metadata": {},
     "output_type": "execute_result"
    }
   ],
   "source": [
    "log_gs_training_score = np.mean(log_grid_search.cv_results_['mean_train_score'])\n",
    "log_gs_testing_score = log_grid_search.score(X, y)\n",
    "\n",
    "print(\"Mean Training Score:\", log_gs_training_score*100)\n",
    "print(\"Mean Testing Score:\", log_gs_testing_score*100)\n",
    "print(\"Best Parameter Found:\")\n",
    "log_grid_search.best_params_"
   ]
  },
  {
   "cell_type": "code",
   "execution_count": 112,
   "metadata": {},
   "outputs": [
    {
     "name": "stdout",
     "output_type": "stream",
     "text": [
      "AUC: 0.5561\n"
     ]
    },
    {
     "name": "stderr",
     "output_type": "stream",
     "text": [
      "/anaconda3/lib/python3.7/site-packages/sklearn/svm/base.py:931: ConvergenceWarning: Liblinear failed to converge, increase the number of iterations.\n",
      "  \"the number of iterations.\", ConvergenceWarning)\n"
     ]
    }
   ],
   "source": [
    "# Training the models with the parameters found from GridSearch\n",
    "logreg = LogisticRegression(fit_intercept=True, C=1, intercept_scaling=50, solver='liblinear')\n",
    "logreg.fit(X_train, y_train)"
   ]
  },
  {
   "cell_type": "markdown",
   "metadata": {},
   "source": [
    "### Results from the GridSearch Parameters for Logistic Regression"
   ]
  },
  {
   "cell_type": "code",
   "execution_count": 113,
   "metadata": {},
   "outputs": [
    {
     "name": "stdout",
     "output_type": "stream",
     "text": [
      "Precision Score: 0.5718562874251497\n",
      "Recall Score: 0.6121794871794872\n",
      "Accuracy Score: 0.5585284280936454\n",
      "F1 Score: 0.5913312693498451\n"
     ]
    }
   ],
   "source": [
    "# Predictions from LR\n",
    "y_pred = logreg.predict(X_test)\n",
    "\n",
    "print_metrics(y_test, y_pred)"
   ]
  },
  {
   "cell_type": "code",
   "execution_count": null,
   "metadata": {},
   "outputs": [],
   "source": [
    "# Area under the curve\n",
    "log_fpr, log_tpr, thresholds = roc_curve(y_test, y_pred)\n",
    "roc_auc = auc(log_fpr, log_tpr)\n",
    "print(\"AUC:\", round(roc_auc, 4))"
   ]
  },
  {
   "cell_type": "code",
   "execution_count": 114,
   "metadata": {},
   "outputs": [
    {
     "name": "stdout",
     "output_type": "stream",
     "text": [
      "Test AUC: 0.5985857091626322\n",
      "Train AUC: 0.6289188034517811\n"
     ]
    },
    {
     "data": {
      "image/png": "[encoded data removed]",
      "text/plain": [
       "<Figure size 1152x576 with 1 Axes>"
      ]
     },
     "metadata": {},
     "output_type": "display_data"
    }
   ],
   "source": [
    "y_test_score  = logreg.decision_function(X_test)\n",
    "y_train_score = logreg.decision_function(X_train)\n",
    "\n",
    "# True and False Positive Rates for the Test and Train sets\n",
    "test_fpr, test_tpr, test_thresholds = roc_curve(y_test, y_test_score)\n",
    "train_fpr, train_tpr, train_thresholds = roc_curve(y_train, y_train_score)\n",
    "\n",
    "print(\"Test AUC:\", auc(test_fpr, test_tpr))\n",
    "print(\"Train AUC:\", auc(train_fpr, train_tpr))\n",
    "\n",
    "# Plotting\n",
    "plt.figure(figsize=(16,8))\n",
    "lw = 2\n",
    "plt.plot(test_fpr, test_tpr, color='darkorange',\n",
    "         lw=lw, label='Test ROC curve')\n",
    "plt.plot(train_fpr, train_tpr, color='blue',\n",
    "         lw=lw, label='train ROC curve')\n",
    "plt.plot([0, 1], [0, 1], color='navy', lw=lw, linestyle='--')\n",
    "plt.xlim([0.0, 1.0])\n",
    "plt.ylim([0.0, 1.05])\n",
    "plt.yticks([i/20.0 for i in range(21)])\n",
    "plt.xticks([i/20.0 for i in range(21)])\n",
    "plt.xlabel('False Positive Rate')\n",
    "plt.ylabel('True Positive Rate')\n",
    "plt.title('Receiver operating characteristic (ROC) Curve')\n",
    "plt.legend(loc=\"lower right\")\n",
    "plt.show()"
   ]
  },
  {
   "cell_type": "markdown",
   "metadata": {},
   "source": [
    "##### Small difference when GridSearch was ran.  Accuracy and AUC remains similar from before."
   ]
  },
  {
   "cell_type": "code",
   "execution_count": null,
   "metadata": {},
   "outputs": [],
   "source": []
  }
 ],
 "metadata": {
  "kernelspec": {
   "display_name": "Python 3",
   "language": "python",
   "name": "python3"
  },
  "language_info": {
   "codemirror_mode": {
    "name": "ipython",
    "version": 3
   },
   "file_extension": ".py",
   "mimetype": "text/x-python",
   "name": "python",
   "nbconvert_exporter": "python",
   "pygments_lexer": "ipython3",
   "version": "3.7.3"
  }
 },
 "nbformat": 4,
 "nbformat_minor": 2
}
