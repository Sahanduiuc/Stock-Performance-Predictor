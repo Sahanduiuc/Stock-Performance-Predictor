{
 "cells": [
  {
   "cell_type": "markdown",
   "metadata": {},
   "source": [
    "# Modeling: Decision Tree and Logistic Regression"
   ]
  },
  {
   "cell_type": "markdown",
   "metadata": {},
   "source": [
    "## Importing libraries"
   ]
  },
  {
   "cell_type": "code",
   "execution_count": 154,
   "metadata": {},
   "outputs": [],
   "source": [
    "import pandas as pd\n",
    "import numpy as np\n",
    "from sklearn.model_selection import train_test_split\n",
    "from sklearn.preprocessing import StandardScaler\n",
    "from sklearn.metrics import precision_score, recall_score, accuracy_score, f1_score, roc_curve, auc\n",
    "import matplotlib.pyplot as plt\n",
    "plt.style.use('ggplot')\n",
    "import _pickle as pickle"
   ]
  },
  {
   "cell_type": "markdown",
   "metadata": {},
   "source": [
    "## Loading in the DataFrame"
   ]
  },
  {
   "cell_type": "code",
   "execution_count": 155,
   "metadata": {},
   "outputs": [],
   "source": [
    "with open(\"final_df.pickle\",'rb') as fp:\n",
    "    final_df = pickle.load(fp)"
   ]
  },
  {
   "cell_type": "markdown",
   "metadata": {},
   "source": [
    "## Preparing the Data"
   ]
  },
  {
   "cell_type": "code",
   "execution_count": 156,
   "metadata": {},
   "outputs": [],
   "source": [
    "# Assigning appropriate variables for modeling\n",
    "X = final_df.drop('price_will_increase?', axis=1)\n",
    "y = final_df['price_will_increase?']"
   ]
  },
  {
   "cell_type": "code",
   "execution_count": 157,
   "metadata": {},
   "outputs": [],
   "source": [
    "# Splitting the data 80/20\n",
    "X_train, X_test, y_train, y_test = train_test_split(X, y, test_size=0.2, random_state=10)"
   ]
  },
  {
   "cell_type": "markdown",
   "metadata": {},
   "source": [
    "#### Scaling the Data\n",
    "Standardize features by removing the mean and scaling to unit variance"
   ]
  },
  {
   "cell_type": "code",
   "execution_count": 158,
   "metadata": {},
   "outputs": [],
   "source": [
    "def scaling(X_train, X_test):\n",
    "    scaler = StandardScaler()\n",
    "    scaled_data_train = scaler.fit_transform(X_train)\n",
    "    scaled_data_test = scaler.transform(X_test)\n",
    "\n",
    "    #scaled_df_train = pd.DataFrame(scaled_data_train, columns=final_df.columns)\n",
    "    return scaled_data_train, scaled_data_test\n",
    "\n",
    "X_train, X_test = scaling(X_train, X_test)"
   ]
  },
  {
   "cell_type": "markdown",
   "metadata": {},
   "source": [
    "### Function to measure each model's success"
   ]
  },
  {
   "cell_type": "code",
   "execution_count": 159,
   "metadata": {},
   "outputs": [],
   "source": [
    "def print_metrics(test, preds):\n",
    "    print(\"Precision Score: {}\".format(precision_score(test, preds)))\n",
    "    print(\"Recall Score: {}\".format(recall_score(test, preds)))\n",
    "    print(\"Accuracy Score: {}\".format(accuracy_score(test, preds)))\n",
    "    print(\"F1 Score: {}\".format(f1_score(test, preds)))"
   ]
  },
  {
   "cell_type": "markdown",
   "metadata": {},
   "source": [
    "## Modeling - Decision Tree"
   ]
  },
  {
   "cell_type": "markdown",
   "metadata": {},
   "source": [
    "### Instantiating and fitting the Decision Tree model"
   ]
  },
  {
   "cell_type": "code",
   "execution_count": 160,
   "metadata": {},
   "outputs": [],
   "source": [
    "from sklearn.tree import DecisionTreeClassifier "
   ]
  },
  {
   "cell_type": "code",
   "execution_count": 161,
   "metadata": {},
   "outputs": [
    {
     "data": {
      "text/plain": [
       "DecisionTreeClassifier(class_weight=None, criterion='gini', max_depth=None,\n",
       "            max_features=None, max_leaf_nodes=None,\n",
       "            min_impurity_decrease=0.0, min_impurity_split=None,\n",
       "            min_samples_leaf=1, min_samples_split=2,\n",
       "            min_weight_fraction_leaf=0.0, presort=False, random_state=10,\n",
       "            splitter='best')"
      ]
     },
     "execution_count": 161,
     "metadata": {},
     "output_type": "execute_result"
    }
   ],
   "source": [
    "classifier = DecisionTreeClassifier(random_state=10)\n",
    "classifier.fit(X_train, y_train)"
   ]
  },
  {
   "cell_type": "markdown",
   "metadata": {},
   "source": [
    "### Results from the Decision Tree model"
   ]
  },
  {
   "cell_type": "code",
   "execution_count": 162,
   "metadata": {},
   "outputs": [
    {
     "name": "stdout",
     "output_type": "stream",
     "text": [
      "Precision Score: 0.6022727272727273\n",
      "Recall Score: 0.5824175824175825\n",
      "Accuracy Score: 0.5898876404494382\n",
      "F1 Score: 0.5921787709497207\n"
     ]
    }
   ],
   "source": [
    "# Predictions\n",
    "y_pred = classifier.predict(X_test)\n",
    "\n",
    "print_metrics(y_test, y_pred)"
   ]
  },
  {
   "cell_type": "code",
   "execution_count": 163,
   "metadata": {},
   "outputs": [
    {
     "name": "stdout",
     "output_type": "stream",
     "text": [
      "AUC: 0.5901\n"
     ]
    }
   ],
   "source": [
    "# Area under the curve\n",
    "false_positive_rate, true_positive_rate, thresholds = roc_curve(y_test, y_pred)\n",
    "roc_auc = auc(false_positive_rate, true_positive_rate)\n",
    "print(\"AUC:\", round(roc_auc, 4))"
   ]
  },
  {
   "cell_type": "code",
   "execution_count": 164,
   "metadata": {},
   "outputs": [
    {
     "name": "stdout",
     "output_type": "stream",
     "text": [
      "Confusion Matrix \n",
      "-----------------\n"
     ]
    },
    {
     "data": {
      "text/html": [
       "<div>\n",
       "<style scoped>\n",
       "    .dataframe tbody tr th:only-of-type {\n",
       "        vertical-align: middle;\n",
       "    }\n",
       "\n",
       "    .dataframe tbody tr th {\n",
       "        vertical-align: top;\n",
       "    }\n",
       "\n",
       "    .dataframe thead th {\n",
       "        text-align: right;\n",
       "    }\n",
       "</style>\n",
       "<table border=\"1\" class=\"dataframe\">\n",
       "  <thead>\n",
       "    <tr style=\"text-align: right;\">\n",
       "      <th>Predicted</th>\n",
       "      <th>False</th>\n",
       "      <th>True</th>\n",
       "      <th>All</th>\n",
       "    </tr>\n",
       "    <tr>\n",
       "      <th>Actual</th>\n",
       "      <th></th>\n",
       "      <th></th>\n",
       "      <th></th>\n",
       "    </tr>\n",
       "  </thead>\n",
       "  <tbody>\n",
       "    <tr>\n",
       "      <th>False</th>\n",
       "      <td>104</td>\n",
       "      <td>70</td>\n",
       "      <td>174</td>\n",
       "    </tr>\n",
       "    <tr>\n",
       "      <th>True</th>\n",
       "      <td>76</td>\n",
       "      <td>106</td>\n",
       "      <td>182</td>\n",
       "    </tr>\n",
       "    <tr>\n",
       "      <th>All</th>\n",
       "      <td>180</td>\n",
       "      <td>176</td>\n",
       "      <td>356</td>\n",
       "    </tr>\n",
       "  </tbody>\n",
       "</table>\n",
       "</div>"
      ],
      "text/plain": [
       "Predicted  False  True  All\n",
       "Actual                     \n",
       "False        104    70  174\n",
       "True          76   106  182\n",
       "All          180   176  356"
      ]
     },
     "execution_count": 164,
     "metadata": {},
     "output_type": "execute_result"
    }
   ],
   "source": [
    "# Confusion Matrix\n",
    "print(\"Confusion Matrix \\n-----------------\")\n",
    "pd.crosstab(y_test, y_pred, rownames=['Actual'], colnames=['Predicted'], margins=True)"
   ]
  },
  {
   "cell_type": "markdown",
   "metadata": {},
   "source": [
    "### Decision Tree - Accuracy: 58.98% and F1 Score: 59.21%."
   ]
  },
  {
   "cell_type": "markdown",
   "metadata": {},
   "source": [
    "### Improving Decision Tree with GridsearchCV"
   ]
  },
  {
   "cell_type": "code",
   "execution_count": 165,
   "metadata": {},
   "outputs": [],
   "source": [
    "from sklearn.model_selection import GridSearchCV, cross_val_score"
   ]
  },
  {
   "cell_type": "code",
   "execution_count": 166,
   "metadata": {},
   "outputs": [
    {
     "name": "stdout",
     "output_type": "stream",
     "text": [
      "Mean Cross Validation Score: 54.269420936087606\n"
     ]
    }
   ],
   "source": [
    "# Using Cross Validation\n",
    "dt_clf = DecisionTreeClassifier()\n",
    "dt_cv_score = cross_val_score(dt_clf, X, y, cv=3)\n",
    "mean_dt_cv_score = np.mean(dt_cv_score)\n",
    "\n",
    "print(\"Mean Cross Validation Score:\", mean_dt_cv_score*100)"
   ]
  },
  {
   "cell_type": "code",
   "execution_count": 167,
   "metadata": {},
   "outputs": [],
   "source": [
    "dt_param_grid = {'criterion': ['gini', 'entropy'],\n",
    "                 'max_depth': [None, 2, 3, 4, 5, 6],\n",
    "                 'min_samples_split': [2, 5, 10],\n",
    "                 'min_samples_leaf': [1,2,3,4,5,6]}"
   ]
  },
  {
   "cell_type": "markdown",
   "metadata": {},
   "source": [
    "#### Using GridSearchCV\n",
    "Finding the best parameters for the DecisionTree Model."
   ]
  },
  {
   "cell_type": "code",
   "execution_count": 168,
   "metadata": {
    "scrolled": true
   },
   "outputs": [
    {
     "name": "stdout",
     "output_type": "stream",
     "text": [
      "Fitting 3 folds for each of 216 candidates, totalling 648 fits\n",
      "[CV] criterion=gini, max_depth=None, min_samples_leaf=1, min_samples_split=2 \n",
      "[CV]  criterion=gini, max_depth=None, min_samples_leaf=1, min_samples_split=2, score=0.5791245791245792, total=   0.0s\n",
      "[CV] criterion=gini, max_depth=None, min_samples_leaf=1, min_samples_split=2 \n",
      "[CV]  criterion=gini, max_depth=None, min_samples_leaf=1, min_samples_split=2, score=0.5303030303030303, total=   0.0s\n",
      "[CV] criterion=gini, max_depth=None, min_samples_leaf=1, min_samples_split=2 \n",
      "[CV]  criterion=gini, max_depth=None, min_samples_leaf=1, min_samples_split=2, score=0.5506756756756757, total=   0.0s\n",
      "[CV] criterion=gini, max_depth=None, min_samples_leaf=1, min_samples_split=5 \n",
      "[CV]  criterion=gini, max_depth=None, min_samples_leaf=1, min_samples_split=5, score=0.5774410774410774, total=   0.0s\n",
      "[CV] criterion=gini, max_depth=None, min_samples_leaf=1, min_samples_split=5 \n"
     ]
    },
    {
     "name": "stderr",
     "output_type": "stream",
     "text": [
      "[Parallel(n_jobs=1)]: Using backend SequentialBackend with 1 concurrent workers.\n",
      "[Parallel(n_jobs=1)]: Done   1 out of   1 | elapsed:    0.0s remaining:    0.0s\n",
      "[Parallel(n_jobs=1)]: Done   2 out of   2 | elapsed:    0.1s remaining:    0.0s\n",
      "[Parallel(n_jobs=1)]: Done   3 out of   3 | elapsed:    0.1s remaining:    0.0s\n",
      "[Parallel(n_jobs=1)]: Done   4 out of   4 | elapsed:    0.2s remaining:    0.0s\n"
     ]
    },
    {
     "name": "stdout",
     "output_type": "stream",
     "text": [
      "[CV]  criterion=gini, max_depth=None, min_samples_leaf=1, min_samples_split=5, score=0.5404040404040404, total=   0.0s\n",
      "[CV] criterion=gini, max_depth=None, min_samples_leaf=1, min_samples_split=5 \n",
      "[CV]  criterion=gini, max_depth=None, min_samples_leaf=1, min_samples_split=5, score=0.5557432432432432, total=   0.0s\n",
      "[CV] criterion=gini, max_depth=None, min_samples_leaf=1, min_samples_split=10 \n",
      "[CV]  criterion=gini, max_depth=None, min_samples_leaf=1, min_samples_split=10, score=0.5538720538720538, total=   0.0s\n",
      "[CV] criterion=gini, max_depth=None, min_samples_leaf=1, min_samples_split=10 \n",
      "[CV]  criterion=gini, max_depth=None, min_samples_leaf=1, min_samples_split=10, score=0.5235690235690236, total=   0.0s\n",
      "[CV] criterion=gini, max_depth=None, min_samples_leaf=1, min_samples_split=10 \n",
      "[CV]  criterion=gini, max_depth=None, min_samples_leaf=1, min_samples_split=10, score=0.5523648648648649, total=   0.0s\n",
      "[CV] criterion=gini, max_depth=None, min_samples_leaf=2, min_samples_split=2 \n",
      "[CV]  criterion=gini, max_depth=None, min_samples_leaf=2, min_samples_split=2, score=0.5488215488215489, total=   0.0s\n",
      "[CV] criterion=gini, max_depth=None, min_samples_leaf=2, min_samples_split=2 \n",
      "[CV]  criterion=gini, max_depth=None, min_samples_leaf=2, min_samples_split=2, score=0.5286195286195287, total=   0.0s\n",
      "[CV] criterion=gini, max_depth=None, min_samples_leaf=2, min_samples_split=2 \n",
      "[CV]  criterion=gini, max_depth=None, min_samples_leaf=2, min_samples_split=2, score=0.5540540540540541, total=   0.0s\n",
      "[CV] criterion=gini, max_depth=None, min_samples_leaf=2, min_samples_split=5 \n",
      "[CV]  criterion=gini, max_depth=None, min_samples_leaf=2, min_samples_split=5, score=0.5622895622895623, total=   0.0s\n",
      "[CV] criterion=gini, max_depth=None, min_samples_leaf=2, min_samples_split=5 \n",
      "[CV]  criterion=gini, max_depth=None, min_samples_leaf=2, min_samples_split=5, score=0.5336700336700336, total=   0.0s\n",
      "[CV] criterion=gini, max_depth=None, min_samples_leaf=2, min_samples_split=5 \n",
      "[CV]  criterion=gini, max_depth=None, min_samples_leaf=2, min_samples_split=5, score=0.535472972972973, total=   0.0s\n",
      "[CV] criterion=gini, max_depth=None, min_samples_leaf=2, min_samples_split=10 \n",
      "[CV]  criterion=gini, max_depth=None, min_samples_leaf=2, min_samples_split=10, score=0.5521885521885522, total=   0.0s\n",
      "[CV] criterion=gini, max_depth=None, min_samples_leaf=2, min_samples_split=10 \n",
      "[CV]  criterion=gini, max_depth=None, min_samples_leaf=2, min_samples_split=10, score=0.5185185185185185, total=   0.0s\n",
      "[CV] criterion=gini, max_depth=None, min_samples_leaf=2, min_samples_split=10 \n",
      "[CV]  criterion=gini, max_depth=None, min_samples_leaf=2, min_samples_split=10, score=0.5456081081081081, total=   0.0s\n",
      "[CV] criterion=gini, max_depth=None, min_samples_leaf=3, min_samples_split=2 \n",
      "[CV]  criterion=gini, max_depth=None, min_samples_leaf=3, min_samples_split=2, score=0.5909090909090909, total=   0.0s\n",
      "[CV] criterion=gini, max_depth=None, min_samples_leaf=3, min_samples_split=2 \n",
      "[CV]  criterion=gini, max_depth=None, min_samples_leaf=3, min_samples_split=2, score=0.5387205387205387, total=   0.0s\n",
      "[CV] criterion=gini, max_depth=None, min_samples_leaf=3, min_samples_split=2 \n",
      "[CV]  criterion=gini, max_depth=None, min_samples_leaf=3, min_samples_split=2, score=0.5557432432432432, total=   0.0s\n",
      "[CV] criterion=gini, max_depth=None, min_samples_leaf=3, min_samples_split=5 \n",
      "[CV]  criterion=gini, max_depth=None, min_samples_leaf=3, min_samples_split=5, score=0.5841750841750841, total=   0.0s\n",
      "[CV] criterion=gini, max_depth=None, min_samples_leaf=3, min_samples_split=5 \n",
      "[CV]  criterion=gini, max_depth=None, min_samples_leaf=3, min_samples_split=5, score=0.5521885521885522, total=   0.0s\n",
      "[CV] criterion=gini, max_depth=None, min_samples_leaf=3, min_samples_split=5 \n",
      "[CV]  criterion=gini, max_depth=None, min_samples_leaf=3, min_samples_split=5, score=0.5641891891891891, total=   0.0s\n",
      "[CV] criterion=gini, max_depth=None, min_samples_leaf=3, min_samples_split=10 \n",
      "[CV]  criterion=gini, max_depth=None, min_samples_leaf=3, min_samples_split=10, score=0.5808080808080808, total=   0.0s\n",
      "[CV] criterion=gini, max_depth=None, min_samples_leaf=3, min_samples_split=10 \n",
      "[CV]  criterion=gini, max_depth=None, min_samples_leaf=3, min_samples_split=10, score=0.5286195286195287, total=   0.0s\n",
      "[CV] criterion=gini, max_depth=None, min_samples_leaf=3, min_samples_split=10 \n",
      "[CV]  criterion=gini, max_depth=None, min_samples_leaf=3, min_samples_split=10, score=0.535472972972973, total=   0.0s\n",
      "[CV] criterion=gini, max_depth=None, min_samples_leaf=4, min_samples_split=2 \n",
      "[CV]  criterion=gini, max_depth=None, min_samples_leaf=4, min_samples_split=2, score=0.569023569023569, total=   0.0s\n",
      "[CV] criterion=gini, max_depth=None, min_samples_leaf=4, min_samples_split=2 \n",
      "[CV]  criterion=gini, max_depth=None, min_samples_leaf=4, min_samples_split=2, score=0.5387205387205387, total=   0.0s\n",
      "[CV] criterion=gini, max_depth=None, min_samples_leaf=4, min_samples_split=2 \n",
      "[CV]  criterion=gini, max_depth=None, min_samples_leaf=4, min_samples_split=2, score=0.5777027027027027, total=   0.0s\n",
      "[CV] criterion=gini, max_depth=None, min_samples_leaf=4, min_samples_split=5 \n",
      "[CV]  criterion=gini, max_depth=None, min_samples_leaf=4, min_samples_split=5, score=0.5808080808080808, total=   0.0s\n",
      "[CV] criterion=gini, max_depth=None, min_samples_leaf=4, min_samples_split=5 \n",
      "[CV]  criterion=gini, max_depth=None, min_samples_leaf=4, min_samples_split=5, score=0.5218855218855218, total=   0.0s\n",
      "[CV] criterion=gini, max_depth=None, min_samples_leaf=4, min_samples_split=5 \n",
      "[CV]  criterion=gini, max_depth=None, min_samples_leaf=4, min_samples_split=5, score=0.5658783783783784, total=   0.0s\n",
      "[CV] criterion=gini, max_depth=None, min_samples_leaf=4, min_samples_split=10 \n",
      "[CV]  criterion=gini, max_depth=None, min_samples_leaf=4, min_samples_split=10, score=0.5656565656565656, total=   0.0s\n",
      "[CV] criterion=gini, max_depth=None, min_samples_leaf=4, min_samples_split=10 \n",
      "[CV]  criterion=gini, max_depth=None, min_samples_leaf=4, min_samples_split=10, score=0.5168350168350169, total=   0.0s\n",
      "[CV] criterion=gini, max_depth=None, min_samples_leaf=4, min_samples_split=10 \n",
      "[CV]  criterion=gini, max_depth=None, min_samples_leaf=4, min_samples_split=10, score=0.5726351351351351, total=   0.0s\n",
      "[CV] criterion=gini, max_depth=None, min_samples_leaf=5, min_samples_split=2 \n",
      "[CV]  criterion=gini, max_depth=None, min_samples_leaf=5, min_samples_split=2, score=0.5942760942760943, total=   0.0s\n",
      "[CV] criterion=gini, max_depth=None, min_samples_leaf=5, min_samples_split=2 \n",
      "[CV]  criterion=gini, max_depth=None, min_samples_leaf=5, min_samples_split=2, score=0.5269360269360269, total=   0.0s\n",
      "[CV] criterion=gini, max_depth=None, min_samples_leaf=5, min_samples_split=2 \n",
      "[CV]  criterion=gini, max_depth=None, min_samples_leaf=5, min_samples_split=2, score=0.5726351351351351, total=   0.0s\n",
      "[CV] criterion=gini, max_depth=None, min_samples_leaf=5, min_samples_split=5 \n",
      "[CV]  criterion=gini, max_depth=None, min_samples_leaf=5, min_samples_split=5, score=0.601010101010101, total=   0.0s\n",
      "[CV] criterion=gini, max_depth=None, min_samples_leaf=5, min_samples_split=5 \n",
      "[CV]  criterion=gini, max_depth=None, min_samples_leaf=5, min_samples_split=5, score=0.5286195286195287, total=   0.0s\n",
      "[CV] criterion=gini, max_depth=None, min_samples_leaf=5, min_samples_split=5 \n",
      "[CV]  criterion=gini, max_depth=None, min_samples_leaf=5, min_samples_split=5, score=0.5608108108108109, total=   0.0s\n",
      "[CV] criterion=gini, max_depth=None, min_samples_leaf=5, min_samples_split=10 \n",
      "[CV]  criterion=gini, max_depth=None, min_samples_leaf=5, min_samples_split=10, score=0.5892255892255892, total=   0.0s\n",
      "[CV] criterion=gini, max_depth=None, min_samples_leaf=5, min_samples_split=10 \n",
      "[CV]  criterion=gini, max_depth=None, min_samples_leaf=5, min_samples_split=10, score=0.5286195286195287, total=   0.0s\n",
      "[CV] criterion=gini, max_depth=None, min_samples_leaf=5, min_samples_split=10 \n",
      "[CV]  criterion=gini, max_depth=None, min_samples_leaf=5, min_samples_split=10, score=0.5574324324324325, total=   0.1s\n",
      "[CV] criterion=gini, max_depth=None, min_samples_leaf=6, min_samples_split=2 \n",
      "[CV]  criterion=gini, max_depth=None, min_samples_leaf=6, min_samples_split=2, score=0.6043771043771043, total=   0.1s\n",
      "[CV] criterion=gini, max_depth=None, min_samples_leaf=6, min_samples_split=2 \n",
      "[CV]  criterion=gini, max_depth=None, min_samples_leaf=6, min_samples_split=2, score=0.5471380471380471, total=   0.0s\n",
      "[CV] criterion=gini, max_depth=None, min_samples_leaf=6, min_samples_split=2 \n",
      "[CV]  criterion=gini, max_depth=None, min_samples_leaf=6, min_samples_split=2, score=0.5472972972972973, total=   0.0s\n",
      "[CV] criterion=gini, max_depth=None, min_samples_leaf=6, min_samples_split=5 \n",
      "[CV]  criterion=gini, max_depth=None, min_samples_leaf=6, min_samples_split=5, score=0.5791245791245792, total=   0.0s\n",
      "[CV] criterion=gini, max_depth=None, min_samples_leaf=6, min_samples_split=5 \n",
      "[CV]  criterion=gini, max_depth=None, min_samples_leaf=6, min_samples_split=5, score=0.5488215488215489, total=   0.0s\n",
      "[CV] criterion=gini, max_depth=None, min_samples_leaf=6, min_samples_split=5 \n"
     ]
    },
    {
     "name": "stdout",
     "output_type": "stream",
     "text": [
      "[CV]  criterion=gini, max_depth=None, min_samples_leaf=6, min_samples_split=5, score=0.5337837837837838, total=   0.1s\n",
      "[CV] criterion=gini, max_depth=None, min_samples_leaf=6, min_samples_split=10 \n",
      "[CV]  criterion=gini, max_depth=None, min_samples_leaf=6, min_samples_split=10, score=0.5791245791245792, total=   0.1s\n",
      "[CV] criterion=gini, max_depth=None, min_samples_leaf=6, min_samples_split=10 \n",
      "[CV]  criterion=gini, max_depth=None, min_samples_leaf=6, min_samples_split=10, score=0.5521885521885522, total=   0.0s\n",
      "[CV] criterion=gini, max_depth=None, min_samples_leaf=6, min_samples_split=10 \n",
      "[CV]  criterion=gini, max_depth=None, min_samples_leaf=6, min_samples_split=10, score=0.5456081081081081, total=   0.0s\n",
      "[CV] criterion=gini, max_depth=2, min_samples_leaf=1, min_samples_split=2 \n",
      "[CV]  criterion=gini, max_depth=2, min_samples_leaf=1, min_samples_split=2, score=0.5959595959595959, total=   0.0s\n",
      "[CV] criterion=gini, max_depth=2, min_samples_leaf=1, min_samples_split=2 \n",
      "[CV]  criterion=gini, max_depth=2, min_samples_leaf=1, min_samples_split=2, score=0.6077441077441077, total=   0.0s\n",
      "[CV] criterion=gini, max_depth=2, min_samples_leaf=1, min_samples_split=2 \n",
      "[CV]  criterion=gini, max_depth=2, min_samples_leaf=1, min_samples_split=2, score=0.6266891891891891, total=   0.0s\n",
      "[CV] criterion=gini, max_depth=2, min_samples_leaf=1, min_samples_split=5 \n",
      "[CV]  criterion=gini, max_depth=2, min_samples_leaf=1, min_samples_split=5, score=0.5959595959595959, total=   0.0s\n",
      "[CV] criterion=gini, max_depth=2, min_samples_leaf=1, min_samples_split=5 \n",
      "[CV]  criterion=gini, max_depth=2, min_samples_leaf=1, min_samples_split=5, score=0.6060606060606061, total=   0.0s\n",
      "[CV] criterion=gini, max_depth=2, min_samples_leaf=1, min_samples_split=5 \n",
      "[CV]  criterion=gini, max_depth=2, min_samples_leaf=1, min_samples_split=5, score=0.6266891891891891, total=   0.0s\n",
      "[CV] criterion=gini, max_depth=2, min_samples_leaf=1, min_samples_split=10 \n",
      "[CV]  criterion=gini, max_depth=2, min_samples_leaf=1, min_samples_split=10, score=0.5959595959595959, total=   0.0s\n",
      "[CV] criterion=gini, max_depth=2, min_samples_leaf=1, min_samples_split=10 \n",
      "[CV]  criterion=gini, max_depth=2, min_samples_leaf=1, min_samples_split=10, score=0.6077441077441077, total=   0.0s\n",
      "[CV] criterion=gini, max_depth=2, min_samples_leaf=1, min_samples_split=10 \n",
      "[CV]  criterion=gini, max_depth=2, min_samples_leaf=1, min_samples_split=10, score=0.6266891891891891, total=   0.0s\n",
      "[CV] criterion=gini, max_depth=2, min_samples_leaf=2, min_samples_split=2 \n",
      "[CV]  criterion=gini, max_depth=2, min_samples_leaf=2, min_samples_split=2, score=0.5959595959595959, total=   0.0s\n",
      "[CV] criterion=gini, max_depth=2, min_samples_leaf=2, min_samples_split=2 \n",
      "[CV]  criterion=gini, max_depth=2, min_samples_leaf=2, min_samples_split=2, score=0.6077441077441077, total=   0.0s\n",
      "[CV] criterion=gini, max_depth=2, min_samples_leaf=2, min_samples_split=2 \n",
      "[CV]  criterion=gini, max_depth=2, min_samples_leaf=2, min_samples_split=2, score=0.6266891891891891, total=   0.0s\n",
      "[CV] criterion=gini, max_depth=2, min_samples_leaf=2, min_samples_split=5 \n",
      "[CV]  criterion=gini, max_depth=2, min_samples_leaf=2, min_samples_split=5, score=0.5959595959595959, total=   0.0s\n",
      "[CV] criterion=gini, max_depth=2, min_samples_leaf=2, min_samples_split=5 \n",
      "[CV]  criterion=gini, max_depth=2, min_samples_leaf=2, min_samples_split=5, score=0.6060606060606061, total=   0.0s\n",
      "[CV] criterion=gini, max_depth=2, min_samples_leaf=2, min_samples_split=5 \n",
      "[CV]  criterion=gini, max_depth=2, min_samples_leaf=2, min_samples_split=5, score=0.6266891891891891, total=   0.0s\n",
      "[CV] criterion=gini, max_depth=2, min_samples_leaf=2, min_samples_split=10 \n",
      "[CV]  criterion=gini, max_depth=2, min_samples_leaf=2, min_samples_split=10, score=0.5959595959595959, total=   0.0s\n",
      "[CV] criterion=gini, max_depth=2, min_samples_leaf=2, min_samples_split=10 \n",
      "[CV]  criterion=gini, max_depth=2, min_samples_leaf=2, min_samples_split=10, score=0.6060606060606061, total=   0.0s\n",
      "[CV] criterion=gini, max_depth=2, min_samples_leaf=2, min_samples_split=10 \n",
      "[CV]  criterion=gini, max_depth=2, min_samples_leaf=2, min_samples_split=10, score=0.6266891891891891, total=   0.0s\n",
      "[CV] criterion=gini, max_depth=2, min_samples_leaf=3, min_samples_split=2 \n",
      "[CV]  criterion=gini, max_depth=2, min_samples_leaf=3, min_samples_split=2, score=0.5959595959595959, total=   0.0s\n",
      "[CV] criterion=gini, max_depth=2, min_samples_leaf=3, min_samples_split=2 \n",
      "[CV]  criterion=gini, max_depth=2, min_samples_leaf=3, min_samples_split=2, score=0.6077441077441077, total=   0.0s\n",
      "[CV] criterion=gini, max_depth=2, min_samples_leaf=3, min_samples_split=2 \n",
      "[CV]  criterion=gini, max_depth=2, min_samples_leaf=3, min_samples_split=2, score=0.6266891891891891, total=   0.0s\n",
      "[CV] criterion=gini, max_depth=2, min_samples_leaf=3, min_samples_split=5 \n",
      "[CV]  criterion=gini, max_depth=2, min_samples_leaf=3, min_samples_split=5, score=0.5959595959595959, total=   0.0s\n",
      "[CV] criterion=gini, max_depth=2, min_samples_leaf=3, min_samples_split=5 \n",
      "[CV]  criterion=gini, max_depth=2, min_samples_leaf=3, min_samples_split=5, score=0.6060606060606061, total=   0.0s\n",
      "[CV] criterion=gini, max_depth=2, min_samples_leaf=3, min_samples_split=5 \n",
      "[CV]  criterion=gini, max_depth=2, min_samples_leaf=3, min_samples_split=5, score=0.6266891891891891, total=   0.0s\n",
      "[CV] criterion=gini, max_depth=2, min_samples_leaf=3, min_samples_split=10 \n",
      "[CV]  criterion=gini, max_depth=2, min_samples_leaf=3, min_samples_split=10, score=0.5959595959595959, total=   0.0s\n",
      "[CV] criterion=gini, max_depth=2, min_samples_leaf=3, min_samples_split=10 \n",
      "[CV]  criterion=gini, max_depth=2, min_samples_leaf=3, min_samples_split=10, score=0.6060606060606061, total=   0.0s\n",
      "[CV] criterion=gini, max_depth=2, min_samples_leaf=3, min_samples_split=10 \n",
      "[CV]  criterion=gini, max_depth=2, min_samples_leaf=3, min_samples_split=10, score=0.6266891891891891, total=   0.0s\n",
      "[CV] criterion=gini, max_depth=2, min_samples_leaf=4, min_samples_split=2 \n",
      "[CV]  criterion=gini, max_depth=2, min_samples_leaf=4, min_samples_split=2, score=0.5959595959595959, total=   0.0s\n",
      "[CV] criterion=gini, max_depth=2, min_samples_leaf=4, min_samples_split=2 \n",
      "[CV]  criterion=gini, max_depth=2, min_samples_leaf=4, min_samples_split=2, score=0.6077441077441077, total=   0.0s\n",
      "[CV] criterion=gini, max_depth=2, min_samples_leaf=4, min_samples_split=2 \n",
      "[CV]  criterion=gini, max_depth=2, min_samples_leaf=4, min_samples_split=2, score=0.6266891891891891, total=   0.0s\n",
      "[CV] criterion=gini, max_depth=2, min_samples_leaf=4, min_samples_split=5 \n",
      "[CV]  criterion=gini, max_depth=2, min_samples_leaf=4, min_samples_split=5, score=0.5959595959595959, total=   0.0s\n",
      "[CV] criterion=gini, max_depth=2, min_samples_leaf=4, min_samples_split=5 \n",
      "[CV]  criterion=gini, max_depth=2, min_samples_leaf=4, min_samples_split=5, score=0.6077441077441077, total=   0.0s\n",
      "[CV] criterion=gini, max_depth=2, min_samples_leaf=4, min_samples_split=5 \n",
      "[CV]  criterion=gini, max_depth=2, min_samples_leaf=4, min_samples_split=5, score=0.6266891891891891, total=   0.0s\n",
      "[CV] criterion=gini, max_depth=2, min_samples_leaf=4, min_samples_split=10 \n",
      "[CV]  criterion=gini, max_depth=2, min_samples_leaf=4, min_samples_split=10, score=0.5959595959595959, total=   0.0s\n",
      "[CV] criterion=gini, max_depth=2, min_samples_leaf=4, min_samples_split=10 \n",
      "[CV]  criterion=gini, max_depth=2, min_samples_leaf=4, min_samples_split=10, score=0.6077441077441077, total=   0.0s\n",
      "[CV] criterion=gini, max_depth=2, min_samples_leaf=4, min_samples_split=10 \n",
      "[CV]  criterion=gini, max_depth=2, min_samples_leaf=4, min_samples_split=10, score=0.6266891891891891, total=   0.0s\n",
      "[CV] criterion=gini, max_depth=2, min_samples_leaf=5, min_samples_split=2 \n",
      "[CV]  criterion=gini, max_depth=2, min_samples_leaf=5, min_samples_split=2, score=0.5959595959595959, total=   0.0s\n",
      "[CV] criterion=gini, max_depth=2, min_samples_leaf=5, min_samples_split=2 \n",
      "[CV]  criterion=gini, max_depth=2, min_samples_leaf=5, min_samples_split=2, score=0.6077441077441077, total=   0.0s\n",
      "[CV] criterion=gini, max_depth=2, min_samples_leaf=5, min_samples_split=2 \n",
      "[CV]  criterion=gini, max_depth=2, min_samples_leaf=5, min_samples_split=2, score=0.6266891891891891, total=   0.0s\n",
      "[CV] criterion=gini, max_depth=2, min_samples_leaf=5, min_samples_split=5 \n",
      "[CV]  criterion=gini, max_depth=2, min_samples_leaf=5, min_samples_split=5, score=0.5959595959595959, total=   0.0s\n",
      "[CV] criterion=gini, max_depth=2, min_samples_leaf=5, min_samples_split=5 \n",
      "[CV]  criterion=gini, max_depth=2, min_samples_leaf=5, min_samples_split=5, score=0.6077441077441077, total=   0.0s\n",
      "[CV] criterion=gini, max_depth=2, min_samples_leaf=5, min_samples_split=5 \n",
      "[CV]  criterion=gini, max_depth=2, min_samples_leaf=5, min_samples_split=5, score=0.6266891891891891, total=   0.0s\n",
      "[CV] criterion=gini, max_depth=2, min_samples_leaf=5, min_samples_split=10 \n",
      "[CV]  criterion=gini, max_depth=2, min_samples_leaf=5, min_samples_split=10, score=0.5959595959595959, total=   0.0s\n",
      "[CV] criterion=gini, max_depth=2, min_samples_leaf=5, min_samples_split=10 \n",
      "[CV]  criterion=gini, max_depth=2, min_samples_leaf=5, min_samples_split=10, score=0.6077441077441077, total=   0.0s\n",
      "[CV] criterion=gini, max_depth=2, min_samples_leaf=5, min_samples_split=10 \n",
      "[CV]  criterion=gini, max_depth=2, min_samples_leaf=5, min_samples_split=10, score=0.6266891891891891, total=   0.0s\n",
      "[CV] criterion=gini, max_depth=2, min_samples_leaf=6, min_samples_split=2 \n",
      "[CV]  criterion=gini, max_depth=2, min_samples_leaf=6, min_samples_split=2, score=0.5959595959595959, total=   0.0s\n",
      "[CV] criterion=gini, max_depth=2, min_samples_leaf=6, min_samples_split=2 \n"
     ]
    },
    {
     "name": "stdout",
     "output_type": "stream",
     "text": [
      "[CV]  criterion=gini, max_depth=2, min_samples_leaf=6, min_samples_split=2, score=0.6077441077441077, total=   0.0s\n",
      "[CV] criterion=gini, max_depth=2, min_samples_leaf=6, min_samples_split=2 \n",
      "[CV]  criterion=gini, max_depth=2, min_samples_leaf=6, min_samples_split=2, score=0.6266891891891891, total=   0.0s\n",
      "[CV] criterion=gini, max_depth=2, min_samples_leaf=6, min_samples_split=5 \n",
      "[CV]  criterion=gini, max_depth=2, min_samples_leaf=6, min_samples_split=5, score=0.5959595959595959, total=   0.0s\n",
      "[CV] criterion=gini, max_depth=2, min_samples_leaf=6, min_samples_split=5 \n",
      "[CV]  criterion=gini, max_depth=2, min_samples_leaf=6, min_samples_split=5, score=0.6077441077441077, total=   0.0s\n",
      "[CV] criterion=gini, max_depth=2, min_samples_leaf=6, min_samples_split=5 \n",
      "[CV]  criterion=gini, max_depth=2, min_samples_leaf=6, min_samples_split=5, score=0.6266891891891891, total=   0.0s\n",
      "[CV] criterion=gini, max_depth=2, min_samples_leaf=6, min_samples_split=10 \n",
      "[CV]  criterion=gini, max_depth=2, min_samples_leaf=6, min_samples_split=10, score=0.5959595959595959, total=   0.0s\n",
      "[CV] criterion=gini, max_depth=2, min_samples_leaf=6, min_samples_split=10 \n",
      "[CV]  criterion=gini, max_depth=2, min_samples_leaf=6, min_samples_split=10, score=0.6077441077441077, total=   0.0s\n",
      "[CV] criterion=gini, max_depth=2, min_samples_leaf=6, min_samples_split=10 \n",
      "[CV]  criterion=gini, max_depth=2, min_samples_leaf=6, min_samples_split=10, score=0.6266891891891891, total=   0.0s\n",
      "[CV] criterion=gini, max_depth=3, min_samples_leaf=1, min_samples_split=2 \n",
      "[CV]  criterion=gini, max_depth=3, min_samples_leaf=1, min_samples_split=2, score=0.5841750841750841, total=   0.0s\n",
      "[CV] criterion=gini, max_depth=3, min_samples_leaf=1, min_samples_split=2 \n",
      "[CV]  criterion=gini, max_depth=3, min_samples_leaf=1, min_samples_split=2, score=0.601010101010101, total=   0.0s\n",
      "[CV] criterion=gini, max_depth=3, min_samples_leaf=1, min_samples_split=2 \n",
      "[CV]  criterion=gini, max_depth=3, min_samples_leaf=1, min_samples_split=2, score=0.5827702702702703, total=   0.0s\n",
      "[CV] criterion=gini, max_depth=3, min_samples_leaf=1, min_samples_split=5 \n",
      "[CV]  criterion=gini, max_depth=3, min_samples_leaf=1, min_samples_split=5, score=0.5841750841750841, total=   0.0s\n",
      "[CV] criterion=gini, max_depth=3, min_samples_leaf=1, min_samples_split=5 \n",
      "[CV]  criterion=gini, max_depth=3, min_samples_leaf=1, min_samples_split=5, score=0.601010101010101, total=   0.0s\n",
      "[CV] criterion=gini, max_depth=3, min_samples_leaf=1, min_samples_split=5 \n",
      "[CV]  criterion=gini, max_depth=3, min_samples_leaf=1, min_samples_split=5, score=0.5827702702702703, total=   0.0s\n",
      "[CV] criterion=gini, max_depth=3, min_samples_leaf=1, min_samples_split=10 \n",
      "[CV]  criterion=gini, max_depth=3, min_samples_leaf=1, min_samples_split=10, score=0.5841750841750841, total=   0.0s\n",
      "[CV] criterion=gini, max_depth=3, min_samples_leaf=1, min_samples_split=10 \n",
      "[CV]  criterion=gini, max_depth=3, min_samples_leaf=1, min_samples_split=10, score=0.601010101010101, total=   0.0s\n",
      "[CV] criterion=gini, max_depth=3, min_samples_leaf=1, min_samples_split=10 \n",
      "[CV]  criterion=gini, max_depth=3, min_samples_leaf=1, min_samples_split=10, score=0.5827702702702703, total=   0.0s\n",
      "[CV] criterion=gini, max_depth=3, min_samples_leaf=2, min_samples_split=2 \n",
      "[CV]  criterion=gini, max_depth=3, min_samples_leaf=2, min_samples_split=2, score=0.5841750841750841, total=   0.0s\n",
      "[CV] criterion=gini, max_depth=3, min_samples_leaf=2, min_samples_split=2 \n",
      "[CV]  criterion=gini, max_depth=3, min_samples_leaf=2, min_samples_split=2, score=0.601010101010101, total=   0.0s\n",
      "[CV] criterion=gini, max_depth=3, min_samples_leaf=2, min_samples_split=2 \n",
      "[CV]  criterion=gini, max_depth=3, min_samples_leaf=2, min_samples_split=2, score=0.5827702702702703, total=   0.0s\n",
      "[CV] criterion=gini, max_depth=3, min_samples_leaf=2, min_samples_split=5 \n",
      "[CV]  criterion=gini, max_depth=3, min_samples_leaf=2, min_samples_split=5, score=0.5841750841750841, total=   0.0s\n",
      "[CV] criterion=gini, max_depth=3, min_samples_leaf=2, min_samples_split=5 \n",
      "[CV]  criterion=gini, max_depth=3, min_samples_leaf=2, min_samples_split=5, score=0.601010101010101, total=   0.0s\n",
      "[CV] criterion=gini, max_depth=3, min_samples_leaf=2, min_samples_split=5 \n",
      "[CV]  criterion=gini, max_depth=3, min_samples_leaf=2, min_samples_split=5, score=0.5827702702702703, total=   0.0s\n",
      "[CV] criterion=gini, max_depth=3, min_samples_leaf=2, min_samples_split=10 \n",
      "[CV]  criterion=gini, max_depth=3, min_samples_leaf=2, min_samples_split=10, score=0.5841750841750841, total=   0.0s\n",
      "[CV] criterion=gini, max_depth=3, min_samples_leaf=2, min_samples_split=10 \n",
      "[CV]  criterion=gini, max_depth=3, min_samples_leaf=2, min_samples_split=10, score=0.601010101010101, total=   0.0s\n",
      "[CV] criterion=gini, max_depth=3, min_samples_leaf=2, min_samples_split=10 \n",
      "[CV]  criterion=gini, max_depth=3, min_samples_leaf=2, min_samples_split=10, score=0.5827702702702703, total=   0.0s\n",
      "[CV] criterion=gini, max_depth=3, min_samples_leaf=3, min_samples_split=2 \n",
      "[CV]  criterion=gini, max_depth=3, min_samples_leaf=3, min_samples_split=2, score=0.5841750841750841, total=   0.0s\n",
      "[CV] criterion=gini, max_depth=3, min_samples_leaf=3, min_samples_split=2 \n",
      "[CV]  criterion=gini, max_depth=3, min_samples_leaf=3, min_samples_split=2, score=0.601010101010101, total=   0.0s\n",
      "[CV] criterion=gini, max_depth=3, min_samples_leaf=3, min_samples_split=2 \n",
      "[CV]  criterion=gini, max_depth=3, min_samples_leaf=3, min_samples_split=2, score=0.5827702702702703, total=   0.0s\n",
      "[CV] criterion=gini, max_depth=3, min_samples_leaf=3, min_samples_split=5 \n",
      "[CV]  criterion=gini, max_depth=3, min_samples_leaf=3, min_samples_split=5, score=0.5841750841750841, total=   0.0s\n",
      "[CV] criterion=gini, max_depth=3, min_samples_leaf=3, min_samples_split=5 \n",
      "[CV]  criterion=gini, max_depth=3, min_samples_leaf=3, min_samples_split=5, score=0.601010101010101, total=   0.0s\n",
      "[CV] criterion=gini, max_depth=3, min_samples_leaf=3, min_samples_split=5 \n",
      "[CV]  criterion=gini, max_depth=3, min_samples_leaf=3, min_samples_split=5, score=0.5827702702702703, total=   0.0s\n",
      "[CV] criterion=gini, max_depth=3, min_samples_leaf=3, min_samples_split=10 \n",
      "[CV]  criterion=gini, max_depth=3, min_samples_leaf=3, min_samples_split=10, score=0.5841750841750841, total=   0.0s\n",
      "[CV] criterion=gini, max_depth=3, min_samples_leaf=3, min_samples_split=10 \n",
      "[CV]  criterion=gini, max_depth=3, min_samples_leaf=3, min_samples_split=10, score=0.601010101010101, total=   0.0s\n",
      "[CV] criterion=gini, max_depth=3, min_samples_leaf=3, min_samples_split=10 \n",
      "[CV]  criterion=gini, max_depth=3, min_samples_leaf=3, min_samples_split=10, score=0.5827702702702703, total=   0.0s\n",
      "[CV] criterion=gini, max_depth=3, min_samples_leaf=4, min_samples_split=2 \n",
      "[CV]  criterion=gini, max_depth=3, min_samples_leaf=4, min_samples_split=2, score=0.5841750841750841, total=   0.0s\n",
      "[CV] criterion=gini, max_depth=3, min_samples_leaf=4, min_samples_split=2 \n",
      "[CV]  criterion=gini, max_depth=3, min_samples_leaf=4, min_samples_split=2, score=0.5925925925925926, total=   0.0s\n",
      "[CV] criterion=gini, max_depth=3, min_samples_leaf=4, min_samples_split=2 \n",
      "[CV]  criterion=gini, max_depth=3, min_samples_leaf=4, min_samples_split=2, score=0.5827702702702703, total=   0.0s\n",
      "[CV] criterion=gini, max_depth=3, min_samples_leaf=4, min_samples_split=5 \n",
      "[CV]  criterion=gini, max_depth=3, min_samples_leaf=4, min_samples_split=5, score=0.5841750841750841, total=   0.0s\n",
      "[CV] criterion=gini, max_depth=3, min_samples_leaf=4, min_samples_split=5 \n",
      "[CV]  criterion=gini, max_depth=3, min_samples_leaf=4, min_samples_split=5, score=0.5925925925925926, total=   0.0s\n",
      "[CV] criterion=gini, max_depth=3, min_samples_leaf=4, min_samples_split=5 \n",
      "[CV]  criterion=gini, max_depth=3, min_samples_leaf=4, min_samples_split=5, score=0.5827702702702703, total=   0.0s\n",
      "[CV] criterion=gini, max_depth=3, min_samples_leaf=4, min_samples_split=10 \n",
      "[CV]  criterion=gini, max_depth=3, min_samples_leaf=4, min_samples_split=10, score=0.5841750841750841, total=   0.0s\n",
      "[CV] criterion=gini, max_depth=3, min_samples_leaf=4, min_samples_split=10 \n",
      "[CV]  criterion=gini, max_depth=3, min_samples_leaf=4, min_samples_split=10, score=0.5925925925925926, total=   0.0s\n",
      "[CV] criterion=gini, max_depth=3, min_samples_leaf=4, min_samples_split=10 \n",
      "[CV]  criterion=gini, max_depth=3, min_samples_leaf=4, min_samples_split=10, score=0.5827702702702703, total=   0.0s\n",
      "[CV] criterion=gini, max_depth=3, min_samples_leaf=5, min_samples_split=2 \n",
      "[CV]  criterion=gini, max_depth=3, min_samples_leaf=5, min_samples_split=2, score=0.5841750841750841, total=   0.0s\n",
      "[CV] criterion=gini, max_depth=3, min_samples_leaf=5, min_samples_split=2 \n",
      "[CV]  criterion=gini, max_depth=3, min_samples_leaf=5, min_samples_split=2, score=0.5925925925925926, total=   0.0s\n",
      "[CV] criterion=gini, max_depth=3, min_samples_leaf=5, min_samples_split=2 \n",
      "[CV]  criterion=gini, max_depth=3, min_samples_leaf=5, min_samples_split=2, score=0.5827702702702703, total=   0.0s\n",
      "[CV] criterion=gini, max_depth=3, min_samples_leaf=5, min_samples_split=5 \n",
      "[CV]  criterion=gini, max_depth=3, min_samples_leaf=5, min_samples_split=5, score=0.5841750841750841, total=   0.0s\n",
      "[CV] criterion=gini, max_depth=3, min_samples_leaf=5, min_samples_split=5 \n",
      "[CV]  criterion=gini, max_depth=3, min_samples_leaf=5, min_samples_split=5, score=0.5925925925925926, total=   0.0s\n",
      "[CV] criterion=gini, max_depth=3, min_samples_leaf=5, min_samples_split=5 \n",
      "[CV]  criterion=gini, max_depth=3, min_samples_leaf=5, min_samples_split=5, score=0.5827702702702703, total=   0.0s\n",
      "[CV] criterion=gini, max_depth=3, min_samples_leaf=5, min_samples_split=10 \n",
      "[CV]  criterion=gini, max_depth=3, min_samples_leaf=5, min_samples_split=10, score=0.5841750841750841, total=   0.0s\n",
      "[CV] criterion=gini, max_depth=3, min_samples_leaf=5, min_samples_split=10 \n"
     ]
    },
    {
     "name": "stdout",
     "output_type": "stream",
     "text": [
      "[CV]  criterion=gini, max_depth=3, min_samples_leaf=5, min_samples_split=10, score=0.5925925925925926, total=   0.0s\n",
      "[CV] criterion=gini, max_depth=3, min_samples_leaf=5, min_samples_split=10 \n",
      "[CV]  criterion=gini, max_depth=3, min_samples_leaf=5, min_samples_split=10, score=0.5827702702702703, total=   0.0s\n",
      "[CV] criterion=gini, max_depth=3, min_samples_leaf=6, min_samples_split=2 \n",
      "[CV]  criterion=gini, max_depth=3, min_samples_leaf=6, min_samples_split=2, score=0.5841750841750841, total=   0.0s\n",
      "[CV] criterion=gini, max_depth=3, min_samples_leaf=6, min_samples_split=2 \n",
      "[CV]  criterion=gini, max_depth=3, min_samples_leaf=6, min_samples_split=2, score=0.5925925925925926, total=   0.0s\n",
      "[CV] criterion=gini, max_depth=3, min_samples_leaf=6, min_samples_split=2 \n",
      "[CV]  criterion=gini, max_depth=3, min_samples_leaf=6, min_samples_split=2, score=0.5827702702702703, total=   0.0s\n",
      "[CV] criterion=gini, max_depth=3, min_samples_leaf=6, min_samples_split=5 \n",
      "[CV]  criterion=gini, max_depth=3, min_samples_leaf=6, min_samples_split=5, score=0.5841750841750841, total=   0.0s\n",
      "[CV] criterion=gini, max_depth=3, min_samples_leaf=6, min_samples_split=5 \n",
      "[CV]  criterion=gini, max_depth=3, min_samples_leaf=6, min_samples_split=5, score=0.5925925925925926, total=   0.0s\n",
      "[CV] criterion=gini, max_depth=3, min_samples_leaf=6, min_samples_split=5 \n",
      "[CV]  criterion=gini, max_depth=3, min_samples_leaf=6, min_samples_split=5, score=0.5827702702702703, total=   0.0s\n",
      "[CV] criterion=gini, max_depth=3, min_samples_leaf=6, min_samples_split=10 \n",
      "[CV]  criterion=gini, max_depth=3, min_samples_leaf=6, min_samples_split=10, score=0.5841750841750841, total=   0.0s\n",
      "[CV] criterion=gini, max_depth=3, min_samples_leaf=6, min_samples_split=10 \n",
      "[CV]  criterion=gini, max_depth=3, min_samples_leaf=6, min_samples_split=10, score=0.5925925925925926, total=   0.0s\n",
      "[CV] criterion=gini, max_depth=3, min_samples_leaf=6, min_samples_split=10 \n",
      "[CV]  criterion=gini, max_depth=3, min_samples_leaf=6, min_samples_split=10, score=0.5827702702702703, total=   0.0s\n",
      "[CV] criterion=gini, max_depth=4, min_samples_leaf=1, min_samples_split=2 \n",
      "[CV]  criterion=gini, max_depth=4, min_samples_leaf=1, min_samples_split=2, score=0.5909090909090909, total=   0.0s\n",
      "[CV] criterion=gini, max_depth=4, min_samples_leaf=1, min_samples_split=2 \n",
      "[CV]  criterion=gini, max_depth=4, min_samples_leaf=1, min_samples_split=2, score=0.5875420875420876, total=   0.0s\n",
      "[CV] criterion=gini, max_depth=4, min_samples_leaf=1, min_samples_split=2 \n",
      "[CV]  criterion=gini, max_depth=4, min_samples_leaf=1, min_samples_split=2, score=0.5658783783783784, total=   0.0s\n",
      "[CV] criterion=gini, max_depth=4, min_samples_leaf=1, min_samples_split=5 \n",
      "[CV]  criterion=gini, max_depth=4, min_samples_leaf=1, min_samples_split=5, score=0.5909090909090909, total=   0.0s\n",
      "[CV] criterion=gini, max_depth=4, min_samples_leaf=1, min_samples_split=5 \n",
      "[CV]  criterion=gini, max_depth=4, min_samples_leaf=1, min_samples_split=5, score=0.5875420875420876, total=   0.0s\n",
      "[CV] criterion=gini, max_depth=4, min_samples_leaf=1, min_samples_split=5 \n",
      "[CV]  criterion=gini, max_depth=4, min_samples_leaf=1, min_samples_split=5, score=0.5658783783783784, total=   0.0s\n",
      "[CV] criterion=gini, max_depth=4, min_samples_leaf=1, min_samples_split=10 \n",
      "[CV]  criterion=gini, max_depth=4, min_samples_leaf=1, min_samples_split=10, score=0.5909090909090909, total=   0.0s\n",
      "[CV] criterion=gini, max_depth=4, min_samples_leaf=1, min_samples_split=10 \n",
      "[CV]  criterion=gini, max_depth=4, min_samples_leaf=1, min_samples_split=10, score=0.5875420875420876, total=   0.0s\n",
      "[CV] criterion=gini, max_depth=4, min_samples_leaf=1, min_samples_split=10 \n",
      "[CV]  criterion=gini, max_depth=4, min_samples_leaf=1, min_samples_split=10, score=0.5641891891891891, total=   0.0s\n",
      "[CV] criterion=gini, max_depth=4, min_samples_leaf=2, min_samples_split=2 \n",
      "[CV]  criterion=gini, max_depth=4, min_samples_leaf=2, min_samples_split=2, score=0.5959595959595959, total=   0.0s\n",
      "[CV] criterion=gini, max_depth=4, min_samples_leaf=2, min_samples_split=2 \n",
      "[CV]  criterion=gini, max_depth=4, min_samples_leaf=2, min_samples_split=2, score=0.5875420875420876, total=   0.0s\n",
      "[CV] criterion=gini, max_depth=4, min_samples_leaf=2, min_samples_split=2 \n",
      "[CV]  criterion=gini, max_depth=4, min_samples_leaf=2, min_samples_split=2, score=0.5658783783783784, total=   0.0s\n",
      "[CV] criterion=gini, max_depth=4, min_samples_leaf=2, min_samples_split=5 \n",
      "[CV]  criterion=gini, max_depth=4, min_samples_leaf=2, min_samples_split=5, score=0.5942760942760943, total=   0.0s\n",
      "[CV] criterion=gini, max_depth=4, min_samples_leaf=2, min_samples_split=5 \n",
      "[CV]  criterion=gini, max_depth=4, min_samples_leaf=2, min_samples_split=5, score=0.5875420875420876, total=   0.0s\n",
      "[CV] criterion=gini, max_depth=4, min_samples_leaf=2, min_samples_split=5 \n",
      "[CV]  criterion=gini, max_depth=4, min_samples_leaf=2, min_samples_split=5, score=0.5675675675675675, total=   0.0s\n",
      "[CV] criterion=gini, max_depth=4, min_samples_leaf=2, min_samples_split=10 \n",
      "[CV]  criterion=gini, max_depth=4, min_samples_leaf=2, min_samples_split=10, score=0.5909090909090909, total=   0.0s\n",
      "[CV] criterion=gini, max_depth=4, min_samples_leaf=2, min_samples_split=10 \n",
      "[CV]  criterion=gini, max_depth=4, min_samples_leaf=2, min_samples_split=10, score=0.5875420875420876, total=   0.0s\n",
      "[CV] criterion=gini, max_depth=4, min_samples_leaf=2, min_samples_split=10 \n",
      "[CV]  criterion=gini, max_depth=4, min_samples_leaf=2, min_samples_split=10, score=0.5675675675675675, total=   0.0s\n",
      "[CV] criterion=gini, max_depth=4, min_samples_leaf=3, min_samples_split=2 \n",
      "[CV]  criterion=gini, max_depth=4, min_samples_leaf=3, min_samples_split=2, score=0.5909090909090909, total=   0.0s\n",
      "[CV] criterion=gini, max_depth=4, min_samples_leaf=3, min_samples_split=2 \n",
      "[CV]  criterion=gini, max_depth=4, min_samples_leaf=3, min_samples_split=2, score=0.5875420875420876, total=   0.0s\n",
      "[CV] criterion=gini, max_depth=4, min_samples_leaf=3, min_samples_split=2 \n",
      "[CV]  criterion=gini, max_depth=4, min_samples_leaf=3, min_samples_split=2, score=0.5709459459459459, total=   0.0s\n",
      "[CV] criterion=gini, max_depth=4, min_samples_leaf=3, min_samples_split=5 \n",
      "[CV]  criterion=gini, max_depth=4, min_samples_leaf=3, min_samples_split=5, score=0.5909090909090909, total=   0.0s\n",
      "[CV] criterion=gini, max_depth=4, min_samples_leaf=3, min_samples_split=5 \n",
      "[CV]  criterion=gini, max_depth=4, min_samples_leaf=3, min_samples_split=5, score=0.5875420875420876, total=   0.0s\n",
      "[CV] criterion=gini, max_depth=4, min_samples_leaf=3, min_samples_split=5 \n",
      "[CV]  criterion=gini, max_depth=4, min_samples_leaf=3, min_samples_split=5, score=0.5726351351351351, total=   0.0s\n",
      "[CV] criterion=gini, max_depth=4, min_samples_leaf=3, min_samples_split=10 \n",
      "[CV]  criterion=gini, max_depth=4, min_samples_leaf=3, min_samples_split=10, score=0.5909090909090909, total=   0.0s\n",
      "[CV] criterion=gini, max_depth=4, min_samples_leaf=3, min_samples_split=10 \n",
      "[CV]  criterion=gini, max_depth=4, min_samples_leaf=3, min_samples_split=10, score=0.5875420875420876, total=   0.0s\n",
      "[CV] criterion=gini, max_depth=4, min_samples_leaf=3, min_samples_split=10 \n",
      "[CV]  criterion=gini, max_depth=4, min_samples_leaf=3, min_samples_split=10, score=0.5726351351351351, total=   0.0s\n",
      "[CV] criterion=gini, max_depth=4, min_samples_leaf=4, min_samples_split=2 \n",
      "[CV]  criterion=gini, max_depth=4, min_samples_leaf=4, min_samples_split=2, score=0.5892255892255892, total=   0.0s\n",
      "[CV] criterion=gini, max_depth=4, min_samples_leaf=4, min_samples_split=2 \n",
      "[CV]  criterion=gini, max_depth=4, min_samples_leaf=4, min_samples_split=2, score=0.5622895622895623, total=   0.0s\n",
      "[CV] criterion=gini, max_depth=4, min_samples_leaf=4, min_samples_split=2 \n",
      "[CV]  criterion=gini, max_depth=4, min_samples_leaf=4, min_samples_split=2, score=0.5743243243243243, total=   0.0s\n",
      "[CV] criterion=gini, max_depth=4, min_samples_leaf=4, min_samples_split=5 \n",
      "[CV]  criterion=gini, max_depth=4, min_samples_leaf=4, min_samples_split=5, score=0.5942760942760943, total=   0.0s\n",
      "[CV] criterion=gini, max_depth=4, min_samples_leaf=4, min_samples_split=5 \n",
      "[CV]  criterion=gini, max_depth=4, min_samples_leaf=4, min_samples_split=5, score=0.5622895622895623, total=   0.0s\n",
      "[CV] criterion=gini, max_depth=4, min_samples_leaf=4, min_samples_split=5 \n",
      "[CV]  criterion=gini, max_depth=4, min_samples_leaf=4, min_samples_split=5, score=0.5709459459459459, total=   0.0s\n",
      "[CV] criterion=gini, max_depth=4, min_samples_leaf=4, min_samples_split=10 \n"
     ]
    },
    {
     "name": "stdout",
     "output_type": "stream",
     "text": [
      "[CV]  criterion=gini, max_depth=4, min_samples_leaf=4, min_samples_split=10, score=0.5909090909090909, total=   0.0s\n",
      "[CV] criterion=gini, max_depth=4, min_samples_leaf=4, min_samples_split=10 \n",
      "[CV]  criterion=gini, max_depth=4, min_samples_leaf=4, min_samples_split=10, score=0.5740740740740741, total=   0.0s\n",
      "[CV] criterion=gini, max_depth=4, min_samples_leaf=4, min_samples_split=10 \n",
      "[CV]  criterion=gini, max_depth=4, min_samples_leaf=4, min_samples_split=10, score=0.5709459459459459, total=   0.0s\n",
      "[CV] criterion=gini, max_depth=4, min_samples_leaf=5, min_samples_split=2 \n",
      "[CV]  criterion=gini, max_depth=4, min_samples_leaf=5, min_samples_split=2, score=0.5942760942760943, total=   0.0s\n",
      "[CV] criterion=gini, max_depth=4, min_samples_leaf=5, min_samples_split=2 \n",
      "[CV]  criterion=gini, max_depth=4, min_samples_leaf=5, min_samples_split=2, score=0.5740740740740741, total=   0.0s\n",
      "[CV] criterion=gini, max_depth=4, min_samples_leaf=5, min_samples_split=2 \n",
      "[CV]  criterion=gini, max_depth=4, min_samples_leaf=5, min_samples_split=2, score=0.5675675675675675, total=   0.0s\n",
      "[CV] criterion=gini, max_depth=4, min_samples_leaf=5, min_samples_split=5 \n",
      "[CV]  criterion=gini, max_depth=4, min_samples_leaf=5, min_samples_split=5, score=0.5942760942760943, total=   0.0s\n",
      "[CV] criterion=gini, max_depth=4, min_samples_leaf=5, min_samples_split=5 \n",
      "[CV]  criterion=gini, max_depth=4, min_samples_leaf=5, min_samples_split=5, score=0.5740740740740741, total=   0.0s\n",
      "[CV] criterion=gini, max_depth=4, min_samples_leaf=5, min_samples_split=5 \n",
      "[CV]  criterion=gini, max_depth=4, min_samples_leaf=5, min_samples_split=5, score=0.5625, total=   0.0s\n",
      "[CV] criterion=gini, max_depth=4, min_samples_leaf=5, min_samples_split=10 \n",
      "[CV]  criterion=gini, max_depth=4, min_samples_leaf=5, min_samples_split=10, score=0.5942760942760943, total=   0.0s\n",
      "[CV] criterion=gini, max_depth=4, min_samples_leaf=5, min_samples_split=10 \n",
      "[CV]  criterion=gini, max_depth=4, min_samples_leaf=5, min_samples_split=10, score=0.5622895622895623, total=   0.0s\n",
      "[CV] criterion=gini, max_depth=4, min_samples_leaf=5, min_samples_split=10 \n",
      "[CV]  criterion=gini, max_depth=4, min_samples_leaf=5, min_samples_split=10, score=0.5625, total=   0.0s\n",
      "[CV] criterion=gini, max_depth=4, min_samples_leaf=6, min_samples_split=2 \n",
      "[CV]  criterion=gini, max_depth=4, min_samples_leaf=6, min_samples_split=2, score=0.5942760942760943, total=   0.0s\n",
      "[CV] criterion=gini, max_depth=4, min_samples_leaf=6, min_samples_split=2 \n",
      "[CV]  criterion=gini, max_depth=4, min_samples_leaf=6, min_samples_split=2, score=0.5740740740740741, total=   0.0s\n",
      "[CV] criterion=gini, max_depth=4, min_samples_leaf=6, min_samples_split=2 \n",
      "[CV]  criterion=gini, max_depth=4, min_samples_leaf=6, min_samples_split=2, score=0.5591216216216216, total=   0.0s\n",
      "[CV] criterion=gini, max_depth=4, min_samples_leaf=6, min_samples_split=5 \n",
      "[CV]  criterion=gini, max_depth=4, min_samples_leaf=6, min_samples_split=5, score=0.5942760942760943, total=   0.0s\n",
      "[CV] criterion=gini, max_depth=4, min_samples_leaf=6, min_samples_split=5 \n",
      "[CV]  criterion=gini, max_depth=4, min_samples_leaf=6, min_samples_split=5, score=0.5740740740740741, total=   0.0s\n",
      "[CV] criterion=gini, max_depth=4, min_samples_leaf=6, min_samples_split=5 \n",
      "[CV]  criterion=gini, max_depth=4, min_samples_leaf=6, min_samples_split=5, score=0.5608108108108109, total=   0.0s\n",
      "[CV] criterion=gini, max_depth=4, min_samples_leaf=6, min_samples_split=10 \n",
      "[CV]  criterion=gini, max_depth=4, min_samples_leaf=6, min_samples_split=10, score=0.5942760942760943, total=   0.0s\n",
      "[CV] criterion=gini, max_depth=4, min_samples_leaf=6, min_samples_split=10 \n",
      "[CV]  criterion=gini, max_depth=4, min_samples_leaf=6, min_samples_split=10, score=0.5740740740740741, total=   0.0s\n",
      "[CV] criterion=gini, max_depth=4, min_samples_leaf=6, min_samples_split=10 \n",
      "[CV]  criterion=gini, max_depth=4, min_samples_leaf=6, min_samples_split=10, score=0.5608108108108109, total=   0.0s\n",
      "[CV] criterion=gini, max_depth=5, min_samples_leaf=1, min_samples_split=2 \n",
      "[CV]  criterion=gini, max_depth=5, min_samples_leaf=1, min_samples_split=2, score=0.5858585858585859, total=   0.0s\n",
      "[CV] criterion=gini, max_depth=5, min_samples_leaf=1, min_samples_split=2 \n",
      "[CV]  criterion=gini, max_depth=5, min_samples_leaf=1, min_samples_split=2, score=0.5959595959595959, total=   0.0s\n",
      "[CV] criterion=gini, max_depth=5, min_samples_leaf=1, min_samples_split=2 \n",
      "[CV]  criterion=gini, max_depth=5, min_samples_leaf=1, min_samples_split=2, score=0.5878378378378378, total=   0.0s\n",
      "[CV] criterion=gini, max_depth=5, min_samples_leaf=1, min_samples_split=5 \n",
      "[CV]  criterion=gini, max_depth=5, min_samples_leaf=1, min_samples_split=5, score=0.5909090909090909, total=   0.0s\n",
      "[CV] criterion=gini, max_depth=5, min_samples_leaf=1, min_samples_split=5 \n",
      "[CV]  criterion=gini, max_depth=5, min_samples_leaf=1, min_samples_split=5, score=0.5959595959595959, total=   0.0s\n",
      "[CV] criterion=gini, max_depth=5, min_samples_leaf=1, min_samples_split=5 \n",
      "[CV]  criterion=gini, max_depth=5, min_samples_leaf=1, min_samples_split=5, score=0.5878378378378378, total=   0.0s\n",
      "[CV] criterion=gini, max_depth=5, min_samples_leaf=1, min_samples_split=10 \n",
      "[CV]  criterion=gini, max_depth=5, min_samples_leaf=1, min_samples_split=10, score=0.5875420875420876, total=   0.0s\n",
      "[CV] criterion=gini, max_depth=5, min_samples_leaf=1, min_samples_split=10 \n",
      "[CV]  criterion=gini, max_depth=5, min_samples_leaf=1, min_samples_split=10, score=0.5959595959595959, total=   0.0s\n",
      "[CV] criterion=gini, max_depth=5, min_samples_leaf=1, min_samples_split=10 \n",
      "[CV]  criterion=gini, max_depth=5, min_samples_leaf=1, min_samples_split=10, score=0.5878378378378378, total=   0.0s\n",
      "[CV] criterion=gini, max_depth=5, min_samples_leaf=2, min_samples_split=2 \n",
      "[CV]  criterion=gini, max_depth=5, min_samples_leaf=2, min_samples_split=2, score=0.5925925925925926, total=   0.0s\n",
      "[CV] criterion=gini, max_depth=5, min_samples_leaf=2, min_samples_split=2 \n",
      "[CV]  criterion=gini, max_depth=5, min_samples_leaf=2, min_samples_split=2, score=0.5959595959595959, total=   0.0s\n",
      "[CV] criterion=gini, max_depth=5, min_samples_leaf=2, min_samples_split=2 \n",
      "[CV]  criterion=gini, max_depth=5, min_samples_leaf=2, min_samples_split=2, score=0.5929054054054054, total=   0.0s\n",
      "[CV] criterion=gini, max_depth=5, min_samples_leaf=2, min_samples_split=5 \n",
      "[CV]  criterion=gini, max_depth=5, min_samples_leaf=2, min_samples_split=5, score=0.5909090909090909, total=   0.0s\n",
      "[CV] criterion=gini, max_depth=5, min_samples_leaf=2, min_samples_split=5 \n",
      "[CV]  criterion=gini, max_depth=5, min_samples_leaf=2, min_samples_split=5, score=0.5959595959595959, total=   0.0s\n",
      "[CV] criterion=gini, max_depth=5, min_samples_leaf=2, min_samples_split=5 \n",
      "[CV]  criterion=gini, max_depth=5, min_samples_leaf=2, min_samples_split=5, score=0.589527027027027, total=   0.0s\n",
      "[CV] criterion=gini, max_depth=5, min_samples_leaf=2, min_samples_split=10 \n",
      "[CV]  criterion=gini, max_depth=5, min_samples_leaf=2, min_samples_split=10, score=0.5875420875420876, total=   0.0s\n",
      "[CV] criterion=gini, max_depth=5, min_samples_leaf=2, min_samples_split=10 \n",
      "[CV]  criterion=gini, max_depth=5, min_samples_leaf=2, min_samples_split=10, score=0.5959595959595959, total=   0.0s\n",
      "[CV] criterion=gini, max_depth=5, min_samples_leaf=2, min_samples_split=10 \n",
      "[CV]  criterion=gini, max_depth=5, min_samples_leaf=2, min_samples_split=10, score=0.5929054054054054, total=   0.0s\n",
      "[CV] criterion=gini, max_depth=5, min_samples_leaf=3, min_samples_split=2 \n",
      "[CV]  criterion=gini, max_depth=5, min_samples_leaf=3, min_samples_split=2, score=0.5892255892255892, total=   0.0s\n",
      "[CV] criterion=gini, max_depth=5, min_samples_leaf=3, min_samples_split=2 \n",
      "[CV]  criterion=gini, max_depth=5, min_samples_leaf=3, min_samples_split=2, score=0.5993265993265994, total=   0.0s\n",
      "[CV] criterion=gini, max_depth=5, min_samples_leaf=3, min_samples_split=2 \n",
      "[CV]  criterion=gini, max_depth=5, min_samples_leaf=3, min_samples_split=2, score=0.5945945945945946, total=   0.0s\n",
      "[CV] criterion=gini, max_depth=5, min_samples_leaf=3, min_samples_split=5 \n",
      "[CV]  criterion=gini, max_depth=5, min_samples_leaf=3, min_samples_split=5, score=0.5841750841750841, total=   0.0s\n",
      "[CV] criterion=gini, max_depth=5, min_samples_leaf=3, min_samples_split=5 \n",
      "[CV]  criterion=gini, max_depth=5, min_samples_leaf=3, min_samples_split=5, score=0.5993265993265994, total=   0.0s\n",
      "[CV] criterion=gini, max_depth=5, min_samples_leaf=3, min_samples_split=5 \n",
      "[CV]  criterion=gini, max_depth=5, min_samples_leaf=3, min_samples_split=5, score=0.5945945945945946, total=   0.0s\n",
      "[CV] criterion=gini, max_depth=5, min_samples_leaf=3, min_samples_split=10 \n",
      "[CV]  criterion=gini, max_depth=5, min_samples_leaf=3, min_samples_split=10, score=0.5824915824915825, total=   0.0s\n",
      "[CV] criterion=gini, max_depth=5, min_samples_leaf=3, min_samples_split=10 \n",
      "[CV]  criterion=gini, max_depth=5, min_samples_leaf=3, min_samples_split=10, score=0.5993265993265994, total=   0.0s\n",
      "[CV] criterion=gini, max_depth=5, min_samples_leaf=3, min_samples_split=10 \n",
      "[CV]  criterion=gini, max_depth=5, min_samples_leaf=3, min_samples_split=10, score=0.5929054054054054, total=   0.0s\n",
      "[CV] criterion=gini, max_depth=5, min_samples_leaf=4, min_samples_split=2 \n",
      "[CV]  criterion=gini, max_depth=5, min_samples_leaf=4, min_samples_split=2, score=0.5858585858585859, total=   0.0s\n",
      "[CV] criterion=gini, max_depth=5, min_samples_leaf=4, min_samples_split=2 \n"
     ]
    },
    {
     "name": "stdout",
     "output_type": "stream",
     "text": [
      "[CV]  criterion=gini, max_depth=5, min_samples_leaf=4, min_samples_split=2, score=0.5976430976430976, total=   0.0s\n",
      "[CV] criterion=gini, max_depth=5, min_samples_leaf=4, min_samples_split=2 \n",
      "[CV]  criterion=gini, max_depth=5, min_samples_leaf=4, min_samples_split=2, score=0.5962837837837838, total=   0.0s\n",
      "[CV] criterion=gini, max_depth=5, min_samples_leaf=4, min_samples_split=5 \n",
      "[CV]  criterion=gini, max_depth=5, min_samples_leaf=4, min_samples_split=5, score=0.5875420875420876, total=   0.0s\n",
      "[CV] criterion=gini, max_depth=5, min_samples_leaf=4, min_samples_split=5 \n",
      "[CV]  criterion=gini, max_depth=5, min_samples_leaf=4, min_samples_split=5, score=0.5993265993265994, total=   0.0s\n",
      "[CV] criterion=gini, max_depth=5, min_samples_leaf=4, min_samples_split=5 \n",
      "[CV]  criterion=gini, max_depth=5, min_samples_leaf=4, min_samples_split=5, score=0.5962837837837838, total=   0.0s\n",
      "[CV] criterion=gini, max_depth=5, min_samples_leaf=4, min_samples_split=10 \n",
      "[CV]  criterion=gini, max_depth=5, min_samples_leaf=4, min_samples_split=10, score=0.5875420875420876, total=   0.0s\n",
      "[CV] criterion=gini, max_depth=5, min_samples_leaf=4, min_samples_split=10 \n",
      "[CV]  criterion=gini, max_depth=5, min_samples_leaf=4, min_samples_split=10, score=0.5858585858585859, total=   0.0s\n",
      "[CV] criterion=gini, max_depth=5, min_samples_leaf=4, min_samples_split=10 \n",
      "[CV]  criterion=gini, max_depth=5, min_samples_leaf=4, min_samples_split=10, score=0.5945945945945946, total=   0.0s\n",
      "[CV] criterion=gini, max_depth=5, min_samples_leaf=5, min_samples_split=2 \n",
      "[CV]  criterion=gini, max_depth=5, min_samples_leaf=5, min_samples_split=2, score=0.5892255892255892, total=   0.0s\n",
      "[CV] criterion=gini, max_depth=5, min_samples_leaf=5, min_samples_split=2 \n",
      "[CV]  criterion=gini, max_depth=5, min_samples_leaf=5, min_samples_split=2, score=0.5858585858585859, total=   0.0s\n",
      "[CV] criterion=gini, max_depth=5, min_samples_leaf=5, min_samples_split=2 \n",
      "[CV]  criterion=gini, max_depth=5, min_samples_leaf=5, min_samples_split=2, score=0.5912162162162162, total=   0.0s\n",
      "[CV] criterion=gini, max_depth=5, min_samples_leaf=5, min_samples_split=5 \n",
      "[CV]  criterion=gini, max_depth=5, min_samples_leaf=5, min_samples_split=5, score=0.5892255892255892, total=   0.0s\n",
      "[CV] criterion=gini, max_depth=5, min_samples_leaf=5, min_samples_split=5 \n",
      "[CV]  criterion=gini, max_depth=5, min_samples_leaf=5, min_samples_split=5, score=0.5858585858585859, total=   0.0s\n",
      "[CV] criterion=gini, max_depth=5, min_samples_leaf=5, min_samples_split=5 \n",
      "[CV]  criterion=gini, max_depth=5, min_samples_leaf=5, min_samples_split=5, score=0.589527027027027, total=   0.0s\n",
      "[CV] criterion=gini, max_depth=5, min_samples_leaf=5, min_samples_split=10 \n",
      "[CV]  criterion=gini, max_depth=5, min_samples_leaf=5, min_samples_split=10, score=0.5892255892255892, total=   0.0s\n",
      "[CV] criterion=gini, max_depth=5, min_samples_leaf=5, min_samples_split=10 \n",
      "[CV]  criterion=gini, max_depth=5, min_samples_leaf=5, min_samples_split=10, score=0.5892255892255892, total=   0.0s\n",
      "[CV] criterion=gini, max_depth=5, min_samples_leaf=5, min_samples_split=10 \n",
      "[CV]  criterion=gini, max_depth=5, min_samples_leaf=5, min_samples_split=10, score=0.589527027027027, total=   0.0s\n",
      "[CV] criterion=gini, max_depth=5, min_samples_leaf=6, min_samples_split=2 \n",
      "[CV]  criterion=gini, max_depth=5, min_samples_leaf=6, min_samples_split=2, score=0.5892255892255892, total=   0.0s\n",
      "[CV] criterion=gini, max_depth=5, min_samples_leaf=6, min_samples_split=2 \n",
      "[CV]  criterion=gini, max_depth=5, min_samples_leaf=6, min_samples_split=2, score=0.5976430976430976, total=   0.0s\n",
      "[CV] criterion=gini, max_depth=5, min_samples_leaf=6, min_samples_split=2 \n",
      "[CV]  criterion=gini, max_depth=5, min_samples_leaf=6, min_samples_split=2, score=0.5777027027027027, total=   0.0s\n",
      "[CV] criterion=gini, max_depth=5, min_samples_leaf=6, min_samples_split=5 \n",
      "[CV]  criterion=gini, max_depth=5, min_samples_leaf=6, min_samples_split=5, score=0.5892255892255892, total=   0.0s\n",
      "[CV] criterion=gini, max_depth=5, min_samples_leaf=6, min_samples_split=5 \n",
      "[CV]  criterion=gini, max_depth=5, min_samples_leaf=6, min_samples_split=5, score=0.5959595959595959, total=   0.0s\n",
      "[CV] criterion=gini, max_depth=5, min_samples_leaf=6, min_samples_split=5 \n",
      "[CV]  criterion=gini, max_depth=5, min_samples_leaf=6, min_samples_split=5, score=0.5793918918918919, total=   0.0s\n",
      "[CV] criterion=gini, max_depth=5, min_samples_leaf=6, min_samples_split=10 \n",
      "[CV]  criterion=gini, max_depth=5, min_samples_leaf=6, min_samples_split=10, score=0.5892255892255892, total=   0.0s\n",
      "[CV] criterion=gini, max_depth=5, min_samples_leaf=6, min_samples_split=10 \n",
      "[CV]  criterion=gini, max_depth=5, min_samples_leaf=6, min_samples_split=10, score=0.5892255892255892, total=   0.0s\n",
      "[CV] criterion=gini, max_depth=5, min_samples_leaf=6, min_samples_split=10 \n",
      "[CV]  criterion=gini, max_depth=5, min_samples_leaf=6, min_samples_split=10, score=0.5760135135135135, total=   0.0s\n",
      "[CV] criterion=gini, max_depth=6, min_samples_leaf=1, min_samples_split=2 \n",
      "[CV]  criterion=gini, max_depth=6, min_samples_leaf=1, min_samples_split=2, score=0.5909090909090909, total=   0.0s\n",
      "[CV] criterion=gini, max_depth=6, min_samples_leaf=1, min_samples_split=2 \n",
      "[CV]  criterion=gini, max_depth=6, min_samples_leaf=1, min_samples_split=2, score=0.5824915824915825, total=   0.0s\n",
      "[CV] criterion=gini, max_depth=6, min_samples_leaf=1, min_samples_split=2 \n",
      "[CV]  criterion=gini, max_depth=6, min_samples_leaf=1, min_samples_split=2, score=0.5709459459459459, total=   0.0s\n",
      "[CV] criterion=gini, max_depth=6, min_samples_leaf=1, min_samples_split=5 \n",
      "[CV]  criterion=gini, max_depth=6, min_samples_leaf=1, min_samples_split=5, score=0.5892255892255892, total=   0.0s\n",
      "[CV] criterion=gini, max_depth=6, min_samples_leaf=1, min_samples_split=5 \n",
      "[CV]  criterion=gini, max_depth=6, min_samples_leaf=1, min_samples_split=5, score=0.5824915824915825, total=   0.0s\n",
      "[CV] criterion=gini, max_depth=6, min_samples_leaf=1, min_samples_split=5 \n",
      "[CV]  criterion=gini, max_depth=6, min_samples_leaf=1, min_samples_split=5, score=0.5692567567567568, total=   0.0s\n",
      "[CV] criterion=gini, max_depth=6, min_samples_leaf=1, min_samples_split=10 \n",
      "[CV]  criterion=gini, max_depth=6, min_samples_leaf=1, min_samples_split=10, score=0.5808080808080808, total=   0.0s\n",
      "[CV] criterion=gini, max_depth=6, min_samples_leaf=1, min_samples_split=10 \n",
      "[CV]  criterion=gini, max_depth=6, min_samples_leaf=1, min_samples_split=10, score=0.5808080808080808, total=   0.0s\n",
      "[CV] criterion=gini, max_depth=6, min_samples_leaf=1, min_samples_split=10 \n",
      "[CV]  criterion=gini, max_depth=6, min_samples_leaf=1, min_samples_split=10, score=0.5777027027027027, total=   0.0s\n",
      "[CV] criterion=gini, max_depth=6, min_samples_leaf=2, min_samples_split=2 \n",
      "[CV]  criterion=gini, max_depth=6, min_samples_leaf=2, min_samples_split=2, score=0.5808080808080808, total=   0.0s\n",
      "[CV] criterion=gini, max_depth=6, min_samples_leaf=2, min_samples_split=2 \n",
      "[CV]  criterion=gini, max_depth=6, min_samples_leaf=2, min_samples_split=2, score=0.5808080808080808, total=   0.0s\n",
      "[CV] criterion=gini, max_depth=6, min_samples_leaf=2, min_samples_split=2 \n",
      "[CV]  criterion=gini, max_depth=6, min_samples_leaf=2, min_samples_split=2, score=0.5760135135135135, total=   0.0s\n",
      "[CV] criterion=gini, max_depth=6, min_samples_leaf=2, min_samples_split=5 \n",
      "[CV]  criterion=gini, max_depth=6, min_samples_leaf=2, min_samples_split=5, score=0.5909090909090909, total=   0.0s\n",
      "[CV] criterion=gini, max_depth=6, min_samples_leaf=2, min_samples_split=5 \n",
      "[CV]  criterion=gini, max_depth=6, min_samples_leaf=2, min_samples_split=5, score=0.5808080808080808, total=   0.0s\n",
      "[CV] criterion=gini, max_depth=6, min_samples_leaf=2, min_samples_split=5 \n",
      "[CV]  criterion=gini, max_depth=6, min_samples_leaf=2, min_samples_split=5, score=0.5726351351351351, total=   0.0s\n",
      "[CV] criterion=gini, max_depth=6, min_samples_leaf=2, min_samples_split=10 \n",
      "[CV]  criterion=gini, max_depth=6, min_samples_leaf=2, min_samples_split=10, score=0.5858585858585859, total=   0.0s\n",
      "[CV] criterion=gini, max_depth=6, min_samples_leaf=2, min_samples_split=10 \n",
      "[CV]  criterion=gini, max_depth=6, min_samples_leaf=2, min_samples_split=10, score=0.5808080808080808, total=   0.0s\n",
      "[CV] criterion=gini, max_depth=6, min_samples_leaf=2, min_samples_split=10 \n",
      "[CV]  criterion=gini, max_depth=6, min_samples_leaf=2, min_samples_split=10, score=0.5743243243243243, total=   0.0s\n",
      "[CV] criterion=gini, max_depth=6, min_samples_leaf=3, min_samples_split=2 \n"
     ]
    },
    {
     "name": "stdout",
     "output_type": "stream",
     "text": [
      "[CV]  criterion=gini, max_depth=6, min_samples_leaf=3, min_samples_split=2, score=0.5942760942760943, total=   0.0s\n",
      "[CV] criterion=gini, max_depth=6, min_samples_leaf=3, min_samples_split=2 \n",
      "[CV]  criterion=gini, max_depth=6, min_samples_leaf=3, min_samples_split=2, score=0.5740740740740741, total=   0.0s\n",
      "[CV] criterion=gini, max_depth=6, min_samples_leaf=3, min_samples_split=2 \n",
      "[CV]  criterion=gini, max_depth=6, min_samples_leaf=3, min_samples_split=2, score=0.581081081081081, total=   0.0s\n",
      "[CV] criterion=gini, max_depth=6, min_samples_leaf=3, min_samples_split=5 \n",
      "[CV]  criterion=gini, max_depth=6, min_samples_leaf=3, min_samples_split=5, score=0.5875420875420876, total=   0.0s\n",
      "[CV] criterion=gini, max_depth=6, min_samples_leaf=3, min_samples_split=5 \n",
      "[CV]  criterion=gini, max_depth=6, min_samples_leaf=3, min_samples_split=5, score=0.5723905723905723, total=   0.0s\n",
      "[CV] criterion=gini, max_depth=6, min_samples_leaf=3, min_samples_split=5 \n",
      "[CV]  criterion=gini, max_depth=6, min_samples_leaf=3, min_samples_split=5, score=0.5827702702702703, total=   0.0s\n",
      "[CV] criterion=gini, max_depth=6, min_samples_leaf=3, min_samples_split=10 \n",
      "[CV]  criterion=gini, max_depth=6, min_samples_leaf=3, min_samples_split=10, score=0.5824915824915825, total=   0.0s\n",
      "[CV] criterion=gini, max_depth=6, min_samples_leaf=3, min_samples_split=10 \n",
      "[CV]  criterion=gini, max_depth=6, min_samples_leaf=3, min_samples_split=10, score=0.5740740740740741, total=   0.0s\n",
      "[CV] criterion=gini, max_depth=6, min_samples_leaf=3, min_samples_split=10 \n",
      "[CV]  criterion=gini, max_depth=6, min_samples_leaf=3, min_samples_split=10, score=0.5777027027027027, total=   0.0s\n",
      "[CV] criterion=gini, max_depth=6, min_samples_leaf=4, min_samples_split=2 \n",
      "[CV]  criterion=gini, max_depth=6, min_samples_leaf=4, min_samples_split=2, score=0.5791245791245792, total=   0.0s\n",
      "[CV] criterion=gini, max_depth=6, min_samples_leaf=4, min_samples_split=2 \n",
      "[CV]  criterion=gini, max_depth=6, min_samples_leaf=4, min_samples_split=2, score=0.5673400673400674, total=   0.0s\n",
      "[CV] criterion=gini, max_depth=6, min_samples_leaf=4, min_samples_split=2 \n",
      "[CV]  criterion=gini, max_depth=6, min_samples_leaf=4, min_samples_split=2, score=0.5912162162162162, total=   0.0s\n",
      "[CV] criterion=gini, max_depth=6, min_samples_leaf=4, min_samples_split=5 \n",
      "[CV]  criterion=gini, max_depth=6, min_samples_leaf=4, min_samples_split=5, score=0.5824915824915825, total=   0.0s\n",
      "[CV] criterion=gini, max_depth=6, min_samples_leaf=4, min_samples_split=5 \n",
      "[CV]  criterion=gini, max_depth=6, min_samples_leaf=4, min_samples_split=5, score=0.569023569023569, total=   0.0s\n",
      "[CV] criterion=gini, max_depth=6, min_samples_leaf=4, min_samples_split=5 \n",
      "[CV]  criterion=gini, max_depth=6, min_samples_leaf=4, min_samples_split=5, score=0.589527027027027, total=   0.0s\n",
      "[CV] criterion=gini, max_depth=6, min_samples_leaf=4, min_samples_split=10 \n",
      "[CV]  criterion=gini, max_depth=6, min_samples_leaf=4, min_samples_split=10, score=0.5824915824915825, total=   0.0s\n",
      "[CV] criterion=gini, max_depth=6, min_samples_leaf=4, min_samples_split=10 \n",
      "[CV]  criterion=gini, max_depth=6, min_samples_leaf=4, min_samples_split=10, score=0.5740740740740741, total=   0.0s\n",
      "[CV] criterion=gini, max_depth=6, min_samples_leaf=4, min_samples_split=10 \n",
      "[CV]  criterion=gini, max_depth=6, min_samples_leaf=4, min_samples_split=10, score=0.581081081081081, total=   0.0s\n",
      "[CV] criterion=gini, max_depth=6, min_samples_leaf=5, min_samples_split=2 \n",
      "[CV]  criterion=gini, max_depth=6, min_samples_leaf=5, min_samples_split=2, score=0.5858585858585859, total=   0.0s\n",
      "[CV] criterion=gini, max_depth=6, min_samples_leaf=5, min_samples_split=2 \n",
      "[CV]  criterion=gini, max_depth=6, min_samples_leaf=5, min_samples_split=2, score=0.563973063973064, total=   0.0s\n",
      "[CV] criterion=gini, max_depth=6, min_samples_leaf=5, min_samples_split=2 \n",
      "[CV]  criterion=gini, max_depth=6, min_samples_leaf=5, min_samples_split=2, score=0.5743243243243243, total=   0.0s\n",
      "[CV] criterion=gini, max_depth=6, min_samples_leaf=5, min_samples_split=5 \n",
      "[CV]  criterion=gini, max_depth=6, min_samples_leaf=5, min_samples_split=5, score=0.5909090909090909, total=   0.0s\n",
      "[CV] criterion=gini, max_depth=6, min_samples_leaf=5, min_samples_split=5 \n",
      "[CV]  criterion=gini, max_depth=6, min_samples_leaf=5, min_samples_split=5, score=0.563973063973064, total=   0.0s\n",
      "[CV] criterion=gini, max_depth=6, min_samples_leaf=5, min_samples_split=5 \n",
      "[CV]  criterion=gini, max_depth=6, min_samples_leaf=5, min_samples_split=5, score=0.5760135135135135, total=   0.0s\n",
      "[CV] criterion=gini, max_depth=6, min_samples_leaf=5, min_samples_split=10 \n",
      "[CV]  criterion=gini, max_depth=6, min_samples_leaf=5, min_samples_split=10, score=0.5858585858585859, total=   0.0s\n",
      "[CV] criterion=gini, max_depth=6, min_samples_leaf=5, min_samples_split=10 \n",
      "[CV]  criterion=gini, max_depth=6, min_samples_leaf=5, min_samples_split=10, score=0.5740740740740741, total=   0.0s\n",
      "[CV] criterion=gini, max_depth=6, min_samples_leaf=5, min_samples_split=10 \n",
      "[CV]  criterion=gini, max_depth=6, min_samples_leaf=5, min_samples_split=10, score=0.581081081081081, total=   0.0s\n",
      "[CV] criterion=gini, max_depth=6, min_samples_leaf=6, min_samples_split=2 \n",
      "[CV]  criterion=gini, max_depth=6, min_samples_leaf=6, min_samples_split=2, score=0.5858585858585859, total=   0.0s\n",
      "[CV] criterion=gini, max_depth=6, min_samples_leaf=6, min_samples_split=2 \n",
      "[CV]  criterion=gini, max_depth=6, min_samples_leaf=6, min_samples_split=2, score=0.5673400673400674, total=   0.0s\n",
      "[CV] criterion=gini, max_depth=6, min_samples_leaf=6, min_samples_split=2 \n",
      "[CV]  criterion=gini, max_depth=6, min_samples_leaf=6, min_samples_split=2, score=0.5709459459459459, total=   0.0s\n",
      "[CV] criterion=gini, max_depth=6, min_samples_leaf=6, min_samples_split=5 \n",
      "[CV]  criterion=gini, max_depth=6, min_samples_leaf=6, min_samples_split=5, score=0.5858585858585859, total=   0.0s\n",
      "[CV] criterion=gini, max_depth=6, min_samples_leaf=6, min_samples_split=5 \n",
      "[CV]  criterion=gini, max_depth=6, min_samples_leaf=6, min_samples_split=5, score=0.563973063973064, total=   0.0s\n",
      "[CV] criterion=gini, max_depth=6, min_samples_leaf=6, min_samples_split=5 \n",
      "[CV]  criterion=gini, max_depth=6, min_samples_leaf=6, min_samples_split=5, score=0.5641891891891891, total=   0.0s\n",
      "[CV] criterion=gini, max_depth=6, min_samples_leaf=6, min_samples_split=10 \n",
      "[CV]  criterion=gini, max_depth=6, min_samples_leaf=6, min_samples_split=10, score=0.5858585858585859, total=   0.0s\n",
      "[CV] criterion=gini, max_depth=6, min_samples_leaf=6, min_samples_split=10 \n",
      "[CV]  criterion=gini, max_depth=6, min_samples_leaf=6, min_samples_split=10, score=0.5740740740740741, total=   0.0s\n",
      "[CV] criterion=gini, max_depth=6, min_samples_leaf=6, min_samples_split=10 \n",
      "[CV]  criterion=gini, max_depth=6, min_samples_leaf=6, min_samples_split=10, score=0.5608108108108109, total=   0.0s\n",
      "[CV] criterion=entropy, max_depth=None, min_samples_leaf=1, min_samples_split=2 \n",
      "[CV]  criterion=entropy, max_depth=None, min_samples_leaf=1, min_samples_split=2, score=0.5707070707070707, total=   0.1s\n",
      "[CV] criterion=entropy, max_depth=None, min_samples_leaf=1, min_samples_split=2 \n",
      "[CV]  criterion=entropy, max_depth=None, min_samples_leaf=1, min_samples_split=2, score=0.5808080808080808, total=   0.1s\n",
      "[CV] criterion=entropy, max_depth=None, min_samples_leaf=1, min_samples_split=2 \n",
      "[CV]  criterion=entropy, max_depth=None, min_samples_leaf=1, min_samples_split=2, score=0.5506756756756757, total=   0.0s\n",
      "[CV] criterion=entropy, max_depth=None, min_samples_leaf=1, min_samples_split=5 \n",
      "[CV]  criterion=entropy, max_depth=None, min_samples_leaf=1, min_samples_split=5, score=0.5774410774410774, total=   0.1s\n",
      "[CV] criterion=entropy, max_depth=None, min_samples_leaf=1, min_samples_split=5 \n",
      "[CV]  criterion=entropy, max_depth=None, min_samples_leaf=1, min_samples_split=5, score=0.5707070707070707, total=   0.1s\n",
      "[CV] criterion=entropy, max_depth=None, min_samples_leaf=1, min_samples_split=5 \n",
      "[CV]  criterion=entropy, max_depth=None, min_samples_leaf=1, min_samples_split=5, score=0.5625, total=   0.1s\n",
      "[CV] criterion=entropy, max_depth=None, min_samples_leaf=1, min_samples_split=10 \n",
      "[CV]  criterion=entropy, max_depth=None, min_samples_leaf=1, min_samples_split=10, score=0.5622895622895623, total=   0.1s\n",
      "[CV] criterion=entropy, max_depth=None, min_samples_leaf=1, min_samples_split=10 \n"
     ]
    },
    {
     "name": "stdout",
     "output_type": "stream",
     "text": [
      "[CV]  criterion=entropy, max_depth=None, min_samples_leaf=1, min_samples_split=10, score=0.5740740740740741, total=   0.1s\n",
      "[CV] criterion=entropy, max_depth=None, min_samples_leaf=1, min_samples_split=10 \n",
      "[CV]  criterion=entropy, max_depth=None, min_samples_leaf=1, min_samples_split=10, score=0.5523648648648649, total=   0.0s\n",
      "[CV] criterion=entropy, max_depth=None, min_samples_leaf=2, min_samples_split=2 \n",
      "[CV]  criterion=entropy, max_depth=None, min_samples_leaf=2, min_samples_split=2, score=0.5673400673400674, total=   0.1s\n",
      "[CV] criterion=entropy, max_depth=None, min_samples_leaf=2, min_samples_split=2 \n",
      "[CV]  criterion=entropy, max_depth=None, min_samples_leaf=2, min_samples_split=2, score=0.5471380471380471, total=   0.1s\n",
      "[CV] criterion=entropy, max_depth=None, min_samples_leaf=2, min_samples_split=2 \n",
      "[CV]  criterion=entropy, max_depth=None, min_samples_leaf=2, min_samples_split=2, score=0.5641891891891891, total=   0.0s\n",
      "[CV] criterion=entropy, max_depth=None, min_samples_leaf=2, min_samples_split=5 \n",
      "[CV]  criterion=entropy, max_depth=None, min_samples_leaf=2, min_samples_split=5, score=0.5740740740740741, total=   0.1s\n",
      "[CV] criterion=entropy, max_depth=None, min_samples_leaf=2, min_samples_split=5 \n",
      "[CV]  criterion=entropy, max_depth=None, min_samples_leaf=2, min_samples_split=5, score=0.5740740740740741, total=   0.1s\n",
      "[CV] criterion=entropy, max_depth=None, min_samples_leaf=2, min_samples_split=5 \n",
      "[CV]  criterion=entropy, max_depth=None, min_samples_leaf=2, min_samples_split=5, score=0.5625, total=   0.0s\n",
      "[CV] criterion=entropy, max_depth=None, min_samples_leaf=2, min_samples_split=10 \n",
      "[CV]  criterion=entropy, max_depth=None, min_samples_leaf=2, min_samples_split=10, score=0.5808080808080808, total=   0.1s\n",
      "[CV] criterion=entropy, max_depth=None, min_samples_leaf=2, min_samples_split=10 \n",
      "[CV]  criterion=entropy, max_depth=None, min_samples_leaf=2, min_samples_split=10, score=0.569023569023569, total=   0.1s\n",
      "[CV] criterion=entropy, max_depth=None, min_samples_leaf=2, min_samples_split=10 \n",
      "[CV]  criterion=entropy, max_depth=None, min_samples_leaf=2, min_samples_split=10, score=0.5557432432432432, total=   0.0s\n",
      "[CV] criterion=entropy, max_depth=None, min_samples_leaf=3, min_samples_split=2 \n",
      "[CV]  criterion=entropy, max_depth=None, min_samples_leaf=3, min_samples_split=2, score=0.5740740740740741, total=   0.0s\n",
      "[CV] criterion=entropy, max_depth=None, min_samples_leaf=3, min_samples_split=2 \n",
      "[CV]  criterion=entropy, max_depth=None, min_samples_leaf=3, min_samples_split=2, score=0.5572390572390572, total=   0.1s\n",
      "[CV] criterion=entropy, max_depth=None, min_samples_leaf=3, min_samples_split=2 \n",
      "[CV]  criterion=entropy, max_depth=None, min_samples_leaf=3, min_samples_split=2, score=0.5574324324324325, total=   0.0s\n",
      "[CV] criterion=entropy, max_depth=None, min_samples_leaf=3, min_samples_split=5 \n",
      "[CV]  criterion=entropy, max_depth=None, min_samples_leaf=3, min_samples_split=5, score=0.5757575757575758, total=   0.0s\n",
      "[CV] criterion=entropy, max_depth=None, min_samples_leaf=3, min_samples_split=5 \n",
      "[CV]  criterion=entropy, max_depth=None, min_samples_leaf=3, min_samples_split=5, score=0.5488215488215489, total=   0.1s\n",
      "[CV] criterion=entropy, max_depth=None, min_samples_leaf=3, min_samples_split=5 \n",
      "[CV]  criterion=entropy, max_depth=None, min_samples_leaf=3, min_samples_split=5, score=0.5422297297297297, total=   0.0s\n",
      "[CV] criterion=entropy, max_depth=None, min_samples_leaf=3, min_samples_split=10 \n",
      "[CV]  criterion=entropy, max_depth=None, min_samples_leaf=3, min_samples_split=10, score=0.569023569023569, total=   0.1s\n",
      "[CV] criterion=entropy, max_depth=None, min_samples_leaf=3, min_samples_split=10 \n",
      "[CV]  criterion=entropy, max_depth=None, min_samples_leaf=3, min_samples_split=10, score=0.5757575757575758, total=   0.1s\n",
      "[CV] criterion=entropy, max_depth=None, min_samples_leaf=3, min_samples_split=10 \n",
      "[CV]  criterion=entropy, max_depth=None, min_samples_leaf=3, min_samples_split=10, score=0.5422297297297297, total=   0.0s\n",
      "[CV] criterion=entropy, max_depth=None, min_samples_leaf=4, min_samples_split=2 \n",
      "[CV]  criterion=entropy, max_depth=None, min_samples_leaf=4, min_samples_split=2, score=0.5723905723905723, total=   0.1s\n",
      "[CV] criterion=entropy, max_depth=None, min_samples_leaf=4, min_samples_split=2 \n",
      "[CV]  criterion=entropy, max_depth=None, min_samples_leaf=4, min_samples_split=2, score=0.5622895622895623, total=   0.1s\n",
      "[CV] criterion=entropy, max_depth=None, min_samples_leaf=4, min_samples_split=2 \n",
      "[CV]  criterion=entropy, max_depth=None, min_samples_leaf=4, min_samples_split=2, score=0.5574324324324325, total=   0.0s\n",
      "[CV] criterion=entropy, max_depth=None, min_samples_leaf=4, min_samples_split=5 \n",
      "[CV]  criterion=entropy, max_depth=None, min_samples_leaf=4, min_samples_split=5, score=0.569023569023569, total=   0.0s\n",
      "[CV] criterion=entropy, max_depth=None, min_samples_leaf=4, min_samples_split=5 \n",
      "[CV]  criterion=entropy, max_depth=None, min_samples_leaf=4, min_samples_split=5, score=0.5606060606060606, total=   0.1s\n",
      "[CV] criterion=entropy, max_depth=None, min_samples_leaf=4, min_samples_split=5 \n",
      "[CV]  criterion=entropy, max_depth=None, min_samples_leaf=4, min_samples_split=5, score=0.5675675675675675, total=   0.0s\n",
      "[CV] criterion=entropy, max_depth=None, min_samples_leaf=4, min_samples_split=10 \n",
      "[CV]  criterion=entropy, max_depth=None, min_samples_leaf=4, min_samples_split=10, score=0.5740740740740741, total=   0.0s\n",
      "[CV] criterion=entropy, max_depth=None, min_samples_leaf=4, min_samples_split=10 \n",
      "[CV]  criterion=entropy, max_depth=None, min_samples_leaf=4, min_samples_split=10, score=0.5589225589225589, total=   0.1s\n",
      "[CV] criterion=entropy, max_depth=None, min_samples_leaf=4, min_samples_split=10 \n",
      "[CV]  criterion=entropy, max_depth=None, min_samples_leaf=4, min_samples_split=10, score=0.5675675675675675, total=   0.0s\n",
      "[CV] criterion=entropy, max_depth=None, min_samples_leaf=5, min_samples_split=2 \n",
      "[CV]  criterion=entropy, max_depth=None, min_samples_leaf=5, min_samples_split=2, score=0.5622895622895623, total=   0.0s\n",
      "[CV] criterion=entropy, max_depth=None, min_samples_leaf=5, min_samples_split=2 \n",
      "[CV]  criterion=entropy, max_depth=None, min_samples_leaf=5, min_samples_split=2, score=0.5555555555555556, total=   0.1s\n",
      "[CV] criterion=entropy, max_depth=None, min_samples_leaf=5, min_samples_split=2 \n",
      "[CV]  criterion=entropy, max_depth=None, min_samples_leaf=5, min_samples_split=2, score=0.5388513513513513, total=   0.0s\n",
      "[CV] criterion=entropy, max_depth=None, min_samples_leaf=5, min_samples_split=5 \n",
      "[CV]  criterion=entropy, max_depth=None, min_samples_leaf=5, min_samples_split=5, score=0.5757575757575758, total=   0.1s\n",
      "[CV] criterion=entropy, max_depth=None, min_samples_leaf=5, min_samples_split=5 \n",
      "[CV]  criterion=entropy, max_depth=None, min_samples_leaf=5, min_samples_split=5, score=0.5471380471380471, total=   0.1s\n",
      "[CV] criterion=entropy, max_depth=None, min_samples_leaf=5, min_samples_split=5 \n",
      "[CV]  criterion=entropy, max_depth=None, min_samples_leaf=5, min_samples_split=5, score=0.5540540540540541, total=   0.0s\n",
      "[CV] criterion=entropy, max_depth=None, min_samples_leaf=5, min_samples_split=10 \n",
      "[CV]  criterion=entropy, max_depth=None, min_samples_leaf=5, min_samples_split=10, score=0.5707070707070707, total=   0.1s\n",
      "[CV] criterion=entropy, max_depth=None, min_samples_leaf=5, min_samples_split=10 \n",
      "[CV]  criterion=entropy, max_depth=None, min_samples_leaf=5, min_samples_split=10, score=0.5538720538720538, total=   0.1s\n",
      "[CV] criterion=entropy, max_depth=None, min_samples_leaf=5, min_samples_split=10 \n",
      "[CV]  criterion=entropy, max_depth=None, min_samples_leaf=5, min_samples_split=10, score=0.5472972972972973, total=   0.0s\n",
      "[CV] criterion=entropy, max_depth=None, min_samples_leaf=6, min_samples_split=2 \n",
      "[CV]  criterion=entropy, max_depth=None, min_samples_leaf=6, min_samples_split=2, score=0.5471380471380471, total=   0.0s\n",
      "[CV] criterion=entropy, max_depth=None, min_samples_leaf=6, min_samples_split=2 \n",
      "[CV]  criterion=entropy, max_depth=None, min_samples_leaf=6, min_samples_split=2, score=0.5606060606060606, total=   0.1s\n",
      "[CV] criterion=entropy, max_depth=None, min_samples_leaf=6, min_samples_split=2 \n",
      "[CV]  criterion=entropy, max_depth=None, min_samples_leaf=6, min_samples_split=2, score=0.5304054054054054, total=   0.0s\n",
      "[CV] criterion=entropy, max_depth=None, min_samples_leaf=6, min_samples_split=5 \n"
     ]
    },
    {
     "name": "stdout",
     "output_type": "stream",
     "text": [
      "[CV]  criterion=entropy, max_depth=None, min_samples_leaf=6, min_samples_split=5, score=0.5370370370370371, total=   0.1s\n",
      "[CV] criterion=entropy, max_depth=None, min_samples_leaf=6, min_samples_split=5 \n",
      "[CV]  criterion=entropy, max_depth=None, min_samples_leaf=6, min_samples_split=5, score=0.5606060606060606, total=   0.1s\n",
      "[CV] criterion=entropy, max_depth=None, min_samples_leaf=6, min_samples_split=5 \n",
      "[CV]  criterion=entropy, max_depth=None, min_samples_leaf=6, min_samples_split=5, score=0.5304054054054054, total=   0.0s\n",
      "[CV] criterion=entropy, max_depth=None, min_samples_leaf=6, min_samples_split=10 \n",
      "[CV]  criterion=entropy, max_depth=None, min_samples_leaf=6, min_samples_split=10, score=0.5404040404040404, total=   0.0s\n",
      "[CV] criterion=entropy, max_depth=None, min_samples_leaf=6, min_samples_split=10 \n",
      "[CV]  criterion=entropy, max_depth=None, min_samples_leaf=6, min_samples_split=10, score=0.563973063973064, total=   0.1s\n",
      "[CV] criterion=entropy, max_depth=None, min_samples_leaf=6, min_samples_split=10 \n",
      "[CV]  criterion=entropy, max_depth=None, min_samples_leaf=6, min_samples_split=10, score=0.5405405405405406, total=   0.0s\n",
      "[CV] criterion=entropy, max_depth=2, min_samples_leaf=1, min_samples_split=2 \n",
      "[CV]  criterion=entropy, max_depth=2, min_samples_leaf=1, min_samples_split=2, score=0.5959595959595959, total=   0.0s\n",
      "[CV] criterion=entropy, max_depth=2, min_samples_leaf=1, min_samples_split=2 \n",
      "[CV]  criterion=entropy, max_depth=2, min_samples_leaf=1, min_samples_split=2, score=0.6077441077441077, total=   0.0s\n",
      "[CV] criterion=entropy, max_depth=2, min_samples_leaf=1, min_samples_split=2 \n",
      "[CV]  criterion=entropy, max_depth=2, min_samples_leaf=1, min_samples_split=2, score=0.6266891891891891, total=   0.0s\n",
      "[CV] criterion=entropy, max_depth=2, min_samples_leaf=1, min_samples_split=5 \n",
      "[CV]  criterion=entropy, max_depth=2, min_samples_leaf=1, min_samples_split=5, score=0.5959595959595959, total=   0.0s\n",
      "[CV] criterion=entropy, max_depth=2, min_samples_leaf=1, min_samples_split=5 \n",
      "[CV]  criterion=entropy, max_depth=2, min_samples_leaf=1, min_samples_split=5, score=0.6077441077441077, total=   0.0s\n",
      "[CV] criterion=entropy, max_depth=2, min_samples_leaf=1, min_samples_split=5 \n",
      "[CV]  criterion=entropy, max_depth=2, min_samples_leaf=1, min_samples_split=5, score=0.6266891891891891, total=   0.0s\n",
      "[CV] criterion=entropy, max_depth=2, min_samples_leaf=1, min_samples_split=10 \n",
      "[CV]  criterion=entropy, max_depth=2, min_samples_leaf=1, min_samples_split=10, score=0.5959595959595959, total=   0.0s\n",
      "[CV] criterion=entropy, max_depth=2, min_samples_leaf=1, min_samples_split=10 \n",
      "[CV]  criterion=entropy, max_depth=2, min_samples_leaf=1, min_samples_split=10, score=0.6077441077441077, total=   0.0s\n",
      "[CV] criterion=entropy, max_depth=2, min_samples_leaf=1, min_samples_split=10 \n",
      "[CV]  criterion=entropy, max_depth=2, min_samples_leaf=1, min_samples_split=10, score=0.6266891891891891, total=   0.0s\n",
      "[CV] criterion=entropy, max_depth=2, min_samples_leaf=2, min_samples_split=2 \n",
      "[CV]  criterion=entropy, max_depth=2, min_samples_leaf=2, min_samples_split=2, score=0.5959595959595959, total=   0.0s\n",
      "[CV] criterion=entropy, max_depth=2, min_samples_leaf=2, min_samples_split=2 \n",
      "[CV]  criterion=entropy, max_depth=2, min_samples_leaf=2, min_samples_split=2, score=0.6077441077441077, total=   0.0s\n",
      "[CV] criterion=entropy, max_depth=2, min_samples_leaf=2, min_samples_split=2 \n",
      "[CV]  criterion=entropy, max_depth=2, min_samples_leaf=2, min_samples_split=2, score=0.6266891891891891, total=   0.0s\n",
      "[CV] criterion=entropy, max_depth=2, min_samples_leaf=2, min_samples_split=5 \n",
      "[CV]  criterion=entropy, max_depth=2, min_samples_leaf=2, min_samples_split=5, score=0.5959595959595959, total=   0.0s\n",
      "[CV] criterion=entropy, max_depth=2, min_samples_leaf=2, min_samples_split=5 \n",
      "[CV]  criterion=entropy, max_depth=2, min_samples_leaf=2, min_samples_split=5, score=0.6077441077441077, total=   0.0s\n",
      "[CV] criterion=entropy, max_depth=2, min_samples_leaf=2, min_samples_split=5 \n",
      "[CV]  criterion=entropy, max_depth=2, min_samples_leaf=2, min_samples_split=5, score=0.6266891891891891, total=   0.0s\n",
      "[CV] criterion=entropy, max_depth=2, min_samples_leaf=2, min_samples_split=10 \n",
      "[CV]  criterion=entropy, max_depth=2, min_samples_leaf=2, min_samples_split=10, score=0.5959595959595959, total=   0.0s\n",
      "[CV] criterion=entropy, max_depth=2, min_samples_leaf=2, min_samples_split=10 \n",
      "[CV]  criterion=entropy, max_depth=2, min_samples_leaf=2, min_samples_split=10, score=0.6077441077441077, total=   0.0s\n",
      "[CV] criterion=entropy, max_depth=2, min_samples_leaf=2, min_samples_split=10 \n",
      "[CV]  criterion=entropy, max_depth=2, min_samples_leaf=2, min_samples_split=10, score=0.6266891891891891, total=   0.0s\n",
      "[CV] criterion=entropy, max_depth=2, min_samples_leaf=3, min_samples_split=2 \n",
      "[CV]  criterion=entropy, max_depth=2, min_samples_leaf=3, min_samples_split=2, score=0.5959595959595959, total=   0.0s\n",
      "[CV] criterion=entropy, max_depth=2, min_samples_leaf=3, min_samples_split=2 \n",
      "[CV]  criterion=entropy, max_depth=2, min_samples_leaf=3, min_samples_split=2, score=0.6077441077441077, total=   0.0s\n",
      "[CV] criterion=entropy, max_depth=2, min_samples_leaf=3, min_samples_split=2 \n",
      "[CV]  criterion=entropy, max_depth=2, min_samples_leaf=3, min_samples_split=2, score=0.6266891891891891, total=   0.0s\n",
      "[CV] criterion=entropy, max_depth=2, min_samples_leaf=3, min_samples_split=5 \n",
      "[CV]  criterion=entropy, max_depth=2, min_samples_leaf=3, min_samples_split=5, score=0.5959595959595959, total=   0.0s\n",
      "[CV] criterion=entropy, max_depth=2, min_samples_leaf=3, min_samples_split=5 \n",
      "[CV]  criterion=entropy, max_depth=2, min_samples_leaf=3, min_samples_split=5, score=0.6077441077441077, total=   0.0s\n",
      "[CV] criterion=entropy, max_depth=2, min_samples_leaf=3, min_samples_split=5 \n",
      "[CV]  criterion=entropy, max_depth=2, min_samples_leaf=3, min_samples_split=5, score=0.6266891891891891, total=   0.0s\n",
      "[CV] criterion=entropy, max_depth=2, min_samples_leaf=3, min_samples_split=10 \n",
      "[CV]  criterion=entropy, max_depth=2, min_samples_leaf=3, min_samples_split=10, score=0.5959595959595959, total=   0.0s\n",
      "[CV] criterion=entropy, max_depth=2, min_samples_leaf=3, min_samples_split=10 \n",
      "[CV]  criterion=entropy, max_depth=2, min_samples_leaf=3, min_samples_split=10, score=0.6077441077441077, total=   0.0s\n",
      "[CV] criterion=entropy, max_depth=2, min_samples_leaf=3, min_samples_split=10 \n",
      "[CV]  criterion=entropy, max_depth=2, min_samples_leaf=3, min_samples_split=10, score=0.6266891891891891, total=   0.0s\n",
      "[CV] criterion=entropy, max_depth=2, min_samples_leaf=4, min_samples_split=2 \n",
      "[CV]  criterion=entropy, max_depth=2, min_samples_leaf=4, min_samples_split=2, score=0.5959595959595959, total=   0.0s\n",
      "[CV] criterion=entropy, max_depth=2, min_samples_leaf=4, min_samples_split=2 \n",
      "[CV]  criterion=entropy, max_depth=2, min_samples_leaf=4, min_samples_split=2, score=0.6077441077441077, total=   0.0s\n",
      "[CV] criterion=entropy, max_depth=2, min_samples_leaf=4, min_samples_split=2 \n",
      "[CV]  criterion=entropy, max_depth=2, min_samples_leaf=4, min_samples_split=2, score=0.6266891891891891, total=   0.0s\n",
      "[CV] criterion=entropy, max_depth=2, min_samples_leaf=4, min_samples_split=5 \n",
      "[CV]  criterion=entropy, max_depth=2, min_samples_leaf=4, min_samples_split=5, score=0.5959595959595959, total=   0.0s\n",
      "[CV] criterion=entropy, max_depth=2, min_samples_leaf=4, min_samples_split=5 \n",
      "[CV]  criterion=entropy, max_depth=2, min_samples_leaf=4, min_samples_split=5, score=0.6077441077441077, total=   0.0s\n",
      "[CV] criterion=entropy, max_depth=2, min_samples_leaf=4, min_samples_split=5 \n",
      "[CV]  criterion=entropy, max_depth=2, min_samples_leaf=4, min_samples_split=5, score=0.6266891891891891, total=   0.0s\n",
      "[CV] criterion=entropy, max_depth=2, min_samples_leaf=4, min_samples_split=10 \n",
      "[CV]  criterion=entropy, max_depth=2, min_samples_leaf=4, min_samples_split=10, score=0.5959595959595959, total=   0.0s\n",
      "[CV] criterion=entropy, max_depth=2, min_samples_leaf=4, min_samples_split=10 \n",
      "[CV]  criterion=entropy, max_depth=2, min_samples_leaf=4, min_samples_split=10, score=0.6077441077441077, total=   0.0s\n",
      "[CV] criterion=entropy, max_depth=2, min_samples_leaf=4, min_samples_split=10 \n",
      "[CV]  criterion=entropy, max_depth=2, min_samples_leaf=4, min_samples_split=10, score=0.6266891891891891, total=   0.0s\n",
      "[CV] criterion=entropy, max_depth=2, min_samples_leaf=5, min_samples_split=2 \n",
      "[CV]  criterion=entropy, max_depth=2, min_samples_leaf=5, min_samples_split=2, score=0.5959595959595959, total=   0.0s\n",
      "[CV] criterion=entropy, max_depth=2, min_samples_leaf=5, min_samples_split=2 \n",
      "[CV]  criterion=entropy, max_depth=2, min_samples_leaf=5, min_samples_split=2, score=0.6077441077441077, total=   0.0s\n",
      "[CV] criterion=entropy, max_depth=2, min_samples_leaf=5, min_samples_split=2 \n"
     ]
    },
    {
     "name": "stdout",
     "output_type": "stream",
     "text": [
      "[CV]  criterion=entropy, max_depth=2, min_samples_leaf=5, min_samples_split=2, score=0.6266891891891891, total=   0.0s\n",
      "[CV] criterion=entropy, max_depth=2, min_samples_leaf=5, min_samples_split=5 \n",
      "[CV]  criterion=entropy, max_depth=2, min_samples_leaf=5, min_samples_split=5, score=0.5959595959595959, total=   0.0s\n",
      "[CV] criterion=entropy, max_depth=2, min_samples_leaf=5, min_samples_split=5 \n",
      "[CV]  criterion=entropy, max_depth=2, min_samples_leaf=5, min_samples_split=5, score=0.6077441077441077, total=   0.0s\n",
      "[CV] criterion=entropy, max_depth=2, min_samples_leaf=5, min_samples_split=5 \n",
      "[CV]  criterion=entropy, max_depth=2, min_samples_leaf=5, min_samples_split=5, score=0.6266891891891891, total=   0.0s\n",
      "[CV] criterion=entropy, max_depth=2, min_samples_leaf=5, min_samples_split=10 \n",
      "[CV]  criterion=entropy, max_depth=2, min_samples_leaf=5, min_samples_split=10, score=0.5959595959595959, total=   0.0s\n",
      "[CV] criterion=entropy, max_depth=2, min_samples_leaf=5, min_samples_split=10 \n",
      "[CV]  criterion=entropy, max_depth=2, min_samples_leaf=5, min_samples_split=10, score=0.6077441077441077, total=   0.0s\n",
      "[CV] criterion=entropy, max_depth=2, min_samples_leaf=5, min_samples_split=10 \n",
      "[CV]  criterion=entropy, max_depth=2, min_samples_leaf=5, min_samples_split=10, score=0.6266891891891891, total=   0.0s\n",
      "[CV] criterion=entropy, max_depth=2, min_samples_leaf=6, min_samples_split=2 \n",
      "[CV]  criterion=entropy, max_depth=2, min_samples_leaf=6, min_samples_split=2, score=0.5959595959595959, total=   0.0s\n",
      "[CV] criterion=entropy, max_depth=2, min_samples_leaf=6, min_samples_split=2 \n",
      "[CV]  criterion=entropy, max_depth=2, min_samples_leaf=6, min_samples_split=2, score=0.6077441077441077, total=   0.0s\n",
      "[CV] criterion=entropy, max_depth=2, min_samples_leaf=6, min_samples_split=2 \n",
      "[CV]  criterion=entropy, max_depth=2, min_samples_leaf=6, min_samples_split=2, score=0.6266891891891891, total=   0.0s\n",
      "[CV] criterion=entropy, max_depth=2, min_samples_leaf=6, min_samples_split=5 \n",
      "[CV]  criterion=entropy, max_depth=2, min_samples_leaf=6, min_samples_split=5, score=0.5959595959595959, total=   0.0s\n",
      "[CV] criterion=entropy, max_depth=2, min_samples_leaf=6, min_samples_split=5 \n",
      "[CV]  criterion=entropy, max_depth=2, min_samples_leaf=6, min_samples_split=5, score=0.6077441077441077, total=   0.0s\n",
      "[CV] criterion=entropy, max_depth=2, min_samples_leaf=6, min_samples_split=5 \n",
      "[CV]  criterion=entropy, max_depth=2, min_samples_leaf=6, min_samples_split=5, score=0.6266891891891891, total=   0.0s\n",
      "[CV] criterion=entropy, max_depth=2, min_samples_leaf=6, min_samples_split=10 \n",
      "[CV]  criterion=entropy, max_depth=2, min_samples_leaf=6, min_samples_split=10, score=0.5959595959595959, total=   0.0s\n",
      "[CV] criterion=entropy, max_depth=2, min_samples_leaf=6, min_samples_split=10 \n",
      "[CV]  criterion=entropy, max_depth=2, min_samples_leaf=6, min_samples_split=10, score=0.6077441077441077, total=   0.0s\n",
      "[CV] criterion=entropy, max_depth=2, min_samples_leaf=6, min_samples_split=10 \n",
      "[CV]  criterion=entropy, max_depth=2, min_samples_leaf=6, min_samples_split=10, score=0.6266891891891891, total=   0.0s\n",
      "[CV] criterion=entropy, max_depth=3, min_samples_leaf=1, min_samples_split=2 \n",
      "[CV]  criterion=entropy, max_depth=3, min_samples_leaf=1, min_samples_split=2, score=0.5841750841750841, total=   0.0s\n",
      "[CV] criterion=entropy, max_depth=3, min_samples_leaf=1, min_samples_split=2 \n",
      "[CV]  criterion=entropy, max_depth=3, min_samples_leaf=1, min_samples_split=2, score=0.601010101010101, total=   0.0s\n",
      "[CV] criterion=entropy, max_depth=3, min_samples_leaf=1, min_samples_split=2 \n",
      "[CV]  criterion=entropy, max_depth=3, min_samples_leaf=1, min_samples_split=2, score=0.5861486486486487, total=   0.0s\n",
      "[CV] criterion=entropy, max_depth=3, min_samples_leaf=1, min_samples_split=5 \n",
      "[CV]  criterion=entropy, max_depth=3, min_samples_leaf=1, min_samples_split=5, score=0.5841750841750841, total=   0.0s\n",
      "[CV] criterion=entropy, max_depth=3, min_samples_leaf=1, min_samples_split=5 \n",
      "[CV]  criterion=entropy, max_depth=3, min_samples_leaf=1, min_samples_split=5, score=0.601010101010101, total=   0.0s\n",
      "[CV] criterion=entropy, max_depth=3, min_samples_leaf=1, min_samples_split=5 \n",
      "[CV]  criterion=entropy, max_depth=3, min_samples_leaf=1, min_samples_split=5, score=0.5878378378378378, total=   0.0s\n",
      "[CV] criterion=entropy, max_depth=3, min_samples_leaf=1, min_samples_split=10 \n",
      "[CV]  criterion=entropy, max_depth=3, min_samples_leaf=1, min_samples_split=10, score=0.5841750841750841, total=   0.0s\n",
      "[CV] criterion=entropy, max_depth=3, min_samples_leaf=1, min_samples_split=10 \n",
      "[CV]  criterion=entropy, max_depth=3, min_samples_leaf=1, min_samples_split=10, score=0.601010101010101, total=   0.0s\n",
      "[CV] criterion=entropy, max_depth=3, min_samples_leaf=1, min_samples_split=10 \n",
      "[CV]  criterion=entropy, max_depth=3, min_samples_leaf=1, min_samples_split=10, score=0.5861486486486487, total=   0.0s\n",
      "[CV] criterion=entropy, max_depth=3, min_samples_leaf=2, min_samples_split=2 \n",
      "[CV]  criterion=entropy, max_depth=3, min_samples_leaf=2, min_samples_split=2, score=0.5841750841750841, total=   0.0s\n",
      "[CV] criterion=entropy, max_depth=3, min_samples_leaf=2, min_samples_split=2 \n",
      "[CV]  criterion=entropy, max_depth=3, min_samples_leaf=2, min_samples_split=2, score=0.601010101010101, total=   0.0s\n",
      "[CV] criterion=entropy, max_depth=3, min_samples_leaf=2, min_samples_split=2 \n",
      "[CV]  criterion=entropy, max_depth=3, min_samples_leaf=2, min_samples_split=2, score=0.5878378378378378, total=   0.0s\n",
      "[CV] criterion=entropy, max_depth=3, min_samples_leaf=2, min_samples_split=5 \n",
      "[CV]  criterion=entropy, max_depth=3, min_samples_leaf=2, min_samples_split=5, score=0.5841750841750841, total=   0.0s\n",
      "[CV] criterion=entropy, max_depth=3, min_samples_leaf=2, min_samples_split=5 \n",
      "[CV]  criterion=entropy, max_depth=3, min_samples_leaf=2, min_samples_split=5, score=0.601010101010101, total=   0.0s\n",
      "[CV] criterion=entropy, max_depth=3, min_samples_leaf=2, min_samples_split=5 \n",
      "[CV]  criterion=entropy, max_depth=3, min_samples_leaf=2, min_samples_split=5, score=0.5878378378378378, total=   0.0s\n",
      "[CV] criterion=entropy, max_depth=3, min_samples_leaf=2, min_samples_split=10 \n",
      "[CV]  criterion=entropy, max_depth=3, min_samples_leaf=2, min_samples_split=10, score=0.5841750841750841, total=   0.0s\n",
      "[CV] criterion=entropy, max_depth=3, min_samples_leaf=2, min_samples_split=10 \n",
      "[CV]  criterion=entropy, max_depth=3, min_samples_leaf=2, min_samples_split=10, score=0.601010101010101, total=   0.0s\n",
      "[CV] criterion=entropy, max_depth=3, min_samples_leaf=2, min_samples_split=10 \n",
      "[CV]  criterion=entropy, max_depth=3, min_samples_leaf=2, min_samples_split=10, score=0.5878378378378378, total=   0.0s\n",
      "[CV] criterion=entropy, max_depth=3, min_samples_leaf=3, min_samples_split=2 \n",
      "[CV]  criterion=entropy, max_depth=3, min_samples_leaf=3, min_samples_split=2, score=0.5841750841750841, total=   0.0s\n",
      "[CV] criterion=entropy, max_depth=3, min_samples_leaf=3, min_samples_split=2 \n",
      "[CV]  criterion=entropy, max_depth=3, min_samples_leaf=3, min_samples_split=2, score=0.601010101010101, total=   0.0s\n",
      "[CV] criterion=entropy, max_depth=3, min_samples_leaf=3, min_samples_split=2 \n",
      "[CV]  criterion=entropy, max_depth=3, min_samples_leaf=3, min_samples_split=2, score=0.5878378378378378, total=   0.0s\n",
      "[CV] criterion=entropy, max_depth=3, min_samples_leaf=3, min_samples_split=5 \n",
      "[CV]  criterion=entropy, max_depth=3, min_samples_leaf=3, min_samples_split=5, score=0.5841750841750841, total=   0.0s\n",
      "[CV] criterion=entropy, max_depth=3, min_samples_leaf=3, min_samples_split=5 \n",
      "[CV]  criterion=entropy, max_depth=3, min_samples_leaf=3, min_samples_split=5, score=0.601010101010101, total=   0.0s\n",
      "[CV] criterion=entropy, max_depth=3, min_samples_leaf=3, min_samples_split=5 \n",
      "[CV]  criterion=entropy, max_depth=3, min_samples_leaf=3, min_samples_split=5, score=0.5861486486486487, total=   0.0s\n",
      "[CV] criterion=entropy, max_depth=3, min_samples_leaf=3, min_samples_split=10 \n",
      "[CV]  criterion=entropy, max_depth=3, min_samples_leaf=3, min_samples_split=10, score=0.5841750841750841, total=   0.0s\n",
      "[CV] criterion=entropy, max_depth=3, min_samples_leaf=3, min_samples_split=10 \n",
      "[CV]  criterion=entropy, max_depth=3, min_samples_leaf=3, min_samples_split=10, score=0.601010101010101, total=   0.0s\n",
      "[CV] criterion=entropy, max_depth=3, min_samples_leaf=3, min_samples_split=10 \n",
      "[CV]  criterion=entropy, max_depth=3, min_samples_leaf=3, min_samples_split=10, score=0.5878378378378378, total=   0.0s\n",
      "[CV] criterion=entropy, max_depth=3, min_samples_leaf=4, min_samples_split=2 \n",
      "[CV]  criterion=entropy, max_depth=3, min_samples_leaf=4, min_samples_split=2, score=0.5841750841750841, total=   0.0s\n",
      "[CV] criterion=entropy, max_depth=3, min_samples_leaf=4, min_samples_split=2 \n",
      "[CV]  criterion=entropy, max_depth=3, min_samples_leaf=4, min_samples_split=2, score=0.601010101010101, total=   0.0s\n",
      "[CV] criterion=entropy, max_depth=3, min_samples_leaf=4, min_samples_split=2 \n",
      "[CV]  criterion=entropy, max_depth=3, min_samples_leaf=4, min_samples_split=2, score=0.5861486486486487, total=   0.0s\n",
      "[CV] criterion=entropy, max_depth=3, min_samples_leaf=4, min_samples_split=5 \n",
      "[CV]  criterion=entropy, max_depth=3, min_samples_leaf=4, min_samples_split=5, score=0.5841750841750841, total=   0.0s\n",
      "[CV] criterion=entropy, max_depth=3, min_samples_leaf=4, min_samples_split=5 \n"
     ]
    },
    {
     "name": "stdout",
     "output_type": "stream",
     "text": [
      "[CV]  criterion=entropy, max_depth=3, min_samples_leaf=4, min_samples_split=5, score=0.601010101010101, total=   0.0s\n",
      "[CV] criterion=entropy, max_depth=3, min_samples_leaf=4, min_samples_split=5 \n",
      "[CV]  criterion=entropy, max_depth=3, min_samples_leaf=4, min_samples_split=5, score=0.5878378378378378, total=   0.0s\n",
      "[CV] criterion=entropy, max_depth=3, min_samples_leaf=4, min_samples_split=10 \n",
      "[CV]  criterion=entropy, max_depth=3, min_samples_leaf=4, min_samples_split=10, score=0.5841750841750841, total=   0.0s\n",
      "[CV] criterion=entropy, max_depth=3, min_samples_leaf=4, min_samples_split=10 \n",
      "[CV]  criterion=entropy, max_depth=3, min_samples_leaf=4, min_samples_split=10, score=0.601010101010101, total=   0.0s\n",
      "[CV] criterion=entropy, max_depth=3, min_samples_leaf=4, min_samples_split=10 \n",
      "[CV]  criterion=entropy, max_depth=3, min_samples_leaf=4, min_samples_split=10, score=0.5878378378378378, total=   0.0s\n",
      "[CV] criterion=entropy, max_depth=3, min_samples_leaf=5, min_samples_split=2 \n",
      "[CV]  criterion=entropy, max_depth=3, min_samples_leaf=5, min_samples_split=2, score=0.5841750841750841, total=   0.0s\n",
      "[CV] criterion=entropy, max_depth=3, min_samples_leaf=5, min_samples_split=2 \n",
      "[CV]  criterion=entropy, max_depth=3, min_samples_leaf=5, min_samples_split=2, score=0.601010101010101, total=   0.0s\n",
      "[CV] criterion=entropy, max_depth=3, min_samples_leaf=5, min_samples_split=2 \n",
      "[CV]  criterion=entropy, max_depth=3, min_samples_leaf=5, min_samples_split=2, score=0.5861486486486487, total=   0.0s\n",
      "[CV] criterion=entropy, max_depth=3, min_samples_leaf=5, min_samples_split=5 \n",
      "[CV]  criterion=entropy, max_depth=3, min_samples_leaf=5, min_samples_split=5, score=0.5841750841750841, total=   0.0s\n",
      "[CV] criterion=entropy, max_depth=3, min_samples_leaf=5, min_samples_split=5 \n",
      "[CV]  criterion=entropy, max_depth=3, min_samples_leaf=5, min_samples_split=5, score=0.601010101010101, total=   0.0s\n",
      "[CV] criterion=entropy, max_depth=3, min_samples_leaf=5, min_samples_split=5 \n",
      "[CV]  criterion=entropy, max_depth=3, min_samples_leaf=5, min_samples_split=5, score=0.5861486486486487, total=   0.0s\n",
      "[CV] criterion=entropy, max_depth=3, min_samples_leaf=5, min_samples_split=10 \n",
      "[CV]  criterion=entropy, max_depth=3, min_samples_leaf=5, min_samples_split=10, score=0.5841750841750841, total=   0.0s\n",
      "[CV] criterion=entropy, max_depth=3, min_samples_leaf=5, min_samples_split=10 \n",
      "[CV]  criterion=entropy, max_depth=3, min_samples_leaf=5, min_samples_split=10, score=0.601010101010101, total=   0.0s\n",
      "[CV] criterion=entropy, max_depth=3, min_samples_leaf=5, min_samples_split=10 \n",
      "[CV]  criterion=entropy, max_depth=3, min_samples_leaf=5, min_samples_split=10, score=0.5861486486486487, total=   0.0s\n",
      "[CV] criterion=entropy, max_depth=3, min_samples_leaf=6, min_samples_split=2 \n",
      "[CV]  criterion=entropy, max_depth=3, min_samples_leaf=6, min_samples_split=2, score=0.5841750841750841, total=   0.0s\n",
      "[CV] criterion=entropy, max_depth=3, min_samples_leaf=6, min_samples_split=2 \n",
      "[CV]  criterion=entropy, max_depth=3, min_samples_leaf=6, min_samples_split=2, score=0.601010101010101, total=   0.0s\n",
      "[CV] criterion=entropy, max_depth=3, min_samples_leaf=6, min_samples_split=2 \n",
      "[CV]  criterion=entropy, max_depth=3, min_samples_leaf=6, min_samples_split=2, score=0.5861486486486487, total=   0.0s\n",
      "[CV] criterion=entropy, max_depth=3, min_samples_leaf=6, min_samples_split=5 \n",
      "[CV]  criterion=entropy, max_depth=3, min_samples_leaf=6, min_samples_split=5, score=0.5841750841750841, total=   0.0s\n",
      "[CV] criterion=entropy, max_depth=3, min_samples_leaf=6, min_samples_split=5 \n",
      "[CV]  criterion=entropy, max_depth=3, min_samples_leaf=6, min_samples_split=5, score=0.601010101010101, total=   0.0s\n",
      "[CV] criterion=entropy, max_depth=3, min_samples_leaf=6, min_samples_split=5 \n",
      "[CV]  criterion=entropy, max_depth=3, min_samples_leaf=6, min_samples_split=5, score=0.5878378378378378, total=   0.0s\n",
      "[CV] criterion=entropy, max_depth=3, min_samples_leaf=6, min_samples_split=10 \n",
      "[CV]  criterion=entropy, max_depth=3, min_samples_leaf=6, min_samples_split=10, score=0.5841750841750841, total=   0.0s\n",
      "[CV] criterion=entropy, max_depth=3, min_samples_leaf=6, min_samples_split=10 \n",
      "[CV]  criterion=entropy, max_depth=3, min_samples_leaf=6, min_samples_split=10, score=0.601010101010101, total=   0.0s\n",
      "[CV] criterion=entropy, max_depth=3, min_samples_leaf=6, min_samples_split=10 \n",
      "[CV]  criterion=entropy, max_depth=3, min_samples_leaf=6, min_samples_split=10, score=0.5861486486486487, total=   0.0s\n",
      "[CV] criterion=entropy, max_depth=4, min_samples_leaf=1, min_samples_split=2 \n",
      "[CV]  criterion=entropy, max_depth=4, min_samples_leaf=1, min_samples_split=2, score=0.5976430976430976, total=   0.0s\n",
      "[CV] criterion=entropy, max_depth=4, min_samples_leaf=1, min_samples_split=2 \n",
      "[CV]  criterion=entropy, max_depth=4, min_samples_leaf=1, min_samples_split=2, score=0.5892255892255892, total=   0.0s\n",
      "[CV] criterion=entropy, max_depth=4, min_samples_leaf=1, min_samples_split=2 \n",
      "[CV]  criterion=entropy, max_depth=4, min_samples_leaf=1, min_samples_split=2, score=0.5625, total=   0.0s\n",
      "[CV] criterion=entropy, max_depth=4, min_samples_leaf=1, min_samples_split=5 \n",
      "[CV]  criterion=entropy, max_depth=4, min_samples_leaf=1, min_samples_split=5, score=0.5976430976430976, total=   0.0s\n",
      "[CV] criterion=entropy, max_depth=4, min_samples_leaf=1, min_samples_split=5 \n",
      "[CV]  criterion=entropy, max_depth=4, min_samples_leaf=1, min_samples_split=5, score=0.5892255892255892, total=   0.0s\n",
      "[CV] criterion=entropy, max_depth=4, min_samples_leaf=1, min_samples_split=5 \n",
      "[CV]  criterion=entropy, max_depth=4, min_samples_leaf=1, min_samples_split=5, score=0.5608108108108109, total=   0.0s\n",
      "[CV] criterion=entropy, max_depth=4, min_samples_leaf=1, min_samples_split=10 \n",
      "[CV]  criterion=entropy, max_depth=4, min_samples_leaf=1, min_samples_split=10, score=0.5976430976430976, total=   0.0s\n",
      "[CV] criterion=entropy, max_depth=4, min_samples_leaf=1, min_samples_split=10 \n",
      "[CV]  criterion=entropy, max_depth=4, min_samples_leaf=1, min_samples_split=10, score=0.5892255892255892, total=   0.0s\n",
      "[CV] criterion=entropy, max_depth=4, min_samples_leaf=1, min_samples_split=10 \n",
      "[CV]  criterion=entropy, max_depth=4, min_samples_leaf=1, min_samples_split=10, score=0.5625, total=   0.0s\n",
      "[CV] criterion=entropy, max_depth=4, min_samples_leaf=2, min_samples_split=2 \n",
      "[CV]  criterion=entropy, max_depth=4, min_samples_leaf=2, min_samples_split=2, score=0.5976430976430976, total=   0.0s\n",
      "[CV] criterion=entropy, max_depth=4, min_samples_leaf=2, min_samples_split=2 \n",
      "[CV]  criterion=entropy, max_depth=4, min_samples_leaf=2, min_samples_split=2, score=0.5892255892255892, total=   0.0s\n",
      "[CV] criterion=entropy, max_depth=4, min_samples_leaf=2, min_samples_split=2 \n",
      "[CV]  criterion=entropy, max_depth=4, min_samples_leaf=2, min_samples_split=2, score=0.5608108108108109, total=   0.0s\n",
      "[CV] criterion=entropy, max_depth=4, min_samples_leaf=2, min_samples_split=5 \n",
      "[CV]  criterion=entropy, max_depth=4, min_samples_leaf=2, min_samples_split=5, score=0.5976430976430976, total=   0.0s\n",
      "[CV] criterion=entropy, max_depth=4, min_samples_leaf=2, min_samples_split=5 \n",
      "[CV]  criterion=entropy, max_depth=4, min_samples_leaf=2, min_samples_split=5, score=0.5892255892255892, total=   0.0s\n",
      "[CV] criterion=entropy, max_depth=4, min_samples_leaf=2, min_samples_split=5 \n",
      "[CV]  criterion=entropy, max_depth=4, min_samples_leaf=2, min_samples_split=5, score=0.5625, total=   0.0s\n",
      "[CV] criterion=entropy, max_depth=4, min_samples_leaf=2, min_samples_split=10 \n",
      "[CV]  criterion=entropy, max_depth=4, min_samples_leaf=2, min_samples_split=10, score=0.5976430976430976, total=   0.0s\n",
      "[CV] criterion=entropy, max_depth=4, min_samples_leaf=2, min_samples_split=10 \n",
      "[CV]  criterion=entropy, max_depth=4, min_samples_leaf=2, min_samples_split=10, score=0.5892255892255892, total=   0.0s\n",
      "[CV] criterion=entropy, max_depth=4, min_samples_leaf=2, min_samples_split=10 \n",
      "[CV]  criterion=entropy, max_depth=4, min_samples_leaf=2, min_samples_split=10, score=0.5625, total=   0.0s\n",
      "[CV] criterion=entropy, max_depth=4, min_samples_leaf=3, min_samples_split=2 \n",
      "[CV]  criterion=entropy, max_depth=4, min_samples_leaf=3, min_samples_split=2, score=0.5976430976430976, total=   0.0s\n",
      "[CV] criterion=entropy, max_depth=4, min_samples_leaf=3, min_samples_split=2 \n",
      "[CV]  criterion=entropy, max_depth=4, min_samples_leaf=3, min_samples_split=2, score=0.5892255892255892, total=   0.0s\n",
      "[CV] criterion=entropy, max_depth=4, min_samples_leaf=3, min_samples_split=2 \n",
      "[CV]  criterion=entropy, max_depth=4, min_samples_leaf=3, min_samples_split=2, score=0.5625, total=   0.0s\n",
      "[CV] criterion=entropy, max_depth=4, min_samples_leaf=3, min_samples_split=5 \n",
      "[CV]  criterion=entropy, max_depth=4, min_samples_leaf=3, min_samples_split=5, score=0.5976430976430976, total=   0.0s\n",
      "[CV] criterion=entropy, max_depth=4, min_samples_leaf=3, min_samples_split=5 \n",
      "[CV]  criterion=entropy, max_depth=4, min_samples_leaf=3, min_samples_split=5, score=0.5892255892255892, total=   0.0s\n",
      "[CV] criterion=entropy, max_depth=4, min_samples_leaf=3, min_samples_split=5 \n",
      "[CV]  criterion=entropy, max_depth=4, min_samples_leaf=3, min_samples_split=5, score=0.5641891891891891, total=   0.0s\n",
      "[CV] criterion=entropy, max_depth=4, min_samples_leaf=3, min_samples_split=10 \n",
      "[CV]  criterion=entropy, max_depth=4, min_samples_leaf=3, min_samples_split=10, score=0.5976430976430976, total=   0.0s\n",
      "[CV] criterion=entropy, max_depth=4, min_samples_leaf=3, min_samples_split=10 \n",
      "[CV]  criterion=entropy, max_depth=4, min_samples_leaf=3, min_samples_split=10, score=0.5892255892255892, total=   0.0s\n",
      "[CV] criterion=entropy, max_depth=4, min_samples_leaf=3, min_samples_split=10 \n"
     ]
    },
    {
     "name": "stdout",
     "output_type": "stream",
     "text": [
      "[CV]  criterion=entropy, max_depth=4, min_samples_leaf=3, min_samples_split=10, score=0.5641891891891891, total=   0.0s\n",
      "[CV] criterion=entropy, max_depth=4, min_samples_leaf=4, min_samples_split=2 \n",
      "[CV]  criterion=entropy, max_depth=4, min_samples_leaf=4, min_samples_split=2, score=0.5976430976430976, total=   0.0s\n",
      "[CV] criterion=entropy, max_depth=4, min_samples_leaf=4, min_samples_split=2 \n",
      "[CV]  criterion=entropy, max_depth=4, min_samples_leaf=4, min_samples_split=2, score=0.5858585858585859, total=   0.0s\n",
      "[CV] criterion=entropy, max_depth=4, min_samples_leaf=4, min_samples_split=2 \n",
      "[CV]  criterion=entropy, max_depth=4, min_samples_leaf=4, min_samples_split=2, score=0.5641891891891891, total=   0.0s\n",
      "[CV] criterion=entropy, max_depth=4, min_samples_leaf=4, min_samples_split=5 \n",
      "[CV]  criterion=entropy, max_depth=4, min_samples_leaf=4, min_samples_split=5, score=0.5976430976430976, total=   0.0s\n",
      "[CV] criterion=entropy, max_depth=4, min_samples_leaf=4, min_samples_split=5 \n",
      "[CV]  criterion=entropy, max_depth=4, min_samples_leaf=4, min_samples_split=5, score=0.5858585858585859, total=   0.0s\n",
      "[CV] criterion=entropy, max_depth=4, min_samples_leaf=4, min_samples_split=5 \n",
      "[CV]  criterion=entropy, max_depth=4, min_samples_leaf=4, min_samples_split=5, score=0.5625, total=   0.0s\n",
      "[CV] criterion=entropy, max_depth=4, min_samples_leaf=4, min_samples_split=10 \n",
      "[CV]  criterion=entropy, max_depth=4, min_samples_leaf=4, min_samples_split=10, score=0.5976430976430976, total=   0.0s\n",
      "[CV] criterion=entropy, max_depth=4, min_samples_leaf=4, min_samples_split=10 \n",
      "[CV]  criterion=entropy, max_depth=4, min_samples_leaf=4, min_samples_split=10, score=0.5858585858585859, total=   0.0s\n",
      "[CV] criterion=entropy, max_depth=4, min_samples_leaf=4, min_samples_split=10 \n",
      "[CV]  criterion=entropy, max_depth=4, min_samples_leaf=4, min_samples_split=10, score=0.5641891891891891, total=   0.0s\n",
      "[CV] criterion=entropy, max_depth=4, min_samples_leaf=5, min_samples_split=2 \n",
      "[CV]  criterion=entropy, max_depth=4, min_samples_leaf=5, min_samples_split=2, score=0.5942760942760943, total=   0.0s\n",
      "[CV] criterion=entropy, max_depth=4, min_samples_leaf=5, min_samples_split=2 \n",
      "[CV]  criterion=entropy, max_depth=4, min_samples_leaf=5, min_samples_split=2, score=0.5892255892255892, total=   0.0s\n",
      "[CV] criterion=entropy, max_depth=4, min_samples_leaf=5, min_samples_split=2 \n",
      "[CV]  criterion=entropy, max_depth=4, min_samples_leaf=5, min_samples_split=2, score=0.5692567567567568, total=   0.0s\n",
      "[CV] criterion=entropy, max_depth=4, min_samples_leaf=5, min_samples_split=5 \n",
      "[CV]  criterion=entropy, max_depth=4, min_samples_leaf=5, min_samples_split=5, score=0.5942760942760943, total=   0.0s\n",
      "[CV] criterion=entropy, max_depth=4, min_samples_leaf=5, min_samples_split=5 \n",
      "[CV]  criterion=entropy, max_depth=4, min_samples_leaf=5, min_samples_split=5, score=0.5892255892255892, total=   0.0s\n",
      "[CV] criterion=entropy, max_depth=4, min_samples_leaf=5, min_samples_split=5 \n",
      "[CV]  criterion=entropy, max_depth=4, min_samples_leaf=5, min_samples_split=5, score=0.5675675675675675, total=   0.0s\n",
      "[CV] criterion=entropy, max_depth=4, min_samples_leaf=5, min_samples_split=10 \n",
      "[CV]  criterion=entropy, max_depth=4, min_samples_leaf=5, min_samples_split=10, score=0.5942760942760943, total=   0.0s\n",
      "[CV] criterion=entropy, max_depth=4, min_samples_leaf=5, min_samples_split=10 \n",
      "[CV]  criterion=entropy, max_depth=4, min_samples_leaf=5, min_samples_split=10, score=0.5892255892255892, total=   0.0s\n",
      "[CV] criterion=entropy, max_depth=4, min_samples_leaf=5, min_samples_split=10 \n",
      "[CV]  criterion=entropy, max_depth=4, min_samples_leaf=5, min_samples_split=10, score=0.5675675675675675, total=   0.0s\n",
      "[CV] criterion=entropy, max_depth=4, min_samples_leaf=6, min_samples_split=2 \n",
      "[CV]  criterion=entropy, max_depth=4, min_samples_leaf=6, min_samples_split=2, score=0.5942760942760943, total=   0.0s\n",
      "[CV] criterion=entropy, max_depth=4, min_samples_leaf=6, min_samples_split=2 \n",
      "[CV]  criterion=entropy, max_depth=4, min_samples_leaf=6, min_samples_split=2, score=0.5858585858585859, total=   0.0s\n",
      "[CV] criterion=entropy, max_depth=4, min_samples_leaf=6, min_samples_split=2 \n",
      "[CV]  criterion=entropy, max_depth=4, min_samples_leaf=6, min_samples_split=2, score=0.5641891891891891, total=   0.0s\n",
      "[CV] criterion=entropy, max_depth=4, min_samples_leaf=6, min_samples_split=5 \n",
      "[CV]  criterion=entropy, max_depth=4, min_samples_leaf=6, min_samples_split=5, score=0.5942760942760943, total=   0.0s\n",
      "[CV] criterion=entropy, max_depth=4, min_samples_leaf=6, min_samples_split=5 \n",
      "[CV]  criterion=entropy, max_depth=4, min_samples_leaf=6, min_samples_split=5, score=0.5858585858585859, total=   0.0s\n",
      "[CV] criterion=entropy, max_depth=4, min_samples_leaf=6, min_samples_split=5 \n",
      "[CV]  criterion=entropy, max_depth=4, min_samples_leaf=6, min_samples_split=5, score=0.5658783783783784, total=   0.0s\n",
      "[CV] criterion=entropy, max_depth=4, min_samples_leaf=6, min_samples_split=10 \n",
      "[CV]  criterion=entropy, max_depth=4, min_samples_leaf=6, min_samples_split=10, score=0.5942760942760943, total=   0.0s\n",
      "[CV] criterion=entropy, max_depth=4, min_samples_leaf=6, min_samples_split=10 \n",
      "[CV]  criterion=entropy, max_depth=4, min_samples_leaf=6, min_samples_split=10, score=0.5892255892255892, total=   0.0s\n",
      "[CV] criterion=entropy, max_depth=4, min_samples_leaf=6, min_samples_split=10 \n",
      "[CV]  criterion=entropy, max_depth=4, min_samples_leaf=6, min_samples_split=10, score=0.5692567567567568, total=   0.0s\n",
      "[CV] criterion=entropy, max_depth=5, min_samples_leaf=1, min_samples_split=2 \n",
      "[CV]  criterion=entropy, max_depth=5, min_samples_leaf=1, min_samples_split=2, score=0.5925925925925926, total=   0.0s\n",
      "[CV] criterion=entropy, max_depth=5, min_samples_leaf=1, min_samples_split=2 \n",
      "[CV]  criterion=entropy, max_depth=5, min_samples_leaf=1, min_samples_split=2, score=0.5959595959595959, total=   0.0s\n",
      "[CV] criterion=entropy, max_depth=5, min_samples_leaf=1, min_samples_split=2 \n",
      "[CV]  criterion=entropy, max_depth=5, min_samples_leaf=1, min_samples_split=2, score=0.5675675675675675, total=   0.0s\n",
      "[CV] criterion=entropy, max_depth=5, min_samples_leaf=1, min_samples_split=5 \n",
      "[CV]  criterion=entropy, max_depth=5, min_samples_leaf=1, min_samples_split=5, score=0.5942760942760943, total=   0.0s\n",
      "[CV] criterion=entropy, max_depth=5, min_samples_leaf=1, min_samples_split=5 \n",
      "[CV]  criterion=entropy, max_depth=5, min_samples_leaf=1, min_samples_split=5, score=0.5959595959595959, total=   0.0s\n",
      "[CV] criterion=entropy, max_depth=5, min_samples_leaf=1, min_samples_split=5 \n",
      "[CV]  criterion=entropy, max_depth=5, min_samples_leaf=1, min_samples_split=5, score=0.5675675675675675, total=   0.0s\n",
      "[CV] criterion=entropy, max_depth=5, min_samples_leaf=1, min_samples_split=10 \n",
      "[CV]  criterion=entropy, max_depth=5, min_samples_leaf=1, min_samples_split=10, score=0.5942760942760943, total=   0.0s\n",
      "[CV] criterion=entropy, max_depth=5, min_samples_leaf=1, min_samples_split=10 \n",
      "[CV]  criterion=entropy, max_depth=5, min_samples_leaf=1, min_samples_split=10, score=0.5959595959595959, total=   0.0s\n",
      "[CV] criterion=entropy, max_depth=5, min_samples_leaf=1, min_samples_split=10 \n",
      "[CV]  criterion=entropy, max_depth=5, min_samples_leaf=1, min_samples_split=10, score=0.5692567567567568, total=   0.0s\n",
      "[CV] criterion=entropy, max_depth=5, min_samples_leaf=2, min_samples_split=2 \n",
      "[CV]  criterion=entropy, max_depth=5, min_samples_leaf=2, min_samples_split=2, score=0.5909090909090909, total=   0.0s\n",
      "[CV] criterion=entropy, max_depth=5, min_samples_leaf=2, min_samples_split=2 \n",
      "[CV]  criterion=entropy, max_depth=5, min_samples_leaf=2, min_samples_split=2, score=0.5959595959595959, total=   0.0s\n",
      "[CV] criterion=entropy, max_depth=5, min_samples_leaf=2, min_samples_split=2 \n",
      "[CV]  criterion=entropy, max_depth=5, min_samples_leaf=2, min_samples_split=2, score=0.5692567567567568, total=   0.0s\n",
      "[CV] criterion=entropy, max_depth=5, min_samples_leaf=2, min_samples_split=5 \n",
      "[CV]  criterion=entropy, max_depth=5, min_samples_leaf=2, min_samples_split=5, score=0.5942760942760943, total=   0.0s\n",
      "[CV] criterion=entropy, max_depth=5, min_samples_leaf=2, min_samples_split=5 \n",
      "[CV]  criterion=entropy, max_depth=5, min_samples_leaf=2, min_samples_split=5, score=0.5959595959595959, total=   0.0s\n",
      "[CV] criterion=entropy, max_depth=5, min_samples_leaf=2, min_samples_split=5 \n",
      "[CV]  criterion=entropy, max_depth=5, min_samples_leaf=2, min_samples_split=5, score=0.5675675675675675, total=   0.0s\n",
      "[CV] criterion=entropy, max_depth=5, min_samples_leaf=2, min_samples_split=10 \n"
     ]
    },
    {
     "name": "stdout",
     "output_type": "stream",
     "text": [
      "[CV]  criterion=entropy, max_depth=5, min_samples_leaf=2, min_samples_split=10, score=0.5942760942760943, total=   0.0s\n",
      "[CV] criterion=entropy, max_depth=5, min_samples_leaf=2, min_samples_split=10 \n",
      "[CV]  criterion=entropy, max_depth=5, min_samples_leaf=2, min_samples_split=10, score=0.5959595959595959, total=   0.0s\n",
      "[CV] criterion=entropy, max_depth=5, min_samples_leaf=2, min_samples_split=10 \n",
      "[CV]  criterion=entropy, max_depth=5, min_samples_leaf=2, min_samples_split=10, score=0.5692567567567568, total=   0.0s\n",
      "[CV] criterion=entropy, max_depth=5, min_samples_leaf=3, min_samples_split=2 \n",
      "[CV]  criterion=entropy, max_depth=5, min_samples_leaf=3, min_samples_split=2, score=0.5959595959595959, total=   0.0s\n",
      "[CV] criterion=entropy, max_depth=5, min_samples_leaf=3, min_samples_split=2 \n",
      "[CV]  criterion=entropy, max_depth=5, min_samples_leaf=3, min_samples_split=2, score=0.5959595959595959, total=   0.0s\n",
      "[CV] criterion=entropy, max_depth=5, min_samples_leaf=3, min_samples_split=2 \n",
      "[CV]  criterion=entropy, max_depth=5, min_samples_leaf=3, min_samples_split=2, score=0.5675675675675675, total=   0.0s\n",
      "[CV] criterion=entropy, max_depth=5, min_samples_leaf=3, min_samples_split=5 \n",
      "[CV]  criterion=entropy, max_depth=5, min_samples_leaf=3, min_samples_split=5, score=0.5959595959595959, total=   0.0s\n",
      "[CV] criterion=entropy, max_depth=5, min_samples_leaf=3, min_samples_split=5 \n",
      "[CV]  criterion=entropy, max_depth=5, min_samples_leaf=3, min_samples_split=5, score=0.5942760942760943, total=   0.0s\n",
      "[CV] criterion=entropy, max_depth=5, min_samples_leaf=3, min_samples_split=5 \n",
      "[CV]  criterion=entropy, max_depth=5, min_samples_leaf=3, min_samples_split=5, score=0.5692567567567568, total=   0.0s\n",
      "[CV] criterion=entropy, max_depth=5, min_samples_leaf=3, min_samples_split=10 \n",
      "[CV]  criterion=entropy, max_depth=5, min_samples_leaf=3, min_samples_split=10, score=0.5959595959595959, total=   0.0s\n",
      "[CV] criterion=entropy, max_depth=5, min_samples_leaf=3, min_samples_split=10 \n",
      "[CV]  criterion=entropy, max_depth=5, min_samples_leaf=3, min_samples_split=10, score=0.5959595959595959, total=   0.0s\n",
      "[CV] criterion=entropy, max_depth=5, min_samples_leaf=3, min_samples_split=10 \n",
      "[CV]  criterion=entropy, max_depth=5, min_samples_leaf=3, min_samples_split=10, score=0.5675675675675675, total=   0.0s\n",
      "[CV] criterion=entropy, max_depth=5, min_samples_leaf=4, min_samples_split=2 \n",
      "[CV]  criterion=entropy, max_depth=5, min_samples_leaf=4, min_samples_split=2, score=0.5976430976430976, total=   0.0s\n",
      "[CV] criterion=entropy, max_depth=5, min_samples_leaf=4, min_samples_split=2 \n",
      "[CV]  criterion=entropy, max_depth=5, min_samples_leaf=4, min_samples_split=2, score=0.5909090909090909, total=   0.0s\n",
      "[CV] criterion=entropy, max_depth=5, min_samples_leaf=4, min_samples_split=2 \n",
      "[CV]  criterion=entropy, max_depth=5, min_samples_leaf=4, min_samples_split=2, score=0.5709459459459459, total=   0.0s\n",
      "[CV] criterion=entropy, max_depth=5, min_samples_leaf=4, min_samples_split=5 \n",
      "[CV]  criterion=entropy, max_depth=5, min_samples_leaf=4, min_samples_split=5, score=0.5976430976430976, total=   0.0s\n",
      "[CV] criterion=entropy, max_depth=5, min_samples_leaf=4, min_samples_split=5 \n",
      "[CV]  criterion=entropy, max_depth=5, min_samples_leaf=4, min_samples_split=5, score=0.5909090909090909, total=   0.0s\n",
      "[CV] criterion=entropy, max_depth=5, min_samples_leaf=4, min_samples_split=5 \n",
      "[CV]  criterion=entropy, max_depth=5, min_samples_leaf=4, min_samples_split=5, score=0.5709459459459459, total=   0.0s\n",
      "[CV] criterion=entropy, max_depth=5, min_samples_leaf=4, min_samples_split=10 \n",
      "[CV]  criterion=entropy, max_depth=5, min_samples_leaf=4, min_samples_split=10, score=0.5976430976430976, total=   0.0s\n",
      "[CV] criterion=entropy, max_depth=5, min_samples_leaf=4, min_samples_split=10 \n",
      "[CV]  criterion=entropy, max_depth=5, min_samples_leaf=4, min_samples_split=10, score=0.5909090909090909, total=   0.0s\n",
      "[CV] criterion=entropy, max_depth=5, min_samples_leaf=4, min_samples_split=10 \n",
      "[CV]  criterion=entropy, max_depth=5, min_samples_leaf=4, min_samples_split=10, score=0.5675675675675675, total=   0.0s\n",
      "[CV] criterion=entropy, max_depth=5, min_samples_leaf=5, min_samples_split=2 \n",
      "[CV]  criterion=entropy, max_depth=5, min_samples_leaf=5, min_samples_split=2, score=0.5942760942760943, total=   0.0s\n",
      "[CV] criterion=entropy, max_depth=5, min_samples_leaf=5, min_samples_split=2 \n",
      "[CV]  criterion=entropy, max_depth=5, min_samples_leaf=5, min_samples_split=2, score=0.5942760942760943, total=   0.0s\n",
      "[CV] criterion=entropy, max_depth=5, min_samples_leaf=5, min_samples_split=2 \n",
      "[CV]  criterion=entropy, max_depth=5, min_samples_leaf=5, min_samples_split=2, score=0.5591216216216216, total=   0.0s\n",
      "[CV] criterion=entropy, max_depth=5, min_samples_leaf=5, min_samples_split=5 \n",
      "[CV]  criterion=entropy, max_depth=5, min_samples_leaf=5, min_samples_split=5, score=0.5942760942760943, total=   0.0s\n",
      "[CV] criterion=entropy, max_depth=5, min_samples_leaf=5, min_samples_split=5 \n",
      "[CV]  criterion=entropy, max_depth=5, min_samples_leaf=5, min_samples_split=5, score=0.5942760942760943, total=   0.0s\n",
      "[CV] criterion=entropy, max_depth=5, min_samples_leaf=5, min_samples_split=5 \n",
      "[CV]  criterion=entropy, max_depth=5, min_samples_leaf=5, min_samples_split=5, score=0.5591216216216216, total=   0.0s\n",
      "[CV] criterion=entropy, max_depth=5, min_samples_leaf=5, min_samples_split=10 \n",
      "[CV]  criterion=entropy, max_depth=5, min_samples_leaf=5, min_samples_split=10, score=0.5942760942760943, total=   0.0s\n",
      "[CV] criterion=entropy, max_depth=5, min_samples_leaf=5, min_samples_split=10 \n",
      "[CV]  criterion=entropy, max_depth=5, min_samples_leaf=5, min_samples_split=10, score=0.5942760942760943, total=   0.0s\n",
      "[CV] criterion=entropy, max_depth=5, min_samples_leaf=5, min_samples_split=10 \n",
      "[CV]  criterion=entropy, max_depth=5, min_samples_leaf=5, min_samples_split=10, score=0.5591216216216216, total=   0.0s\n",
      "[CV] criterion=entropy, max_depth=5, min_samples_leaf=6, min_samples_split=2 \n",
      "[CV]  criterion=entropy, max_depth=5, min_samples_leaf=6, min_samples_split=2, score=0.5942760942760943, total=   0.0s\n",
      "[CV] criterion=entropy, max_depth=5, min_samples_leaf=6, min_samples_split=2 \n",
      "[CV]  criterion=entropy, max_depth=5, min_samples_leaf=6, min_samples_split=2, score=0.5959595959595959, total=   0.0s\n",
      "[CV] criterion=entropy, max_depth=5, min_samples_leaf=6, min_samples_split=2 \n",
      "[CV]  criterion=entropy, max_depth=5, min_samples_leaf=6, min_samples_split=2, score=0.5641891891891891, total=   0.0s\n",
      "[CV] criterion=entropy, max_depth=5, min_samples_leaf=6, min_samples_split=5 \n",
      "[CV]  criterion=entropy, max_depth=5, min_samples_leaf=6, min_samples_split=5, score=0.5942760942760943, total=   0.0s\n",
      "[CV] criterion=entropy, max_depth=5, min_samples_leaf=6, min_samples_split=5 \n",
      "[CV]  criterion=entropy, max_depth=5, min_samples_leaf=6, min_samples_split=5, score=0.5942760942760943, total=   0.0s\n",
      "[CV] criterion=entropy, max_depth=5, min_samples_leaf=6, min_samples_split=5 \n",
      "[CV]  criterion=entropy, max_depth=5, min_samples_leaf=6, min_samples_split=5, score=0.5591216216216216, total=   0.0s\n",
      "[CV] criterion=entropy, max_depth=5, min_samples_leaf=6, min_samples_split=10 \n",
      "[CV]  criterion=entropy, max_depth=5, min_samples_leaf=6, min_samples_split=10, score=0.5942760942760943, total=   0.0s\n",
      "[CV] criterion=entropy, max_depth=5, min_samples_leaf=6, min_samples_split=10 \n",
      "[CV]  criterion=entropy, max_depth=5, min_samples_leaf=6, min_samples_split=10, score=0.5942760942760943, total=   0.0s\n",
      "[CV] criterion=entropy, max_depth=5, min_samples_leaf=6, min_samples_split=10 \n",
      "[CV]  criterion=entropy, max_depth=5, min_samples_leaf=6, min_samples_split=10, score=0.5557432432432432, total=   0.0s\n",
      "[CV] criterion=entropy, max_depth=6, min_samples_leaf=1, min_samples_split=2 \n",
      "[CV]  criterion=entropy, max_depth=6, min_samples_leaf=1, min_samples_split=2, score=0.5909090909090909, total=   0.0s\n",
      "[CV] criterion=entropy, max_depth=6, min_samples_leaf=1, min_samples_split=2 \n",
      "[CV]  criterion=entropy, max_depth=6, min_samples_leaf=1, min_samples_split=2, score=0.5740740740740741, total=   0.0s\n",
      "[CV] criterion=entropy, max_depth=6, min_samples_leaf=1, min_samples_split=2 \n",
      "[CV]  criterion=entropy, max_depth=6, min_samples_leaf=1, min_samples_split=2, score=0.5658783783783784, total=   0.0s\n",
      "[CV] criterion=entropy, max_depth=6, min_samples_leaf=1, min_samples_split=5 \n",
      "[CV]  criterion=entropy, max_depth=6, min_samples_leaf=1, min_samples_split=5, score=0.5841750841750841, total=   0.0s\n",
      "[CV] criterion=entropy, max_depth=6, min_samples_leaf=1, min_samples_split=5 \n",
      "[CV]  criterion=entropy, max_depth=6, min_samples_leaf=1, min_samples_split=5, score=0.5942760942760943, total=   0.0s\n",
      "[CV] criterion=entropy, max_depth=6, min_samples_leaf=1, min_samples_split=5 \n",
      "[CV]  criterion=entropy, max_depth=6, min_samples_leaf=1, min_samples_split=5, score=0.5658783783783784, total=   0.0s\n",
      "[CV] criterion=entropy, max_depth=6, min_samples_leaf=1, min_samples_split=10 \n",
      "[CV]  criterion=entropy, max_depth=6, min_samples_leaf=1, min_samples_split=10, score=0.5892255892255892, total=   0.0s\n",
      "[CV] criterion=entropy, max_depth=6, min_samples_leaf=1, min_samples_split=10 \n"
     ]
    },
    {
     "name": "stdout",
     "output_type": "stream",
     "text": [
      "[CV]  criterion=entropy, max_depth=6, min_samples_leaf=1, min_samples_split=10, score=0.5942760942760943, total=   0.0s\n",
      "[CV] criterion=entropy, max_depth=6, min_samples_leaf=1, min_samples_split=10 \n",
      "[CV]  criterion=entropy, max_depth=6, min_samples_leaf=1, min_samples_split=10, score=0.5726351351351351, total=   0.0s\n",
      "[CV] criterion=entropy, max_depth=6, min_samples_leaf=2, min_samples_split=2 \n",
      "[CV]  criterion=entropy, max_depth=6, min_samples_leaf=2, min_samples_split=2, score=0.5875420875420876, total=   0.0s\n",
      "[CV] criterion=entropy, max_depth=6, min_samples_leaf=2, min_samples_split=2 \n",
      "[CV]  criterion=entropy, max_depth=6, min_samples_leaf=2, min_samples_split=2, score=0.5791245791245792, total=   0.0s\n",
      "[CV] criterion=entropy, max_depth=6, min_samples_leaf=2, min_samples_split=2 \n",
      "[CV]  criterion=entropy, max_depth=6, min_samples_leaf=2, min_samples_split=2, score=0.5641891891891891, total=   0.0s\n",
      "[CV] criterion=entropy, max_depth=6, min_samples_leaf=2, min_samples_split=5 \n",
      "[CV]  criterion=entropy, max_depth=6, min_samples_leaf=2, min_samples_split=5, score=0.5892255892255892, total=   0.0s\n",
      "[CV] criterion=entropy, max_depth=6, min_samples_leaf=2, min_samples_split=5 \n",
      "[CV]  criterion=entropy, max_depth=6, min_samples_leaf=2, min_samples_split=5, score=0.5757575757575758, total=   0.0s\n",
      "[CV] criterion=entropy, max_depth=6, min_samples_leaf=2, min_samples_split=5 \n",
      "[CV]  criterion=entropy, max_depth=6, min_samples_leaf=2, min_samples_split=5, score=0.5658783783783784, total=   0.0s\n",
      "[CV] criterion=entropy, max_depth=6, min_samples_leaf=2, min_samples_split=10 \n",
      "[CV]  criterion=entropy, max_depth=6, min_samples_leaf=2, min_samples_split=10, score=0.5875420875420876, total=   0.0s\n",
      "[CV] criterion=entropy, max_depth=6, min_samples_leaf=2, min_samples_split=10 \n",
      "[CV]  criterion=entropy, max_depth=6, min_samples_leaf=2, min_samples_split=10, score=0.5925925925925926, total=   0.0s\n",
      "[CV] criterion=entropy, max_depth=6, min_samples_leaf=2, min_samples_split=10 \n",
      "[CV]  criterion=entropy, max_depth=6, min_samples_leaf=2, min_samples_split=10, score=0.5709459459459459, total=   0.0s\n",
      "[CV] criterion=entropy, max_depth=6, min_samples_leaf=3, min_samples_split=2 \n",
      "[CV]  criterion=entropy, max_depth=6, min_samples_leaf=3, min_samples_split=2, score=0.5942760942760943, total=   0.0s\n",
      "[CV] criterion=entropy, max_depth=6, min_samples_leaf=3, min_samples_split=2 \n",
      "[CV]  criterion=entropy, max_depth=6, min_samples_leaf=3, min_samples_split=2, score=0.5959595959595959, total=   0.0s\n",
      "[CV] criterion=entropy, max_depth=6, min_samples_leaf=3, min_samples_split=2 \n",
      "[CV]  criterion=entropy, max_depth=6, min_samples_leaf=3, min_samples_split=2, score=0.5658783783783784, total=   0.0s\n",
      "[CV] criterion=entropy, max_depth=6, min_samples_leaf=3, min_samples_split=5 \n",
      "[CV]  criterion=entropy, max_depth=6, min_samples_leaf=3, min_samples_split=5, score=0.5909090909090909, total=   0.0s\n",
      "[CV] criterion=entropy, max_depth=6, min_samples_leaf=3, min_samples_split=5 \n",
      "[CV]  criterion=entropy, max_depth=6, min_samples_leaf=3, min_samples_split=5, score=0.5757575757575758, total=   0.0s\n",
      "[CV] criterion=entropy, max_depth=6, min_samples_leaf=3, min_samples_split=5 \n",
      "[CV]  criterion=entropy, max_depth=6, min_samples_leaf=3, min_samples_split=5, score=0.5658783783783784, total=   0.0s\n",
      "[CV] criterion=entropy, max_depth=6, min_samples_leaf=3, min_samples_split=10 \n",
      "[CV]  criterion=entropy, max_depth=6, min_samples_leaf=3, min_samples_split=10, score=0.5909090909090909, total=   0.0s\n",
      "[CV] criterion=entropy, max_depth=6, min_samples_leaf=3, min_samples_split=10 \n",
      "[CV]  criterion=entropy, max_depth=6, min_samples_leaf=3, min_samples_split=10, score=0.5959595959595959, total=   0.0s\n",
      "[CV] criterion=entropy, max_depth=6, min_samples_leaf=3, min_samples_split=10 \n",
      "[CV]  criterion=entropy, max_depth=6, min_samples_leaf=3, min_samples_split=10, score=0.5675675675675675, total=   0.0s\n",
      "[CV] criterion=entropy, max_depth=6, min_samples_leaf=4, min_samples_split=2 \n",
      "[CV]  criterion=entropy, max_depth=6, min_samples_leaf=4, min_samples_split=2, score=0.5892255892255892, total=   0.0s\n",
      "[CV] criterion=entropy, max_depth=6, min_samples_leaf=4, min_samples_split=2 \n",
      "[CV]  criterion=entropy, max_depth=6, min_samples_leaf=4, min_samples_split=2, score=0.5841750841750841, total=   0.0s\n",
      "[CV] criterion=entropy, max_depth=6, min_samples_leaf=4, min_samples_split=2 \n",
      "[CV]  criterion=entropy, max_depth=6, min_samples_leaf=4, min_samples_split=2, score=0.5675675675675675, total=   0.0s\n",
      "[CV] criterion=entropy, max_depth=6, min_samples_leaf=4, min_samples_split=5 \n",
      "[CV]  criterion=entropy, max_depth=6, min_samples_leaf=4, min_samples_split=5, score=0.5892255892255892, total=   0.0s\n",
      "[CV] criterion=entropy, max_depth=6, min_samples_leaf=4, min_samples_split=5 \n",
      "[CV]  criterion=entropy, max_depth=6, min_samples_leaf=4, min_samples_split=5, score=0.5841750841750841, total=   0.0s\n",
      "[CV] criterion=entropy, max_depth=6, min_samples_leaf=4, min_samples_split=5 \n",
      "[CV]  criterion=entropy, max_depth=6, min_samples_leaf=4, min_samples_split=5, score=0.5709459459459459, total=   0.0s\n",
      "[CV] criterion=entropy, max_depth=6, min_samples_leaf=4, min_samples_split=10 \n",
      "[CV]  criterion=entropy, max_depth=6, min_samples_leaf=4, min_samples_split=10, score=0.5858585858585859, total=   0.0s\n",
      "[CV] criterion=entropy, max_depth=6, min_samples_leaf=4, min_samples_split=10 \n",
      "[CV]  criterion=entropy, max_depth=6, min_samples_leaf=4, min_samples_split=10, score=0.5841750841750841, total=   0.0s\n",
      "[CV] criterion=entropy, max_depth=6, min_samples_leaf=4, min_samples_split=10 \n",
      "[CV]  criterion=entropy, max_depth=6, min_samples_leaf=4, min_samples_split=10, score=0.5692567567567568, total=   0.0s\n",
      "[CV] criterion=entropy, max_depth=6, min_samples_leaf=5, min_samples_split=2 \n",
      "[CV]  criterion=entropy, max_depth=6, min_samples_leaf=5, min_samples_split=2, score=0.5892255892255892, total=   0.0s\n",
      "[CV] criterion=entropy, max_depth=6, min_samples_leaf=5, min_samples_split=2 \n",
      "[CV]  criterion=entropy, max_depth=6, min_samples_leaf=5, min_samples_split=2, score=0.5875420875420876, total=   0.0s\n",
      "[CV] criterion=entropy, max_depth=6, min_samples_leaf=5, min_samples_split=2 \n",
      "[CV]  criterion=entropy, max_depth=6, min_samples_leaf=5, min_samples_split=2, score=0.5540540540540541, total=   0.0s\n",
      "[CV] criterion=entropy, max_depth=6, min_samples_leaf=5, min_samples_split=5 \n",
      "[CV]  criterion=entropy, max_depth=6, min_samples_leaf=5, min_samples_split=5, score=0.5841750841750841, total=   0.0s\n",
      "[CV] criterion=entropy, max_depth=6, min_samples_leaf=5, min_samples_split=5 \n",
      "[CV]  criterion=entropy, max_depth=6, min_samples_leaf=5, min_samples_split=5, score=0.5875420875420876, total=   0.0s\n",
      "[CV] criterion=entropy, max_depth=6, min_samples_leaf=5, min_samples_split=5 \n",
      "[CV]  criterion=entropy, max_depth=6, min_samples_leaf=5, min_samples_split=5, score=0.5523648648648649, total=   0.0s\n",
      "[CV] criterion=entropy, max_depth=6, min_samples_leaf=5, min_samples_split=10 \n",
      "[CV]  criterion=entropy, max_depth=6, min_samples_leaf=5, min_samples_split=10, score=0.5875420875420876, total=   0.0s\n",
      "[CV] criterion=entropy, max_depth=6, min_samples_leaf=5, min_samples_split=10 \n",
      "[CV]  criterion=entropy, max_depth=6, min_samples_leaf=5, min_samples_split=10, score=0.5875420875420876, total=   0.0s\n",
      "[CV] criterion=entropy, max_depth=6, min_samples_leaf=5, min_samples_split=10 \n",
      "[CV]  criterion=entropy, max_depth=6, min_samples_leaf=5, min_samples_split=10, score=0.5557432432432432, total=   0.0s\n",
      "[CV] criterion=entropy, max_depth=6, min_samples_leaf=6, min_samples_split=2 \n",
      "[CV]  criterion=entropy, max_depth=6, min_samples_leaf=6, min_samples_split=2, score=0.5858585858585859, total=   0.0s\n",
      "[CV] criterion=entropy, max_depth=6, min_samples_leaf=6, min_samples_split=2 \n",
      "[CV]  criterion=entropy, max_depth=6, min_samples_leaf=6, min_samples_split=2, score=0.5892255892255892, total=   0.0s\n",
      "[CV] criterion=entropy, max_depth=6, min_samples_leaf=6, min_samples_split=2 \n",
      "[CV]  criterion=entropy, max_depth=6, min_samples_leaf=6, min_samples_split=2, score=0.5608108108108109, total=   0.0s\n",
      "[CV] criterion=entropy, max_depth=6, min_samples_leaf=6, min_samples_split=5 \n",
      "[CV]  criterion=entropy, max_depth=6, min_samples_leaf=6, min_samples_split=5, score=0.5858585858585859, total=   0.0s\n",
      "[CV] criterion=entropy, max_depth=6, min_samples_leaf=6, min_samples_split=5 \n",
      "[CV]  criterion=entropy, max_depth=6, min_samples_leaf=6, min_samples_split=5, score=0.5892255892255892, total=   0.0s\n",
      "[CV] criterion=entropy, max_depth=6, min_samples_leaf=6, min_samples_split=5 \n",
      "[CV]  criterion=entropy, max_depth=6, min_samples_leaf=6, min_samples_split=5, score=0.5591216216216216, total=   0.0s\n",
      "[CV] criterion=entropy, max_depth=6, min_samples_leaf=6, min_samples_split=10 \n",
      "[CV]  criterion=entropy, max_depth=6, min_samples_leaf=6, min_samples_split=10, score=0.5858585858585859, total=   0.0s\n",
      "[CV] criterion=entropy, max_depth=6, min_samples_leaf=6, min_samples_split=10 \n",
      "[CV]  criterion=entropy, max_depth=6, min_samples_leaf=6, min_samples_split=10, score=0.5892255892255892, total=   0.0s\n",
      "[CV] criterion=entropy, max_depth=6, min_samples_leaf=6, min_samples_split=10 \n",
      "[CV]  criterion=entropy, max_depth=6, min_samples_leaf=6, min_samples_split=10, score=0.5625, total=   0.0s\n"
     ]
    },
    {
     "name": "stderr",
     "output_type": "stream",
     "text": [
      "[Parallel(n_jobs=1)]: Done 648 out of 648 | elapsed:   17.3s finished\n"
     ]
    },
    {
     "data": {
      "text/plain": [
       "GridSearchCV(cv=3, error_score='raise-deprecating',\n",
       "       estimator=DecisionTreeClassifier(class_weight=None, criterion='gini', max_depth=None,\n",
       "            max_features=None, max_leaf_nodes=None,\n",
       "            min_impurity_decrease=0.0, min_impurity_split=None,\n",
       "            min_samples_leaf=1, min_samples_split=2,\n",
       "            min_weight_fraction_leaf=0.0, presort=False, random_state=None,\n",
       "            splitter='best'),\n",
       "       fit_params=None, iid='warn', n_jobs=None,\n",
       "       param_grid={'criterion': ['gini', 'entropy'], 'max_depth': [None, 2, 3, 4, 5, 6], 'min_samples_split': [2, 5, 10], 'min_samples_leaf': [1, 2, 3, 4, 5, 6]},\n",
       "       pre_dispatch='2*n_jobs', refit=True, return_train_score=True,\n",
       "       scoring=None, verbose=5)"
      ]
     },
     "execution_count": 168,
     "metadata": {},
     "output_type": "execute_result"
    }
   ],
   "source": [
    "dt_grid_search = GridSearchCV(dt_clf, dt_param_grid, cv=3, return_train_score=True, verbose=5)\n",
    "dt_grid_search.fit(X, y)"
   ]
  },
  {
   "cell_type": "code",
   "execution_count": 169,
   "metadata": {},
   "outputs": [
    {
     "name": "stdout",
     "output_type": "stream",
     "text": [
      "Mean Training Score: 71.03486031033239\n",
      "Mean Testing Score: 62.19101123595505\n",
      "Best Parameter Found:\n"
     ]
    },
    {
     "data": {
      "text/plain": [
       "{'criterion': 'gini',\n",
       " 'max_depth': 2,\n",
       " 'min_samples_leaf': 1,\n",
       " 'min_samples_split': 2}"
      ]
     },
     "execution_count": 169,
     "metadata": {},
     "output_type": "execute_result"
    }
   ],
   "source": [
    "dt_gs_training_score = np.mean(dt_grid_search.cv_results_['mean_train_score'])\n",
    "dt_gs_testing_score = dt_grid_search.score(X, y)\n",
    "\n",
    "print(\"Mean Training Score:\", dt_gs_training_score*100)\n",
    "print(\"Mean Testing Score:\", dt_gs_testing_score*100)\n",
    "print(\"Best Parameter Found:\")\n",
    "dt_grid_search.best_params_"
   ]
  },
  {
   "cell_type": "markdown",
   "metadata": {},
   "source": [
    "### Running the Decision Tree model with the best parameters according to GridSearchCV"
   ]
  },
  {
   "cell_type": "code",
   "execution_count": 170,
   "metadata": {},
   "outputs": [
    {
     "data": {
      "text/plain": [
       "DecisionTreeClassifier(class_weight=None, criterion='gini', max_depth=2,\n",
       "            max_features=None, max_leaf_nodes=None,\n",
       "            min_impurity_decrease=0.0, min_impurity_split=None,\n",
       "            min_samples_leaf=1, min_samples_split=2,\n",
       "            min_weight_fraction_leaf=0.0, presort=False, random_state=None,\n",
       "            splitter='best')"
      ]
     },
     "execution_count": 170,
     "metadata": {},
     "output_type": "execute_result"
    }
   ],
   "source": [
    "classifier_gs = dt_grid_search.best_estimator_\n",
    "classifier_gs.fit(X_train, y_train)"
   ]
  },
  {
   "cell_type": "markdown",
   "metadata": {},
   "source": [
    "### Results from the GridSearch Parameters for Decision Tree"
   ]
  },
  {
   "cell_type": "code",
   "execution_count": 171,
   "metadata": {},
   "outputs": [
    {
     "name": "stdout",
     "output_type": "stream",
     "text": [
      "Precision Score: 0.5736434108527132\n",
      "Recall Score: 0.8131868131868132\n",
      "Accuracy Score: 0.5955056179775281\n",
      "F1 Score: 0.6727272727272728\n"
     ]
    }
   ],
   "source": [
    "# Predictions with GridSearch Params\n",
    "y_pred_gs = classifier_gs.predict(X_test)\n",
    "\n",
    "print_metrics(y_test, y_pred_gs)"
   ]
  },
  {
   "cell_type": "code",
   "execution_count": 172,
   "metadata": {},
   "outputs": [
    {
     "name": "stdout",
     "output_type": "stream",
     "text": [
      "AUC: 0.5905\n"
     ]
    }
   ],
   "source": [
    "# Area under the Curve with GS Params\n",
    "false_positive_rate_gs, true_positive_rate_gs, thresholds = roc_curve(y_test, y_pred_gs)\n",
    "roc_auc_gs = auc(false_positive_rate_gs, true_positive_rate_gs)\n",
    "print(\"AUC:\", round(roc_auc_gs, 4))"
   ]
  },
  {
   "cell_type": "code",
   "execution_count": 173,
   "metadata": {
    "scrolled": true
   },
   "outputs": [
    {
     "name": "stdout",
     "output_type": "stream",
     "text": [
      "Confusion Matrix \n",
      "-----------------\n"
     ]
    },
    {
     "data": {
      "text/html": [
       "<div>\n",
       "<style scoped>\n",
       "    .dataframe tbody tr th:only-of-type {\n",
       "        vertical-align: middle;\n",
       "    }\n",
       "\n",
       "    .dataframe tbody tr th {\n",
       "        vertical-align: top;\n",
       "    }\n",
       "\n",
       "    .dataframe thead th {\n",
       "        text-align: right;\n",
       "    }\n",
       "</style>\n",
       "<table border=\"1\" class=\"dataframe\">\n",
       "  <thead>\n",
       "    <tr style=\"text-align: right;\">\n",
       "      <th>Predicted</th>\n",
       "      <th>False</th>\n",
       "      <th>True</th>\n",
       "      <th>All</th>\n",
       "    </tr>\n",
       "    <tr>\n",
       "      <th>Actual</th>\n",
       "      <th></th>\n",
       "      <th></th>\n",
       "      <th></th>\n",
       "    </tr>\n",
       "  </thead>\n",
       "  <tbody>\n",
       "    <tr>\n",
       "      <th>False</th>\n",
       "      <td>64</td>\n",
       "      <td>110</td>\n",
       "      <td>174</td>\n",
       "    </tr>\n",
       "    <tr>\n",
       "      <th>True</th>\n",
       "      <td>34</td>\n",
       "      <td>148</td>\n",
       "      <td>182</td>\n",
       "    </tr>\n",
       "    <tr>\n",
       "      <th>All</th>\n",
       "      <td>98</td>\n",
       "      <td>258</td>\n",
       "      <td>356</td>\n",
       "    </tr>\n",
       "  </tbody>\n",
       "</table>\n",
       "</div>"
      ],
      "text/plain": [
       "Predicted  False  True  All\n",
       "Actual                     \n",
       "False         64   110  174\n",
       "True          34   148  182\n",
       "All           98   258  356"
      ]
     },
     "execution_count": 173,
     "metadata": {},
     "output_type": "execute_result"
    }
   ],
   "source": [
    "# Confusion Matrix from Gridsearch Params\n",
    "print(\"Confusion Matrix \\n-----------------\")\n",
    "pd.crosstab(y_test, y_pred_gs, rownames=['Actual'], colnames=['Predicted'], margins=True)"
   ]
  },
  {
   "cell_type": "markdown",
   "metadata": {},
   "source": [
    "### Decision Tree (w/GridSearch) Accuracy: 59.55% and F1 Score: 67.27%."
   ]
  },
  {
   "cell_type": "markdown",
   "metadata": {},
   "source": [
    "## Modeling - Logistic Regression"
   ]
  },
  {
   "cell_type": "code",
   "execution_count": 174,
   "metadata": {},
   "outputs": [],
   "source": [
    "from sklearn.linear_model import LogisticRegression"
   ]
  },
  {
   "cell_type": "markdown",
   "metadata": {},
   "source": [
    "### Fitting and Training Logistic Regression"
   ]
  },
  {
   "cell_type": "code",
   "execution_count": 175,
   "metadata": {},
   "outputs": [
    {
     "name": "stderr",
     "output_type": "stream",
     "text": [
      "/anaconda3/lib/python3.7/site-packages/sklearn/linear_model/logistic.py:433: FutureWarning: Default solver will be changed to 'lbfgs' in 0.22. Specify a solver to silence this warning.\n",
      "  FutureWarning)\n"
     ]
    },
    {
     "data": {
      "text/plain": [
       "LogisticRegression(C=1e+16, class_weight=None, dual=False,\n",
       "          fit_intercept=False, intercept_scaling=1, max_iter=100,\n",
       "          multi_class='warn', n_jobs=None, penalty='l2', random_state=None,\n",
       "          solver='warn', tol=0.0001, verbose=0, warm_start=False)"
      ]
     },
     "execution_count": 175,
     "metadata": {},
     "output_type": "execute_result"
    }
   ],
   "source": [
    "logreg = LogisticRegression(fit_intercept=False, C=1e16)\n",
    "logreg.fit(X_train, y_train)"
   ]
  },
  {
   "cell_type": "markdown",
   "metadata": {},
   "source": [
    "### Measuring the results from Logistic Regression"
   ]
  },
  {
   "cell_type": "code",
   "execution_count": 176,
   "metadata": {},
   "outputs": [
    {
     "name": "stdout",
     "output_type": "stream",
     "text": [
      "Precision Score: 0.5555555555555556\n",
      "Recall Score: 0.6318681318681318\n",
      "Accuracy Score: 0.5533707865168539\n",
      "F1 Score: 0.5912596401028278\n"
     ]
    }
   ],
   "source": [
    "# Predictions from LR\n",
    "y_pred = logreg.predict(X_test)\n",
    "\n",
    "print_metrics(y_test, y_pred)"
   ]
  },
  {
   "cell_type": "code",
   "execution_count": 177,
   "metadata": {},
   "outputs": [
    {
     "name": "stdout",
     "output_type": "stream",
     "text": [
      "AUC: 0.5516\n"
     ]
    }
   ],
   "source": [
    "log_fpr, log_tpr, thresholds = roc_curve(y_test, y_pred)\n",
    "roc_auc = auc(log_fpr, log_tpr)\n",
    "print(\"AUC:\", round(roc_auc, 4))"
   ]
  },
  {
   "cell_type": "markdown",
   "metadata": {},
   "source": [
    "### Logistic Regression - Accuracy: 55.33% and F1 Score: 59.12%."
   ]
  },
  {
   "cell_type": "markdown",
   "metadata": {},
   "source": [
    "### Plotting the ROC Curve"
   ]
  },
  {
   "cell_type": "code",
   "execution_count": 178,
   "metadata": {},
   "outputs": [
    {
     "name": "stdout",
     "output_type": "stream",
     "text": [
      "Test AUC: 0.5909435392194013\n",
      "Train AUC: 0.6497392134583214\n"
     ]
    },
    {
     "data": {
      "image/png": "[encoded data removed]",
      "text/plain": [
       "<Figure size 1152x576 with 1 Axes>"
      ]
     },
     "metadata": {},
     "output_type": "display_data"
    }
   ],
   "source": [
    "y_test_score  = logreg.decision_function(X_test)\n",
    "y_train_score = logreg.decision_function(X_train)\n",
    "\n",
    "# True and False Positive Rates for the Test and Train sets\n",
    "test_fpr, test_tpr, test_thresholds = roc_curve(y_test, y_test_score)\n",
    "train_fpr, train_tpr, train_thresholds = roc_curve(y_train, y_train_score)\n",
    "\n",
    "print(\"Test AUC:\", auc(test_fpr, test_tpr))\n",
    "print(\"Train AUC:\", auc(train_fpr, train_tpr))\n",
    "\n",
    "# Plotting\n",
    "plt.figure(figsize=(16,8))\n",
    "lw = 2\n",
    "plt.plot(test_fpr, test_tpr, color='darkorange',\n",
    "         lw=lw, label='Test ROC curve')\n",
    "plt.plot(train_fpr, train_tpr, color='blue',\n",
    "         lw=lw, label='train ROC curve')\n",
    "plt.plot([0, 1], [0, 1], color='navy', lw=lw, linestyle='--')\n",
    "plt.xlim([0.0, 1.0])\n",
    "plt.ylim([0.0, 1.05])\n",
    "plt.yticks([i/20.0 for i in range(21)])\n",
    "plt.xticks([i/20.0 for i in range(21)])\n",
    "plt.xlabel('False Positive Rate')\n",
    "plt.ylabel('True Positive Rate')\n",
    "plt.title('Receiver operating characteristic (ROC) Curve')\n",
    "plt.legend(loc=\"lower right\")\n",
    "plt.show()"
   ]
  },
  {
   "cell_type": "markdown",
   "metadata": {},
   "source": [
    "### Improving Logistic Regression with GridSearchCV"
   ]
  },
  {
   "cell_type": "code",
   "execution_count": 179,
   "metadata": {},
   "outputs": [
    {
     "name": "stderr",
     "output_type": "stream",
     "text": [
      "/anaconda3/lib/python3.7/site-packages/sklearn/linear_model/logistic.py:433: FutureWarning: Default solver will be changed to 'lbfgs' in 0.22. Specify a solver to silence this warning.\n",
      "  FutureWarning)\n",
      "/anaconda3/lib/python3.7/site-packages/sklearn/linear_model/logistic.py:433: FutureWarning: Default solver will be changed to 'lbfgs' in 0.22. Specify a solver to silence this warning.\n",
      "  FutureWarning)\n",
      "/anaconda3/lib/python3.7/site-packages/sklearn/linear_model/logistic.py:433: FutureWarning: Default solver will be changed to 'lbfgs' in 0.22. Specify a solver to silence this warning.\n",
      "  FutureWarning)\n"
     ]
    },
    {
     "name": "stdout",
     "output_type": "stream",
     "text": [
      "Mean Cross Validation Score: 58.371818788485456\n"
     ]
    }
   ],
   "source": [
    "# Using Cross Validation\n",
    "log_clf = LogisticRegression()\n",
    "log_cv_score = cross_val_score(log_clf, X, y, cv=3)\n",
    "mean_log_cv_score = np.mean(log_cv_score)\n",
    "\n",
    "print(\"Mean Cross Validation Score:\", mean_log_cv_score*100)"
   ]
  },
  {
   "cell_type": "code",
   "execution_count": 180,
   "metadata": {},
   "outputs": [],
   "source": [
    "log_param_grid = {'C': [1.5**n for n in range(0, 20, 2)],\n",
    "                  'fit_intercept': [True, False],\n",
    "                  'intercept_scaling': [1, 5, 10, 25, 50, 100],\n",
    "                  'solver': ['liblinear', 'saga']}"
   ]
  },
  {
   "cell_type": "code",
   "execution_count": 181,
   "metadata": {
    "scrolled": true
   },
   "outputs": [
    {
     "name": "stdout",
     "output_type": "stream",
     "text": [
      "Fitting 3 folds for each of 240 candidates, totalling 720 fits\n",
      "[CV] C=1.0, fit_intercept=True, intercept_scaling=1, solver=liblinear \n",
      "[CV]  C=1.0, fit_intercept=True, intercept_scaling=1, solver=liblinear, score=0.5791245791245792, total=   0.2s\n",
      "[CV] C=1.0, fit_intercept=True, intercept_scaling=1, solver=liblinear \n"
     ]
    },
    {
     "name": "stderr",
     "output_type": "stream",
     "text": [
      "[Parallel(n_jobs=1)]: Using backend SequentialBackend with 1 concurrent workers.\n",
      "[Parallel(n_jobs=1)]: Done   1 out of   1 | elapsed:    0.2s remaining:    0.0s\n"
     ]
    },
    {
     "name": "stdout",
     "output_type": "stream",
     "text": [
      "[CV]  C=1.0, fit_intercept=True, intercept_scaling=1, solver=liblinear, score=0.5791245791245792, total=   0.1s\n",
      "[CV] C=1.0, fit_intercept=True, intercept_scaling=1, solver=liblinear \n"
     ]
    },
    {
     "name": "stderr",
     "output_type": "stream",
     "text": [
      "[Parallel(n_jobs=1)]: Done   2 out of   2 | elapsed:    0.3s remaining:    0.0s\n"
     ]
    },
    {
     "name": "stdout",
     "output_type": "stream",
     "text": [
      "[CV]  C=1.0, fit_intercept=True, intercept_scaling=1, solver=liblinear, score=0.5929054054054054, total=   0.2s\n",
      "[CV] C=1.0, fit_intercept=True, intercept_scaling=1, solver=saga .....\n",
      "[CV]  C=1.0, fit_intercept=True, intercept_scaling=1, solver=saga, score=0.49663299663299665, total=   0.1s\n",
      "[CV] C=1.0, fit_intercept=True, intercept_scaling=1, solver=saga .....\n",
      "[CV]  C=1.0, fit_intercept=True, intercept_scaling=1, solver=saga, score=0.51010101010101, total=   0.1s\n",
      "[CV] C=1.0, fit_intercept=True, intercept_scaling=1, solver=saga .....\n"
     ]
    },
    {
     "name": "stderr",
     "output_type": "stream",
     "text": [
      "/anaconda3/lib/python3.7/site-packages/sklearn/linear_model/sag.py:334: ConvergenceWarning: The max_iter was reached which means the coef_ did not converge\n",
      "  \"the coef_ did not converge\", ConvergenceWarning)\n",
      "/anaconda3/lib/python3.7/site-packages/sklearn/linear_model/sag.py:334: ConvergenceWarning: The max_iter was reached which means the coef_ did not converge\n",
      "  \"the coef_ did not converge\", ConvergenceWarning)\n",
      "/anaconda3/lib/python3.7/site-packages/sklearn/linear_model/sag.py:334: ConvergenceWarning: The max_iter was reached which means the coef_ did not converge\n",
      "  \"the coef_ did not converge\", ConvergenceWarning)\n"
     ]
    },
    {
     "name": "stdout",
     "output_type": "stream",
     "text": [
      "[CV]  C=1.0, fit_intercept=True, intercept_scaling=1, solver=saga, score=0.5135135135135135, total=   0.1s\n",
      "[CV] C=1.0, fit_intercept=True, intercept_scaling=5, solver=liblinear \n",
      "[CV]  C=1.0, fit_intercept=True, intercept_scaling=5, solver=liblinear, score=0.5791245791245792, total=   0.3s\n",
      "[CV] C=1.0, fit_intercept=True, intercept_scaling=5, solver=liblinear \n",
      "[CV]  C=1.0, fit_intercept=True, intercept_scaling=5, solver=liblinear, score=0.5808080808080808, total=   0.1s\n",
      "[CV] C=1.0, fit_intercept=True, intercept_scaling=5, solver=liblinear \n",
      "[CV]  C=1.0, fit_intercept=True, intercept_scaling=5, solver=liblinear, score=0.5945945945945946, total=   0.2s\n",
      "[CV] C=1.0, fit_intercept=True, intercept_scaling=5, solver=saga .....\n",
      "[CV]  C=1.0, fit_intercept=True, intercept_scaling=5, solver=saga, score=0.5, total=   0.1s\n",
      "[CV] C=1.0, fit_intercept=True, intercept_scaling=5, solver=saga .....\n",
      "[CV]  C=1.0, fit_intercept=True, intercept_scaling=5, solver=saga, score=0.5168350168350169, total=   0.1s\n",
      "[CV] C=1.0, fit_intercept=True, intercept_scaling=5, solver=saga .....\n"
     ]
    },
    {
     "name": "stderr",
     "output_type": "stream",
     "text": [
      "/anaconda3/lib/python3.7/site-packages/sklearn/linear_model/sag.py:334: ConvergenceWarning: The max_iter was reached which means the coef_ did not converge\n",
      "  \"the coef_ did not converge\", ConvergenceWarning)\n",
      "/anaconda3/lib/python3.7/site-packages/sklearn/linear_model/sag.py:334: ConvergenceWarning: The max_iter was reached which means the coef_ did not converge\n",
      "  \"the coef_ did not converge\", ConvergenceWarning)\n",
      "/anaconda3/lib/python3.7/site-packages/sklearn/linear_model/sag.py:334: ConvergenceWarning: The max_iter was reached which means the coef_ did not converge\n",
      "  \"the coef_ did not converge\", ConvergenceWarning)\n"
     ]
    },
    {
     "name": "stdout",
     "output_type": "stream",
     "text": [
      "[CV]  C=1.0, fit_intercept=True, intercept_scaling=5, solver=saga, score=0.5135135135135135, total=   0.1s\n",
      "[CV] C=1.0, fit_intercept=True, intercept_scaling=10, solver=liblinear \n",
      "[CV]  C=1.0, fit_intercept=True, intercept_scaling=10, solver=liblinear, score=0.5925925925925926, total=   0.1s\n",
      "[CV] C=1.0, fit_intercept=True, intercept_scaling=10, solver=liblinear \n"
     ]
    },
    {
     "name": "stderr",
     "output_type": "stream",
     "text": [
      "/anaconda3/lib/python3.7/site-packages/sklearn/svm/base.py:931: ConvergenceWarning: Liblinear failed to converge, increase the number of iterations.\n",
      "  \"the number of iterations.\", ConvergenceWarning)\n"
     ]
    },
    {
     "name": "stdout",
     "output_type": "stream",
     "text": [
      "[CV]  C=1.0, fit_intercept=True, intercept_scaling=10, solver=liblinear, score=0.5808080808080808, total=   0.1s\n",
      "[CV] C=1.0, fit_intercept=True, intercept_scaling=10, solver=liblinear \n",
      "[CV]  C=1.0, fit_intercept=True, intercept_scaling=10, solver=liblinear, score=0.5945945945945946, total=   0.3s\n",
      "[CV] C=1.0, fit_intercept=True, intercept_scaling=10, solver=saga ....\n",
      "[CV]  C=1.0, fit_intercept=True, intercept_scaling=10, solver=saga, score=0.4983164983164983, total=   0.1s\n",
      "[CV] C=1.0, fit_intercept=True, intercept_scaling=10, solver=saga ....\n",
      "[CV]  C=1.0, fit_intercept=True, intercept_scaling=10, solver=saga, score=0.5117845117845118, total=   0.1s\n",
      "[CV] C=1.0, fit_intercept=True, intercept_scaling=10, solver=saga ....\n",
      "[CV]  C=1.0, fit_intercept=True, intercept_scaling=10, solver=saga, score=0.5118243243243243, total=   0.1s\n",
      "[CV] C=1.0, fit_intercept=True, intercept_scaling=25, solver=liblinear \n"
     ]
    },
    {
     "name": "stderr",
     "output_type": "stream",
     "text": [
      "/anaconda3/lib/python3.7/site-packages/sklearn/linear_model/sag.py:334: ConvergenceWarning: The max_iter was reached which means the coef_ did not converge\n",
      "  \"the coef_ did not converge\", ConvergenceWarning)\n",
      "/anaconda3/lib/python3.7/site-packages/sklearn/linear_model/sag.py:334: ConvergenceWarning: The max_iter was reached which means the coef_ did not converge\n",
      "  \"the coef_ did not converge\", ConvergenceWarning)\n",
      "/anaconda3/lib/python3.7/site-packages/sklearn/linear_model/sag.py:334: ConvergenceWarning: The max_iter was reached which means the coef_ did not converge\n",
      "  \"the coef_ did not converge\", ConvergenceWarning)\n",
      "/anaconda3/lib/python3.7/site-packages/sklearn/svm/base.py:931: ConvergenceWarning: Liblinear failed to converge, increase the number of iterations.\n",
      "  \"the number of iterations.\", ConvergenceWarning)\n"
     ]
    },
    {
     "name": "stdout",
     "output_type": "stream",
     "text": [
      "[CV]  C=1.0, fit_intercept=True, intercept_scaling=25, solver=liblinear, score=0.5808080808080808, total=   0.1s\n",
      "[CV] C=1.0, fit_intercept=True, intercept_scaling=25, solver=liblinear \n",
      "[CV]  C=1.0, fit_intercept=True, intercept_scaling=25, solver=liblinear, score=0.5791245791245792, total=   0.1s\n",
      "[CV] C=1.0, fit_intercept=True, intercept_scaling=25, solver=liblinear \n"
     ]
    },
    {
     "name": "stderr",
     "output_type": "stream",
     "text": [
      "/anaconda3/lib/python3.7/site-packages/sklearn/svm/base.py:931: ConvergenceWarning: Liblinear failed to converge, increase the number of iterations.\n",
      "  \"the number of iterations.\", ConvergenceWarning)\n",
      "/anaconda3/lib/python3.7/site-packages/sklearn/linear_model/sag.py:334: ConvergenceWarning: The max_iter was reached which means the coef_ did not converge\n",
      "  \"the coef_ did not converge\", ConvergenceWarning)\n",
      "/anaconda3/lib/python3.7/site-packages/sklearn/linear_model/sag.py:334: ConvergenceWarning: The max_iter was reached which means the coef_ did not converge\n",
      "  \"the coef_ did not converge\", ConvergenceWarning)\n",
      "/anaconda3/lib/python3.7/site-packages/sklearn/linear_model/sag.py:334: ConvergenceWarning: The max_iter was reached which means the coef_ did not converge\n",
      "  \"the coef_ did not converge\", ConvergenceWarning)\n"
     ]
    },
    {
     "name": "stdout",
     "output_type": "stream",
     "text": [
      "[CV]  C=1.0, fit_intercept=True, intercept_scaling=25, solver=liblinear, score=0.5929054054054054, total=   0.3s\n",
      "[CV] C=1.0, fit_intercept=True, intercept_scaling=25, solver=saga ....\n",
      "[CV]  C=1.0, fit_intercept=True, intercept_scaling=25, solver=saga, score=0.5, total=   0.1s\n",
      "[CV] C=1.0, fit_intercept=True, intercept_scaling=25, solver=saga ....\n",
      "[CV]  C=1.0, fit_intercept=True, intercept_scaling=25, solver=saga, score=0.5168350168350169, total=   0.1s\n",
      "[CV] C=1.0, fit_intercept=True, intercept_scaling=25, solver=saga ....\n",
      "[CV]  C=1.0, fit_intercept=True, intercept_scaling=25, solver=saga, score=0.5135135135135135, total=   0.1s\n",
      "[CV] C=1.0, fit_intercept=True, intercept_scaling=50, solver=liblinear \n"
     ]
    },
    {
     "name": "stderr",
     "output_type": "stream",
     "text": [
      "/anaconda3/lib/python3.7/site-packages/sklearn/svm/base.py:931: ConvergenceWarning: Liblinear failed to converge, increase the number of iterations.\n",
      "  \"the number of iterations.\", ConvergenceWarning)\n"
     ]
    },
    {
     "name": "stdout",
     "output_type": "stream",
     "text": [
      "[CV]  C=1.0, fit_intercept=True, intercept_scaling=50, solver=liblinear, score=0.5808080808080808, total=   0.2s\n",
      "[CV] C=1.0, fit_intercept=True, intercept_scaling=50, solver=liblinear \n",
      "[CV]  C=1.0, fit_intercept=True, intercept_scaling=50, solver=liblinear, score=0.5791245791245792, total=   0.2s\n",
      "[CV] C=1.0, fit_intercept=True, intercept_scaling=50, solver=liblinear \n"
     ]
    },
    {
     "name": "stderr",
     "output_type": "stream",
     "text": [
      "/anaconda3/lib/python3.7/site-packages/sklearn/svm/base.py:931: ConvergenceWarning: Liblinear failed to converge, increase the number of iterations.\n",
      "  \"the number of iterations.\", ConvergenceWarning)\n",
      "/anaconda3/lib/python3.7/site-packages/sklearn/linear_model/sag.py:334: ConvergenceWarning: The max_iter was reached which means the coef_ did not converge\n",
      "  \"the coef_ did not converge\", ConvergenceWarning)\n",
      "/anaconda3/lib/python3.7/site-packages/sklearn/linear_model/sag.py:334: ConvergenceWarning: The max_iter was reached which means the coef_ did not converge\n",
      "  \"the coef_ did not converge\", ConvergenceWarning)\n"
     ]
    },
    {
     "name": "stdout",
     "output_type": "stream",
     "text": [
      "[CV]  C=1.0, fit_intercept=True, intercept_scaling=50, solver=liblinear, score=0.5929054054054054, total=   0.3s\n",
      "[CV] C=1.0, fit_intercept=True, intercept_scaling=50, solver=saga ....\n",
      "[CV]  C=1.0, fit_intercept=True, intercept_scaling=50, solver=saga, score=0.5, total=   0.1s\n",
      "[CV] C=1.0, fit_intercept=True, intercept_scaling=50, solver=saga ....\n",
      "[CV]  C=1.0, fit_intercept=True, intercept_scaling=50, solver=saga, score=0.51010101010101, total=   0.1s\n",
      "[CV] C=1.0, fit_intercept=True, intercept_scaling=50, solver=saga ....\n",
      "[CV]  C=1.0, fit_intercept=True, intercept_scaling=50, solver=saga, score=0.5152027027027027, total=   0.1s\n",
      "[CV] C=1.0, fit_intercept=True, intercept_scaling=100, solver=liblinear \n"
     ]
    },
    {
     "name": "stderr",
     "output_type": "stream",
     "text": [
      "/anaconda3/lib/python3.7/site-packages/sklearn/linear_model/sag.py:334: ConvergenceWarning: The max_iter was reached which means the coef_ did not converge\n",
      "  \"the coef_ did not converge\", ConvergenceWarning)\n"
     ]
    },
    {
     "name": "stdout",
     "output_type": "stream",
     "text": [
      "[CV]  C=1.0, fit_intercept=True, intercept_scaling=100, solver=liblinear, score=0.5791245791245792, total=   0.3s\n",
      "[CV] C=1.0, fit_intercept=True, intercept_scaling=100, solver=liblinear \n",
      "[CV]  C=1.0, fit_intercept=True, intercept_scaling=100, solver=liblinear, score=0.5808080808080808, total=   0.2s\n",
      "[CV] C=1.0, fit_intercept=True, intercept_scaling=100, solver=liblinear \n",
      "[CV]  C=1.0, fit_intercept=True, intercept_scaling=100, solver=liblinear, score=0.5962837837837838, total=   0.3s\n",
      "[CV] C=1.0, fit_intercept=True, intercept_scaling=100, solver=saga ...\n",
      "[CV]  C=1.0, fit_intercept=True, intercept_scaling=100, solver=saga, score=0.4983164983164983, total=   0.1s\n",
      "[CV] C=1.0, fit_intercept=True, intercept_scaling=100, solver=saga ...\n",
      "[CV]  C=1.0, fit_intercept=True, intercept_scaling=100, solver=saga, score=0.5117845117845118, total=   0.1s\n",
      "[CV] C=1.0, fit_intercept=True, intercept_scaling=100, solver=saga ...\n"
     ]
    },
    {
     "name": "stderr",
     "output_type": "stream",
     "text": [
      "/anaconda3/lib/python3.7/site-packages/sklearn/linear_model/sag.py:334: ConvergenceWarning: The max_iter was reached which means the coef_ did not converge\n",
      "  \"the coef_ did not converge\", ConvergenceWarning)\n",
      "/anaconda3/lib/python3.7/site-packages/sklearn/linear_model/sag.py:334: ConvergenceWarning: The max_iter was reached which means the coef_ did not converge\n",
      "  \"the coef_ did not converge\", ConvergenceWarning)\n",
      "/anaconda3/lib/python3.7/site-packages/sklearn/linear_model/sag.py:334: ConvergenceWarning: The max_iter was reached which means the coef_ did not converge\n",
      "  \"the coef_ did not converge\", ConvergenceWarning)\n"
     ]
    },
    {
     "name": "stdout",
     "output_type": "stream",
     "text": [
      "[CV]  C=1.0, fit_intercept=True, intercept_scaling=100, solver=saga, score=0.5135135135135135, total=   0.1s\n",
      "[CV] C=1.0, fit_intercept=False, intercept_scaling=1, solver=liblinear \n",
      "[CV]  C=1.0, fit_intercept=False, intercept_scaling=1, solver=liblinear, score=0.5757575757575758, total=   0.3s\n",
      "[CV] C=1.0, fit_intercept=False, intercept_scaling=1, solver=liblinear \n",
      "[CV]  C=1.0, fit_intercept=False, intercept_scaling=1, solver=liblinear, score=0.5757575757575758, total=   0.2s\n",
      "[CV] C=1.0, fit_intercept=False, intercept_scaling=1, solver=liblinear \n",
      "[CV]  C=1.0, fit_intercept=False, intercept_scaling=1, solver=liblinear, score=0.5861486486486487, total=   0.3s\n",
      "[CV] C=1.0, fit_intercept=False, intercept_scaling=1, solver=saga ....\n",
      "[CV]  C=1.0, fit_intercept=False, intercept_scaling=1, solver=saga, score=0.5016835016835017, total=   0.1s\n",
      "[CV] C=1.0, fit_intercept=False, intercept_scaling=1, solver=saga ....\n",
      "[CV]  C=1.0, fit_intercept=False, intercept_scaling=1, solver=saga, score=0.5151515151515151, total=   0.1s\n",
      "[CV] C=1.0, fit_intercept=False, intercept_scaling=1, solver=saga ....\n"
     ]
    },
    {
     "name": "stderr",
     "output_type": "stream",
     "text": [
      "/anaconda3/lib/python3.7/site-packages/sklearn/linear_model/sag.py:334: ConvergenceWarning: The max_iter was reached which means the coef_ did not converge\n",
      "  \"the coef_ did not converge\", ConvergenceWarning)\n",
      "/anaconda3/lib/python3.7/site-packages/sklearn/linear_model/sag.py:334: ConvergenceWarning: The max_iter was reached which means the coef_ did not converge\n",
      "  \"the coef_ did not converge\", ConvergenceWarning)\n",
      "/anaconda3/lib/python3.7/site-packages/sklearn/linear_model/sag.py:334: ConvergenceWarning: The max_iter was reached which means the coef_ did not converge\n",
      "  \"the coef_ did not converge\", ConvergenceWarning)\n"
     ]
    },
    {
     "name": "stdout",
     "output_type": "stream",
     "text": [
      "[CV]  C=1.0, fit_intercept=False, intercept_scaling=1, solver=saga, score=0.5118243243243243, total=   0.1s\n",
      "[CV] C=1.0, fit_intercept=False, intercept_scaling=5, solver=liblinear \n",
      "[CV]  C=1.0, fit_intercept=False, intercept_scaling=5, solver=liblinear, score=0.5757575757575758, total=   0.2s\n",
      "[CV] C=1.0, fit_intercept=False, intercept_scaling=5, solver=liblinear \n",
      "[CV]  C=1.0, fit_intercept=False, intercept_scaling=5, solver=liblinear, score=0.5757575757575758, total=   0.2s\n",
      "[CV] C=1.0, fit_intercept=False, intercept_scaling=5, solver=liblinear \n",
      "[CV]  C=1.0, fit_intercept=False, intercept_scaling=5, solver=liblinear, score=0.5861486486486487, total=   0.2s\n",
      "[CV] C=1.0, fit_intercept=False, intercept_scaling=5, solver=saga ....\n",
      "[CV]  C=1.0, fit_intercept=False, intercept_scaling=5, solver=saga, score=0.5, total=   0.1s\n",
      "[CV] C=1.0, fit_intercept=False, intercept_scaling=5, solver=saga ....\n"
     ]
    },
    {
     "name": "stderr",
     "output_type": "stream",
     "text": [
      "/anaconda3/lib/python3.7/site-packages/sklearn/linear_model/sag.py:334: ConvergenceWarning: The max_iter was reached which means the coef_ did not converge\n",
      "  \"the coef_ did not converge\", ConvergenceWarning)\n",
      "/anaconda3/lib/python3.7/site-packages/sklearn/linear_model/sag.py:334: ConvergenceWarning: The max_iter was reached which means the coef_ did not converge\n",
      "  \"the coef_ did not converge\", ConvergenceWarning)\n"
     ]
    },
    {
     "name": "stdout",
     "output_type": "stream",
     "text": [
      "[CV]  C=1.0, fit_intercept=False, intercept_scaling=5, solver=saga, score=0.5134680134680135, total=   0.1s\n",
      "[CV] C=1.0, fit_intercept=False, intercept_scaling=5, solver=saga ....\n",
      "[CV]  C=1.0, fit_intercept=False, intercept_scaling=5, solver=saga, score=0.5118243243243243, total=   0.1s\n",
      "[CV] C=1.0, fit_intercept=False, intercept_scaling=10, solver=liblinear \n"
     ]
    },
    {
     "name": "stderr",
     "output_type": "stream",
     "text": [
      "/anaconda3/lib/python3.7/site-packages/sklearn/linear_model/sag.py:334: ConvergenceWarning: The max_iter was reached which means the coef_ did not converge\n",
      "  \"the coef_ did not converge\", ConvergenceWarning)\n"
     ]
    },
    {
     "name": "stdout",
     "output_type": "stream",
     "text": [
      "[CV]  C=1.0, fit_intercept=False, intercept_scaling=10, solver=liblinear, score=0.5757575757575758, total=   0.2s\n",
      "[CV] C=1.0, fit_intercept=False, intercept_scaling=10, solver=liblinear \n",
      "[CV]  C=1.0, fit_intercept=False, intercept_scaling=10, solver=liblinear, score=0.5757575757575758, total=   0.2s\n",
      "[CV] C=1.0, fit_intercept=False, intercept_scaling=10, solver=liblinear \n",
      "[CV]  C=1.0, fit_intercept=False, intercept_scaling=10, solver=liblinear, score=0.5861486486486487, total=   0.3s\n",
      "[CV] C=1.0, fit_intercept=False, intercept_scaling=10, solver=saga ...\n",
      "[CV]  C=1.0, fit_intercept=False, intercept_scaling=10, solver=saga, score=0.5, total=   0.1s\n",
      "[CV] C=1.0, fit_intercept=False, intercept_scaling=10, solver=saga ...\n",
      "[CV]  C=1.0, fit_intercept=False, intercept_scaling=10, solver=saga, score=0.51010101010101, total=   0.1s\n",
      "[CV] C=1.0, fit_intercept=False, intercept_scaling=10, solver=saga ...\n",
      "[CV]  C=1.0, fit_intercept=False, intercept_scaling=10, solver=saga, score=0.5118243243243243, total=   0.1s\n",
      "[CV] C=1.0, fit_intercept=False, intercept_scaling=25, solver=liblinear \n"
     ]
    },
    {
     "name": "stderr",
     "output_type": "stream",
     "text": [
      "/anaconda3/lib/python3.7/site-packages/sklearn/linear_model/sag.py:334: ConvergenceWarning: The max_iter was reached which means the coef_ did not converge\n",
      "  \"the coef_ did not converge\", ConvergenceWarning)\n",
      "/anaconda3/lib/python3.7/site-packages/sklearn/linear_model/sag.py:334: ConvergenceWarning: The max_iter was reached which means the coef_ did not converge\n",
      "  \"the coef_ did not converge\", ConvergenceWarning)\n",
      "/anaconda3/lib/python3.7/site-packages/sklearn/linear_model/sag.py:334: ConvergenceWarning: The max_iter was reached which means the coef_ did not converge\n",
      "  \"the coef_ did not converge\", ConvergenceWarning)\n"
     ]
    },
    {
     "name": "stdout",
     "output_type": "stream",
     "text": [
      "[CV]  C=1.0, fit_intercept=False, intercept_scaling=25, solver=liblinear, score=0.5757575757575758, total=   0.2s\n",
      "[CV] C=1.0, fit_intercept=False, intercept_scaling=25, solver=liblinear \n",
      "[CV]  C=1.0, fit_intercept=False, intercept_scaling=25, solver=liblinear, score=0.5757575757575758, total=   0.2s\n",
      "[CV] C=1.0, fit_intercept=False, intercept_scaling=25, solver=liblinear \n",
      "[CV]  C=1.0, fit_intercept=False, intercept_scaling=25, solver=liblinear, score=0.5861486486486487, total=   0.3s\n",
      "[CV] C=1.0, fit_intercept=False, intercept_scaling=25, solver=saga ...\n",
      "[CV]  C=1.0, fit_intercept=False, intercept_scaling=25, solver=saga, score=0.5, total=   0.1s\n",
      "[CV] C=1.0, fit_intercept=False, intercept_scaling=25, solver=saga ...\n",
      "[CV]  C=1.0, fit_intercept=False, intercept_scaling=25, solver=saga, score=0.5168350168350169, total=   0.1s\n",
      "[CV] C=1.0, fit_intercept=False, intercept_scaling=25, solver=saga ...\n",
      "[CV]  C=1.0, fit_intercept=False, intercept_scaling=25, solver=saga, score=0.5101351351351351, total=   0.1s\n",
      "[CV] C=1.0, fit_intercept=False, intercept_scaling=50, solver=liblinear \n"
     ]
    },
    {
     "name": "stderr",
     "output_type": "stream",
     "text": [
      "/anaconda3/lib/python3.7/site-packages/sklearn/linear_model/sag.py:334: ConvergenceWarning: The max_iter was reached which means the coef_ did not converge\n",
      "  \"the coef_ did not converge\", ConvergenceWarning)\n",
      "/anaconda3/lib/python3.7/site-packages/sklearn/linear_model/sag.py:334: ConvergenceWarning: The max_iter was reached which means the coef_ did not converge\n",
      "  \"the coef_ did not converge\", ConvergenceWarning)\n",
      "/anaconda3/lib/python3.7/site-packages/sklearn/linear_model/sag.py:334: ConvergenceWarning: The max_iter was reached which means the coef_ did not converge\n",
      "  \"the coef_ did not converge\", ConvergenceWarning)\n"
     ]
    },
    {
     "name": "stdout",
     "output_type": "stream",
     "text": [
      "[CV]  C=1.0, fit_intercept=False, intercept_scaling=50, solver=liblinear, score=0.5757575757575758, total=   0.2s\n",
      "[CV] C=1.0, fit_intercept=False, intercept_scaling=50, solver=liblinear \n",
      "[CV]  C=1.0, fit_intercept=False, intercept_scaling=50, solver=liblinear, score=0.5757575757575758, total=   0.2s\n",
      "[CV] C=1.0, fit_intercept=False, intercept_scaling=50, solver=liblinear \n",
      "[CV]  C=1.0, fit_intercept=False, intercept_scaling=50, solver=liblinear, score=0.5861486486486487, total=   0.3s\n",
      "[CV] C=1.0, fit_intercept=False, intercept_scaling=50, solver=saga ...\n",
      "[CV]  C=1.0, fit_intercept=False, intercept_scaling=50, solver=saga, score=0.5, total=   0.1s\n",
      "[CV] C=1.0, fit_intercept=False, intercept_scaling=50, solver=saga ...\n",
      "[CV]  C=1.0, fit_intercept=False, intercept_scaling=50, solver=saga, score=0.5151515151515151, total=   0.1s\n",
      "[CV] C=1.0, fit_intercept=False, intercept_scaling=50, solver=saga ...\n"
     ]
    },
    {
     "name": "stderr",
     "output_type": "stream",
     "text": [
      "/anaconda3/lib/python3.7/site-packages/sklearn/linear_model/sag.py:334: ConvergenceWarning: The max_iter was reached which means the coef_ did not converge\n",
      "  \"the coef_ did not converge\", ConvergenceWarning)\n",
      "/anaconda3/lib/python3.7/site-packages/sklearn/linear_model/sag.py:334: ConvergenceWarning: The max_iter was reached which means the coef_ did not converge\n",
      "  \"the coef_ did not converge\", ConvergenceWarning)\n",
      "/anaconda3/lib/python3.7/site-packages/sklearn/linear_model/sag.py:334: ConvergenceWarning: The max_iter was reached which means the coef_ did not converge\n",
      "  \"the coef_ did not converge\", ConvergenceWarning)\n"
     ]
    },
    {
     "name": "stdout",
     "output_type": "stream",
     "text": [
      "[CV]  C=1.0, fit_intercept=False, intercept_scaling=50, solver=saga, score=0.5135135135135135, total=   0.1s\n",
      "[CV] C=1.0, fit_intercept=False, intercept_scaling=100, solver=liblinear \n",
      "[CV]  C=1.0, fit_intercept=False, intercept_scaling=100, solver=liblinear, score=0.5757575757575758, total=   0.2s\n",
      "[CV] C=1.0, fit_intercept=False, intercept_scaling=100, solver=liblinear \n",
      "[CV]  C=1.0, fit_intercept=False, intercept_scaling=100, solver=liblinear, score=0.5757575757575758, total=   0.2s\n",
      "[CV] C=1.0, fit_intercept=False, intercept_scaling=100, solver=liblinear \n",
      "[CV]  C=1.0, fit_intercept=False, intercept_scaling=100, solver=liblinear, score=0.5861486486486487, total=   0.3s\n",
      "[CV] C=1.0, fit_intercept=False, intercept_scaling=100, solver=saga ..\n",
      "[CV]  C=1.0, fit_intercept=False, intercept_scaling=100, solver=saga, score=0.5, total=   0.1s\n",
      "[CV] C=1.0, fit_intercept=False, intercept_scaling=100, solver=saga ..\n",
      "[CV]  C=1.0, fit_intercept=False, intercept_scaling=100, solver=saga, score=0.5134680134680135, total=   0.1s\n",
      "[CV] C=1.0, fit_intercept=False, intercept_scaling=100, solver=saga ..\n"
     ]
    },
    {
     "name": "stderr",
     "output_type": "stream",
     "text": [
      "/anaconda3/lib/python3.7/site-packages/sklearn/linear_model/sag.py:334: ConvergenceWarning: The max_iter was reached which means the coef_ did not converge\n",
      "  \"the coef_ did not converge\", ConvergenceWarning)\n",
      "/anaconda3/lib/python3.7/site-packages/sklearn/linear_model/sag.py:334: ConvergenceWarning: The max_iter was reached which means the coef_ did not converge\n",
      "  \"the coef_ did not converge\", ConvergenceWarning)\n",
      "/anaconda3/lib/python3.7/site-packages/sklearn/linear_model/sag.py:334: ConvergenceWarning: The max_iter was reached which means the coef_ did not converge\n",
      "  \"the coef_ did not converge\", ConvergenceWarning)\n"
     ]
    },
    {
     "name": "stdout",
     "output_type": "stream",
     "text": [
      "[CV]  C=1.0, fit_intercept=False, intercept_scaling=100, solver=saga, score=0.5152027027027027, total=   0.1s\n",
      "[CV] C=2.25, fit_intercept=True, intercept_scaling=1, solver=liblinear \n"
     ]
    },
    {
     "name": "stderr",
     "output_type": "stream",
     "text": [
      "/anaconda3/lib/python3.7/site-packages/sklearn/svm/base.py:931: ConvergenceWarning: Liblinear failed to converge, increase the number of iterations.\n",
      "  \"the number of iterations.\", ConvergenceWarning)\n"
     ]
    },
    {
     "name": "stdout",
     "output_type": "stream",
     "text": [
      "[CV]  C=2.25, fit_intercept=True, intercept_scaling=1, solver=liblinear, score=0.5808080808080808, total=   0.3s\n",
      "[CV] C=2.25, fit_intercept=True, intercept_scaling=1, solver=liblinear \n",
      "[CV]  C=2.25, fit_intercept=True, intercept_scaling=1, solver=liblinear, score=0.5791245791245792, total=   0.1s\n",
      "[CV] C=2.25, fit_intercept=True, intercept_scaling=1, solver=liblinear \n",
      "[CV]  C=2.25, fit_intercept=True, intercept_scaling=1, solver=liblinear, score=0.5929054054054054, total=   0.2s\n",
      "[CV] C=2.25, fit_intercept=True, intercept_scaling=1, solver=saga ....\n",
      "[CV]  C=2.25, fit_intercept=True, intercept_scaling=1, solver=saga, score=0.4983164983164983, total=   0.1s\n",
      "[CV] C=2.25, fit_intercept=True, intercept_scaling=1, solver=saga ....\n",
      "[CV]  C=2.25, fit_intercept=True, intercept_scaling=1, solver=saga, score=0.5151515151515151, total=   0.1s\n",
      "[CV] C=2.25, fit_intercept=True, intercept_scaling=1, solver=saga ....\n"
     ]
    },
    {
     "name": "stderr",
     "output_type": "stream",
     "text": [
      "/anaconda3/lib/python3.7/site-packages/sklearn/linear_model/sag.py:334: ConvergenceWarning: The max_iter was reached which means the coef_ did not converge\n",
      "  \"the coef_ did not converge\", ConvergenceWarning)\n",
      "/anaconda3/lib/python3.7/site-packages/sklearn/linear_model/sag.py:334: ConvergenceWarning: The max_iter was reached which means the coef_ did not converge\n",
      "  \"the coef_ did not converge\", ConvergenceWarning)\n",
      "/anaconda3/lib/python3.7/site-packages/sklearn/linear_model/sag.py:334: ConvergenceWarning: The max_iter was reached which means the coef_ did not converge\n",
      "  \"the coef_ did not converge\", ConvergenceWarning)\n"
     ]
    },
    {
     "name": "stdout",
     "output_type": "stream",
     "text": [
      "[CV]  C=2.25, fit_intercept=True, intercept_scaling=1, solver=saga, score=0.5152027027027027, total=   0.1s\n",
      "[CV] C=2.25, fit_intercept=True, intercept_scaling=5, solver=liblinear \n",
      "[CV]  C=2.25, fit_intercept=True, intercept_scaling=5, solver=liblinear, score=0.5791245791245792, total=   0.2s\n",
      "[CV] C=2.25, fit_intercept=True, intercept_scaling=5, solver=liblinear \n"
     ]
    },
    {
     "name": "stderr",
     "output_type": "stream",
     "text": [
      "/anaconda3/lib/python3.7/site-packages/sklearn/svm/base.py:931: ConvergenceWarning: Liblinear failed to converge, increase the number of iterations.\n",
      "  \"the number of iterations.\", ConvergenceWarning)\n"
     ]
    },
    {
     "name": "stdout",
     "output_type": "stream",
     "text": [
      "[CV]  C=2.25, fit_intercept=True, intercept_scaling=5, solver=liblinear, score=0.5808080808080808, total=   0.1s\n",
      "[CV] C=2.25, fit_intercept=True, intercept_scaling=5, solver=liblinear \n"
     ]
    },
    {
     "name": "stderr",
     "output_type": "stream",
     "text": [
      "/anaconda3/lib/python3.7/site-packages/sklearn/svm/base.py:931: ConvergenceWarning: Liblinear failed to converge, increase the number of iterations.\n",
      "  \"the number of iterations.\", ConvergenceWarning)\n",
      "/anaconda3/lib/python3.7/site-packages/sklearn/linear_model/sag.py:334: ConvergenceWarning: The max_iter was reached which means the coef_ did not converge\n",
      "  \"the coef_ did not converge\", ConvergenceWarning)\n",
      "/anaconda3/lib/python3.7/site-packages/sklearn/linear_model/sag.py:334: ConvergenceWarning: The max_iter was reached which means the coef_ did not converge\n",
      "  \"the coef_ did not converge\", ConvergenceWarning)\n"
     ]
    },
    {
     "name": "stdout",
     "output_type": "stream",
     "text": [
      "[CV]  C=2.25, fit_intercept=True, intercept_scaling=5, solver=liblinear, score=0.5912162162162162, total=   0.3s\n",
      "[CV] C=2.25, fit_intercept=True, intercept_scaling=5, solver=saga ....\n",
      "[CV]  C=2.25, fit_intercept=True, intercept_scaling=5, solver=saga, score=0.5, total=   0.1s\n",
      "[CV] C=2.25, fit_intercept=True, intercept_scaling=5, solver=saga ....\n",
      "[CV]  C=2.25, fit_intercept=True, intercept_scaling=5, solver=saga, score=0.5151515151515151, total=   0.1s\n",
      "[CV] C=2.25, fit_intercept=True, intercept_scaling=5, solver=saga ....\n",
      "[CV]  C=2.25, fit_intercept=True, intercept_scaling=5, solver=saga, score=0.5135135135135135, total=   0.1s\n",
      "[CV] C=2.25, fit_intercept=True, intercept_scaling=10, solver=liblinear \n"
     ]
    },
    {
     "name": "stderr",
     "output_type": "stream",
     "text": [
      "/anaconda3/lib/python3.7/site-packages/sklearn/linear_model/sag.py:334: ConvergenceWarning: The max_iter was reached which means the coef_ did not converge\n",
      "  \"the coef_ did not converge\", ConvergenceWarning)\n",
      "/anaconda3/lib/python3.7/site-packages/sklearn/svm/base.py:931: ConvergenceWarning: Liblinear failed to converge, increase the number of iterations.\n",
      "  \"the number of iterations.\", ConvergenceWarning)\n"
     ]
    },
    {
     "name": "stdout",
     "output_type": "stream",
     "text": [
      "[CV]  C=2.25, fit_intercept=True, intercept_scaling=10, solver=liblinear, score=0.5791245791245792, total=   0.2s\n",
      "[CV] C=2.25, fit_intercept=True, intercept_scaling=10, solver=liblinear \n",
      "[CV]  C=2.25, fit_intercept=True, intercept_scaling=10, solver=liblinear, score=0.5808080808080808, total=   0.1s\n",
      "[CV] C=2.25, fit_intercept=True, intercept_scaling=10, solver=liblinear \n",
      "[CV]  C=2.25, fit_intercept=True, intercept_scaling=10, solver=liblinear, score=0.5929054054054054, total=   0.3s\n",
      "[CV] C=2.25, fit_intercept=True, intercept_scaling=10, solver=saga ...\n",
      "[CV]  C=2.25, fit_intercept=True, intercept_scaling=10, solver=saga, score=0.4983164983164983, total=   0.1s\n",
      "[CV] C=2.25, fit_intercept=True, intercept_scaling=10, solver=saga ...\n",
      "[CV]  C=2.25, fit_intercept=True, intercept_scaling=10, solver=saga, score=0.51010101010101, total=   0.1s\n",
      "[CV] C=2.25, fit_intercept=True, intercept_scaling=10, solver=saga ...\n"
     ]
    },
    {
     "name": "stderr",
     "output_type": "stream",
     "text": [
      "/anaconda3/lib/python3.7/site-packages/sklearn/linear_model/sag.py:334: ConvergenceWarning: The max_iter was reached which means the coef_ did not converge\n",
      "  \"the coef_ did not converge\", ConvergenceWarning)\n",
      "/anaconda3/lib/python3.7/site-packages/sklearn/linear_model/sag.py:334: ConvergenceWarning: The max_iter was reached which means the coef_ did not converge\n",
      "  \"the coef_ did not converge\", ConvergenceWarning)\n",
      "/anaconda3/lib/python3.7/site-packages/sklearn/linear_model/sag.py:334: ConvergenceWarning: The max_iter was reached which means the coef_ did not converge\n",
      "  \"the coef_ did not converge\", ConvergenceWarning)\n"
     ]
    },
    {
     "name": "stdout",
     "output_type": "stream",
     "text": [
      "[CV]  C=2.25, fit_intercept=True, intercept_scaling=10, solver=saga, score=0.5118243243243243, total=   0.1s\n",
      "[CV] C=2.25, fit_intercept=True, intercept_scaling=25, solver=liblinear \n"
     ]
    },
    {
     "name": "stderr",
     "output_type": "stream",
     "text": [
      "/anaconda3/lib/python3.7/site-packages/sklearn/svm/base.py:931: ConvergenceWarning: Liblinear failed to converge, increase the number of iterations.\n",
      "  \"the number of iterations.\", ConvergenceWarning)\n"
     ]
    },
    {
     "name": "stdout",
     "output_type": "stream",
     "text": [
      "[CV]  C=2.25, fit_intercept=True, intercept_scaling=25, solver=liblinear, score=0.5774410774410774, total=   0.2s\n",
      "[CV] C=2.25, fit_intercept=True, intercept_scaling=25, solver=liblinear \n",
      "[CV]  C=2.25, fit_intercept=True, intercept_scaling=25, solver=liblinear, score=0.5808080808080808, total=   0.1s\n",
      "[CV] C=2.25, fit_intercept=True, intercept_scaling=25, solver=liblinear \n",
      "[CV]  C=2.25, fit_intercept=True, intercept_scaling=25, solver=liblinear, score=0.5929054054054054, total=   0.3s\n",
      "[CV] C=2.25, fit_intercept=True, intercept_scaling=25, solver=saga ...\n",
      "[CV]  C=2.25, fit_intercept=True, intercept_scaling=25, solver=saga, score=0.4983164983164983, total=   0.1s\n",
      "[CV] C=2.25, fit_intercept=True, intercept_scaling=25, solver=saga ...\n",
      "[CV]  C=2.25, fit_intercept=True, intercept_scaling=25, solver=saga, score=0.5151515151515151, total=   0.1s\n",
      "[CV] C=2.25, fit_intercept=True, intercept_scaling=25, solver=saga ...\n",
      "[CV]  C=2.25, fit_intercept=True, intercept_scaling=25, solver=saga, score=0.5135135135135135, total=   0.1s\n",
      "[CV] C=2.25, fit_intercept=True, intercept_scaling=50, solver=liblinear \n"
     ]
    },
    {
     "name": "stderr",
     "output_type": "stream",
     "text": [
      "/anaconda3/lib/python3.7/site-packages/sklearn/linear_model/sag.py:334: ConvergenceWarning: The max_iter was reached which means the coef_ did not converge\n",
      "  \"the coef_ did not converge\", ConvergenceWarning)\n",
      "/anaconda3/lib/python3.7/site-packages/sklearn/linear_model/sag.py:334: ConvergenceWarning: The max_iter was reached which means the coef_ did not converge\n",
      "  \"the coef_ did not converge\", ConvergenceWarning)\n",
      "/anaconda3/lib/python3.7/site-packages/sklearn/linear_model/sag.py:334: ConvergenceWarning: The max_iter was reached which means the coef_ did not converge\n",
      "  \"the coef_ did not converge\", ConvergenceWarning)\n"
     ]
    },
    {
     "name": "stdout",
     "output_type": "stream",
     "text": [
      "[CV]  C=2.25, fit_intercept=True, intercept_scaling=50, solver=liblinear, score=0.5791245791245792, total=   0.3s\n",
      "[CV] C=2.25, fit_intercept=True, intercept_scaling=50, solver=liblinear \n",
      "[CV]  C=2.25, fit_intercept=True, intercept_scaling=50, solver=liblinear, score=0.5791245791245792, total=   0.1s\n",
      "[CV] C=2.25, fit_intercept=True, intercept_scaling=50, solver=liblinear \n",
      "[CV]  C=2.25, fit_intercept=True, intercept_scaling=50, solver=liblinear, score=0.5912162162162162, total=   0.3s\n",
      "[CV] C=2.25, fit_intercept=True, intercept_scaling=50, solver=saga ...\n",
      "[CV]  C=2.25, fit_intercept=True, intercept_scaling=50, solver=saga, score=0.5016835016835017, total=   0.1s\n",
      "[CV] C=2.25, fit_intercept=True, intercept_scaling=50, solver=saga ...\n",
      "[CV]  C=2.25, fit_intercept=True, intercept_scaling=50, solver=saga, score=0.51010101010101, total=   0.1s\n",
      "[CV] C=2.25, fit_intercept=True, intercept_scaling=50, solver=saga ...\n"
     ]
    },
    {
     "name": "stderr",
     "output_type": "stream",
     "text": [
      "/anaconda3/lib/python3.7/site-packages/sklearn/linear_model/sag.py:334: ConvergenceWarning: The max_iter was reached which means the coef_ did not converge\n",
      "  \"the coef_ did not converge\", ConvergenceWarning)\n",
      "/anaconda3/lib/python3.7/site-packages/sklearn/linear_model/sag.py:334: ConvergenceWarning: The max_iter was reached which means the coef_ did not converge\n",
      "  \"the coef_ did not converge\", ConvergenceWarning)\n",
      "/anaconda3/lib/python3.7/site-packages/sklearn/linear_model/sag.py:334: ConvergenceWarning: The max_iter was reached which means the coef_ did not converge\n",
      "  \"the coef_ did not converge\", ConvergenceWarning)\n"
     ]
    },
    {
     "name": "stdout",
     "output_type": "stream",
     "text": [
      "[CV]  C=2.25, fit_intercept=True, intercept_scaling=50, solver=saga, score=0.5135135135135135, total=   0.1s\n",
      "[CV] C=2.25, fit_intercept=True, intercept_scaling=100, solver=liblinear \n"
     ]
    },
    {
     "name": "stderr",
     "output_type": "stream",
     "text": [
      "/anaconda3/lib/python3.7/site-packages/sklearn/svm/base.py:931: ConvergenceWarning: Liblinear failed to converge, increase the number of iterations.\n",
      "  \"the number of iterations.\", ConvergenceWarning)\n"
     ]
    },
    {
     "name": "stdout",
     "output_type": "stream",
     "text": [
      "[CV]  C=2.25, fit_intercept=True, intercept_scaling=100, solver=liblinear, score=0.5791245791245792, total=   0.2s\n",
      "[CV] C=2.25, fit_intercept=True, intercept_scaling=100, solver=liblinear \n",
      "[CV]  C=2.25, fit_intercept=True, intercept_scaling=100, solver=liblinear, score=0.5808080808080808, total=   0.1s\n",
      "[CV] C=2.25, fit_intercept=True, intercept_scaling=100, solver=liblinear \n",
      "[CV]  C=2.25, fit_intercept=True, intercept_scaling=100, solver=liblinear, score=0.5945945945945946, total=   0.3s\n",
      "[CV] C=2.25, fit_intercept=True, intercept_scaling=100, solver=saga ..\n",
      "[CV]  C=2.25, fit_intercept=True, intercept_scaling=100, solver=saga, score=0.5, total=   0.1s\n",
      "[CV] C=2.25, fit_intercept=True, intercept_scaling=100, solver=saga ..\n",
      "[CV]  C=2.25, fit_intercept=True, intercept_scaling=100, solver=saga, score=0.5151515151515151, total=   0.1s\n",
      "[CV] C=2.25, fit_intercept=True, intercept_scaling=100, solver=saga ..\n"
     ]
    },
    {
     "name": "stderr",
     "output_type": "stream",
     "text": [
      "/anaconda3/lib/python3.7/site-packages/sklearn/linear_model/sag.py:334: ConvergenceWarning: The max_iter was reached which means the coef_ did not converge\n",
      "  \"the coef_ did not converge\", ConvergenceWarning)\n",
      "/anaconda3/lib/python3.7/site-packages/sklearn/linear_model/sag.py:334: ConvergenceWarning: The max_iter was reached which means the coef_ did not converge\n",
      "  \"the coef_ did not converge\", ConvergenceWarning)\n",
      "/anaconda3/lib/python3.7/site-packages/sklearn/linear_model/sag.py:334: ConvergenceWarning: The max_iter was reached which means the coef_ did not converge\n",
      "  \"the coef_ did not converge\", ConvergenceWarning)\n"
     ]
    },
    {
     "name": "stdout",
     "output_type": "stream",
     "text": [
      "[CV]  C=2.25, fit_intercept=True, intercept_scaling=100, solver=saga, score=0.5118243243243243, total=   0.1s\n",
      "[CV] C=2.25, fit_intercept=False, intercept_scaling=1, solver=liblinear \n",
      "[CV]  C=2.25, fit_intercept=False, intercept_scaling=1, solver=liblinear, score=0.5791245791245792, total=   0.2s\n",
      "[CV] C=2.25, fit_intercept=False, intercept_scaling=1, solver=liblinear \n"
     ]
    },
    {
     "name": "stderr",
     "output_type": "stream",
     "text": [
      "/anaconda3/lib/python3.7/site-packages/sklearn/svm/base.py:931: ConvergenceWarning: Liblinear failed to converge, increase the number of iterations.\n",
      "  \"the number of iterations.\", ConvergenceWarning)\n"
     ]
    },
    {
     "name": "stdout",
     "output_type": "stream",
     "text": [
      "[CV]  C=2.25, fit_intercept=False, intercept_scaling=1, solver=liblinear, score=0.5774410774410774, total=   0.1s\n",
      "[CV] C=2.25, fit_intercept=False, intercept_scaling=1, solver=liblinear \n",
      "[CV]  C=2.25, fit_intercept=False, intercept_scaling=1, solver=liblinear, score=0.5827702702702703, total=   0.2s\n",
      "[CV] C=2.25, fit_intercept=False, intercept_scaling=1, solver=saga ...\n",
      "[CV]  C=2.25, fit_intercept=False, intercept_scaling=1, solver=saga, score=0.5016835016835017, total=   0.1s\n",
      "[CV] C=2.25, fit_intercept=False, intercept_scaling=1, solver=saga ...\n",
      "[CV]  C=2.25, fit_intercept=False, intercept_scaling=1, solver=saga, score=0.51010101010101, total=   0.1s\n",
      "[CV] C=2.25, fit_intercept=False, intercept_scaling=1, solver=saga ...\n"
     ]
    },
    {
     "name": "stderr",
     "output_type": "stream",
     "text": [
      "/anaconda3/lib/python3.7/site-packages/sklearn/linear_model/sag.py:334: ConvergenceWarning: The max_iter was reached which means the coef_ did not converge\n",
      "  \"the coef_ did not converge\", ConvergenceWarning)\n",
      "/anaconda3/lib/python3.7/site-packages/sklearn/linear_model/sag.py:334: ConvergenceWarning: The max_iter was reached which means the coef_ did not converge\n",
      "  \"the coef_ did not converge\", ConvergenceWarning)\n",
      "/anaconda3/lib/python3.7/site-packages/sklearn/linear_model/sag.py:334: ConvergenceWarning: The max_iter was reached which means the coef_ did not converge\n",
      "  \"the coef_ did not converge\", ConvergenceWarning)\n"
     ]
    },
    {
     "name": "stdout",
     "output_type": "stream",
     "text": [
      "[CV]  C=2.25, fit_intercept=False, intercept_scaling=1, solver=saga, score=0.5118243243243243, total=   0.1s\n",
      "[CV] C=2.25, fit_intercept=False, intercept_scaling=5, solver=liblinear \n"
     ]
    },
    {
     "name": "stderr",
     "output_type": "stream",
     "text": [
      "/anaconda3/lib/python3.7/site-packages/sklearn/svm/base.py:931: ConvergenceWarning: Liblinear failed to converge, increase the number of iterations.\n",
      "  \"the number of iterations.\", ConvergenceWarning)\n"
     ]
    },
    {
     "name": "stdout",
     "output_type": "stream",
     "text": [
      "[CV]  C=2.25, fit_intercept=False, intercept_scaling=5, solver=liblinear, score=0.5791245791245792, total=   0.2s\n",
      "[CV] C=2.25, fit_intercept=False, intercept_scaling=5, solver=liblinear \n",
      "[CV]  C=2.25, fit_intercept=False, intercept_scaling=5, solver=liblinear, score=0.5774410774410774, total=   0.1s\n",
      "[CV] C=2.25, fit_intercept=False, intercept_scaling=5, solver=liblinear \n",
      "[CV]  C=2.25, fit_intercept=False, intercept_scaling=5, solver=liblinear, score=0.5827702702702703, total=   0.3s\n",
      "[CV] C=2.25, fit_intercept=False, intercept_scaling=5, solver=saga ...\n",
      "[CV]  C=2.25, fit_intercept=False, intercept_scaling=5, solver=saga, score=0.5, total=   0.1s\n",
      "[CV] C=2.25, fit_intercept=False, intercept_scaling=5, solver=saga ...\n",
      "[CV]  C=2.25, fit_intercept=False, intercept_scaling=5, solver=saga, score=0.51010101010101, total=   0.1s\n",
      "[CV] C=2.25, fit_intercept=False, intercept_scaling=5, solver=saga ...\n"
     ]
    },
    {
     "name": "stderr",
     "output_type": "stream",
     "text": [
      "/anaconda3/lib/python3.7/site-packages/sklearn/linear_model/sag.py:334: ConvergenceWarning: The max_iter was reached which means the coef_ did not converge\n",
      "  \"the coef_ did not converge\", ConvergenceWarning)\n",
      "/anaconda3/lib/python3.7/site-packages/sklearn/linear_model/sag.py:334: ConvergenceWarning: The max_iter was reached which means the coef_ did not converge\n",
      "  \"the coef_ did not converge\", ConvergenceWarning)\n",
      "/anaconda3/lib/python3.7/site-packages/sklearn/linear_model/sag.py:334: ConvergenceWarning: The max_iter was reached which means the coef_ did not converge\n",
      "  \"the coef_ did not converge\", ConvergenceWarning)\n"
     ]
    },
    {
     "name": "stdout",
     "output_type": "stream",
     "text": [
      "[CV]  C=2.25, fit_intercept=False, intercept_scaling=5, solver=saga, score=0.5118243243243243, total=   0.1s\n",
      "[CV] C=2.25, fit_intercept=False, intercept_scaling=10, solver=liblinear \n",
      "[CV]  C=2.25, fit_intercept=False, intercept_scaling=10, solver=liblinear, score=0.5791245791245792, total=   0.2s\n",
      "[CV] C=2.25, fit_intercept=False, intercept_scaling=10, solver=liblinear \n"
     ]
    },
    {
     "name": "stderr",
     "output_type": "stream",
     "text": [
      "/anaconda3/lib/python3.7/site-packages/sklearn/svm/base.py:931: ConvergenceWarning: Liblinear failed to converge, increase the number of iterations.\n",
      "  \"the number of iterations.\", ConvergenceWarning)\n"
     ]
    },
    {
     "name": "stdout",
     "output_type": "stream",
     "text": [
      "[CV]  C=2.25, fit_intercept=False, intercept_scaling=10, solver=liblinear, score=0.5774410774410774, total=   0.1s\n",
      "[CV] C=2.25, fit_intercept=False, intercept_scaling=10, solver=liblinear \n",
      "[CV]  C=2.25, fit_intercept=False, intercept_scaling=10, solver=liblinear, score=0.5827702702702703, total=   0.2s\n",
      "[CV] C=2.25, fit_intercept=False, intercept_scaling=10, solver=saga ..\n",
      "[CV]  C=2.25, fit_intercept=False, intercept_scaling=10, solver=saga, score=0.4983164983164983, total=   0.1s\n",
      "[CV] C=2.25, fit_intercept=False, intercept_scaling=10, solver=saga ..\n",
      "[CV]  C=2.25, fit_intercept=False, intercept_scaling=10, solver=saga, score=0.5168350168350169, total=   0.1s\n",
      "[CV] C=2.25, fit_intercept=False, intercept_scaling=10, solver=saga ..\n"
     ]
    },
    {
     "name": "stderr",
     "output_type": "stream",
     "text": [
      "/anaconda3/lib/python3.7/site-packages/sklearn/linear_model/sag.py:334: ConvergenceWarning: The max_iter was reached which means the coef_ did not converge\n",
      "  \"the coef_ did not converge\", ConvergenceWarning)\n",
      "/anaconda3/lib/python3.7/site-packages/sklearn/linear_model/sag.py:334: ConvergenceWarning: The max_iter was reached which means the coef_ did not converge\n",
      "  \"the coef_ did not converge\", ConvergenceWarning)\n",
      "/anaconda3/lib/python3.7/site-packages/sklearn/linear_model/sag.py:334: ConvergenceWarning: The max_iter was reached which means the coef_ did not converge\n",
      "  \"the coef_ did not converge\", ConvergenceWarning)\n"
     ]
    },
    {
     "name": "stdout",
     "output_type": "stream",
     "text": [
      "[CV]  C=2.25, fit_intercept=False, intercept_scaling=10, solver=saga, score=0.5118243243243243, total=   0.1s\n",
      "[CV] C=2.25, fit_intercept=False, intercept_scaling=25, solver=liblinear \n",
      "[CV]  C=2.25, fit_intercept=False, intercept_scaling=25, solver=liblinear, score=0.5791245791245792, total=   0.2s\n",
      "[CV] C=2.25, fit_intercept=False, intercept_scaling=25, solver=liblinear \n"
     ]
    },
    {
     "name": "stderr",
     "output_type": "stream",
     "text": [
      "/anaconda3/lib/python3.7/site-packages/sklearn/svm/base.py:931: ConvergenceWarning: Liblinear failed to converge, increase the number of iterations.\n",
      "  \"the number of iterations.\", ConvergenceWarning)\n"
     ]
    },
    {
     "name": "stdout",
     "output_type": "stream",
     "text": [
      "[CV]  C=2.25, fit_intercept=False, intercept_scaling=25, solver=liblinear, score=0.5774410774410774, total=   0.1s\n",
      "[CV] C=2.25, fit_intercept=False, intercept_scaling=25, solver=liblinear \n",
      "[CV]  C=2.25, fit_intercept=False, intercept_scaling=25, solver=liblinear, score=0.5827702702702703, total=   0.2s\n",
      "[CV] C=2.25, fit_intercept=False, intercept_scaling=25, solver=saga ..\n",
      "[CV]  C=2.25, fit_intercept=False, intercept_scaling=25, solver=saga, score=0.5, total=   0.1s\n",
      "[CV] C=2.25, fit_intercept=False, intercept_scaling=25, solver=saga ..\n",
      "[CV]  C=2.25, fit_intercept=False, intercept_scaling=25, solver=saga, score=0.5151515151515151, total=   0.1s\n",
      "[CV] C=2.25, fit_intercept=False, intercept_scaling=25, solver=saga ..\n",
      "[CV]  C=2.25, fit_intercept=False, intercept_scaling=25, solver=saga, score=0.5118243243243243, total=   0.1s\n",
      "[CV] C=2.25, fit_intercept=False, intercept_scaling=50, solver=liblinear \n"
     ]
    },
    {
     "name": "stderr",
     "output_type": "stream",
     "text": [
      "/anaconda3/lib/python3.7/site-packages/sklearn/linear_model/sag.py:334: ConvergenceWarning: The max_iter was reached which means the coef_ did not converge\n",
      "  \"the coef_ did not converge\", ConvergenceWarning)\n",
      "/anaconda3/lib/python3.7/site-packages/sklearn/linear_model/sag.py:334: ConvergenceWarning: The max_iter was reached which means the coef_ did not converge\n",
      "  \"the coef_ did not converge\", ConvergenceWarning)\n",
      "/anaconda3/lib/python3.7/site-packages/sklearn/linear_model/sag.py:334: ConvergenceWarning: The max_iter was reached which means the coef_ did not converge\n",
      "  \"the coef_ did not converge\", ConvergenceWarning)\n",
      "/anaconda3/lib/python3.7/site-packages/sklearn/svm/base.py:931: ConvergenceWarning: Liblinear failed to converge, increase the number of iterations.\n",
      "  \"the number of iterations.\", ConvergenceWarning)\n"
     ]
    },
    {
     "name": "stdout",
     "output_type": "stream",
     "text": [
      "[CV]  C=2.25, fit_intercept=False, intercept_scaling=50, solver=liblinear, score=0.5791245791245792, total=   0.2s\n",
      "[CV] C=2.25, fit_intercept=False, intercept_scaling=50, solver=liblinear \n",
      "[CV]  C=2.25, fit_intercept=False, intercept_scaling=50, solver=liblinear, score=0.5774410774410774, total=   0.1s\n",
      "[CV] C=2.25, fit_intercept=False, intercept_scaling=50, solver=liblinear \n",
      "[CV]  C=2.25, fit_intercept=False, intercept_scaling=50, solver=liblinear, score=0.5827702702702703, total=   0.2s\n",
      "[CV] C=2.25, fit_intercept=False, intercept_scaling=50, solver=saga ..\n",
      "[CV]  C=2.25, fit_intercept=False, intercept_scaling=50, solver=saga, score=0.4983164983164983, total=   0.1s\n",
      "[CV] C=2.25, fit_intercept=False, intercept_scaling=50, solver=saga ..\n",
      "[CV]  C=2.25, fit_intercept=False, intercept_scaling=50, solver=saga, score=0.5151515151515151, total=   0.1s\n",
      "[CV] C=2.25, fit_intercept=False, intercept_scaling=50, solver=saga ..\n",
      "[CV]  C=2.25, fit_intercept=False, intercept_scaling=50, solver=saga, score=0.5118243243243243, total=   0.1s\n",
      "[CV] C=2.25, fit_intercept=False, intercept_scaling=100, solver=liblinear \n"
     ]
    },
    {
     "name": "stderr",
     "output_type": "stream",
     "text": [
      "/anaconda3/lib/python3.7/site-packages/sklearn/linear_model/sag.py:334: ConvergenceWarning: The max_iter was reached which means the coef_ did not converge\n",
      "  \"the coef_ did not converge\", ConvergenceWarning)\n",
      "/anaconda3/lib/python3.7/site-packages/sklearn/linear_model/sag.py:334: ConvergenceWarning: The max_iter was reached which means the coef_ did not converge\n",
      "  \"the coef_ did not converge\", ConvergenceWarning)\n",
      "/anaconda3/lib/python3.7/site-packages/sklearn/linear_model/sag.py:334: ConvergenceWarning: The max_iter was reached which means the coef_ did not converge\n",
      "  \"the coef_ did not converge\", ConvergenceWarning)\n",
      "/anaconda3/lib/python3.7/site-packages/sklearn/svm/base.py:931: ConvergenceWarning: Liblinear failed to converge, increase the number of iterations.\n",
      "  \"the number of iterations.\", ConvergenceWarning)\n"
     ]
    },
    {
     "name": "stdout",
     "output_type": "stream",
     "text": [
      "[CV]  C=2.25, fit_intercept=False, intercept_scaling=100, solver=liblinear, score=0.5791245791245792, total=   0.2s\n",
      "[CV] C=2.25, fit_intercept=False, intercept_scaling=100, solver=liblinear \n",
      "[CV]  C=2.25, fit_intercept=False, intercept_scaling=100, solver=liblinear, score=0.5774410774410774, total=   0.1s\n",
      "[CV] C=2.25, fit_intercept=False, intercept_scaling=100, solver=liblinear \n",
      "[CV]  C=2.25, fit_intercept=False, intercept_scaling=100, solver=liblinear, score=0.5827702702702703, total=   0.2s\n",
      "[CV] C=2.25, fit_intercept=False, intercept_scaling=100, solver=saga .\n",
      "[CV]  C=2.25, fit_intercept=False, intercept_scaling=100, solver=saga, score=0.5, total=   0.1s\n",
      "[CV] C=2.25, fit_intercept=False, intercept_scaling=100, solver=saga .\n",
      "[CV]  C=2.25, fit_intercept=False, intercept_scaling=100, solver=saga, score=0.5117845117845118, total=   0.1s\n",
      "[CV] C=2.25, fit_intercept=False, intercept_scaling=100, solver=saga .\n",
      "[CV]  C=2.25, fit_intercept=False, intercept_scaling=100, solver=saga, score=0.5135135135135135, total=   0.1s\n",
      "[CV] C=5.0625, fit_intercept=True, intercept_scaling=1, solver=liblinear \n"
     ]
    },
    {
     "name": "stderr",
     "output_type": "stream",
     "text": [
      "/anaconda3/lib/python3.7/site-packages/sklearn/linear_model/sag.py:334: ConvergenceWarning: The max_iter was reached which means the coef_ did not converge\n",
      "  \"the coef_ did not converge\", ConvergenceWarning)\n",
      "/anaconda3/lib/python3.7/site-packages/sklearn/linear_model/sag.py:334: ConvergenceWarning: The max_iter was reached which means the coef_ did not converge\n",
      "  \"the coef_ did not converge\", ConvergenceWarning)\n",
      "/anaconda3/lib/python3.7/site-packages/sklearn/linear_model/sag.py:334: ConvergenceWarning: The max_iter was reached which means the coef_ did not converge\n",
      "  \"the coef_ did not converge\", ConvergenceWarning)\n"
     ]
    },
    {
     "name": "stdout",
     "output_type": "stream",
     "text": [
      "[CV]  C=5.0625, fit_intercept=True, intercept_scaling=1, solver=liblinear, score=0.5774410774410774, total=   0.2s\n",
      "[CV] C=5.0625, fit_intercept=True, intercept_scaling=1, solver=liblinear \n",
      "[CV]  C=5.0625, fit_intercept=True, intercept_scaling=1, solver=liblinear, score=0.5808080808080808, total=   0.2s\n",
      "[CV] C=5.0625, fit_intercept=True, intercept_scaling=1, solver=liblinear \n",
      "[CV]  C=5.0625, fit_intercept=True, intercept_scaling=1, solver=liblinear, score=0.5962837837837838, total=   0.3s\n",
      "[CV] C=5.0625, fit_intercept=True, intercept_scaling=1, solver=saga ..\n",
      "[CV]  C=5.0625, fit_intercept=True, intercept_scaling=1, solver=saga, score=0.5, total=   0.1s\n",
      "[CV] C=5.0625, fit_intercept=True, intercept_scaling=1, solver=saga ..\n"
     ]
    },
    {
     "name": "stderr",
     "output_type": "stream",
     "text": [
      "/anaconda3/lib/python3.7/site-packages/sklearn/linear_model/sag.py:334: ConvergenceWarning: The max_iter was reached which means the coef_ did not converge\n",
      "  \"the coef_ did not converge\", ConvergenceWarning)\n",
      "/anaconda3/lib/python3.7/site-packages/sklearn/linear_model/sag.py:334: ConvergenceWarning: The max_iter was reached which means the coef_ did not converge\n",
      "  \"the coef_ did not converge\", ConvergenceWarning)\n",
      "/anaconda3/lib/python3.7/site-packages/sklearn/linear_model/sag.py:334: ConvergenceWarning: The max_iter was reached which means the coef_ did not converge\n",
      "  \"the coef_ did not converge\", ConvergenceWarning)\n"
     ]
    },
    {
     "name": "stdout",
     "output_type": "stream",
     "text": [
      "[CV]  C=5.0625, fit_intercept=True, intercept_scaling=1, solver=saga, score=0.5151515151515151, total=   0.1s\n",
      "[CV] C=5.0625, fit_intercept=True, intercept_scaling=1, solver=saga ..\n",
      "[CV]  C=5.0625, fit_intercept=True, intercept_scaling=1, solver=saga, score=0.5118243243243243, total=   0.1s\n",
      "[CV] C=5.0625, fit_intercept=True, intercept_scaling=5, solver=liblinear \n"
     ]
    },
    {
     "name": "stderr",
     "output_type": "stream",
     "text": [
      "/anaconda3/lib/python3.7/site-packages/sklearn/svm/base.py:931: ConvergenceWarning: Liblinear failed to converge, increase the number of iterations.\n",
      "  \"the number of iterations.\", ConvergenceWarning)\n"
     ]
    },
    {
     "name": "stdout",
     "output_type": "stream",
     "text": [
      "[CV]  C=5.0625, fit_intercept=True, intercept_scaling=5, solver=liblinear, score=0.5824915824915825, total=   0.2s\n",
      "[CV] C=5.0625, fit_intercept=True, intercept_scaling=5, solver=liblinear \n",
      "[CV]  C=5.0625, fit_intercept=True, intercept_scaling=5, solver=liblinear, score=0.5808080808080808, total=   0.1s\n",
      "[CV] C=5.0625, fit_intercept=True, intercept_scaling=5, solver=liblinear \n"
     ]
    },
    {
     "name": "stderr",
     "output_type": "stream",
     "text": [
      "/anaconda3/lib/python3.7/site-packages/sklearn/svm/base.py:931: ConvergenceWarning: Liblinear failed to converge, increase the number of iterations.\n",
      "  \"the number of iterations.\", ConvergenceWarning)\n",
      "/anaconda3/lib/python3.7/site-packages/sklearn/linear_model/sag.py:334: ConvergenceWarning: The max_iter was reached which means the coef_ did not converge\n",
      "  \"the coef_ did not converge\", ConvergenceWarning)\n",
      "/anaconda3/lib/python3.7/site-packages/sklearn/linear_model/sag.py:334: ConvergenceWarning: The max_iter was reached which means the coef_ did not converge\n",
      "  \"the coef_ did not converge\", ConvergenceWarning)\n"
     ]
    },
    {
     "name": "stdout",
     "output_type": "stream",
     "text": [
      "[CV]  C=5.0625, fit_intercept=True, intercept_scaling=5, solver=liblinear, score=0.5929054054054054, total=   0.3s\n",
      "[CV] C=5.0625, fit_intercept=True, intercept_scaling=5, solver=saga ..\n",
      "[CV]  C=5.0625, fit_intercept=True, intercept_scaling=5, solver=saga, score=0.5016835016835017, total=   0.1s\n",
      "[CV] C=5.0625, fit_intercept=True, intercept_scaling=5, solver=saga ..\n",
      "[CV]  C=5.0625, fit_intercept=True, intercept_scaling=5, solver=saga, score=0.5117845117845118, total=   0.1s\n",
      "[CV] C=5.0625, fit_intercept=True, intercept_scaling=5, solver=saga ..\n"
     ]
    },
    {
     "name": "stderr",
     "output_type": "stream",
     "text": [
      "/anaconda3/lib/python3.7/site-packages/sklearn/linear_model/sag.py:334: ConvergenceWarning: The max_iter was reached which means the coef_ did not converge\n",
      "  \"the coef_ did not converge\", ConvergenceWarning)\n",
      "/anaconda3/lib/python3.7/site-packages/sklearn/svm/base.py:931: ConvergenceWarning: Liblinear failed to converge, increase the number of iterations.\n",
      "  \"the number of iterations.\", ConvergenceWarning)\n"
     ]
    },
    {
     "name": "stdout",
     "output_type": "stream",
     "text": [
      "[CV]  C=5.0625, fit_intercept=True, intercept_scaling=5, solver=saga, score=0.5135135135135135, total=   0.1s\n",
      "[CV] C=5.0625, fit_intercept=True, intercept_scaling=10, solver=liblinear \n",
      "[CV]  C=5.0625, fit_intercept=True, intercept_scaling=10, solver=liblinear, score=0.5824915824915825, total=   0.2s\n",
      "[CV] C=5.0625, fit_intercept=True, intercept_scaling=10, solver=liblinear \n",
      "[CV]  C=5.0625, fit_intercept=True, intercept_scaling=10, solver=liblinear, score=0.5808080808080808, total=   0.2s\n",
      "[CV] C=5.0625, fit_intercept=True, intercept_scaling=10, solver=liblinear \n",
      "[CV]  C=5.0625, fit_intercept=True, intercept_scaling=10, solver=liblinear, score=0.5929054054054054, total=   0.2s\n",
      "[CV] C=5.0625, fit_intercept=True, intercept_scaling=10, solver=saga .\n",
      "[CV]  C=5.0625, fit_intercept=True, intercept_scaling=10, solver=saga, score=0.4983164983164983, total=   0.1s\n",
      "[CV] C=5.0625, fit_intercept=True, intercept_scaling=10, solver=saga .\n",
      "[CV]  C=5.0625, fit_intercept=True, intercept_scaling=10, solver=saga, score=0.5151515151515151, total=   0.1s\n",
      "[CV] C=5.0625, fit_intercept=True, intercept_scaling=10, solver=saga .\n",
      "[CV]  C=5.0625, fit_intercept=True, intercept_scaling=10, solver=saga, score=0.5118243243243243, total=   0.1s\n",
      "[CV] C=5.0625, fit_intercept=True, intercept_scaling=25, solver=liblinear \n"
     ]
    },
    {
     "name": "stderr",
     "output_type": "stream",
     "text": [
      "/anaconda3/lib/python3.7/site-packages/sklearn/linear_model/sag.py:334: ConvergenceWarning: The max_iter was reached which means the coef_ did not converge\n",
      "  \"the coef_ did not converge\", ConvergenceWarning)\n",
      "/anaconda3/lib/python3.7/site-packages/sklearn/linear_model/sag.py:334: ConvergenceWarning: The max_iter was reached which means the coef_ did not converge\n",
      "  \"the coef_ did not converge\", ConvergenceWarning)\n",
      "/anaconda3/lib/python3.7/site-packages/sklearn/linear_model/sag.py:334: ConvergenceWarning: The max_iter was reached which means the coef_ did not converge\n",
      "  \"the coef_ did not converge\", ConvergenceWarning)\n",
      "/anaconda3/lib/python3.7/site-packages/sklearn/svm/base.py:931: ConvergenceWarning: Liblinear failed to converge, increase the number of iterations.\n",
      "  \"the number of iterations.\", ConvergenceWarning)\n"
     ]
    },
    {
     "name": "stdout",
     "output_type": "stream",
     "text": [
      "[CV]  C=5.0625, fit_intercept=True, intercept_scaling=25, solver=liblinear, score=0.5841750841750841, total=   0.1s\n",
      "[CV] C=5.0625, fit_intercept=True, intercept_scaling=25, solver=liblinear \n",
      "[CV]  C=5.0625, fit_intercept=True, intercept_scaling=25, solver=liblinear, score=0.5791245791245792, total=   0.1s\n",
      "[CV] C=5.0625, fit_intercept=True, intercept_scaling=25, solver=liblinear \n",
      "[CV]  C=5.0625, fit_intercept=True, intercept_scaling=25, solver=liblinear, score=0.5945945945945946, total=   0.3s\n",
      "[CV] C=5.0625, fit_intercept=True, intercept_scaling=25, solver=saga .\n",
      "[CV]  C=5.0625, fit_intercept=True, intercept_scaling=25, solver=saga, score=0.5, total=   0.1s\n",
      "[CV] C=5.0625, fit_intercept=True, intercept_scaling=25, solver=saga .\n",
      "[CV]  C=5.0625, fit_intercept=True, intercept_scaling=25, solver=saga, score=0.5151515151515151, total=   0.1s\n",
      "[CV] C=5.0625, fit_intercept=True, intercept_scaling=25, solver=saga .\n",
      "[CV]  C=5.0625, fit_intercept=True, intercept_scaling=25, solver=saga, score=0.5118243243243243, total=   0.1s\n",
      "[CV] C=5.0625, fit_intercept=True, intercept_scaling=50, solver=liblinear \n"
     ]
    },
    {
     "name": "stderr",
     "output_type": "stream",
     "text": [
      "/anaconda3/lib/python3.7/site-packages/sklearn/linear_model/sag.py:334: ConvergenceWarning: The max_iter was reached which means the coef_ did not converge\n",
      "  \"the coef_ did not converge\", ConvergenceWarning)\n",
      "/anaconda3/lib/python3.7/site-packages/sklearn/linear_model/sag.py:334: ConvergenceWarning: The max_iter was reached which means the coef_ did not converge\n",
      "  \"the coef_ did not converge\", ConvergenceWarning)\n",
      "/anaconda3/lib/python3.7/site-packages/sklearn/linear_model/sag.py:334: ConvergenceWarning: The max_iter was reached which means the coef_ did not converge\n",
      "  \"the coef_ did not converge\", ConvergenceWarning)\n",
      "/anaconda3/lib/python3.7/site-packages/sklearn/svm/base.py:931: ConvergenceWarning: Liblinear failed to converge, increase the number of iterations.\n",
      "  \"the number of iterations.\", ConvergenceWarning)\n"
     ]
    },
    {
     "name": "stdout",
     "output_type": "stream",
     "text": [
      "[CV]  C=5.0625, fit_intercept=True, intercept_scaling=50, solver=liblinear, score=0.5892255892255892, total=   0.1s\n",
      "[CV] C=5.0625, fit_intercept=True, intercept_scaling=50, solver=liblinear \n",
      "[CV]  C=5.0625, fit_intercept=True, intercept_scaling=50, solver=liblinear, score=0.5808080808080808, total=   0.1s\n",
      "[CV] C=5.0625, fit_intercept=True, intercept_scaling=50, solver=liblinear \n",
      "[CV]  C=5.0625, fit_intercept=True, intercept_scaling=50, solver=liblinear, score=0.5945945945945946, total=   0.3s\n",
      "[CV] C=5.0625, fit_intercept=True, intercept_scaling=50, solver=saga .\n",
      "[CV]  C=5.0625, fit_intercept=True, intercept_scaling=50, solver=saga, score=0.5, total=   0.1s\n",
      "[CV] C=5.0625, fit_intercept=True, intercept_scaling=50, solver=saga .\n",
      "[CV]  C=5.0625, fit_intercept=True, intercept_scaling=50, solver=saga, score=0.5134680134680135, total=   0.1s\n",
      "[CV] C=5.0625, fit_intercept=True, intercept_scaling=50, solver=saga .\n",
      "[CV]  C=5.0625, fit_intercept=True, intercept_scaling=50, solver=saga, score=0.5118243243243243, total=   0.1s\n",
      "[CV] C=5.0625, fit_intercept=True, intercept_scaling=100, solver=liblinear \n"
     ]
    },
    {
     "name": "stderr",
     "output_type": "stream",
     "text": [
      "/anaconda3/lib/python3.7/site-packages/sklearn/linear_model/sag.py:334: ConvergenceWarning: The max_iter was reached which means the coef_ did not converge\n",
      "  \"the coef_ did not converge\", ConvergenceWarning)\n",
      "/anaconda3/lib/python3.7/site-packages/sklearn/linear_model/sag.py:334: ConvergenceWarning: The max_iter was reached which means the coef_ did not converge\n",
      "  \"the coef_ did not converge\", ConvergenceWarning)\n",
      "/anaconda3/lib/python3.7/site-packages/sklearn/linear_model/sag.py:334: ConvergenceWarning: The max_iter was reached which means the coef_ did not converge\n",
      "  \"the coef_ did not converge\", ConvergenceWarning)\n",
      "/anaconda3/lib/python3.7/site-packages/sklearn/svm/base.py:931: ConvergenceWarning: Liblinear failed to converge, increase the number of iterations.\n",
      "  \"the number of iterations.\", ConvergenceWarning)\n"
     ]
    },
    {
     "name": "stdout",
     "output_type": "stream",
     "text": [
      "[CV]  C=5.0625, fit_intercept=True, intercept_scaling=100, solver=liblinear, score=0.5757575757575758, total=   0.2s\n",
      "[CV] C=5.0625, fit_intercept=True, intercept_scaling=100, solver=liblinear \n",
      "[CV]  C=5.0625, fit_intercept=True, intercept_scaling=100, solver=liblinear, score=0.5808080808080808, total=   0.1s\n",
      "[CV] C=5.0625, fit_intercept=True, intercept_scaling=100, solver=liblinear \n"
     ]
    },
    {
     "name": "stderr",
     "output_type": "stream",
     "text": [
      "/anaconda3/lib/python3.7/site-packages/sklearn/svm/base.py:931: ConvergenceWarning: Liblinear failed to converge, increase the number of iterations.\n",
      "  \"the number of iterations.\", ConvergenceWarning)\n",
      "/anaconda3/lib/python3.7/site-packages/sklearn/linear_model/sag.py:334: ConvergenceWarning: The max_iter was reached which means the coef_ did not converge\n",
      "  \"the coef_ did not converge\", ConvergenceWarning)\n",
      "/anaconda3/lib/python3.7/site-packages/sklearn/linear_model/sag.py:334: ConvergenceWarning: The max_iter was reached which means the coef_ did not converge\n",
      "  \"the coef_ did not converge\", ConvergenceWarning)\n",
      "/anaconda3/lib/python3.7/site-packages/sklearn/linear_model/sag.py:334: ConvergenceWarning: The max_iter was reached which means the coef_ did not converge\n",
      "  \"the coef_ did not converge\", ConvergenceWarning)\n"
     ]
    },
    {
     "name": "stdout",
     "output_type": "stream",
     "text": [
      "[CV]  C=5.0625, fit_intercept=True, intercept_scaling=100, solver=liblinear, score=0.5912162162162162, total=   0.2s\n",
      "[CV] C=5.0625, fit_intercept=True, intercept_scaling=100, solver=saga \n",
      "[CV]  C=5.0625, fit_intercept=True, intercept_scaling=100, solver=saga, score=0.5, total=   0.1s\n",
      "[CV] C=5.0625, fit_intercept=True, intercept_scaling=100, solver=saga \n",
      "[CV]  C=5.0625, fit_intercept=True, intercept_scaling=100, solver=saga, score=0.5151515151515151, total=   0.1s\n",
      "[CV] C=5.0625, fit_intercept=True, intercept_scaling=100, solver=saga \n",
      "[CV]  C=5.0625, fit_intercept=True, intercept_scaling=100, solver=saga, score=0.5135135135135135, total=   0.1s\n",
      "[CV] C=5.0625, fit_intercept=False, intercept_scaling=1, solver=liblinear \n",
      "[CV]  C=5.0625, fit_intercept=False, intercept_scaling=1, solver=liblinear, score=0.5791245791245792, total=   0.2s\n",
      "[CV] C=5.0625, fit_intercept=False, intercept_scaling=1, solver=liblinear \n"
     ]
    },
    {
     "name": "stderr",
     "output_type": "stream",
     "text": [
      "/anaconda3/lib/python3.7/site-packages/sklearn/svm/base.py:931: ConvergenceWarning: Liblinear failed to converge, increase the number of iterations.\n",
      "  \"the number of iterations.\", ConvergenceWarning)\n"
     ]
    },
    {
     "name": "stdout",
     "output_type": "stream",
     "text": [
      "[CV]  C=5.0625, fit_intercept=False, intercept_scaling=1, solver=liblinear, score=0.5774410774410774, total=   0.1s\n",
      "[CV] C=5.0625, fit_intercept=False, intercept_scaling=1, solver=liblinear \n",
      "[CV]  C=5.0625, fit_intercept=False, intercept_scaling=1, solver=liblinear, score=0.5861486486486487, total=   0.2s\n",
      "[CV] C=5.0625, fit_intercept=False, intercept_scaling=1, solver=saga .\n",
      "[CV]  C=5.0625, fit_intercept=False, intercept_scaling=1, solver=saga, score=0.4983164983164983, total=   0.1s\n",
      "[CV] C=5.0625, fit_intercept=False, intercept_scaling=1, solver=saga .\n",
      "[CV]  C=5.0625, fit_intercept=False, intercept_scaling=1, solver=saga, score=0.5151515151515151, total=   0.1s\n",
      "[CV] C=5.0625, fit_intercept=False, intercept_scaling=1, solver=saga .\n",
      "[CV]  C=5.0625, fit_intercept=False, intercept_scaling=1, solver=saga, score=0.5135135135135135, total=   0.1s\n",
      "[CV] C=5.0625, fit_intercept=False, intercept_scaling=5, solver=liblinear \n"
     ]
    },
    {
     "name": "stderr",
     "output_type": "stream",
     "text": [
      "/anaconda3/lib/python3.7/site-packages/sklearn/linear_model/sag.py:334: ConvergenceWarning: The max_iter was reached which means the coef_ did not converge\n",
      "  \"the coef_ did not converge\", ConvergenceWarning)\n",
      "/anaconda3/lib/python3.7/site-packages/sklearn/linear_model/sag.py:334: ConvergenceWarning: The max_iter was reached which means the coef_ did not converge\n",
      "  \"the coef_ did not converge\", ConvergenceWarning)\n",
      "/anaconda3/lib/python3.7/site-packages/sklearn/linear_model/sag.py:334: ConvergenceWarning: The max_iter was reached which means the coef_ did not converge\n",
      "  \"the coef_ did not converge\", ConvergenceWarning)\n",
      "/anaconda3/lib/python3.7/site-packages/sklearn/svm/base.py:931: ConvergenceWarning: Liblinear failed to converge, increase the number of iterations.\n",
      "  \"the number of iterations.\", ConvergenceWarning)\n"
     ]
    },
    {
     "name": "stdout",
     "output_type": "stream",
     "text": [
      "[CV]  C=5.0625, fit_intercept=False, intercept_scaling=5, solver=liblinear, score=0.5791245791245792, total=   0.2s\n",
      "[CV] C=5.0625, fit_intercept=False, intercept_scaling=5, solver=liblinear \n",
      "[CV]  C=5.0625, fit_intercept=False, intercept_scaling=5, solver=liblinear, score=0.5774410774410774, total=   0.1s\n",
      "[CV] C=5.0625, fit_intercept=False, intercept_scaling=5, solver=liblinear \n",
      "[CV]  C=5.0625, fit_intercept=False, intercept_scaling=5, solver=liblinear, score=0.5861486486486487, total=   0.2s\n",
      "[CV] C=5.0625, fit_intercept=False, intercept_scaling=5, solver=saga .\n",
      "[CV]  C=5.0625, fit_intercept=False, intercept_scaling=5, solver=saga, score=0.5, total=   0.1s\n",
      "[CV] C=5.0625, fit_intercept=False, intercept_scaling=5, solver=saga .\n",
      "[CV]  C=5.0625, fit_intercept=False, intercept_scaling=5, solver=saga, score=0.5168350168350169, total=   0.1s\n",
      "[CV] C=5.0625, fit_intercept=False, intercept_scaling=5, solver=saga .\n"
     ]
    },
    {
     "name": "stderr",
     "output_type": "stream",
     "text": [
      "/anaconda3/lib/python3.7/site-packages/sklearn/linear_model/sag.py:334: ConvergenceWarning: The max_iter was reached which means the coef_ did not converge\n",
      "  \"the coef_ did not converge\", ConvergenceWarning)\n",
      "/anaconda3/lib/python3.7/site-packages/sklearn/linear_model/sag.py:334: ConvergenceWarning: The max_iter was reached which means the coef_ did not converge\n",
      "  \"the coef_ did not converge\", ConvergenceWarning)\n",
      "/anaconda3/lib/python3.7/site-packages/sklearn/linear_model/sag.py:334: ConvergenceWarning: The max_iter was reached which means the coef_ did not converge\n",
      "  \"the coef_ did not converge\", ConvergenceWarning)\n"
     ]
    },
    {
     "name": "stdout",
     "output_type": "stream",
     "text": [
      "[CV]  C=5.0625, fit_intercept=False, intercept_scaling=5, solver=saga, score=0.5135135135135135, total=   0.1s\n",
      "[CV] C=5.0625, fit_intercept=False, intercept_scaling=10, solver=liblinear \n",
      "[CV]  C=5.0625, fit_intercept=False, intercept_scaling=10, solver=liblinear, score=0.5791245791245792, total=   0.2s\n",
      "[CV] C=5.0625, fit_intercept=False, intercept_scaling=10, solver=liblinear \n"
     ]
    },
    {
     "name": "stderr",
     "output_type": "stream",
     "text": [
      "/anaconda3/lib/python3.7/site-packages/sklearn/svm/base.py:931: ConvergenceWarning: Liblinear failed to converge, increase the number of iterations.\n",
      "  \"the number of iterations.\", ConvergenceWarning)\n"
     ]
    },
    {
     "name": "stdout",
     "output_type": "stream",
     "text": [
      "[CV]  C=5.0625, fit_intercept=False, intercept_scaling=10, solver=liblinear, score=0.5774410774410774, total=   0.1s\n",
      "[CV] C=5.0625, fit_intercept=False, intercept_scaling=10, solver=liblinear \n",
      "[CV]  C=5.0625, fit_intercept=False, intercept_scaling=10, solver=liblinear, score=0.5861486486486487, total=   0.2s\n",
      "[CV] C=5.0625, fit_intercept=False, intercept_scaling=10, solver=saga \n",
      "[CV]  C=5.0625, fit_intercept=False, intercept_scaling=10, solver=saga, score=0.5, total=   0.1s\n",
      "[CV] C=5.0625, fit_intercept=False, intercept_scaling=10, solver=saga \n",
      "[CV]  C=5.0625, fit_intercept=False, intercept_scaling=10, solver=saga, score=0.5117845117845118, total=   0.1s\n",
      "[CV] C=5.0625, fit_intercept=False, intercept_scaling=10, solver=saga \n",
      "[CV]  C=5.0625, fit_intercept=False, intercept_scaling=10, solver=saga, score=0.5135135135135135, total=   0.1s\n",
      "[CV] C=5.0625, fit_intercept=False, intercept_scaling=25, solver=liblinear \n"
     ]
    },
    {
     "name": "stderr",
     "output_type": "stream",
     "text": [
      "/anaconda3/lib/python3.7/site-packages/sklearn/linear_model/sag.py:334: ConvergenceWarning: The max_iter was reached which means the coef_ did not converge\n",
      "  \"the coef_ did not converge\", ConvergenceWarning)\n",
      "/anaconda3/lib/python3.7/site-packages/sklearn/linear_model/sag.py:334: ConvergenceWarning: The max_iter was reached which means the coef_ did not converge\n",
      "  \"the coef_ did not converge\", ConvergenceWarning)\n",
      "/anaconda3/lib/python3.7/site-packages/sklearn/linear_model/sag.py:334: ConvergenceWarning: The max_iter was reached which means the coef_ did not converge\n",
      "  \"the coef_ did not converge\", ConvergenceWarning)\n",
      "/anaconda3/lib/python3.7/site-packages/sklearn/svm/base.py:931: ConvergenceWarning: Liblinear failed to converge, increase the number of iterations.\n",
      "  \"the number of iterations.\", ConvergenceWarning)\n"
     ]
    },
    {
     "name": "stdout",
     "output_type": "stream",
     "text": [
      "[CV]  C=5.0625, fit_intercept=False, intercept_scaling=25, solver=liblinear, score=0.5791245791245792, total=   0.2s\n",
      "[CV] C=5.0625, fit_intercept=False, intercept_scaling=25, solver=liblinear \n",
      "[CV]  C=5.0625, fit_intercept=False, intercept_scaling=25, solver=liblinear, score=0.5774410774410774, total=   0.1s\n",
      "[CV] C=5.0625, fit_intercept=False, intercept_scaling=25, solver=liblinear \n",
      "[CV]  C=5.0625, fit_intercept=False, intercept_scaling=25, solver=liblinear, score=0.5861486486486487, total=   0.3s\n",
      "[CV] C=5.0625, fit_intercept=False, intercept_scaling=25, solver=saga \n",
      "[CV]  C=5.0625, fit_intercept=False, intercept_scaling=25, solver=saga, score=0.4983164983164983, total=   0.1s\n",
      "[CV] C=5.0625, fit_intercept=False, intercept_scaling=25, solver=saga \n",
      "[CV]  C=5.0625, fit_intercept=False, intercept_scaling=25, solver=saga, score=0.5151515151515151, total=   0.1s\n",
      "[CV] C=5.0625, fit_intercept=False, intercept_scaling=25, solver=saga \n",
      "[CV]  C=5.0625, fit_intercept=False, intercept_scaling=25, solver=saga, score=0.5135135135135135, total=   0.1s\n",
      "[CV] C=5.0625, fit_intercept=False, intercept_scaling=50, solver=liblinear \n"
     ]
    },
    {
     "name": "stderr",
     "output_type": "stream",
     "text": [
      "/anaconda3/lib/python3.7/site-packages/sklearn/linear_model/sag.py:334: ConvergenceWarning: The max_iter was reached which means the coef_ did not converge\n",
      "  \"the coef_ did not converge\", ConvergenceWarning)\n",
      "/anaconda3/lib/python3.7/site-packages/sklearn/linear_model/sag.py:334: ConvergenceWarning: The max_iter was reached which means the coef_ did not converge\n",
      "  \"the coef_ did not converge\", ConvergenceWarning)\n",
      "/anaconda3/lib/python3.7/site-packages/sklearn/linear_model/sag.py:334: ConvergenceWarning: The max_iter was reached which means the coef_ did not converge\n",
      "  \"the coef_ did not converge\", ConvergenceWarning)\n",
      "/anaconda3/lib/python3.7/site-packages/sklearn/svm/base.py:931: ConvergenceWarning: Liblinear failed to converge, increase the number of iterations.\n",
      "  \"the number of iterations.\", ConvergenceWarning)\n"
     ]
    },
    {
     "name": "stdout",
     "output_type": "stream",
     "text": [
      "[CV]  C=5.0625, fit_intercept=False, intercept_scaling=50, solver=liblinear, score=0.5791245791245792, total=   0.2s\n",
      "[CV] C=5.0625, fit_intercept=False, intercept_scaling=50, solver=liblinear \n",
      "[CV]  C=5.0625, fit_intercept=False, intercept_scaling=50, solver=liblinear, score=0.5774410774410774, total=   0.1s\n",
      "[CV] C=5.0625, fit_intercept=False, intercept_scaling=50, solver=liblinear \n",
      "[CV]  C=5.0625, fit_intercept=False, intercept_scaling=50, solver=liblinear, score=0.5861486486486487, total=   0.2s\n",
      "[CV] C=5.0625, fit_intercept=False, intercept_scaling=50, solver=saga \n",
      "[CV]  C=5.0625, fit_intercept=False, intercept_scaling=50, solver=saga, score=0.5016835016835017, total=   0.1s\n",
      "[CV] C=5.0625, fit_intercept=False, intercept_scaling=50, solver=saga \n",
      "[CV]  C=5.0625, fit_intercept=False, intercept_scaling=50, solver=saga, score=0.51010101010101, total=   0.1s\n",
      "[CV] C=5.0625, fit_intercept=False, intercept_scaling=50, solver=saga \n",
      "[CV]  C=5.0625, fit_intercept=False, intercept_scaling=50, solver=saga, score=0.5135135135135135, total=   0.1s\n",
      "[CV] C=5.0625, fit_intercept=False, intercept_scaling=100, solver=liblinear \n"
     ]
    },
    {
     "name": "stderr",
     "output_type": "stream",
     "text": [
      "/anaconda3/lib/python3.7/site-packages/sklearn/linear_model/sag.py:334: ConvergenceWarning: The max_iter was reached which means the coef_ did not converge\n",
      "  \"the coef_ did not converge\", ConvergenceWarning)\n",
      "/anaconda3/lib/python3.7/site-packages/sklearn/linear_model/sag.py:334: ConvergenceWarning: The max_iter was reached which means the coef_ did not converge\n",
      "  \"the coef_ did not converge\", ConvergenceWarning)\n",
      "/anaconda3/lib/python3.7/site-packages/sklearn/linear_model/sag.py:334: ConvergenceWarning: The max_iter was reached which means the coef_ did not converge\n",
      "  \"the coef_ did not converge\", ConvergenceWarning)\n",
      "/anaconda3/lib/python3.7/site-packages/sklearn/svm/base.py:931: ConvergenceWarning: Liblinear failed to converge, increase the number of iterations.\n",
      "  \"the number of iterations.\", ConvergenceWarning)\n"
     ]
    },
    {
     "name": "stdout",
     "output_type": "stream",
     "text": [
      "[CV]  C=5.0625, fit_intercept=False, intercept_scaling=100, solver=liblinear, score=0.5791245791245792, total=   0.2s\n",
      "[CV] C=5.0625, fit_intercept=False, intercept_scaling=100, solver=liblinear \n",
      "[CV]  C=5.0625, fit_intercept=False, intercept_scaling=100, solver=liblinear, score=0.5774410774410774, total=   0.1s\n",
      "[CV] C=5.0625, fit_intercept=False, intercept_scaling=100, solver=liblinear \n",
      "[CV]  C=5.0625, fit_intercept=False, intercept_scaling=100, solver=liblinear, score=0.5861486486486487, total=   0.2s\n",
      "[CV] C=5.0625, fit_intercept=False, intercept_scaling=100, solver=saga \n",
      "[CV]  C=5.0625, fit_intercept=False, intercept_scaling=100, solver=saga, score=0.4983164983164983, total=   0.1s\n",
      "[CV] C=5.0625, fit_intercept=False, intercept_scaling=100, solver=saga \n",
      "[CV]  C=5.0625, fit_intercept=False, intercept_scaling=100, solver=saga, score=0.5151515151515151, total=   0.1s\n",
      "[CV] C=5.0625, fit_intercept=False, intercept_scaling=100, solver=saga \n",
      "[CV]  C=5.0625, fit_intercept=False, intercept_scaling=100, solver=saga, score=0.5118243243243243, total=   0.1s\n",
      "[CV] C=11.390625, fit_intercept=True, intercept_scaling=1, solver=liblinear \n"
     ]
    },
    {
     "name": "stderr",
     "output_type": "stream",
     "text": [
      "/anaconda3/lib/python3.7/site-packages/sklearn/linear_model/sag.py:334: ConvergenceWarning: The max_iter was reached which means the coef_ did not converge\n",
      "  \"the coef_ did not converge\", ConvergenceWarning)\n",
      "/anaconda3/lib/python3.7/site-packages/sklearn/linear_model/sag.py:334: ConvergenceWarning: The max_iter was reached which means the coef_ did not converge\n",
      "  \"the coef_ did not converge\", ConvergenceWarning)\n",
      "/anaconda3/lib/python3.7/site-packages/sklearn/linear_model/sag.py:334: ConvergenceWarning: The max_iter was reached which means the coef_ did not converge\n",
      "  \"the coef_ did not converge\", ConvergenceWarning)\n",
      "/anaconda3/lib/python3.7/site-packages/sklearn/svm/base.py:931: ConvergenceWarning: Liblinear failed to converge, increase the number of iterations.\n",
      "  \"the number of iterations.\", ConvergenceWarning)\n"
     ]
    },
    {
     "name": "stdout",
     "output_type": "stream",
     "text": [
      "[CV]  C=11.390625, fit_intercept=True, intercept_scaling=1, solver=liblinear, score=0.5757575757575758, total=   0.1s\n",
      "[CV] C=11.390625, fit_intercept=True, intercept_scaling=1, solver=liblinear \n",
      "[CV]  C=11.390625, fit_intercept=True, intercept_scaling=1, solver=liblinear, score=0.5808080808080808, total=   0.1s\n",
      "[CV] C=11.390625, fit_intercept=True, intercept_scaling=1, solver=liblinear \n",
      "[CV]  C=11.390625, fit_intercept=True, intercept_scaling=1, solver=liblinear, score=0.597972972972973, total=   0.2s\n",
      "[CV] C=11.390625, fit_intercept=True, intercept_scaling=1, solver=saga \n",
      "[CV]  C=11.390625, fit_intercept=True, intercept_scaling=1, solver=saga, score=0.5, total=   0.1s\n",
      "[CV] C=11.390625, fit_intercept=True, intercept_scaling=1, solver=saga \n",
      "[CV]  C=11.390625, fit_intercept=True, intercept_scaling=1, solver=saga, score=0.5151515151515151, total=   0.1s\n",
      "[CV] C=11.390625, fit_intercept=True, intercept_scaling=1, solver=saga \n",
      "[CV]  C=11.390625, fit_intercept=True, intercept_scaling=1, solver=saga, score=0.5135135135135135, total=   0.1s\n",
      "[CV] C=11.390625, fit_intercept=True, intercept_scaling=5, solver=liblinear \n"
     ]
    },
    {
     "name": "stderr",
     "output_type": "stream",
     "text": [
      "/anaconda3/lib/python3.7/site-packages/sklearn/linear_model/sag.py:334: ConvergenceWarning: The max_iter was reached which means the coef_ did not converge\n",
      "  \"the coef_ did not converge\", ConvergenceWarning)\n",
      "/anaconda3/lib/python3.7/site-packages/sklearn/linear_model/sag.py:334: ConvergenceWarning: The max_iter was reached which means the coef_ did not converge\n",
      "  \"the coef_ did not converge\", ConvergenceWarning)\n",
      "/anaconda3/lib/python3.7/site-packages/sklearn/linear_model/sag.py:334: ConvergenceWarning: The max_iter was reached which means the coef_ did not converge\n",
      "  \"the coef_ did not converge\", ConvergenceWarning)\n",
      "/anaconda3/lib/python3.7/site-packages/sklearn/svm/base.py:931: ConvergenceWarning: Liblinear failed to converge, increase the number of iterations.\n",
      "  \"the number of iterations.\", ConvergenceWarning)\n"
     ]
    },
    {
     "name": "stdout",
     "output_type": "stream",
     "text": [
      "[CV]  C=11.390625, fit_intercept=True, intercept_scaling=5, solver=liblinear, score=0.5824915824915825, total=   0.2s\n",
      "[CV] C=11.390625, fit_intercept=True, intercept_scaling=5, solver=liblinear \n",
      "[CV]  C=11.390625, fit_intercept=True, intercept_scaling=5, solver=liblinear, score=0.5808080808080808, total=   0.2s\n",
      "[CV] C=11.390625, fit_intercept=True, intercept_scaling=5, solver=liblinear \n"
     ]
    },
    {
     "name": "stderr",
     "output_type": "stream",
     "text": [
      "/anaconda3/lib/python3.7/site-packages/sklearn/svm/base.py:931: ConvergenceWarning: Liblinear failed to converge, increase the number of iterations.\n",
      "  \"the number of iterations.\", ConvergenceWarning)\n",
      "/anaconda3/lib/python3.7/site-packages/sklearn/linear_model/sag.py:334: ConvergenceWarning: The max_iter was reached which means the coef_ did not converge\n",
      "  \"the coef_ did not converge\", ConvergenceWarning)\n",
      "/anaconda3/lib/python3.7/site-packages/sklearn/linear_model/sag.py:334: ConvergenceWarning: The max_iter was reached which means the coef_ did not converge\n",
      "  \"the coef_ did not converge\", ConvergenceWarning)\n",
      "/anaconda3/lib/python3.7/site-packages/sklearn/linear_model/sag.py:334: ConvergenceWarning: The max_iter was reached which means the coef_ did not converge\n",
      "  \"the coef_ did not converge\", ConvergenceWarning)\n"
     ]
    },
    {
     "name": "stdout",
     "output_type": "stream",
     "text": [
      "[CV]  C=11.390625, fit_intercept=True, intercept_scaling=5, solver=liblinear, score=0.5929054054054054, total=   0.3s\n",
      "[CV] C=11.390625, fit_intercept=True, intercept_scaling=5, solver=saga \n",
      "[CV]  C=11.390625, fit_intercept=True, intercept_scaling=5, solver=saga, score=0.4983164983164983, total=   0.1s\n",
      "[CV] C=11.390625, fit_intercept=True, intercept_scaling=5, solver=saga \n",
      "[CV]  C=11.390625, fit_intercept=True, intercept_scaling=5, solver=saga, score=0.5134680134680135, total=   0.1s\n",
      "[CV] C=11.390625, fit_intercept=True, intercept_scaling=5, solver=saga \n",
      "[CV]  C=11.390625, fit_intercept=True, intercept_scaling=5, solver=saga, score=0.5135135135135135, total=   0.1s\n",
      "[CV] C=11.390625, fit_intercept=True, intercept_scaling=10, solver=liblinear \n"
     ]
    },
    {
     "name": "stderr",
     "output_type": "stream",
     "text": [
      "/anaconda3/lib/python3.7/site-packages/sklearn/svm/base.py:931: ConvergenceWarning: Liblinear failed to converge, increase the number of iterations.\n",
      "  \"the number of iterations.\", ConvergenceWarning)\n"
     ]
    },
    {
     "name": "stdout",
     "output_type": "stream",
     "text": [
      "[CV]  C=11.390625, fit_intercept=True, intercept_scaling=10, solver=liblinear, score=0.5808080808080808, total=   0.2s\n",
      "[CV] C=11.390625, fit_intercept=True, intercept_scaling=10, solver=liblinear \n",
      "[CV]  C=11.390625, fit_intercept=True, intercept_scaling=10, solver=liblinear, score=0.5808080808080808, total=   0.1s\n",
      "[CV] C=11.390625, fit_intercept=True, intercept_scaling=10, solver=liblinear \n",
      "[CV]  C=11.390625, fit_intercept=True, intercept_scaling=10, solver=liblinear, score=0.5945945945945946, total=   0.3s\n",
      "[CV] C=11.390625, fit_intercept=True, intercept_scaling=10, solver=saga \n",
      "[CV]  C=11.390625, fit_intercept=True, intercept_scaling=10, solver=saga, score=0.5, total=   0.1s\n",
      "[CV] C=11.390625, fit_intercept=True, intercept_scaling=10, solver=saga \n",
      "[CV]  C=11.390625, fit_intercept=True, intercept_scaling=10, solver=saga, score=0.51010101010101, total=   0.1s\n",
      "[CV] C=11.390625, fit_intercept=True, intercept_scaling=10, solver=saga \n",
      "[CV]  C=11.390625, fit_intercept=True, intercept_scaling=10, solver=saga, score=0.5135135135135135, total=   0.1s\n",
      "[CV] C=11.390625, fit_intercept=True, intercept_scaling=25, solver=liblinear \n"
     ]
    },
    {
     "name": "stderr",
     "output_type": "stream",
     "text": [
      "/anaconda3/lib/python3.7/site-packages/sklearn/linear_model/sag.py:334: ConvergenceWarning: The max_iter was reached which means the coef_ did not converge\n",
      "  \"the coef_ did not converge\", ConvergenceWarning)\n",
      "/anaconda3/lib/python3.7/site-packages/sklearn/linear_model/sag.py:334: ConvergenceWarning: The max_iter was reached which means the coef_ did not converge\n",
      "  \"the coef_ did not converge\", ConvergenceWarning)\n",
      "/anaconda3/lib/python3.7/site-packages/sklearn/linear_model/sag.py:334: ConvergenceWarning: The max_iter was reached which means the coef_ did not converge\n",
      "  \"the coef_ did not converge\", ConvergenceWarning)\n",
      "/anaconda3/lib/python3.7/site-packages/sklearn/svm/base.py:931: ConvergenceWarning: Liblinear failed to converge, increase the number of iterations.\n",
      "  \"the number of iterations.\", ConvergenceWarning)\n"
     ]
    },
    {
     "name": "stdout",
     "output_type": "stream",
     "text": [
      "[CV]  C=11.390625, fit_intercept=True, intercept_scaling=25, solver=liblinear, score=0.5774410774410774, total=   0.2s\n",
      "[CV] C=11.390625, fit_intercept=True, intercept_scaling=25, solver=liblinear \n",
      "[CV]  C=11.390625, fit_intercept=True, intercept_scaling=25, solver=liblinear, score=0.5808080808080808, total=   0.1s\n",
      "[CV] C=11.390625, fit_intercept=True, intercept_scaling=25, solver=liblinear \n",
      "[CV]  C=11.390625, fit_intercept=True, intercept_scaling=25, solver=liblinear, score=0.5929054054054054, total=   0.2s\n",
      "[CV] C=11.390625, fit_intercept=True, intercept_scaling=25, solver=saga \n",
      "[CV]  C=11.390625, fit_intercept=True, intercept_scaling=25, solver=saga, score=0.5016835016835017, total=   0.1s\n",
      "[CV] C=11.390625, fit_intercept=True, intercept_scaling=25, solver=saga \n",
      "[CV]  C=11.390625, fit_intercept=True, intercept_scaling=25, solver=saga, score=0.5168350168350169, total=   0.1s\n",
      "[CV] C=11.390625, fit_intercept=True, intercept_scaling=25, solver=saga \n"
     ]
    },
    {
     "name": "stderr",
     "output_type": "stream",
     "text": [
      "/anaconda3/lib/python3.7/site-packages/sklearn/linear_model/sag.py:334: ConvergenceWarning: The max_iter was reached which means the coef_ did not converge\n",
      "  \"the coef_ did not converge\", ConvergenceWarning)\n",
      "/anaconda3/lib/python3.7/site-packages/sklearn/linear_model/sag.py:334: ConvergenceWarning: The max_iter was reached which means the coef_ did not converge\n",
      "  \"the coef_ did not converge\", ConvergenceWarning)\n",
      "/anaconda3/lib/python3.7/site-packages/sklearn/linear_model/sag.py:334: ConvergenceWarning: The max_iter was reached which means the coef_ did not converge\n",
      "  \"the coef_ did not converge\", ConvergenceWarning)\n"
     ]
    },
    {
     "name": "stdout",
     "output_type": "stream",
     "text": [
      "[CV]  C=11.390625, fit_intercept=True, intercept_scaling=25, solver=saga, score=0.5135135135135135, total=   0.1s\n",
      "[CV] C=11.390625, fit_intercept=True, intercept_scaling=50, solver=liblinear \n",
      "[CV]  C=11.390625, fit_intercept=True, intercept_scaling=50, solver=liblinear, score=0.5858585858585859, total=   0.1s\n",
      "[CV] C=11.390625, fit_intercept=True, intercept_scaling=50, solver=liblinear \n"
     ]
    },
    {
     "name": "stderr",
     "output_type": "stream",
     "text": [
      "/anaconda3/lib/python3.7/site-packages/sklearn/svm/base.py:931: ConvergenceWarning: Liblinear failed to converge, increase the number of iterations.\n",
      "  \"the number of iterations.\", ConvergenceWarning)\n"
     ]
    },
    {
     "name": "stdout",
     "output_type": "stream",
     "text": [
      "[CV]  C=11.390625, fit_intercept=True, intercept_scaling=50, solver=liblinear, score=0.5791245791245792, total=   0.1s\n",
      "[CV] C=11.390625, fit_intercept=True, intercept_scaling=50, solver=liblinear \n",
      "[CV]  C=11.390625, fit_intercept=True, intercept_scaling=50, solver=liblinear, score=0.5929054054054054, total=   0.2s\n",
      "[CV] C=11.390625, fit_intercept=True, intercept_scaling=50, solver=saga \n",
      "[CV]  C=11.390625, fit_intercept=True, intercept_scaling=50, solver=saga, score=0.5, total=   0.1s\n",
      "[CV] C=11.390625, fit_intercept=True, intercept_scaling=50, solver=saga \n",
      "[CV]  C=11.390625, fit_intercept=True, intercept_scaling=50, solver=saga, score=0.5151515151515151, total=   0.1s\n",
      "[CV] C=11.390625, fit_intercept=True, intercept_scaling=50, solver=saga \n",
      "[CV]  C=11.390625, fit_intercept=True, intercept_scaling=50, solver=saga, score=0.5135135135135135, total=   0.1s\n",
      "[CV] C=11.390625, fit_intercept=True, intercept_scaling=100, solver=liblinear \n"
     ]
    },
    {
     "name": "stderr",
     "output_type": "stream",
     "text": [
      "/anaconda3/lib/python3.7/site-packages/sklearn/linear_model/sag.py:334: ConvergenceWarning: The max_iter was reached which means the coef_ did not converge\n",
      "  \"the coef_ did not converge\", ConvergenceWarning)\n",
      "/anaconda3/lib/python3.7/site-packages/sklearn/linear_model/sag.py:334: ConvergenceWarning: The max_iter was reached which means the coef_ did not converge\n",
      "  \"the coef_ did not converge\", ConvergenceWarning)\n",
      "/anaconda3/lib/python3.7/site-packages/sklearn/linear_model/sag.py:334: ConvergenceWarning: The max_iter was reached which means the coef_ did not converge\n",
      "  \"the coef_ did not converge\", ConvergenceWarning)\n",
      "/anaconda3/lib/python3.7/site-packages/sklearn/svm/base.py:931: ConvergenceWarning: Liblinear failed to converge, increase the number of iterations.\n",
      "  \"the number of iterations.\", ConvergenceWarning)\n"
     ]
    },
    {
     "name": "stdout",
     "output_type": "stream",
     "text": [
      "[CV]  C=11.390625, fit_intercept=True, intercept_scaling=100, solver=liblinear, score=0.5757575757575758, total=   0.2s\n",
      "[CV] C=11.390625, fit_intercept=True, intercept_scaling=100, solver=liblinear \n",
      "[CV]  C=11.390625, fit_intercept=True, intercept_scaling=100, solver=liblinear, score=0.5808080808080808, total=   0.1s\n",
      "[CV] C=11.390625, fit_intercept=True, intercept_scaling=100, solver=liblinear \n"
     ]
    },
    {
     "name": "stderr",
     "output_type": "stream",
     "text": [
      "/anaconda3/lib/python3.7/site-packages/sklearn/svm/base.py:931: ConvergenceWarning: Liblinear failed to converge, increase the number of iterations.\n",
      "  \"the number of iterations.\", ConvergenceWarning)\n",
      "/anaconda3/lib/python3.7/site-packages/sklearn/linear_model/sag.py:334: ConvergenceWarning: The max_iter was reached which means the coef_ did not converge\n",
      "  \"the coef_ did not converge\", ConvergenceWarning)\n",
      "/anaconda3/lib/python3.7/site-packages/sklearn/linear_model/sag.py:334: ConvergenceWarning: The max_iter was reached which means the coef_ did not converge\n",
      "  \"the coef_ did not converge\", ConvergenceWarning)\n",
      "/anaconda3/lib/python3.7/site-packages/sklearn/linear_model/sag.py:334: ConvergenceWarning: The max_iter was reached which means the coef_ did not converge\n",
      "  \"the coef_ did not converge\", ConvergenceWarning)\n"
     ]
    },
    {
     "name": "stdout",
     "output_type": "stream",
     "text": [
      "[CV]  C=11.390625, fit_intercept=True, intercept_scaling=100, solver=liblinear, score=0.5844594594594594, total=   0.2s\n",
      "[CV] C=11.390625, fit_intercept=True, intercept_scaling=100, solver=saga \n",
      "[CV]  C=11.390625, fit_intercept=True, intercept_scaling=100, solver=saga, score=0.5033670033670034, total=   0.1s\n",
      "[CV] C=11.390625, fit_intercept=True, intercept_scaling=100, solver=saga \n",
      "[CV]  C=11.390625, fit_intercept=True, intercept_scaling=100, solver=saga, score=0.5151515151515151, total=   0.1s\n",
      "[CV] C=11.390625, fit_intercept=True, intercept_scaling=100, solver=saga \n",
      "[CV]  C=11.390625, fit_intercept=True, intercept_scaling=100, solver=saga, score=0.5135135135135135, total=   0.1s\n",
      "[CV] C=11.390625, fit_intercept=False, intercept_scaling=1, solver=liblinear \n"
     ]
    },
    {
     "name": "stderr",
     "output_type": "stream",
     "text": [
      "/anaconda3/lib/python3.7/site-packages/sklearn/svm/base.py:931: ConvergenceWarning: Liblinear failed to converge, increase the number of iterations.\n",
      "  \"the number of iterations.\", ConvergenceWarning)\n"
     ]
    },
    {
     "name": "stdout",
     "output_type": "stream",
     "text": [
      "[CV]  C=11.390625, fit_intercept=False, intercept_scaling=1, solver=liblinear, score=0.5791245791245792, total=   0.2s\n",
      "[CV] C=11.390625, fit_intercept=False, intercept_scaling=1, solver=liblinear \n",
      "[CV]  C=11.390625, fit_intercept=False, intercept_scaling=1, solver=liblinear, score=0.5757575757575758, total=   0.1s\n",
      "[CV] C=11.390625, fit_intercept=False, intercept_scaling=1, solver=liblinear \n",
      "[CV]  C=11.390625, fit_intercept=False, intercept_scaling=1, solver=liblinear, score=0.5878378378378378, total=   0.3s\n",
      "[CV] C=11.390625, fit_intercept=False, intercept_scaling=1, solver=saga \n",
      "[CV]  C=11.390625, fit_intercept=False, intercept_scaling=1, solver=saga, score=0.5016835016835017, total=   0.1s\n",
      "[CV] C=11.390625, fit_intercept=False, intercept_scaling=1, solver=saga \n",
      "[CV]  C=11.390625, fit_intercept=False, intercept_scaling=1, solver=saga, score=0.5168350168350169, total=   0.1s\n",
      "[CV] C=11.390625, fit_intercept=False, intercept_scaling=1, solver=saga \n"
     ]
    },
    {
     "name": "stderr",
     "output_type": "stream",
     "text": [
      "/anaconda3/lib/python3.7/site-packages/sklearn/linear_model/sag.py:334: ConvergenceWarning: The max_iter was reached which means the coef_ did not converge\n",
      "  \"the coef_ did not converge\", ConvergenceWarning)\n",
      "/anaconda3/lib/python3.7/site-packages/sklearn/linear_model/sag.py:334: ConvergenceWarning: The max_iter was reached which means the coef_ did not converge\n",
      "  \"the coef_ did not converge\", ConvergenceWarning)\n",
      "/anaconda3/lib/python3.7/site-packages/sklearn/linear_model/sag.py:334: ConvergenceWarning: The max_iter was reached which means the coef_ did not converge\n",
      "  \"the coef_ did not converge\", ConvergenceWarning)\n"
     ]
    },
    {
     "name": "stdout",
     "output_type": "stream",
     "text": [
      "[CV]  C=11.390625, fit_intercept=False, intercept_scaling=1, solver=saga, score=0.5135135135135135, total=   0.1s\n",
      "[CV] C=11.390625, fit_intercept=False, intercept_scaling=5, solver=liblinear \n"
     ]
    },
    {
     "name": "stderr",
     "output_type": "stream",
     "text": [
      "/anaconda3/lib/python3.7/site-packages/sklearn/svm/base.py:931: ConvergenceWarning: Liblinear failed to converge, increase the number of iterations.\n",
      "  \"the number of iterations.\", ConvergenceWarning)\n"
     ]
    },
    {
     "name": "stdout",
     "output_type": "stream",
     "text": [
      "[CV]  C=11.390625, fit_intercept=False, intercept_scaling=5, solver=liblinear, score=0.5791245791245792, total=   0.2s\n",
      "[CV] C=11.390625, fit_intercept=False, intercept_scaling=5, solver=liblinear \n",
      "[CV]  C=11.390625, fit_intercept=False, intercept_scaling=5, solver=liblinear, score=0.5757575757575758, total=   0.1s\n",
      "[CV] C=11.390625, fit_intercept=False, intercept_scaling=5, solver=liblinear \n",
      "[CV]  C=11.390625, fit_intercept=False, intercept_scaling=5, solver=liblinear, score=0.5878378378378378, total=   0.3s\n",
      "[CV] C=11.390625, fit_intercept=False, intercept_scaling=5, solver=saga \n",
      "[CV]  C=11.390625, fit_intercept=False, intercept_scaling=5, solver=saga, score=0.5, total=   0.1s\n",
      "[CV] C=11.390625, fit_intercept=False, intercept_scaling=5, solver=saga \n",
      "[CV]  C=11.390625, fit_intercept=False, intercept_scaling=5, solver=saga, score=0.5117845117845118, total=   0.1s\n",
      "[CV] C=11.390625, fit_intercept=False, intercept_scaling=5, solver=saga \n",
      "[CV]  C=11.390625, fit_intercept=False, intercept_scaling=5, solver=saga, score=0.5135135135135135, total=   0.1s\n",
      "[CV] C=11.390625, fit_intercept=False, intercept_scaling=10, solver=liblinear \n"
     ]
    },
    {
     "name": "stderr",
     "output_type": "stream",
     "text": [
      "/anaconda3/lib/python3.7/site-packages/sklearn/linear_model/sag.py:334: ConvergenceWarning: The max_iter was reached which means the coef_ did not converge\n",
      "  \"the coef_ did not converge\", ConvergenceWarning)\n",
      "/anaconda3/lib/python3.7/site-packages/sklearn/linear_model/sag.py:334: ConvergenceWarning: The max_iter was reached which means the coef_ did not converge\n",
      "  \"the coef_ did not converge\", ConvergenceWarning)\n",
      "/anaconda3/lib/python3.7/site-packages/sklearn/linear_model/sag.py:334: ConvergenceWarning: The max_iter was reached which means the coef_ did not converge\n",
      "  \"the coef_ did not converge\", ConvergenceWarning)\n",
      "/anaconda3/lib/python3.7/site-packages/sklearn/svm/base.py:931: ConvergenceWarning: Liblinear failed to converge, increase the number of iterations.\n",
      "  \"the number of iterations.\", ConvergenceWarning)\n"
     ]
    },
    {
     "name": "stdout",
     "output_type": "stream",
     "text": [
      "[CV]  C=11.390625, fit_intercept=False, intercept_scaling=10, solver=liblinear, score=0.5791245791245792, total=   0.2s\n",
      "[CV] C=11.390625, fit_intercept=False, intercept_scaling=10, solver=liblinear \n",
      "[CV]  C=11.390625, fit_intercept=False, intercept_scaling=10, solver=liblinear, score=0.5757575757575758, total=   0.1s\n",
      "[CV] C=11.390625, fit_intercept=False, intercept_scaling=10, solver=liblinear \n",
      "[CV]  C=11.390625, fit_intercept=False, intercept_scaling=10, solver=liblinear, score=0.5878378378378378, total=   0.3s\n",
      "[CV] C=11.390625, fit_intercept=False, intercept_scaling=10, solver=saga \n",
      "[CV]  C=11.390625, fit_intercept=False, intercept_scaling=10, solver=saga, score=0.5, total=   0.1s\n",
      "[CV] C=11.390625, fit_intercept=False, intercept_scaling=10, solver=saga \n",
      "[CV]  C=11.390625, fit_intercept=False, intercept_scaling=10, solver=saga, score=0.5134680134680135, total=   0.1s\n",
      "[CV] C=11.390625, fit_intercept=False, intercept_scaling=10, solver=saga \n"
     ]
    },
    {
     "name": "stderr",
     "output_type": "stream",
     "text": [
      "/anaconda3/lib/python3.7/site-packages/sklearn/linear_model/sag.py:334: ConvergenceWarning: The max_iter was reached which means the coef_ did not converge\n",
      "  \"the coef_ did not converge\", ConvergenceWarning)\n",
      "/anaconda3/lib/python3.7/site-packages/sklearn/linear_model/sag.py:334: ConvergenceWarning: The max_iter was reached which means the coef_ did not converge\n",
      "  \"the coef_ did not converge\", ConvergenceWarning)\n",
      "/anaconda3/lib/python3.7/site-packages/sklearn/linear_model/sag.py:334: ConvergenceWarning: The max_iter was reached which means the coef_ did not converge\n",
      "  \"the coef_ did not converge\", ConvergenceWarning)\n"
     ]
    },
    {
     "name": "stdout",
     "output_type": "stream",
     "text": [
      "[CV]  C=11.390625, fit_intercept=False, intercept_scaling=10, solver=saga, score=0.5118243243243243, total=   0.1s\n",
      "[CV] C=11.390625, fit_intercept=False, intercept_scaling=25, solver=liblinear \n"
     ]
    },
    {
     "name": "stderr",
     "output_type": "stream",
     "text": [
      "/anaconda3/lib/python3.7/site-packages/sklearn/svm/base.py:931: ConvergenceWarning: Liblinear failed to converge, increase the number of iterations.\n",
      "  \"the number of iterations.\", ConvergenceWarning)\n"
     ]
    },
    {
     "name": "stdout",
     "output_type": "stream",
     "text": [
      "[CV]  C=11.390625, fit_intercept=False, intercept_scaling=25, solver=liblinear, score=0.5791245791245792, total=   0.2s\n",
      "[CV] C=11.390625, fit_intercept=False, intercept_scaling=25, solver=liblinear \n",
      "[CV]  C=11.390625, fit_intercept=False, intercept_scaling=25, solver=liblinear, score=0.5757575757575758, total=   0.1s\n",
      "[CV] C=11.390625, fit_intercept=False, intercept_scaling=25, solver=liblinear \n",
      "[CV]  C=11.390625, fit_intercept=False, intercept_scaling=25, solver=liblinear, score=0.5878378378378378, total=   0.3s\n",
      "[CV] C=11.390625, fit_intercept=False, intercept_scaling=25, solver=saga \n",
      "[CV]  C=11.390625, fit_intercept=False, intercept_scaling=25, solver=saga, score=0.4983164983164983, total=   0.1s\n",
      "[CV] C=11.390625, fit_intercept=False, intercept_scaling=25, solver=saga \n",
      "[CV]  C=11.390625, fit_intercept=False, intercept_scaling=25, solver=saga, score=0.5134680134680135, total=   0.1s\n",
      "[CV] C=11.390625, fit_intercept=False, intercept_scaling=25, solver=saga \n",
      "[CV]  C=11.390625, fit_intercept=False, intercept_scaling=25, solver=saga, score=0.5152027027027027, total=   0.1s\n",
      "[CV] C=11.390625, fit_intercept=False, intercept_scaling=50, solver=liblinear \n"
     ]
    },
    {
     "name": "stderr",
     "output_type": "stream",
     "text": [
      "/anaconda3/lib/python3.7/site-packages/sklearn/linear_model/sag.py:334: ConvergenceWarning: The max_iter was reached which means the coef_ did not converge\n",
      "  \"the coef_ did not converge\", ConvergenceWarning)\n",
      "/anaconda3/lib/python3.7/site-packages/sklearn/linear_model/sag.py:334: ConvergenceWarning: The max_iter was reached which means the coef_ did not converge\n",
      "  \"the coef_ did not converge\", ConvergenceWarning)\n",
      "/anaconda3/lib/python3.7/site-packages/sklearn/linear_model/sag.py:334: ConvergenceWarning: The max_iter was reached which means the coef_ did not converge\n",
      "  \"the coef_ did not converge\", ConvergenceWarning)\n",
      "/anaconda3/lib/python3.7/site-packages/sklearn/svm/base.py:931: ConvergenceWarning: Liblinear failed to converge, increase the number of iterations.\n",
      "  \"the number of iterations.\", ConvergenceWarning)\n"
     ]
    },
    {
     "name": "stdout",
     "output_type": "stream",
     "text": [
      "[CV]  C=11.390625, fit_intercept=False, intercept_scaling=50, solver=liblinear, score=0.5791245791245792, total=   0.2s\n",
      "[CV] C=11.390625, fit_intercept=False, intercept_scaling=50, solver=liblinear \n",
      "[CV]  C=11.390625, fit_intercept=False, intercept_scaling=50, solver=liblinear, score=0.5757575757575758, total=   0.1s\n",
      "[CV] C=11.390625, fit_intercept=False, intercept_scaling=50, solver=liblinear \n",
      "[CV]  C=11.390625, fit_intercept=False, intercept_scaling=50, solver=liblinear, score=0.5878378378378378, total=   0.3s\n",
      "[CV] C=11.390625, fit_intercept=False, intercept_scaling=50, solver=saga \n",
      "[CV]  C=11.390625, fit_intercept=False, intercept_scaling=50, solver=saga, score=0.5033670033670034, total=   0.1s\n",
      "[CV] C=11.390625, fit_intercept=False, intercept_scaling=50, solver=saga \n",
      "[CV]  C=11.390625, fit_intercept=False, intercept_scaling=50, solver=saga, score=0.5151515151515151, total=   0.1s\n",
      "[CV] C=11.390625, fit_intercept=False, intercept_scaling=50, solver=saga \n",
      "[CV]  C=11.390625, fit_intercept=False, intercept_scaling=50, solver=saga, score=0.5135135135135135, total=   0.1s\n",
      "[CV] C=11.390625, fit_intercept=False, intercept_scaling=100, solver=liblinear \n"
     ]
    },
    {
     "name": "stderr",
     "output_type": "stream",
     "text": [
      "/anaconda3/lib/python3.7/site-packages/sklearn/linear_model/sag.py:334: ConvergenceWarning: The max_iter was reached which means the coef_ did not converge\n",
      "  \"the coef_ did not converge\", ConvergenceWarning)\n",
      "/anaconda3/lib/python3.7/site-packages/sklearn/linear_model/sag.py:334: ConvergenceWarning: The max_iter was reached which means the coef_ did not converge\n",
      "  \"the coef_ did not converge\", ConvergenceWarning)\n",
      "/anaconda3/lib/python3.7/site-packages/sklearn/linear_model/sag.py:334: ConvergenceWarning: The max_iter was reached which means the coef_ did not converge\n",
      "  \"the coef_ did not converge\", ConvergenceWarning)\n",
      "/anaconda3/lib/python3.7/site-packages/sklearn/svm/base.py:931: ConvergenceWarning: Liblinear failed to converge, increase the number of iterations.\n",
      "  \"the number of iterations.\", ConvergenceWarning)\n"
     ]
    },
    {
     "name": "stdout",
     "output_type": "stream",
     "text": [
      "[CV]  C=11.390625, fit_intercept=False, intercept_scaling=100, solver=liblinear, score=0.5791245791245792, total=   0.2s\n",
      "[CV] C=11.390625, fit_intercept=False, intercept_scaling=100, solver=liblinear \n",
      "[CV]  C=11.390625, fit_intercept=False, intercept_scaling=100, solver=liblinear, score=0.5757575757575758, total=   0.1s\n",
      "[CV] C=11.390625, fit_intercept=False, intercept_scaling=100, solver=liblinear \n",
      "[CV]  C=11.390625, fit_intercept=False, intercept_scaling=100, solver=liblinear, score=0.5878378378378378, total=   0.3s\n",
      "[CV] C=11.390625, fit_intercept=False, intercept_scaling=100, solver=saga \n",
      "[CV]  C=11.390625, fit_intercept=False, intercept_scaling=100, solver=saga, score=0.5016835016835017, total=   0.1s\n",
      "[CV] C=11.390625, fit_intercept=False, intercept_scaling=100, solver=saga \n",
      "[CV]  C=11.390625, fit_intercept=False, intercept_scaling=100, solver=saga, score=0.5151515151515151, total=   0.1s\n",
      "[CV] C=11.390625, fit_intercept=False, intercept_scaling=100, solver=saga \n",
      "[CV]  C=11.390625, fit_intercept=False, intercept_scaling=100, solver=saga, score=0.5135135135135135, total=   0.1s\n",
      "[CV] C=25.62890625, fit_intercept=True, intercept_scaling=1, solver=liblinear \n"
     ]
    },
    {
     "name": "stderr",
     "output_type": "stream",
     "text": [
      "/anaconda3/lib/python3.7/site-packages/sklearn/linear_model/sag.py:334: ConvergenceWarning: The max_iter was reached which means the coef_ did not converge\n",
      "  \"the coef_ did not converge\", ConvergenceWarning)\n",
      "/anaconda3/lib/python3.7/site-packages/sklearn/linear_model/sag.py:334: ConvergenceWarning: The max_iter was reached which means the coef_ did not converge\n",
      "  \"the coef_ did not converge\", ConvergenceWarning)\n",
      "/anaconda3/lib/python3.7/site-packages/sklearn/linear_model/sag.py:334: ConvergenceWarning: The max_iter was reached which means the coef_ did not converge\n",
      "  \"the coef_ did not converge\", ConvergenceWarning)\n"
     ]
    },
    {
     "name": "stdout",
     "output_type": "stream",
     "text": [
      "[CV]  C=25.62890625, fit_intercept=True, intercept_scaling=1, solver=liblinear, score=0.5791245791245792, total=   0.2s\n",
      "[CV] C=25.62890625, fit_intercept=True, intercept_scaling=1, solver=liblinear \n",
      "[CV]  C=25.62890625, fit_intercept=True, intercept_scaling=1, solver=liblinear, score=0.5791245791245792, total=   0.1s\n",
      "[CV] C=25.62890625, fit_intercept=True, intercept_scaling=1, solver=liblinear \n"
     ]
    },
    {
     "name": "stderr",
     "output_type": "stream",
     "text": [
      "/anaconda3/lib/python3.7/site-packages/sklearn/svm/base.py:931: ConvergenceWarning: Liblinear failed to converge, increase the number of iterations.\n",
      "  \"the number of iterations.\", ConvergenceWarning)\n",
      "/anaconda3/lib/python3.7/site-packages/sklearn/linear_model/sag.py:334: ConvergenceWarning: The max_iter was reached which means the coef_ did not converge\n",
      "  \"the coef_ did not converge\", ConvergenceWarning)\n",
      "/anaconda3/lib/python3.7/site-packages/sklearn/linear_model/sag.py:334: ConvergenceWarning: The max_iter was reached which means the coef_ did not converge\n",
      "  \"the coef_ did not converge\", ConvergenceWarning)\n",
      "/anaconda3/lib/python3.7/site-packages/sklearn/linear_model/sag.py:334: ConvergenceWarning: The max_iter was reached which means the coef_ did not converge\n",
      "  \"the coef_ did not converge\", ConvergenceWarning)\n"
     ]
    },
    {
     "name": "stdout",
     "output_type": "stream",
     "text": [
      "[CV]  C=25.62890625, fit_intercept=True, intercept_scaling=1, solver=liblinear, score=0.5844594594594594, total=   0.2s\n",
      "[CV] C=25.62890625, fit_intercept=True, intercept_scaling=1, solver=saga \n",
      "[CV]  C=25.62890625, fit_intercept=True, intercept_scaling=1, solver=saga, score=0.5, total=   0.1s\n",
      "[CV] C=25.62890625, fit_intercept=True, intercept_scaling=1, solver=saga \n",
      "[CV]  C=25.62890625, fit_intercept=True, intercept_scaling=1, solver=saga, score=0.5168350168350169, total=   0.1s\n",
      "[CV] C=25.62890625, fit_intercept=True, intercept_scaling=1, solver=saga \n",
      "[CV]  C=25.62890625, fit_intercept=True, intercept_scaling=1, solver=saga, score=0.5135135135135135, total=   0.1s\n",
      "[CV] C=25.62890625, fit_intercept=True, intercept_scaling=5, solver=liblinear \n",
      "[CV]  C=25.62890625, fit_intercept=True, intercept_scaling=5, solver=liblinear, score=0.5791245791245792, total=   0.3s\n",
      "[CV] C=25.62890625, fit_intercept=True, intercept_scaling=5, solver=liblinear \n",
      "[CV]  C=25.62890625, fit_intercept=True, intercept_scaling=5, solver=liblinear, score=0.5808080808080808, total=   0.1s\n",
      "[CV] C=25.62890625, fit_intercept=True, intercept_scaling=5, solver=liblinear \n"
     ]
    },
    {
     "name": "stderr",
     "output_type": "stream",
     "text": [
      "/anaconda3/lib/python3.7/site-packages/sklearn/svm/base.py:931: ConvergenceWarning: Liblinear failed to converge, increase the number of iterations.\n",
      "  \"the number of iterations.\", ConvergenceWarning)\n",
      "/anaconda3/lib/python3.7/site-packages/sklearn/linear_model/sag.py:334: ConvergenceWarning: The max_iter was reached which means the coef_ did not converge\n",
      "  \"the coef_ did not converge\", ConvergenceWarning)\n",
      "/anaconda3/lib/python3.7/site-packages/sklearn/linear_model/sag.py:334: ConvergenceWarning: The max_iter was reached which means the coef_ did not converge\n",
      "  \"the coef_ did not converge\", ConvergenceWarning)\n",
      "/anaconda3/lib/python3.7/site-packages/sklearn/linear_model/sag.py:334: ConvergenceWarning: The max_iter was reached which means the coef_ did not converge\n",
      "  \"the coef_ did not converge\", ConvergenceWarning)\n"
     ]
    },
    {
     "name": "stdout",
     "output_type": "stream",
     "text": [
      "[CV]  C=25.62890625, fit_intercept=True, intercept_scaling=5, solver=liblinear, score=0.589527027027027, total=   0.2s\n",
      "[CV] C=25.62890625, fit_intercept=True, intercept_scaling=5, solver=saga \n",
      "[CV]  C=25.62890625, fit_intercept=True, intercept_scaling=5, solver=saga, score=0.4983164983164983, total=   0.1s\n",
      "[CV] C=25.62890625, fit_intercept=True, intercept_scaling=5, solver=saga \n",
      "[CV]  C=25.62890625, fit_intercept=True, intercept_scaling=5, solver=saga, score=0.5151515151515151, total=   0.1s\n",
      "[CV] C=25.62890625, fit_intercept=True, intercept_scaling=5, solver=saga \n",
      "[CV]  C=25.62890625, fit_intercept=True, intercept_scaling=5, solver=saga, score=0.5118243243243243, total=   0.1s\n",
      "[CV] C=25.62890625, fit_intercept=True, intercept_scaling=10, solver=liblinear \n",
      "[CV]  C=25.62890625, fit_intercept=True, intercept_scaling=10, solver=liblinear, score=0.5791245791245792, total=   0.2s\n",
      "[CV] C=25.62890625, fit_intercept=True, intercept_scaling=10, solver=liblinear \n",
      "[CV]  C=25.62890625, fit_intercept=True, intercept_scaling=10, solver=liblinear, score=0.5791245791245792, total=   0.1s\n",
      "[CV] C=25.62890625, fit_intercept=True, intercept_scaling=10, solver=liblinear \n",
      "[CV]  C=25.62890625, fit_intercept=True, intercept_scaling=10, solver=liblinear, score=0.5929054054054054, total=   0.3s\n",
      "[CV] C=25.62890625, fit_intercept=True, intercept_scaling=10, solver=saga \n",
      "[CV]  C=25.62890625, fit_intercept=True, intercept_scaling=10, solver=saga, score=0.4983164983164983, total=   0.1s\n",
      "[CV] C=25.62890625, fit_intercept=True, intercept_scaling=10, solver=saga \n",
      "[CV]  C=25.62890625, fit_intercept=True, intercept_scaling=10, solver=saga, score=0.5168350168350169, total=   0.1s\n",
      "[CV] C=25.62890625, fit_intercept=True, intercept_scaling=10, solver=saga \n"
     ]
    },
    {
     "name": "stderr",
     "output_type": "stream",
     "text": [
      "/anaconda3/lib/python3.7/site-packages/sklearn/linear_model/sag.py:334: ConvergenceWarning: The max_iter was reached which means the coef_ did not converge\n",
      "  \"the coef_ did not converge\", ConvergenceWarning)\n",
      "/anaconda3/lib/python3.7/site-packages/sklearn/linear_model/sag.py:334: ConvergenceWarning: The max_iter was reached which means the coef_ did not converge\n",
      "  \"the coef_ did not converge\", ConvergenceWarning)\n",
      "/anaconda3/lib/python3.7/site-packages/sklearn/linear_model/sag.py:334: ConvergenceWarning: The max_iter was reached which means the coef_ did not converge\n",
      "  \"the coef_ did not converge\", ConvergenceWarning)\n"
     ]
    },
    {
     "name": "stdout",
     "output_type": "stream",
     "text": [
      "[CV]  C=25.62890625, fit_intercept=True, intercept_scaling=10, solver=saga, score=0.5118243243243243, total=   0.1s\n",
      "[CV] C=25.62890625, fit_intercept=True, intercept_scaling=25, solver=liblinear \n",
      "[CV]  C=25.62890625, fit_intercept=True, intercept_scaling=25, solver=liblinear, score=0.5808080808080808, total=   0.2s\n",
      "[CV] C=25.62890625, fit_intercept=True, intercept_scaling=25, solver=liblinear \n"
     ]
    },
    {
     "name": "stderr",
     "output_type": "stream",
     "text": [
      "/anaconda3/lib/python3.7/site-packages/sklearn/svm/base.py:931: ConvergenceWarning: Liblinear failed to converge, increase the number of iterations.\n",
      "  \"the number of iterations.\", ConvergenceWarning)\n"
     ]
    },
    {
     "name": "stdout",
     "output_type": "stream",
     "text": [
      "[CV]  C=25.62890625, fit_intercept=True, intercept_scaling=25, solver=liblinear, score=0.5808080808080808, total=   0.1s\n",
      "[CV] C=25.62890625, fit_intercept=True, intercept_scaling=25, solver=liblinear \n"
     ]
    },
    {
     "name": "stderr",
     "output_type": "stream",
     "text": [
      "/anaconda3/lib/python3.7/site-packages/sklearn/svm/base.py:931: ConvergenceWarning: Liblinear failed to converge, increase the number of iterations.\n",
      "  \"the number of iterations.\", ConvergenceWarning)\n",
      "/anaconda3/lib/python3.7/site-packages/sklearn/linear_model/sag.py:334: ConvergenceWarning: The max_iter was reached which means the coef_ did not converge\n",
      "  \"the coef_ did not converge\", ConvergenceWarning)\n",
      "/anaconda3/lib/python3.7/site-packages/sklearn/linear_model/sag.py:334: ConvergenceWarning: The max_iter was reached which means the coef_ did not converge\n",
      "  \"the coef_ did not converge\", ConvergenceWarning)\n",
      "/anaconda3/lib/python3.7/site-packages/sklearn/linear_model/sag.py:334: ConvergenceWarning: The max_iter was reached which means the coef_ did not converge\n",
      "  \"the coef_ did not converge\", ConvergenceWarning)\n"
     ]
    },
    {
     "name": "stdout",
     "output_type": "stream",
     "text": [
      "[CV]  C=25.62890625, fit_intercept=True, intercept_scaling=25, solver=liblinear, score=0.597972972972973, total=   0.2s\n",
      "[CV] C=25.62890625, fit_intercept=True, intercept_scaling=25, solver=saga \n",
      "[CV]  C=25.62890625, fit_intercept=True, intercept_scaling=25, solver=saga, score=0.49663299663299665, total=   0.1s\n",
      "[CV] C=25.62890625, fit_intercept=True, intercept_scaling=25, solver=saga \n",
      "[CV]  C=25.62890625, fit_intercept=True, intercept_scaling=25, solver=saga, score=0.5151515151515151, total=   0.1s\n",
      "[CV] C=25.62890625, fit_intercept=True, intercept_scaling=25, solver=saga \n",
      "[CV]  C=25.62890625, fit_intercept=True, intercept_scaling=25, solver=saga, score=0.5118243243243243, total=   0.1s\n",
      "[CV] C=25.62890625, fit_intercept=True, intercept_scaling=50, solver=liblinear \n"
     ]
    },
    {
     "name": "stderr",
     "output_type": "stream",
     "text": [
      "/anaconda3/lib/python3.7/site-packages/sklearn/svm/base.py:931: ConvergenceWarning: Liblinear failed to converge, increase the number of iterations.\n",
      "  \"the number of iterations.\", ConvergenceWarning)\n"
     ]
    },
    {
     "name": "stdout",
     "output_type": "stream",
     "text": [
      "[CV]  C=25.62890625, fit_intercept=True, intercept_scaling=50, solver=liblinear, score=0.5808080808080808, total=   0.2s\n",
      "[CV] C=25.62890625, fit_intercept=True, intercept_scaling=50, solver=liblinear \n",
      "[CV]  C=25.62890625, fit_intercept=True, intercept_scaling=50, solver=liblinear, score=0.5791245791245792, total=   0.1s\n",
      "[CV] C=25.62890625, fit_intercept=True, intercept_scaling=50, solver=liblinear \n",
      "[CV]  C=25.62890625, fit_intercept=True, intercept_scaling=50, solver=liblinear, score=0.5945945945945946, total=   0.3s\n",
      "[CV] C=25.62890625, fit_intercept=True, intercept_scaling=50, solver=saga \n",
      "[CV]  C=25.62890625, fit_intercept=True, intercept_scaling=50, solver=saga, score=0.4983164983164983, total=   0.1s\n",
      "[CV] C=25.62890625, fit_intercept=True, intercept_scaling=50, solver=saga \n",
      "[CV]  C=25.62890625, fit_intercept=True, intercept_scaling=50, solver=saga, score=0.5151515151515151, total=   0.1s\n",
      "[CV] C=25.62890625, fit_intercept=True, intercept_scaling=50, solver=saga \n",
      "[CV]  C=25.62890625, fit_intercept=True, intercept_scaling=50, solver=saga, score=0.5101351351351351, total=   0.1s\n",
      "[CV] C=25.62890625, fit_intercept=True, intercept_scaling=100, solver=liblinear \n"
     ]
    },
    {
     "name": "stderr",
     "output_type": "stream",
     "text": [
      "/anaconda3/lib/python3.7/site-packages/sklearn/linear_model/sag.py:334: ConvergenceWarning: The max_iter was reached which means the coef_ did not converge\n",
      "  \"the coef_ did not converge\", ConvergenceWarning)\n",
      "/anaconda3/lib/python3.7/site-packages/sklearn/linear_model/sag.py:334: ConvergenceWarning: The max_iter was reached which means the coef_ did not converge\n",
      "  \"the coef_ did not converge\", ConvergenceWarning)\n",
      "/anaconda3/lib/python3.7/site-packages/sklearn/linear_model/sag.py:334: ConvergenceWarning: The max_iter was reached which means the coef_ did not converge\n",
      "  \"the coef_ did not converge\", ConvergenceWarning)\n"
     ]
    },
    {
     "name": "stdout",
     "output_type": "stream",
     "text": [
      "[CV]  C=25.62890625, fit_intercept=True, intercept_scaling=100, solver=liblinear, score=0.5791245791245792, total=   0.2s\n",
      "[CV] C=25.62890625, fit_intercept=True, intercept_scaling=100, solver=liblinear \n",
      "[CV]  C=25.62890625, fit_intercept=True, intercept_scaling=100, solver=liblinear, score=0.5808080808080808, total=   0.1s\n",
      "[CV] C=25.62890625, fit_intercept=True, intercept_scaling=100, solver=liblinear \n",
      "[CV]  C=25.62890625, fit_intercept=True, intercept_scaling=100, solver=liblinear, score=0.5945945945945946, total=   0.2s\n",
      "[CV] C=25.62890625, fit_intercept=True, intercept_scaling=100, solver=saga \n",
      "[CV]  C=25.62890625, fit_intercept=True, intercept_scaling=100, solver=saga, score=0.5016835016835017, total=   0.1s\n",
      "[CV] C=25.62890625, fit_intercept=True, intercept_scaling=100, solver=saga \n",
      "[CV]  C=25.62890625, fit_intercept=True, intercept_scaling=100, solver=saga, score=0.5151515151515151, total=   0.1s\n",
      "[CV] C=25.62890625, fit_intercept=True, intercept_scaling=100, solver=saga \n"
     ]
    },
    {
     "name": "stderr",
     "output_type": "stream",
     "text": [
      "/anaconda3/lib/python3.7/site-packages/sklearn/linear_model/sag.py:334: ConvergenceWarning: The max_iter was reached which means the coef_ did not converge\n",
      "  \"the coef_ did not converge\", ConvergenceWarning)\n",
      "/anaconda3/lib/python3.7/site-packages/sklearn/linear_model/sag.py:334: ConvergenceWarning: The max_iter was reached which means the coef_ did not converge\n",
      "  \"the coef_ did not converge\", ConvergenceWarning)\n",
      "/anaconda3/lib/python3.7/site-packages/sklearn/linear_model/sag.py:334: ConvergenceWarning: The max_iter was reached which means the coef_ did not converge\n",
      "  \"the coef_ did not converge\", ConvergenceWarning)\n"
     ]
    },
    {
     "name": "stdout",
     "output_type": "stream",
     "text": [
      "[CV]  C=25.62890625, fit_intercept=True, intercept_scaling=100, solver=saga, score=0.5152027027027027, total=   0.1s\n",
      "[CV] C=25.62890625, fit_intercept=False, intercept_scaling=1, solver=liblinear \n",
      "[CV]  C=25.62890625, fit_intercept=False, intercept_scaling=1, solver=liblinear, score=0.5757575757575758, total=   0.2s\n",
      "[CV] C=25.62890625, fit_intercept=False, intercept_scaling=1, solver=liblinear \n",
      "[CV]  C=25.62890625, fit_intercept=False, intercept_scaling=1, solver=liblinear, score=0.5774410774410774, total=   0.2s\n",
      "[CV] C=25.62890625, fit_intercept=False, intercept_scaling=1, solver=liblinear \n",
      "[CV]  C=25.62890625, fit_intercept=False, intercept_scaling=1, solver=liblinear, score=0.5844594594594594, total=   0.2s\n",
      "[CV] C=25.62890625, fit_intercept=False, intercept_scaling=1, solver=saga \n",
      "[CV]  C=25.62890625, fit_intercept=False, intercept_scaling=1, solver=saga, score=0.5, total=   0.1s\n",
      "[CV] C=25.62890625, fit_intercept=False, intercept_scaling=1, solver=saga \n",
      "[CV]  C=25.62890625, fit_intercept=False, intercept_scaling=1, solver=saga, score=0.5151515151515151, total=   0.1s\n",
      "[CV] C=25.62890625, fit_intercept=False, intercept_scaling=1, solver=saga \n",
      "[CV]  C=25.62890625, fit_intercept=False, intercept_scaling=1, solver=saga, score=0.5135135135135135, total=   0.1s\n",
      "[CV] C=25.62890625, fit_intercept=False, intercept_scaling=5, solver=liblinear \n"
     ]
    },
    {
     "name": "stderr",
     "output_type": "stream",
     "text": [
      "/anaconda3/lib/python3.7/site-packages/sklearn/linear_model/sag.py:334: ConvergenceWarning: The max_iter was reached which means the coef_ did not converge\n",
      "  \"the coef_ did not converge\", ConvergenceWarning)\n",
      "/anaconda3/lib/python3.7/site-packages/sklearn/linear_model/sag.py:334: ConvergenceWarning: The max_iter was reached which means the coef_ did not converge\n",
      "  \"the coef_ did not converge\", ConvergenceWarning)\n",
      "/anaconda3/lib/python3.7/site-packages/sklearn/linear_model/sag.py:334: ConvergenceWarning: The max_iter was reached which means the coef_ did not converge\n",
      "  \"the coef_ did not converge\", ConvergenceWarning)\n"
     ]
    },
    {
     "name": "stdout",
     "output_type": "stream",
     "text": [
      "[CV]  C=25.62890625, fit_intercept=False, intercept_scaling=5, solver=liblinear, score=0.5757575757575758, total=   0.2s\n",
      "[CV] C=25.62890625, fit_intercept=False, intercept_scaling=5, solver=liblinear \n",
      "[CV]  C=25.62890625, fit_intercept=False, intercept_scaling=5, solver=liblinear, score=0.5774410774410774, total=   0.2s\n",
      "[CV] C=25.62890625, fit_intercept=False, intercept_scaling=5, solver=liblinear \n",
      "[CV]  C=25.62890625, fit_intercept=False, intercept_scaling=5, solver=liblinear, score=0.5844594594594594, total=   0.2s\n",
      "[CV] C=25.62890625, fit_intercept=False, intercept_scaling=5, solver=saga \n",
      "[CV]  C=25.62890625, fit_intercept=False, intercept_scaling=5, solver=saga, score=0.5, total=   0.1s\n",
      "[CV] C=25.62890625, fit_intercept=False, intercept_scaling=5, solver=saga \n",
      "[CV]  C=25.62890625, fit_intercept=False, intercept_scaling=5, solver=saga, score=0.5117845117845118, total=   0.1s\n",
      "[CV] C=25.62890625, fit_intercept=False, intercept_scaling=5, solver=saga \n"
     ]
    },
    {
     "name": "stderr",
     "output_type": "stream",
     "text": [
      "/anaconda3/lib/python3.7/site-packages/sklearn/linear_model/sag.py:334: ConvergenceWarning: The max_iter was reached which means the coef_ did not converge\n",
      "  \"the coef_ did not converge\", ConvergenceWarning)\n",
      "/anaconda3/lib/python3.7/site-packages/sklearn/linear_model/sag.py:334: ConvergenceWarning: The max_iter was reached which means the coef_ did not converge\n",
      "  \"the coef_ did not converge\", ConvergenceWarning)\n",
      "/anaconda3/lib/python3.7/site-packages/sklearn/linear_model/sag.py:334: ConvergenceWarning: The max_iter was reached which means the coef_ did not converge\n",
      "  \"the coef_ did not converge\", ConvergenceWarning)\n"
     ]
    },
    {
     "name": "stdout",
     "output_type": "stream",
     "text": [
      "[CV]  C=25.62890625, fit_intercept=False, intercept_scaling=5, solver=saga, score=0.5135135135135135, total=   0.1s\n",
      "[CV] C=25.62890625, fit_intercept=False, intercept_scaling=10, solver=liblinear \n",
      "[CV]  C=25.62890625, fit_intercept=False, intercept_scaling=10, solver=liblinear, score=0.5757575757575758, total=   0.2s\n",
      "[CV] C=25.62890625, fit_intercept=False, intercept_scaling=10, solver=liblinear \n",
      "[CV]  C=25.62890625, fit_intercept=False, intercept_scaling=10, solver=liblinear, score=0.5774410774410774, total=   0.2s\n",
      "[CV] C=25.62890625, fit_intercept=False, intercept_scaling=10, solver=liblinear \n",
      "[CV]  C=25.62890625, fit_intercept=False, intercept_scaling=10, solver=liblinear, score=0.5844594594594594, total=   0.2s\n",
      "[CV] C=25.62890625, fit_intercept=False, intercept_scaling=10, solver=saga \n",
      "[CV]  C=25.62890625, fit_intercept=False, intercept_scaling=10, solver=saga, score=0.4983164983164983, total=   0.1s\n",
      "[CV] C=25.62890625, fit_intercept=False, intercept_scaling=10, solver=saga \n",
      "[CV]  C=25.62890625, fit_intercept=False, intercept_scaling=10, solver=saga, score=0.5168350168350169, total=   0.1s\n",
      "[CV] C=25.62890625, fit_intercept=False, intercept_scaling=10, solver=saga \n",
      "[CV]  C=25.62890625, fit_intercept=False, intercept_scaling=10, solver=saga, score=0.5152027027027027, total=   0.1s\n",
      "[CV] C=25.62890625, fit_intercept=False, intercept_scaling=25, solver=liblinear \n"
     ]
    },
    {
     "name": "stderr",
     "output_type": "stream",
     "text": [
      "/anaconda3/lib/python3.7/site-packages/sklearn/linear_model/sag.py:334: ConvergenceWarning: The max_iter was reached which means the coef_ did not converge\n",
      "  \"the coef_ did not converge\", ConvergenceWarning)\n",
      "/anaconda3/lib/python3.7/site-packages/sklearn/linear_model/sag.py:334: ConvergenceWarning: The max_iter was reached which means the coef_ did not converge\n",
      "  \"the coef_ did not converge\", ConvergenceWarning)\n",
      "/anaconda3/lib/python3.7/site-packages/sklearn/linear_model/sag.py:334: ConvergenceWarning: The max_iter was reached which means the coef_ did not converge\n",
      "  \"the coef_ did not converge\", ConvergenceWarning)\n"
     ]
    },
    {
     "name": "stdout",
     "output_type": "stream",
     "text": [
      "[CV]  C=25.62890625, fit_intercept=False, intercept_scaling=25, solver=liblinear, score=0.5757575757575758, total=   0.2s\n",
      "[CV] C=25.62890625, fit_intercept=False, intercept_scaling=25, solver=liblinear \n",
      "[CV]  C=25.62890625, fit_intercept=False, intercept_scaling=25, solver=liblinear, score=0.5774410774410774, total=   0.2s\n",
      "[CV] C=25.62890625, fit_intercept=False, intercept_scaling=25, solver=liblinear \n",
      "[CV]  C=25.62890625, fit_intercept=False, intercept_scaling=25, solver=liblinear, score=0.5844594594594594, total=   0.2s\n",
      "[CV] C=25.62890625, fit_intercept=False, intercept_scaling=25, solver=saga \n",
      "[CV]  C=25.62890625, fit_intercept=False, intercept_scaling=25, solver=saga, score=0.4983164983164983, total=   0.1s\n",
      "[CV] C=25.62890625, fit_intercept=False, intercept_scaling=25, solver=saga \n",
      "[CV]  C=25.62890625, fit_intercept=False, intercept_scaling=25, solver=saga, score=0.5117845117845118, total=   0.1s\n",
      "[CV] C=25.62890625, fit_intercept=False, intercept_scaling=25, solver=saga \n",
      "[CV]  C=25.62890625, fit_intercept=False, intercept_scaling=25, solver=saga, score=0.5118243243243243, total=   0.1s\n",
      "[CV] C=25.62890625, fit_intercept=False, intercept_scaling=50, solver=liblinear \n"
     ]
    },
    {
     "name": "stderr",
     "output_type": "stream",
     "text": [
      "/anaconda3/lib/python3.7/site-packages/sklearn/linear_model/sag.py:334: ConvergenceWarning: The max_iter was reached which means the coef_ did not converge\n",
      "  \"the coef_ did not converge\", ConvergenceWarning)\n",
      "/anaconda3/lib/python3.7/site-packages/sklearn/linear_model/sag.py:334: ConvergenceWarning: The max_iter was reached which means the coef_ did not converge\n",
      "  \"the coef_ did not converge\", ConvergenceWarning)\n",
      "/anaconda3/lib/python3.7/site-packages/sklearn/linear_model/sag.py:334: ConvergenceWarning: The max_iter was reached which means the coef_ did not converge\n",
      "  \"the coef_ did not converge\", ConvergenceWarning)\n"
     ]
    },
    {
     "name": "stdout",
     "output_type": "stream",
     "text": [
      "[CV]  C=25.62890625, fit_intercept=False, intercept_scaling=50, solver=liblinear, score=0.5757575757575758, total=   0.2s\n",
      "[CV] C=25.62890625, fit_intercept=False, intercept_scaling=50, solver=liblinear \n",
      "[CV]  C=25.62890625, fit_intercept=False, intercept_scaling=50, solver=liblinear, score=0.5774410774410774, total=   0.2s\n",
      "[CV] C=25.62890625, fit_intercept=False, intercept_scaling=50, solver=liblinear \n",
      "[CV]  C=25.62890625, fit_intercept=False, intercept_scaling=50, solver=liblinear, score=0.5844594594594594, total=   0.2s\n",
      "[CV] C=25.62890625, fit_intercept=False, intercept_scaling=50, solver=saga \n",
      "[CV]  C=25.62890625, fit_intercept=False, intercept_scaling=50, solver=saga, score=0.4983164983164983, total=   0.1s\n",
      "[CV] C=25.62890625, fit_intercept=False, intercept_scaling=50, solver=saga \n",
      "[CV]  C=25.62890625, fit_intercept=False, intercept_scaling=50, solver=saga, score=0.5151515151515151, total=   0.1s\n",
      "[CV] C=25.62890625, fit_intercept=False, intercept_scaling=50, solver=saga \n"
     ]
    },
    {
     "name": "stderr",
     "output_type": "stream",
     "text": [
      "/anaconda3/lib/python3.7/site-packages/sklearn/linear_model/sag.py:334: ConvergenceWarning: The max_iter was reached which means the coef_ did not converge\n",
      "  \"the coef_ did not converge\", ConvergenceWarning)\n",
      "/anaconda3/lib/python3.7/site-packages/sklearn/linear_model/sag.py:334: ConvergenceWarning: The max_iter was reached which means the coef_ did not converge\n",
      "  \"the coef_ did not converge\", ConvergenceWarning)\n",
      "/anaconda3/lib/python3.7/site-packages/sklearn/linear_model/sag.py:334: ConvergenceWarning: The max_iter was reached which means the coef_ did not converge\n",
      "  \"the coef_ did not converge\", ConvergenceWarning)\n"
     ]
    },
    {
     "name": "stdout",
     "output_type": "stream",
     "text": [
      "[CV]  C=25.62890625, fit_intercept=False, intercept_scaling=50, solver=saga, score=0.5135135135135135, total=   0.1s\n",
      "[CV] C=25.62890625, fit_intercept=False, intercept_scaling=100, solver=liblinear \n",
      "[CV]  C=25.62890625, fit_intercept=False, intercept_scaling=100, solver=liblinear, score=0.5757575757575758, total=   0.2s\n",
      "[CV] C=25.62890625, fit_intercept=False, intercept_scaling=100, solver=liblinear \n",
      "[CV]  C=25.62890625, fit_intercept=False, intercept_scaling=100, solver=liblinear, score=0.5774410774410774, total=   0.2s\n",
      "[CV] C=25.62890625, fit_intercept=False, intercept_scaling=100, solver=liblinear \n",
      "[CV]  C=25.62890625, fit_intercept=False, intercept_scaling=100, solver=liblinear, score=0.5844594594594594, total=   0.2s\n",
      "[CV] C=25.62890625, fit_intercept=False, intercept_scaling=100, solver=saga \n",
      "[CV]  C=25.62890625, fit_intercept=False, intercept_scaling=100, solver=saga, score=0.4983164983164983, total=   0.1s\n",
      "[CV] C=25.62890625, fit_intercept=False, intercept_scaling=100, solver=saga \n",
      "[CV]  C=25.62890625, fit_intercept=False, intercept_scaling=100, solver=saga, score=0.5134680134680135, total=   0.1s\n",
      "[CV] C=25.62890625, fit_intercept=False, intercept_scaling=100, solver=saga \n",
      "[CV]  C=25.62890625, fit_intercept=False, intercept_scaling=100, solver=saga, score=0.5101351351351351, total=   0.1s"
     ]
    },
    {
     "name": "stderr",
     "output_type": "stream",
     "text": [
      "/anaconda3/lib/python3.7/site-packages/sklearn/linear_model/sag.py:334: ConvergenceWarning: The max_iter was reached which means the coef_ did not converge\n",
      "  \"the coef_ did not converge\", ConvergenceWarning)\n",
      "/anaconda3/lib/python3.7/site-packages/sklearn/linear_model/sag.py:334: ConvergenceWarning: The max_iter was reached which means the coef_ did not converge\n",
      "  \"the coef_ did not converge\", ConvergenceWarning)\n",
      "/anaconda3/lib/python3.7/site-packages/sklearn/linear_model/sag.py:334: ConvergenceWarning: The max_iter was reached which means the coef_ did not converge\n",
      "  \"the coef_ did not converge\", ConvergenceWarning)\n"
     ]
    },
    {
     "name": "stdout",
     "output_type": "stream",
     "text": [
      "\n",
      "[CV] C=57.6650390625, fit_intercept=True, intercept_scaling=1, solver=liblinear \n"
     ]
    },
    {
     "name": "stderr",
     "output_type": "stream",
     "text": [
      "/anaconda3/lib/python3.7/site-packages/sklearn/svm/base.py:931: ConvergenceWarning: Liblinear failed to converge, increase the number of iterations.\n",
      "  \"the number of iterations.\", ConvergenceWarning)\n"
     ]
    },
    {
     "name": "stdout",
     "output_type": "stream",
     "text": [
      "[CV]  C=57.6650390625, fit_intercept=True, intercept_scaling=1, solver=liblinear, score=0.5791245791245792, total=   0.2s\n",
      "[CV] C=57.6650390625, fit_intercept=True, intercept_scaling=1, solver=liblinear \n",
      "[CV]  C=57.6650390625, fit_intercept=True, intercept_scaling=1, solver=liblinear, score=0.5791245791245792, total=   0.1s\n",
      "[CV] C=57.6650390625, fit_intercept=True, intercept_scaling=1, solver=liblinear \n"
     ]
    },
    {
     "name": "stderr",
     "output_type": "stream",
     "text": [
      "/anaconda3/lib/python3.7/site-packages/sklearn/svm/base.py:931: ConvergenceWarning: Liblinear failed to converge, increase the number of iterations.\n",
      "  \"the number of iterations.\", ConvergenceWarning)\n",
      "/anaconda3/lib/python3.7/site-packages/sklearn/linear_model/sag.py:334: ConvergenceWarning: The max_iter was reached which means the coef_ did not converge\n",
      "  \"the coef_ did not converge\", ConvergenceWarning)\n",
      "/anaconda3/lib/python3.7/site-packages/sklearn/linear_model/sag.py:334: ConvergenceWarning: The max_iter was reached which means the coef_ did not converge\n",
      "  \"the coef_ did not converge\", ConvergenceWarning)\n",
      "/anaconda3/lib/python3.7/site-packages/sklearn/linear_model/sag.py:334: ConvergenceWarning: The max_iter was reached which means the coef_ did not converge\n",
      "  \"the coef_ did not converge\", ConvergenceWarning)\n"
     ]
    },
    {
     "name": "stdout",
     "output_type": "stream",
     "text": [
      "[CV]  C=57.6650390625, fit_intercept=True, intercept_scaling=1, solver=liblinear, score=0.5962837837837838, total=   0.3s\n",
      "[CV] C=57.6650390625, fit_intercept=True, intercept_scaling=1, solver=saga \n",
      "[CV]  C=57.6650390625, fit_intercept=True, intercept_scaling=1, solver=saga, score=0.5, total=   0.1s\n",
      "[CV] C=57.6650390625, fit_intercept=True, intercept_scaling=1, solver=saga \n",
      "[CV]  C=57.6650390625, fit_intercept=True, intercept_scaling=1, solver=saga, score=0.5117845117845118, total=   0.1s\n",
      "[CV] C=57.6650390625, fit_intercept=True, intercept_scaling=1, solver=saga \n",
      "[CV]  C=57.6650390625, fit_intercept=True, intercept_scaling=1, solver=saga, score=0.5152027027027027, total=   0.1s\n",
      "[CV] C=57.6650390625, fit_intercept=True, intercept_scaling=5, solver=liblinear \n"
     ]
    },
    {
     "name": "stderr",
     "output_type": "stream",
     "text": [
      "/anaconda3/lib/python3.7/site-packages/sklearn/svm/base.py:931: ConvergenceWarning: Liblinear failed to converge, increase the number of iterations.\n",
      "  \"the number of iterations.\", ConvergenceWarning)\n"
     ]
    },
    {
     "name": "stdout",
     "output_type": "stream",
     "text": [
      "[CV]  C=57.6650390625, fit_intercept=True, intercept_scaling=5, solver=liblinear, score=0.5791245791245792, total=   0.1s\n",
      "[CV] C=57.6650390625, fit_intercept=True, intercept_scaling=5, solver=liblinear \n",
      "[CV]  C=57.6650390625, fit_intercept=True, intercept_scaling=5, solver=liblinear, score=0.5808080808080808, total=   0.1s\n",
      "[CV] C=57.6650390625, fit_intercept=True, intercept_scaling=5, solver=liblinear \n"
     ]
    },
    {
     "name": "stderr",
     "output_type": "stream",
     "text": [
      "/anaconda3/lib/python3.7/site-packages/sklearn/svm/base.py:931: ConvergenceWarning: Liblinear failed to converge, increase the number of iterations.\n",
      "  \"the number of iterations.\", ConvergenceWarning)\n",
      "/anaconda3/lib/python3.7/site-packages/sklearn/linear_model/sag.py:334: ConvergenceWarning: The max_iter was reached which means the coef_ did not converge\n",
      "  \"the coef_ did not converge\", ConvergenceWarning)\n",
      "/anaconda3/lib/python3.7/site-packages/sklearn/linear_model/sag.py:334: ConvergenceWarning: The max_iter was reached which means the coef_ did not converge\n",
      "  \"the coef_ did not converge\", ConvergenceWarning)\n",
      "/anaconda3/lib/python3.7/site-packages/sklearn/linear_model/sag.py:334: ConvergenceWarning: The max_iter was reached which means the coef_ did not converge\n",
      "  \"the coef_ did not converge\", ConvergenceWarning)\n"
     ]
    },
    {
     "name": "stdout",
     "output_type": "stream",
     "text": [
      "[CV]  C=57.6650390625, fit_intercept=True, intercept_scaling=5, solver=liblinear, score=0.5929054054054054, total=   0.2s\n",
      "[CV] C=57.6650390625, fit_intercept=True, intercept_scaling=5, solver=saga \n",
      "[CV]  C=57.6650390625, fit_intercept=True, intercept_scaling=5, solver=saga, score=0.5, total=   0.1s\n",
      "[CV] C=57.6650390625, fit_intercept=True, intercept_scaling=5, solver=saga \n",
      "[CV]  C=57.6650390625, fit_intercept=True, intercept_scaling=5, solver=saga, score=0.5151515151515151, total=   0.1s\n",
      "[CV] C=57.6650390625, fit_intercept=True, intercept_scaling=5, solver=saga \n",
      "[CV]  C=57.6650390625, fit_intercept=True, intercept_scaling=5, solver=saga, score=0.5135135135135135, total=   0.1s\n",
      "[CV] C=57.6650390625, fit_intercept=True, intercept_scaling=10, solver=liblinear \n"
     ]
    },
    {
     "name": "stderr",
     "output_type": "stream",
     "text": [
      "/anaconda3/lib/python3.7/site-packages/sklearn/svm/base.py:931: ConvergenceWarning: Liblinear failed to converge, increase the number of iterations.\n",
      "  \"the number of iterations.\", ConvergenceWarning)\n"
     ]
    },
    {
     "name": "stdout",
     "output_type": "stream",
     "text": [
      "[CV]  C=57.6650390625, fit_intercept=True, intercept_scaling=10, solver=liblinear, score=0.5774410774410774, total=   0.2s\n",
      "[CV] C=57.6650390625, fit_intercept=True, intercept_scaling=10, solver=liblinear \n",
      "[CV]  C=57.6650390625, fit_intercept=True, intercept_scaling=10, solver=liblinear, score=0.5808080808080808, total=   0.1s\n",
      "[CV] C=57.6650390625, fit_intercept=True, intercept_scaling=10, solver=liblinear \n"
     ]
    },
    {
     "name": "stderr",
     "output_type": "stream",
     "text": [
      "/anaconda3/lib/python3.7/site-packages/sklearn/svm/base.py:931: ConvergenceWarning: Liblinear failed to converge, increase the number of iterations.\n",
      "  \"the number of iterations.\", ConvergenceWarning)\n",
      "/anaconda3/lib/python3.7/site-packages/sklearn/linear_model/sag.py:334: ConvergenceWarning: The max_iter was reached which means the coef_ did not converge\n",
      "  \"the coef_ did not converge\", ConvergenceWarning)\n",
      "/anaconda3/lib/python3.7/site-packages/sklearn/linear_model/sag.py:334: ConvergenceWarning: The max_iter was reached which means the coef_ did not converge\n",
      "  \"the coef_ did not converge\", ConvergenceWarning)\n"
     ]
    },
    {
     "name": "stdout",
     "output_type": "stream",
     "text": [
      "[CV]  C=57.6650390625, fit_intercept=True, intercept_scaling=10, solver=liblinear, score=0.589527027027027, total=   0.2s\n",
      "[CV] C=57.6650390625, fit_intercept=True, intercept_scaling=10, solver=saga \n",
      "[CV]  C=57.6650390625, fit_intercept=True, intercept_scaling=10, solver=saga, score=0.5, total=   0.1s\n",
      "[CV] C=57.6650390625, fit_intercept=True, intercept_scaling=10, solver=saga \n",
      "[CV]  C=57.6650390625, fit_intercept=True, intercept_scaling=10, solver=saga, score=0.5134680134680135, total=   0.1s\n",
      "[CV] C=57.6650390625, fit_intercept=True, intercept_scaling=10, solver=saga \n"
     ]
    },
    {
     "name": "stderr",
     "output_type": "stream",
     "text": [
      "/anaconda3/lib/python3.7/site-packages/sklearn/linear_model/sag.py:334: ConvergenceWarning: The max_iter was reached which means the coef_ did not converge\n",
      "  \"the coef_ did not converge\", ConvergenceWarning)\n",
      "/anaconda3/lib/python3.7/site-packages/sklearn/svm/base.py:931: ConvergenceWarning: Liblinear failed to converge, increase the number of iterations.\n",
      "  \"the number of iterations.\", ConvergenceWarning)\n"
     ]
    },
    {
     "name": "stdout",
     "output_type": "stream",
     "text": [
      "[CV]  C=57.6650390625, fit_intercept=True, intercept_scaling=10, solver=saga, score=0.5152027027027027, total=   0.1s\n",
      "[CV] C=57.6650390625, fit_intercept=True, intercept_scaling=25, solver=liblinear \n",
      "[CV]  C=57.6650390625, fit_intercept=True, intercept_scaling=25, solver=liblinear, score=0.5808080808080808, total=   0.2s\n",
      "[CV] C=57.6650390625, fit_intercept=True, intercept_scaling=25, solver=liblinear \n",
      "[CV]  C=57.6650390625, fit_intercept=True, intercept_scaling=25, solver=liblinear, score=0.5808080808080808, total=   0.1s\n",
      "[CV] C=57.6650390625, fit_intercept=True, intercept_scaling=25, solver=liblinear \n",
      "[CV]  C=57.6650390625, fit_intercept=True, intercept_scaling=25, solver=liblinear, score=0.5929054054054054, total=   0.3s\n",
      "[CV] C=57.6650390625, fit_intercept=True, intercept_scaling=25, solver=saga \n",
      "[CV]  C=57.6650390625, fit_intercept=True, intercept_scaling=25, solver=saga, score=0.5, total=   0.1s\n",
      "[CV] C=57.6650390625, fit_intercept=True, intercept_scaling=25, solver=saga \n",
      "[CV]  C=57.6650390625, fit_intercept=True, intercept_scaling=25, solver=saga, score=0.5117845117845118, total=   0.1s\n",
      "[CV] C=57.6650390625, fit_intercept=True, intercept_scaling=25, solver=saga \n",
      "[CV]  C=57.6650390625, fit_intercept=True, intercept_scaling=25, solver=saga, score=0.5135135135135135, total=   0.1s\n",
      "[CV] C=57.6650390625, fit_intercept=True, intercept_scaling=50, solver=liblinear \n"
     ]
    },
    {
     "name": "stderr",
     "output_type": "stream",
     "text": [
      "/anaconda3/lib/python3.7/site-packages/sklearn/linear_model/sag.py:334: ConvergenceWarning: The max_iter was reached which means the coef_ did not converge\n",
      "  \"the coef_ did not converge\", ConvergenceWarning)\n",
      "/anaconda3/lib/python3.7/site-packages/sklearn/linear_model/sag.py:334: ConvergenceWarning: The max_iter was reached which means the coef_ did not converge\n",
      "  \"the coef_ did not converge\", ConvergenceWarning)\n",
      "/anaconda3/lib/python3.7/site-packages/sklearn/linear_model/sag.py:334: ConvergenceWarning: The max_iter was reached which means the coef_ did not converge\n",
      "  \"the coef_ did not converge\", ConvergenceWarning)\n",
      "/anaconda3/lib/python3.7/site-packages/sklearn/svm/base.py:931: ConvergenceWarning: Liblinear failed to converge, increase the number of iterations.\n",
      "  \"the number of iterations.\", ConvergenceWarning)\n"
     ]
    },
    {
     "name": "stdout",
     "output_type": "stream",
     "text": [
      "[CV]  C=57.6650390625, fit_intercept=True, intercept_scaling=50, solver=liblinear, score=0.5791245791245792, total=   0.1s\n",
      "[CV] C=57.6650390625, fit_intercept=True, intercept_scaling=50, solver=liblinear \n",
      "[CV]  C=57.6650390625, fit_intercept=True, intercept_scaling=50, solver=liblinear, score=0.5808080808080808, total=   0.1s\n",
      "[CV] C=57.6650390625, fit_intercept=True, intercept_scaling=50, solver=liblinear \n",
      "[CV]  C=57.6650390625, fit_intercept=True, intercept_scaling=50, solver=liblinear, score=0.5945945945945946, total=   0.3s\n",
      "[CV] C=57.6650390625, fit_intercept=True, intercept_scaling=50, solver=saga \n",
      "[CV]  C=57.6650390625, fit_intercept=True, intercept_scaling=50, solver=saga, score=0.4983164983164983, total=   0.1s\n",
      "[CV] C=57.6650390625, fit_intercept=True, intercept_scaling=50, solver=saga \n",
      "[CV]  C=57.6650390625, fit_intercept=True, intercept_scaling=50, solver=saga, score=0.5134680134680135, total=   0.1s\n",
      "[CV] C=57.6650390625, fit_intercept=True, intercept_scaling=50, solver=saga \n",
      "[CV]  C=57.6650390625, fit_intercept=True, intercept_scaling=50, solver=saga, score=0.5135135135135135, total=   0.1s\n",
      "[CV] C=57.6650390625, fit_intercept=True, intercept_scaling=100, solver=liblinear \n"
     ]
    },
    {
     "name": "stderr",
     "output_type": "stream",
     "text": [
      "/anaconda3/lib/python3.7/site-packages/sklearn/linear_model/sag.py:334: ConvergenceWarning: The max_iter was reached which means the coef_ did not converge\n",
      "  \"the coef_ did not converge\", ConvergenceWarning)\n",
      "/anaconda3/lib/python3.7/site-packages/sklearn/linear_model/sag.py:334: ConvergenceWarning: The max_iter was reached which means the coef_ did not converge\n",
      "  \"the coef_ did not converge\", ConvergenceWarning)\n",
      "/anaconda3/lib/python3.7/site-packages/sklearn/linear_model/sag.py:334: ConvergenceWarning: The max_iter was reached which means the coef_ did not converge\n",
      "  \"the coef_ did not converge\", ConvergenceWarning)\n"
     ]
    },
    {
     "name": "stdout",
     "output_type": "stream",
     "text": [
      "[CV]  C=57.6650390625, fit_intercept=True, intercept_scaling=100, solver=liblinear, score=0.5774410774410774, total=   0.2s\n",
      "[CV] C=57.6650390625, fit_intercept=True, intercept_scaling=100, solver=liblinear \n",
      "[CV]  C=57.6650390625, fit_intercept=True, intercept_scaling=100, solver=liblinear, score=0.5808080808080808, total=   0.1s\n",
      "[CV] C=57.6650390625, fit_intercept=True, intercept_scaling=100, solver=liblinear \n"
     ]
    },
    {
     "name": "stderr",
     "output_type": "stream",
     "text": [
      "/anaconda3/lib/python3.7/site-packages/sklearn/svm/base.py:931: ConvergenceWarning: Liblinear failed to converge, increase the number of iterations.\n",
      "  \"the number of iterations.\", ConvergenceWarning)\n",
      "/anaconda3/lib/python3.7/site-packages/sklearn/linear_model/sag.py:334: ConvergenceWarning: The max_iter was reached which means the coef_ did not converge\n",
      "  \"the coef_ did not converge\", ConvergenceWarning)\n",
      "/anaconda3/lib/python3.7/site-packages/sklearn/linear_model/sag.py:334: ConvergenceWarning: The max_iter was reached which means the coef_ did not converge\n",
      "  \"the coef_ did not converge\", ConvergenceWarning)\n"
     ]
    },
    {
     "name": "stdout",
     "output_type": "stream",
     "text": [
      "[CV]  C=57.6650390625, fit_intercept=True, intercept_scaling=100, solver=liblinear, score=0.5912162162162162, total=   0.3s\n",
      "[CV] C=57.6650390625, fit_intercept=True, intercept_scaling=100, solver=saga \n",
      "[CV]  C=57.6650390625, fit_intercept=True, intercept_scaling=100, solver=saga, score=0.5, total=   0.1s\n",
      "[CV] C=57.6650390625, fit_intercept=True, intercept_scaling=100, solver=saga \n",
      "[CV]  C=57.6650390625, fit_intercept=True, intercept_scaling=100, solver=saga, score=0.5117845117845118, total=   0.1s\n",
      "[CV] C=57.6650390625, fit_intercept=True, intercept_scaling=100, solver=saga \n"
     ]
    },
    {
     "name": "stderr",
     "output_type": "stream",
     "text": [
      "/anaconda3/lib/python3.7/site-packages/sklearn/linear_model/sag.py:334: ConvergenceWarning: The max_iter was reached which means the coef_ did not converge\n",
      "  \"the coef_ did not converge\", ConvergenceWarning)\n"
     ]
    },
    {
     "name": "stdout",
     "output_type": "stream",
     "text": [
      "[CV]  C=57.6650390625, fit_intercept=True, intercept_scaling=100, solver=saga, score=0.5118243243243243, total=   0.1s\n",
      "[CV] C=57.6650390625, fit_intercept=False, intercept_scaling=1, solver=liblinear \n",
      "[CV]  C=57.6650390625, fit_intercept=False, intercept_scaling=1, solver=liblinear, score=0.5757575757575758, total=   0.3s\n",
      "[CV] C=57.6650390625, fit_intercept=False, intercept_scaling=1, solver=liblinear \n",
      "[CV]  C=57.6650390625, fit_intercept=False, intercept_scaling=1, solver=liblinear, score=0.5757575757575758, total=   0.2s\n",
      "[CV] C=57.6650390625, fit_intercept=False, intercept_scaling=1, solver=liblinear \n",
      "[CV]  C=57.6650390625, fit_intercept=False, intercept_scaling=1, solver=liblinear, score=0.5844594594594594, total=   0.3s\n",
      "[CV] C=57.6650390625, fit_intercept=False, intercept_scaling=1, solver=saga \n",
      "[CV]  C=57.6650390625, fit_intercept=False, intercept_scaling=1, solver=saga, score=0.5016835016835017, total=   0.1s\n",
      "[CV] C=57.6650390625, fit_intercept=False, intercept_scaling=1, solver=saga \n",
      "[CV]  C=57.6650390625, fit_intercept=False, intercept_scaling=1, solver=saga, score=0.5168350168350169, total=   0.1s\n",
      "[CV] C=57.6650390625, fit_intercept=False, intercept_scaling=1, solver=saga \n"
     ]
    },
    {
     "name": "stderr",
     "output_type": "stream",
     "text": [
      "/anaconda3/lib/python3.7/site-packages/sklearn/linear_model/sag.py:334: ConvergenceWarning: The max_iter was reached which means the coef_ did not converge\n",
      "  \"the coef_ did not converge\", ConvergenceWarning)\n",
      "/anaconda3/lib/python3.7/site-packages/sklearn/linear_model/sag.py:334: ConvergenceWarning: The max_iter was reached which means the coef_ did not converge\n",
      "  \"the coef_ did not converge\", ConvergenceWarning)\n",
      "/anaconda3/lib/python3.7/site-packages/sklearn/linear_model/sag.py:334: ConvergenceWarning: The max_iter was reached which means the coef_ did not converge\n",
      "  \"the coef_ did not converge\", ConvergenceWarning)\n"
     ]
    },
    {
     "name": "stdout",
     "output_type": "stream",
     "text": [
      "[CV]  C=57.6650390625, fit_intercept=False, intercept_scaling=1, solver=saga, score=0.5135135135135135, total=   0.1s\n",
      "[CV] C=57.6650390625, fit_intercept=False, intercept_scaling=5, solver=liblinear \n",
      "[CV]  C=57.6650390625, fit_intercept=False, intercept_scaling=5, solver=liblinear, score=0.5757575757575758, total=   0.3s\n",
      "[CV] C=57.6650390625, fit_intercept=False, intercept_scaling=5, solver=liblinear \n",
      "[CV]  C=57.6650390625, fit_intercept=False, intercept_scaling=5, solver=liblinear, score=0.5757575757575758, total=   0.1s\n",
      "[CV] C=57.6650390625, fit_intercept=False, intercept_scaling=5, solver=liblinear \n",
      "[CV]  C=57.6650390625, fit_intercept=False, intercept_scaling=5, solver=liblinear, score=0.5844594594594594, total=   0.3s\n",
      "[CV] C=57.6650390625, fit_intercept=False, intercept_scaling=5, solver=saga \n",
      "[CV]  C=57.6650390625, fit_intercept=False, intercept_scaling=5, solver=saga, score=0.4983164983164983, total=   0.1s\n",
      "[CV] C=57.6650390625, fit_intercept=False, intercept_scaling=5, solver=saga \n",
      "[CV]  C=57.6650390625, fit_intercept=False, intercept_scaling=5, solver=saga, score=0.5134680134680135, total=   0.1s\n",
      "[CV] C=57.6650390625, fit_intercept=False, intercept_scaling=5, solver=saga \n"
     ]
    },
    {
     "name": "stderr",
     "output_type": "stream",
     "text": [
      "/anaconda3/lib/python3.7/site-packages/sklearn/linear_model/sag.py:334: ConvergenceWarning: The max_iter was reached which means the coef_ did not converge\n",
      "  \"the coef_ did not converge\", ConvergenceWarning)\n",
      "/anaconda3/lib/python3.7/site-packages/sklearn/linear_model/sag.py:334: ConvergenceWarning: The max_iter was reached which means the coef_ did not converge\n",
      "  \"the coef_ did not converge\", ConvergenceWarning)\n",
      "/anaconda3/lib/python3.7/site-packages/sklearn/linear_model/sag.py:334: ConvergenceWarning: The max_iter was reached which means the coef_ did not converge\n",
      "  \"the coef_ did not converge\", ConvergenceWarning)\n"
     ]
    },
    {
     "name": "stdout",
     "output_type": "stream",
     "text": [
      "[CV]  C=57.6650390625, fit_intercept=False, intercept_scaling=5, solver=saga, score=0.5135135135135135, total=   0.1s\n",
      "[CV] C=57.6650390625, fit_intercept=False, intercept_scaling=10, solver=liblinear \n",
      "[CV]  C=57.6650390625, fit_intercept=False, intercept_scaling=10, solver=liblinear, score=0.5757575757575758, total=   0.2s\n",
      "[CV] C=57.6650390625, fit_intercept=False, intercept_scaling=10, solver=liblinear \n",
      "[CV]  C=57.6650390625, fit_intercept=False, intercept_scaling=10, solver=liblinear, score=0.5757575757575758, total=   0.1s\n",
      "[CV] C=57.6650390625, fit_intercept=False, intercept_scaling=10, solver=liblinear \n",
      "[CV]  C=57.6650390625, fit_intercept=False, intercept_scaling=10, solver=liblinear, score=0.5844594594594594, total=   0.3s\n",
      "[CV] C=57.6650390625, fit_intercept=False, intercept_scaling=10, solver=saga \n",
      "[CV]  C=57.6650390625, fit_intercept=False, intercept_scaling=10, solver=saga, score=0.4983164983164983, total=   0.1s\n",
      "[CV] C=57.6650390625, fit_intercept=False, intercept_scaling=10, solver=saga \n",
      "[CV]  C=57.6650390625, fit_intercept=False, intercept_scaling=10, solver=saga, score=0.5084175084175084, total=   0.1s\n",
      "[CV] C=57.6650390625, fit_intercept=False, intercept_scaling=10, solver=saga \n",
      "[CV]  C=57.6650390625, fit_intercept=False, intercept_scaling=10, solver=saga, score=0.5135135135135135, total=   0.1s\n",
      "[CV] C=57.6650390625, fit_intercept=False, intercept_scaling=25, solver=liblinear \n"
     ]
    },
    {
     "name": "stderr",
     "output_type": "stream",
     "text": [
      "/anaconda3/lib/python3.7/site-packages/sklearn/linear_model/sag.py:334: ConvergenceWarning: The max_iter was reached which means the coef_ did not converge\n",
      "  \"the coef_ did not converge\", ConvergenceWarning)\n",
      "/anaconda3/lib/python3.7/site-packages/sklearn/linear_model/sag.py:334: ConvergenceWarning: The max_iter was reached which means the coef_ did not converge\n",
      "  \"the coef_ did not converge\", ConvergenceWarning)\n",
      "/anaconda3/lib/python3.7/site-packages/sklearn/linear_model/sag.py:334: ConvergenceWarning: The max_iter was reached which means the coef_ did not converge\n",
      "  \"the coef_ did not converge\", ConvergenceWarning)\n"
     ]
    },
    {
     "name": "stdout",
     "output_type": "stream",
     "text": [
      "[CV]  C=57.6650390625, fit_intercept=False, intercept_scaling=25, solver=liblinear, score=0.5757575757575758, total=   0.2s\n",
      "[CV] C=57.6650390625, fit_intercept=False, intercept_scaling=25, solver=liblinear \n",
      "[CV]  C=57.6650390625, fit_intercept=False, intercept_scaling=25, solver=liblinear, score=0.5757575757575758, total=   0.1s\n",
      "[CV] C=57.6650390625, fit_intercept=False, intercept_scaling=25, solver=liblinear \n",
      "[CV]  C=57.6650390625, fit_intercept=False, intercept_scaling=25, solver=liblinear, score=0.5844594594594594, total=   0.3s\n",
      "[CV] C=57.6650390625, fit_intercept=False, intercept_scaling=25, solver=saga \n",
      "[CV]  C=57.6650390625, fit_intercept=False, intercept_scaling=25, solver=saga, score=0.5, total=   0.1s\n",
      "[CV] C=57.6650390625, fit_intercept=False, intercept_scaling=25, solver=saga \n",
      "[CV]  C=57.6650390625, fit_intercept=False, intercept_scaling=25, solver=saga, score=0.5117845117845118, total=   0.1s\n",
      "[CV] C=57.6650390625, fit_intercept=False, intercept_scaling=25, solver=saga \n"
     ]
    },
    {
     "name": "stderr",
     "output_type": "stream",
     "text": [
      "/anaconda3/lib/python3.7/site-packages/sklearn/linear_model/sag.py:334: ConvergenceWarning: The max_iter was reached which means the coef_ did not converge\n",
      "  \"the coef_ did not converge\", ConvergenceWarning)\n",
      "/anaconda3/lib/python3.7/site-packages/sklearn/linear_model/sag.py:334: ConvergenceWarning: The max_iter was reached which means the coef_ did not converge\n",
      "  \"the coef_ did not converge\", ConvergenceWarning)\n",
      "/anaconda3/lib/python3.7/site-packages/sklearn/linear_model/sag.py:334: ConvergenceWarning: The max_iter was reached which means the coef_ did not converge\n",
      "  \"the coef_ did not converge\", ConvergenceWarning)\n"
     ]
    },
    {
     "name": "stdout",
     "output_type": "stream",
     "text": [
      "[CV]  C=57.6650390625, fit_intercept=False, intercept_scaling=25, solver=saga, score=0.5118243243243243, total=   0.1s\n",
      "[CV] C=57.6650390625, fit_intercept=False, intercept_scaling=50, solver=liblinear \n",
      "[CV]  C=57.6650390625, fit_intercept=False, intercept_scaling=50, solver=liblinear, score=0.5757575757575758, total=   0.2s\n",
      "[CV] C=57.6650390625, fit_intercept=False, intercept_scaling=50, solver=liblinear \n",
      "[CV]  C=57.6650390625, fit_intercept=False, intercept_scaling=50, solver=liblinear, score=0.5757575757575758, total=   0.1s\n",
      "[CV] C=57.6650390625, fit_intercept=False, intercept_scaling=50, solver=liblinear \n",
      "[CV]  C=57.6650390625, fit_intercept=False, intercept_scaling=50, solver=liblinear, score=0.5844594594594594, total=   0.3s\n",
      "[CV] C=57.6650390625, fit_intercept=False, intercept_scaling=50, solver=saga \n",
      "[CV]  C=57.6650390625, fit_intercept=False, intercept_scaling=50, solver=saga, score=0.5, total=   0.1s\n",
      "[CV] C=57.6650390625, fit_intercept=False, intercept_scaling=50, solver=saga \n",
      "[CV]  C=57.6650390625, fit_intercept=False, intercept_scaling=50, solver=saga, score=0.5151515151515151, total=   0.1s\n",
      "[CV] C=57.6650390625, fit_intercept=False, intercept_scaling=50, solver=saga \n",
      "[CV]  C=57.6650390625, fit_intercept=False, intercept_scaling=50, solver=saga, score=0.5118243243243243, total=   0.1s\n",
      "[CV] C=57.6650390625, fit_intercept=False, intercept_scaling=100, solver=liblinear \n"
     ]
    },
    {
     "name": "stderr",
     "output_type": "stream",
     "text": [
      "/anaconda3/lib/python3.7/site-packages/sklearn/linear_model/sag.py:334: ConvergenceWarning: The max_iter was reached which means the coef_ did not converge\n",
      "  \"the coef_ did not converge\", ConvergenceWarning)\n",
      "/anaconda3/lib/python3.7/site-packages/sklearn/linear_model/sag.py:334: ConvergenceWarning: The max_iter was reached which means the coef_ did not converge\n",
      "  \"the coef_ did not converge\", ConvergenceWarning)\n",
      "/anaconda3/lib/python3.7/site-packages/sklearn/linear_model/sag.py:334: ConvergenceWarning: The max_iter was reached which means the coef_ did not converge\n",
      "  \"the coef_ did not converge\", ConvergenceWarning)\n"
     ]
    },
    {
     "name": "stdout",
     "output_type": "stream",
     "text": [
      "[CV]  C=57.6650390625, fit_intercept=False, intercept_scaling=100, solver=liblinear, score=0.5757575757575758, total=   0.2s\n",
      "[CV] C=57.6650390625, fit_intercept=False, intercept_scaling=100, solver=liblinear \n",
      "[CV]  C=57.6650390625, fit_intercept=False, intercept_scaling=100, solver=liblinear, score=0.5757575757575758, total=   0.1s\n",
      "[CV] C=57.6650390625, fit_intercept=False, intercept_scaling=100, solver=liblinear \n",
      "[CV]  C=57.6650390625, fit_intercept=False, intercept_scaling=100, solver=liblinear, score=0.5844594594594594, total=   0.3s\n",
      "[CV] C=57.6650390625, fit_intercept=False, intercept_scaling=100, solver=saga \n",
      "[CV]  C=57.6650390625, fit_intercept=False, intercept_scaling=100, solver=saga, score=0.4983164983164983, total=   0.1s\n",
      "[CV] C=57.6650390625, fit_intercept=False, intercept_scaling=100, solver=saga \n",
      "[CV]  C=57.6650390625, fit_intercept=False, intercept_scaling=100, solver=saga, score=0.5151515151515151, total=   0.1s\n",
      "[CV] C=57.6650390625, fit_intercept=False, intercept_scaling=100, solver=saga \n",
      "[CV]  C=57.6650390625, fit_intercept=False, intercept_scaling=100, solver=saga, score=0.5118243243243243, total=   0.1s\n",
      "[CV] C=129.746337890625, fit_intercept=True, intercept_scaling=1, solver=liblinear \n"
     ]
    },
    {
     "name": "stderr",
     "output_type": "stream",
     "text": [
      "/anaconda3/lib/python3.7/site-packages/sklearn/linear_model/sag.py:334: ConvergenceWarning: The max_iter was reached which means the coef_ did not converge\n",
      "  \"the coef_ did not converge\", ConvergenceWarning)\n",
      "/anaconda3/lib/python3.7/site-packages/sklearn/linear_model/sag.py:334: ConvergenceWarning: The max_iter was reached which means the coef_ did not converge\n",
      "  \"the coef_ did not converge\", ConvergenceWarning)\n",
      "/anaconda3/lib/python3.7/site-packages/sklearn/linear_model/sag.py:334: ConvergenceWarning: The max_iter was reached which means the coef_ did not converge\n",
      "  \"the coef_ did not converge\", ConvergenceWarning)\n"
     ]
    },
    {
     "name": "stdout",
     "output_type": "stream",
     "text": [
      "[CV]  C=129.746337890625, fit_intercept=True, intercept_scaling=1, solver=liblinear, score=0.5791245791245792, total=   0.2s\n",
      "[CV] C=129.746337890625, fit_intercept=True, intercept_scaling=1, solver=liblinear \n",
      "[CV]  C=129.746337890625, fit_intercept=True, intercept_scaling=1, solver=liblinear, score=0.5791245791245792, total=   0.1s\n",
      "[CV] C=129.746337890625, fit_intercept=True, intercept_scaling=1, solver=liblinear \n",
      "[CV]  C=129.746337890625, fit_intercept=True, intercept_scaling=1, solver=liblinear, score=0.5945945945945946, total=   0.2s\n",
      "[CV] C=129.746337890625, fit_intercept=True, intercept_scaling=1, solver=saga \n",
      "[CV]  C=129.746337890625, fit_intercept=True, intercept_scaling=1, solver=saga, score=0.5, total=   0.1s\n",
      "[CV] C=129.746337890625, fit_intercept=True, intercept_scaling=1, solver=saga \n",
      "[CV]  C=129.746337890625, fit_intercept=True, intercept_scaling=1, solver=saga, score=0.5168350168350169, total=   0.1s\n",
      "[CV] C=129.746337890625, fit_intercept=True, intercept_scaling=1, solver=saga \n",
      "[CV]  C=129.746337890625, fit_intercept=True, intercept_scaling=1, solver=saga, score=0.5118243243243243, total=   0.1s\n",
      "[CV] C=129.746337890625, fit_intercept=True, intercept_scaling=5, solver=liblinear \n"
     ]
    },
    {
     "name": "stderr",
     "output_type": "stream",
     "text": [
      "/anaconda3/lib/python3.7/site-packages/sklearn/linear_model/sag.py:334: ConvergenceWarning: The max_iter was reached which means the coef_ did not converge\n",
      "  \"the coef_ did not converge\", ConvergenceWarning)\n",
      "/anaconda3/lib/python3.7/site-packages/sklearn/linear_model/sag.py:334: ConvergenceWarning: The max_iter was reached which means the coef_ did not converge\n",
      "  \"the coef_ did not converge\", ConvergenceWarning)\n",
      "/anaconda3/lib/python3.7/site-packages/sklearn/linear_model/sag.py:334: ConvergenceWarning: The max_iter was reached which means the coef_ did not converge\n",
      "  \"the coef_ did not converge\", ConvergenceWarning)\n"
     ]
    },
    {
     "name": "stdout",
     "output_type": "stream",
     "text": [
      "[CV]  C=129.746337890625, fit_intercept=True, intercept_scaling=5, solver=liblinear, score=0.5791245791245792, total=   0.2s\n",
      "[CV] C=129.746337890625, fit_intercept=True, intercept_scaling=5, solver=liblinear \n",
      "[CV]  C=129.746337890625, fit_intercept=True, intercept_scaling=5, solver=liblinear, score=0.5808080808080808, total=   0.1s\n",
      "[CV] C=129.746337890625, fit_intercept=True, intercept_scaling=5, solver=liblinear \n",
      "[CV]  C=129.746337890625, fit_intercept=True, intercept_scaling=5, solver=liblinear, score=0.5878378378378378, total=   0.3s\n",
      "[CV] C=129.746337890625, fit_intercept=True, intercept_scaling=5, solver=saga \n",
      "[CV]  C=129.746337890625, fit_intercept=True, intercept_scaling=5, solver=saga, score=0.4983164983164983, total=   0.1s\n",
      "[CV] C=129.746337890625, fit_intercept=True, intercept_scaling=5, solver=saga \n"
     ]
    },
    {
     "name": "stderr",
     "output_type": "stream",
     "text": [
      "/anaconda3/lib/python3.7/site-packages/sklearn/linear_model/sag.py:334: ConvergenceWarning: The max_iter was reached which means the coef_ did not converge\n",
      "  \"the coef_ did not converge\", ConvergenceWarning)\n",
      "/anaconda3/lib/python3.7/site-packages/sklearn/linear_model/sag.py:334: ConvergenceWarning: The max_iter was reached which means the coef_ did not converge\n",
      "  \"the coef_ did not converge\", ConvergenceWarning)\n",
      "/anaconda3/lib/python3.7/site-packages/sklearn/linear_model/sag.py:334: ConvergenceWarning: The max_iter was reached which means the coef_ did not converge\n",
      "  \"the coef_ did not converge\", ConvergenceWarning)\n"
     ]
    },
    {
     "name": "stdout",
     "output_type": "stream",
     "text": [
      "[CV]  C=129.746337890625, fit_intercept=True, intercept_scaling=5, solver=saga, score=0.5151515151515151, total=   0.1s\n",
      "[CV] C=129.746337890625, fit_intercept=True, intercept_scaling=5, solver=saga \n",
      "[CV]  C=129.746337890625, fit_intercept=True, intercept_scaling=5, solver=saga, score=0.5118243243243243, total=   0.1s\n",
      "[CV] C=129.746337890625, fit_intercept=True, intercept_scaling=10, solver=liblinear \n"
     ]
    },
    {
     "name": "stderr",
     "output_type": "stream",
     "text": [
      "/anaconda3/lib/python3.7/site-packages/sklearn/svm/base.py:931: ConvergenceWarning: Liblinear failed to converge, increase the number of iterations.\n",
      "  \"the number of iterations.\", ConvergenceWarning)\n"
     ]
    },
    {
     "name": "stdout",
     "output_type": "stream",
     "text": [
      "[CV]  C=129.746337890625, fit_intercept=True, intercept_scaling=10, solver=liblinear, score=0.5757575757575758, total=   0.2s\n",
      "[CV] C=129.746337890625, fit_intercept=True, intercept_scaling=10, solver=liblinear \n",
      "[CV]  C=129.746337890625, fit_intercept=True, intercept_scaling=10, solver=liblinear, score=0.5791245791245792, total=   0.1s\n",
      "[CV] C=129.746337890625, fit_intercept=True, intercept_scaling=10, solver=liblinear \n"
     ]
    },
    {
     "name": "stderr",
     "output_type": "stream",
     "text": [
      "/anaconda3/lib/python3.7/site-packages/sklearn/svm/base.py:931: ConvergenceWarning: Liblinear failed to converge, increase the number of iterations.\n",
      "  \"the number of iterations.\", ConvergenceWarning)\n",
      "/anaconda3/lib/python3.7/site-packages/sklearn/linear_model/sag.py:334: ConvergenceWarning: The max_iter was reached which means the coef_ did not converge\n",
      "  \"the coef_ did not converge\", ConvergenceWarning)\n",
      "/anaconda3/lib/python3.7/site-packages/sklearn/linear_model/sag.py:334: ConvergenceWarning: The max_iter was reached which means the coef_ did not converge\n",
      "  \"the coef_ did not converge\", ConvergenceWarning)\n"
     ]
    },
    {
     "name": "stdout",
     "output_type": "stream",
     "text": [
      "[CV]  C=129.746337890625, fit_intercept=True, intercept_scaling=10, solver=liblinear, score=0.5878378378378378, total=   0.3s\n",
      "[CV] C=129.746337890625, fit_intercept=True, intercept_scaling=10, solver=saga \n",
      "[CV]  C=129.746337890625, fit_intercept=True, intercept_scaling=10, solver=saga, score=0.4983164983164983, total=   0.1s\n",
      "[CV] C=129.746337890625, fit_intercept=True, intercept_scaling=10, solver=saga \n",
      "[CV]  C=129.746337890625, fit_intercept=True, intercept_scaling=10, solver=saga, score=0.5168350168350169, total=   0.1s\n",
      "[CV] C=129.746337890625, fit_intercept=True, intercept_scaling=10, solver=saga \n"
     ]
    },
    {
     "name": "stderr",
     "output_type": "stream",
     "text": [
      "/anaconda3/lib/python3.7/site-packages/sklearn/linear_model/sag.py:334: ConvergenceWarning: The max_iter was reached which means the coef_ did not converge\n",
      "  \"the coef_ did not converge\", ConvergenceWarning)\n"
     ]
    },
    {
     "name": "stdout",
     "output_type": "stream",
     "text": [
      "[CV]  C=129.746337890625, fit_intercept=True, intercept_scaling=10, solver=saga, score=0.5135135135135135, total=   0.1s\n",
      "[CV] C=129.746337890625, fit_intercept=True, intercept_scaling=25, solver=liblinear \n"
     ]
    },
    {
     "name": "stderr",
     "output_type": "stream",
     "text": [
      "/anaconda3/lib/python3.7/site-packages/sklearn/svm/base.py:931: ConvergenceWarning: Liblinear failed to converge, increase the number of iterations.\n",
      "  \"the number of iterations.\", ConvergenceWarning)\n"
     ]
    },
    {
     "name": "stdout",
     "output_type": "stream",
     "text": [
      "[CV]  C=129.746337890625, fit_intercept=True, intercept_scaling=25, solver=liblinear, score=0.5740740740740741, total=   0.2s\n",
      "[CV] C=129.746337890625, fit_intercept=True, intercept_scaling=25, solver=liblinear \n",
      "[CV]  C=129.746337890625, fit_intercept=True, intercept_scaling=25, solver=liblinear, score=0.5791245791245792, total=   0.1s\n",
      "[CV] C=129.746337890625, fit_intercept=True, intercept_scaling=25, solver=liblinear \n",
      "[CV]  C=129.746337890625, fit_intercept=True, intercept_scaling=25, solver=liblinear, score=0.5945945945945946, total=   0.3s\n",
      "[CV] C=129.746337890625, fit_intercept=True, intercept_scaling=25, solver=saga \n",
      "[CV]  C=129.746337890625, fit_intercept=True, intercept_scaling=25, solver=saga, score=0.5, total=   0.1s\n",
      "[CV] C=129.746337890625, fit_intercept=True, intercept_scaling=25, solver=saga \n",
      "[CV]  C=129.746337890625, fit_intercept=True, intercept_scaling=25, solver=saga, score=0.5151515151515151, total=   0.1s\n",
      "[CV] C=129.746337890625, fit_intercept=True, intercept_scaling=25, solver=saga \n"
     ]
    },
    {
     "name": "stderr",
     "output_type": "stream",
     "text": [
      "/anaconda3/lib/python3.7/site-packages/sklearn/linear_model/sag.py:334: ConvergenceWarning: The max_iter was reached which means the coef_ did not converge\n",
      "  \"the coef_ did not converge\", ConvergenceWarning)\n",
      "/anaconda3/lib/python3.7/site-packages/sklearn/linear_model/sag.py:334: ConvergenceWarning: The max_iter was reached which means the coef_ did not converge\n",
      "  \"the coef_ did not converge\", ConvergenceWarning)\n",
      "/anaconda3/lib/python3.7/site-packages/sklearn/linear_model/sag.py:334: ConvergenceWarning: The max_iter was reached which means the coef_ did not converge\n",
      "  \"the coef_ did not converge\", ConvergenceWarning)\n"
     ]
    },
    {
     "name": "stdout",
     "output_type": "stream",
     "text": [
      "[CV]  C=129.746337890625, fit_intercept=True, intercept_scaling=25, solver=saga, score=0.5118243243243243, total=   0.1s\n",
      "[CV] C=129.746337890625, fit_intercept=True, intercept_scaling=50, solver=liblinear \n",
      "[CV]  C=129.746337890625, fit_intercept=True, intercept_scaling=50, solver=liblinear, score=0.5774410774410774, total=   0.3s\n",
      "[CV] C=129.746337890625, fit_intercept=True, intercept_scaling=50, solver=liblinear \n",
      "[CV]  C=129.746337890625, fit_intercept=True, intercept_scaling=50, solver=liblinear, score=0.5808080808080808, total=   0.2s\n",
      "[CV] C=129.746337890625, fit_intercept=True, intercept_scaling=50, solver=liblinear \n"
     ]
    },
    {
     "name": "stderr",
     "output_type": "stream",
     "text": [
      "/anaconda3/lib/python3.7/site-packages/sklearn/svm/base.py:931: ConvergenceWarning: Liblinear failed to converge, increase the number of iterations.\n",
      "  \"the number of iterations.\", ConvergenceWarning)\n",
      "/anaconda3/lib/python3.7/site-packages/sklearn/linear_model/sag.py:334: ConvergenceWarning: The max_iter was reached which means the coef_ did not converge\n",
      "  \"the coef_ did not converge\", ConvergenceWarning)\n",
      "/anaconda3/lib/python3.7/site-packages/sklearn/linear_model/sag.py:334: ConvergenceWarning: The max_iter was reached which means the coef_ did not converge\n",
      "  \"the coef_ did not converge\", ConvergenceWarning)\n"
     ]
    },
    {
     "name": "stdout",
     "output_type": "stream",
     "text": [
      "[CV]  C=129.746337890625, fit_intercept=True, intercept_scaling=50, solver=liblinear, score=0.5962837837837838, total=   0.3s\n",
      "[CV] C=129.746337890625, fit_intercept=True, intercept_scaling=50, solver=saga \n",
      "[CV]  C=129.746337890625, fit_intercept=True, intercept_scaling=50, solver=saga, score=0.5, total=   0.1s\n",
      "[CV] C=129.746337890625, fit_intercept=True, intercept_scaling=50, solver=saga \n",
      "[CV]  C=129.746337890625, fit_intercept=True, intercept_scaling=50, solver=saga, score=0.5134680134680135, total=   0.1s\n",
      "[CV] C=129.746337890625, fit_intercept=True, intercept_scaling=50, solver=saga \n"
     ]
    },
    {
     "name": "stderr",
     "output_type": "stream",
     "text": [
      "/anaconda3/lib/python3.7/site-packages/sklearn/linear_model/sag.py:334: ConvergenceWarning: The max_iter was reached which means the coef_ did not converge\n",
      "  \"the coef_ did not converge\", ConvergenceWarning)\n"
     ]
    },
    {
     "name": "stdout",
     "output_type": "stream",
     "text": [
      "[CV]  C=129.746337890625, fit_intercept=True, intercept_scaling=50, solver=saga, score=0.5152027027027027, total=   0.1s\n",
      "[CV] C=129.746337890625, fit_intercept=True, intercept_scaling=100, solver=liblinear \n",
      "[CV]  C=129.746337890625, fit_intercept=True, intercept_scaling=100, solver=liblinear, score=0.5774410774410774, total=   0.2s\n",
      "[CV] C=129.746337890625, fit_intercept=True, intercept_scaling=100, solver=liblinear \n",
      "[CV]  C=129.746337890625, fit_intercept=True, intercept_scaling=100, solver=liblinear, score=0.5808080808080808, total=   0.1s\n",
      "[CV] C=129.746337890625, fit_intercept=True, intercept_scaling=100, solver=liblinear \n",
      "[CV]  C=129.746337890625, fit_intercept=True, intercept_scaling=100, solver=liblinear, score=0.5945945945945946, total=   0.3s\n",
      "[CV] C=129.746337890625, fit_intercept=True, intercept_scaling=100, solver=saga \n",
      "[CV]  C=129.746337890625, fit_intercept=True, intercept_scaling=100, solver=saga, score=0.5016835016835017, total=   0.1s\n",
      "[CV] C=129.746337890625, fit_intercept=True, intercept_scaling=100, solver=saga \n",
      "[CV]  C=129.746337890625, fit_intercept=True, intercept_scaling=100, solver=saga, score=0.5117845117845118, total=   0.1s\n",
      "[CV] C=129.746337890625, fit_intercept=True, intercept_scaling=100, solver=saga \n",
      "[CV]  C=129.746337890625, fit_intercept=True, intercept_scaling=100, solver=saga, score=0.5135135135135135, total=   0.1s\n",
      "[CV] C=129.746337890625, fit_intercept=False, intercept_scaling=1, solver=liblinear \n"
     ]
    },
    {
     "name": "stderr",
     "output_type": "stream",
     "text": [
      "/anaconda3/lib/python3.7/site-packages/sklearn/linear_model/sag.py:334: ConvergenceWarning: The max_iter was reached which means the coef_ did not converge\n",
      "  \"the coef_ did not converge\", ConvergenceWarning)\n",
      "/anaconda3/lib/python3.7/site-packages/sklearn/linear_model/sag.py:334: ConvergenceWarning: The max_iter was reached which means the coef_ did not converge\n",
      "  \"the coef_ did not converge\", ConvergenceWarning)\n",
      "/anaconda3/lib/python3.7/site-packages/sklearn/linear_model/sag.py:334: ConvergenceWarning: The max_iter was reached which means the coef_ did not converge\n",
      "  \"the coef_ did not converge\", ConvergenceWarning)\n",
      "/anaconda3/lib/python3.7/site-packages/sklearn/svm/base.py:931: ConvergenceWarning: Liblinear failed to converge, increase the number of iterations.\n",
      "  \"the number of iterations.\", ConvergenceWarning)\n"
     ]
    },
    {
     "name": "stdout",
     "output_type": "stream",
     "text": [
      "[CV]  C=129.746337890625, fit_intercept=False, intercept_scaling=1, solver=liblinear, score=0.5774410774410774, total=   0.3s\n",
      "[CV] C=129.746337890625, fit_intercept=False, intercept_scaling=1, solver=liblinear \n",
      "[CV]  C=129.746337890625, fit_intercept=False, intercept_scaling=1, solver=liblinear, score=0.5757575757575758, total=   0.2s\n",
      "[CV] C=129.746337890625, fit_intercept=False, intercept_scaling=1, solver=liblinear \n"
     ]
    },
    {
     "name": "stderr",
     "output_type": "stream",
     "text": [
      "/anaconda3/lib/python3.7/site-packages/sklearn/svm/base.py:931: ConvergenceWarning: Liblinear failed to converge, increase the number of iterations.\n",
      "  \"the number of iterations.\", ConvergenceWarning)\n"
     ]
    },
    {
     "name": "stdout",
     "output_type": "stream",
     "text": [
      "[CV]  C=129.746337890625, fit_intercept=False, intercept_scaling=1, solver=liblinear, score=0.5709459459459459, total=   0.4s\n",
      "[CV] C=129.746337890625, fit_intercept=False, intercept_scaling=1, solver=saga \n"
     ]
    },
    {
     "name": "stderr",
     "output_type": "stream",
     "text": [
      "/anaconda3/lib/python3.7/site-packages/sklearn/linear_model/sag.py:334: ConvergenceWarning: The max_iter was reached which means the coef_ did not converge\n",
      "  \"the coef_ did not converge\", ConvergenceWarning)\n",
      "/anaconda3/lib/python3.7/site-packages/sklearn/linear_model/sag.py:334: ConvergenceWarning: The max_iter was reached which means the coef_ did not converge\n",
      "  \"the coef_ did not converge\", ConvergenceWarning)\n"
     ]
    },
    {
     "name": "stdout",
     "output_type": "stream",
     "text": [
      "[CV]  C=129.746337890625, fit_intercept=False, intercept_scaling=1, solver=saga, score=0.4983164983164983, total=   0.2s\n",
      "[CV] C=129.746337890625, fit_intercept=False, intercept_scaling=1, solver=saga \n",
      "[CV]  C=129.746337890625, fit_intercept=False, intercept_scaling=1, solver=saga, score=0.5151515151515151, total=   0.1s\n",
      "[CV] C=129.746337890625, fit_intercept=False, intercept_scaling=1, solver=saga \n"
     ]
    },
    {
     "name": "stderr",
     "output_type": "stream",
     "text": [
      "/anaconda3/lib/python3.7/site-packages/sklearn/linear_model/sag.py:334: ConvergenceWarning: The max_iter was reached which means the coef_ did not converge\n",
      "  \"the coef_ did not converge\", ConvergenceWarning)\n"
     ]
    },
    {
     "name": "stdout",
     "output_type": "stream",
     "text": [
      "[CV]  C=129.746337890625, fit_intercept=False, intercept_scaling=1, solver=saga, score=0.5135135135135135, total=   0.1s\n",
      "[CV] C=129.746337890625, fit_intercept=False, intercept_scaling=5, solver=liblinear \n"
     ]
    },
    {
     "name": "stderr",
     "output_type": "stream",
     "text": [
      "/anaconda3/lib/python3.7/site-packages/sklearn/svm/base.py:931: ConvergenceWarning: Liblinear failed to converge, increase the number of iterations.\n",
      "  \"the number of iterations.\", ConvergenceWarning)\n"
     ]
    },
    {
     "name": "stdout",
     "output_type": "stream",
     "text": [
      "[CV]  C=129.746337890625, fit_intercept=False, intercept_scaling=5, solver=liblinear, score=0.5774410774410774, total=   0.3s\n",
      "[CV] C=129.746337890625, fit_intercept=False, intercept_scaling=5, solver=liblinear \n",
      "[CV]  C=129.746337890625, fit_intercept=False, intercept_scaling=5, solver=liblinear, score=0.5757575757575758, total=   0.2s\n",
      "[CV] C=129.746337890625, fit_intercept=False, intercept_scaling=5, solver=liblinear \n"
     ]
    },
    {
     "name": "stderr",
     "output_type": "stream",
     "text": [
      "/anaconda3/lib/python3.7/site-packages/sklearn/svm/base.py:931: ConvergenceWarning: Liblinear failed to converge, increase the number of iterations.\n",
      "  \"the number of iterations.\", ConvergenceWarning)\n",
      "/anaconda3/lib/python3.7/site-packages/sklearn/linear_model/sag.py:334: ConvergenceWarning: The max_iter was reached which means the coef_ did not converge\n",
      "  \"the coef_ did not converge\", ConvergenceWarning)\n",
      "/anaconda3/lib/python3.7/site-packages/sklearn/linear_model/sag.py:334: ConvergenceWarning: The max_iter was reached which means the coef_ did not converge\n",
      "  \"the coef_ did not converge\", ConvergenceWarning)\n"
     ]
    },
    {
     "name": "stdout",
     "output_type": "stream",
     "text": [
      "[CV]  C=129.746337890625, fit_intercept=False, intercept_scaling=5, solver=liblinear, score=0.5709459459459459, total=   0.3s\n",
      "[CV] C=129.746337890625, fit_intercept=False, intercept_scaling=5, solver=saga \n",
      "[CV]  C=129.746337890625, fit_intercept=False, intercept_scaling=5, solver=saga, score=0.5, total=   0.1s\n",
      "[CV] C=129.746337890625, fit_intercept=False, intercept_scaling=5, solver=saga \n",
      "[CV]  C=129.746337890625, fit_intercept=False, intercept_scaling=5, solver=saga, score=0.5134680134680135, total=   0.1s\n",
      "[CV] C=129.746337890625, fit_intercept=False, intercept_scaling=5, solver=saga \n"
     ]
    },
    {
     "name": "stderr",
     "output_type": "stream",
     "text": [
      "/anaconda3/lib/python3.7/site-packages/sklearn/linear_model/sag.py:334: ConvergenceWarning: The max_iter was reached which means the coef_ did not converge\n",
      "  \"the coef_ did not converge\", ConvergenceWarning)\n"
     ]
    },
    {
     "name": "stdout",
     "output_type": "stream",
     "text": [
      "[CV]  C=129.746337890625, fit_intercept=False, intercept_scaling=5, solver=saga, score=0.5152027027027027, total=   0.2s\n",
      "[CV] C=129.746337890625, fit_intercept=False, intercept_scaling=10, solver=liblinear \n"
     ]
    },
    {
     "name": "stderr",
     "output_type": "stream",
     "text": [
      "/anaconda3/lib/python3.7/site-packages/sklearn/svm/base.py:931: ConvergenceWarning: Liblinear failed to converge, increase the number of iterations.\n",
      "  \"the number of iterations.\", ConvergenceWarning)\n"
     ]
    },
    {
     "name": "stdout",
     "output_type": "stream",
     "text": [
      "[CV]  C=129.746337890625, fit_intercept=False, intercept_scaling=10, solver=liblinear, score=0.5774410774410774, total=   0.3s\n",
      "[CV] C=129.746337890625, fit_intercept=False, intercept_scaling=10, solver=liblinear \n",
      "[CV]  C=129.746337890625, fit_intercept=False, intercept_scaling=10, solver=liblinear, score=0.5757575757575758, total=   0.3s\n",
      "[CV] C=129.746337890625, fit_intercept=False, intercept_scaling=10, solver=liblinear \n"
     ]
    },
    {
     "name": "stderr",
     "output_type": "stream",
     "text": [
      "/anaconda3/lib/python3.7/site-packages/sklearn/svm/base.py:931: ConvergenceWarning: Liblinear failed to converge, increase the number of iterations.\n",
      "  \"the number of iterations.\", ConvergenceWarning)\n",
      "/anaconda3/lib/python3.7/site-packages/sklearn/linear_model/sag.py:334: ConvergenceWarning: The max_iter was reached which means the coef_ did not converge\n",
      "  \"the coef_ did not converge\", ConvergenceWarning)\n",
      "/anaconda3/lib/python3.7/site-packages/sklearn/linear_model/sag.py:334: ConvergenceWarning: The max_iter was reached which means the coef_ did not converge\n",
      "  \"the coef_ did not converge\", ConvergenceWarning)\n"
     ]
    },
    {
     "name": "stdout",
     "output_type": "stream",
     "text": [
      "[CV]  C=129.746337890625, fit_intercept=False, intercept_scaling=10, solver=liblinear, score=0.5709459459459459, total=   0.3s\n",
      "[CV] C=129.746337890625, fit_intercept=False, intercept_scaling=10, solver=saga \n",
      "[CV]  C=129.746337890625, fit_intercept=False, intercept_scaling=10, solver=saga, score=0.4983164983164983, total=   0.1s\n",
      "[CV] C=129.746337890625, fit_intercept=False, intercept_scaling=10, solver=saga \n",
      "[CV]  C=129.746337890625, fit_intercept=False, intercept_scaling=10, solver=saga, score=0.5134680134680135, total=   0.1s\n",
      "[CV] C=129.746337890625, fit_intercept=False, intercept_scaling=10, solver=saga \n"
     ]
    },
    {
     "name": "stderr",
     "output_type": "stream",
     "text": [
      "/anaconda3/lib/python3.7/site-packages/sklearn/linear_model/sag.py:334: ConvergenceWarning: The max_iter was reached which means the coef_ did not converge\n",
      "  \"the coef_ did not converge\", ConvergenceWarning)\n"
     ]
    },
    {
     "name": "stdout",
     "output_type": "stream",
     "text": [
      "[CV]  C=129.746337890625, fit_intercept=False, intercept_scaling=10, solver=saga, score=0.5135135135135135, total=   0.1s\n",
      "[CV] C=129.746337890625, fit_intercept=False, intercept_scaling=25, solver=liblinear \n"
     ]
    },
    {
     "name": "stderr",
     "output_type": "stream",
     "text": [
      "/anaconda3/lib/python3.7/site-packages/sklearn/svm/base.py:931: ConvergenceWarning: Liblinear failed to converge, increase the number of iterations.\n",
      "  \"the number of iterations.\", ConvergenceWarning)\n"
     ]
    },
    {
     "name": "stdout",
     "output_type": "stream",
     "text": [
      "[CV]  C=129.746337890625, fit_intercept=False, intercept_scaling=25, solver=liblinear, score=0.5774410774410774, total=   0.2s\n",
      "[CV] C=129.746337890625, fit_intercept=False, intercept_scaling=25, solver=liblinear \n",
      "[CV]  C=129.746337890625, fit_intercept=False, intercept_scaling=25, solver=liblinear, score=0.5757575757575758, total=   0.1s\n",
      "[CV] C=129.746337890625, fit_intercept=False, intercept_scaling=25, solver=liblinear \n"
     ]
    },
    {
     "name": "stderr",
     "output_type": "stream",
     "text": [
      "/anaconda3/lib/python3.7/site-packages/sklearn/svm/base.py:931: ConvergenceWarning: Liblinear failed to converge, increase the number of iterations.\n",
      "  \"the number of iterations.\", ConvergenceWarning)\n",
      "/anaconda3/lib/python3.7/site-packages/sklearn/linear_model/sag.py:334: ConvergenceWarning: The max_iter was reached which means the coef_ did not converge\n",
      "  \"the coef_ did not converge\", ConvergenceWarning)\n",
      "/anaconda3/lib/python3.7/site-packages/sklearn/linear_model/sag.py:334: ConvergenceWarning: The max_iter was reached which means the coef_ did not converge\n",
      "  \"the coef_ did not converge\", ConvergenceWarning)\n",
      "/anaconda3/lib/python3.7/site-packages/sklearn/linear_model/sag.py:334: ConvergenceWarning: The max_iter was reached which means the coef_ did not converge\n",
      "  \"the coef_ did not converge\", ConvergenceWarning)\n"
     ]
    },
    {
     "name": "stdout",
     "output_type": "stream",
     "text": [
      "[CV]  C=129.746337890625, fit_intercept=False, intercept_scaling=25, solver=liblinear, score=0.5709459459459459, total=   0.2s\n",
      "[CV] C=129.746337890625, fit_intercept=False, intercept_scaling=25, solver=saga \n",
      "[CV]  C=129.746337890625, fit_intercept=False, intercept_scaling=25, solver=saga, score=0.5, total=   0.1s\n",
      "[CV] C=129.746337890625, fit_intercept=False, intercept_scaling=25, solver=saga \n",
      "[CV]  C=129.746337890625, fit_intercept=False, intercept_scaling=25, solver=saga, score=0.5151515151515151, total=   0.1s\n",
      "[CV] C=129.746337890625, fit_intercept=False, intercept_scaling=25, solver=saga \n",
      "[CV]  C=129.746337890625, fit_intercept=False, intercept_scaling=25, solver=saga, score=0.5135135135135135, total=   0.1s\n",
      "[CV] C=129.746337890625, fit_intercept=False, intercept_scaling=50, solver=liblinear \n"
     ]
    },
    {
     "name": "stderr",
     "output_type": "stream",
     "text": [
      "/anaconda3/lib/python3.7/site-packages/sklearn/svm/base.py:931: ConvergenceWarning: Liblinear failed to converge, increase the number of iterations.\n",
      "  \"the number of iterations.\", ConvergenceWarning)\n"
     ]
    },
    {
     "name": "stdout",
     "output_type": "stream",
     "text": [
      "[CV]  C=129.746337890625, fit_intercept=False, intercept_scaling=50, solver=liblinear, score=0.5774410774410774, total=   0.2s\n",
      "[CV] C=129.746337890625, fit_intercept=False, intercept_scaling=50, solver=liblinear \n",
      "[CV]  C=129.746337890625, fit_intercept=False, intercept_scaling=50, solver=liblinear, score=0.5757575757575758, total=   0.1s\n",
      "[CV] C=129.746337890625, fit_intercept=False, intercept_scaling=50, solver=liblinear \n"
     ]
    },
    {
     "name": "stderr",
     "output_type": "stream",
     "text": [
      "/anaconda3/lib/python3.7/site-packages/sklearn/svm/base.py:931: ConvergenceWarning: Liblinear failed to converge, increase the number of iterations.\n",
      "  \"the number of iterations.\", ConvergenceWarning)\n",
      "/anaconda3/lib/python3.7/site-packages/sklearn/linear_model/sag.py:334: ConvergenceWarning: The max_iter was reached which means the coef_ did not converge\n",
      "  \"the coef_ did not converge\", ConvergenceWarning)\n",
      "/anaconda3/lib/python3.7/site-packages/sklearn/linear_model/sag.py:334: ConvergenceWarning: The max_iter was reached which means the coef_ did not converge\n",
      "  \"the coef_ did not converge\", ConvergenceWarning)\n",
      "/anaconda3/lib/python3.7/site-packages/sklearn/linear_model/sag.py:334: ConvergenceWarning: The max_iter was reached which means the coef_ did not converge\n",
      "  \"the coef_ did not converge\", ConvergenceWarning)\n"
     ]
    },
    {
     "name": "stdout",
     "output_type": "stream",
     "text": [
      "[CV]  C=129.746337890625, fit_intercept=False, intercept_scaling=50, solver=liblinear, score=0.5709459459459459, total=   0.2s\n",
      "[CV] C=129.746337890625, fit_intercept=False, intercept_scaling=50, solver=saga \n",
      "[CV]  C=129.746337890625, fit_intercept=False, intercept_scaling=50, solver=saga, score=0.4983164983164983, total=   0.1s\n",
      "[CV] C=129.746337890625, fit_intercept=False, intercept_scaling=50, solver=saga \n",
      "[CV]  C=129.746337890625, fit_intercept=False, intercept_scaling=50, solver=saga, score=0.5134680134680135, total=   0.1s\n",
      "[CV] C=129.746337890625, fit_intercept=False, intercept_scaling=50, solver=saga \n",
      "[CV]  C=129.746337890625, fit_intercept=False, intercept_scaling=50, solver=saga, score=0.5135135135135135, total=   0.1s\n",
      "[CV] C=129.746337890625, fit_intercept=False, intercept_scaling=100, solver=liblinear \n"
     ]
    },
    {
     "name": "stderr",
     "output_type": "stream",
     "text": [
      "/anaconda3/lib/python3.7/site-packages/sklearn/svm/base.py:931: ConvergenceWarning: Liblinear failed to converge, increase the number of iterations.\n",
      "  \"the number of iterations.\", ConvergenceWarning)\n"
     ]
    },
    {
     "name": "stdout",
     "output_type": "stream",
     "text": [
      "[CV]  C=129.746337890625, fit_intercept=False, intercept_scaling=100, solver=liblinear, score=0.5774410774410774, total=   0.2s\n",
      "[CV] C=129.746337890625, fit_intercept=False, intercept_scaling=100, solver=liblinear \n",
      "[CV]  C=129.746337890625, fit_intercept=False, intercept_scaling=100, solver=liblinear, score=0.5757575757575758, total=   0.1s\n",
      "[CV] C=129.746337890625, fit_intercept=False, intercept_scaling=100, solver=liblinear \n"
     ]
    },
    {
     "name": "stderr",
     "output_type": "stream",
     "text": [
      "/anaconda3/lib/python3.7/site-packages/sklearn/svm/base.py:931: ConvergenceWarning: Liblinear failed to converge, increase the number of iterations.\n",
      "  \"the number of iterations.\", ConvergenceWarning)\n",
      "/anaconda3/lib/python3.7/site-packages/sklearn/linear_model/sag.py:334: ConvergenceWarning: The max_iter was reached which means the coef_ did not converge\n",
      "  \"the coef_ did not converge\", ConvergenceWarning)\n",
      "/anaconda3/lib/python3.7/site-packages/sklearn/linear_model/sag.py:334: ConvergenceWarning: The max_iter was reached which means the coef_ did not converge\n",
      "  \"the coef_ did not converge\", ConvergenceWarning)\n",
      "/anaconda3/lib/python3.7/site-packages/sklearn/linear_model/sag.py:334: ConvergenceWarning: The max_iter was reached which means the coef_ did not converge\n",
      "  \"the coef_ did not converge\", ConvergenceWarning)\n"
     ]
    },
    {
     "name": "stdout",
     "output_type": "stream",
     "text": [
      "[CV]  C=129.746337890625, fit_intercept=False, intercept_scaling=100, solver=liblinear, score=0.5709459459459459, total=   0.2s\n",
      "[CV] C=129.746337890625, fit_intercept=False, intercept_scaling=100, solver=saga \n",
      "[CV]  C=129.746337890625, fit_intercept=False, intercept_scaling=100, solver=saga, score=0.5, total=   0.1s\n",
      "[CV] C=129.746337890625, fit_intercept=False, intercept_scaling=100, solver=saga \n",
      "[CV]  C=129.746337890625, fit_intercept=False, intercept_scaling=100, solver=saga, score=0.5117845117845118, total=   0.1s\n",
      "[CV] C=129.746337890625, fit_intercept=False, intercept_scaling=100, solver=saga \n",
      "[CV]  C=129.746337890625, fit_intercept=False, intercept_scaling=100, solver=saga, score=0.5118243243243243, total=   0.1s\n",
      "[CV] C=291.92926025390625, fit_intercept=True, intercept_scaling=1, solver=liblinear \n"
     ]
    },
    {
     "name": "stderr",
     "output_type": "stream",
     "text": [
      "/anaconda3/lib/python3.7/site-packages/sklearn/svm/base.py:931: ConvergenceWarning: Liblinear failed to converge, increase the number of iterations.\n",
      "  \"the number of iterations.\", ConvergenceWarning)\n"
     ]
    },
    {
     "name": "stdout",
     "output_type": "stream",
     "text": [
      "[CV]  C=291.92926025390625, fit_intercept=True, intercept_scaling=1, solver=liblinear, score=0.5757575757575758, total=   0.2s\n",
      "[CV] C=291.92926025390625, fit_intercept=True, intercept_scaling=1, solver=liblinear \n",
      "[CV]  C=291.92926025390625, fit_intercept=True, intercept_scaling=1, solver=liblinear, score=0.5791245791245792, total=   0.1s\n",
      "[CV] C=291.92926025390625, fit_intercept=True, intercept_scaling=1, solver=liblinear \n",
      "[CV]  C=291.92926025390625, fit_intercept=True, intercept_scaling=1, solver=liblinear, score=0.5929054054054054, total=   0.2s\n",
      "[CV] C=291.92926025390625, fit_intercept=True, intercept_scaling=1, solver=saga \n",
      "[CV]  C=291.92926025390625, fit_intercept=True, intercept_scaling=1, solver=saga, score=0.5, total=   0.1s\n",
      "[CV] C=291.92926025390625, fit_intercept=True, intercept_scaling=1, solver=saga \n",
      "[CV]  C=291.92926025390625, fit_intercept=True, intercept_scaling=1, solver=saga, score=0.5168350168350169, total=   0.1s\n",
      "[CV] C=291.92926025390625, fit_intercept=True, intercept_scaling=1, solver=saga \n"
     ]
    },
    {
     "name": "stderr",
     "output_type": "stream",
     "text": [
      "/anaconda3/lib/python3.7/site-packages/sklearn/linear_model/sag.py:334: ConvergenceWarning: The max_iter was reached which means the coef_ did not converge\n",
      "  \"the coef_ did not converge\", ConvergenceWarning)\n",
      "/anaconda3/lib/python3.7/site-packages/sklearn/linear_model/sag.py:334: ConvergenceWarning: The max_iter was reached which means the coef_ did not converge\n",
      "  \"the coef_ did not converge\", ConvergenceWarning)\n",
      "/anaconda3/lib/python3.7/site-packages/sklearn/linear_model/sag.py:334: ConvergenceWarning: The max_iter was reached which means the coef_ did not converge\n",
      "  \"the coef_ did not converge\", ConvergenceWarning)\n"
     ]
    },
    {
     "name": "stdout",
     "output_type": "stream",
     "text": [
      "[CV]  C=291.92926025390625, fit_intercept=True, intercept_scaling=1, solver=saga, score=0.5118243243243243, total=   0.1s\n",
      "[CV] C=291.92926025390625, fit_intercept=True, intercept_scaling=5, solver=liblinear \n"
     ]
    },
    {
     "name": "stderr",
     "output_type": "stream",
     "text": [
      "/anaconda3/lib/python3.7/site-packages/sklearn/svm/base.py:931: ConvergenceWarning: Liblinear failed to converge, increase the number of iterations.\n",
      "  \"the number of iterations.\", ConvergenceWarning)\n"
     ]
    },
    {
     "name": "stdout",
     "output_type": "stream",
     "text": [
      "[CV]  C=291.92926025390625, fit_intercept=True, intercept_scaling=5, solver=liblinear, score=0.5774410774410774, total=   0.2s\n",
      "[CV] C=291.92926025390625, fit_intercept=True, intercept_scaling=5, solver=liblinear \n",
      "[CV]  C=291.92926025390625, fit_intercept=True, intercept_scaling=5, solver=liblinear, score=0.5791245791245792, total=   0.1s\n",
      "[CV] C=291.92926025390625, fit_intercept=True, intercept_scaling=5, solver=liblinear \n"
     ]
    },
    {
     "name": "stderr",
     "output_type": "stream",
     "text": [
      "/anaconda3/lib/python3.7/site-packages/sklearn/svm/base.py:931: ConvergenceWarning: Liblinear failed to converge, increase the number of iterations.\n",
      "  \"the number of iterations.\", ConvergenceWarning)\n",
      "/anaconda3/lib/python3.7/site-packages/sklearn/linear_model/sag.py:334: ConvergenceWarning: The max_iter was reached which means the coef_ did not converge\n",
      "  \"the coef_ did not converge\", ConvergenceWarning)\n",
      "/anaconda3/lib/python3.7/site-packages/sklearn/linear_model/sag.py:334: ConvergenceWarning: The max_iter was reached which means the coef_ did not converge\n",
      "  \"the coef_ did not converge\", ConvergenceWarning)\n"
     ]
    },
    {
     "name": "stdout",
     "output_type": "stream",
     "text": [
      "[CV]  C=291.92926025390625, fit_intercept=True, intercept_scaling=5, solver=liblinear, score=0.5945945945945946, total=   0.3s\n",
      "[CV] C=291.92926025390625, fit_intercept=True, intercept_scaling=5, solver=saga \n",
      "[CV]  C=291.92926025390625, fit_intercept=True, intercept_scaling=5, solver=saga, score=0.4983164983164983, total=   0.1s\n",
      "[CV] C=291.92926025390625, fit_intercept=True, intercept_scaling=5, solver=saga \n",
      "[CV]  C=291.92926025390625, fit_intercept=True, intercept_scaling=5, solver=saga, score=0.5151515151515151, total=   0.1s\n",
      "[CV] C=291.92926025390625, fit_intercept=True, intercept_scaling=5, solver=saga \n"
     ]
    },
    {
     "name": "stderr",
     "output_type": "stream",
     "text": [
      "/anaconda3/lib/python3.7/site-packages/sklearn/linear_model/sag.py:334: ConvergenceWarning: The max_iter was reached which means the coef_ did not converge\n",
      "  \"the coef_ did not converge\", ConvergenceWarning)\n"
     ]
    },
    {
     "name": "stdout",
     "output_type": "stream",
     "text": [
      "[CV]  C=291.92926025390625, fit_intercept=True, intercept_scaling=5, solver=saga, score=0.5152027027027027, total=   0.1s\n",
      "[CV] C=291.92926025390625, fit_intercept=True, intercept_scaling=10, solver=liblinear \n"
     ]
    },
    {
     "name": "stderr",
     "output_type": "stream",
     "text": [
      "/anaconda3/lib/python3.7/site-packages/sklearn/svm/base.py:931: ConvergenceWarning: Liblinear failed to converge, increase the number of iterations.\n",
      "  \"the number of iterations.\", ConvergenceWarning)\n"
     ]
    },
    {
     "name": "stdout",
     "output_type": "stream",
     "text": [
      "[CV]  C=291.92926025390625, fit_intercept=True, intercept_scaling=10, solver=liblinear, score=0.5757575757575758, total=   0.2s\n",
      "[CV] C=291.92926025390625, fit_intercept=True, intercept_scaling=10, solver=liblinear \n",
      "[CV]  C=291.92926025390625, fit_intercept=True, intercept_scaling=10, solver=liblinear, score=0.5808080808080808, total=   0.1s\n",
      "[CV] C=291.92926025390625, fit_intercept=True, intercept_scaling=10, solver=liblinear \n"
     ]
    },
    {
     "name": "stderr",
     "output_type": "stream",
     "text": [
      "/anaconda3/lib/python3.7/site-packages/sklearn/svm/base.py:931: ConvergenceWarning: Liblinear failed to converge, increase the number of iterations.\n",
      "  \"the number of iterations.\", ConvergenceWarning)\n",
      "/anaconda3/lib/python3.7/site-packages/sklearn/linear_model/sag.py:334: ConvergenceWarning: The max_iter was reached which means the coef_ did not converge\n",
      "  \"the coef_ did not converge\", ConvergenceWarning)\n",
      "/anaconda3/lib/python3.7/site-packages/sklearn/linear_model/sag.py:334: ConvergenceWarning: The max_iter was reached which means the coef_ did not converge\n",
      "  \"the coef_ did not converge\", ConvergenceWarning)\n",
      "/anaconda3/lib/python3.7/site-packages/sklearn/linear_model/sag.py:334: ConvergenceWarning: The max_iter was reached which means the coef_ did not converge\n",
      "  \"the coef_ did not converge\", ConvergenceWarning)\n"
     ]
    },
    {
     "name": "stdout",
     "output_type": "stream",
     "text": [
      "[CV]  C=291.92926025390625, fit_intercept=True, intercept_scaling=10, solver=liblinear, score=0.5912162162162162, total=   0.2s\n",
      "[CV] C=291.92926025390625, fit_intercept=True, intercept_scaling=10, solver=saga \n",
      "[CV]  C=291.92926025390625, fit_intercept=True, intercept_scaling=10, solver=saga, score=0.5, total=   0.1s\n",
      "[CV] C=291.92926025390625, fit_intercept=True, intercept_scaling=10, solver=saga \n",
      "[CV]  C=291.92926025390625, fit_intercept=True, intercept_scaling=10, solver=saga, score=0.5134680134680135, total=   0.1s\n",
      "[CV] C=291.92926025390625, fit_intercept=True, intercept_scaling=10, solver=saga \n",
      "[CV]  C=291.92926025390625, fit_intercept=True, intercept_scaling=10, solver=saga, score=0.5152027027027027, total=   0.1s\n",
      "[CV] C=291.92926025390625, fit_intercept=True, intercept_scaling=25, solver=liblinear \n"
     ]
    },
    {
     "name": "stderr",
     "output_type": "stream",
     "text": [
      "/anaconda3/lib/python3.7/site-packages/sklearn/svm/base.py:931: ConvergenceWarning: Liblinear failed to converge, increase the number of iterations.\n",
      "  \"the number of iterations.\", ConvergenceWarning)\n"
     ]
    },
    {
     "name": "stdout",
     "output_type": "stream",
     "text": [
      "[CV]  C=291.92926025390625, fit_intercept=True, intercept_scaling=25, solver=liblinear, score=0.5774410774410774, total=   0.2s\n",
      "[CV] C=291.92926025390625, fit_intercept=True, intercept_scaling=25, solver=liblinear \n",
      "[CV]  C=291.92926025390625, fit_intercept=True, intercept_scaling=25, solver=liblinear, score=0.5791245791245792, total=   0.1s\n",
      "[CV] C=291.92926025390625, fit_intercept=True, intercept_scaling=25, solver=liblinear \n"
     ]
    },
    {
     "name": "stderr",
     "output_type": "stream",
     "text": [
      "/anaconda3/lib/python3.7/site-packages/sklearn/svm/base.py:931: ConvergenceWarning: Liblinear failed to converge, increase the number of iterations.\n",
      "  \"the number of iterations.\", ConvergenceWarning)\n",
      "/anaconda3/lib/python3.7/site-packages/sklearn/linear_model/sag.py:334: ConvergenceWarning: The max_iter was reached which means the coef_ did not converge\n",
      "  \"the coef_ did not converge\", ConvergenceWarning)\n",
      "/anaconda3/lib/python3.7/site-packages/sklearn/linear_model/sag.py:334: ConvergenceWarning: The max_iter was reached which means the coef_ did not converge\n",
      "  \"the coef_ did not converge\", ConvergenceWarning)\n",
      "/anaconda3/lib/python3.7/site-packages/sklearn/linear_model/sag.py:334: ConvergenceWarning: The max_iter was reached which means the coef_ did not converge\n",
      "  \"the coef_ did not converge\", ConvergenceWarning)\n"
     ]
    },
    {
     "name": "stdout",
     "output_type": "stream",
     "text": [
      "[CV]  C=291.92926025390625, fit_intercept=True, intercept_scaling=25, solver=liblinear, score=0.589527027027027, total=   0.2s\n",
      "[CV] C=291.92926025390625, fit_intercept=True, intercept_scaling=25, solver=saga \n",
      "[CV]  C=291.92926025390625, fit_intercept=True, intercept_scaling=25, solver=saga, score=0.5, total=   0.1s\n",
      "[CV] C=291.92926025390625, fit_intercept=True, intercept_scaling=25, solver=saga \n",
      "[CV]  C=291.92926025390625, fit_intercept=True, intercept_scaling=25, solver=saga, score=0.5134680134680135, total=   0.1s\n",
      "[CV] C=291.92926025390625, fit_intercept=True, intercept_scaling=25, solver=saga \n",
      "[CV]  C=291.92926025390625, fit_intercept=True, intercept_scaling=25, solver=saga, score=0.5135135135135135, total=   0.1s\n",
      "[CV] C=291.92926025390625, fit_intercept=True, intercept_scaling=50, solver=liblinear \n",
      "[CV]  C=291.92926025390625, fit_intercept=True, intercept_scaling=50, solver=liblinear, score=0.5791245791245792, total=   0.2s\n",
      "[CV] C=291.92926025390625, fit_intercept=True, intercept_scaling=50, solver=liblinear \n",
      "[CV]  C=291.92926025390625, fit_intercept=True, intercept_scaling=50, solver=liblinear, score=0.5808080808080808, total=   0.1s\n",
      "[CV] C=291.92926025390625, fit_intercept=True, intercept_scaling=50, solver=liblinear \n"
     ]
    },
    {
     "name": "stderr",
     "output_type": "stream",
     "text": [
      "/anaconda3/lib/python3.7/site-packages/sklearn/svm/base.py:931: ConvergenceWarning: Liblinear failed to converge, increase the number of iterations.\n",
      "  \"the number of iterations.\", ConvergenceWarning)\n",
      "/anaconda3/lib/python3.7/site-packages/sklearn/linear_model/sag.py:334: ConvergenceWarning: The max_iter was reached which means the coef_ did not converge\n",
      "  \"the coef_ did not converge\", ConvergenceWarning)\n",
      "/anaconda3/lib/python3.7/site-packages/sklearn/linear_model/sag.py:334: ConvergenceWarning: The max_iter was reached which means the coef_ did not converge\n",
      "  \"the coef_ did not converge\", ConvergenceWarning)\n",
      "/anaconda3/lib/python3.7/site-packages/sklearn/linear_model/sag.py:334: ConvergenceWarning: The max_iter was reached which means the coef_ did not converge\n",
      "  \"the coef_ did not converge\", ConvergenceWarning)\n"
     ]
    },
    {
     "name": "stdout",
     "output_type": "stream",
     "text": [
      "[CV]  C=291.92926025390625, fit_intercept=True, intercept_scaling=50, solver=liblinear, score=0.5878378378378378, total=   0.2s\n",
      "[CV] C=291.92926025390625, fit_intercept=True, intercept_scaling=50, solver=saga \n",
      "[CV]  C=291.92926025390625, fit_intercept=True, intercept_scaling=50, solver=saga, score=0.5033670033670034, total=   0.1s\n",
      "[CV] C=291.92926025390625, fit_intercept=True, intercept_scaling=50, solver=saga \n",
      "[CV]  C=291.92926025390625, fit_intercept=True, intercept_scaling=50, solver=saga, score=0.5168350168350169, total=   0.1s\n",
      "[CV] C=291.92926025390625, fit_intercept=True, intercept_scaling=50, solver=saga \n",
      "[CV]  C=291.92926025390625, fit_intercept=True, intercept_scaling=50, solver=saga, score=0.5135135135135135, total=   0.1s\n",
      "[CV] C=291.92926025390625, fit_intercept=True, intercept_scaling=100, solver=liblinear \n"
     ]
    },
    {
     "name": "stderr",
     "output_type": "stream",
     "text": [
      "/anaconda3/lib/python3.7/site-packages/sklearn/svm/base.py:931: ConvergenceWarning: Liblinear failed to converge, increase the number of iterations.\n",
      "  \"the number of iterations.\", ConvergenceWarning)\n"
     ]
    },
    {
     "name": "stdout",
     "output_type": "stream",
     "text": [
      "[CV]  C=291.92926025390625, fit_intercept=True, intercept_scaling=100, solver=liblinear, score=0.5774410774410774, total=   0.2s\n",
      "[CV] C=291.92926025390625, fit_intercept=True, intercept_scaling=100, solver=liblinear \n",
      "[CV]  C=291.92926025390625, fit_intercept=True, intercept_scaling=100, solver=liblinear, score=0.5808080808080808, total=   0.1s\n",
      "[CV] C=291.92926025390625, fit_intercept=True, intercept_scaling=100, solver=liblinear \n"
     ]
    },
    {
     "name": "stderr",
     "output_type": "stream",
     "text": [
      "/anaconda3/lib/python3.7/site-packages/sklearn/svm/base.py:931: ConvergenceWarning: Liblinear failed to converge, increase the number of iterations.\n",
      "  \"the number of iterations.\", ConvergenceWarning)\n",
      "/anaconda3/lib/python3.7/site-packages/sklearn/linear_model/sag.py:334: ConvergenceWarning: The max_iter was reached which means the coef_ did not converge\n",
      "  \"the coef_ did not converge\", ConvergenceWarning)\n",
      "/anaconda3/lib/python3.7/site-packages/sklearn/linear_model/sag.py:334: ConvergenceWarning: The max_iter was reached which means the coef_ did not converge\n",
      "  \"the coef_ did not converge\", ConvergenceWarning)\n"
     ]
    },
    {
     "name": "stdout",
     "output_type": "stream",
     "text": [
      "[CV]  C=291.92926025390625, fit_intercept=True, intercept_scaling=100, solver=liblinear, score=0.5945945945945946, total=   0.3s\n",
      "[CV] C=291.92926025390625, fit_intercept=True, intercept_scaling=100, solver=saga \n",
      "[CV]  C=291.92926025390625, fit_intercept=True, intercept_scaling=100, solver=saga, score=0.5, total=   0.1s\n",
      "[CV] C=291.92926025390625, fit_intercept=True, intercept_scaling=100, solver=saga \n",
      "[CV]  C=291.92926025390625, fit_intercept=True, intercept_scaling=100, solver=saga, score=0.5151515151515151, total=   0.1s\n",
      "[CV] C=291.92926025390625, fit_intercept=True, intercept_scaling=100, solver=saga \n"
     ]
    },
    {
     "name": "stderr",
     "output_type": "stream",
     "text": [
      "/anaconda3/lib/python3.7/site-packages/sklearn/linear_model/sag.py:334: ConvergenceWarning: The max_iter was reached which means the coef_ did not converge\n",
      "  \"the coef_ did not converge\", ConvergenceWarning)\n",
      "/anaconda3/lib/python3.7/site-packages/sklearn/svm/base.py:931: ConvergenceWarning: Liblinear failed to converge, increase the number of iterations.\n",
      "  \"the number of iterations.\", ConvergenceWarning)\n"
     ]
    },
    {
     "name": "stdout",
     "output_type": "stream",
     "text": [
      "[CV]  C=291.92926025390625, fit_intercept=True, intercept_scaling=100, solver=saga, score=0.5135135135135135, total=   0.1s\n",
      "[CV] C=291.92926025390625, fit_intercept=False, intercept_scaling=1, solver=liblinear \n",
      "[CV]  C=291.92926025390625, fit_intercept=False, intercept_scaling=1, solver=liblinear, score=0.5774410774410774, total=   0.2s\n",
      "[CV] C=291.92926025390625, fit_intercept=False, intercept_scaling=1, solver=liblinear \n",
      "[CV]  C=291.92926025390625, fit_intercept=False, intercept_scaling=1, solver=liblinear, score=0.5774410774410774, total=   0.1s\n",
      "[CV] C=291.92926025390625, fit_intercept=False, intercept_scaling=1, solver=liblinear \n"
     ]
    },
    {
     "name": "stderr",
     "output_type": "stream",
     "text": [
      "/anaconda3/lib/python3.7/site-packages/sklearn/svm/base.py:931: ConvergenceWarning: Liblinear failed to converge, increase the number of iterations.\n",
      "  \"the number of iterations.\", ConvergenceWarning)\n",
      "/anaconda3/lib/python3.7/site-packages/sklearn/linear_model/sag.py:334: ConvergenceWarning: The max_iter was reached which means the coef_ did not converge\n",
      "  \"the coef_ did not converge\", ConvergenceWarning)\n",
      "/anaconda3/lib/python3.7/site-packages/sklearn/linear_model/sag.py:334: ConvergenceWarning: The max_iter was reached which means the coef_ did not converge\n",
      "  \"the coef_ did not converge\", ConvergenceWarning)\n",
      "/anaconda3/lib/python3.7/site-packages/sklearn/linear_model/sag.py:334: ConvergenceWarning: The max_iter was reached which means the coef_ did not converge\n",
      "  \"the coef_ did not converge\", ConvergenceWarning)\n"
     ]
    },
    {
     "name": "stdout",
     "output_type": "stream",
     "text": [
      "[CV]  C=291.92926025390625, fit_intercept=False, intercept_scaling=1, solver=liblinear, score=0.5760135135135135, total=   0.2s\n",
      "[CV] C=291.92926025390625, fit_intercept=False, intercept_scaling=1, solver=saga \n",
      "[CV]  C=291.92926025390625, fit_intercept=False, intercept_scaling=1, solver=saga, score=0.4983164983164983, total=   0.1s\n",
      "[CV] C=291.92926025390625, fit_intercept=False, intercept_scaling=1, solver=saga \n",
      "[CV]  C=291.92926025390625, fit_intercept=False, intercept_scaling=1, solver=saga, score=0.5134680134680135, total=   0.1s\n",
      "[CV] C=291.92926025390625, fit_intercept=False, intercept_scaling=1, solver=saga \n",
      "[CV]  C=291.92926025390625, fit_intercept=False, intercept_scaling=1, solver=saga, score=0.5118243243243243, total=   0.1s\n",
      "[CV] C=291.92926025390625, fit_intercept=False, intercept_scaling=5, solver=liblinear \n",
      "[CV]  C=291.92926025390625, fit_intercept=False, intercept_scaling=5, solver=liblinear, score=0.5774410774410774, total=   0.1s\n",
      "[CV] C=291.92926025390625, fit_intercept=False, intercept_scaling=5, solver=liblinear \n"
     ]
    },
    {
     "name": "stderr",
     "output_type": "stream",
     "text": [
      "/anaconda3/lib/python3.7/site-packages/sklearn/svm/base.py:931: ConvergenceWarning: Liblinear failed to converge, increase the number of iterations.\n",
      "  \"the number of iterations.\", ConvergenceWarning)\n"
     ]
    },
    {
     "name": "stdout",
     "output_type": "stream",
     "text": [
      "[CV]  C=291.92926025390625, fit_intercept=False, intercept_scaling=5, solver=liblinear, score=0.5774410774410774, total=   0.1s\n",
      "[CV] C=291.92926025390625, fit_intercept=False, intercept_scaling=5, solver=liblinear \n"
     ]
    },
    {
     "name": "stderr",
     "output_type": "stream",
     "text": [
      "/anaconda3/lib/python3.7/site-packages/sklearn/svm/base.py:931: ConvergenceWarning: Liblinear failed to converge, increase the number of iterations.\n",
      "  \"the number of iterations.\", ConvergenceWarning)\n",
      "/anaconda3/lib/python3.7/site-packages/sklearn/linear_model/sag.py:334: ConvergenceWarning: The max_iter was reached which means the coef_ did not converge\n",
      "  \"the coef_ did not converge\", ConvergenceWarning)\n",
      "/anaconda3/lib/python3.7/site-packages/sklearn/linear_model/sag.py:334: ConvergenceWarning: The max_iter was reached which means the coef_ did not converge\n",
      "  \"the coef_ did not converge\", ConvergenceWarning)\n",
      "/anaconda3/lib/python3.7/site-packages/sklearn/linear_model/sag.py:334: ConvergenceWarning: The max_iter was reached which means the coef_ did not converge\n",
      "  \"the coef_ did not converge\", ConvergenceWarning)\n"
     ]
    },
    {
     "name": "stdout",
     "output_type": "stream",
     "text": [
      "[CV]  C=291.92926025390625, fit_intercept=False, intercept_scaling=5, solver=liblinear, score=0.5760135135135135, total=   0.2s\n",
      "[CV] C=291.92926025390625, fit_intercept=False, intercept_scaling=5, solver=saga \n",
      "[CV]  C=291.92926025390625, fit_intercept=False, intercept_scaling=5, solver=saga, score=0.49663299663299665, total=   0.1s\n",
      "[CV] C=291.92926025390625, fit_intercept=False, intercept_scaling=5, solver=saga \n",
      "[CV]  C=291.92926025390625, fit_intercept=False, intercept_scaling=5, solver=saga, score=0.5151515151515151, total=   0.1s\n",
      "[CV] C=291.92926025390625, fit_intercept=False, intercept_scaling=5, solver=saga \n",
      "[CV]  C=291.92926025390625, fit_intercept=False, intercept_scaling=5, solver=saga, score=0.5135135135135135, total=   0.1s\n",
      "[CV] C=291.92926025390625, fit_intercept=False, intercept_scaling=10, solver=liblinear \n"
     ]
    },
    {
     "name": "stderr",
     "output_type": "stream",
     "text": [
      "/anaconda3/lib/python3.7/site-packages/sklearn/svm/base.py:931: ConvergenceWarning: Liblinear failed to converge, increase the number of iterations.\n",
      "  \"the number of iterations.\", ConvergenceWarning)\n"
     ]
    },
    {
     "name": "stdout",
     "output_type": "stream",
     "text": [
      "[CV]  C=291.92926025390625, fit_intercept=False, intercept_scaling=10, solver=liblinear, score=0.5774410774410774, total=   0.1s\n",
      "[CV] C=291.92926025390625, fit_intercept=False, intercept_scaling=10, solver=liblinear \n",
      "[CV]  C=291.92926025390625, fit_intercept=False, intercept_scaling=10, solver=liblinear, score=0.5774410774410774, total=   0.1s\n",
      "[CV] C=291.92926025390625, fit_intercept=False, intercept_scaling=10, solver=liblinear \n"
     ]
    },
    {
     "name": "stderr",
     "output_type": "stream",
     "text": [
      "/anaconda3/lib/python3.7/site-packages/sklearn/svm/base.py:931: ConvergenceWarning: Liblinear failed to converge, increase the number of iterations.\n",
      "  \"the number of iterations.\", ConvergenceWarning)\n",
      "/anaconda3/lib/python3.7/site-packages/sklearn/linear_model/sag.py:334: ConvergenceWarning: The max_iter was reached which means the coef_ did not converge\n",
      "  \"the coef_ did not converge\", ConvergenceWarning)\n",
      "/anaconda3/lib/python3.7/site-packages/sklearn/linear_model/sag.py:334: ConvergenceWarning: The max_iter was reached which means the coef_ did not converge\n",
      "  \"the coef_ did not converge\", ConvergenceWarning)\n"
     ]
    },
    {
     "name": "stdout",
     "output_type": "stream",
     "text": [
      "[CV]  C=291.92926025390625, fit_intercept=False, intercept_scaling=10, solver=liblinear, score=0.5760135135135135, total=   0.2s\n",
      "[CV] C=291.92926025390625, fit_intercept=False, intercept_scaling=10, solver=saga \n",
      "[CV]  C=291.92926025390625, fit_intercept=False, intercept_scaling=10, solver=saga, score=0.5, total=   0.1s\n",
      "[CV] C=291.92926025390625, fit_intercept=False, intercept_scaling=10, solver=saga \n",
      "[CV]  C=291.92926025390625, fit_intercept=False, intercept_scaling=10, solver=saga, score=0.5134680134680135, total=   0.1s\n",
      "[CV] C=291.92926025390625, fit_intercept=False, intercept_scaling=10, solver=saga \n"
     ]
    },
    {
     "name": "stderr",
     "output_type": "stream",
     "text": [
      "/anaconda3/lib/python3.7/site-packages/sklearn/linear_model/sag.py:334: ConvergenceWarning: The max_iter was reached which means the coef_ did not converge\n",
      "  \"the coef_ did not converge\", ConvergenceWarning)\n",
      "/anaconda3/lib/python3.7/site-packages/sklearn/svm/base.py:931: ConvergenceWarning: Liblinear failed to converge, increase the number of iterations.\n",
      "  \"the number of iterations.\", ConvergenceWarning)\n"
     ]
    },
    {
     "name": "stdout",
     "output_type": "stream",
     "text": [
      "[CV]  C=291.92926025390625, fit_intercept=False, intercept_scaling=10, solver=saga, score=0.5135135135135135, total=   0.1s\n",
      "[CV] C=291.92926025390625, fit_intercept=False, intercept_scaling=25, solver=liblinear \n",
      "[CV]  C=291.92926025390625, fit_intercept=False, intercept_scaling=25, solver=liblinear, score=0.5774410774410774, total=   0.1s\n",
      "[CV] C=291.92926025390625, fit_intercept=False, intercept_scaling=25, solver=liblinear \n",
      "[CV]  C=291.92926025390625, fit_intercept=False, intercept_scaling=25, solver=liblinear, score=0.5774410774410774, total=   0.1s\n",
      "[CV] C=291.92926025390625, fit_intercept=False, intercept_scaling=25, solver=liblinear \n"
     ]
    },
    {
     "name": "stderr",
     "output_type": "stream",
     "text": [
      "/anaconda3/lib/python3.7/site-packages/sklearn/svm/base.py:931: ConvergenceWarning: Liblinear failed to converge, increase the number of iterations.\n",
      "  \"the number of iterations.\", ConvergenceWarning)\n",
      "/anaconda3/lib/python3.7/site-packages/sklearn/linear_model/sag.py:334: ConvergenceWarning: The max_iter was reached which means the coef_ did not converge\n",
      "  \"the coef_ did not converge\", ConvergenceWarning)\n",
      "/anaconda3/lib/python3.7/site-packages/sklearn/linear_model/sag.py:334: ConvergenceWarning: The max_iter was reached which means the coef_ did not converge\n",
      "  \"the coef_ did not converge\", ConvergenceWarning)\n",
      "/anaconda3/lib/python3.7/site-packages/sklearn/linear_model/sag.py:334: ConvergenceWarning: The max_iter was reached which means the coef_ did not converge\n",
      "  \"the coef_ did not converge\", ConvergenceWarning)\n"
     ]
    },
    {
     "name": "stdout",
     "output_type": "stream",
     "text": [
      "[CV]  C=291.92926025390625, fit_intercept=False, intercept_scaling=25, solver=liblinear, score=0.5760135135135135, total=   0.2s\n",
      "[CV] C=291.92926025390625, fit_intercept=False, intercept_scaling=25, solver=saga \n",
      "[CV]  C=291.92926025390625, fit_intercept=False, intercept_scaling=25, solver=saga, score=0.4983164983164983, total=   0.1s\n",
      "[CV] C=291.92926025390625, fit_intercept=False, intercept_scaling=25, solver=saga \n",
      "[CV]  C=291.92926025390625, fit_intercept=False, intercept_scaling=25, solver=saga, score=0.5151515151515151, total=   0.1s\n",
      "[CV] C=291.92926025390625, fit_intercept=False, intercept_scaling=25, solver=saga \n",
      "[CV]  C=291.92926025390625, fit_intercept=False, intercept_scaling=25, solver=saga, score=0.5118243243243243, total=   0.1s\n",
      "[CV] C=291.92926025390625, fit_intercept=False, intercept_scaling=50, solver=liblinear \n"
     ]
    },
    {
     "name": "stderr",
     "output_type": "stream",
     "text": [
      "/anaconda3/lib/python3.7/site-packages/sklearn/svm/base.py:931: ConvergenceWarning: Liblinear failed to converge, increase the number of iterations.\n",
      "  \"the number of iterations.\", ConvergenceWarning)\n"
     ]
    },
    {
     "name": "stdout",
     "output_type": "stream",
     "text": [
      "[CV]  C=291.92926025390625, fit_intercept=False, intercept_scaling=50, solver=liblinear, score=0.5774410774410774, total=   0.1s\n",
      "[CV] C=291.92926025390625, fit_intercept=False, intercept_scaling=50, solver=liblinear \n",
      "[CV]  C=291.92926025390625, fit_intercept=False, intercept_scaling=50, solver=liblinear, score=0.5774410774410774, total=   0.1s\n",
      "[CV] C=291.92926025390625, fit_intercept=False, intercept_scaling=50, solver=liblinear \n"
     ]
    },
    {
     "name": "stderr",
     "output_type": "stream",
     "text": [
      "/anaconda3/lib/python3.7/site-packages/sklearn/svm/base.py:931: ConvergenceWarning: Liblinear failed to converge, increase the number of iterations.\n",
      "  \"the number of iterations.\", ConvergenceWarning)\n",
      "/anaconda3/lib/python3.7/site-packages/sklearn/linear_model/sag.py:334: ConvergenceWarning: The max_iter was reached which means the coef_ did not converge\n",
      "  \"the coef_ did not converge\", ConvergenceWarning)\n",
      "/anaconda3/lib/python3.7/site-packages/sklearn/linear_model/sag.py:334: ConvergenceWarning: The max_iter was reached which means the coef_ did not converge\n",
      "  \"the coef_ did not converge\", ConvergenceWarning)\n",
      "/anaconda3/lib/python3.7/site-packages/sklearn/linear_model/sag.py:334: ConvergenceWarning: The max_iter was reached which means the coef_ did not converge\n",
      "  \"the coef_ did not converge\", ConvergenceWarning)\n"
     ]
    },
    {
     "name": "stdout",
     "output_type": "stream",
     "text": [
      "[CV]  C=291.92926025390625, fit_intercept=False, intercept_scaling=50, solver=liblinear, score=0.5760135135135135, total=   0.2s\n",
      "[CV] C=291.92926025390625, fit_intercept=False, intercept_scaling=50, solver=saga \n",
      "[CV]  C=291.92926025390625, fit_intercept=False, intercept_scaling=50, solver=saga, score=0.4983164983164983, total=   0.1s\n",
      "[CV] C=291.92926025390625, fit_intercept=False, intercept_scaling=50, solver=saga \n",
      "[CV]  C=291.92926025390625, fit_intercept=False, intercept_scaling=50, solver=saga, score=0.5117845117845118, total=   0.1s\n",
      "[CV] C=291.92926025390625, fit_intercept=False, intercept_scaling=50, solver=saga \n",
      "[CV]  C=291.92926025390625, fit_intercept=False, intercept_scaling=50, solver=saga, score=0.5135135135135135, total=   0.1s\n",
      "[CV] C=291.92926025390625, fit_intercept=False, intercept_scaling=100, solver=liblinear \n"
     ]
    },
    {
     "name": "stderr",
     "output_type": "stream",
     "text": [
      "/anaconda3/lib/python3.7/site-packages/sklearn/svm/base.py:931: ConvergenceWarning: Liblinear failed to converge, increase the number of iterations.\n",
      "  \"the number of iterations.\", ConvergenceWarning)\n"
     ]
    },
    {
     "name": "stdout",
     "output_type": "stream",
     "text": [
      "[CV]  C=291.92926025390625, fit_intercept=False, intercept_scaling=100, solver=liblinear, score=0.5774410774410774, total=   0.1s\n",
      "[CV] C=291.92926025390625, fit_intercept=False, intercept_scaling=100, solver=liblinear \n",
      "[CV]  C=291.92926025390625, fit_intercept=False, intercept_scaling=100, solver=liblinear, score=0.5774410774410774, total=   0.1s\n",
      "[CV] C=291.92926025390625, fit_intercept=False, intercept_scaling=100, solver=liblinear \n"
     ]
    },
    {
     "name": "stderr",
     "output_type": "stream",
     "text": [
      "/anaconda3/lib/python3.7/site-packages/sklearn/svm/base.py:931: ConvergenceWarning: Liblinear failed to converge, increase the number of iterations.\n",
      "  \"the number of iterations.\", ConvergenceWarning)\n",
      "/anaconda3/lib/python3.7/site-packages/sklearn/linear_model/sag.py:334: ConvergenceWarning: The max_iter was reached which means the coef_ did not converge\n",
      "  \"the coef_ did not converge\", ConvergenceWarning)\n",
      "/anaconda3/lib/python3.7/site-packages/sklearn/linear_model/sag.py:334: ConvergenceWarning: The max_iter was reached which means the coef_ did not converge\n",
      "  \"the coef_ did not converge\", ConvergenceWarning)\n",
      "/anaconda3/lib/python3.7/site-packages/sklearn/linear_model/sag.py:334: ConvergenceWarning: The max_iter was reached which means the coef_ did not converge\n",
      "  \"the coef_ did not converge\", ConvergenceWarning)\n"
     ]
    },
    {
     "name": "stdout",
     "output_type": "stream",
     "text": [
      "[CV]  C=291.92926025390625, fit_intercept=False, intercept_scaling=100, solver=liblinear, score=0.5760135135135135, total=   0.3s\n",
      "[CV] C=291.92926025390625, fit_intercept=False, intercept_scaling=100, solver=saga \n",
      "[CV]  C=291.92926025390625, fit_intercept=False, intercept_scaling=100, solver=saga, score=0.4983164983164983, total=   0.1s\n",
      "[CV] C=291.92926025390625, fit_intercept=False, intercept_scaling=100, solver=saga \n",
      "[CV]  C=291.92926025390625, fit_intercept=False, intercept_scaling=100, solver=saga, score=0.51010101010101, total=   0.1s\n",
      "[CV] C=291.92926025390625, fit_intercept=False, intercept_scaling=100, solver=saga \n",
      "[CV]  C=291.92926025390625, fit_intercept=False, intercept_scaling=100, solver=saga, score=0.5135135135135135, total=   0.1s\n",
      "[CV] C=656.8408355712891, fit_intercept=True, intercept_scaling=1, solver=liblinear \n"
     ]
    },
    {
     "name": "stderr",
     "output_type": "stream",
     "text": [
      "/anaconda3/lib/python3.7/site-packages/sklearn/svm/base.py:931: ConvergenceWarning: Liblinear failed to converge, increase the number of iterations.\n",
      "  \"the number of iterations.\", ConvergenceWarning)\n"
     ]
    },
    {
     "name": "stdout",
     "output_type": "stream",
     "text": [
      "[CV]  C=656.8408355712891, fit_intercept=True, intercept_scaling=1, solver=liblinear, score=0.5757575757575758, total=   0.2s\n",
      "[CV] C=656.8408355712891, fit_intercept=True, intercept_scaling=1, solver=liblinear \n",
      "[CV]  C=656.8408355712891, fit_intercept=True, intercept_scaling=1, solver=liblinear, score=0.5808080808080808, total=   0.1s\n",
      "[CV] C=656.8408355712891, fit_intercept=True, intercept_scaling=1, solver=liblinear \n",
      "[CV]  C=656.8408355712891, fit_intercept=True, intercept_scaling=1, solver=liblinear, score=0.5929054054054054, total=   0.3s\n",
      "[CV] C=656.8408355712891, fit_intercept=True, intercept_scaling=1, solver=saga \n",
      "[CV]  C=656.8408355712891, fit_intercept=True, intercept_scaling=1, solver=saga, score=0.5, total=   0.1s\n",
      "[CV] C=656.8408355712891, fit_intercept=True, intercept_scaling=1, solver=saga \n",
      "[CV]  C=656.8408355712891, fit_intercept=True, intercept_scaling=1, solver=saga, score=0.5117845117845118, total=   0.1s\n",
      "[CV] C=656.8408355712891, fit_intercept=True, intercept_scaling=1, solver=saga \n",
      "[CV]  C=656.8408355712891, fit_intercept=True, intercept_scaling=1, solver=saga, score=0.5135135135135135, total=   0.1s\n",
      "[CV] C=656.8408355712891, fit_intercept=True, intercept_scaling=5, solver=liblinear \n"
     ]
    },
    {
     "name": "stderr",
     "output_type": "stream",
     "text": [
      "/anaconda3/lib/python3.7/site-packages/sklearn/linear_model/sag.py:334: ConvergenceWarning: The max_iter was reached which means the coef_ did not converge\n",
      "  \"the coef_ did not converge\", ConvergenceWarning)\n",
      "/anaconda3/lib/python3.7/site-packages/sklearn/linear_model/sag.py:334: ConvergenceWarning: The max_iter was reached which means the coef_ did not converge\n",
      "  \"the coef_ did not converge\", ConvergenceWarning)\n",
      "/anaconda3/lib/python3.7/site-packages/sklearn/linear_model/sag.py:334: ConvergenceWarning: The max_iter was reached which means the coef_ did not converge\n",
      "  \"the coef_ did not converge\", ConvergenceWarning)\n",
      "/anaconda3/lib/python3.7/site-packages/sklearn/svm/base.py:931: ConvergenceWarning: Liblinear failed to converge, increase the number of iterations.\n",
      "  \"the number of iterations.\", ConvergenceWarning)\n"
     ]
    },
    {
     "name": "stdout",
     "output_type": "stream",
     "text": [
      "[CV]  C=656.8408355712891, fit_intercept=True, intercept_scaling=5, solver=liblinear, score=0.5841750841750841, total=   0.1s\n",
      "[CV] C=656.8408355712891, fit_intercept=True, intercept_scaling=5, solver=liblinear \n",
      "[CV]  C=656.8408355712891, fit_intercept=True, intercept_scaling=5, solver=liblinear, score=0.5808080808080808, total=   0.2s\n",
      "[CV] C=656.8408355712891, fit_intercept=True, intercept_scaling=5, solver=liblinear \n"
     ]
    },
    {
     "name": "stderr",
     "output_type": "stream",
     "text": [
      "/anaconda3/lib/python3.7/site-packages/sklearn/svm/base.py:931: ConvergenceWarning: Liblinear failed to converge, increase the number of iterations.\n",
      "  \"the number of iterations.\", ConvergenceWarning)\n",
      "/anaconda3/lib/python3.7/site-packages/sklearn/linear_model/sag.py:334: ConvergenceWarning: The max_iter was reached which means the coef_ did not converge\n",
      "  \"the coef_ did not converge\", ConvergenceWarning)\n",
      "/anaconda3/lib/python3.7/site-packages/sklearn/linear_model/sag.py:334: ConvergenceWarning: The max_iter was reached which means the coef_ did not converge\n",
      "  \"the coef_ did not converge\", ConvergenceWarning)\n",
      "/anaconda3/lib/python3.7/site-packages/sklearn/linear_model/sag.py:334: ConvergenceWarning: The max_iter was reached which means the coef_ did not converge\n",
      "  \"the coef_ did not converge\", ConvergenceWarning)\n"
     ]
    },
    {
     "name": "stdout",
     "output_type": "stream",
     "text": [
      "[CV]  C=656.8408355712891, fit_intercept=True, intercept_scaling=5, solver=liblinear, score=0.5962837837837838, total=   0.3s\n",
      "[CV] C=656.8408355712891, fit_intercept=True, intercept_scaling=5, solver=saga \n",
      "[CV]  C=656.8408355712891, fit_intercept=True, intercept_scaling=5, solver=saga, score=0.5, total=   0.1s\n",
      "[CV] C=656.8408355712891, fit_intercept=True, intercept_scaling=5, solver=saga \n",
      "[CV]  C=656.8408355712891, fit_intercept=True, intercept_scaling=5, solver=saga, score=0.5151515151515151, total=   0.1s\n",
      "[CV] C=656.8408355712891, fit_intercept=True, intercept_scaling=5, solver=saga \n",
      "[CV]  C=656.8408355712891, fit_intercept=True, intercept_scaling=5, solver=saga, score=0.5135135135135135, total=   0.1s\n",
      "[CV] C=656.8408355712891, fit_intercept=True, intercept_scaling=10, solver=liblinear \n"
     ]
    },
    {
     "name": "stderr",
     "output_type": "stream",
     "text": [
      "/anaconda3/lib/python3.7/site-packages/sklearn/svm/base.py:931: ConvergenceWarning: Liblinear failed to converge, increase the number of iterations.\n",
      "  \"the number of iterations.\", ConvergenceWarning)\n"
     ]
    },
    {
     "name": "stdout",
     "output_type": "stream",
     "text": [
      "[CV]  C=656.8408355712891, fit_intercept=True, intercept_scaling=10, solver=liblinear, score=0.5757575757575758, total=   0.2s\n",
      "[CV] C=656.8408355712891, fit_intercept=True, intercept_scaling=10, solver=liblinear \n",
      "[CV]  C=656.8408355712891, fit_intercept=True, intercept_scaling=10, solver=liblinear, score=0.5808080808080808, total=   0.1s\n",
      "[CV] C=656.8408355712891, fit_intercept=True, intercept_scaling=10, solver=liblinear \n",
      "[CV]  C=656.8408355712891, fit_intercept=True, intercept_scaling=10, solver=liblinear, score=0.5945945945945946, total=   0.3s\n",
      "[CV] C=656.8408355712891, fit_intercept=True, intercept_scaling=10, solver=saga \n",
      "[CV]  C=656.8408355712891, fit_intercept=True, intercept_scaling=10, solver=saga, score=0.5, total=   0.1s\n",
      "[CV] C=656.8408355712891, fit_intercept=True, intercept_scaling=10, solver=saga \n",
      "[CV]  C=656.8408355712891, fit_intercept=True, intercept_scaling=10, solver=saga, score=0.5117845117845118, total=   0.1s\n",
      "[CV] C=656.8408355712891, fit_intercept=True, intercept_scaling=10, solver=saga \n",
      "[CV]  C=656.8408355712891, fit_intercept=True, intercept_scaling=10, solver=saga, score=0.5135135135135135, total=   0.1s\n",
      "[CV] C=656.8408355712891, fit_intercept=True, intercept_scaling=25, solver=liblinear \n"
     ]
    },
    {
     "name": "stderr",
     "output_type": "stream",
     "text": [
      "/anaconda3/lib/python3.7/site-packages/sklearn/linear_model/sag.py:334: ConvergenceWarning: The max_iter was reached which means the coef_ did not converge\n",
      "  \"the coef_ did not converge\", ConvergenceWarning)\n",
      "/anaconda3/lib/python3.7/site-packages/sklearn/linear_model/sag.py:334: ConvergenceWarning: The max_iter was reached which means the coef_ did not converge\n",
      "  \"the coef_ did not converge\", ConvergenceWarning)\n",
      "/anaconda3/lib/python3.7/site-packages/sklearn/linear_model/sag.py:334: ConvergenceWarning: The max_iter was reached which means the coef_ did not converge\n",
      "  \"the coef_ did not converge\", ConvergenceWarning)\n",
      "/anaconda3/lib/python3.7/site-packages/sklearn/svm/base.py:931: ConvergenceWarning: Liblinear failed to converge, increase the number of iterations.\n",
      "  \"the number of iterations.\", ConvergenceWarning)\n"
     ]
    },
    {
     "name": "stdout",
     "output_type": "stream",
     "text": [
      "[CV]  C=656.8408355712891, fit_intercept=True, intercept_scaling=25, solver=liblinear, score=0.5909090909090909, total=   0.1s\n",
      "[CV] C=656.8408355712891, fit_intercept=True, intercept_scaling=25, solver=liblinear \n",
      "[CV]  C=656.8408355712891, fit_intercept=True, intercept_scaling=25, solver=liblinear, score=0.5791245791245792, total=   0.1s\n",
      "[CV] C=656.8408355712891, fit_intercept=True, intercept_scaling=25, solver=liblinear \n"
     ]
    },
    {
     "name": "stderr",
     "output_type": "stream",
     "text": [
      "/anaconda3/lib/python3.7/site-packages/sklearn/svm/base.py:931: ConvergenceWarning: Liblinear failed to converge, increase the number of iterations.\n",
      "  \"the number of iterations.\", ConvergenceWarning)\n",
      "/anaconda3/lib/python3.7/site-packages/sklearn/linear_model/sag.py:334: ConvergenceWarning: The max_iter was reached which means the coef_ did not converge\n",
      "  \"the coef_ did not converge\", ConvergenceWarning)\n",
      "/anaconda3/lib/python3.7/site-packages/sklearn/linear_model/sag.py:334: ConvergenceWarning: The max_iter was reached which means the coef_ did not converge\n",
      "  \"the coef_ did not converge\", ConvergenceWarning)\n"
     ]
    },
    {
     "name": "stdout",
     "output_type": "stream",
     "text": [
      "[CV]  C=656.8408355712891, fit_intercept=True, intercept_scaling=25, solver=liblinear, score=0.6013513513513513, total=   0.1s\n",
      "[CV] C=656.8408355712891, fit_intercept=True, intercept_scaling=25, solver=saga \n",
      "[CV]  C=656.8408355712891, fit_intercept=True, intercept_scaling=25, solver=saga, score=0.5016835016835017, total=   0.1s\n",
      "[CV] C=656.8408355712891, fit_intercept=True, intercept_scaling=25, solver=saga \n",
      "[CV]  C=656.8408355712891, fit_intercept=True, intercept_scaling=25, solver=saga, score=0.5134680134680135, total=   0.1s\n",
      "[CV] C=656.8408355712891, fit_intercept=True, intercept_scaling=25, solver=saga \n"
     ]
    },
    {
     "name": "stderr",
     "output_type": "stream",
     "text": [
      "/anaconda3/lib/python3.7/site-packages/sklearn/linear_model/sag.py:334: ConvergenceWarning: The max_iter was reached which means the coef_ did not converge\n",
      "  \"the coef_ did not converge\", ConvergenceWarning)\n",
      "/anaconda3/lib/python3.7/site-packages/sklearn/svm/base.py:931: ConvergenceWarning: Liblinear failed to converge, increase the number of iterations.\n",
      "  \"the number of iterations.\", ConvergenceWarning)\n"
     ]
    },
    {
     "name": "stdout",
     "output_type": "stream",
     "text": [
      "[CV]  C=656.8408355712891, fit_intercept=True, intercept_scaling=25, solver=saga, score=0.5118243243243243, total=   0.1s\n",
      "[CV] C=656.8408355712891, fit_intercept=True, intercept_scaling=50, solver=liblinear \n",
      "[CV]  C=656.8408355712891, fit_intercept=True, intercept_scaling=50, solver=liblinear, score=0.5791245791245792, total=   0.2s\n",
      "[CV] C=656.8408355712891, fit_intercept=True, intercept_scaling=50, solver=liblinear \n",
      "[CV]  C=656.8408355712891, fit_intercept=True, intercept_scaling=50, solver=liblinear, score=0.5808080808080808, total=   0.2s\n",
      "[CV] C=656.8408355712891, fit_intercept=True, intercept_scaling=50, solver=liblinear \n",
      "[CV]  C=656.8408355712891, fit_intercept=True, intercept_scaling=50, solver=liblinear, score=0.5929054054054054, total=   0.2s\n",
      "[CV] C=656.8408355712891, fit_intercept=True, intercept_scaling=50, solver=saga \n"
     ]
    },
    {
     "name": "stderr",
     "output_type": "stream",
     "text": [
      "/anaconda3/lib/python3.7/site-packages/sklearn/svm/base.py:931: ConvergenceWarning: Liblinear failed to converge, increase the number of iterations.\n",
      "  \"the number of iterations.\", ConvergenceWarning)\n",
      "/anaconda3/lib/python3.7/site-packages/sklearn/linear_model/sag.py:334: ConvergenceWarning: The max_iter was reached which means the coef_ did not converge\n",
      "  \"the coef_ did not converge\", ConvergenceWarning)\n",
      "/anaconda3/lib/python3.7/site-packages/sklearn/linear_model/sag.py:334: ConvergenceWarning: The max_iter was reached which means the coef_ did not converge\n",
      "  \"the coef_ did not converge\", ConvergenceWarning)\n",
      "/anaconda3/lib/python3.7/site-packages/sklearn/linear_model/sag.py:334: ConvergenceWarning: The max_iter was reached which means the coef_ did not converge\n",
      "  \"the coef_ did not converge\", ConvergenceWarning)\n"
     ]
    },
    {
     "name": "stdout",
     "output_type": "stream",
     "text": [
      "[CV]  C=656.8408355712891, fit_intercept=True, intercept_scaling=50, solver=saga, score=0.5, total=   0.1s\n",
      "[CV] C=656.8408355712891, fit_intercept=True, intercept_scaling=50, solver=saga \n",
      "[CV]  C=656.8408355712891, fit_intercept=True, intercept_scaling=50, solver=saga, score=0.51010101010101, total=   0.1s\n",
      "[CV] C=656.8408355712891, fit_intercept=True, intercept_scaling=50, solver=saga \n",
      "[CV]  C=656.8408355712891, fit_intercept=True, intercept_scaling=50, solver=saga, score=0.5118243243243243, total=   0.1s\n",
      "[CV] C=656.8408355712891, fit_intercept=True, intercept_scaling=100, solver=liblinear \n"
     ]
    },
    {
     "name": "stderr",
     "output_type": "stream",
     "text": [
      "/anaconda3/lib/python3.7/site-packages/sklearn/svm/base.py:931: ConvergenceWarning: Liblinear failed to converge, increase the number of iterations.\n",
      "  \"the number of iterations.\", ConvergenceWarning)\n"
     ]
    },
    {
     "name": "stdout",
     "output_type": "stream",
     "text": [
      "[CV]  C=656.8408355712891, fit_intercept=True, intercept_scaling=100, solver=liblinear, score=0.5791245791245792, total=   0.1s\n",
      "[CV] C=656.8408355712891, fit_intercept=True, intercept_scaling=100, solver=liblinear \n",
      "[CV]  C=656.8408355712891, fit_intercept=True, intercept_scaling=100, solver=liblinear, score=0.5808080808080808, total=   0.1s\n",
      "[CV] C=656.8408355712891, fit_intercept=True, intercept_scaling=100, solver=liblinear \n"
     ]
    },
    {
     "name": "stderr",
     "output_type": "stream",
     "text": [
      "/anaconda3/lib/python3.7/site-packages/sklearn/svm/base.py:931: ConvergenceWarning: Liblinear failed to converge, increase the number of iterations.\n",
      "  \"the number of iterations.\", ConvergenceWarning)\n",
      "/anaconda3/lib/python3.7/site-packages/sklearn/linear_model/sag.py:334: ConvergenceWarning: The max_iter was reached which means the coef_ did not converge\n",
      "  \"the coef_ did not converge\", ConvergenceWarning)\n",
      "/anaconda3/lib/python3.7/site-packages/sklearn/linear_model/sag.py:334: ConvergenceWarning: The max_iter was reached which means the coef_ did not converge\n",
      "  \"the coef_ did not converge\", ConvergenceWarning)\n",
      "/anaconda3/lib/python3.7/site-packages/sklearn/linear_model/sag.py:334: ConvergenceWarning: The max_iter was reached which means the coef_ did not converge\n",
      "  \"the coef_ did not converge\", ConvergenceWarning)\n"
     ]
    },
    {
     "name": "stdout",
     "output_type": "stream",
     "text": [
      "[CV]  C=656.8408355712891, fit_intercept=True, intercept_scaling=100, solver=liblinear, score=0.5929054054054054, total=   0.2s\n",
      "[CV] C=656.8408355712891, fit_intercept=True, intercept_scaling=100, solver=saga \n",
      "[CV]  C=656.8408355712891, fit_intercept=True, intercept_scaling=100, solver=saga, score=0.5, total=   0.1s\n",
      "[CV] C=656.8408355712891, fit_intercept=True, intercept_scaling=100, solver=saga \n",
      "[CV]  C=656.8408355712891, fit_intercept=True, intercept_scaling=100, solver=saga, score=0.5134680134680135, total=   0.1s\n",
      "[CV] C=656.8408355712891, fit_intercept=True, intercept_scaling=100, solver=saga \n",
      "[CV]  C=656.8408355712891, fit_intercept=True, intercept_scaling=100, solver=saga, score=0.5135135135135135, total=   0.1s\n",
      "[CV] C=656.8408355712891, fit_intercept=False, intercept_scaling=1, solver=liblinear \n"
     ]
    },
    {
     "name": "stderr",
     "output_type": "stream",
     "text": [
      "/anaconda3/lib/python3.7/site-packages/sklearn/svm/base.py:931: ConvergenceWarning: Liblinear failed to converge, increase the number of iterations.\n",
      "  \"the number of iterations.\", ConvergenceWarning)\n"
     ]
    },
    {
     "name": "stdout",
     "output_type": "stream",
     "text": [
      "[CV]  C=656.8408355712891, fit_intercept=False, intercept_scaling=1, solver=liblinear, score=0.5791245791245792, total=   0.1s\n",
      "[CV] C=656.8408355712891, fit_intercept=False, intercept_scaling=1, solver=liblinear \n",
      "[CV]  C=656.8408355712891, fit_intercept=False, intercept_scaling=1, solver=liblinear, score=0.5774410774410774, total=   0.1s\n",
      "[CV] C=656.8408355712891, fit_intercept=False, intercept_scaling=1, solver=liblinear \n",
      "[CV]  C=656.8408355712891, fit_intercept=False, intercept_scaling=1, solver=liblinear, score=0.5861486486486487, total=   0.3s\n",
      "[CV] C=656.8408355712891, fit_intercept=False, intercept_scaling=1, solver=saga \n",
      "[CV]  C=656.8408355712891, fit_intercept=False, intercept_scaling=1, solver=saga, score=0.5016835016835017, total=   0.1s\n",
      "[CV] C=656.8408355712891, fit_intercept=False, intercept_scaling=1, solver=saga \n",
      "[CV]  C=656.8408355712891, fit_intercept=False, intercept_scaling=1, solver=saga, score=0.5117845117845118, total=   0.1s\n",
      "[CV] C=656.8408355712891, fit_intercept=False, intercept_scaling=1, solver=saga \n"
     ]
    },
    {
     "name": "stderr",
     "output_type": "stream",
     "text": [
      "/anaconda3/lib/python3.7/site-packages/sklearn/linear_model/sag.py:334: ConvergenceWarning: The max_iter was reached which means the coef_ did not converge\n",
      "  \"the coef_ did not converge\", ConvergenceWarning)\n",
      "/anaconda3/lib/python3.7/site-packages/sklearn/linear_model/sag.py:334: ConvergenceWarning: The max_iter was reached which means the coef_ did not converge\n",
      "  \"the coef_ did not converge\", ConvergenceWarning)\n",
      "/anaconda3/lib/python3.7/site-packages/sklearn/linear_model/sag.py:334: ConvergenceWarning: The max_iter was reached which means the coef_ did not converge\n",
      "  \"the coef_ did not converge\", ConvergenceWarning)\n"
     ]
    },
    {
     "name": "stdout",
     "output_type": "stream",
     "text": [
      "[CV]  C=656.8408355712891, fit_intercept=False, intercept_scaling=1, solver=saga, score=0.5135135135135135, total=   0.1s\n",
      "[CV] C=656.8408355712891, fit_intercept=False, intercept_scaling=5, solver=liblinear \n",
      "[CV]  C=656.8408355712891, fit_intercept=False, intercept_scaling=5, solver=liblinear, score=0.5791245791245792, total=   0.1s\n",
      "[CV] C=656.8408355712891, fit_intercept=False, intercept_scaling=5, solver=liblinear \n"
     ]
    },
    {
     "name": "stderr",
     "output_type": "stream",
     "text": [
      "/anaconda3/lib/python3.7/site-packages/sklearn/svm/base.py:931: ConvergenceWarning: Liblinear failed to converge, increase the number of iterations.\n",
      "  \"the number of iterations.\", ConvergenceWarning)\n"
     ]
    },
    {
     "name": "stdout",
     "output_type": "stream",
     "text": [
      "[CV]  C=656.8408355712891, fit_intercept=False, intercept_scaling=5, solver=liblinear, score=0.5774410774410774, total=   0.2s\n",
      "[CV] C=656.8408355712891, fit_intercept=False, intercept_scaling=5, solver=liblinear \n",
      "[CV]  C=656.8408355712891, fit_intercept=False, intercept_scaling=5, solver=liblinear, score=0.5861486486486487, total=   0.2s\n",
      "[CV] C=656.8408355712891, fit_intercept=False, intercept_scaling=5, solver=saga \n",
      "[CV]  C=656.8408355712891, fit_intercept=False, intercept_scaling=5, solver=saga, score=0.5, total=   0.1s\n",
      "[CV] C=656.8408355712891, fit_intercept=False, intercept_scaling=5, solver=saga \n",
      "[CV]  C=656.8408355712891, fit_intercept=False, intercept_scaling=5, solver=saga, score=0.51010101010101, total=   0.1s\n",
      "[CV] C=656.8408355712891, fit_intercept=False, intercept_scaling=5, solver=saga \n"
     ]
    },
    {
     "name": "stderr",
     "output_type": "stream",
     "text": [
      "/anaconda3/lib/python3.7/site-packages/sklearn/linear_model/sag.py:334: ConvergenceWarning: The max_iter was reached which means the coef_ did not converge\n",
      "  \"the coef_ did not converge\", ConvergenceWarning)\n",
      "/anaconda3/lib/python3.7/site-packages/sklearn/linear_model/sag.py:334: ConvergenceWarning: The max_iter was reached which means the coef_ did not converge\n",
      "  \"the coef_ did not converge\", ConvergenceWarning)\n",
      "/anaconda3/lib/python3.7/site-packages/sklearn/linear_model/sag.py:334: ConvergenceWarning: The max_iter was reached which means the coef_ did not converge\n",
      "  \"the coef_ did not converge\", ConvergenceWarning)\n"
     ]
    },
    {
     "name": "stdout",
     "output_type": "stream",
     "text": [
      "[CV]  C=656.8408355712891, fit_intercept=False, intercept_scaling=5, solver=saga, score=0.5135135135135135, total=   0.1s\n",
      "[CV] C=656.8408355712891, fit_intercept=False, intercept_scaling=10, solver=liblinear \n",
      "[CV]  C=656.8408355712891, fit_intercept=False, intercept_scaling=10, solver=liblinear, score=0.5791245791245792, total=   0.1s\n",
      "[CV] C=656.8408355712891, fit_intercept=False, intercept_scaling=10, solver=liblinear \n"
     ]
    },
    {
     "name": "stderr",
     "output_type": "stream",
     "text": [
      "/anaconda3/lib/python3.7/site-packages/sklearn/svm/base.py:931: ConvergenceWarning: Liblinear failed to converge, increase the number of iterations.\n",
      "  \"the number of iterations.\", ConvergenceWarning)\n"
     ]
    },
    {
     "name": "stdout",
     "output_type": "stream",
     "text": [
      "[CV]  C=656.8408355712891, fit_intercept=False, intercept_scaling=10, solver=liblinear, score=0.5774410774410774, total=   0.1s\n",
      "[CV] C=656.8408355712891, fit_intercept=False, intercept_scaling=10, solver=liblinear \n",
      "[CV]  C=656.8408355712891, fit_intercept=False, intercept_scaling=10, solver=liblinear, score=0.5861486486486487, total=   0.2s\n",
      "[CV] C=656.8408355712891, fit_intercept=False, intercept_scaling=10, solver=saga \n",
      "[CV]  C=656.8408355712891, fit_intercept=False, intercept_scaling=10, solver=saga, score=0.4983164983164983, total=   0.1s\n",
      "[CV] C=656.8408355712891, fit_intercept=False, intercept_scaling=10, solver=saga \n",
      "[CV]  C=656.8408355712891, fit_intercept=False, intercept_scaling=10, solver=saga, score=0.5151515151515151, total=   0.1s\n",
      "[CV] C=656.8408355712891, fit_intercept=False, intercept_scaling=10, solver=saga \n",
      "[CV]  C=656.8408355712891, fit_intercept=False, intercept_scaling=10, solver=saga, score=0.5152027027027027, total=   0.1s\n",
      "[CV] C=656.8408355712891, fit_intercept=False, intercept_scaling=25, solver=liblinear \n"
     ]
    },
    {
     "name": "stderr",
     "output_type": "stream",
     "text": [
      "/anaconda3/lib/python3.7/site-packages/sklearn/linear_model/sag.py:334: ConvergenceWarning: The max_iter was reached which means the coef_ did not converge\n",
      "  \"the coef_ did not converge\", ConvergenceWarning)\n",
      "/anaconda3/lib/python3.7/site-packages/sklearn/linear_model/sag.py:334: ConvergenceWarning: The max_iter was reached which means the coef_ did not converge\n",
      "  \"the coef_ did not converge\", ConvergenceWarning)\n",
      "/anaconda3/lib/python3.7/site-packages/sklearn/linear_model/sag.py:334: ConvergenceWarning: The max_iter was reached which means the coef_ did not converge\n",
      "  \"the coef_ did not converge\", ConvergenceWarning)\n",
      "/anaconda3/lib/python3.7/site-packages/sklearn/svm/base.py:931: ConvergenceWarning: Liblinear failed to converge, increase the number of iterations.\n",
      "  \"the number of iterations.\", ConvergenceWarning)\n"
     ]
    },
    {
     "name": "stdout",
     "output_type": "stream",
     "text": [
      "[CV]  C=656.8408355712891, fit_intercept=False, intercept_scaling=25, solver=liblinear, score=0.5791245791245792, total=   0.1s\n",
      "[CV] C=656.8408355712891, fit_intercept=False, intercept_scaling=25, solver=liblinear \n",
      "[CV]  C=656.8408355712891, fit_intercept=False, intercept_scaling=25, solver=liblinear, score=0.5774410774410774, total=   0.2s\n",
      "[CV] C=656.8408355712891, fit_intercept=False, intercept_scaling=25, solver=liblinear \n",
      "[CV]  C=656.8408355712891, fit_intercept=False, intercept_scaling=25, solver=liblinear, score=0.5861486486486487, total=   0.2s\n",
      "[CV] C=656.8408355712891, fit_intercept=False, intercept_scaling=25, solver=saga \n",
      "[CV]  C=656.8408355712891, fit_intercept=False, intercept_scaling=25, solver=saga, score=0.5016835016835017, total=   0.1s\n",
      "[CV] C=656.8408355712891, fit_intercept=False, intercept_scaling=25, solver=saga \n",
      "[CV]  C=656.8408355712891, fit_intercept=False, intercept_scaling=25, solver=saga, score=0.5134680134680135, total=   0.1s\n",
      "[CV] C=656.8408355712891, fit_intercept=False, intercept_scaling=25, solver=saga \n",
      "[CV]  C=656.8408355712891, fit_intercept=False, intercept_scaling=25, solver=saga, score=0.5135135135135135, total=   0.1s\n",
      "[CV] C=656.8408355712891, fit_intercept=False, intercept_scaling=50, solver=liblinear \n"
     ]
    },
    {
     "name": "stderr",
     "output_type": "stream",
     "text": [
      "/anaconda3/lib/python3.7/site-packages/sklearn/linear_model/sag.py:334: ConvergenceWarning: The max_iter was reached which means the coef_ did not converge\n",
      "  \"the coef_ did not converge\", ConvergenceWarning)\n",
      "/anaconda3/lib/python3.7/site-packages/sklearn/linear_model/sag.py:334: ConvergenceWarning: The max_iter was reached which means the coef_ did not converge\n",
      "  \"the coef_ did not converge\", ConvergenceWarning)\n",
      "/anaconda3/lib/python3.7/site-packages/sklearn/linear_model/sag.py:334: ConvergenceWarning: The max_iter was reached which means the coef_ did not converge\n",
      "  \"the coef_ did not converge\", ConvergenceWarning)\n",
      "/anaconda3/lib/python3.7/site-packages/sklearn/svm/base.py:931: ConvergenceWarning: Liblinear failed to converge, increase the number of iterations.\n",
      "  \"the number of iterations.\", ConvergenceWarning)\n"
     ]
    },
    {
     "name": "stdout",
     "output_type": "stream",
     "text": [
      "[CV]  C=656.8408355712891, fit_intercept=False, intercept_scaling=50, solver=liblinear, score=0.5791245791245792, total=   0.1s\n",
      "[CV] C=656.8408355712891, fit_intercept=False, intercept_scaling=50, solver=liblinear \n",
      "[CV]  C=656.8408355712891, fit_intercept=False, intercept_scaling=50, solver=liblinear, score=0.5774410774410774, total=   0.1s\n",
      "[CV] C=656.8408355712891, fit_intercept=False, intercept_scaling=50, solver=liblinear \n",
      "[CV]  C=656.8408355712891, fit_intercept=False, intercept_scaling=50, solver=liblinear, score=0.5861486486486487, total=   0.2s\n",
      "[CV] C=656.8408355712891, fit_intercept=False, intercept_scaling=50, solver=saga \n",
      "[CV]  C=656.8408355712891, fit_intercept=False, intercept_scaling=50, solver=saga, score=0.4983164983164983, total=   0.1s\n",
      "[CV] C=656.8408355712891, fit_intercept=False, intercept_scaling=50, solver=saga \n",
      "[CV]  C=656.8408355712891, fit_intercept=False, intercept_scaling=50, solver=saga, score=0.5151515151515151, total=   0.1s\n",
      "[CV] C=656.8408355712891, fit_intercept=False, intercept_scaling=50, solver=saga \n"
     ]
    },
    {
     "name": "stderr",
     "output_type": "stream",
     "text": [
      "/anaconda3/lib/python3.7/site-packages/sklearn/linear_model/sag.py:334: ConvergenceWarning: The max_iter was reached which means the coef_ did not converge\n",
      "  \"the coef_ did not converge\", ConvergenceWarning)\n",
      "/anaconda3/lib/python3.7/site-packages/sklearn/linear_model/sag.py:334: ConvergenceWarning: The max_iter was reached which means the coef_ did not converge\n",
      "  \"the coef_ did not converge\", ConvergenceWarning)\n",
      "/anaconda3/lib/python3.7/site-packages/sklearn/linear_model/sag.py:334: ConvergenceWarning: The max_iter was reached which means the coef_ did not converge\n",
      "  \"the coef_ did not converge\", ConvergenceWarning)\n"
     ]
    },
    {
     "name": "stdout",
     "output_type": "stream",
     "text": [
      "[CV]  C=656.8408355712891, fit_intercept=False, intercept_scaling=50, solver=saga, score=0.5152027027027027, total=   0.1s\n",
      "[CV] C=656.8408355712891, fit_intercept=False, intercept_scaling=100, solver=liblinear \n",
      "[CV]  C=656.8408355712891, fit_intercept=False, intercept_scaling=100, solver=liblinear, score=0.5791245791245792, total=   0.1s\n",
      "[CV] C=656.8408355712891, fit_intercept=False, intercept_scaling=100, solver=liblinear \n"
     ]
    },
    {
     "name": "stderr",
     "output_type": "stream",
     "text": [
      "/anaconda3/lib/python3.7/site-packages/sklearn/svm/base.py:931: ConvergenceWarning: Liblinear failed to converge, increase the number of iterations.\n",
      "  \"the number of iterations.\", ConvergenceWarning)\n"
     ]
    },
    {
     "name": "stdout",
     "output_type": "stream",
     "text": [
      "[CV]  C=656.8408355712891, fit_intercept=False, intercept_scaling=100, solver=liblinear, score=0.5774410774410774, total=   0.2s\n",
      "[CV] C=656.8408355712891, fit_intercept=False, intercept_scaling=100, solver=liblinear \n",
      "[CV]  C=656.8408355712891, fit_intercept=False, intercept_scaling=100, solver=liblinear, score=0.5861486486486487, total=   0.2s\n",
      "[CV] C=656.8408355712891, fit_intercept=False, intercept_scaling=100, solver=saga \n",
      "[CV]  C=656.8408355712891, fit_intercept=False, intercept_scaling=100, solver=saga, score=0.5016835016835017, total=   0.1s\n",
      "[CV] C=656.8408355712891, fit_intercept=False, intercept_scaling=100, solver=saga \n",
      "[CV]  C=656.8408355712891, fit_intercept=False, intercept_scaling=100, solver=saga, score=0.5134680134680135, total=   0.1s\n",
      "[CV] C=656.8408355712891, fit_intercept=False, intercept_scaling=100, solver=saga \n",
      "[CV]  C=656.8408355712891, fit_intercept=False, intercept_scaling=100, solver=saga, score=0.5118243243243243, total=   0.1s\n",
      "[CV] C=1477.8918800354004, fit_intercept=True, intercept_scaling=1, solver=liblinear \n"
     ]
    },
    {
     "name": "stderr",
     "output_type": "stream",
     "text": [
      "/anaconda3/lib/python3.7/site-packages/sklearn/linear_model/sag.py:334: ConvergenceWarning: The max_iter was reached which means the coef_ did not converge\n",
      "  \"the coef_ did not converge\", ConvergenceWarning)\n",
      "/anaconda3/lib/python3.7/site-packages/sklearn/linear_model/sag.py:334: ConvergenceWarning: The max_iter was reached which means the coef_ did not converge\n",
      "  \"the coef_ did not converge\", ConvergenceWarning)\n",
      "/anaconda3/lib/python3.7/site-packages/sklearn/linear_model/sag.py:334: ConvergenceWarning: The max_iter was reached which means the coef_ did not converge\n",
      "  \"the coef_ did not converge\", ConvergenceWarning)\n"
     ]
    },
    {
     "name": "stdout",
     "output_type": "stream",
     "text": [
      "[CV]  C=1477.8918800354004, fit_intercept=True, intercept_scaling=1, solver=liblinear, score=0.5791245791245792, total=   0.3s\n",
      "[CV] C=1477.8918800354004, fit_intercept=True, intercept_scaling=1, solver=liblinear \n",
      "[CV]  C=1477.8918800354004, fit_intercept=True, intercept_scaling=1, solver=liblinear, score=0.5791245791245792, total=   0.1s\n",
      "[CV] C=1477.8918800354004, fit_intercept=True, intercept_scaling=1, solver=liblinear \n",
      "[CV]  C=1477.8918800354004, fit_intercept=True, intercept_scaling=1, solver=liblinear, score=0.5929054054054054, total=   0.2s\n",
      "[CV] C=1477.8918800354004, fit_intercept=True, intercept_scaling=1, solver=saga \n",
      "[CV]  C=1477.8918800354004, fit_intercept=True, intercept_scaling=1, solver=saga, score=0.4983164983164983, total=   0.1s\n",
      "[CV] C=1477.8918800354004, fit_intercept=True, intercept_scaling=1, solver=saga \n",
      "[CV]  C=1477.8918800354004, fit_intercept=True, intercept_scaling=1, solver=saga, score=0.5151515151515151, total=   0.1s\n",
      "[CV] C=1477.8918800354004, fit_intercept=True, intercept_scaling=1, solver=saga \n",
      "[CV]  C=1477.8918800354004, fit_intercept=True, intercept_scaling=1, solver=saga, score=0.5135135135135135, total=   0.1s\n",
      "[CV] C=1477.8918800354004, fit_intercept=True, intercept_scaling=5, solver=liblinear \n"
     ]
    },
    {
     "name": "stderr",
     "output_type": "stream",
     "text": [
      "/anaconda3/lib/python3.7/site-packages/sklearn/linear_model/sag.py:334: ConvergenceWarning: The max_iter was reached which means the coef_ did not converge\n",
      "  \"the coef_ did not converge\", ConvergenceWarning)\n",
      "/anaconda3/lib/python3.7/site-packages/sklearn/linear_model/sag.py:334: ConvergenceWarning: The max_iter was reached which means the coef_ did not converge\n",
      "  \"the coef_ did not converge\", ConvergenceWarning)\n",
      "/anaconda3/lib/python3.7/site-packages/sklearn/linear_model/sag.py:334: ConvergenceWarning: The max_iter was reached which means the coef_ did not converge\n",
      "  \"the coef_ did not converge\", ConvergenceWarning)\n"
     ]
    },
    {
     "name": "stdout",
     "output_type": "stream",
     "text": [
      "[CV]  C=1477.8918800354004, fit_intercept=True, intercept_scaling=5, solver=liblinear, score=0.5791245791245792, total=   0.2s\n",
      "[CV] C=1477.8918800354004, fit_intercept=True, intercept_scaling=5, solver=liblinear \n",
      "[CV]  C=1477.8918800354004, fit_intercept=True, intercept_scaling=5, solver=liblinear, score=0.5808080808080808, total=   0.1s\n",
      "[CV] C=1477.8918800354004, fit_intercept=True, intercept_scaling=5, solver=liblinear \n",
      "[CV]  C=1477.8918800354004, fit_intercept=True, intercept_scaling=5, solver=liblinear, score=0.5945945945945946, total=   0.2s\n",
      "[CV] C=1477.8918800354004, fit_intercept=True, intercept_scaling=5, solver=saga \n",
      "[CV]  C=1477.8918800354004, fit_intercept=True, intercept_scaling=5, solver=saga, score=0.5, total=   0.1s\n",
      "[CV] C=1477.8918800354004, fit_intercept=True, intercept_scaling=5, solver=saga \n",
      "[CV]  C=1477.8918800354004, fit_intercept=True, intercept_scaling=5, solver=saga, score=0.5134680134680135, total=   0.1s\n",
      "[CV] C=1477.8918800354004, fit_intercept=True, intercept_scaling=5, solver=saga \n",
      "[CV]  C=1477.8918800354004, fit_intercept=True, intercept_scaling=5, solver=saga, score=0.5135135135135135, total=   0.1s\n",
      "[CV] C=1477.8918800354004, fit_intercept=True, intercept_scaling=10, solver=liblinear \n"
     ]
    },
    {
     "name": "stderr",
     "output_type": "stream",
     "text": [
      "/anaconda3/lib/python3.7/site-packages/sklearn/linear_model/sag.py:334: ConvergenceWarning: The max_iter was reached which means the coef_ did not converge\n",
      "  \"the coef_ did not converge\", ConvergenceWarning)\n",
      "/anaconda3/lib/python3.7/site-packages/sklearn/linear_model/sag.py:334: ConvergenceWarning: The max_iter was reached which means the coef_ did not converge\n",
      "  \"the coef_ did not converge\", ConvergenceWarning)\n",
      "/anaconda3/lib/python3.7/site-packages/sklearn/linear_model/sag.py:334: ConvergenceWarning: The max_iter was reached which means the coef_ did not converge\n",
      "  \"the coef_ did not converge\", ConvergenceWarning)\n",
      "/anaconda3/lib/python3.7/site-packages/sklearn/svm/base.py:931: ConvergenceWarning: Liblinear failed to converge, increase the number of iterations.\n",
      "  \"the number of iterations.\", ConvergenceWarning)\n"
     ]
    },
    {
     "name": "stdout",
     "output_type": "stream",
     "text": [
      "[CV]  C=1477.8918800354004, fit_intercept=True, intercept_scaling=10, solver=liblinear, score=0.5774410774410774, total=   0.2s\n",
      "[CV] C=1477.8918800354004, fit_intercept=True, intercept_scaling=10, solver=liblinear \n",
      "[CV]  C=1477.8918800354004, fit_intercept=True, intercept_scaling=10, solver=liblinear, score=0.5808080808080808, total=   0.1s\n",
      "[CV] C=1477.8918800354004, fit_intercept=True, intercept_scaling=10, solver=liblinear \n",
      "[CV]  C=1477.8918800354004, fit_intercept=True, intercept_scaling=10, solver=liblinear, score=0.5929054054054054, total=   0.2s\n",
      "[CV] C=1477.8918800354004, fit_intercept=True, intercept_scaling=10, solver=saga \n",
      "[CV]  C=1477.8918800354004, fit_intercept=True, intercept_scaling=10, solver=saga, score=0.49663299663299665, total=   0.1s\n",
      "[CV] C=1477.8918800354004, fit_intercept=True, intercept_scaling=10, solver=saga \n",
      "[CV]  C=1477.8918800354004, fit_intercept=True, intercept_scaling=10, solver=saga, score=0.5151515151515151, total=   0.1s\n",
      "[CV] C=1477.8918800354004, fit_intercept=True, intercept_scaling=10, solver=saga \n",
      "[CV]  C=1477.8918800354004, fit_intercept=True, intercept_scaling=10, solver=saga, score=0.5101351351351351, total=   0.1s\n",
      "[CV] C=1477.8918800354004, fit_intercept=True, intercept_scaling=25, solver=liblinear \n"
     ]
    },
    {
     "name": "stderr",
     "output_type": "stream",
     "text": [
      "/anaconda3/lib/python3.7/site-packages/sklearn/linear_model/sag.py:334: ConvergenceWarning: The max_iter was reached which means the coef_ did not converge\n",
      "  \"the coef_ did not converge\", ConvergenceWarning)\n",
      "/anaconda3/lib/python3.7/site-packages/sklearn/linear_model/sag.py:334: ConvergenceWarning: The max_iter was reached which means the coef_ did not converge\n",
      "  \"the coef_ did not converge\", ConvergenceWarning)\n",
      "/anaconda3/lib/python3.7/site-packages/sklearn/linear_model/sag.py:334: ConvergenceWarning: The max_iter was reached which means the coef_ did not converge\n",
      "  \"the coef_ did not converge\", ConvergenceWarning)\n",
      "/anaconda3/lib/python3.7/site-packages/sklearn/svm/base.py:931: ConvergenceWarning: Liblinear failed to converge, increase the number of iterations.\n",
      "  \"the number of iterations.\", ConvergenceWarning)\n"
     ]
    },
    {
     "name": "stdout",
     "output_type": "stream",
     "text": [
      "[CV]  C=1477.8918800354004, fit_intercept=True, intercept_scaling=25, solver=liblinear, score=0.5892255892255892, total=   0.1s\n",
      "[CV] C=1477.8918800354004, fit_intercept=True, intercept_scaling=25, solver=liblinear \n",
      "[CV]  C=1477.8918800354004, fit_intercept=True, intercept_scaling=25, solver=liblinear, score=0.5808080808080808, total=   0.1s\n",
      "[CV] C=1477.8918800354004, fit_intercept=True, intercept_scaling=25, solver=liblinear \n",
      "[CV]  C=1477.8918800354004, fit_intercept=True, intercept_scaling=25, solver=liblinear, score=0.5962837837837838, total=   0.2s\n",
      "[CV] C=1477.8918800354004, fit_intercept=True, intercept_scaling=25, solver=saga \n",
      "[CV]  C=1477.8918800354004, fit_intercept=True, intercept_scaling=25, solver=saga, score=0.5, total=   0.1s\n",
      "[CV] C=1477.8918800354004, fit_intercept=True, intercept_scaling=25, solver=saga \n",
      "[CV]  C=1477.8918800354004, fit_intercept=True, intercept_scaling=25, solver=saga, score=0.5117845117845118, total=   0.1s\n",
      "[CV] C=1477.8918800354004, fit_intercept=True, intercept_scaling=25, solver=saga \n",
      "[CV]  C=1477.8918800354004, fit_intercept=True, intercept_scaling=25, solver=saga, score=0.5118243243243243, total=   0.1s\n",
      "[CV] C=1477.8918800354004, fit_intercept=True, intercept_scaling=50, solver=liblinear \n"
     ]
    },
    {
     "name": "stderr",
     "output_type": "stream",
     "text": [
      "/anaconda3/lib/python3.7/site-packages/sklearn/linear_model/sag.py:334: ConvergenceWarning: The max_iter was reached which means the coef_ did not converge\n",
      "  \"the coef_ did not converge\", ConvergenceWarning)\n",
      "/anaconda3/lib/python3.7/site-packages/sklearn/linear_model/sag.py:334: ConvergenceWarning: The max_iter was reached which means the coef_ did not converge\n",
      "  \"the coef_ did not converge\", ConvergenceWarning)\n",
      "/anaconda3/lib/python3.7/site-packages/sklearn/linear_model/sag.py:334: ConvergenceWarning: The max_iter was reached which means the coef_ did not converge\n",
      "  \"the coef_ did not converge\", ConvergenceWarning)\n",
      "/anaconda3/lib/python3.7/site-packages/sklearn/svm/base.py:931: ConvergenceWarning: Liblinear failed to converge, increase the number of iterations.\n",
      "  \"the number of iterations.\", ConvergenceWarning)\n"
     ]
    },
    {
     "name": "stdout",
     "output_type": "stream",
     "text": [
      "[CV]  C=1477.8918800354004, fit_intercept=True, intercept_scaling=50, solver=liblinear, score=0.5824915824915825, total=   0.1s\n",
      "[CV] C=1477.8918800354004, fit_intercept=True, intercept_scaling=50, solver=liblinear \n",
      "[CV]  C=1477.8918800354004, fit_intercept=True, intercept_scaling=50, solver=liblinear, score=0.5791245791245792, total=   0.1s\n",
      "[CV] C=1477.8918800354004, fit_intercept=True, intercept_scaling=50, solver=liblinear \n"
     ]
    },
    {
     "name": "stderr",
     "output_type": "stream",
     "text": [
      "/anaconda3/lib/python3.7/site-packages/sklearn/svm/base.py:931: ConvergenceWarning: Liblinear failed to converge, increase the number of iterations.\n",
      "  \"the number of iterations.\", ConvergenceWarning)\n",
      "/anaconda3/lib/python3.7/site-packages/sklearn/linear_model/sag.py:334: ConvergenceWarning: The max_iter was reached which means the coef_ did not converge\n",
      "  \"the coef_ did not converge\", ConvergenceWarning)\n"
     ]
    },
    {
     "name": "stdout",
     "output_type": "stream",
     "text": [
      "[CV]  C=1477.8918800354004, fit_intercept=True, intercept_scaling=50, solver=liblinear, score=0.5827702702702703, total=   0.2s\n",
      "[CV] C=1477.8918800354004, fit_intercept=True, intercept_scaling=50, solver=saga \n",
      "[CV]  C=1477.8918800354004, fit_intercept=True, intercept_scaling=50, solver=saga, score=0.5, total=   0.1s\n",
      "[CV] C=1477.8918800354004, fit_intercept=True, intercept_scaling=50, solver=saga \n"
     ]
    },
    {
     "name": "stderr",
     "output_type": "stream",
     "text": [
      "/anaconda3/lib/python3.7/site-packages/sklearn/linear_model/sag.py:334: ConvergenceWarning: The max_iter was reached which means the coef_ did not converge\n",
      "  \"the coef_ did not converge\", ConvergenceWarning)\n",
      "/anaconda3/lib/python3.7/site-packages/sklearn/linear_model/sag.py:334: ConvergenceWarning: The max_iter was reached which means the coef_ did not converge\n",
      "  \"the coef_ did not converge\", ConvergenceWarning)\n"
     ]
    },
    {
     "name": "stdout",
     "output_type": "stream",
     "text": [
      "[CV]  C=1477.8918800354004, fit_intercept=True, intercept_scaling=50, solver=saga, score=0.5168350168350169, total=   0.1s\n",
      "[CV] C=1477.8918800354004, fit_intercept=True, intercept_scaling=50, solver=saga \n",
      "[CV]  C=1477.8918800354004, fit_intercept=True, intercept_scaling=50, solver=saga, score=0.5118243243243243, total=   0.1s\n",
      "[CV] C=1477.8918800354004, fit_intercept=True, intercept_scaling=100, solver=liblinear \n",
      "[CV]  C=1477.8918800354004, fit_intercept=True, intercept_scaling=100, solver=liblinear, score=0.5774410774410774, total=   0.3s\n",
      "[CV] C=1477.8918800354004, fit_intercept=True, intercept_scaling=100, solver=liblinear \n",
      "[CV]  C=1477.8918800354004, fit_intercept=True, intercept_scaling=100, solver=liblinear, score=0.5808080808080808, total=   0.1s\n",
      "[CV] C=1477.8918800354004, fit_intercept=True, intercept_scaling=100, solver=liblinear \n",
      "[CV]  C=1477.8918800354004, fit_intercept=True, intercept_scaling=100, solver=liblinear, score=0.5929054054054054, total=   0.2s\n",
      "[CV] C=1477.8918800354004, fit_intercept=True, intercept_scaling=100, solver=saga \n",
      "[CV]  C=1477.8918800354004, fit_intercept=True, intercept_scaling=100, solver=saga, score=0.5, total=   0.1s\n",
      "[CV] C=1477.8918800354004, fit_intercept=True, intercept_scaling=100, solver=saga \n",
      "[CV]  C=1477.8918800354004, fit_intercept=True, intercept_scaling=100, solver=saga, score=0.5151515151515151, total=   0.1s\n",
      "[CV] C=1477.8918800354004, fit_intercept=True, intercept_scaling=100, solver=saga \n"
     ]
    },
    {
     "name": "stderr",
     "output_type": "stream",
     "text": [
      "/anaconda3/lib/python3.7/site-packages/sklearn/linear_model/sag.py:334: ConvergenceWarning: The max_iter was reached which means the coef_ did not converge\n",
      "  \"the coef_ did not converge\", ConvergenceWarning)\n",
      "/anaconda3/lib/python3.7/site-packages/sklearn/linear_model/sag.py:334: ConvergenceWarning: The max_iter was reached which means the coef_ did not converge\n",
      "  \"the coef_ did not converge\", ConvergenceWarning)\n",
      "/anaconda3/lib/python3.7/site-packages/sklearn/linear_model/sag.py:334: ConvergenceWarning: The max_iter was reached which means the coef_ did not converge\n",
      "  \"the coef_ did not converge\", ConvergenceWarning)\n"
     ]
    },
    {
     "name": "stdout",
     "output_type": "stream",
     "text": [
      "[CV]  C=1477.8918800354004, fit_intercept=True, intercept_scaling=100, solver=saga, score=0.5135135135135135, total=   0.1s\n",
      "[CV] C=1477.8918800354004, fit_intercept=False, intercept_scaling=1, solver=liblinear \n"
     ]
    },
    {
     "name": "stderr",
     "output_type": "stream",
     "text": [
      "/anaconda3/lib/python3.7/site-packages/sklearn/svm/base.py:931: ConvergenceWarning: Liblinear failed to converge, increase the number of iterations.\n",
      "  \"the number of iterations.\", ConvergenceWarning)\n"
     ]
    },
    {
     "name": "stdout",
     "output_type": "stream",
     "text": [
      "[CV]  C=1477.8918800354004, fit_intercept=False, intercept_scaling=1, solver=liblinear, score=0.5774410774410774, total=   0.2s\n",
      "[CV] C=1477.8918800354004, fit_intercept=False, intercept_scaling=1, solver=liblinear \n",
      "[CV]  C=1477.8918800354004, fit_intercept=False, intercept_scaling=1, solver=liblinear, score=0.5774410774410774, total=   0.1s\n",
      "[CV] C=1477.8918800354004, fit_intercept=False, intercept_scaling=1, solver=liblinear \n",
      "[CV]  C=1477.8918800354004, fit_intercept=False, intercept_scaling=1, solver=liblinear, score=0.5844594594594594, total=   0.2s\n",
      "[CV] C=1477.8918800354004, fit_intercept=False, intercept_scaling=1, solver=saga \n",
      "[CV]  C=1477.8918800354004, fit_intercept=False, intercept_scaling=1, solver=saga, score=0.5, total=   0.1s\n",
      "[CV] C=1477.8918800354004, fit_intercept=False, intercept_scaling=1, solver=saga \n",
      "[CV]  C=1477.8918800354004, fit_intercept=False, intercept_scaling=1, solver=saga, score=0.5151515151515151, total=   0.1s\n",
      "[CV] C=1477.8918800354004, fit_intercept=False, intercept_scaling=1, solver=saga \n"
     ]
    },
    {
     "name": "stderr",
     "output_type": "stream",
     "text": [
      "/anaconda3/lib/python3.7/site-packages/sklearn/linear_model/sag.py:334: ConvergenceWarning: The max_iter was reached which means the coef_ did not converge\n",
      "  \"the coef_ did not converge\", ConvergenceWarning)\n",
      "/anaconda3/lib/python3.7/site-packages/sklearn/linear_model/sag.py:334: ConvergenceWarning: The max_iter was reached which means the coef_ did not converge\n",
      "  \"the coef_ did not converge\", ConvergenceWarning)\n",
      "/anaconda3/lib/python3.7/site-packages/sklearn/linear_model/sag.py:334: ConvergenceWarning: The max_iter was reached which means the coef_ did not converge\n",
      "  \"the coef_ did not converge\", ConvergenceWarning)\n"
     ]
    },
    {
     "name": "stdout",
     "output_type": "stream",
     "text": [
      "[CV]  C=1477.8918800354004, fit_intercept=False, intercept_scaling=1, solver=saga, score=0.5118243243243243, total=   0.1s\n",
      "[CV] C=1477.8918800354004, fit_intercept=False, intercept_scaling=5, solver=liblinear \n"
     ]
    },
    {
     "name": "stderr",
     "output_type": "stream",
     "text": [
      "/anaconda3/lib/python3.7/site-packages/sklearn/svm/base.py:931: ConvergenceWarning: Liblinear failed to converge, increase the number of iterations.\n",
      "  \"the number of iterations.\", ConvergenceWarning)\n"
     ]
    },
    {
     "name": "stdout",
     "output_type": "stream",
     "text": [
      "[CV]  C=1477.8918800354004, fit_intercept=False, intercept_scaling=5, solver=liblinear, score=0.5774410774410774, total=   0.2s\n",
      "[CV] C=1477.8918800354004, fit_intercept=False, intercept_scaling=5, solver=liblinear \n",
      "[CV]  C=1477.8918800354004, fit_intercept=False, intercept_scaling=5, solver=liblinear, score=0.5774410774410774, total=   0.1s\n",
      "[CV] C=1477.8918800354004, fit_intercept=False, intercept_scaling=5, solver=liblinear \n",
      "[CV]  C=1477.8918800354004, fit_intercept=False, intercept_scaling=5, solver=liblinear, score=0.5844594594594594, total=   0.2s\n",
      "[CV] C=1477.8918800354004, fit_intercept=False, intercept_scaling=5, solver=saga \n",
      "[CV]  C=1477.8918800354004, fit_intercept=False, intercept_scaling=5, solver=saga, score=0.4983164983164983, total=   0.1s\n",
      "[CV] C=1477.8918800354004, fit_intercept=False, intercept_scaling=5, solver=saga \n",
      "[CV]  C=1477.8918800354004, fit_intercept=False, intercept_scaling=5, solver=saga, score=0.5117845117845118, total=   0.1s\n",
      "[CV] C=1477.8918800354004, fit_intercept=False, intercept_scaling=5, solver=saga \n"
     ]
    },
    {
     "name": "stderr",
     "output_type": "stream",
     "text": [
      "/anaconda3/lib/python3.7/site-packages/sklearn/linear_model/sag.py:334: ConvergenceWarning: The max_iter was reached which means the coef_ did not converge\n",
      "  \"the coef_ did not converge\", ConvergenceWarning)\n",
      "/anaconda3/lib/python3.7/site-packages/sklearn/linear_model/sag.py:334: ConvergenceWarning: The max_iter was reached which means the coef_ did not converge\n",
      "  \"the coef_ did not converge\", ConvergenceWarning)\n",
      "/anaconda3/lib/python3.7/site-packages/sklearn/linear_model/sag.py:334: ConvergenceWarning: The max_iter was reached which means the coef_ did not converge\n",
      "  \"the coef_ did not converge\", ConvergenceWarning)\n"
     ]
    },
    {
     "name": "stdout",
     "output_type": "stream",
     "text": [
      "[CV]  C=1477.8918800354004, fit_intercept=False, intercept_scaling=5, solver=saga, score=0.5118243243243243, total=   0.1s\n",
      "[CV] C=1477.8918800354004, fit_intercept=False, intercept_scaling=10, solver=liblinear \n",
      "[CV]  C=1477.8918800354004, fit_intercept=False, intercept_scaling=10, solver=liblinear, score=0.5774410774410774, total=   0.2s\n",
      "[CV] C=1477.8918800354004, fit_intercept=False, intercept_scaling=10, solver=liblinear \n"
     ]
    },
    {
     "name": "stderr",
     "output_type": "stream",
     "text": [
      "/anaconda3/lib/python3.7/site-packages/sklearn/svm/base.py:931: ConvergenceWarning: Liblinear failed to converge, increase the number of iterations.\n",
      "  \"the number of iterations.\", ConvergenceWarning)\n"
     ]
    },
    {
     "name": "stdout",
     "output_type": "stream",
     "text": [
      "[CV]  C=1477.8918800354004, fit_intercept=False, intercept_scaling=10, solver=liblinear, score=0.5774410774410774, total=   0.1s\n",
      "[CV] C=1477.8918800354004, fit_intercept=False, intercept_scaling=10, solver=liblinear \n",
      "[CV]  C=1477.8918800354004, fit_intercept=False, intercept_scaling=10, solver=liblinear, score=0.5844594594594594, total=   0.3s\n",
      "[CV] C=1477.8918800354004, fit_intercept=False, intercept_scaling=10, solver=saga \n",
      "[CV]  C=1477.8918800354004, fit_intercept=False, intercept_scaling=10, solver=saga, score=0.5033670033670034, total=   0.1s\n",
      "[CV] C=1477.8918800354004, fit_intercept=False, intercept_scaling=10, solver=saga \n",
      "[CV]  C=1477.8918800354004, fit_intercept=False, intercept_scaling=10, solver=saga, score=0.5117845117845118, total=   0.1s\n",
      "[CV] C=1477.8918800354004, fit_intercept=False, intercept_scaling=10, solver=saga \n"
     ]
    },
    {
     "name": "stderr",
     "output_type": "stream",
     "text": [
      "/anaconda3/lib/python3.7/site-packages/sklearn/linear_model/sag.py:334: ConvergenceWarning: The max_iter was reached which means the coef_ did not converge\n",
      "  \"the coef_ did not converge\", ConvergenceWarning)\n",
      "/anaconda3/lib/python3.7/site-packages/sklearn/linear_model/sag.py:334: ConvergenceWarning: The max_iter was reached which means the coef_ did not converge\n",
      "  \"the coef_ did not converge\", ConvergenceWarning)\n",
      "/anaconda3/lib/python3.7/site-packages/sklearn/linear_model/sag.py:334: ConvergenceWarning: The max_iter was reached which means the coef_ did not converge\n",
      "  \"the coef_ did not converge\", ConvergenceWarning)\n"
     ]
    },
    {
     "name": "stdout",
     "output_type": "stream",
     "text": [
      "[CV]  C=1477.8918800354004, fit_intercept=False, intercept_scaling=10, solver=saga, score=0.5135135135135135, total=   0.1s\n",
      "[CV] C=1477.8918800354004, fit_intercept=False, intercept_scaling=25, solver=liblinear \n"
     ]
    },
    {
     "name": "stderr",
     "output_type": "stream",
     "text": [
      "/anaconda3/lib/python3.7/site-packages/sklearn/svm/base.py:931: ConvergenceWarning: Liblinear failed to converge, increase the number of iterations.\n",
      "  \"the number of iterations.\", ConvergenceWarning)\n"
     ]
    },
    {
     "name": "stdout",
     "output_type": "stream",
     "text": [
      "[CV]  C=1477.8918800354004, fit_intercept=False, intercept_scaling=25, solver=liblinear, score=0.5774410774410774, total=   0.2s\n",
      "[CV] C=1477.8918800354004, fit_intercept=False, intercept_scaling=25, solver=liblinear \n",
      "[CV]  C=1477.8918800354004, fit_intercept=False, intercept_scaling=25, solver=liblinear, score=0.5774410774410774, total=   0.1s\n",
      "[CV] C=1477.8918800354004, fit_intercept=False, intercept_scaling=25, solver=liblinear \n",
      "[CV]  C=1477.8918800354004, fit_intercept=False, intercept_scaling=25, solver=liblinear, score=0.5844594594594594, total=   0.2s\n",
      "[CV] C=1477.8918800354004, fit_intercept=False, intercept_scaling=25, solver=saga \n",
      "[CV]  C=1477.8918800354004, fit_intercept=False, intercept_scaling=25, solver=saga, score=0.5, total=   0.1s\n",
      "[CV] C=1477.8918800354004, fit_intercept=False, intercept_scaling=25, solver=saga \n",
      "[CV]  C=1477.8918800354004, fit_intercept=False, intercept_scaling=25, solver=saga, score=0.5168350168350169, total=   0.1s\n",
      "[CV] C=1477.8918800354004, fit_intercept=False, intercept_scaling=25, solver=saga \n"
     ]
    },
    {
     "name": "stderr",
     "output_type": "stream",
     "text": [
      "/anaconda3/lib/python3.7/site-packages/sklearn/linear_model/sag.py:334: ConvergenceWarning: The max_iter was reached which means the coef_ did not converge\n",
      "  \"the coef_ did not converge\", ConvergenceWarning)\n",
      "/anaconda3/lib/python3.7/site-packages/sklearn/linear_model/sag.py:334: ConvergenceWarning: The max_iter was reached which means the coef_ did not converge\n",
      "  \"the coef_ did not converge\", ConvergenceWarning)\n",
      "/anaconda3/lib/python3.7/site-packages/sklearn/linear_model/sag.py:334: ConvergenceWarning: The max_iter was reached which means the coef_ did not converge\n",
      "  \"the coef_ did not converge\", ConvergenceWarning)\n"
     ]
    },
    {
     "name": "stdout",
     "output_type": "stream",
     "text": [
      "[CV]  C=1477.8918800354004, fit_intercept=False, intercept_scaling=25, solver=saga, score=0.5135135135135135, total=   0.1s\n",
      "[CV] C=1477.8918800354004, fit_intercept=False, intercept_scaling=50, solver=liblinear \n"
     ]
    },
    {
     "name": "stderr",
     "output_type": "stream",
     "text": [
      "/anaconda3/lib/python3.7/site-packages/sklearn/svm/base.py:931: ConvergenceWarning: Liblinear failed to converge, increase the number of iterations.\n",
      "  \"the number of iterations.\", ConvergenceWarning)\n"
     ]
    },
    {
     "name": "stdout",
     "output_type": "stream",
     "text": [
      "[CV]  C=1477.8918800354004, fit_intercept=False, intercept_scaling=50, solver=liblinear, score=0.5774410774410774, total=   0.2s\n",
      "[CV] C=1477.8918800354004, fit_intercept=False, intercept_scaling=50, solver=liblinear \n",
      "[CV]  C=1477.8918800354004, fit_intercept=False, intercept_scaling=50, solver=liblinear, score=0.5774410774410774, total=   0.1s\n",
      "[CV] C=1477.8918800354004, fit_intercept=False, intercept_scaling=50, solver=liblinear \n",
      "[CV]  C=1477.8918800354004, fit_intercept=False, intercept_scaling=50, solver=liblinear, score=0.5844594594594594, total=   0.2s\n",
      "[CV] C=1477.8918800354004, fit_intercept=False, intercept_scaling=50, solver=saga \n",
      "[CV]  C=1477.8918800354004, fit_intercept=False, intercept_scaling=50, solver=saga, score=0.5, total=   0.1s\n",
      "[CV] C=1477.8918800354004, fit_intercept=False, intercept_scaling=50, solver=saga \n",
      "[CV]  C=1477.8918800354004, fit_intercept=False, intercept_scaling=50, solver=saga, score=0.5117845117845118, total=   0.1s\n",
      "[CV] C=1477.8918800354004, fit_intercept=False, intercept_scaling=50, solver=saga \n"
     ]
    },
    {
     "name": "stderr",
     "output_type": "stream",
     "text": [
      "/anaconda3/lib/python3.7/site-packages/sklearn/linear_model/sag.py:334: ConvergenceWarning: The max_iter was reached which means the coef_ did not converge\n",
      "  \"the coef_ did not converge\", ConvergenceWarning)\n",
      "/anaconda3/lib/python3.7/site-packages/sklearn/linear_model/sag.py:334: ConvergenceWarning: The max_iter was reached which means the coef_ did not converge\n",
      "  \"the coef_ did not converge\", ConvergenceWarning)\n",
      "/anaconda3/lib/python3.7/site-packages/sklearn/linear_model/sag.py:334: ConvergenceWarning: The max_iter was reached which means the coef_ did not converge\n",
      "  \"the coef_ did not converge\", ConvergenceWarning)\n"
     ]
    },
    {
     "name": "stdout",
     "output_type": "stream",
     "text": [
      "[CV]  C=1477.8918800354004, fit_intercept=False, intercept_scaling=50, solver=saga, score=0.5135135135135135, total=   0.1s\n",
      "[CV] C=1477.8918800354004, fit_intercept=False, intercept_scaling=100, solver=liblinear \n"
     ]
    },
    {
     "name": "stderr",
     "output_type": "stream",
     "text": [
      "/anaconda3/lib/python3.7/site-packages/sklearn/svm/base.py:931: ConvergenceWarning: Liblinear failed to converge, increase the number of iterations.\n",
      "  \"the number of iterations.\", ConvergenceWarning)\n"
     ]
    },
    {
     "name": "stdout",
     "output_type": "stream",
     "text": [
      "[CV]  C=1477.8918800354004, fit_intercept=False, intercept_scaling=100, solver=liblinear, score=0.5774410774410774, total=   0.2s\n",
      "[CV] C=1477.8918800354004, fit_intercept=False, intercept_scaling=100, solver=liblinear \n",
      "[CV]  C=1477.8918800354004, fit_intercept=False, intercept_scaling=100, solver=liblinear, score=0.5774410774410774, total=   0.1s\n",
      "[CV] C=1477.8918800354004, fit_intercept=False, intercept_scaling=100, solver=liblinear \n",
      "[CV]  C=1477.8918800354004, fit_intercept=False, intercept_scaling=100, solver=liblinear, score=0.5844594594594594, total=   0.2s\n",
      "[CV] C=1477.8918800354004, fit_intercept=False, intercept_scaling=100, solver=saga \n",
      "[CV]  C=1477.8918800354004, fit_intercept=False, intercept_scaling=100, solver=saga, score=0.5033670033670034, total=   0.1s\n",
      "[CV] C=1477.8918800354004, fit_intercept=False, intercept_scaling=100, solver=saga \n",
      "[CV]  C=1477.8918800354004, fit_intercept=False, intercept_scaling=100, solver=saga, score=0.5151515151515151, total=   0.1s\n",
      "[CV] C=1477.8918800354004, fit_intercept=False, intercept_scaling=100, solver=saga \n"
     ]
    },
    {
     "name": "stderr",
     "output_type": "stream",
     "text": [
      "/anaconda3/lib/python3.7/site-packages/sklearn/linear_model/sag.py:334: ConvergenceWarning: The max_iter was reached which means the coef_ did not converge\n",
      "  \"the coef_ did not converge\", ConvergenceWarning)\n",
      "/anaconda3/lib/python3.7/site-packages/sklearn/linear_model/sag.py:334: ConvergenceWarning: The max_iter was reached which means the coef_ did not converge\n",
      "  \"the coef_ did not converge\", ConvergenceWarning)\n",
      "/anaconda3/lib/python3.7/site-packages/sklearn/linear_model/sag.py:334: ConvergenceWarning: The max_iter was reached which means the coef_ did not converge\n",
      "  \"the coef_ did not converge\", ConvergenceWarning)\n",
      "[Parallel(n_jobs=1)]: Done 720 out of 720 | elapsed:  1.6min finished\n"
     ]
    },
    {
     "name": "stdout",
     "output_type": "stream",
     "text": [
      "[CV]  C=1477.8918800354004, fit_intercept=False, intercept_scaling=100, solver=saga, score=0.5118243243243243, total=   0.1s\n"
     ]
    },
    {
     "data": {
      "text/plain": [
       "GridSearchCV(cv=3, error_score='raise-deprecating',\n",
       "       estimator=LogisticRegression(C=1.0, class_weight=None, dual=False, fit_intercept=True,\n",
       "          intercept_scaling=1, max_iter=100, multi_class='warn',\n",
       "          n_jobs=None, penalty='l2', random_state=None, solver='warn',\n",
       "          tol=0.0001, verbose=0, warm_start=False),\n",
       "       fit_params=None, iid='warn', n_jobs=None,\n",
       "       param_grid={'C': [1.0, 2.25, 5.0625, 11.390625, 25.62890625, 57.6650390625, 129.746337890625, 291.92926025390625, 656.8408355712891, 1477.8918800354004], 'fit_intercept': [True, False], 'intercept_scaling': [1, 5, 10, 25, 50, 100], 'solver': ['liblinear', 'saga']},\n",
       "       pre_dispatch='2*n_jobs', refit=True, return_train_score=True,\n",
       "       scoring=None, verbose=3)"
      ]
     },
     "execution_count": 181,
     "metadata": {},
     "output_type": "execute_result"
    }
   ],
   "source": [
    "log_grid_search = GridSearchCV(log_clf, log_param_grid, cv=3, return_train_score=True, verbose=3)\n",
    "log_grid_search.fit(X, y)"
   ]
  },
  {
   "cell_type": "code",
   "execution_count": 182,
   "metadata": {},
   "outputs": [
    {
     "name": "stdout",
     "output_type": "stream",
     "text": [
      "Mean Training Score: 56.7462383027073\n",
      "Mean Testing Score: 61.853932584269664\n",
      "Best Parameter Found:\n"
     ]
    },
    {
     "data": {
      "text/plain": [
       "{'C': 656.8408355712891,\n",
       " 'fit_intercept': True,\n",
       " 'intercept_scaling': 25,\n",
       " 'solver': 'liblinear'}"
      ]
     },
     "execution_count": 182,
     "metadata": {},
     "output_type": "execute_result"
    }
   ],
   "source": [
    "log_gs_training_score = np.mean(log_grid_search.cv_results_['mean_train_score'])\n",
    "log_gs_testing_score = log_grid_search.score(X, y)\n",
    "\n",
    "print(\"Mean Training Score:\", log_gs_training_score*100)\n",
    "print(\"Mean Testing Score:\", log_gs_testing_score*100)\n",
    "print(\"Best Parameter Found:\")\n",
    "log_grid_search.best_params_"
   ]
  },
  {
   "cell_type": "code",
   "execution_count": 183,
   "metadata": {},
   "outputs": [
    {
     "data": {
      "text/plain": [
       "LogisticRegression(C=656.8408355712891, class_weight=None, dual=False,\n",
       "          fit_intercept=True, intercept_scaling=25, max_iter=100,\n",
       "          multi_class='warn', n_jobs=None, penalty='l2', random_state=None,\n",
       "          solver='liblinear', tol=0.0001, verbose=0, warm_start=False)"
      ]
     },
     "execution_count": 183,
     "metadata": {},
     "output_type": "execute_result"
    }
   ],
   "source": [
    "# Training the models with the parameters found from GridSearch\n",
    "logreg = log_grid_search.best_estimator_\n",
    "logreg.fit(X_train, y_train)"
   ]
  },
  {
   "cell_type": "markdown",
   "metadata": {},
   "source": [
    "### Results from the GridSearch Parameters for Logistic Regression"
   ]
  },
  {
   "cell_type": "code",
   "execution_count": 184,
   "metadata": {},
   "outputs": [
    {
     "name": "stdout",
     "output_type": "stream",
     "text": [
      "Precision Score: 0.5652173913043478\n",
      "Recall Score: 0.6428571428571429\n",
      "Accuracy Score: 0.5646067415730337\n",
      "F1 Score: 0.6015424164524422\n"
     ]
    }
   ],
   "source": [
    "# Predictions from LR\n",
    "y_pred = logreg.predict(X_test)\n",
    "\n",
    "print_metrics(y_test, y_pred)"
   ]
  },
  {
   "cell_type": "code",
   "execution_count": 185,
   "metadata": {},
   "outputs": [
    {
     "name": "stdout",
     "output_type": "stream",
     "text": [
      "AUC: 0.5628\n"
     ]
    }
   ],
   "source": [
    "# Area under the curve\n",
    "log_fpr, log_tpr, thresholds = roc_curve(y_test, y_pred)\n",
    "roc_auc = auc(log_fpr, log_tpr)\n",
    "print(\"AUC:\", round(roc_auc, 4))"
   ]
  },
  {
   "cell_type": "code",
   "execution_count": 186,
   "metadata": {},
   "outputs": [
    {
     "name": "stdout",
     "output_type": "stream",
     "text": [
      "Test AUC: 0.5927434634331187\n",
      "Train AUC: 0.6501416374711991\n"
     ]
    },
    {
     "data": {
      "image/png": "[encoded data removed]",
      "text/plain": [
       "<Figure size 1152x576 with 1 Axes>"
      ]
     },
     "metadata": {},
     "output_type": "display_data"
    }
   ],
   "source": [
    "y_test_score  = logreg.decision_function(X_test)\n",
    "y_train_score = logreg.decision_function(X_train)\n",
    "\n",
    "# True and False Positive Rates for the Test and Train sets\n",
    "test_fpr, test_tpr, test_thresholds = roc_curve(y_test, y_test_score)\n",
    "train_fpr, train_tpr, train_thresholds = roc_curve(y_train, y_train_score)\n",
    "\n",
    "print(\"Test AUC:\", auc(test_fpr, test_tpr))\n",
    "print(\"Train AUC:\", auc(train_fpr, train_tpr))\n",
    "\n",
    "# Plotting\n",
    "plt.figure(figsize=(16,8))\n",
    "lw = 2\n",
    "plt.plot(test_fpr, test_tpr, color='darkorange',\n",
    "         lw=lw, label='Test ROC curve')\n",
    "plt.plot(train_fpr, train_tpr, color='blue',\n",
    "         lw=lw, label='train ROC curve')\n",
    "plt.plot([0, 1], [0, 1], color='navy', lw=lw, linestyle='--')\n",
    "plt.xlim([0.0, 1.0])\n",
    "plt.ylim([0.0, 1.05])\n",
    "plt.yticks([i/20.0 for i in range(21)])\n",
    "plt.xticks([i/20.0 for i in range(21)])\n",
    "plt.xlabel('False Positive Rate')\n",
    "plt.ylabel('True Positive Rate')\n",
    "plt.title('Receiver operating characteristic (ROC) Curve')\n",
    "plt.legend(loc=\"lower right\")\n",
    "plt.show()"
   ]
  },
  {
   "cell_type": "markdown",
   "metadata": {},
   "source": [
    "### Logistic Regression (w/GridSearch) - Accuracy: 55.46% and F1 Score: 60.15%."
   ]
  },
  {
   "cell_type": "code",
   "execution_count": null,
   "metadata": {},
   "outputs": [],
   "source": []
  }
 ],
 "metadata": {
  "kernelspec": {
   "display_name": "Python 3",
   "language": "python",
   "name": "python3"
  },
  "language_info": {
   "codemirror_mode": {
    "name": "ipython",
    "version": 3
   },
   "file_extension": ".py",
   "mimetype": "text/x-python",
   "name": "python",
   "nbconvert_exporter": "python",
   "pygments_lexer": "ipython3",
   "version": "3.7.3"
  }
 },
 "nbformat": 4,
 "nbformat_minor": 2
}
