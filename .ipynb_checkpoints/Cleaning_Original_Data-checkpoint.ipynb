{
 "cells": [
  {
   "cell_type": "markdown",
   "metadata": {},
   "source": [
    "# Improving on cleaning the original Datasets"
   ]
  },
  {
   "cell_type": "code",
   "execution_count": 316,
   "metadata": {},
   "outputs": [],
   "source": [
    "import pandas as pd\n",
    "pd.set_option('display.max_rows', 200)\n",
    "pd.set_option('display.max_columns', 70)\n",
    "import numpy as np\n",
    "from tqdm import tqdm_notebook as tqdm\n",
    "import _pickle as pickle"
   ]
  },
  {
   "cell_type": "code",
   "execution_count": 317,
   "metadata": {},
   "outputs": [],
   "source": [
    "with open(\"stocks_df.pickle\",'rb') as fp:\n",
    "    stocks_df = pickle.load(fp)"
   ]
  },
  {
   "cell_type": "markdown",
   "metadata": {},
   "source": [
    "### Setting the Index to the Date"
   ]
  },
  {
   "cell_type": "code",
   "execution_count": 318,
   "metadata": {},
   "outputs": [
    {
     "data": {
      "application/vnd.jupyter.widget-view+json": {
       "model_id": "88adcb715619402a880445caea09b236",
       "version_major": 2,
       "version_minor": 0
      },
      "text/plain": [
       "HBox(children=(IntProgress(value=0, max=756), HTML(value='')))"
      ]
     },
     "metadata": {},
     "output_type": "display_data"
    },
    {
     "name": "stdout",
     "output_type": "stream",
     "text": [
      "\n"
     ]
    }
   ],
   "source": [
    "def setting_index(df):\n",
    "    df['Quarter end'] = pd.to_datetime(df['Quarter end'])\n",
    "    df.set_index(\"Quarter end\", inplace=True)\n",
    "    return df\n",
    "\n",
    "for i in tqdm(stocks_df.keys()):\n",
    "    stocks_df[i] = setting_index(stocks_df[i])"
   ]
  },
  {
   "cell_type": "markdown",
   "metadata": {},
   "source": [
    "### Replacing all \"None\" and 0 values with NaN"
   ]
  },
  {
   "cell_type": "code",
   "execution_count": 319,
   "metadata": {},
   "outputs": [
    {
     "data": {
      "application/vnd.jupyter.widget-view+json": {
       "model_id": "7b99984566e34091aa4094a7ee33c14c",
       "version_major": 2,
       "version_minor": 0
      },
      "text/plain": [
       "HBox(children=(IntProgress(value=0, max=756), HTML(value='')))"
      ]
     },
     "metadata": {},
     "output_type": "display_data"
    },
    {
     "name": "stdout",
     "output_type": "stream",
     "text": [
      "\n"
     ]
    }
   ],
   "source": [
    "for i in tqdm(stocks_df.keys()):\n",
    "    stocks_df[i].replace([\"None\", 0], np.nan, inplace=True)"
   ]
  },
  {
   "cell_type": "markdown",
   "metadata": {},
   "source": [
    "### Converting all values to numeric values"
   ]
  },
  {
   "cell_type": "code",
   "execution_count": 320,
   "metadata": {},
   "outputs": [
    {
     "data": {
      "application/vnd.jupyter.widget-view+json": {
       "model_id": "a57f9315a8534cd5af5cd45b67d40e79",
       "version_major": 2,
       "version_minor": 0
      },
      "text/plain": [
       "HBox(children=(IntProgress(value=0, max=756), HTML(value='')))"
      ]
     },
     "metadata": {},
     "output_type": "display_data"
    },
    {
     "name": "stdout",
     "output_type": "stream",
     "text": [
      "\n"
     ]
    }
   ],
   "source": [
    "for i in tqdm(stocks_df.keys()):\n",
    "    cols = stocks_df[i].columns\n",
    "    for c in cols:\n",
    "        stocks_df[i][c] = pd.to_numeric(stocks_df[i][c])"
   ]
  },
  {
   "cell_type": "markdown",
   "metadata": {},
   "source": [
    "### Filling NaN in each DF\n",
    "Backfill first to fill in the past values so the last recorded value becomes the most recent, the remaining NaN represent the unreported numbers, which will remain NaN."
   ]
  },
  {
   "cell_type": "code",
   "execution_count": 321,
   "metadata": {},
   "outputs": [
    {
     "data": {
      "application/vnd.jupyter.widget-view+json": {
       "model_id": "cc0e17193e4742e892785e8aa0a225c2",
       "version_major": 2,
       "version_minor": 0
      },
      "text/plain": [
       "HBox(children=(IntProgress(value=0, max=756), HTML(value='')))"
      ]
     },
     "metadata": {},
     "output_type": "display_data"
    },
    {
     "name": "stdout",
     "output_type": "stream",
     "text": [
      "\n"
     ]
    }
   ],
   "source": [
    "fill = {}\n",
    "\n",
    "for i in tqdm(stocks_df.keys()):\n",
    "    fill[i] = stocks_df[i].bfill()"
   ]
  },
  {
   "cell_type": "markdown",
   "metadata": {},
   "source": [
    "## Creating new columns derived from the originals"
   ]
  },
  {
   "cell_type": "code",
   "execution_count": 322,
   "metadata": {},
   "outputs": [],
   "source": [
    "def price_increase(df, percent=1.00):\n",
    "    \"\"\"\n",
    "    Returns a boolean determining whether the price will increase in the next quarter\n",
    "    Optional: determining if the price increased by more than a specified percentage\n",
    "    \"\"\"\n",
    "    return (df.Price.shift(1)*percent) > df.Price"
   ]
  },
  {
   "cell_type": "code",
   "execution_count": 323,
   "metadata": {},
   "outputs": [],
   "source": [
    "def percent_improvement(df, cols):\n",
    "    \"\"\"\n",
    "    Creates a new DataFrame, \n",
    "    then shows the percent change from the previous to the current quarter\n",
    "    \"\"\"\n",
    "    pcnt_df = pd.DataFrame(index=df.index)\n",
    "    \n",
    "    pcnt_df['price_will_increase?'] = price_increase(df)\n",
    "    \n",
    "    for col in cols:\n",
    "        if df[col].dtype != bool:\n",
    "            pcnt_df[col+\" %-increase\"] = (df[col] / df[col].shift(-1)) - 1\n",
    "    \n",
    "    return pcnt_df"
   ]
  },
  {
   "cell_type": "code",
   "execution_count": 324,
   "metadata": {},
   "outputs": [
    {
     "data": {
      "application/vnd.jupyter.widget-view+json": {
       "model_id": "47441fee186846d389097a61d51ceaae",
       "version_major": 2,
       "version_minor": 0
      },
      "text/plain": [
       "HBox(children=(IntProgress(value=0, max=756), HTML(value='')))"
      ]
     },
     "metadata": {},
     "output_type": "display_data"
    },
    {
     "name": "stdout",
     "output_type": "stream",
     "text": [
      "\n"
     ]
    }
   ],
   "source": [
    "pcnt_df = {}\n",
    "\n",
    "for i in tqdm(stocks_df.keys()):\n",
    "    pcnt_df[i] = percent_improvement(fill[i], fill[i].columns)"
   ]
  },
  {
   "cell_type": "markdown",
   "metadata": {},
   "source": [
    "### Excluding the first and last rows\n",
    "This is done because the last row has no data to compare percent improvements to and the first row does not have any data to show if the price will increase in the future."
   ]
  },
  {
   "cell_type": "code",
   "execution_count": 325,
   "metadata": {},
   "outputs": [
    {
     "data": {
      "application/vnd.jupyter.widget-view+json": {
       "model_id": "742c376e1e0749b982589e56cae420a6",
       "version_major": 2,
       "version_minor": 0
      },
      "text/plain": [
       "HBox(children=(IntProgress(value=0, max=756), HTML(value='')))"
      ]
     },
     "metadata": {},
     "output_type": "display_data"
    },
    {
     "name": "stdout",
     "output_type": "stream",
     "text": [
      "\n"
     ]
    }
   ],
   "source": [
    "for i in tqdm(pcnt_df.keys()):\n",
    "    pcnt_df[i] = pcnt_df[i][1:-1]"
   ]
  },
  {
   "cell_type": "markdown",
   "metadata": {},
   "source": [
    "### Combining all stock DFs into one"
   ]
  },
  {
   "cell_type": "code",
   "execution_count": 326,
   "metadata": {},
   "outputs": [
    {
     "data": {
      "application/vnd.jupyter.widget-view+json": {
       "model_id": "9b17d8fbfc2d4c0abc4184550800eff6",
       "version_major": 2,
       "version_minor": 0
      },
      "text/plain": [
       "HBox(children=(IntProgress(value=0, max=756), HTML(value='')))"
      ]
     },
     "metadata": {},
     "output_type": "display_data"
    },
    {
     "name": "stdout",
     "output_type": "stream",
     "text": [
      "\n"
     ]
    }
   ],
   "source": [
    "big_df = pd.DataFrame()\n",
    "\n",
    "for i in tqdm(pcnt_df.keys()):\n",
    "    big_df = big_df.append(pcnt_df[i], sort=False)"
   ]
  },
  {
   "cell_type": "code",
   "execution_count": 327,
   "metadata": {
    "scrolled": true
   },
   "outputs": [
    {
     "data": {
      "text/plain": [
       "26"
      ]
     },
     "execution_count": 327,
     "metadata": {},
     "output_type": "execute_result"
    }
   ],
   "source": [
    "big_df.describe().isna().sum().sum()"
   ]
  },
  {
   "cell_type": "markdown",
   "metadata": {},
   "source": [
    "Still some NaN values remain."
   ]
  },
  {
   "cell_type": "markdown",
   "metadata": {},
   "source": [
    "### Dropping all NaN values"
   ]
  },
  {
   "cell_type": "code",
   "execution_count": 328,
   "metadata": {},
   "outputs": [],
   "source": [
    "main_df = big_df[~big_df.isin([np.nan, np.inf, -np.inf]).any(1)]"
   ]
  },
  {
   "cell_type": "markdown",
   "metadata": {},
   "source": [
    "Double checking for NaNs."
   ]
  },
  {
   "cell_type": "code",
   "execution_count": 329,
   "metadata": {},
   "outputs": [
    {
     "data": {
      "text/plain": [
       "0"
      ]
     },
     "execution_count": 329,
     "metadata": {},
     "output_type": "execute_result"
    }
   ],
   "source": [
    "main_df.describe().isna().sum().sum()"
   ]
  },
  {
   "cell_type": "markdown",
   "metadata": {},
   "source": [
    "### Multiplying the values in the DF by 100 and rounding to two decimal places\n",
    "This is done for better readability and to represent the percent change better."
   ]
  },
  {
   "cell_type": "code",
   "execution_count": 330,
   "metadata": {
    "scrolled": true
   },
   "outputs": [
    {
     "data": {
      "application/vnd.jupyter.widget-view+json": {
       "model_id": "6b238b973ac44b84b56da6b5f7ed247f",
       "version_major": 2,
       "version_minor": 0
      },
      "text/plain": [
       "HBox(children=(IntProgress(value=0, max=40), HTML(value='')))"
      ]
     },
     "metadata": {},
     "output_type": "display_data"
    },
    {
     "name": "stdout",
     "output_type": "stream",
     "text": [
      "\n"
     ]
    }
   ],
   "source": [
    "new_df = pd.DataFrame(index=main_df.index)\n",
    "new_df[main_df.columns[0]] = main_df.iloc[:,0]\n",
    "\n",
    "for i in tqdm(main_df.columns[1:]):\n",
    "    new_df[i] = main_df[i].apply(lambda x: x*100).round(2)\n"
   ]
  },
  {
   "cell_type": "markdown",
   "metadata": {},
   "source": [
    "### Excluding columns with less than 500 unique values\n",
    "Except our class 'price_will_increase?' column."
   ]
  },
  {
   "cell_type": "code",
   "execution_count": 331,
   "metadata": {},
   "outputs": [
    {
     "data": {
      "text/plain": [
       "Shares %-increase                                        False\n",
       "Shares split adjusted %-increase                         False\n",
       "Split factor %-increase                                   True\n",
       "Assets %-increase                                        False\n",
       "Current Assets %-increase                                False\n",
       "Liabilities %-increase                                   False\n",
       "Current Liabilities %-increase                           False\n",
       "Shareholders equity %-increase                           False\n",
       "Non-controlling interest %-increase                      False\n",
       "Preferred equity %-increase                               True\n",
       "Goodwill & intangibles %-increase                        False\n",
       "Long-term debt %-increase                                False\n",
       "Revenue %-increase                                       False\n",
       "Earnings %-increase                                      False\n",
       "Earnings available for common stockholders %-increase    False\n",
       "EPS basic %-increase                                     False\n",
       "EPS diluted %-increase                                   False\n",
       "Dividend per share %-increase                            False\n",
       "Cash from operating activities %-increase                False\n",
       "Cash from investing activities %-increase                False\n",
       "Cash from financing activities %-increase                False\n",
       "Cash change during period %-increase                     False\n",
       "Cash at end of period %-increase                         False\n",
       "Capital expenditures %-increase                          False\n",
       "Price %-increase                                         False\n",
       "Price high %-increase                                    False\n",
       "Price low %-increase                                     False\n",
       "ROE %-increase                                           False\n",
       "ROA %-increase                                           False\n",
       "Book value of equity per share %-increase                False\n",
       "P/B ratio %-increase                                     False\n",
       "P/E ratio %-increase                                     False\n",
       "Cumulative dividends per share %-increase                False\n",
       "Dividend payout ratio %-increase                         False\n",
       "Long-term debt to equity ratio %-increase                False\n",
       "Equity to assets ratio %-increase                        False\n",
       "Net margin %-increase                                    False\n",
       "Asset turnover %-increase                                False\n",
       "Free cash flow per share %-increase                      False\n",
       "Current ratio %-increase                                 False\n",
       "dtype: bool"
      ]
     },
     "execution_count": 331,
     "metadata": {},
     "output_type": "execute_result"
    }
   ],
   "source": [
    "new_df.nunique()[1:]<500"
   ]
  },
  {
   "cell_type": "code",
   "execution_count": 332,
   "metadata": {},
   "outputs": [],
   "source": [
    "# Iterating through each column and checking if unique values are less than 500\n",
    "# Then dropping those columns\n",
    "for i in new_df.columns[1:]:\n",
    "    if new_df[i].nunique() < 500:\n",
    "        new_df.drop(i, axis=1, inplace=True)"
   ]
  },
  {
   "cell_type": "markdown",
   "metadata": {},
   "source": [
    "#### Resetting the index"
   ]
  },
  {
   "cell_type": "code",
   "execution_count": 334,
   "metadata": {},
   "outputs": [
    {
     "data": {
      "text/html": [
       "<div>\n",
       "<style scoped>\n",
       "    .dataframe tbody tr th:only-of-type {\n",
       "        vertical-align: middle;\n",
       "    }\n",
       "\n",
       "    .dataframe tbody tr th {\n",
       "        vertical-align: top;\n",
       "    }\n",
       "\n",
       "    .dataframe thead th {\n",
       "        text-align: right;\n",
       "    }\n",
       "</style>\n",
       "<table border=\"1\" class=\"dataframe\">\n",
       "  <thead>\n",
       "    <tr style=\"text-align: right;\">\n",
       "      <th></th>\n",
       "      <th>price_will_increase?</th>\n",
       "      <th>Shares %-increase</th>\n",
       "      <th>Shares split adjusted %-increase</th>\n",
       "      <th>Assets %-increase</th>\n",
       "      <th>Current Assets %-increase</th>\n",
       "      <th>Liabilities %-increase</th>\n",
       "      <th>Current Liabilities %-increase</th>\n",
       "      <th>Shareholders equity %-increase</th>\n",
       "      <th>Non-controlling interest %-increase</th>\n",
       "      <th>Goodwill &amp; intangibles %-increase</th>\n",
       "      <th>Long-term debt %-increase</th>\n",
       "      <th>Revenue %-increase</th>\n",
       "      <th>Earnings %-increase</th>\n",
       "      <th>Earnings available for common stockholders %-increase</th>\n",
       "      <th>EPS basic %-increase</th>\n",
       "      <th>EPS diluted %-increase</th>\n",
       "      <th>Dividend per share %-increase</th>\n",
       "      <th>Cash from operating activities %-increase</th>\n",
       "      <th>Cash from investing activities %-increase</th>\n",
       "      <th>Cash from financing activities %-increase</th>\n",
       "      <th>Cash change during period %-increase</th>\n",
       "      <th>Cash at end of period %-increase</th>\n",
       "      <th>Capital expenditures %-increase</th>\n",
       "      <th>Price %-increase</th>\n",
       "      <th>Price high %-increase</th>\n",
       "      <th>Price low %-increase</th>\n",
       "      <th>ROE %-increase</th>\n",
       "      <th>ROA %-increase</th>\n",
       "      <th>Book value of equity per share %-increase</th>\n",
       "      <th>P/B ratio %-increase</th>\n",
       "      <th>P/E ratio %-increase</th>\n",
       "      <th>Cumulative dividends per share %-increase</th>\n",
       "      <th>Dividend payout ratio %-increase</th>\n",
       "      <th>Long-term debt to equity ratio %-increase</th>\n",
       "      <th>Equity to assets ratio %-increase</th>\n",
       "      <th>Net margin %-increase</th>\n",
       "      <th>Asset turnover %-increase</th>\n",
       "      <th>Free cash flow per share %-increase</th>\n",
       "      <th>Current ratio %-increase</th>\n",
       "    </tr>\n",
       "  </thead>\n",
       "  <tbody>\n",
       "    <tr>\n",
       "      <th>0</th>\n",
       "      <td>True</td>\n",
       "      <td>0.39</td>\n",
       "      <td>0.39</td>\n",
       "      <td>1.08</td>\n",
       "      <td>-7.24</td>\n",
       "      <td>1.13</td>\n",
       "      <td>-10.98</td>\n",
       "      <td>0.97</td>\n",
       "      <td>0.0</td>\n",
       "      <td>0.0</td>\n",
       "      <td>4.61</td>\n",
       "      <td>9.65</td>\n",
       "      <td>179.71</td>\n",
       "      <td>180.88</td>\n",
       "      <td>178.57</td>\n",
       "      <td>168.97</td>\n",
       "      <td>1.06</td>\n",
       "      <td>-20.04</td>\n",
       "      <td>-8.10</td>\n",
       "      <td>29.05</td>\n",
       "      <td>-26.67</td>\n",
       "      <td>10.28</td>\n",
       "      <td>-8.72</td>\n",
       "      <td>3.43</td>\n",
       "      <td>5.58</td>\n",
       "      <td>0.99</td>\n",
       "      <td>3.21</td>\n",
       "      <td>3.58</td>\n",
       "      <td>4.55</td>\n",
       "      <td>7.83</td>\n",
       "      <td>-13.01</td>\n",
       "      <td>1.06</td>\n",
       "      <td>-3.59</td>\n",
       "      <td>-0.35</td>\n",
       "      <td>3.85</td>\n",
       "      <td>5.32</td>\n",
       "      <td>-4.17</td>\n",
       "      <td>30.91</td>\n",
       "      <td>4.21</td>\n",
       "    </tr>\n",
       "    <tr>\n",
       "      <th>1</th>\n",
       "      <td>True</td>\n",
       "      <td>0.14</td>\n",
       "      <td>0.14</td>\n",
       "      <td>0.95</td>\n",
       "      <td>-6.52</td>\n",
       "      <td>1.47</td>\n",
       "      <td>4.15</td>\n",
       "      <td>-0.33</td>\n",
       "      <td>0.0</td>\n",
       "      <td>0.0</td>\n",
       "      <td>3.22</td>\n",
       "      <td>-17.69</td>\n",
       "      <td>-80.78</td>\n",
       "      <td>-80.95</td>\n",
       "      <td>-80.82</td>\n",
       "      <td>-80.00</td>\n",
       "      <td>2.73</td>\n",
       "      <td>-44.11</td>\n",
       "      <td>4.58</td>\n",
       "      <td>-152.86</td>\n",
       "      <td>-475.00</td>\n",
       "      <td>16.30</td>\n",
       "      <td>4.74</td>\n",
       "      <td>6.55</td>\n",
       "      <td>7.32</td>\n",
       "      <td>5.68</td>\n",
       "      <td>16.75</td>\n",
       "      <td>17.18</td>\n",
       "      <td>-4.26</td>\n",
       "      <td>2.84</td>\n",
       "      <td>-3.72</td>\n",
       "      <td>1.07</td>\n",
       "      <td>-15.06</td>\n",
       "      <td>7.65</td>\n",
       "      <td>-5.02</td>\n",
       "      <td>18.36</td>\n",
       "      <td>0.00</td>\n",
       "      <td>-148.67</td>\n",
       "      <td>-10.26</td>\n",
       "    </tr>\n",
       "    <tr>\n",
       "      <th>2</th>\n",
       "      <td>True</td>\n",
       "      <td>0.10</td>\n",
       "      <td>0.10</td>\n",
       "      <td>1.20</td>\n",
       "      <td>-2.67</td>\n",
       "      <td>0.26</td>\n",
       "      <td>-4.83</td>\n",
       "      <td>3.66</td>\n",
       "      <td>0.0</td>\n",
       "      <td>0.0</td>\n",
       "      <td>0.01</td>\n",
       "      <td>10.30</td>\n",
       "      <td>49.58</td>\n",
       "      <td>49.37</td>\n",
       "      <td>48.98</td>\n",
       "      <td>49.48</td>\n",
       "      <td>0.00</td>\n",
       "      <td>54.09</td>\n",
       "      <td>10.90</td>\n",
       "      <td>1117.39</td>\n",
       "      <td>-157.14</td>\n",
       "      <td>-4.17</td>\n",
       "      <td>10.06</td>\n",
       "      <td>7.74</td>\n",
       "      <td>7.93</td>\n",
       "      <td>7.53</td>\n",
       "      <td>9.95</td>\n",
       "      <td>10.08</td>\n",
       "      <td>3.64</td>\n",
       "      <td>5.50</td>\n",
       "      <td>0.04</td>\n",
       "      <td>1.06</td>\n",
       "      <td>-9.03</td>\n",
       "      <td>-3.58</td>\n",
       "      <td>2.50</td>\n",
       "      <td>11.17</td>\n",
       "      <td>0.00</td>\n",
       "      <td>1030.00</td>\n",
       "      <td>2.28</td>\n",
       "    </tr>\n",
       "    <tr>\n",
       "      <th>3</th>\n",
       "      <td>True</td>\n",
       "      <td>0.16</td>\n",
       "      <td>0.16</td>\n",
       "      <td>2.15</td>\n",
       "      <td>7.53</td>\n",
       "      <td>2.16</td>\n",
       "      <td>-18.95</td>\n",
       "      <td>2.16</td>\n",
       "      <td>0.0</td>\n",
       "      <td>0.0</td>\n",
       "      <td>12.52</td>\n",
       "      <td>-1.39</td>\n",
       "      <td>56.86</td>\n",
       "      <td>58.28</td>\n",
       "      <td>58.06</td>\n",
       "      <td>56.45</td>\n",
       "      <td>0.00</td>\n",
       "      <td>117.83</td>\n",
       "      <td>-10.89</td>\n",
       "      <td>-106.39</td>\n",
       "      <td>-66.67</td>\n",
       "      <td>7.87</td>\n",
       "      <td>-9.14</td>\n",
       "      <td>4.81</td>\n",
       "      <td>3.76</td>\n",
       "      <td>6.01</td>\n",
       "      <td>7.24</td>\n",
       "      <td>6.73</td>\n",
       "      <td>2.03</td>\n",
       "      <td>0.50</td>\n",
       "      <td>-4.11</td>\n",
       "      <td>1.07</td>\n",
       "      <td>-6.41</td>\n",
       "      <td>10.09</td>\n",
       "      <td>0.04</td>\n",
       "      <td>7.65</td>\n",
       "      <td>0.00</td>\n",
       "      <td>-107.30</td>\n",
       "      <td>32.66</td>\n",
       "    </tr>\n",
       "    <tr>\n",
       "      <th>4</th>\n",
       "      <td>True</td>\n",
       "      <td>0.42</td>\n",
       "      <td>0.42</td>\n",
       "      <td>0.52</td>\n",
       "      <td>-2.79</td>\n",
       "      <td>0.47</td>\n",
       "      <td>13.78</td>\n",
       "      <td>0.64</td>\n",
       "      <td>0.0</td>\n",
       "      <td>0.0</td>\n",
       "      <td>-8.20</td>\n",
       "      <td>13.05</td>\n",
       "      <td>-355.00</td>\n",
       "      <td>-351.67</td>\n",
       "      <td>-358.33</td>\n",
       "      <td>-358.33</td>\n",
       "      <td>-0.54</td>\n",
       "      <td>-44.03</td>\n",
       "      <td>-3.71</td>\n",
       "      <td>125.00</td>\n",
       "      <td>2000.00</td>\n",
       "      <td>790.00</td>\n",
       "      <td>-4.68</td>\n",
       "      <td>-9.50</td>\n",
       "      <td>-9.03</td>\n",
       "      <td>-10.02</td>\n",
       "      <td>8.67</td>\n",
       "      <td>8.25</td>\n",
       "      <td>4.45</td>\n",
       "      <td>-3.40</td>\n",
       "      <td>6.09</td>\n",
       "      <td>1.08</td>\n",
       "      <td>-7.57</td>\n",
       "      <td>-12.47</td>\n",
       "      <td>4.34</td>\n",
       "      <td>8.03</td>\n",
       "      <td>0.00</td>\n",
       "      <td>107.58</td>\n",
       "      <td>-14.55</td>\n",
       "    </tr>\n",
       "  </tbody>\n",
       "</table>\n",
       "</div>"
      ],
      "text/plain": [
       "   price_will_increase?  Shares %-increase  Shares split adjusted %-increase  \\\n",
       "0                  True               0.39                              0.39   \n",
       "1                  True               0.14                              0.14   \n",
       "2                  True               0.10                              0.10   \n",
       "3                  True               0.16                              0.16   \n",
       "4                  True               0.42                              0.42   \n",
       "\n",
       "   Assets %-increase  Current Assets %-increase  Liabilities %-increase  \\\n",
       "0               1.08                      -7.24                    1.13   \n",
       "1               0.95                      -6.52                    1.47   \n",
       "2               1.20                      -2.67                    0.26   \n",
       "3               2.15                       7.53                    2.16   \n",
       "4               0.52                      -2.79                    0.47   \n",
       "\n",
       "   Current Liabilities %-increase  Shareholders equity %-increase  \\\n",
       "0                          -10.98                            0.97   \n",
       "1                            4.15                           -0.33   \n",
       "2                           -4.83                            3.66   \n",
       "3                          -18.95                            2.16   \n",
       "4                           13.78                            0.64   \n",
       "\n",
       "   Non-controlling interest %-increase  Goodwill & intangibles %-increase  \\\n",
       "0                                  0.0                                0.0   \n",
       "1                                  0.0                                0.0   \n",
       "2                                  0.0                                0.0   \n",
       "3                                  0.0                                0.0   \n",
       "4                                  0.0                                0.0   \n",
       "\n",
       "   Long-term debt %-increase  Revenue %-increase  Earnings %-increase  \\\n",
       "0                       4.61                9.65               179.71   \n",
       "1                       3.22              -17.69               -80.78   \n",
       "2                       0.01               10.30                49.58   \n",
       "3                      12.52               -1.39                56.86   \n",
       "4                      -8.20               13.05              -355.00   \n",
       "\n",
       "   Earnings available for common stockholders %-increase  \\\n",
       "0                                             180.88       \n",
       "1                                             -80.95       \n",
       "2                                              49.37       \n",
       "3                                              58.28       \n",
       "4                                            -351.67       \n",
       "\n",
       "   EPS basic %-increase  EPS diluted %-increase  \\\n",
       "0                178.57                  168.97   \n",
       "1                -80.82                  -80.00   \n",
       "2                 48.98                   49.48   \n",
       "3                 58.06                   56.45   \n",
       "4               -358.33                 -358.33   \n",
       "\n",
       "   Dividend per share %-increase  Cash from operating activities %-increase  \\\n",
       "0                           1.06                                     -20.04   \n",
       "1                           2.73                                     -44.11   \n",
       "2                           0.00                                      54.09   \n",
       "3                           0.00                                     117.83   \n",
       "4                          -0.54                                     -44.03   \n",
       "\n",
       "   Cash from investing activities %-increase  \\\n",
       "0                                      -8.10   \n",
       "1                                       4.58   \n",
       "2                                      10.90   \n",
       "3                                     -10.89   \n",
       "4                                      -3.71   \n",
       "\n",
       "   Cash from financing activities %-increase  \\\n",
       "0                                      29.05   \n",
       "1                                    -152.86   \n",
       "2                                    1117.39   \n",
       "3                                    -106.39   \n",
       "4                                     125.00   \n",
       "\n",
       "   Cash change during period %-increase  Cash at end of period %-increase  \\\n",
       "0                                -26.67                             10.28   \n",
       "1                               -475.00                             16.30   \n",
       "2                               -157.14                             -4.17   \n",
       "3                                -66.67                              7.87   \n",
       "4                               2000.00                            790.00   \n",
       "\n",
       "   Capital expenditures %-increase  Price %-increase  Price high %-increase  \\\n",
       "0                            -8.72              3.43                   5.58   \n",
       "1                             4.74              6.55                   7.32   \n",
       "2                            10.06              7.74                   7.93   \n",
       "3                            -9.14              4.81                   3.76   \n",
       "4                            -4.68             -9.50                  -9.03   \n",
       "\n",
       "   Price low %-increase  ROE %-increase  ROA %-increase  \\\n",
       "0                  0.99            3.21            3.58   \n",
       "1                  5.68           16.75           17.18   \n",
       "2                  7.53            9.95           10.08   \n",
       "3                  6.01            7.24            6.73   \n",
       "4                -10.02            8.67            8.25   \n",
       "\n",
       "   Book value of equity per share %-increase  P/B ratio %-increase  \\\n",
       "0                                       4.55                  7.83   \n",
       "1                                      -4.26                  2.84   \n",
       "2                                       3.64                  5.50   \n",
       "3                                       2.03                  0.50   \n",
       "4                                       4.45                 -3.40   \n",
       "\n",
       "   P/E ratio %-increase  Cumulative dividends per share %-increase  \\\n",
       "0                -13.01                                       1.06   \n",
       "1                 -3.72                                       1.07   \n",
       "2                  0.04                                       1.06   \n",
       "3                 -4.11                                       1.07   \n",
       "4                  6.09                                       1.08   \n",
       "\n",
       "   Dividend payout ratio %-increase  \\\n",
       "0                             -3.59   \n",
       "1                            -15.06   \n",
       "2                             -9.03   \n",
       "3                             -6.41   \n",
       "4                             -7.57   \n",
       "\n",
       "   Long-term debt to equity ratio %-increase  \\\n",
       "0                                      -0.35   \n",
       "1                                       7.65   \n",
       "2                                      -3.58   \n",
       "3                                      10.09   \n",
       "4                                     -12.47   \n",
       "\n",
       "   Equity to assets ratio %-increase  Net margin %-increase  \\\n",
       "0                               3.85                   5.32   \n",
       "1                              -5.02                  18.36   \n",
       "2                               2.50                  11.17   \n",
       "3                               0.04                   7.65   \n",
       "4                               4.34                   8.03   \n",
       "\n",
       "   Asset turnover %-increase  Free cash flow per share %-increase  \\\n",
       "0                      -4.17                                30.91   \n",
       "1                       0.00                              -148.67   \n",
       "2                       0.00                              1030.00   \n",
       "3                       0.00                              -107.30   \n",
       "4                       0.00                               107.58   \n",
       "\n",
       "   Current ratio %-increase  \n",
       "0                      4.21  \n",
       "1                    -10.26  \n",
       "2                      2.28  \n",
       "3                     32.66  \n",
       "4                    -14.55  "
      ]
     },
     "execution_count": 334,
     "metadata": {},
     "output_type": "execute_result"
    }
   ],
   "source": [
    "new_df.reset_index(drop=True, inplace=True)\n",
    "new_df.head()"
   ]
  },
  {
   "cell_type": "markdown",
   "metadata": {},
   "source": [
    "### Counting how many classes of True and False there are.\n",
    "Must make sure they are equal for future modeling."
   ]
  },
  {
   "cell_type": "code",
   "execution_count": 335,
   "metadata": {},
   "outputs": [
    {
     "data": {
      "text/plain": [
       "True     2346\n",
       "False    1493\n",
       "Name: price_will_increase?, dtype: int64"
      ]
     },
     "execution_count": 335,
     "metadata": {},
     "output_type": "execute_result"
    }
   ],
   "source": [
    "new_df['price_will_increase?'].value_counts()"
   ]
  },
  {
   "cell_type": "code",
   "execution_count": 337,
   "metadata": {},
   "outputs": [
    {
     "data": {
      "text/plain": [
       "853"
      ]
     },
     "execution_count": 337,
     "metadata": {},
     "output_type": "execute_result"
    }
   ],
   "source": [
    "# Determining how many True values to remove\n",
    "tlen = len(new_df[new_df['price_will_increase?']==True])\n",
    "flen = len(new_df[new_df['price_will_increase?']==False])\n",
    "tlen - flen"
   ]
  },
  {
   "cell_type": "markdown",
   "metadata": {},
   "source": [
    "#### Removing the excess True values"
   ]
  },
  {
   "cell_type": "code",
   "execution_count": 338,
   "metadata": {},
   "outputs": [
    {
     "name": "stderr",
     "output_type": "stream",
     "text": [
      "/anaconda3/lib/python3.7/site-packages/pandas/core/frame.py:3940: SettingWithCopyWarning: \n",
      "A value is trying to be set on a copy of a slice from a DataFrame\n",
      "\n",
      "See the caveats in the documentation: http://pandas.pydata.org/pandas-docs/stable/indexing.html#indexing-view-versus-copy\n",
      "  errors=errors)\n"
     ]
    }
   ],
   "source": [
    "import random\n",
    "\n",
    "# Selecting only the 'True' rows\n",
    "true_df = new_df[new_df['price_will_increase?']==True]\n",
    "\n",
    "# Randomly choosing rows\n",
    "drop_me = random.sample(list(true_df.index), 853)\n",
    "\n",
    "# Dropping rows\n",
    "true_df.drop(drop_me, inplace=True)"
   ]
  },
  {
   "cell_type": "markdown",
   "metadata": {},
   "source": [
    "#### Creating the final_df with True and False values equal"
   ]
  },
  {
   "cell_type": "code",
   "execution_count": 339,
   "metadata": {},
   "outputs": [
    {
     "data": {
      "text/plain": [
       "True     1493\n",
       "False    1493\n",
       "Name: price_will_increase?, dtype: int64"
      ]
     },
     "execution_count": 339,
     "metadata": {},
     "output_type": "execute_result"
    }
   ],
   "source": [
    "# First assigning the DF full of false values\n",
    "false_df = new_df[new_df['price_will_increase?']==False]\n",
    "\n",
    "# Concatenating both\n",
    "final_df = pd.concat([true_df, false_df])\n",
    "\n",
    "# Double checking to see if both values are the same\n",
    "final_df['price_will_increase?'].value_counts()"
   ]
  },
  {
   "cell_type": "markdown",
   "metadata": {},
   "source": [
    "### Exporting the final dataframe"
   ]
  },
  {
   "cell_type": "code",
   "execution_count": 340,
   "metadata": {},
   "outputs": [],
   "source": [
    "with open(\"final_df.pickle\", 'wb') as fp:\n",
    "    pickle.dump(final_df, fp)"
   ]
  },
  {
   "cell_type": "code",
   "execution_count": null,
   "metadata": {},
   "outputs": [],
   "source": []
  },
  {
   "cell_type": "code",
   "execution_count": null,
   "metadata": {},
   "outputs": [],
   "source": []
  }
 ],
 "metadata": {
  "kernelspec": {
   "display_name": "Python 3",
   "language": "python",
   "name": "python3"
  },
  "language_info": {
   "codemirror_mode": {
    "name": "ipython",
    "version": 3
   },
   "file_extension": ".py",
   "mimetype": "text/x-python",
   "name": "python",
   "nbconvert_exporter": "python",
   "pygments_lexer": "ipython3",
   "version": "3.7.3"
  }
 },
 "nbformat": 4,
 "nbformat_minor": 2
}
